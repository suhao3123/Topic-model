{
 "cells": [
  {
   "cell_type": "markdown",
   "metadata": {},
   "source": [
    "# Prerequisites"
   ]
  },
  {
   "cell_type": "code",
   "execution_count": 72,
   "metadata": {},
   "outputs": [],
   "source": [
    "# pip install PyMuPDF                    # (install PyMuPDF for extracting info from PDF files)\n",
    "# pip install tika                       # (install tika for extracting paragraphs from PDF files)\n",
    "# pip install spacy==2.2.0               # (install spacy for lemmatization)\n",
    "# conda install gensim                   # (intall gesim for topic modelling)\n",
    "# pip install pyLDAvis                   # (install pyLDAvis for topic modelling visulisation)\n",
    "# conda install -c conda-forge pyldavis  # (if you use aconda to install pyLADvis)"
   ]
  },
  {
   "cell_type": "code",
   "execution_count": 73,
   "metadata": {
    "scrolled": false
   },
   "outputs": [
    {
     "name": "stderr",
     "output_type": "stream",
     "text": [
      "[nltk_data] Error loading stopwords: <urlopen error [Errno 11004]\n",
      "[nltk_data]     getaddrinfo failed>\n"
     ]
    }
   ],
   "source": [
    "import pandas as pd\n",
    "import numpy as np\n",
    "import nltk; nltk.download('stopwords') \n",
    "from nltk.corpus import stopwords      # import stop words\n",
    "stop_words = stopwords.words('english')"
   ]
  },
  {
   "cell_type": "code",
   "execution_count": 74,
   "metadata": {},
   "outputs": [],
   "source": [
    "import re\n",
    "from pprint import pprint\n",
    "\n",
    "# glob for extracting the directories of metadata\n",
    "import glob\n",
    "\n",
    "# PyMuPDF\n",
    "import fitz\n",
    "\n",
    "# tika\n",
    "import tika               \n",
    "from tika import parser   \n",
    "\n",
    "# Gensim\n",
    "import gensim\n",
    "import gensim.corpora as corpora\n",
    "from gensim.utils import simple_preprocess\n",
    "from gensim.models import CoherenceModel\n",
    "\n",
    "# spacy for lemmatization\n",
    "import spacy\n",
    "\n",
    "# Visualisation\n",
    "import plotly.express as px\n",
    "import pyLDAvis\n",
    "import pyLDAvis.gensim_models\n",
    "import matplotlib.pyplot as plt\n",
    "%matplotlib inline\n",
    "\n",
    "# Enable logging for gensim - optional\n",
    "import logging\n",
    "logging.basicConfig(format='%(asctime)s : %(levelname)s : %(message)s', level=logging.ERROR)\n",
    "\n",
    "import warnings\n",
    "warnings.filterwarnings(\"ignore\",category=DeprecationWarning)"
   ]
  },
  {
   "cell_type": "markdown",
   "metadata": {},
   "source": [
    "#### define the random  seed as constants"
   ]
  },
  {
   "cell_type": "code",
   "execution_count": 75,
   "metadata": {},
   "outputs": [
    {
     "data": {
      "text/plain": [
       "Generator(PCG64) at 0x2576C87F200"
      ]
     },
     "execution_count": 75,
     "metadata": {},
     "output_type": "execute_result"
    }
   ],
   "source": [
    "np.random.default_rng(12345)"
   ]
  },
  {
   "cell_type": "markdown",
   "metadata": {},
   "source": [
    "# Import pdf files, data wrangling and overview"
   ]
  },
  {
   "cell_type": "code",
   "execution_count": 76,
   "metadata": {},
   "outputs": [
    {
     "data": {
      "text/plain": [
       "'D:\\\\LEON\\\\Business Analytics\\\\Study\\\\9. Business Project\\\\Data set\\\\Crossrail\\\\British_Railways_(London)_Bill_Lords_(By_Order)_20_Jan_1988.pdf'"
      ]
     },
     "execution_count": 76,
     "metadata": {},
     "output_type": "execute_result"
    }
   ],
   "source": [
    "# Extract the directories of the PDF files\n",
    "pdf_dir = \"D:\\LEON\\Business Analytics\\Study\\9. Business Project\\Data set\\Crossrail\"\n",
    "pdf_files = glob.glob(\"%s/*.pdf\" % pdf_dir)\n",
    "pdf_files[3]"
   ]
  },
  {
   "cell_type": "code",
   "execution_count": 77,
   "metadata": {},
   "outputs": [
    {
     "name": "stderr",
     "output_type": "stream",
     "text": [
      "mupdf: cmsOpenProfileFromMem failed\n"
     ]
    }
   ],
   "source": [
    "# Use PyMuPDF to extract all info of the PDF files (text, title, date, etc)\n",
    "list_metadata = []\n",
    "for i in pdf_files:\n",
    "    with fitz.open(i) as doc:\n",
    "        info = doc.metadata       \n",
    "        text = ''\n",
    "        for page in doc:\n",
    "            text+= page.getText()\n",
    "        info['Content'] = text\n",
    "    list_metadata.append(info)"
   ]
  },
  {
   "cell_type": "code",
   "execution_count": 78,
   "metadata": {},
   "outputs": [
    {
     "data": {
      "text/html": [
       "<div>\n",
       "<style scoped>\n",
       "    .dataframe tbody tr th:only-of-type {\n",
       "        vertical-align: middle;\n",
       "    }\n",
       "\n",
       "    .dataframe tbody tr th {\n",
       "        vertical-align: top;\n",
       "    }\n",
       "\n",
       "    .dataframe thead th {\n",
       "        text-align: right;\n",
       "    }\n",
       "</style>\n",
       "<table border=\"1\" class=\"dataframe\">\n",
       "  <thead>\n",
       "    <tr style=\"text-align: right;\">\n",
       "      <th></th>\n",
       "      <th>format</th>\n",
       "      <th>title</th>\n",
       "      <th>author</th>\n",
       "      <th>subject</th>\n",
       "      <th>keywords</th>\n",
       "      <th>creator</th>\n",
       "      <th>producer</th>\n",
       "      <th>creationDate</th>\n",
       "      <th>modDate</th>\n",
       "      <th>trapped</th>\n",
       "      <th>encryption</th>\n",
       "      <th>Content</th>\n",
       "    </tr>\n",
       "  </thead>\n",
       "  <tbody>\n",
       "    <tr>\n",
       "      <th>0</th>\n",
       "      <td>PDF 1.7</td>\n",
       "      <td></td>\n",
       "      <td>Katherine A Bloomfield</td>\n",
       "      <td></td>\n",
       "      <td></td>\n",
       "      <td>Microsoft® Word 2019</td>\n",
       "      <td>Microsoft® Word 2019</td>\n",
       "      <td>D:20201012160043+01'00'</td>\n",
       "      <td>D:20201012160043+01'00'</td>\n",
       "      <td></td>\n",
       "      <td>None</td>\n",
       "      <td>10-Year Transport Plan \\n \\n6. \\n \\nMr. Geoffr...</td>\n",
       "    </tr>\n",
       "    <tr>\n",
       "      <th>1</th>\n",
       "      <td>PDF 1.4</td>\n",
       "      <td></td>\n",
       "      <td></td>\n",
       "      <td></td>\n",
       "      <td></td>\n",
       "      <td>pdftk 2.02 - www.pdftk.com</td>\n",
       "      <td>itext-paulo-155 (itextpdf.sf.net-lowagie.com)</td>\n",
       "      <td>D:20190730052236Z</td>\n",
       "      <td>D:20190730052236Z</td>\n",
       "      <td></td>\n",
       "      <td>None</td>\n",
       "      <td>House of Commons \\nTransport, Local Government...</td>\n",
       "    </tr>\n",
       "    <tr>\n",
       "      <th>2</th>\n",
       "      <td>PDF 1.4</td>\n",
       "      <td>Microsoft Word - 021588</td>\n",
       "      <td>stellent</td>\n",
       "      <td></td>\n",
       "      <td></td>\n",
       "      <td>PScript5.dll Version 5.2</td>\n",
       "      <td>Acrobat Distiller 5.0.5 (Windows)</td>\n",
       "      <td>D:20041008151844+01'00'</td>\n",
       "      <td>D:20041008151844+01'00'</td>\n",
       "      <td></td>\n",
       "      <td>None</td>\n",
       "      <td>AnNew deal for Transport: Better for everyone ...</td>\n",
       "    </tr>\n",
       "  </tbody>\n",
       "</table>\n",
       "</div>"
      ],
      "text/plain": [
       "    format                    title                  author subject keywords  \\\n",
       "0  PDF 1.7                           Katherine A Bloomfield                    \n",
       "1  PDF 1.4                                                                     \n",
       "2  PDF 1.4  Microsoft Word - 021588                stellent                    \n",
       "\n",
       "                      creator                                       producer  \\\n",
       "0        Microsoft® Word 2019                           Microsoft® Word 2019   \n",
       "1  pdftk 2.02 - www.pdftk.com  itext-paulo-155 (itextpdf.sf.net-lowagie.com)   \n",
       "2    PScript5.dll Version 5.2              Acrobat Distiller 5.0.5 (Windows)   \n",
       "\n",
       "              creationDate                  modDate trapped encryption  \\\n",
       "0  D:20201012160043+01'00'  D:20201012160043+01'00'               None   \n",
       "1        D:20190730052236Z        D:20190730052236Z               None   \n",
       "2  D:20041008151844+01'00'  D:20041008151844+01'00'               None   \n",
       "\n",
       "                                             Content  \n",
       "0  10-Year Transport Plan \\n \\n6. \\n \\nMr. Geoffr...  \n",
       "1  House of Commons \\nTransport, Local Government...  \n",
       "2  AnNew deal for Transport: Better for everyone ...  "
      ]
     },
     "execution_count": 78,
     "metadata": {},
     "output_type": "execute_result"
    }
   ],
   "source": [
    "df = pd.DataFrame(list_metadata)\n",
    "df.head(3)"
   ]
  },
  {
   "cell_type": "code",
   "execution_count": 79,
   "metadata": {},
   "outputs": [
    {
     "name": "stdout",
     "output_type": "stream",
     "text": [
      "10-Year Transport Plan \n",
      " \n",
      "6. \n",
      " \n",
      "Mr. Geoffrey Clifton-Brown  (Cotswold) \n",
      "If he will make a statement on the recommendations in the recent report \n",
      "from the Transport Select Committee relating to the investment programme \n",
      "in the 10-year transport plan. [63716] \n",
      " \n",
      "The Secretary of State for Transport (Mr. Alistair Darling) \n",
      "We will respond to the Select Committee report in the normal way. In \n",
      "addition, as I said when I was  appointed to this job, 1 am looking at \n",
      "all the Department's policies, and I will keep the House informed of \n",
      "policy developments as and when appropriate. \n",
      " \n",
      "Mr. Clifton-Brown \n",
      "Paragraph 84 of the Select Committee's stingingly critical report on the \n",
      "Government's 10-year plan states: \"The Committee remains concerned about \n",
      "the lack of clarity surrounding the financing of the rail improvements in \n",
      "the 10 Year Plan…The lack of any detailed implementation plan is a major \n",
      "barrier to improving the railways.\" When can we expect from the \n",
      "Government some interim targets and a defined work programme? Indeed, \n",
      "when will the Government respond to the report, will a revised plan be \n",
      "produced, and will all such matters be smuggled out during the summer \n",
      "recess when Parliament is not sitting? \n",
      " \n",
      "Mr. Darling \n",
      "The report will be tabled in the normal way, when the House is sitting. \n",
      "In times past, particularly under a Conservative Government, funding for \n",
      "the railways—and, indeed, for everything else—was arranged on an annual \n",
      "basis. This Government have, for the first time, made clear the money \n",
      "available for 10 years through public and private sector sources. The \n",
      "Select Committee welcomed the Government's putting in place a 10-year \n",
      "plan as a major step forward for transport planning. That gives a degree \n",
      "of certainty that the industry never had in the past. On the specific \n",
      "problems that the hon. Gentleman raises and to which the Select Committee \n",
      "refers, now that Railtrack is in the course of being taken out of \n",
      "administration and Network Rail is being put in place, it will be \n",
      "possible to be far clearer about what the individual projects are and how \n",
      "we can deliver improvements year on year. However, I come back to the \n",
      "point that I made to the hon. Member for Maidenhead (Mrs. May). The \n",
      "difference between us and the Tories is that we are putting in place \n",
      "money for investment that was never available under Conservative \n",
      "Governments. The railways are having so much difficulty now because they \n",
      "are suffering from years of underinvestment. \n",
      " \n",
      "Clive Efford  (Eltham) \n",
      "I welcome my right hon. Friend's commitment to the railways and \n",
      "investment through the 10-year plan. Although I support schemes such as \n",
      "crossrail and the extension of the East London line, may I draw his \n",
      "attention to south-east London and the wider area, which also need \n",
      "increased capacity on the railways? Upgrading the electricity supply on \n",
      "the North Kent lines in particular would be a very significant \n",
      "improvement, adding capacity, increasing comfort and encouraging more \n",
      "people to use the railways. \n",
      " \n",
      "Mr. Darling \n",
      "I am aware of the problem referred to by my hon. Friend. As he will know, \n",
      "there is a substantial investment programme to introduce new railway \n",
      "carriages. I am also aware of the problems of electricity supply on a \n",
      "number of railway lines south of the river, and the Strategic Rail \n",
      "Authority is working to address them. Again, it comes back to the same \n",
      "point—the problems that we are encountering with the railways could have \n",
      "been foreseen 20 or 30 years ago, and we are paying a very high price for \n",
      "successive Governments' underinvestment. I share my hon. Friend's \n",
      "frustration about crossrail, or what is now the rather inappropriately \n",
      "named Thameslink 2000, considering that we do not have it yet. There is \n",
      "no doubt that the demands on London transport are substantial and are \n",
      "likely to be far greater as more expansion takes place, particularly in \n",
      "the east and the south-east of the city. I am anxious to ensure that we \n",
      "have both the money and workable plans in place. Sadly—I said this a few \n",
      "moments ago but the hon. Member for Maidenhead does not always listen to \n",
      "what I say, so I will repeat it—one of Railtrack's legacies is an \n",
      "appalling lack of planning, which needs to be addressed. \n",
      " \n",
      "Mr. Gary Streeter  (South-West Devon) \n",
      "In their 10-year plan, the Government have high hopes for rural bus \n",
      "services. However, the Secretary of State knows full well, and the \n",
      "Minister for Transport mentioned it earlier, that local councils such as \n",
      "the South Hams district council are prevented from entering into a local \n",
      "arrangement with bus companies and other partners, such as Age Concern, \n",
      "to provide tailor-made, demand-led services for needy people in rural \n",
      "areas. When will the Secretary of State come forward with proposals to \n",
      "remove these unnecessary regulations so that councils such as South Hams \n",
      "can provide the quality bus services that rural people really need? \n",
      " \n",
      "Mr. Darling \n",
      "Listening to the exchanges earlier between right hon. and hon. Members \n",
      "and my right hon. Friend the Minister for Transport brought back memories \n",
      "of the last time I really dealt with buses when, in 1986, I and other \n",
      "people had to pick up the pieces of bus deregulation introduced by the \n",
      "last Conservative Government. I am very sympathetic to calls from Members \n",
      "on both sides of the House for greater use of the bus. I believe that we \n",
      "can do an awful lot with bus services that cannot be done with trains or \n",
      "cars, and I want to encourage their greater use. I am aware that some \n",
      "councils can do and have done a lot to improve bus services, rural as \n",
      "well as urban, whereas councils in other areas are not doing so. That is \n",
      "one of the issues that I want to look at over the next few months to see \n",
      "whether we can improve the level of bus provision, not only in rural \n",
      "areas but in those which are not well served under the present system. I \n",
      "believe that bus transport could enable more people to move around than \n",
      "at present. We are not exploiting it enough and should do more about it. \n",
      " \n",
      "Mr. Kelvin Hopkins  (Luton, North) \n",
      "Does my right hon. Friend agree that the Central Railway scheme could \n",
      "make an enormous contribution to rail freight, provide vital economic \n",
      "links between the north, the midlands and the continent of Europe and \n",
      "make a great contribution to achieving the Government's 10-year transport \n",
      "plan? \n",
      " \n",
      "Mr. Darling \n",
      "As my hon. Friend knows, we want more freight users to use rail services. \n",
      "The Strategic Rail Authority is currently considering this and should \n",
      "provide us with advice and a report later this year, but I will keep my \n",
      "hon. Friend informed. \n",
      " \n",
      "Mr. Christopher Chope  (Christchurch) \n",
      "The Select Committee in effect condemned the plan as a confidence trick. \n",
      "The previous Secretary of State promised that there would be a revised \n",
      "plan this July. Will a revised plan be  published this July? Furthermore, \n",
      "does the Secretary of State have confidence in the present Chairman of \n",
      "the Transport Committee, the hon. Member for Crewe and Nantwich (Mrs. \n",
      "Dunwoody), and does he extend that confidence in her to endorsing her \n",
      "continued membership of the RMT? \n",
      " \n",
      "Mr. Darling \n",
      "Happily, the hon. Gentleman's last point lies outside my responsibility. \n",
      "I suspect that my hon. Friend the Member for Crewe and Nantwich (Mrs. \n",
      "Dunwoody) and I share exactly the same view of the hon. Gentleman—we are \n",
      "united on that. On what might be described as the hon. Gentleman's more \n",
      "substantial point—the 10-year plan—I made it clear in an earlier reply \n",
      "that I want to look at all aspects of the Department's policies and I am \n",
      "currently doing so. I do not envisage making revisals to the 10-year plan \n",
      "in July. We should build on what we are doing; the 10-year plan has set \n",
      "out an investment strategy that will bring much benefit across the board. \n",
      "What I shall do, however, is to respond to the Select Committee, as I \n",
      "have just said, and over the next few months I shall keep the House \n",
      "informed of the improvements and developments that will be necessary in \n",
      "relation to the plan. The 10-year plan is, in essence, an investment \n",
      "strategy and any such strategy must be capable of development and \n",
      "improvement. That is what we intend to do. When the hon. Gentleman next \n",
      "comes to the Dispatch Box, I hope that he will say whether he is prepared \n",
      "to match the investment that we are making or whether the Tories are \n",
      "still committed to cutting it, as they have been suggesting so far. \n",
      " \n",
      "\n"
     ]
    }
   ],
   "source": [
    "print(df.loc[0, 'Content']) # content of the first document"
   ]
  },
  {
   "cell_type": "code",
   "execution_count": 80,
   "metadata": {},
   "outputs": [
    {
     "name": "stdout",
     "output_type": "stream",
     "text": [
      "<class 'pandas.core.frame.DataFrame'>\n",
      "Int64Index: 229 entries, 0 to 228\n",
      "Data columns (total 13 columns):\n",
      " #   Column        Non-Null Count  Dtype \n",
      "---  ------        --------------  ----- \n",
      " 0   format        229 non-null    object\n",
      " 1   title         229 non-null    object\n",
      " 2   author        229 non-null    object\n",
      " 3   subject       229 non-null    object\n",
      " 4   keywords      229 non-null    object\n",
      " 5   creator       229 non-null    object\n",
      " 6   producer      229 non-null    object\n",
      " 7   creationDate  229 non-null    object\n",
      " 8   modDate       229 non-null    object\n",
      " 9   trapped       229 non-null    object\n",
      " 10  encryption    5 non-null      object\n",
      " 11  Content       229 non-null    object\n",
      " 12  Word_count    229 non-null    int64 \n",
      "dtypes: int64(1), object(12)\n",
      "memory usage: 25.0+ KB\n"
     ]
    }
   ],
   "source": [
    "df = df.drop_duplicates(subset = 'Content') # drop duplicate rows\n",
    "df = df.dropna(subset=['Content']) # drop rows whose text content is NaN\n",
    "df['Word_count'] = df ['Content'].str.count(' ') + 1\n",
    "df.info()"
   ]
  },
  {
   "cell_type": "markdown",
   "metadata": {},
   "source": [
    "### Word count"
   ]
  },
  {
   "cell_type": "code",
   "execution_count": 81,
   "metadata": {},
   "outputs": [
    {
     "data": {
      "text/plain": [
       "11132849"
      ]
     },
     "execution_count": 81,
     "metadata": {},
     "output_type": "execute_result"
    }
   ],
   "source": [
    "# Word count\n",
    "df['Word_count'].sum( )"
   ]
  },
  {
   "cell_type": "code",
   "execution_count": 82,
   "metadata": {},
   "outputs": [
    {
     "data": {
      "image/png": "[encoded data removed]",
      "text/plain": [
       "<Figure size 432x288 with 1 Axes>"
      ]
     },
     "metadata": {
      "needs_background": "light"
     },
     "output_type": "display_data"
    }
   ],
   "source": [
    "# Word count distribution\n",
    "import seaborn as sns\n",
    "ax1 = sns.distplot(df['Word_count'])\n",
    "ax1.set(title = 'Word Count Distribution',\n",
    "        xlabel = 'Word Count of Each Document');"
   ]
  },
  {
   "cell_type": "markdown",
   "metadata": {},
   "source": [
    "# Tokenization"
   ]
  },
  {
   "cell_type": "code",
   "execution_count": 83,
   "metadata": {
    "scrolled": false
   },
   "outputs": [],
   "source": [
    "data = df.Content.values.tolist()"
   ]
  },
  {
   "cell_type": "code",
   "execution_count": 84,
   "metadata": {},
   "outputs": [],
   "source": [
    "def sent_to_words(sentences):\n",
    "    for sentence in sentences:\n",
    "        yield(gensim.utils.simple_preprocess(str(sentence).encode('utf-8'), deacc=True))  # deacc=True removes punctuations\n",
    "\n",
    "data_words1 = list(sent_to_words(data))"
   ]
  },
  {
   "cell_type": "markdown",
   "metadata": {},
   "source": [
    "#### tripping out short words"
   ]
  },
  {
   "cell_type": "code",
   "execution_count": 85,
   "metadata": {},
   "outputs": [
    {
     "data": {
      "text/plain": [
       "['year',\n",
       " 'transport',\n",
       " 'plan',\n",
       " 'geoffrey',\n",
       " 'clifton',\n",
       " 'brown',\n",
       " 'cotswold',\n",
       " 'will',\n",
       " 'make',\n",
       " 'statement',\n",
       " 'recommendations',\n",
       " 'recent',\n",
       " 'report',\n",
       " 'from',\n",
       " 'transport',\n",
       " 'select',\n",
       " 'committee',\n",
       " 'relating',\n",
       " 'investment',\n",
       " 'programme',\n",
       " 'year',\n",
       " 'transport',\n",
       " 'plan',\n",
       " 'secretary',\n",
       " 'state',\n",
       " 'transport',\n",
       " 'alistair',\n",
       " 'darling',\n",
       " 'will',\n",
       " 'respond',\n",
       " 'select',\n",
       " 'committee',\n",
       " 'report',\n",
       " 'normal',\n",
       " 'addition',\n",
       " 'said',\n",
       " 'when',\n",
       " 'appointed',\n",
       " 'this',\n",
       " 'looking',\n",
       " 'department',\n",
       " 'policies',\n",
       " 'will',\n",
       " 'keep',\n",
       " 'house',\n",
       " 'informed',\n",
       " 'policy',\n",
       " 'developments',\n",
       " 'when',\n",
       " 'appropriate',\n",
       " 'clifton',\n",
       " 'brown',\n",
       " 'paragraph',\n",
       " 'select',\n",
       " 'committee',\n",
       " 'stingingly',\n",
       " 'critical',\n",
       " 'report',\n",
       " 'government',\n",
       " 'year',\n",
       " 'plan',\n",
       " 'states',\n",
       " 'committee',\n",
       " 'remains',\n",
       " 'concerned',\n",
       " 'about',\n",
       " 'lack',\n",
       " 'clarity',\n",
       " 'surrounding',\n",
       " 'financing',\n",
       " 'rail',\n",
       " 'improvements',\n",
       " 'year',\n",
       " 'plan',\n",
       " 'lack',\n",
       " 'detailed',\n",
       " 'implementation',\n",
       " 'plan',\n",
       " 'major',\n",
       " 'barrier',\n",
       " 'improving',\n",
       " 'railways',\n",
       " 'when',\n",
       " 'expect',\n",
       " 'from',\n",
       " 'government',\n",
       " 'some',\n",
       " 'interim',\n",
       " 'targets',\n",
       " 'defined',\n",
       " 'work',\n",
       " 'programme',\n",
       " 'indeed',\n",
       " 'when',\n",
       " 'will',\n",
       " 'government',\n",
       " 'respond',\n",
       " 'report',\n",
       " 'will',\n",
       " 'revised',\n",
       " 'plan',\n",
       " 'produced',\n",
       " 'will',\n",
       " 'such',\n",
       " 'matters',\n",
       " 'smuggled',\n",
       " 'during',\n",
       " 'summer',\n",
       " 'recess',\n",
       " 'when',\n",
       " 'parliament',\n",
       " 'sitting',\n",
       " 'darling',\n",
       " 'report',\n",
       " 'will',\n",
       " 'tabled',\n",
       " 'normal',\n",
       " 'when',\n",
       " 'house',\n",
       " 'sitting',\n",
       " 'times',\n",
       " 'past',\n",
       " 'particularly',\n",
       " 'under',\n",
       " 'conservative',\n",
       " 'government',\n",
       " 'funding',\n",
       " 'railways',\n",
       " 'indeed',\n",
       " 'everything',\n",
       " 'else',\n",
       " 'arranged',\n",
       " 'annual',\n",
       " 'basis',\n",
       " 'this',\n",
       " 'government',\n",
       " 'have',\n",
       " 'first',\n",
       " 'time',\n",
       " 'made',\n",
       " 'clear',\n",
       " 'money',\n",
       " 'available',\n",
       " 'years',\n",
       " 'through',\n",
       " 'public',\n",
       " 'private',\n",
       " 'sector',\n",
       " 'sources',\n",
       " 'select',\n",
       " 'committee',\n",
       " 'welcomed',\n",
       " 'government',\n",
       " 'putting',\n",
       " 'place',\n",
       " 'year',\n",
       " 'plan',\n",
       " 'major',\n",
       " 'step',\n",
       " 'forward',\n",
       " 'transport',\n",
       " 'planning',\n",
       " 'that',\n",
       " 'gives',\n",
       " 'degree',\n",
       " 'certainty',\n",
       " 'that',\n",
       " 'industry',\n",
       " 'never',\n",
       " 'past',\n",
       " 'specific',\n",
       " 'problems',\n",
       " 'that',\n",
       " 'gentleman',\n",
       " 'raises',\n",
       " 'which',\n",
       " 'select',\n",
       " 'committee',\n",
       " 'refers',\n",
       " 'that',\n",
       " 'railtrack',\n",
       " 'course',\n",
       " 'being',\n",
       " 'taken',\n",
       " 'administration',\n",
       " 'network',\n",
       " 'rail',\n",
       " 'being',\n",
       " 'place',\n",
       " 'will',\n",
       " 'possible',\n",
       " 'clearer',\n",
       " 'about',\n",
       " 'what',\n",
       " 'individual',\n",
       " 'projects',\n",
       " 'deliver',\n",
       " 'improvements',\n",
       " 'year',\n",
       " 'year',\n",
       " 'however',\n",
       " 'come',\n",
       " 'back',\n",
       " 'point',\n",
       " 'that',\n",
       " 'made',\n",
       " 'member',\n",
       " 'maidenhead',\n",
       " 'difference',\n",
       " 'between',\n",
       " 'tories',\n",
       " 'that',\n",
       " 'putting',\n",
       " 'place',\n",
       " 'money',\n",
       " 'investment',\n",
       " 'that',\n",
       " 'never',\n",
       " 'available',\n",
       " 'under',\n",
       " 'conservative',\n",
       " 'governments',\n",
       " 'railways',\n",
       " 'having',\n",
       " 'much',\n",
       " 'difficulty',\n",
       " 'because',\n",
       " 'they',\n",
       " 'suffering',\n",
       " 'from',\n",
       " 'years',\n",
       " 'underinvestment',\n",
       " 'clive',\n",
       " 'efford',\n",
       " 'eltham',\n",
       " 'welcome',\n",
       " 'right',\n",
       " 'friend',\n",
       " 'commitment',\n",
       " 'railways',\n",
       " 'investment',\n",
       " 'through',\n",
       " 'year',\n",
       " 'plan',\n",
       " 'although',\n",
       " 'support',\n",
       " 'schemes',\n",
       " 'such',\n",
       " 'crossrail',\n",
       " 'extension',\n",
       " 'east',\n",
       " 'london',\n",
       " 'line',\n",
       " 'draw',\n",
       " 'attention',\n",
       " 'south',\n",
       " 'east',\n",
       " 'london',\n",
       " 'wider',\n",
       " 'area',\n",
       " 'which',\n",
       " 'also',\n",
       " 'need',\n",
       " 'increased',\n",
       " 'capacity',\n",
       " 'railways',\n",
       " 'upgrading',\n",
       " 'electricity',\n",
       " 'supply',\n",
       " 'north',\n",
       " 'kent',\n",
       " 'lines',\n",
       " 'particular',\n",
       " 'would',\n",
       " 'very',\n",
       " 'significant',\n",
       " 'improvement',\n",
       " 'adding',\n",
       " 'capacity',\n",
       " 'increasing',\n",
       " 'comfort',\n",
       " 'encouraging',\n",
       " 'more',\n",
       " 'people',\n",
       " 'railways',\n",
       " 'darling',\n",
       " 'aware',\n",
       " 'problem',\n",
       " 'referred',\n",
       " 'friend',\n",
       " 'will',\n",
       " 'know',\n",
       " 'there',\n",
       " 'substantial',\n",
       " 'investment',\n",
       " 'programme',\n",
       " 'introduce',\n",
       " 'railway',\n",
       " 'carriages',\n",
       " 'also',\n",
       " 'aware',\n",
       " 'problems',\n",
       " 'electricity',\n",
       " 'supply',\n",
       " 'number',\n",
       " 'railway',\n",
       " 'lines',\n",
       " 'south',\n",
       " 'river',\n",
       " 'strategic',\n",
       " 'rail',\n",
       " 'authority',\n",
       " 'working',\n",
       " 'address',\n",
       " 'them',\n",
       " 'again',\n",
       " 'comes',\n",
       " 'back',\n",
       " 'same',\n",
       " 'point',\n",
       " 'problems',\n",
       " 'that',\n",
       " 'encountering',\n",
       " 'with',\n",
       " 'railways',\n",
       " 'could',\n",
       " 'have',\n",
       " 'been',\n",
       " 'foreseen',\n",
       " 'years',\n",
       " 'paying',\n",
       " 'very',\n",
       " 'high',\n",
       " 'price',\n",
       " 'successive',\n",
       " 'governments',\n",
       " 'underinvestment',\n",
       " 'share',\n",
       " 'friend',\n",
       " 'frustration',\n",
       " 'about',\n",
       " 'crossrail',\n",
       " 'what',\n",
       " 'rather',\n",
       " 'inappropriately',\n",
       " 'named',\n",
       " 'thameslink',\n",
       " 'considering',\n",
       " 'that',\n",
       " 'have',\n",
       " 'there',\n",
       " 'doubt',\n",
       " 'that',\n",
       " 'demands',\n",
       " 'london',\n",
       " 'transport',\n",
       " 'substantial',\n",
       " 'likely',\n",
       " 'greater',\n",
       " 'more',\n",
       " 'expansion',\n",
       " 'takes',\n",
       " 'place',\n",
       " 'particularly',\n",
       " 'east',\n",
       " 'south',\n",
       " 'east',\n",
       " 'city',\n",
       " 'anxious',\n",
       " 'ensure',\n",
       " 'that',\n",
       " 'have',\n",
       " 'both',\n",
       " 'money',\n",
       " 'workable',\n",
       " 'plans',\n",
       " 'place',\n",
       " 'sadly',\n",
       " 'said',\n",
       " 'this',\n",
       " 'moments',\n",
       " 'member',\n",
       " 'maidenhead',\n",
       " 'does',\n",
       " 'always',\n",
       " 'listen',\n",
       " 'what',\n",
       " 'will',\n",
       " 'repeat',\n",
       " 'railtrack',\n",
       " 'legacies',\n",
       " 'appalling',\n",
       " 'lack',\n",
       " 'planning',\n",
       " 'which',\n",
       " 'needs',\n",
       " 'addressed',\n",
       " 'gary',\n",
       " 'streeter',\n",
       " 'south',\n",
       " 'west',\n",
       " 'devon',\n",
       " 'their',\n",
       " 'year',\n",
       " 'plan',\n",
       " 'government',\n",
       " 'have',\n",
       " 'high',\n",
       " 'hopes',\n",
       " 'rural',\n",
       " 'services',\n",
       " 'however',\n",
       " 'secretary',\n",
       " 'state',\n",
       " 'knows',\n",
       " 'full',\n",
       " 'well',\n",
       " 'minister',\n",
       " 'transport',\n",
       " 'mentioned',\n",
       " 'earlier',\n",
       " 'that',\n",
       " 'local',\n",
       " 'councils',\n",
       " 'such',\n",
       " 'south',\n",
       " 'hams',\n",
       " 'district',\n",
       " 'council',\n",
       " 'prevented',\n",
       " 'from',\n",
       " 'entering',\n",
       " 'into',\n",
       " 'local',\n",
       " 'arrangement',\n",
       " 'with',\n",
       " 'companies',\n",
       " 'other',\n",
       " 'partners',\n",
       " 'such',\n",
       " 'concern',\n",
       " 'provide',\n",
       " 'tailor',\n",
       " 'made',\n",
       " 'demand',\n",
       " 'services',\n",
       " 'needy',\n",
       " 'people',\n",
       " 'rural',\n",
       " 'areas',\n",
       " 'when',\n",
       " 'will',\n",
       " 'secretary',\n",
       " 'state',\n",
       " 'come',\n",
       " 'forward',\n",
       " 'with',\n",
       " 'proposals',\n",
       " 'remove',\n",
       " 'these',\n",
       " 'unnecessary',\n",
       " 'regulations',\n",
       " 'that',\n",
       " 'councils',\n",
       " 'such',\n",
       " 'south',\n",
       " 'hams',\n",
       " 'provide',\n",
       " 'quality',\n",
       " 'services',\n",
       " 'that',\n",
       " 'rural',\n",
       " 'people',\n",
       " 'really',\n",
       " 'need',\n",
       " 'darling',\n",
       " 'listening',\n",
       " 'exchanges',\n",
       " 'earlier',\n",
       " 'between',\n",
       " 'right',\n",
       " 'members',\n",
       " 'right',\n",
       " 'friend',\n",
       " 'minister',\n",
       " 'transport',\n",
       " 'brought',\n",
       " 'back',\n",
       " 'memories',\n",
       " 'last',\n",
       " 'time',\n",
       " 'really',\n",
       " 'dealt',\n",
       " 'with',\n",
       " 'buses',\n",
       " 'when',\n",
       " 'other',\n",
       " 'people',\n",
       " 'pick',\n",
       " 'pieces',\n",
       " 'deregulation',\n",
       " 'introduced',\n",
       " 'last',\n",
       " 'conservative',\n",
       " 'government',\n",
       " 'very',\n",
       " 'sympathetic',\n",
       " 'calls',\n",
       " 'from',\n",
       " 'members',\n",
       " 'both',\n",
       " 'sides',\n",
       " 'house',\n",
       " 'greater',\n",
       " 'believe',\n",
       " 'that',\n",
       " 'awful',\n",
       " 'with',\n",
       " 'services',\n",
       " 'that',\n",
       " 'cannot',\n",
       " 'done',\n",
       " 'with',\n",
       " 'trains',\n",
       " 'cars',\n",
       " 'want',\n",
       " 'encourage',\n",
       " 'their',\n",
       " 'greater',\n",
       " 'aware',\n",
       " 'that',\n",
       " 'some',\n",
       " 'councils',\n",
       " 'have',\n",
       " 'done',\n",
       " 'improve',\n",
       " 'services',\n",
       " 'rural',\n",
       " 'well',\n",
       " 'urban',\n",
       " 'whereas',\n",
       " 'councils',\n",
       " 'other',\n",
       " 'areas',\n",
       " 'doing',\n",
       " 'that',\n",
       " 'issues',\n",
       " 'that',\n",
       " 'want',\n",
       " 'look',\n",
       " 'over',\n",
       " 'next',\n",
       " 'months',\n",
       " 'whether',\n",
       " 'improve',\n",
       " 'level',\n",
       " 'provision',\n",
       " 'only',\n",
       " 'rural',\n",
       " 'areas',\n",
       " 'those',\n",
       " 'which',\n",
       " 'well',\n",
       " 'served',\n",
       " 'under',\n",
       " 'present',\n",
       " 'system',\n",
       " 'believe',\n",
       " 'that',\n",
       " 'transport',\n",
       " 'could',\n",
       " 'enable',\n",
       " 'more',\n",
       " 'people',\n",
       " 'move',\n",
       " 'around',\n",
       " 'than',\n",
       " 'present',\n",
       " 'exploiting',\n",
       " 'enough',\n",
       " 'should',\n",
       " 'more',\n",
       " 'about',\n",
       " 'kelvin',\n",
       " 'hopkins',\n",
       " 'luton',\n",
       " 'north',\n",
       " 'does',\n",
       " 'right',\n",
       " 'friend',\n",
       " 'agree',\n",
       " 'that',\n",
       " 'central',\n",
       " 'railway',\n",
       " 'scheme',\n",
       " 'could',\n",
       " 'make',\n",
       " 'enormous',\n",
       " 'contribution',\n",
       " 'rail',\n",
       " 'freight',\n",
       " 'provide',\n",
       " 'vital',\n",
       " 'economic',\n",
       " 'links',\n",
       " 'between',\n",
       " 'north',\n",
       " 'midlands',\n",
       " 'continent',\n",
       " 'europe',\n",
       " 'make',\n",
       " 'great',\n",
       " 'contribution',\n",
       " 'achieving',\n",
       " 'government',\n",
       " 'year',\n",
       " 'transport',\n",
       " 'plan',\n",
       " 'darling',\n",
       " 'friend',\n",
       " 'knows',\n",
       " 'want',\n",
       " 'more',\n",
       " 'freight',\n",
       " 'users',\n",
       " 'rail',\n",
       " 'services',\n",
       " 'strategic',\n",
       " 'rail',\n",
       " 'authority',\n",
       " 'currently',\n",
       " 'considering',\n",
       " 'this',\n",
       " 'should',\n",
       " 'provide',\n",
       " 'with',\n",
       " 'advice',\n",
       " 'report',\n",
       " 'later',\n",
       " 'this',\n",
       " 'year',\n",
       " 'will',\n",
       " 'keep',\n",
       " 'friend',\n",
       " 'informed',\n",
       " 'christopher',\n",
       " 'chope',\n",
       " 'christchurch',\n",
       " 'select',\n",
       " 'committee',\n",
       " 'effect',\n",
       " 'condemned',\n",
       " 'plan',\n",
       " 'confidence',\n",
       " 'trick',\n",
       " 'previous',\n",
       " 'secretary',\n",
       " 'state',\n",
       " 'promised',\n",
       " 'that',\n",
       " 'there',\n",
       " 'would',\n",
       " 'revised',\n",
       " 'plan',\n",
       " 'this',\n",
       " 'july',\n",
       " 'will',\n",
       " 'revised',\n",
       " 'plan',\n",
       " 'published',\n",
       " 'this',\n",
       " 'july',\n",
       " 'furthermore',\n",
       " 'does',\n",
       " 'secretary',\n",
       " 'state',\n",
       " 'have',\n",
       " 'confidence',\n",
       " 'present',\n",
       " 'chairman',\n",
       " 'transport',\n",
       " 'committee',\n",
       " 'member',\n",
       " 'crewe',\n",
       " 'nantwich',\n",
       " 'dunwoody',\n",
       " 'does',\n",
       " 'extend',\n",
       " 'that',\n",
       " 'confidence',\n",
       " 'endorsing',\n",
       " 'continued',\n",
       " 'membership',\n",
       " 'darling',\n",
       " 'happily',\n",
       " 'gentleman',\n",
       " 'last',\n",
       " 'point',\n",
       " 'lies',\n",
       " 'outside',\n",
       " 'responsibility',\n",
       " 'suspect',\n",
       " 'that',\n",
       " 'friend',\n",
       " 'member',\n",
       " 'crewe',\n",
       " 'nantwich',\n",
       " 'dunwoody',\n",
       " 'share',\n",
       " 'exactly',\n",
       " 'same',\n",
       " 'view',\n",
       " 'gentleman',\n",
       " 'united',\n",
       " 'that',\n",
       " 'what',\n",
       " 'might',\n",
       " 'described',\n",
       " 'gentleman',\n",
       " 'more',\n",
       " 'substantial',\n",
       " 'point',\n",
       " 'year',\n",
       " 'plan',\n",
       " 'made',\n",
       " 'clear',\n",
       " 'earlier',\n",
       " 'reply',\n",
       " 'that',\n",
       " 'want',\n",
       " 'look',\n",
       " 'aspects',\n",
       " 'department',\n",
       " 'policies',\n",
       " 'currently',\n",
       " 'doing',\n",
       " 'envisage',\n",
       " 'making',\n",
       " 'revisals',\n",
       " 'year',\n",
       " 'plan',\n",
       " 'july',\n",
       " 'should',\n",
       " 'build',\n",
       " 'what',\n",
       " 'doing',\n",
       " 'year',\n",
       " 'plan',\n",
       " 'investment',\n",
       " 'strategy',\n",
       " 'that',\n",
       " 'will',\n",
       " 'bring',\n",
       " 'much',\n",
       " 'benefit',\n",
       " 'across',\n",
       " 'board',\n",
       " 'what',\n",
       " 'shall',\n",
       " 'however',\n",
       " 'respond',\n",
       " 'select',\n",
       " 'committee',\n",
       " 'have',\n",
       " 'just',\n",
       " 'said',\n",
       " 'over',\n",
       " 'next',\n",
       " 'months',\n",
       " 'shall',\n",
       " 'keep',\n",
       " 'house',\n",
       " 'informed',\n",
       " 'improvements',\n",
       " 'developments',\n",
       " 'that',\n",
       " 'will',\n",
       " 'necessary',\n",
       " 'relation',\n",
       " 'plan',\n",
       " 'year',\n",
       " 'plan',\n",
       " 'essence',\n",
       " 'investment',\n",
       " 'strategy',\n",
       " 'such',\n",
       " 'strategy',\n",
       " 'must',\n",
       " 'capable',\n",
       " 'development',\n",
       " 'improvement',\n",
       " 'that',\n",
       " 'what',\n",
       " 'intend',\n",
       " 'when',\n",
       " 'gentleman',\n",
       " 'next',\n",
       " 'comes',\n",
       " 'dispatch',\n",
       " 'hope',\n",
       " 'that',\n",
       " 'will',\n",
       " 'whether',\n",
       " 'prepared',\n",
       " 'match',\n",
       " 'investment',\n",
       " 'that',\n",
       " 'making',\n",
       " 'whether',\n",
       " 'tories',\n",
       " 'still',\n",
       " 'committed',\n",
       " 'cutting',\n",
       " 'they',\n",
       " 'have',\n",
       " 'been',\n",
       " 'suggesting']"
      ]
     },
     "execution_count": 85,
     "metadata": {},
     "output_type": "execute_result"
    }
   ],
   "source": [
    "minimum_len = 4 # set the length of word threshold for removing the words less than the threshold\n",
    "data_words = []\n",
    "for i in data_words1:\n",
    "    new_element = [x for x in i if len(x) >= minimum_len]\n",
    "    data_words.append(new_element)\n",
    "data_words[0]"
   ]
  },
  {
   "cell_type": "markdown",
   "metadata": {},
   "source": [
    "# Remove Stopwords, Make Bigrams and Trigrams, and Lemmatisation"
   ]
  },
  {
   "cell_type": "code",
   "execution_count": 87,
   "metadata": {},
   "outputs": [],
   "source": [
    "# Build the bigram and trigram models\n",
    "bigram = gensim.models.Phrases(data_words, min_count=5, threshold=100) # higher threshold fewer phrases.\n",
    "trigram = gensim.models.Phrases(bigram[data_words], threshold=100)  \n",
    "bigram_mod = gensim.models.phrases.Phraser(bigram)\n",
    "trigram_mod = gensim.models.phrases.Phraser(trigram)"
   ]
  },
  {
   "cell_type": "code",
   "execution_count": 88,
   "metadata": {},
   "outputs": [],
   "source": [
    "# Define functions for stopwords, bigrams, trigrams and lemmatization\n",
    "def remove_stopwords(texts):\n",
    "    return [[word for word in simple_preprocess(str(doc)) if word not in stop_words] for doc in texts]\n",
    "\n",
    "def make_bigrams(texts):\n",
    "    return [bigram_mod[doc] for doc in texts]\n",
    "\n",
    "def make_trigrams(texts):\n",
    "    return [trigram_mod[bigram_mod[doc]] for doc in texts]\n",
    "\n",
    "def lemmatization(texts, allowed_postags=['NOUN', 'ADJ', 'VERB', 'ADV']):\n",
    "    \"\"\"https://spacy.io/api/annotation\"\"\"\n",
    "    texts_out = []\n",
    "    for sent in texts:\n",
    "        doc = nlp(\" \".join(sent)) \n",
    "        texts_out.append([token.lemma_ for token in doc if token.pos_ in allowed_postags])\n",
    "    return texts_out"
   ]
  },
  {
   "cell_type": "code",
   "execution_count": 89,
   "metadata": {},
   "outputs": [
    {
     "name": "stdout",
     "output_type": "stream",
     "text": [
      "[['year', 'transport', 'geoffrey_clifton_brown', 'cotswold', 'make', 'statement', 'recommendation', 'recent', 'report', 'transport', 'committee', 'relate', 'investment', 'year', 'transport', 'plan', 'transport', 'committee', 'report', 'normal', 'addition', 'say', 'appoint', 'look', 'department', 'policy', 'keep', 'house', 'informed', 'policy', 'development', 'appropriate', 'committee', 'stingingly', 'critical', 'report', 'government', 'year', 'remain', 'concerned', 'surround', 'financing', 'rail', 'lack', 'detailed', 'implementation', 'plan', 'major', 'barrier', 'improve', 'railway', 'expect', 'government', 'interim', 'target', 'define', 'work', 'programme', 'indeed', 'government', 'respond', 'report', 'revise', 'plan', 'produce', 'matter', 'smuggle', 'summer_recess', 'parliament', 'sit', 'darling', 'report', 'table', 'normal', 'house', 'sit', 'time', 'particularly', 'conservative', 'government', 'funding', 'railway', 'indeed', 'everything_else', 'arrange', 'annual', 'basis', 'government', 'first', 'time', 'make', 'clear', 'money', 'available', 'year', 'public', 'source', 'select', 'committee', 'welcome', 'government', 'put', 'place', 'year', 'plan', 'major', 'step', 'forward', 'transport', 'planning', 'give', 'degree', 'certainty', 'industry', 'never', 'past', 'specific', 'problem', 'raise', 'select', 'committee', 'refer', 'take', 'administration', 'network', 'rail', 'place', 'possible', 'clear', 'individual', 'project', 'deliver', 'improvement', 'year', 'year', 'however', 'come', 'back', 'point', 'make', 'member', 'maidenhead', 'difference', 'tory', 'put', 'place', 'money', 'investment', 'never', 'available', 'conservative', 'government', 'railway', 'much', 'difficulty', 'suffer', 'year', 'underinvestment', 'welcome', 'right', 'friend', 'commitment', 'railway', 'year', 'plan', 'support', 'scheme', 'crossrail', 'wide', 'area', 'also', 'need', 'increase', 'capacity', 'railway', 'upgrade', 'line', 'particular', 'would', 'significant', 'improvement', 'add', 'capacity', 'increase', 'comfort', 'encourage', 'people', 'railway', 'darle', 'aware', 'problem', 'refer', 'friend', 'know', 'substantial', 'investment', 'programme', 'introduce', 'railway', 'carriage', 'also', 'aware', 'problem', 'number', 'railway', 'line', 'work', 'address', 'come', 'back', 'point', 'problem', 'encounter', 'railway', 'could', 'foreseen', 'year', 'pay', 'high', 'price', 'successive_government', 'underinvestment', 'share', 'friend', 'frustration', 'crossrail', 'rather', 'inappropriately', 'name', 'thameslink', 'consider', 'doubt', 'demand', 'transport', 'substantial', 'likely', 'great', 'expansion', 'take', 'place', 'particularly', 'city', 'anxious', 'ensure', 'money', 'workable', 'plan', 'place', 'sadly', 'say', 'moment', 'member', 'always', 'listen', 'repeat', 'railtrack', 'legacy', 'appalling', 'lack', 'planning', 'need', 'address', 'government', 'high', 'hope', 'rural', 'service', 'however', 'know', 'full', 'well', 'transport', 'mention', 'early', 'local', 'council', 'south', 'ham', 'prevent', 'enter', 'local', 'arrangement', 'company', 'partner', 'concern', 'provide', 'tailor', 'make', 'demand', 'service', 'needy', 'people', 'rural', 'area', 'come', 'forward', 'proposal', 'remove', 'unnecessary', 'regulation', 'council', 'ham', 'provide', 'quality', 'service', 'rural', 'people', 'really', 'need', 'darling', 'listening', 'exchange', 'early', 'right', 'member', 'right', 'friend', 'transport', 'bring', 'back', 'memory', 'last', 'time', 'really', 'deal', 'bus', 'people', 'pick_piece', 'deregulation', 'introduce', 'last', 'conservative', 'government', 'sympathetic', 'call', 'member', 'side', 'great', 'believe', 'awful', 'service', 'can', 'do', 'train', 'car', 'want', 'encourage', 'great', 'aware', 'council', 'do', 'improve', 'service', 'rural', 'well', 'urban', 'council', 'area', 'issue', 'want', 'look', 'next', 'month', 'improve', 'level', 'provision', 'rural', 'area', 'well', 'serve', 'present', 'system', 'believe', 'transport', 'could', 'enable', 'people', 'move', 'around', 'present', 'exploit', 'enough', 'right', 'friend', 'agree', 'central', 'railway', 'scheme', 'could', 'make', 'enormous', 'contribution', 'rail', 'freight', 'provide', 'vital', 'economic', 'link', 'north', 'midland', 'make', 'great', 'contribution', 'achieve', 'government', 'year', 'transport', 'plan', 'darle', 'friend', 'know', 'want', 'freight', 'user', 'authority', 'currently', 'consider', 'provide', 'advice', 'report', 'later', 'year', 'keep', 'friend', 'inform', 'committee', 'effect', 'condemn', 'plan', 'confidence', 'trick', 'previous', 'promise', 'would', 'revise', 'plan', 'revise', 'plan', 'publish', 'furthermore', 'secretary_state', 'confidence', 'present', 'transport', 'member_crewe_nantwich_dunwoody', 'extend', 'confidence', 'endorse', 'continued', 'membership', 'darle', 'happily', 'last', 'point', 'lie', 'responsibility', 'suspect', 'dunwoody', 'share', 'exactly', 'view', 'describe', 'substantial', 'year', 'plan', 'make', 'clear', 'early', 'reply', 'want', 'look', 'aspect', 'department', 'policy', 'currently', 'envisage', 'make', 'revisal', 'year', 'year', 'plan', 'investment', 'strategy', 'bring', 'much', 'benefit', 'board', 'shall', 'however', 'respond', 'committee', 'say', 'next', 'month', 'shall', 'keep', 'house', 'informed', 'improvement', 'development', 'necessary', 'relation', 'plan', 'year', 'plan', 'investment', 'strategy', 'strategy', 'must', 'capable', 'development', 'improvement', 'intend', 'come', 'dispatch', 'hope', 'prepared', 'match', 'investment', 'make', 'tory', 'still', 'commit', 'cut', 'suggest']]\n"
     ]
    }
   ],
   "source": [
    "# Remove Stop Words\n",
    "data_words_nostops = remove_stopwords(data_words)\n",
    "\n",
    "# Form Bigrams\n",
    "# data_words_bigrams = make_bigrams(data_words_nostops)\n",
    "\n",
    "# Form Trigrams\n",
    "data_words_trigrams = make_trigrams(data_words_nostops)\n",
    "\n",
    "# Initialize spacy 'en' model, keeping only tagger component (for efficiency)\n",
    "# python3 -m spacy download en\n",
    "nlp = spacy.load('en_core_web_sm', disable=['parser', 'ner'])\n",
    "\n",
    "#increase the maximum length of text that the parser or NER can process\n",
    "nlp.max_length = 13000000 #\n",
    "\n",
    "# Do lemmatization keeping only noun, adj, vb, adv\n",
    "data_lemmatized = lemmatization(data_words_trigrams, allowed_postags=['NOUN', 'ADJ', 'VERB', 'ADV'])\n",
    "print(data_lemmatized[:1])"
   ]
  },
  {
   "cell_type": "markdown",
   "metadata": {},
   "source": [
    "#  Create the Dictionary and Corpus needed for Topic Modeling"
   ]
  },
  {
   "cell_type": "code",
   "execution_count": 90,
   "metadata": {},
   "outputs": [
    {
     "name": "stdout",
     "output_type": "stream",
     "text": [
      "[[(0, 1), (1, 1), (2, 1), (3, 2), (4, 1), (5, 1), (6, 1), (7, 2), (8, 1), (9, 1), (10, 1), (11, 1), (12, 1), (13, 1), (14, 4), (15, 1), (16, 1), (17, 1), (18, 1), (19, 1), (20, 2), (21, 3), (22, 1), (23, 3), (24, 1), (25, 1), (26, 2), (27, 1), (28, 1), (29, 2), (30, 1), (31, 1), (32, 1), (33, 1), (34, 2), (35, 1), (36, 1), (37, 1), (38, 1), (39, 1), (40, 3), (41, 4), (42, 1), (43, 1), (44, 1), (45, 7), (46, 1), (47, 1), (48, 1), (49, 1), (50, 3), (51, 3), (52, 2), (53, 1), (54, 2), (55, 1), (56, 3), (57, 4), (58, 1), (59, 2), (60, 2), (61, 1), (62, 3), (63, 2), (64, 1), (65, 1), (66, 1), (67, 1), (68, 2), (69, 2), (70, 1), (71, 1), (72, 1), (73, 3), (74, 1), (75, 1), (76, 1), (77, 2), (78, 1), (79, 1), (80, 3), (81, 1), (82, 1), (83, 1), (84, 1), (85, 2), (86, 1), (87, 1), (88, 1), (89, 1), (90, 1), (91, 1), (92, 1), (93, 1), (94, 1), (95, 1), (96, 1), (97, 1), (98, 1), (99, 1), (100, 1), (101, 1), (102, 2), (103, 2), (104, 7), (105, 1), (106, 1), (107, 1), (108, 1), (109, 1), (110, 1), (111, 10), (112, 4), (113, 2), (114, 1), (115, 2), (116, 2), (117, 3), (118, 3), (119, 1), (120, 3), (121, 4), (122, 1), (123, 2), (124, 2), (125, 1), (126, 1), (127, 1), (128, 2), (129, 1), (130, 1), (131, 2), (132, 6), (133, 1), (134, 3), (135, 3), (136, 2), (137, 3), (138, 1), (139, 1), (140, 1), (141, 1), (142, 1), (143, 2), (144, 1), (145, 1), (146, 1), (147, 2), (148, 3), (149, 1), (150, 2), (151, 9), (152, 1), (153, 1), (154, 4), (155, 1), (156, 1), (157, 1), (158, 1), (159, 1), (160, 1), (161, 3), (162, 2), (163, 1), (164, 2), (165, 1), (166, 1), (167, 1), (168, 3), (169, 1), (170, 1), (171, 2), (172, 2), (173, 2), (174, 1), (175, 1), (176, 1), (177, 1), (178, 2), (179, 1), (180, 1), (181, 1), (182, 5), (183, 1), (184, 5), (185, 14), (186, 2), (187, 3), (188, 3), (189, 1), (190, 1), (191, 3), (192, 1), (193, 1), (194, 1), (195, 4), (196, 1), (197, 2), (198, 1), (199, 1), (200, 1), (201, 4), (202, 1), (203, 1), (204, 1), (205, 2), (206, 1), (207, 3), (208, 1), (209, 10), (210, 1), (211, 1), (212, 2), (213, 1), (214, 1), (215, 2), (216, 1), (217, 1), (218, 1), (219, 1), (220, 1), (221, 1), (222, 1), (223, 6), (224, 2), (225, 1), (226, 1), (227, 3), (228, 4), (229, 5), (230, 1), (231, 3), (232, 2), (233, 1), (234, 2), (235, 1), (236, 5), (237, 2), (238, 2), (239, 1), (240, 1), (241, 2), (242, 1), (243, 1), (244, 1), (245, 1), (246, 1), (247, 1), (248, 1), (249, 1), (250, 3), (251, 3), (252, 1), (253, 1), (254, 1), (255, 1), (256, 1), (257, 1), (258, 1), (259, 1), (260, 1), (261, 1), (262, 1), (263, 2), (264, 1), (265, 1), (266, 3), (267, 2), (268, 1), (269, 11), (270, 1), (271, 2), (272, 1), (273, 1), (274, 1), (275, 1), (276, 1), (277, 1), (278, 4), (279, 2), (280, 3), (281, 1), (282, 2), (283, 1), (284, 2), (285, 16)]]\n"
     ]
    }
   ],
   "source": [
    "# Create Dictionary\n",
    "id2word = corpora.Dictionary(data_lemmatized)\n",
    "\n",
    "# Create Corpus\n",
    "texts = data_lemmatized\n",
    "\n",
    "# Term Document Frequency\n",
    "corpus = [id2word.doc2bow(text) for text in texts]\n",
    "\n",
    "# View\n",
    "print(corpus[:1])"
   ]
  },
  {
   "cell_type": "markdown",
   "metadata": {},
   "source": [
    "# Building LDA Model, Hyperameter (k) tuning"
   ]
  },
  {
   "cell_type": "code",
   "execution_count": 91,
   "metadata": {},
   "outputs": [],
   "source": [
    "# set training parameters\n",
    "k = 20\n",
    "passes = 20\n",
    "iterations = 100\n",
    "alpha = 50.0/k   \n",
    "eta = 0.01"
   ]
  },
  {
   "cell_type": "code",
   "execution_count": 93,
   "metadata": {},
   "outputs": [],
   "source": [
    "# create the function for computing the coherence score of different models with different number of topics.\n",
    "def compute_coherence_values(dictionary, corpus, texts, limit, start, step):\n",
    "    coherence_values = []\n",
    "    model_list = []\n",
    "    for num_topics in range(start, limit, step):\n",
    "        model = gensim.models.LdaModel(num_topics=k, corpus=corpus, id2word=id2word, alpha=alpha, eta=eta, iterations=iterations, passes=passes)\n",
    "        model_list.append(model)\n",
    "        coherencemodel = CoherenceModel(model=model, texts=texts, dictionary=dictionary, coherence='c_v')\n",
    "        coherence_values.append(coherencemodel.get_coherence())\n",
    "\n",
    "    return model_list, coherence_values"
   ]
  },
  {
   "cell_type": "code",
   "execution_count": 94,
   "metadata": {},
   "outputs": [],
   "source": [
    "# apply the function, it might take a long time.\n",
    "limit=80; start=0; step=5;\n",
    "model_list, coherence_values = compute_coherence_values(dictionary=id2word, corpus=corpus, texts=texts, start=start, limit=limit, step=step)"
   ]
  },
  {
   "cell_type": "code",
   "execution_count": 95,
   "metadata": {},
   "outputs": [
    {
     "data": {
      "application/vnd.plotly.v1+json": {
       "config": {
        "plotlyServerURL": "https://plotly.com"
       },
       "data": [
        {
         "hovertemplate": "Number_of_Topics=%{x}<br>Coherence_Score=%{y}<extra></extra>",
         "legendgroup": "",
         "line": {
          "color": "#636efa",
          "dash": "solid"
         },
         "mode": "lines+markers",
         "name": "",
         "orientation": "v",
         "showlegend": false,
         "type": "scatter",
         "x": [
          0,
          5,
          10,
          15,
          20,
          25,
          30,
          35,
          40,
          45,
          50,
          55,
          60,
          65,
          70,
          75,
          80,
          85,
          90,
          95
         ],
         "xaxis": "x",
         "y": [
          0.33367057058534266,
          0.3230170948795506,
          0.3140963556275457,
          0.3251844536079829,
          0.3177610140208289,
          0.32344364928135916,
          0.3372384514991288,
          0.33822828734838206,
          0.3270430512802061,
          0.3271850731533375,
          0.3394426277287219,
          0.31696266925888483,
          0.30997909076741076,
          0.315840223872509,
          0.33363369625952,
          0.3172938159470454,
          0.3292393902575382,
          0.3106438940136943,
          0.31319626787472626,
          0.3152940138865377
         ],
         "yaxis": "y"
        }
       ],
       "layout": {
        "autosize": false,
        "height": 400,
        "legend": {
         "tracegroupgap": 0
        },
        "template": {
         "data": {
          "bar": [
           {
            "error_x": {
             "color": "#2a3f5f"
            },
            "error_y": {
             "color": "#2a3f5f"
            },
            "marker": {
             "line": {
              "color": "#E5ECF6",
              "width": 0.5
             }
            },
            "type": "bar"
           }
          ],
          "barpolar": [
           {
            "marker": {
             "line": {
              "color": "#E5ECF6",
              "width": 0.5
             }
            },
            "type": "barpolar"
           }
          ],
          "carpet": [
           {
            "aaxis": {
             "endlinecolor": "#2a3f5f",
             "gridcolor": "white",
             "linecolor": "white",
             "minorgridcolor": "white",
             "startlinecolor": "#2a3f5f"
            },
            "baxis": {
             "endlinecolor": "#2a3f5f",
             "gridcolor": "white",
             "linecolor": "white",
             "minorgridcolor": "white",
             "startlinecolor": "#2a3f5f"
            },
            "type": "carpet"
           }
          ],
          "choropleth": [
           {
            "colorbar": {
             "outlinewidth": 0,
             "ticks": ""
            },
            "type": "choropleth"
           }
          ],
          "contour": [
           {
            "colorbar": {
             "outlinewidth": 0,
             "ticks": ""
            },
            "colorscale": [
             [
              0,
              "#0d0887"
             ],
             [
              0.1111111111111111,
              "#46039f"
             ],
             [
              0.2222222222222222,
              "#7201a8"
             ],
             [
              0.3333333333333333,
              "#9c179e"
             ],
             [
              0.4444444444444444,
              "#bd3786"
             ],
             [
              0.5555555555555556,
              "#d8576b"
             ],
             [
              0.6666666666666666,
              "#ed7953"
             ],
             [
              0.7777777777777778,
              "#fb9f3a"
             ],
             [
              0.8888888888888888,
              "#fdca26"
             ],
             [
              1,
              "#f0f921"
             ]
            ],
            "type": "contour"
           }
          ],
          "contourcarpet": [
           {
            "colorbar": {
             "outlinewidth": 0,
             "ticks": ""
            },
            "type": "contourcarpet"
           }
          ],
          "heatmap": [
           {
            "colorbar": {
             "outlinewidth": 0,
             "ticks": ""
            },
            "colorscale": [
             [
              0,
              "#0d0887"
             ],
             [
              0.1111111111111111,
              "#46039f"
             ],
             [
              0.2222222222222222,
              "#7201a8"
             ],
             [
              0.3333333333333333,
              "#9c179e"
             ],
             [
              0.4444444444444444,
              "#bd3786"
             ],
             [
              0.5555555555555556,
              "#d8576b"
             ],
             [
              0.6666666666666666,
              "#ed7953"
             ],
             [
              0.7777777777777778,
              "#fb9f3a"
             ],
             [
              0.8888888888888888,
              "#fdca26"
             ],
             [
              1,
              "#f0f921"
             ]
            ],
            "type": "heatmap"
           }
          ],
          "heatmapgl": [
           {
            "colorbar": {
             "outlinewidth": 0,
             "ticks": ""
            },
            "colorscale": [
             [
              0,
              "#0d0887"
             ],
             [
              0.1111111111111111,
              "#46039f"
             ],
             [
              0.2222222222222222,
              "#7201a8"
             ],
             [
              0.3333333333333333,
              "#9c179e"
             ],
             [
              0.4444444444444444,
              "#bd3786"
             ],
             [
              0.5555555555555556,
              "#d8576b"
             ],
             [
              0.6666666666666666,
              "#ed7953"
             ],
             [
              0.7777777777777778,
              "#fb9f3a"
             ],
             [
              0.8888888888888888,
              "#fdca26"
             ],
             [
              1,
              "#f0f921"
             ]
            ],
            "type": "heatmapgl"
           }
          ],
          "histogram": [
           {
            "marker": {
             "colorbar": {
              "outlinewidth": 0,
              "ticks": ""
             }
            },
            "type": "histogram"
           }
          ],
          "histogram2d": [
           {
            "colorbar": {
             "outlinewidth": 0,
             "ticks": ""
            },
            "colorscale": [
             [
              0,
              "#0d0887"
             ],
             [
              0.1111111111111111,
              "#46039f"
             ],
             [
              0.2222222222222222,
              "#7201a8"
             ],
             [
              0.3333333333333333,
              "#9c179e"
             ],
             [
              0.4444444444444444,
              "#bd3786"
             ],
             [
              0.5555555555555556,
              "#d8576b"
             ],
             [
              0.6666666666666666,
              "#ed7953"
             ],
             [
              0.7777777777777778,
              "#fb9f3a"
             ],
             [
              0.8888888888888888,
              "#fdca26"
             ],
             [
              1,
              "#f0f921"
             ]
            ],
            "type": "histogram2d"
           }
          ],
          "histogram2dcontour": [
           {
            "colorbar": {
             "outlinewidth": 0,
             "ticks": ""
            },
            "colorscale": [
             [
              0,
              "#0d0887"
             ],
             [
              0.1111111111111111,
              "#46039f"
             ],
             [
              0.2222222222222222,
              "#7201a8"
             ],
             [
              0.3333333333333333,
              "#9c179e"
             ],
             [
              0.4444444444444444,
              "#bd3786"
             ],
             [
              0.5555555555555556,
              "#d8576b"
             ],
             [
              0.6666666666666666,
              "#ed7953"
             ],
             [
              0.7777777777777778,
              "#fb9f3a"
             ],
             [
              0.8888888888888888,
              "#fdca26"
             ],
             [
              1,
              "#f0f921"
             ]
            ],
            "type": "histogram2dcontour"
           }
          ],
          "mesh3d": [
           {
            "colorbar": {
             "outlinewidth": 0,
             "ticks": ""
            },
            "type": "mesh3d"
           }
          ],
          "parcoords": [
           {
            "line": {
             "colorbar": {
              "outlinewidth": 0,
              "ticks": ""
             }
            },
            "type": "parcoords"
           }
          ],
          "pie": [
           {
            "automargin": true,
            "type": "pie"
           }
          ],
          "scatter": [
           {
            "marker": {
             "colorbar": {
              "outlinewidth": 0,
              "ticks": ""
             }
            },
            "type": "scatter"
           }
          ],
          "scatter3d": [
           {
            "line": {
             "colorbar": {
              "outlinewidth": 0,
              "ticks": ""
             }
            },
            "marker": {
             "colorbar": {
              "outlinewidth": 0,
              "ticks": ""
             }
            },
            "type": "scatter3d"
           }
          ],
          "scattercarpet": [
           {
            "marker": {
             "colorbar": {
              "outlinewidth": 0,
              "ticks": ""
             }
            },
            "type": "scattercarpet"
           }
          ],
          "scattergeo": [
           {
            "marker": {
             "colorbar": {
              "outlinewidth": 0,
              "ticks": ""
             }
            },
            "type": "scattergeo"
           }
          ],
          "scattergl": [
           {
            "marker": {
             "colorbar": {
              "outlinewidth": 0,
              "ticks": ""
             }
            },
            "type": "scattergl"
           }
          ],
          "scattermapbox": [
           {
            "marker": {
             "colorbar": {
              "outlinewidth": 0,
              "ticks": ""
             }
            },
            "type": "scattermapbox"
           }
          ],
          "scatterpolar": [
           {
            "marker": {
             "colorbar": {
              "outlinewidth": 0,
              "ticks": ""
             }
            },
            "type": "scatterpolar"
           }
          ],
          "scatterpolargl": [
           {
            "marker": {
             "colorbar": {
              "outlinewidth": 0,
              "ticks": ""
             }
            },
            "type": "scatterpolargl"
           }
          ],
          "scatterternary": [
           {
            "marker": {
             "colorbar": {
              "outlinewidth": 0,
              "ticks": ""
             }
            },
            "type": "scatterternary"
           }
          ],
          "surface": [
           {
            "colorbar": {
             "outlinewidth": 0,
             "ticks": ""
            },
            "colorscale": [
             [
              0,
              "#0d0887"
             ],
             [
              0.1111111111111111,
              "#46039f"
             ],
             [
              0.2222222222222222,
              "#7201a8"
             ],
             [
              0.3333333333333333,
              "#9c179e"
             ],
             [
              0.4444444444444444,
              "#bd3786"
             ],
             [
              0.5555555555555556,
              "#d8576b"
             ],
             [
              0.6666666666666666,
              "#ed7953"
             ],
             [
              0.7777777777777778,
              "#fb9f3a"
             ],
             [
              0.8888888888888888,
              "#fdca26"
             ],
             [
              1,
              "#f0f921"
             ]
            ],
            "type": "surface"
           }
          ],
          "table": [
           {
            "cells": {
             "fill": {
              "color": "#EBF0F8"
             },
             "line": {
              "color": "white"
             }
            },
            "header": {
             "fill": {
              "color": "#C8D4E3"
             },
             "line": {
              "color": "white"
             }
            },
            "type": "table"
           }
          ]
         },
         "layout": {
          "annotationdefaults": {
           "arrowcolor": "#2a3f5f",
           "arrowhead": 0,
           "arrowwidth": 1
          },
          "autotypenumbers": "strict",
          "coloraxis": {
           "colorbar": {
            "outlinewidth": 0,
            "ticks": ""
           }
          },
          "colorscale": {
           "diverging": [
            [
             0,
             "#8e0152"
            ],
            [
             0.1,
             "#c51b7d"
            ],
            [
             0.2,
             "#de77ae"
            ],
            [
             0.3,
             "#f1b6da"
            ],
            [
             0.4,
             "#fde0ef"
            ],
            [
             0.5,
             "#f7f7f7"
            ],
            [
             0.6,
             "#e6f5d0"
            ],
            [
             0.7,
             "#b8e186"
            ],
            [
             0.8,
             "#7fbc41"
            ],
            [
             0.9,
             "#4d9221"
            ],
            [
             1,
             "#276419"
            ]
           ],
           "sequential": [
            [
             0,
             "#0d0887"
            ],
            [
             0.1111111111111111,
             "#46039f"
            ],
            [
             0.2222222222222222,
             "#7201a8"
            ],
            [
             0.3333333333333333,
             "#9c179e"
            ],
            [
             0.4444444444444444,
             "#bd3786"
            ],
            [
             0.5555555555555556,
             "#d8576b"
            ],
            [
             0.6666666666666666,
             "#ed7953"
            ],
            [
             0.7777777777777778,
             "#fb9f3a"
            ],
            [
             0.8888888888888888,
             "#fdca26"
            ],
            [
             1,
             "#f0f921"
            ]
           ],
           "sequentialminus": [
            [
             0,
             "#0d0887"
            ],
            [
             0.1111111111111111,
             "#46039f"
            ],
            [
             0.2222222222222222,
             "#7201a8"
            ],
            [
             0.3333333333333333,
             "#9c179e"
            ],
            [
             0.4444444444444444,
             "#bd3786"
            ],
            [
             0.5555555555555556,
             "#d8576b"
            ],
            [
             0.6666666666666666,
             "#ed7953"
            ],
            [
             0.7777777777777778,
             "#fb9f3a"
            ],
            [
             0.8888888888888888,
             "#fdca26"
            ],
            [
             1,
             "#f0f921"
            ]
           ]
          },
          "colorway": [
           "#636efa",
           "#EF553B",
           "#00cc96",
           "#ab63fa",
           "#FFA15A",
           "#19d3f3",
           "#FF6692",
           "#B6E880",
           "#FF97FF",
           "#FECB52"
          ],
          "font": {
           "color": "#2a3f5f"
          },
          "geo": {
           "bgcolor": "white",
           "lakecolor": "white",
           "landcolor": "#E5ECF6",
           "showlakes": true,
           "showland": true,
           "subunitcolor": "white"
          },
          "hoverlabel": {
           "align": "left"
          },
          "hovermode": "closest",
          "mapbox": {
           "style": "light"
          },
          "paper_bgcolor": "white",
          "plot_bgcolor": "#E5ECF6",
          "polar": {
           "angularaxis": {
            "gridcolor": "white",
            "linecolor": "white",
            "ticks": ""
           },
           "bgcolor": "#E5ECF6",
           "radialaxis": {
            "gridcolor": "white",
            "linecolor": "white",
            "ticks": ""
           }
          },
          "scene": {
           "xaxis": {
            "backgroundcolor": "#E5ECF6",
            "gridcolor": "white",
            "gridwidth": 2,
            "linecolor": "white",
            "showbackground": true,
            "ticks": "",
            "zerolinecolor": "white"
           },
           "yaxis": {
            "backgroundcolor": "#E5ECF6",
            "gridcolor": "white",
            "gridwidth": 2,
            "linecolor": "white",
            "showbackground": true,
            "ticks": "",
            "zerolinecolor": "white"
           },
           "zaxis": {
            "backgroundcolor": "#E5ECF6",
            "gridcolor": "white",
            "gridwidth": 2,
            "linecolor": "white",
            "showbackground": true,
            "ticks": "",
            "zerolinecolor": "white"
           }
          },
          "shapedefaults": {
           "line": {
            "color": "#2a3f5f"
           }
          },
          "ternary": {
           "aaxis": {
            "gridcolor": "white",
            "linecolor": "white",
            "ticks": ""
           },
           "baxis": {
            "gridcolor": "white",
            "linecolor": "white",
            "ticks": ""
           },
           "bgcolor": "#E5ECF6",
           "caxis": {
            "gridcolor": "white",
            "linecolor": "white",
            "ticks": ""
           }
          },
          "title": {
           "x": 0.05
          },
          "xaxis": {
           "automargin": true,
           "gridcolor": "white",
           "linecolor": "white",
           "ticks": "",
           "title": {
            "standoff": 15
           },
           "zerolinecolor": "white",
           "zerolinewidth": 2
          },
          "yaxis": {
           "automargin": true,
           "gridcolor": "white",
           "linecolor": "white",
           "ticks": "",
           "title": {
            "standoff": 15
           },
           "zerolinecolor": "white",
           "zerolinewidth": 2
          }
         }
        },
        "title": {
         "text": "Coherence score against number of topics"
        },
        "width": 1000,
        "xaxis": {
         "anchor": "y",
         "domain": [
          0,
          1
         ],
         "title": {
          "text": "Number_of_Topics"
         }
        },
        "yaxis": {
         "anchor": "x",
         "domain": [
          0,
          1
         ],
         "title": {
          "text": "Coherence_Score"
         }
        }
       }
      },
      "text/html": [
       "<div>                            <div id=\"9930be9e-e23c-4d93-9837-3ea271c765c1\" class=\"plotly-graph-div\" style=\"height:400px; width:1000px;\"></div>            <script type=\"text/javascript\">                require([\"plotly\"], function(Plotly) {                    window.PLOTLYENV=window.PLOTLYENV || {};                                    if (document.getElementById(\"9930be9e-e23c-4d93-9837-3ea271c765c1\")) {                    Plotly.newPlot(                        \"9930be9e-e23c-4d93-9837-3ea271c765c1\",                        [{\"hovertemplate\": \"Number_of_Topics=%{x}<br>Coherence_Score=%{y}<extra></extra>\", \"legendgroup\": \"\", \"line\": {\"color\": \"#636efa\", \"dash\": \"solid\"}, \"mode\": \"lines+markers\", \"name\": \"\", \"orientation\": \"v\", \"showlegend\": false, \"type\": \"scatter\", \"x\": [0, 5, 10, 15, 20, 25, 30, 35, 40, 45, 50, 55, 60, 65, 70, 75, 80, 85, 90, 95], \"xaxis\": \"x\", \"y\": [0.33367057058534266, 0.3230170948795506, 0.3140963556275457, 0.3251844536079829, 0.3177610140208289, 0.32344364928135916, 0.3372384514991288, 0.33822828734838206, 0.3270430512802061, 0.3271850731533375, 0.3394426277287219, 0.31696266925888483, 0.30997909076741076, 0.315840223872509, 0.33363369625952, 0.3172938159470454, 0.3292393902575382, 0.3106438940136943, 0.31319626787472626, 0.3152940138865377], \"yaxis\": \"y\"}],                        {\"autosize\": false, \"height\": 400, \"legend\": {\"tracegroupgap\": 0}, \"template\": {\"data\": {\"bar\": [{\"error_x\": {\"color\": \"#2a3f5f\"}, \"error_y\": {\"color\": \"#2a3f5f\"}, \"marker\": {\"line\": {\"color\": \"#E5ECF6\", \"width\": 0.5}}, \"type\": \"bar\"}], \"barpolar\": [{\"marker\": {\"line\": {\"color\": \"#E5ECF6\", \"width\": 0.5}}, \"type\": \"barpolar\"}], \"carpet\": [{\"aaxis\": {\"endlinecolor\": \"#2a3f5f\", \"gridcolor\": \"white\", \"linecolor\": \"white\", \"minorgridcolor\": \"white\", \"startlinecolor\": \"#2a3f5f\"}, \"baxis\": {\"endlinecolor\": \"#2a3f5f\", \"gridcolor\": \"white\", \"linecolor\": \"white\", \"minorgridcolor\": \"white\", \"startlinecolor\": \"#2a3f5f\"}, \"type\": \"carpet\"}], \"choropleth\": [{\"colorbar\": {\"outlinewidth\": 0, \"ticks\": \"\"}, \"type\": \"choropleth\"}], \"contour\": [{\"colorbar\": {\"outlinewidth\": 0, \"ticks\": \"\"}, \"colorscale\": [[0.0, \"#0d0887\"], [0.1111111111111111, \"#46039f\"], [0.2222222222222222, \"#7201a8\"], [0.3333333333333333, \"#9c179e\"], [0.4444444444444444, \"#bd3786\"], [0.5555555555555556, \"#d8576b\"], [0.6666666666666666, \"#ed7953\"], [0.7777777777777778, \"#fb9f3a\"], [0.8888888888888888, \"#fdca26\"], [1.0, \"#f0f921\"]], \"type\": \"contour\"}], \"contourcarpet\": [{\"colorbar\": {\"outlinewidth\": 0, \"ticks\": \"\"}, \"type\": \"contourcarpet\"}], \"heatmap\": [{\"colorbar\": {\"outlinewidth\": 0, \"ticks\": \"\"}, \"colorscale\": [[0.0, \"#0d0887\"], [0.1111111111111111, \"#46039f\"], [0.2222222222222222, \"#7201a8\"], [0.3333333333333333, \"#9c179e\"], [0.4444444444444444, \"#bd3786\"], [0.5555555555555556, \"#d8576b\"], [0.6666666666666666, \"#ed7953\"], [0.7777777777777778, \"#fb9f3a\"], [0.8888888888888888, \"#fdca26\"], [1.0, \"#f0f921\"]], \"type\": \"heatmap\"}], \"heatmapgl\": [{\"colorbar\": {\"outlinewidth\": 0, \"ticks\": \"\"}, \"colorscale\": [[0.0, \"#0d0887\"], [0.1111111111111111, \"#46039f\"], [0.2222222222222222, \"#7201a8\"], [0.3333333333333333, \"#9c179e\"], [0.4444444444444444, \"#bd3786\"], [0.5555555555555556, \"#d8576b\"], [0.6666666666666666, \"#ed7953\"], [0.7777777777777778, \"#fb9f3a\"], [0.8888888888888888, \"#fdca26\"], [1.0, \"#f0f921\"]], \"type\": \"heatmapgl\"}], \"histogram\": [{\"marker\": {\"colorbar\": {\"outlinewidth\": 0, \"ticks\": \"\"}}, \"type\": \"histogram\"}], \"histogram2d\": [{\"colorbar\": {\"outlinewidth\": 0, \"ticks\": \"\"}, \"colorscale\": [[0.0, \"#0d0887\"], [0.1111111111111111, \"#46039f\"], [0.2222222222222222, \"#7201a8\"], [0.3333333333333333, \"#9c179e\"], [0.4444444444444444, \"#bd3786\"], [0.5555555555555556, \"#d8576b\"], [0.6666666666666666, \"#ed7953\"], [0.7777777777777778, \"#fb9f3a\"], [0.8888888888888888, \"#fdca26\"], [1.0, \"#f0f921\"]], \"type\": \"histogram2d\"}], \"histogram2dcontour\": [{\"colorbar\": {\"outlinewidth\": 0, \"ticks\": \"\"}, \"colorscale\": [[0.0, \"#0d0887\"], [0.1111111111111111, \"#46039f\"], [0.2222222222222222, \"#7201a8\"], [0.3333333333333333, \"#9c179e\"], [0.4444444444444444, \"#bd3786\"], [0.5555555555555556, \"#d8576b\"], [0.6666666666666666, \"#ed7953\"], [0.7777777777777778, \"#fb9f3a\"], [0.8888888888888888, \"#fdca26\"], [1.0, \"#f0f921\"]], \"type\": \"histogram2dcontour\"}], \"mesh3d\": [{\"colorbar\": {\"outlinewidth\": 0, \"ticks\": \"\"}, \"type\": \"mesh3d\"}], \"parcoords\": [{\"line\": {\"colorbar\": {\"outlinewidth\": 0, \"ticks\": \"\"}}, \"type\": \"parcoords\"}], \"pie\": [{\"automargin\": true, \"type\": \"pie\"}], \"scatter\": [{\"marker\": {\"colorbar\": {\"outlinewidth\": 0, \"ticks\": \"\"}}, \"type\": \"scatter\"}], \"scatter3d\": [{\"line\": {\"colorbar\": {\"outlinewidth\": 0, \"ticks\": \"\"}}, \"marker\": {\"colorbar\": {\"outlinewidth\": 0, \"ticks\": \"\"}}, \"type\": \"scatter3d\"}], \"scattercarpet\": [{\"marker\": {\"colorbar\": {\"outlinewidth\": 0, \"ticks\": \"\"}}, \"type\": \"scattercarpet\"}], \"scattergeo\": [{\"marker\": {\"colorbar\": {\"outlinewidth\": 0, \"ticks\": \"\"}}, \"type\": \"scattergeo\"}], \"scattergl\": [{\"marker\": {\"colorbar\": {\"outlinewidth\": 0, \"ticks\": \"\"}}, \"type\": \"scattergl\"}], \"scattermapbox\": [{\"marker\": {\"colorbar\": {\"outlinewidth\": 0, \"ticks\": \"\"}}, \"type\": \"scattermapbox\"}], \"scatterpolar\": [{\"marker\": {\"colorbar\": {\"outlinewidth\": 0, \"ticks\": \"\"}}, \"type\": \"scatterpolar\"}], \"scatterpolargl\": [{\"marker\": {\"colorbar\": {\"outlinewidth\": 0, \"ticks\": \"\"}}, \"type\": \"scatterpolargl\"}], \"scatterternary\": [{\"marker\": {\"colorbar\": {\"outlinewidth\": 0, \"ticks\": \"\"}}, \"type\": \"scatterternary\"}], \"surface\": [{\"colorbar\": {\"outlinewidth\": 0, \"ticks\": \"\"}, \"colorscale\": [[0.0, \"#0d0887\"], [0.1111111111111111, \"#46039f\"], [0.2222222222222222, \"#7201a8\"], [0.3333333333333333, \"#9c179e\"], [0.4444444444444444, \"#bd3786\"], [0.5555555555555556, \"#d8576b\"], [0.6666666666666666, \"#ed7953\"], [0.7777777777777778, \"#fb9f3a\"], [0.8888888888888888, \"#fdca26\"], [1.0, \"#f0f921\"]], \"type\": \"surface\"}], \"table\": [{\"cells\": {\"fill\": {\"color\": \"#EBF0F8\"}, \"line\": {\"color\": \"white\"}}, \"header\": {\"fill\": {\"color\": \"#C8D4E3\"}, \"line\": {\"color\": \"white\"}}, \"type\": \"table\"}]}, \"layout\": {\"annotationdefaults\": {\"arrowcolor\": \"#2a3f5f\", \"arrowhead\": 0, \"arrowwidth\": 1}, \"autotypenumbers\": \"strict\", \"coloraxis\": {\"colorbar\": {\"outlinewidth\": 0, \"ticks\": \"\"}}, \"colorscale\": {\"diverging\": [[0, \"#8e0152\"], [0.1, \"#c51b7d\"], [0.2, \"#de77ae\"], [0.3, \"#f1b6da\"], [0.4, \"#fde0ef\"], [0.5, \"#f7f7f7\"], [0.6, \"#e6f5d0\"], [0.7, \"#b8e186\"], [0.8, \"#7fbc41\"], [0.9, \"#4d9221\"], [1, \"#276419\"]], \"sequential\": [[0.0, \"#0d0887\"], [0.1111111111111111, \"#46039f\"], [0.2222222222222222, \"#7201a8\"], [0.3333333333333333, \"#9c179e\"], [0.4444444444444444, \"#bd3786\"], [0.5555555555555556, \"#d8576b\"], [0.6666666666666666, \"#ed7953\"], [0.7777777777777778, \"#fb9f3a\"], [0.8888888888888888, \"#fdca26\"], [1.0, \"#f0f921\"]], \"sequentialminus\": [[0.0, \"#0d0887\"], [0.1111111111111111, \"#46039f\"], [0.2222222222222222, \"#7201a8\"], [0.3333333333333333, \"#9c179e\"], [0.4444444444444444, \"#bd3786\"], [0.5555555555555556, \"#d8576b\"], [0.6666666666666666, \"#ed7953\"], [0.7777777777777778, \"#fb9f3a\"], [0.8888888888888888, \"#fdca26\"], [1.0, \"#f0f921\"]]}, \"colorway\": [\"#636efa\", \"#EF553B\", \"#00cc96\", \"#ab63fa\", \"#FFA15A\", \"#19d3f3\", \"#FF6692\", \"#B6E880\", \"#FF97FF\", \"#FECB52\"], \"font\": {\"color\": \"#2a3f5f\"}, \"geo\": {\"bgcolor\": \"white\", \"lakecolor\": \"white\", \"landcolor\": \"#E5ECF6\", \"showlakes\": true, \"showland\": true, \"subunitcolor\": \"white\"}, \"hoverlabel\": {\"align\": \"left\"}, \"hovermode\": \"closest\", \"mapbox\": {\"style\": \"light\"}, \"paper_bgcolor\": \"white\", \"plot_bgcolor\": \"#E5ECF6\", \"polar\": {\"angularaxis\": {\"gridcolor\": \"white\", \"linecolor\": \"white\", \"ticks\": \"\"}, \"bgcolor\": \"#E5ECF6\", \"radialaxis\": {\"gridcolor\": \"white\", \"linecolor\": \"white\", \"ticks\": \"\"}}, \"scene\": {\"xaxis\": {\"backgroundcolor\": \"#E5ECF6\", \"gridcolor\": \"white\", \"gridwidth\": 2, \"linecolor\": \"white\", \"showbackground\": true, \"ticks\": \"\", \"zerolinecolor\": \"white\"}, \"yaxis\": {\"backgroundcolor\": \"#E5ECF6\", \"gridcolor\": \"white\", \"gridwidth\": 2, \"linecolor\": \"white\", \"showbackground\": true, \"ticks\": \"\", \"zerolinecolor\": \"white\"}, \"zaxis\": {\"backgroundcolor\": \"#E5ECF6\", \"gridcolor\": \"white\", \"gridwidth\": 2, \"linecolor\": \"white\", \"showbackground\": true, \"ticks\": \"\", \"zerolinecolor\": \"white\"}}, \"shapedefaults\": {\"line\": {\"color\": \"#2a3f5f\"}}, \"ternary\": {\"aaxis\": {\"gridcolor\": \"white\", \"linecolor\": \"white\", \"ticks\": \"\"}, \"baxis\": {\"gridcolor\": \"white\", \"linecolor\": \"white\", \"ticks\": \"\"}, \"bgcolor\": \"#E5ECF6\", \"caxis\": {\"gridcolor\": \"white\", \"linecolor\": \"white\", \"ticks\": \"\"}}, \"title\": {\"x\": 0.05}, \"xaxis\": {\"automargin\": true, \"gridcolor\": \"white\", \"linecolor\": \"white\", \"ticks\": \"\", \"title\": {\"standoff\": 15}, \"zerolinecolor\": \"white\", \"zerolinewidth\": 2}, \"yaxis\": {\"automargin\": true, \"gridcolor\": \"white\", \"linecolor\": \"white\", \"ticks\": \"\", \"title\": {\"standoff\": 15}, \"zerolinecolor\": \"white\", \"zerolinewidth\": 2}}}, \"title\": {\"text\": \"Coherence score against number of topics\"}, \"width\": 1000, \"xaxis\": {\"anchor\": \"y\", \"domain\": [0.0, 1.0], \"title\": {\"text\": \"Number_of_Topics\"}}, \"yaxis\": {\"anchor\": \"x\", \"domain\": [0.0, 1.0], \"title\": {\"text\": \"Coherence_Score\"}}},                        {\"responsive\": true}                    ).then(function(){\n",
       "                            \n",
       "var gd = document.getElementById('9930be9e-e23c-4d93-9837-3ea271c765c1');\n",
       "var x = new MutationObserver(function (mutations, observer) {{\n",
       "        var display = window.getComputedStyle(gd).display;\n",
       "        if (!display || display === 'none') {{\n",
       "            console.log([gd, 'removed!']);\n",
       "            Plotly.purge(gd);\n",
       "            observer.disconnect();\n",
       "        }}\n",
       "}});\n",
       "\n",
       "// Listen for the removal of the full notebook cells\n",
       "var notebookContainer = gd.closest('#notebook-container');\n",
       "if (notebookContainer) {{\n",
       "    x.observe(notebookContainer, {childList: true});\n",
       "}}\n",
       "\n",
       "// Listen for the clearing of the current output cell\n",
       "var outputEl = gd.closest('.output');\n",
       "if (outputEl) {{\n",
       "    x.observe(outputEl, {childList: true});\n",
       "}}\n",
       "\n",
       "                        })                };                });            </script>        </div>"
      ]
     },
     "metadata": {},
     "output_type": "display_data"
    }
   ],
   "source": [
    "# plot the coherence score against number of topics\n",
    "x = range(start, limit, step)\n",
    "list_num_topics = [i for i in x]\n",
    "df_coherence = pd.DataFrame({'Number_of_Topics': list_num_topics, 'Coherence_Score': coherence_values})\n",
    "fig1 = px.line(df_coherence, x = 'Number_of_Topics', y=\"Coherence_Score\", title = 'Coherence score against number of topics')\n",
    "fig1.update_layout(autosize=False, width=1000, height=400)\n",
    "fig1.update_traces(mode = \"lines + markers\")\n",
    "fig1.show()"
   ]
  },
  {
   "cell_type": "code",
   "execution_count": 109,
   "metadata": {},
   "outputs": [],
   "source": [
    "# num of topics = 35 to get the optimal coherence socre\n",
    "k = 35\n",
    "lda_model = gensim.models.LdaModel(\n",
    "    corpus=corpus,\n",
    "    id2word=id2word,\n",
    "    alpha=alpha,\n",
    "    eta=eta,\n",
    "    iterations=iterations,\n",
    "    num_topics=k,\n",
    "    passes=passes)"
   ]
  },
  {
   "cell_type": "markdown",
   "metadata": {},
   "source": [
    "# Apply the trained model to predict the topics of paragraphs"
   ]
  },
  {
   "cell_type": "markdown",
   "metadata": {},
   "source": [
    "### Extract paragraphs from documents"
   ]
  },
  {
   "cell_type": "code",
   "execution_count": 110,
   "metadata": {},
   "outputs": [],
   "source": [
    "# create the function for metadata extraction from documents\n",
    "def info(i):\n",
    "    with fitz.open (i) as doc:\n",
    "        info = doc.metadata\n",
    "        return info\n",
    "\n",
    "# create the function for paragraph extraction from documents\n",
    "def paragraphs_extraction(i):\n",
    "    j = parser.from_file(i)\n",
    "    m = j['content']\n",
    "    n = m.split('\\n \\n') # split the documents by new lines, if the corpus changes and the paragraphs are not splitted correctly , try to repalce '\\n \\n' by '\\n \\n'\n",
    "    n = [w.replace('\\n', '') for w in n]\n",
    "    return n"
   ]
  },
  {
   "cell_type": "code",
   "execution_count": 111,
   "metadata": {},
   "outputs": [
    {
     "data": {
      "text/html": [
       "<div>\n",
       "<style scoped>\n",
       "    .dataframe tbody tr th:only-of-type {\n",
       "        vertical-align: middle;\n",
       "    }\n",
       "\n",
       "    .dataframe tbody tr th {\n",
       "        vertical-align: top;\n",
       "    }\n",
       "\n",
       "    .dataframe thead th {\n",
       "        text-align: right;\n",
       "    }\n",
       "</style>\n",
       "<table border=\"1\" class=\"dataframe\">\n",
       "  <thead>\n",
       "    <tr style=\"text-align: right;\">\n",
       "      <th></th>\n",
       "      <th>index</th>\n",
       "      <th>document_id</th>\n",
       "      <th>paragraphs</th>\n",
       "    </tr>\n",
       "  </thead>\n",
       "  <tbody>\n",
       "    <tr>\n",
       "      <th>0</th>\n",
       "      <td>0</td>\n",
       "      <td>0</td>\n",
       "      <td>10-Year Transport Plan</td>\n",
       "    </tr>\n",
       "    <tr>\n",
       "      <th>1</th>\n",
       "      <td>1</td>\n",
       "      <td>0</td>\n",
       "      <td>6.</td>\n",
       "    </tr>\n",
       "    <tr>\n",
       "      <th>2</th>\n",
       "      <td>2</td>\n",
       "      <td>0</td>\n",
       "      <td>Mr. Geoffrey Clifton-Brown  (Cotswold) If he w...</td>\n",
       "    </tr>\n",
       "    <tr>\n",
       "      <th>3</th>\n",
       "      <td>3</td>\n",
       "      <td>0</td>\n",
       "      <td>The Secretary of State for Transport (Mr. Alis...</td>\n",
       "    </tr>\n",
       "    <tr>\n",
       "      <th>4</th>\n",
       "      <td>4</td>\n",
       "      <td>0</td>\n",
       "      <td>Mr. Clifton-Brown Paragraph 84 of the Select C...</td>\n",
       "    </tr>\n",
       "    <tr>\n",
       "      <th>...</th>\n",
       "      <td>...</td>\n",
       "      <td>...</td>\n",
       "      <td>...</td>\n",
       "    </tr>\n",
       "    <tr>\n",
       "      <th>11626</th>\n",
       "      <td>11849</td>\n",
       "      <td>228</td>\n",
       "      <td>Mr. Spellar That was rather ungallant of Oppos...</td>\n",
       "    </tr>\n",
       "    <tr>\n",
       "      <th>11627</th>\n",
       "      <td>11850</td>\n",
       "      <td>228</td>\n",
       "      <td>Chris Grayling  (Epsom and Ewell) The Governme...</td>\n",
       "    </tr>\n",
       "    <tr>\n",
       "      <th>11628</th>\n",
       "      <td>11851</td>\n",
       "      <td>228</td>\n",
       "      <td>Mr. Spellar That is fine cheek, coming from a ...</td>\n",
       "    </tr>\n",
       "    <tr>\n",
       "      <th>11629</th>\n",
       "      <td>11852</td>\n",
       "      <td>228</td>\n",
       "      <td>Andrew Bennett  (Denton and Reddish) Does my r...</td>\n",
       "    </tr>\n",
       "    <tr>\n",
       "      <th>11630</th>\n",
       "      <td>11853</td>\n",
       "      <td>228</td>\n",
       "      <td>Mr. Spellar I will draw my hon. Friend's comme...</td>\n",
       "    </tr>\n",
       "  </tbody>\n",
       "</table>\n",
       "<p>11631 rows × 3 columns</p>\n",
       "</div>"
      ],
      "text/plain": [
       "       index  document_id                                         paragraphs\n",
       "0          0            0                            10-Year Transport Plan \n",
       "1          1            0                                                6. \n",
       "2          2            0  Mr. Geoffrey Clifton-Brown  (Cotswold) If he w...\n",
       "3          3            0  The Secretary of State for Transport (Mr. Alis...\n",
       "4          4            0  Mr. Clifton-Brown Paragraph 84 of the Select C...\n",
       "...      ...          ...                                                ...\n",
       "11626  11849          228  Mr. Spellar That was rather ungallant of Oppos...\n",
       "11627  11850          228  Chris Grayling  (Epsom and Ewell) The Governme...\n",
       "11628  11851          228  Mr. Spellar That is fine cheek, coming from a ...\n",
       "11629  11852          228  Andrew Bennett  (Denton and Reddish) Does my r...\n",
       "11630  11853          228  Mr. Spellar I will draw my hon. Friend's comme...\n",
       "\n",
       "[11631 rows x 3 columns]"
      ]
     },
     "execution_count": 111,
     "metadata": {},
     "output_type": "execute_result"
    }
   ],
   "source": [
    "list_paragraphs = []\n",
    "for i in pdf_files:\n",
    "    with fitz.open(i) as doc:\n",
    "        info = doc.metadata\n",
    "        info['paragraphs'] = paragraphs_extraction(i) \n",
    "    list_paragraphs.append(info)                      # if it fails, try to rerun it\n",
    "df_paragraph = pd.DataFrame(list_paragraphs)               # dataframe containing paragraphs of each documents\n",
    "df_paragraph['document_id'] = df_paragraph.index             # set the index as the document id\n",
    "\n",
    "# split the list of paragraphs into rows\n",
    "df_para  = df_paragraph.set_index(['document_id'])['paragraphs'].apply(pd.Series)\\\n",
    "                                         .stack()\\\n",
    "                                         .reset_index(level=1, drop=True)\n",
    "df_para = df_para.reset_index()\n",
    "df_para = df_para.rename(columns={0: \"paragraphs\"})\n",
    "df_para['paragraphs'] = [w.replace('\\t', '') for w in df_para['paragraphs']] # remove tab in texts\n",
    "df_para = df_para[df_para['paragraphs'].str.strip() !=''] # drop rows whose text content is NaN\n",
    "df_para = df_para.dropna(subset=['paragraphs']) \n",
    "df_para = df_para.reset_index()\n",
    "df_para"
   ]
  },
  {
   "cell_type": "code",
   "execution_count": 112,
   "metadata": {},
   "outputs": [
    {
     "data": {
      "text/plain": [
       "'Andrew Bennett  (Denton and Reddish) Does my right hon. Friend accept that, although commuters in Greater Manchester are prepared to put up with a deterioration in  the service while the west coast main line is being upgraded, they want the certainty that services will be restored to at least their former level, if not improved? '"
      ]
     },
     "execution_count": 112,
     "metadata": {},
     "output_type": "execute_result"
    }
   ],
   "source": [
    "df_para.loc[11629, 'paragraphs']"
   ]
  },
  {
   "cell_type": "markdown",
   "metadata": {},
   "source": [
    "### Predict topics of paragraphs"
   ]
  },
  {
   "cell_type": "code",
   "execution_count": 113,
   "metadata": {},
   "outputs": [],
   "source": [
    "# create function for topic extraction\n",
    "def topic_extraction(i):\n",
    "    doc = i.split()\n",
    "    doc_vector = lda_model.id2word.doc2bow(doc)\n",
    "    doc_topics = lda_model[doc_vector]\n",
    "    return doc_topics\n",
    "\n",
    "# create the function for converting a list of tuples into a dictionary\n",
    "def Convert(tup, di):\n",
    "    di = dict(tup)\n",
    "    return di"
   ]
  },
  {
   "cell_type": "code",
   "execution_count": 114,
   "metadata": {},
   "outputs": [
    {
     "data": {
      "text/html": [
       "<div>\n",
       "<style scoped>\n",
       "    .dataframe tbody tr th:only-of-type {\n",
       "        vertical-align: middle;\n",
       "    }\n",
       "\n",
       "    .dataframe tbody tr th {\n",
       "        vertical-align: top;\n",
       "    }\n",
       "\n",
       "    .dataframe thead th {\n",
       "        text-align: right;\n",
       "    }\n",
       "</style>\n",
       "<table border=\"1\" class=\"dataframe\">\n",
       "  <thead>\n",
       "    <tr style=\"text-align: right;\">\n",
       "      <th></th>\n",
       "      <th>document_id</th>\n",
       "      <th>paragraphs</th>\n",
       "      <th>0</th>\n",
       "      <th>1</th>\n",
       "      <th>2</th>\n",
       "      <th>3</th>\n",
       "      <th>4</th>\n",
       "      <th>5</th>\n",
       "      <th>6</th>\n",
       "      <th>7</th>\n",
       "      <th>...</th>\n",
       "      <th>25</th>\n",
       "      <th>26</th>\n",
       "      <th>27</th>\n",
       "      <th>28</th>\n",
       "      <th>29</th>\n",
       "      <th>30</th>\n",
       "      <th>31</th>\n",
       "      <th>32</th>\n",
       "      <th>33</th>\n",
       "      <th>34</th>\n",
       "    </tr>\n",
       "  </thead>\n",
       "  <tbody>\n",
       "    <tr>\n",
       "      <th>0</th>\n",
       "      <td>0</td>\n",
       "      <td>10-Year Transport Plan</td>\n",
       "      <td>0.028571</td>\n",
       "      <td>0.028571</td>\n",
       "      <td>0.028571</td>\n",
       "      <td>0.028571</td>\n",
       "      <td>0.028571</td>\n",
       "      <td>0.028571</td>\n",
       "      <td>0.028571</td>\n",
       "      <td>0.028571</td>\n",
       "      <td>...</td>\n",
       "      <td>0.028571</td>\n",
       "      <td>0.028571</td>\n",
       "      <td>0.028571</td>\n",
       "      <td>0.028571</td>\n",
       "      <td>0.028571</td>\n",
       "      <td>0.028571</td>\n",
       "      <td>0.028571</td>\n",
       "      <td>0.028571</td>\n",
       "      <td>0.028571</td>\n",
       "      <td>0.028571</td>\n",
       "    </tr>\n",
       "    <tr>\n",
       "      <th>1</th>\n",
       "      <td>0</td>\n",
       "      <td>6.</td>\n",
       "      <td>0.028571</td>\n",
       "      <td>0.028571</td>\n",
       "      <td>0.028571</td>\n",
       "      <td>0.028571</td>\n",
       "      <td>0.028571</td>\n",
       "      <td>0.028571</td>\n",
       "      <td>0.028571</td>\n",
       "      <td>0.028571</td>\n",
       "      <td>...</td>\n",
       "      <td>0.028571</td>\n",
       "      <td>0.028571</td>\n",
       "      <td>0.028571</td>\n",
       "      <td>0.028571</td>\n",
       "      <td>0.028571</td>\n",
       "      <td>0.028571</td>\n",
       "      <td>0.028571</td>\n",
       "      <td>0.028571</td>\n",
       "      <td>0.028571</td>\n",
       "      <td>0.028571</td>\n",
       "    </tr>\n",
       "    <tr>\n",
       "      <th>2</th>\n",
       "      <td>0</td>\n",
       "      <td>Mr. Geoffrey Clifton-Brown  (Cotswold) If he w...</td>\n",
       "      <td>0.025277</td>\n",
       "      <td>0.034000</td>\n",
       "      <td>0.025825</td>\n",
       "      <td>0.025278</td>\n",
       "      <td>0.025403</td>\n",
       "      <td>0.051925</td>\n",
       "      <td>0.030807</td>\n",
       "      <td>0.026602</td>\n",
       "      <td>...</td>\n",
       "      <td>0.027816</td>\n",
       "      <td>0.028886</td>\n",
       "      <td>0.025383</td>\n",
       "      <td>0.025312</td>\n",
       "      <td>0.026869</td>\n",
       "      <td>0.025485</td>\n",
       "      <td>0.025327</td>\n",
       "      <td>0.025461</td>\n",
       "      <td>0.026379</td>\n",
       "      <td>0.025673</td>\n",
       "    </tr>\n",
       "    <tr>\n",
       "      <th>3</th>\n",
       "      <td>0</td>\n",
       "      <td>The Secretary of State for Transport (Mr. Alis...</td>\n",
       "      <td>0.024886</td>\n",
       "      <td>0.031601</td>\n",
       "      <td>0.024916</td>\n",
       "      <td>0.024914</td>\n",
       "      <td>0.024979</td>\n",
       "      <td>0.045215</td>\n",
       "      <td>0.033905</td>\n",
       "      <td>0.027249</td>\n",
       "      <td>...</td>\n",
       "      <td>0.029053</td>\n",
       "      <td>0.032092</td>\n",
       "      <td>0.024872</td>\n",
       "      <td>0.024973</td>\n",
       "      <td>0.027633</td>\n",
       "      <td>0.025043</td>\n",
       "      <td>0.024842</td>\n",
       "      <td>0.025043</td>\n",
       "      <td>0.027390</td>\n",
       "      <td>0.024978</td>\n",
       "    </tr>\n",
       "    <tr>\n",
       "      <th>4</th>\n",
       "      <td>0</td>\n",
       "      <td>Mr. Clifton-Brown Paragraph 84 of the Select C...</td>\n",
       "      <td>0.019982</td>\n",
       "      <td>0.063336</td>\n",
       "      <td>0.020463</td>\n",
       "      <td>0.020127</td>\n",
       "      <td>0.020023</td>\n",
       "      <td>0.061959</td>\n",
       "      <td>0.037864</td>\n",
       "      <td>0.023874</td>\n",
       "      <td>...</td>\n",
       "      <td>0.026736</td>\n",
       "      <td>0.031073</td>\n",
       "      <td>0.020175</td>\n",
       "      <td>0.020018</td>\n",
       "      <td>0.023093</td>\n",
       "      <td>0.020169</td>\n",
       "      <td>0.019797</td>\n",
       "      <td>0.020140</td>\n",
       "      <td>0.032385</td>\n",
       "      <td>0.020359</td>\n",
       "    </tr>\n",
       "    <tr>\n",
       "      <th>...</th>\n",
       "      <td>...</td>\n",
       "      <td>...</td>\n",
       "      <td>...</td>\n",
       "      <td>...</td>\n",
       "      <td>...</td>\n",
       "      <td>...</td>\n",
       "      <td>...</td>\n",
       "      <td>...</td>\n",
       "      <td>...</td>\n",
       "      <td>...</td>\n",
       "      <td>...</td>\n",
       "      <td>...</td>\n",
       "      <td>...</td>\n",
       "      <td>...</td>\n",
       "      <td>...</td>\n",
       "      <td>...</td>\n",
       "      <td>...</td>\n",
       "      <td>...</td>\n",
       "      <td>...</td>\n",
       "      <td>...</td>\n",
       "      <td>...</td>\n",
       "    </tr>\n",
       "    <tr>\n",
       "      <th>11626</th>\n",
       "      <td>228</td>\n",
       "      <td>Mr. Spellar That was rather ungallant of Oppos...</td>\n",
       "      <td>0.017024</td>\n",
       "      <td>0.041921</td>\n",
       "      <td>0.017166</td>\n",
       "      <td>0.017692</td>\n",
       "      <td>0.017053</td>\n",
       "      <td>0.108139</td>\n",
       "      <td>0.035038</td>\n",
       "      <td>0.029620</td>\n",
       "      <td>...</td>\n",
       "      <td>0.025482</td>\n",
       "      <td>0.035051</td>\n",
       "      <td>0.016983</td>\n",
       "      <td>0.016957</td>\n",
       "      <td>0.032136</td>\n",
       "      <td>0.017170</td>\n",
       "      <td>0.016833</td>\n",
       "      <td>0.017048</td>\n",
       "      <td>0.024392</td>\n",
       "      <td>0.017287</td>\n",
       "    </tr>\n",
       "    <tr>\n",
       "      <th>11627</th>\n",
       "      <td>228</td>\n",
       "      <td>Chris Grayling  (Epsom and Ewell) The Governme...</td>\n",
       "      <td>0.022950</td>\n",
       "      <td>0.031805</td>\n",
       "      <td>0.023089</td>\n",
       "      <td>0.023477</td>\n",
       "      <td>0.022891</td>\n",
       "      <td>0.066633</td>\n",
       "      <td>0.034984</td>\n",
       "      <td>0.027358</td>\n",
       "      <td>...</td>\n",
       "      <td>0.027695</td>\n",
       "      <td>0.027032</td>\n",
       "      <td>0.022784</td>\n",
       "      <td>0.022911</td>\n",
       "      <td>0.031425</td>\n",
       "      <td>0.023064</td>\n",
       "      <td>0.022852</td>\n",
       "      <td>0.023083</td>\n",
       "      <td>0.027331</td>\n",
       "      <td>0.023200</td>\n",
       "    </tr>\n",
       "    <tr>\n",
       "      <th>11628</th>\n",
       "      <td>228</td>\n",
       "      <td>Mr. Spellar That is fine cheek, coming from a ...</td>\n",
       "      <td>0.022872</td>\n",
       "      <td>0.030058</td>\n",
       "      <td>0.022534</td>\n",
       "      <td>0.023218</td>\n",
       "      <td>0.022646</td>\n",
       "      <td>0.075670</td>\n",
       "      <td>0.033826</td>\n",
       "      <td>0.027798</td>\n",
       "      <td>...</td>\n",
       "      <td>0.023985</td>\n",
       "      <td>0.032267</td>\n",
       "      <td>0.022584</td>\n",
       "      <td>0.022603</td>\n",
       "      <td>0.025791</td>\n",
       "      <td>0.022838</td>\n",
       "      <td>0.022540</td>\n",
       "      <td>0.022961</td>\n",
       "      <td>0.027195</td>\n",
       "      <td>0.022820</td>\n",
       "    </tr>\n",
       "    <tr>\n",
       "      <th>11629</th>\n",
       "      <td>228</td>\n",
       "      <td>Andrew Bennett  (Denton and Reddish) Does my r...</td>\n",
       "      <td>0.023422</td>\n",
       "      <td>0.039592</td>\n",
       "      <td>0.023480</td>\n",
       "      <td>0.023971</td>\n",
       "      <td>0.023473</td>\n",
       "      <td>0.043304</td>\n",
       "      <td>0.039259</td>\n",
       "      <td>0.027759</td>\n",
       "      <td>...</td>\n",
       "      <td>0.027411</td>\n",
       "      <td>0.036934</td>\n",
       "      <td>0.023448</td>\n",
       "      <td>0.023373</td>\n",
       "      <td>0.031136</td>\n",
       "      <td>0.023528</td>\n",
       "      <td>0.023302</td>\n",
       "      <td>0.023457</td>\n",
       "      <td>0.028034</td>\n",
       "      <td>0.023524</td>\n",
       "    </tr>\n",
       "    <tr>\n",
       "      <th>11630</th>\n",
       "      <td>228</td>\n",
       "      <td>Mr. Spellar I will draw my hon. Friend's comme...</td>\n",
       "      <td>0.022640</td>\n",
       "      <td>0.030397</td>\n",
       "      <td>0.022923</td>\n",
       "      <td>0.022843</td>\n",
       "      <td>0.022744</td>\n",
       "      <td>0.043755</td>\n",
       "      <td>0.033293</td>\n",
       "      <td>0.033516</td>\n",
       "      <td>...</td>\n",
       "      <td>0.025584</td>\n",
       "      <td>0.030493</td>\n",
       "      <td>0.022763</td>\n",
       "      <td>0.022624</td>\n",
       "      <td>0.025285</td>\n",
       "      <td>0.022845</td>\n",
       "      <td>0.022695</td>\n",
       "      <td>0.022786</td>\n",
       "      <td>0.036855</td>\n",
       "      <td>0.022795</td>\n",
       "    </tr>\n",
       "  </tbody>\n",
       "</table>\n",
       "<p>11631 rows × 37 columns</p>\n",
       "</div>"
      ],
      "text/plain": [
       "       document_id                                         paragraphs  \\\n",
       "0                0                            10-Year Transport Plan    \n",
       "1                0                                                6.    \n",
       "2                0  Mr. Geoffrey Clifton-Brown  (Cotswold) If he w...   \n",
       "3                0  The Secretary of State for Transport (Mr. Alis...   \n",
       "4                0  Mr. Clifton-Brown Paragraph 84 of the Select C...   \n",
       "...            ...                                                ...   \n",
       "11626          228  Mr. Spellar That was rather ungallant of Oppos...   \n",
       "11627          228  Chris Grayling  (Epsom and Ewell) The Governme...   \n",
       "11628          228  Mr. Spellar That is fine cheek, coming from a ...   \n",
       "11629          228  Andrew Bennett  (Denton and Reddish) Does my r...   \n",
       "11630          228  Mr. Spellar I will draw my hon. Friend's comme...   \n",
       "\n",
       "              0         1         2         3         4         5         6  \\\n",
       "0      0.028571  0.028571  0.028571  0.028571  0.028571  0.028571  0.028571   \n",
       "1      0.028571  0.028571  0.028571  0.028571  0.028571  0.028571  0.028571   \n",
       "2      0.025277  0.034000  0.025825  0.025278  0.025403  0.051925  0.030807   \n",
       "3      0.024886  0.031601  0.024916  0.024914  0.024979  0.045215  0.033905   \n",
       "4      0.019982  0.063336  0.020463  0.020127  0.020023  0.061959  0.037864   \n",
       "...         ...       ...       ...       ...       ...       ...       ...   \n",
       "11626  0.017024  0.041921  0.017166  0.017692  0.017053  0.108139  0.035038   \n",
       "11627  0.022950  0.031805  0.023089  0.023477  0.022891  0.066633  0.034984   \n",
       "11628  0.022872  0.030058  0.022534  0.023218  0.022646  0.075670  0.033826   \n",
       "11629  0.023422  0.039592  0.023480  0.023971  0.023473  0.043304  0.039259   \n",
       "11630  0.022640  0.030397  0.022923  0.022843  0.022744  0.043755  0.033293   \n",
       "\n",
       "              7  ...        25        26        27        28        29  \\\n",
       "0      0.028571  ...  0.028571  0.028571  0.028571  0.028571  0.028571   \n",
       "1      0.028571  ...  0.028571  0.028571  0.028571  0.028571  0.028571   \n",
       "2      0.026602  ...  0.027816  0.028886  0.025383  0.025312  0.026869   \n",
       "3      0.027249  ...  0.029053  0.032092  0.024872  0.024973  0.027633   \n",
       "4      0.023874  ...  0.026736  0.031073  0.020175  0.020018  0.023093   \n",
       "...         ...  ...       ...       ...       ...       ...       ...   \n",
       "11626  0.029620  ...  0.025482  0.035051  0.016983  0.016957  0.032136   \n",
       "11627  0.027358  ...  0.027695  0.027032  0.022784  0.022911  0.031425   \n",
       "11628  0.027798  ...  0.023985  0.032267  0.022584  0.022603  0.025791   \n",
       "11629  0.027759  ...  0.027411  0.036934  0.023448  0.023373  0.031136   \n",
       "11630  0.033516  ...  0.025584  0.030493  0.022763  0.022624  0.025285   \n",
       "\n",
       "             30        31        32        33        34  \n",
       "0      0.028571  0.028571  0.028571  0.028571  0.028571  \n",
       "1      0.028571  0.028571  0.028571  0.028571  0.028571  \n",
       "2      0.025485  0.025327  0.025461  0.026379  0.025673  \n",
       "3      0.025043  0.024842  0.025043  0.027390  0.024978  \n",
       "4      0.020169  0.019797  0.020140  0.032385  0.020359  \n",
       "...         ...       ...       ...       ...       ...  \n",
       "11626  0.017170  0.016833  0.017048  0.024392  0.017287  \n",
       "11627  0.023064  0.022852  0.023083  0.027331  0.023200  \n",
       "11628  0.022838  0.022540  0.022961  0.027195  0.022820  \n",
       "11629  0.023528  0.023302  0.023457  0.028034  0.023524  \n",
       "11630  0.022845  0.022695  0.022786  0.036855  0.022795  \n",
       "\n",
       "[11631 rows x 37 columns]"
      ]
     },
     "execution_count": 114,
     "metadata": {},
     "output_type": "execute_result"
    }
   ],
   "source": [
    "# predict topics of paragraphs\n",
    "list_topic_para = []\n",
    "dictionary_topic_para = {}\n",
    "for i in df_para['paragraphs']:\n",
    "    doc = i.split()\n",
    "    doc_vector = lda_model.id2word.doc2bow(doc)\n",
    "    doc_topics = lda_model[doc_vector]\n",
    "    doc_dic = Convert(doc_topics, dictionary_topic_para)\n",
    "    list_topic_para.append(doc_dic)\n",
    "    df_topic_para = pd.DataFrame(list_topic_para)\n",
    "df_topic_para1 = pd.merge(df_para, df_topic_para, how = 'left', left_index=True, right_index=True)\n",
    "df_topic_para1 = df_topic_para1.drop(columns = 'index')\n",
    "df_topic_para1"
   ]
  },
  {
   "cell_type": "markdown",
   "metadata": {},
   "source": [
    "# Overview of topics"
   ]
  },
  {
   "cell_type": "markdown",
   "metadata": {},
   "source": [
    "### The most frequent 10 words of each topic"
   ]
  },
  {
   "cell_type": "code",
   "execution_count": 115,
   "metadata": {},
   "outputs": [
    {
     "name": "stdout",
     "output_type": "stream",
     "text": [
      "[(19,\n",
      "  '0.018*\"would\" + 0.014*\"crossrail\" + 0.009*\"go\" + 0.008*\"think\" + '\n",
      "  '0.008*\"committee\" + 0.008*\"work\" + 0.007*\"station\" + 0.007*\"take\" + '\n",
      "  '0.006*\"point\" + 0.006*\"make\"'),\n",
      " (28,\n",
      "  '0.008*\"crossrail\" + 0.006*\"transport\" + 0.005*\"would\" + 0.004*\"service\" + '\n",
      "  '0.004*\"make\" + 0.003*\"government\" + 0.003*\"year\" + 0.003*\"public\" + '\n",
      "  '0.002*\"line\" + 0.002*\"work\"'),\n",
      " (27,\n",
      "  '0.008*\"transport\" + 0.006*\"make\" + 0.005*\"would\" + 0.004*\"year\" + '\n",
      "  '0.004*\"service\" + 0.004*\"project\" + 0.004*\"government\" + 0.003*\"scheme\" + '\n",
      "  '0.003*\"time\" + 0.003*\"crossrail\"'),\n",
      " (20,\n",
      "  '0.019*\"government\" + 0.014*\"transport\" + 0.013*\"year\" + 0.010*\"make\" + '\n",
      "  '0.010*\"would\" + 0.009*\"investment\" + 0.008*\"public\" + 0.008*\"say\" + '\n",
      "  '0.008*\"people\" + 0.007*\"line\"'),\n",
      " (0,\n",
      "  '0.009*\"crossrail\" + 0.008*\"would\" + 0.007*\"transport\" + 0.005*\"make\" + '\n",
      "  '0.004*\"line\" + 0.003*\"year\" + 0.003*\"work\" + 0.003*\"project\" + 0.003*\"give\" '\n",
      "  '+ 0.002*\"people\"'),\n",
      " (3,\n",
      "  '0.013*\"crossrail\" + 0.007*\"would\" + 0.006*\"work\" + 0.005*\"line\" + '\n",
      "  '0.005*\"make\" + 0.004*\"take\" + 0.004*\"government\" + 0.004*\"transport\" + '\n",
      "  '0.003*\"need\" + 0.003*\"time\"'),\n",
      " (25,\n",
      "  '0.027*\"transport\" + 0.014*\"road\" + 0.012*\"local\" + 0.009*\"service\" + '\n",
      "  '0.007*\"traffic\" + 0.007*\"public\" + 0.007*\"target\" + 0.007*\"department\" + '\n",
      "  '0.007*\"authority\" + 0.007*\"government\"'),\n",
      " (30,\n",
      "  '0.010*\"crossrail\" + 0.005*\"transport\" + 0.005*\"would\" + 0.005*\"make\" + '\n",
      "  '0.004*\"year\" + 0.004*\"service\" + 0.004*\"line\" + 0.004*\"rail\" + 0.004*\"take\" '\n",
      "  '+ 0.003*\"railway\"'),\n",
      " (31,\n",
      "  '0.097*\"lord\" + 0.037*\"lord_brabazon_tara_lord\" + 0.013*\"noble_lord\" + '\n",
      "  '0.011*\"question\" + 0.010*\"majesty\" + 0.009*\"crossrail\" + 0.007*\"transport\" '\n",
      "  '+ 0.006*\"make\" + 0.004*\"year\" + 0.004*\"would\"'),\n",
      " (11,\n",
      "  '0.029*\"transport\" + 0.023*\"page\" + 0.020*\"improve\" + 0.019*\"service\" + '\n",
      "  '0.015*\"improvement\" + 0.015*\"final\" + 0.015*\"bus\" + 0.014*\"work\" + '\n",
      "  '0.011*\"also\" + 0.010*\"year\"'),\n",
      " (33,\n",
      "  '0.017*\"franchise\" + 0.012*\"passenger\" + 0.011*\"transport\" + 0.010*\"ticket\" '\n",
      "  '+ 0.010*\"service\" + 0.009*\"rail\" + 0.009*\"would\" + 0.008*\"operator\" + '\n",
      "  '0.008*\"train\" + 0.007*\"think\"'),\n",
      " (23,\n",
      "  '0.017*\"railway\" + 0.015*\"service\" + 0.015*\"rail\" + 0.011*\"railtrack\" + '\n",
      "  '0.011*\"would\" + 0.010*\"passenger\" + 0.009*\"train\" + 0.008*\"operator\" + '\n",
      "  '0.008*\"franchise\" + 0.008*\"investment\"'),\n",
      " (6,\n",
      "  '0.022*\"crossrail\" + 0.019*\"would\" + 0.012*\"committee\" + 0.009*\"make\" + '\n",
      "  '0.008*\"point\" + 0.007*\"work\" + 0.006*\"take\" + 0.006*\"could\" + 0.005*\"area\" '\n",
      "  '+ 0.005*\"think\"'),\n",
      " (10,\n",
      "  '0.016*\"service\" + 0.015*\"line\" + 0.013*\"train\" + 0.010*\"cost\" + '\n",
      "  '0.010*\"project\" + 0.009*\"passenger\" + 0.008*\"work\" + 0.008*\"year\" + '\n",
      "  '0.007*\"station\" + 0.007*\"plan\"'),\n",
      " (4,\n",
      "  '0.010*\"transport\" + 0.008*\"crossrail\" + 0.006*\"would\" + 0.005*\"year\" + '\n",
      "  '0.005*\"line\" + 0.004*\"government\" + 0.003*\"make\" + 0.003*\"service\" + '\n",
      "  '0.003*\"public\" + 0.003*\"take\"'),\n",
      " (22,\n",
      "  '0.016*\"earl_caithness_lord\" + 0.006*\"crossrail\" + 0.006*\"year\" + '\n",
      "  '0.006*\"transport\" + 0.005*\"would\" + 0.005*\"lord\" + 0.004*\"need\" + '\n",
      "  '0.004*\"government\" + 0.003*\"line\" + 0.003*\"make\"'),\n",
      " (1,\n",
      "  '0.029*\"transport\" + 0.017*\"local\" + 0.012*\"road\" + 0.012*\"plan\" + '\n",
      "  '0.010*\"government\" + 0.010*\"would\" + 0.009*\"authority\" + 0.009*\"scheme\" + '\n",
      "  '0.007*\"year\" + 0.007*\"public\"'),\n",
      " (7,\n",
      "  '0.038*\"train\" + 0.019*\"passenger\" + 0.013*\"service\" + 0.012*\"capacity\" + '\n",
      "  '0.012*\"overcrowding\" + 0.008*\"would\" + 0.007*\"people\" + 0.007*\"number\" + '\n",
      "  '0.007*\"problem\" + 0.006*\"rail\"'),\n",
      " (2,\n",
      "  '0.016*\"lord_mackay_ardbrecknish_lord\" + 0.013*\"transport\" + '\n",
      "  '0.009*\"lord_clinton_davis_lord\" + 0.006*\"toot\" + 0.006*\"government\" + '\n",
      "  '0.005*\"make\" + 0.005*\"line\" + 0.005*\"year\" + 0.004*\"service\" + '\n",
      "  '0.004*\"public\"'),\n",
      " (29,\n",
      "  '0.025*\"road\" + 0.018*\"would\" + 0.014*\"transport\" + 0.009*\"think\" + '\n",
      "  '0.009*\"industry\" + 0.009*\"traffic\" + 0.007*\"good\" + 0.007*\"make\" + '\n",
      "  '0.007*\"problem\" + 0.006*\"people\"')]\n"
     ]
    }
   ],
   "source": [
    "pprint(lda_model.print_topics())"
   ]
  },
  {
   "cell_type": "markdown",
   "metadata": {},
   "source": [
    "### Topic distribution across documents"
   ]
  },
  {
   "cell_type": "code",
   "execution_count": 116,
   "metadata": {},
   "outputs": [
    {
     "data": {
      "text/html": [
       "<div>\n",
       "<style scoped>\n",
       "    .dataframe tbody tr th:only-of-type {\n",
       "        vertical-align: middle;\n",
       "    }\n",
       "\n",
       "    .dataframe tbody tr th {\n",
       "        vertical-align: top;\n",
       "    }\n",
       "\n",
       "    .dataframe thead th {\n",
       "        text-align: right;\n",
       "    }\n",
       "</style>\n",
       "<table border=\"1\" class=\"dataframe\">\n",
       "  <thead>\n",
       "    <tr style=\"text-align: right;\">\n",
       "      <th></th>\n",
       "      <th>title</th>\n",
       "      <th>author</th>\n",
       "      <th>subject</th>\n",
       "      <th>creationDate</th>\n",
       "      <th>modDate</th>\n",
       "      <th>Content</th>\n",
       "      <th>Word_count</th>\n",
       "      <th>1</th>\n",
       "      <th>5</th>\n",
       "      <th>6</th>\n",
       "      <th>...</th>\n",
       "      <th>30</th>\n",
       "      <th>32</th>\n",
       "      <th>34</th>\n",
       "      <th>31</th>\n",
       "      <th>2</th>\n",
       "      <th>12</th>\n",
       "      <th>18</th>\n",
       "      <th>22</th>\n",
       "      <th>27</th>\n",
       "      <th>28</th>\n",
       "    </tr>\n",
       "  </thead>\n",
       "  <tbody>\n",
       "    <tr>\n",
       "      <th>0</th>\n",
       "      <td></td>\n",
       "      <td>Katherine A Bloomfield</td>\n",
       "      <td></td>\n",
       "      <td>D:20201012160043+01'00'</td>\n",
       "      <td>D:20201012160043+01'00'</td>\n",
       "      <td>10-Year Transport Plan \\n \\n6. \\n \\nMr. Geoffr...</td>\n",
       "      <td>1437</td>\n",
       "      <td>0.084724</td>\n",
       "      <td>0.018021</td>\n",
       "      <td>0.018634</td>\n",
       "      <td>...</td>\n",
       "      <td>NaN</td>\n",
       "      <td>NaN</td>\n",
       "      <td>NaN</td>\n",
       "      <td>NaN</td>\n",
       "      <td>NaN</td>\n",
       "      <td>NaN</td>\n",
       "      <td>NaN</td>\n",
       "      <td>NaN</td>\n",
       "      <td>NaN</td>\n",
       "      <td>NaN</td>\n",
       "    </tr>\n",
       "    <tr>\n",
       "      <th>1</th>\n",
       "      <td></td>\n",
       "      <td></td>\n",
       "      <td></td>\n",
       "      <td>D:20190730052236Z</td>\n",
       "      <td>D:20190730052236Z</td>\n",
       "      <td>House of Commons \\nTransport, Local Government...</td>\n",
       "      <td>292641</td>\n",
       "      <td>0.730625</td>\n",
       "      <td>NaN</td>\n",
       "      <td>NaN</td>\n",
       "      <td>...</td>\n",
       "      <td>NaN</td>\n",
       "      <td>NaN</td>\n",
       "      <td>NaN</td>\n",
       "      <td>NaN</td>\n",
       "      <td>NaN</td>\n",
       "      <td>NaN</td>\n",
       "      <td>NaN</td>\n",
       "      <td>NaN</td>\n",
       "      <td>NaN</td>\n",
       "      <td>NaN</td>\n",
       "    </tr>\n",
       "    <tr>\n",
       "      <th>2</th>\n",
       "      <td>Microsoft Word - 021588</td>\n",
       "      <td>stellent</td>\n",
       "      <td></td>\n",
       "      <td>D:20041008151844+01'00'</td>\n",
       "      <td>D:20041008151844+01'00'</td>\n",
       "      <td>AnNew deal for Transport: Better for everyone ...</td>\n",
       "      <td>67602</td>\n",
       "      <td>0.013588</td>\n",
       "      <td>NaN</td>\n",
       "      <td>NaN</td>\n",
       "      <td>...</td>\n",
       "      <td>NaN</td>\n",
       "      <td>NaN</td>\n",
       "      <td>NaN</td>\n",
       "      <td>NaN</td>\n",
       "      <td>NaN</td>\n",
       "      <td>NaN</td>\n",
       "      <td>NaN</td>\n",
       "      <td>NaN</td>\n",
       "      <td>NaN</td>\n",
       "      <td>NaN</td>\n",
       "    </tr>\n",
       "    <tr>\n",
       "      <th>3</th>\n",
       "      <td></td>\n",
       "      <td>Katherine A Bloomfield</td>\n",
       "      <td></td>\n",
       "      <td>D:20200429153449+01'00'</td>\n",
       "      <td>D:20200429153449+01'00'</td>\n",
       "      <td>British Railways (London) Bill Lords (By Order...</td>\n",
       "      <td>26519</td>\n",
       "      <td>NaN</td>\n",
       "      <td>0.033917</td>\n",
       "      <td>NaN</td>\n",
       "      <td>...</td>\n",
       "      <td>NaN</td>\n",
       "      <td>NaN</td>\n",
       "      <td>NaN</td>\n",
       "      <td>NaN</td>\n",
       "      <td>NaN</td>\n",
       "      <td>NaN</td>\n",
       "      <td>NaN</td>\n",
       "      <td>NaN</td>\n",
       "      <td>NaN</td>\n",
       "      <td>NaN</td>\n",
       "    </tr>\n",
       "    <tr>\n",
       "      <th>4</th>\n",
       "      <td></td>\n",
       "      <td>Katherine A Bloomfield</td>\n",
       "      <td></td>\n",
       "      <td>D:20201012144724+01'00'</td>\n",
       "      <td>D:20201012144724+01'00'</td>\n",
       "      <td>British Railways Bill \\n \\nOrder for Second Re...</td>\n",
       "      <td>3167</td>\n",
       "      <td>0.011322</td>\n",
       "      <td>0.014913</td>\n",
       "      <td>0.016074</td>\n",
       "      <td>...</td>\n",
       "      <td>NaN</td>\n",
       "      <td>NaN</td>\n",
       "      <td>NaN</td>\n",
       "      <td>NaN</td>\n",
       "      <td>NaN</td>\n",
       "      <td>NaN</td>\n",
       "      <td>NaN</td>\n",
       "      <td>NaN</td>\n",
       "      <td>NaN</td>\n",
       "      <td>NaN</td>\n",
       "    </tr>\n",
       "    <tr>\n",
       "      <th>...</th>\n",
       "      <td>...</td>\n",
       "      <td>...</td>\n",
       "      <td>...</td>\n",
       "      <td>...</td>\n",
       "      <td>...</td>\n",
       "      <td>...</td>\n",
       "      <td>...</td>\n",
       "      <td>...</td>\n",
       "      <td>...</td>\n",
       "      <td>...</td>\n",
       "      <td>...</td>\n",
       "      <td>...</td>\n",
       "      <td>...</td>\n",
       "      <td>...</td>\n",
       "      <td>...</td>\n",
       "      <td>...</td>\n",
       "      <td>...</td>\n",
       "      <td>...</td>\n",
       "      <td>...</td>\n",
       "      <td>...</td>\n",
       "      <td>...</td>\n",
       "    </tr>\n",
       "    <tr>\n",
       "      <th>224</th>\n",
       "      <td></td>\n",
       "      <td>Katherine A Bloomfield</td>\n",
       "      <td></td>\n",
       "      <td>D:20201012164224+01'00'</td>\n",
       "      <td>D:20201012164224+01'00'</td>\n",
       "      <td>Transport: London Underground \\n \\nLord Bridge...</td>\n",
       "      <td>512</td>\n",
       "      <td>0.025504</td>\n",
       "      <td>0.024763</td>\n",
       "      <td>0.030220</td>\n",
       "      <td>...</td>\n",
       "      <td>0.011837</td>\n",
       "      <td>0.01195</td>\n",
       "      <td>0.011855</td>\n",
       "      <td>0.023786</td>\n",
       "      <td>0.011539</td>\n",
       "      <td>0.011005</td>\n",
       "      <td>0.011302</td>\n",
       "      <td>0.011421</td>\n",
       "      <td>0.011213</td>\n",
       "      <td>0.011275</td>\n",
       "    </tr>\n",
       "    <tr>\n",
       "      <th>225</th>\n",
       "      <td></td>\n",
       "      <td>Katherine A Bloomfield</td>\n",
       "      <td></td>\n",
       "      <td>D:20201012164258+01'00'</td>\n",
       "      <td>D:20201012164258+01'00'</td>\n",
       "      <td>Transport: Rail and Air Travel \\n \\nWhat is mi...</td>\n",
       "      <td>5173</td>\n",
       "      <td>NaN</td>\n",
       "      <td>0.015792</td>\n",
       "      <td>NaN</td>\n",
       "      <td>...</td>\n",
       "      <td>NaN</td>\n",
       "      <td>NaN</td>\n",
       "      <td>NaN</td>\n",
       "      <td>NaN</td>\n",
       "      <td>NaN</td>\n",
       "      <td>NaN</td>\n",
       "      <td>NaN</td>\n",
       "      <td>NaN</td>\n",
       "      <td>NaN</td>\n",
       "      <td>NaN</td>\n",
       "    </tr>\n",
       "    <tr>\n",
       "      <th>226</th>\n",
       "      <td></td>\n",
       "      <td>Katherine A Bloomfield</td>\n",
       "      <td></td>\n",
       "      <td>D:20201012155409+01'00'</td>\n",
       "      <td>D:20201012155409+01'00'</td>\n",
       "      <td>Tube Investment \\n \\n[Relevant documents: Seve...</td>\n",
       "      <td>59658</td>\n",
       "      <td>0.035816</td>\n",
       "      <td>NaN</td>\n",
       "      <td>NaN</td>\n",
       "      <td>...</td>\n",
       "      <td>NaN</td>\n",
       "      <td>NaN</td>\n",
       "      <td>NaN</td>\n",
       "      <td>NaN</td>\n",
       "      <td>NaN</td>\n",
       "      <td>NaN</td>\n",
       "      <td>NaN</td>\n",
       "      <td>NaN</td>\n",
       "      <td>NaN</td>\n",
       "      <td>NaN</td>\n",
       "    </tr>\n",
       "    <tr>\n",
       "      <th>227</th>\n",
       "      <td></td>\n",
       "      <td>Katherine A Bloomfield</td>\n",
       "      <td></td>\n",
       "      <td>D:20201012163723+01'00'</td>\n",
       "      <td>D:20201012163723+01'00'</td>\n",
       "      <td>Waterloo Station \\n \\n11:00:00 \\n \\nSusan Kra...</td>\n",
       "      <td>4714</td>\n",
       "      <td>NaN</td>\n",
       "      <td>NaN</td>\n",
       "      <td>0.011055</td>\n",
       "      <td>...</td>\n",
       "      <td>NaN</td>\n",
       "      <td>NaN</td>\n",
       "      <td>NaN</td>\n",
       "      <td>NaN</td>\n",
       "      <td>NaN</td>\n",
       "      <td>NaN</td>\n",
       "      <td>NaN</td>\n",
       "      <td>NaN</td>\n",
       "      <td>NaN</td>\n",
       "      <td>NaN</td>\n",
       "    </tr>\n",
       "    <tr>\n",
       "      <th>228</th>\n",
       "      <td></td>\n",
       "      <td>Katherine A Bloomfield</td>\n",
       "      <td></td>\n",
       "      <td>D:20201012160658+01'00'</td>\n",
       "      <td>D:20201012160658+01'00'</td>\n",
       "      <td>West Coast Main Line \\n \\n4. \\n \\nDr. Phyllis ...</td>\n",
       "      <td>691</td>\n",
       "      <td>0.027912</td>\n",
       "      <td>0.021327</td>\n",
       "      <td>0.029823</td>\n",
       "      <td>...</td>\n",
       "      <td>NaN</td>\n",
       "      <td>NaN</td>\n",
       "      <td>NaN</td>\n",
       "      <td>NaN</td>\n",
       "      <td>NaN</td>\n",
       "      <td>NaN</td>\n",
       "      <td>NaN</td>\n",
       "      <td>NaN</td>\n",
       "      <td>NaN</td>\n",
       "      <td>NaN</td>\n",
       "    </tr>\n",
       "  </tbody>\n",
       "</table>\n",
       "<p>229 rows × 42 columns</p>\n",
       "</div>"
      ],
      "text/plain": [
       "                       title                  author subject  \\\n",
       "0                             Katherine A Bloomfield           \n",
       "1                                                              \n",
       "2    Microsoft Word - 021588                stellent           \n",
       "3                             Katherine A Bloomfield           \n",
       "4                             Katherine A Bloomfield           \n",
       "..                       ...                     ...     ...   \n",
       "224                           Katherine A Bloomfield           \n",
       "225                           Katherine A Bloomfield           \n",
       "226                           Katherine A Bloomfield           \n",
       "227                           Katherine A Bloomfield           \n",
       "228                           Katherine A Bloomfield           \n",
       "\n",
       "                creationDate                  modDate  \\\n",
       "0    D:20201012160043+01'00'  D:20201012160043+01'00'   \n",
       "1          D:20190730052236Z        D:20190730052236Z   \n",
       "2    D:20041008151844+01'00'  D:20041008151844+01'00'   \n",
       "3    D:20200429153449+01'00'  D:20200429153449+01'00'   \n",
       "4    D:20201012144724+01'00'  D:20201012144724+01'00'   \n",
       "..                       ...                      ...   \n",
       "224  D:20201012164224+01'00'  D:20201012164224+01'00'   \n",
       "225  D:20201012164258+01'00'  D:20201012164258+01'00'   \n",
       "226  D:20201012155409+01'00'  D:20201012155409+01'00'   \n",
       "227  D:20201012163723+01'00'  D:20201012163723+01'00'   \n",
       "228  D:20201012160658+01'00'  D:20201012160658+01'00'   \n",
       "\n",
       "                                               Content  Word_count         1  \\\n",
       "0    10-Year Transport Plan \\n \\n6. \\n \\nMr. Geoffr...        1437  0.084724   \n",
       "1    House of Commons \\nTransport, Local Government...      292641  0.730625   \n",
       "2    AnNew deal for Transport: Better for everyone ...       67602  0.013588   \n",
       "3    British Railways (London) Bill Lords (By Order...       26519       NaN   \n",
       "4    British Railways Bill \\n \\nOrder for Second Re...        3167  0.011322   \n",
       "..                                                 ...         ...       ...   \n",
       "224  Transport: London Underground \\n \\nLord Bridge...         512  0.025504   \n",
       "225  Transport: Rail and Air Travel \\n \\nWhat is mi...        5173       NaN   \n",
       "226  Tube Investment \\n \\n[Relevant documents: Seve...       59658  0.035816   \n",
       "227   Waterloo Station \\n \\n11:00:00 \\n \\nSusan Kra...        4714       NaN   \n",
       "228  West Coast Main Line \\n \\n4. \\n \\nDr. Phyllis ...         691  0.027912   \n",
       "\n",
       "            5         6  ...        30       32        34        31         2  \\\n",
       "0    0.018021  0.018634  ...       NaN      NaN       NaN       NaN       NaN   \n",
       "1         NaN       NaN  ...       NaN      NaN       NaN       NaN       NaN   \n",
       "2         NaN       NaN  ...       NaN      NaN       NaN       NaN       NaN   \n",
       "3    0.033917       NaN  ...       NaN      NaN       NaN       NaN       NaN   \n",
       "4    0.014913  0.016074  ...       NaN      NaN       NaN       NaN       NaN   \n",
       "..        ...       ...  ...       ...      ...       ...       ...       ...   \n",
       "224  0.024763  0.030220  ...  0.011837  0.01195  0.011855  0.023786  0.011539   \n",
       "225  0.015792       NaN  ...       NaN      NaN       NaN       NaN       NaN   \n",
       "226       NaN       NaN  ...       NaN      NaN       NaN       NaN       NaN   \n",
       "227       NaN  0.011055  ...       NaN      NaN       NaN       NaN       NaN   \n",
       "228  0.021327  0.029823  ...       NaN      NaN       NaN       NaN       NaN   \n",
       "\n",
       "           12        18        22        27        28  \n",
       "0         NaN       NaN       NaN       NaN       NaN  \n",
       "1         NaN       NaN       NaN       NaN       NaN  \n",
       "2         NaN       NaN       NaN       NaN       NaN  \n",
       "3         NaN       NaN       NaN       NaN       NaN  \n",
       "4         NaN       NaN       NaN       NaN       NaN  \n",
       "..        ...       ...       ...       ...       ...  \n",
       "224  0.011005  0.011302  0.011421  0.011213  0.011275  \n",
       "225       NaN       NaN       NaN       NaN       NaN  \n",
       "226       NaN       NaN       NaN       NaN       NaN  \n",
       "227       NaN       NaN       NaN       NaN       NaN  \n",
       "228       NaN       NaN       NaN       NaN       NaN  \n",
       "\n",
       "[229 rows x 42 columns]"
      ]
     },
     "execution_count": 116,
     "metadata": {},
     "output_type": "execute_result"
    }
   ],
   "source": [
    "# topic distribution over documents\n",
    "list_topic = []\n",
    "dictionary_topic = {}\n",
    "for d in texts:\n",
    "    bow = id2word.doc2bow(d)\n",
    "    belong = lda_model[bow]                        # generate a list of tuples of topic distribution of a document\n",
    "    belong_dic = Convert(belong, dictionary_topic) # convert the list of tuples into a dictionary\n",
    "    list_topic.append(belong_dic)           \n",
    "                      \n",
    "df_topic_distribution = pd.DataFrame(list_topic)   # convert the list of dictionaries into a dataframe\n",
    "df_topic = pd.merge(df, df_topic_distribution, how = 'left', left_index=True, right_index=True) # merge with info of documents\n",
    "df_topic.drop(['format','creator', 'producer', 'keywords', 'trapped', 'encryption'], axis = 1)"
   ]
  },
  {
   "cell_type": "markdown",
   "metadata": {},
   "source": [
    "### Topic distribution of the whole corpus\n",
    "As shown below there are only 8 topics with topic distribution above the threshold (1/K);\n",
    "according to the PTBI proposed by Marchetti and Puranam (2020), the 8 topics are the salient topics worth interpreting.\n",
    "However, we extracted 35 topics and the 8 topics are not enough to interpret all the documents, so we prefer to interpret all the topics"
   ]
  },
  {
   "cell_type": "code",
   "execution_count": 117,
   "metadata": {},
   "outputs": [
    {
     "data": {
      "text/html": [
       "<div>\n",
       "<style scoped>\n",
       "    .dataframe tbody tr th:only-of-type {\n",
       "        vertical-align: middle;\n",
       "    }\n",
       "\n",
       "    .dataframe tbody tr th {\n",
       "        vertical-align: top;\n",
       "    }\n",
       "\n",
       "    .dataframe thead th {\n",
       "        text-align: right;\n",
       "    }\n",
       "</style>\n",
       "<table border=\"1\" class=\"dataframe\">\n",
       "  <thead>\n",
       "    <tr style=\"text-align: right;\">\n",
       "      <th></th>\n",
       "      <th>topic_id</th>\n",
       "      <th>topic_distribution</th>\n",
       "      <th>Not_less_than_threshold</th>\n",
       "    </tr>\n",
       "  </thead>\n",
       "  <tbody>\n",
       "    <tr>\n",
       "      <th>20</th>\n",
       "      <td>20</td>\n",
       "      <td>0.235319</td>\n",
       "      <td>True</td>\n",
       "    </tr>\n",
       "    <tr>\n",
       "      <th>26</th>\n",
       "      <td>26</td>\n",
       "      <td>0.109703</td>\n",
       "      <td>True</td>\n",
       "    </tr>\n",
       "    <tr>\n",
       "      <th>25</th>\n",
       "      <td>25</td>\n",
       "      <td>0.069863</td>\n",
       "      <td>True</td>\n",
       "    </tr>\n",
       "    <tr>\n",
       "      <th>1</th>\n",
       "      <td>1</td>\n",
       "      <td>0.063476</td>\n",
       "      <td>True</td>\n",
       "    </tr>\n",
       "    <tr>\n",
       "      <th>5</th>\n",
       "      <td>5</td>\n",
       "      <td>0.057750</td>\n",
       "      <td>True</td>\n",
       "    </tr>\n",
       "    <tr>\n",
       "      <th>10</th>\n",
       "      <td>10</td>\n",
       "      <td>0.054542</td>\n",
       "      <td>True</td>\n",
       "    </tr>\n",
       "    <tr>\n",
       "      <th>23</th>\n",
       "      <td>23</td>\n",
       "      <td>0.053254</td>\n",
       "      <td>True</td>\n",
       "    </tr>\n",
       "    <tr>\n",
       "      <th>13</th>\n",
       "      <td>13</td>\n",
       "      <td>0.050109</td>\n",
       "      <td>True</td>\n",
       "    </tr>\n",
       "    <tr>\n",
       "      <th>9</th>\n",
       "      <td>9</td>\n",
       "      <td>0.042732</td>\n",
       "      <td>True</td>\n",
       "    </tr>\n",
       "    <tr>\n",
       "      <th>14</th>\n",
       "      <td>14</td>\n",
       "      <td>0.038804</td>\n",
       "      <td>True</td>\n",
       "    </tr>\n",
       "    <tr>\n",
       "      <th>7</th>\n",
       "      <td>7</td>\n",
       "      <td>0.027201</td>\n",
       "      <td>False</td>\n",
       "    </tr>\n",
       "    <tr>\n",
       "      <th>33</th>\n",
       "      <td>33</td>\n",
       "      <td>0.026346</td>\n",
       "      <td>False</td>\n",
       "    </tr>\n",
       "    <tr>\n",
       "      <th>21</th>\n",
       "      <td>21</td>\n",
       "      <td>0.026144</td>\n",
       "      <td>False</td>\n",
       "    </tr>\n",
       "    <tr>\n",
       "      <th>15</th>\n",
       "      <td>15</td>\n",
       "      <td>0.021534</td>\n",
       "      <td>False</td>\n",
       "    </tr>\n",
       "    <tr>\n",
       "      <th>6</th>\n",
       "      <td>6</td>\n",
       "      <td>0.020596</td>\n",
       "      <td>False</td>\n",
       "    </tr>\n",
       "    <tr>\n",
       "      <th>17</th>\n",
       "      <td>17</td>\n",
       "      <td>0.018462</td>\n",
       "      <td>False</td>\n",
       "    </tr>\n",
       "    <tr>\n",
       "      <th>19</th>\n",
       "      <td>19</td>\n",
       "      <td>0.016060</td>\n",
       "      <td>False</td>\n",
       "    </tr>\n",
       "    <tr>\n",
       "      <th>11</th>\n",
       "      <td>11</td>\n",
       "      <td>0.012818</td>\n",
       "      <td>False</td>\n",
       "    </tr>\n",
       "    <tr>\n",
       "      <th>16</th>\n",
       "      <td>16</td>\n",
       "      <td>0.012144</td>\n",
       "      <td>False</td>\n",
       "    </tr>\n",
       "    <tr>\n",
       "      <th>29</th>\n",
       "      <td>29</td>\n",
       "      <td>0.010475</td>\n",
       "      <td>False</td>\n",
       "    </tr>\n",
       "    <tr>\n",
       "      <th>8</th>\n",
       "      <td>8</td>\n",
       "      <td>0.009509</td>\n",
       "      <td>False</td>\n",
       "    </tr>\n",
       "    <tr>\n",
       "      <th>31</th>\n",
       "      <td>31</td>\n",
       "      <td>0.003385</td>\n",
       "      <td>False</td>\n",
       "    </tr>\n",
       "    <tr>\n",
       "      <th>2</th>\n",
       "      <td>2</td>\n",
       "      <td>0.001788</td>\n",
       "      <td>False</td>\n",
       "    </tr>\n",
       "    <tr>\n",
       "      <th>3</th>\n",
       "      <td>3</td>\n",
       "      <td>0.001653</td>\n",
       "      <td>False</td>\n",
       "    </tr>\n",
       "    <tr>\n",
       "      <th>34</th>\n",
       "      <td>34</td>\n",
       "      <td>0.001630</td>\n",
       "      <td>False</td>\n",
       "    </tr>\n",
       "    <tr>\n",
       "      <th>22</th>\n",
       "      <td>22</td>\n",
       "      <td>0.001545</td>\n",
       "      <td>False</td>\n",
       "    </tr>\n",
       "    <tr>\n",
       "      <th>32</th>\n",
       "      <td>32</td>\n",
       "      <td>0.001521</td>\n",
       "      <td>False</td>\n",
       "    </tr>\n",
       "    <tr>\n",
       "      <th>30</th>\n",
       "      <td>30</td>\n",
       "      <td>0.001517</td>\n",
       "      <td>False</td>\n",
       "    </tr>\n",
       "    <tr>\n",
       "      <th>24</th>\n",
       "      <td>24</td>\n",
       "      <td>0.001507</td>\n",
       "      <td>False</td>\n",
       "    </tr>\n",
       "    <tr>\n",
       "      <th>0</th>\n",
       "      <td>0</td>\n",
       "      <td>0.001506</td>\n",
       "      <td>False</td>\n",
       "    </tr>\n",
       "    <tr>\n",
       "      <th>4</th>\n",
       "      <td>4</td>\n",
       "      <td>0.001493</td>\n",
       "      <td>False</td>\n",
       "    </tr>\n",
       "    <tr>\n",
       "      <th>18</th>\n",
       "      <td>18</td>\n",
       "      <td>0.001437</td>\n",
       "      <td>False</td>\n",
       "    </tr>\n",
       "    <tr>\n",
       "      <th>27</th>\n",
       "      <td>27</td>\n",
       "      <td>0.001426</td>\n",
       "      <td>False</td>\n",
       "    </tr>\n",
       "    <tr>\n",
       "      <th>28</th>\n",
       "      <td>28</td>\n",
       "      <td>0.001385</td>\n",
       "      <td>False</td>\n",
       "    </tr>\n",
       "    <tr>\n",
       "      <th>12</th>\n",
       "      <td>12</td>\n",
       "      <td>0.001367</td>\n",
       "      <td>False</td>\n",
       "    </tr>\n",
       "  </tbody>\n",
       "</table>\n",
       "</div>"
      ],
      "text/plain": [
       "    topic_id  topic_distribution  Not_less_than_threshold\n",
       "20        20            0.235319                     True\n",
       "26        26            0.109703                     True\n",
       "25        25            0.069863                     True\n",
       "1          1            0.063476                     True\n",
       "5          5            0.057750                     True\n",
       "10        10            0.054542                     True\n",
       "23        23            0.053254                     True\n",
       "13        13            0.050109                     True\n",
       "9          9            0.042732                     True\n",
       "14        14            0.038804                     True\n",
       "7          7            0.027201                    False\n",
       "33        33            0.026346                    False\n",
       "21        21            0.026144                    False\n",
       "15        15            0.021534                    False\n",
       "6          6            0.020596                    False\n",
       "17        17            0.018462                    False\n",
       "19        19            0.016060                    False\n",
       "11        11            0.012818                    False\n",
       "16        16            0.012144                    False\n",
       "29        29            0.010475                    False\n",
       "8          8            0.009509                    False\n",
       "31        31            0.003385                    False\n",
       "2          2            0.001788                    False\n",
       "3          3            0.001653                    False\n",
       "34        34            0.001630                    False\n",
       "22        22            0.001545                    False\n",
       "32        32            0.001521                    False\n",
       "30        30            0.001517                    False\n",
       "24        24            0.001507                    False\n",
       "0          0            0.001506                    False\n",
       "4          4            0.001493                    False\n",
       "18        18            0.001437                    False\n",
       "27        27            0.001426                    False\n",
       "28        28            0.001385                    False\n",
       "12        12            0.001367                    False"
      ]
     },
     "execution_count": 117,
     "metadata": {},
     "output_type": "execute_result"
    }
   ],
   "source": [
    "topic_distribution = df_topic_distribution.sum()/df_topic_distribution.sum().sum()\n",
    "topics_distribution = pd.DataFrame({'topic_id': topic_distribution.index, 'topic_distribution': topic_distribution, \n",
    "                                    'Not_less_than_threshold': topic_distribution >= 1/k})\n",
    "\n",
    "\n",
    "topics_distribution.sort_values(by = 'topic_distribution', ascending = False)"
   ]
  },
  {
   "cell_type": "code",
   "execution_count": 118,
   "metadata": {},
   "outputs": [
    {
     "data": {
      "application/vnd.plotly.v1+json": {
       "config": {
        "plotlyServerURL": "https://plotly.com"
       },
       "data": [
        {
         "alignmentgroup": "True",
         "hovertemplate": "topic_id=%{x}<br>topic_distribution=%{y}<extra></extra>",
         "legendgroup": "",
         "marker": {
          "color": "#636efa"
         },
         "name": "",
         "offsetgroup": "",
         "orientation": "v",
         "showlegend": false,
         "textposition": "auto",
         "type": "bar",
         "x": [
          1,
          5,
          6,
          7,
          8,
          9,
          10,
          11,
          13,
          14,
          16,
          17,
          19,
          20,
          21,
          23,
          25,
          26,
          29,
          33,
          15,
          0,
          3,
          4,
          24,
          30,
          32,
          34,
          31,
          2,
          12,
          18,
          22,
          27,
          28
         ],
         "xaxis": "x",
         "y": [
          0.06347602729217396,
          0.05775037968540486,
          0.02059603372834507,
          0.027200979887641516,
          0.009509087176206125,
          0.04273213204546303,
          0.05454223763687219,
          0.012817877396450995,
          0.05010907713927018,
          0.038803530354578945,
          0.012143537615367322,
          0.01846151786206694,
          0.016059569442484576,
          0.23531913626845977,
          0.026143822391477282,
          0.05325404117557995,
          0.06986283133409701,
          0.10970301656520143,
          0.010474857015534803,
          0.026345705534986063,
          0.0215338941821283,
          0.0015060875623425073,
          0.0016525664366510903,
          0.0014933111095412378,
          0.0015069707314286998,
          0.0015173443105446238,
          0.0015212217760663697,
          0.0016297350730642914,
          0.0033850102636321156,
          0.0017881458532680286,
          0.0013671556676632427,
          0.0014365541343641177,
          0.001545291594238155,
          0.0014258981570649466,
          0.0013854156003402457
         ],
         "yaxis": "y"
        }
       ],
       "layout": {
        "autosize": false,
        "barmode": "relative",
        "height": 300,
        "legend": {
         "tracegroupgap": 0
        },
        "template": {
         "data": {
          "bar": [
           {
            "error_x": {
             "color": "#2a3f5f"
            },
            "error_y": {
             "color": "#2a3f5f"
            },
            "marker": {
             "line": {
              "color": "#E5ECF6",
              "width": 0.5
             }
            },
            "type": "bar"
           }
          ],
          "barpolar": [
           {
            "marker": {
             "line": {
              "color": "#E5ECF6",
              "width": 0.5
             }
            },
            "type": "barpolar"
           }
          ],
          "carpet": [
           {
            "aaxis": {
             "endlinecolor": "#2a3f5f",
             "gridcolor": "white",
             "linecolor": "white",
             "minorgridcolor": "white",
             "startlinecolor": "#2a3f5f"
            },
            "baxis": {
             "endlinecolor": "#2a3f5f",
             "gridcolor": "white",
             "linecolor": "white",
             "minorgridcolor": "white",
             "startlinecolor": "#2a3f5f"
            },
            "type": "carpet"
           }
          ],
          "choropleth": [
           {
            "colorbar": {
             "outlinewidth": 0,
             "ticks": ""
            },
            "type": "choropleth"
           }
          ],
          "contour": [
           {
            "colorbar": {
             "outlinewidth": 0,
             "ticks": ""
            },
            "colorscale": [
             [
              0,
              "#0d0887"
             ],
             [
              0.1111111111111111,
              "#46039f"
             ],
             [
              0.2222222222222222,
              "#7201a8"
             ],
             [
              0.3333333333333333,
              "#9c179e"
             ],
             [
              0.4444444444444444,
              "#bd3786"
             ],
             [
              0.5555555555555556,
              "#d8576b"
             ],
             [
              0.6666666666666666,
              "#ed7953"
             ],
             [
              0.7777777777777778,
              "#fb9f3a"
             ],
             [
              0.8888888888888888,
              "#fdca26"
             ],
             [
              1,
              "#f0f921"
             ]
            ],
            "type": "contour"
           }
          ],
          "contourcarpet": [
           {
            "colorbar": {
             "outlinewidth": 0,
             "ticks": ""
            },
            "type": "contourcarpet"
           }
          ],
          "heatmap": [
           {
            "colorbar": {
             "outlinewidth": 0,
             "ticks": ""
            },
            "colorscale": [
             [
              0,
              "#0d0887"
             ],
             [
              0.1111111111111111,
              "#46039f"
             ],
             [
              0.2222222222222222,
              "#7201a8"
             ],
             [
              0.3333333333333333,
              "#9c179e"
             ],
             [
              0.4444444444444444,
              "#bd3786"
             ],
             [
              0.5555555555555556,
              "#d8576b"
             ],
             [
              0.6666666666666666,
              "#ed7953"
             ],
             [
              0.7777777777777778,
              "#fb9f3a"
             ],
             [
              0.8888888888888888,
              "#fdca26"
             ],
             [
              1,
              "#f0f921"
             ]
            ],
            "type": "heatmap"
           }
          ],
          "heatmapgl": [
           {
            "colorbar": {
             "outlinewidth": 0,
             "ticks": ""
            },
            "colorscale": [
             [
              0,
              "#0d0887"
             ],
             [
              0.1111111111111111,
              "#46039f"
             ],
             [
              0.2222222222222222,
              "#7201a8"
             ],
             [
              0.3333333333333333,
              "#9c179e"
             ],
             [
              0.4444444444444444,
              "#bd3786"
             ],
             [
              0.5555555555555556,
              "#d8576b"
             ],
             [
              0.6666666666666666,
              "#ed7953"
             ],
             [
              0.7777777777777778,
              "#fb9f3a"
             ],
             [
              0.8888888888888888,
              "#fdca26"
             ],
             [
              1,
              "#f0f921"
             ]
            ],
            "type": "heatmapgl"
           }
          ],
          "histogram": [
           {
            "marker": {
             "colorbar": {
              "outlinewidth": 0,
              "ticks": ""
             }
            },
            "type": "histogram"
           }
          ],
          "histogram2d": [
           {
            "colorbar": {
             "outlinewidth": 0,
             "ticks": ""
            },
            "colorscale": [
             [
              0,
              "#0d0887"
             ],
             [
              0.1111111111111111,
              "#46039f"
             ],
             [
              0.2222222222222222,
              "#7201a8"
             ],
             [
              0.3333333333333333,
              "#9c179e"
             ],
             [
              0.4444444444444444,
              "#bd3786"
             ],
             [
              0.5555555555555556,
              "#d8576b"
             ],
             [
              0.6666666666666666,
              "#ed7953"
             ],
             [
              0.7777777777777778,
              "#fb9f3a"
             ],
             [
              0.8888888888888888,
              "#fdca26"
             ],
             [
              1,
              "#f0f921"
             ]
            ],
            "type": "histogram2d"
           }
          ],
          "histogram2dcontour": [
           {
            "colorbar": {
             "outlinewidth": 0,
             "ticks": ""
            },
            "colorscale": [
             [
              0,
              "#0d0887"
             ],
             [
              0.1111111111111111,
              "#46039f"
             ],
             [
              0.2222222222222222,
              "#7201a8"
             ],
             [
              0.3333333333333333,
              "#9c179e"
             ],
             [
              0.4444444444444444,
              "#bd3786"
             ],
             [
              0.5555555555555556,
              "#d8576b"
             ],
             [
              0.6666666666666666,
              "#ed7953"
             ],
             [
              0.7777777777777778,
              "#fb9f3a"
             ],
             [
              0.8888888888888888,
              "#fdca26"
             ],
             [
              1,
              "#f0f921"
             ]
            ],
            "type": "histogram2dcontour"
           }
          ],
          "mesh3d": [
           {
            "colorbar": {
             "outlinewidth": 0,
             "ticks": ""
            },
            "type": "mesh3d"
           }
          ],
          "parcoords": [
           {
            "line": {
             "colorbar": {
              "outlinewidth": 0,
              "ticks": ""
             }
            },
            "type": "parcoords"
           }
          ],
          "pie": [
           {
            "automargin": true,
            "type": "pie"
           }
          ],
          "scatter": [
           {
            "marker": {
             "colorbar": {
              "outlinewidth": 0,
              "ticks": ""
             }
            },
            "type": "scatter"
           }
          ],
          "scatter3d": [
           {
            "line": {
             "colorbar": {
              "outlinewidth": 0,
              "ticks": ""
             }
            },
            "marker": {
             "colorbar": {
              "outlinewidth": 0,
              "ticks": ""
             }
            },
            "type": "scatter3d"
           }
          ],
          "scattercarpet": [
           {
            "marker": {
             "colorbar": {
              "outlinewidth": 0,
              "ticks": ""
             }
            },
            "type": "scattercarpet"
           }
          ],
          "scattergeo": [
           {
            "marker": {
             "colorbar": {
              "outlinewidth": 0,
              "ticks": ""
             }
            },
            "type": "scattergeo"
           }
          ],
          "scattergl": [
           {
            "marker": {
             "colorbar": {
              "outlinewidth": 0,
              "ticks": ""
             }
            },
            "type": "scattergl"
           }
          ],
          "scattermapbox": [
           {
            "marker": {
             "colorbar": {
              "outlinewidth": 0,
              "ticks": ""
             }
            },
            "type": "scattermapbox"
           }
          ],
          "scatterpolar": [
           {
            "marker": {
             "colorbar": {
              "outlinewidth": 0,
              "ticks": ""
             }
            },
            "type": "scatterpolar"
           }
          ],
          "scatterpolargl": [
           {
            "marker": {
             "colorbar": {
              "outlinewidth": 0,
              "ticks": ""
             }
            },
            "type": "scatterpolargl"
           }
          ],
          "scatterternary": [
           {
            "marker": {
             "colorbar": {
              "outlinewidth": 0,
              "ticks": ""
             }
            },
            "type": "scatterternary"
           }
          ],
          "surface": [
           {
            "colorbar": {
             "outlinewidth": 0,
             "ticks": ""
            },
            "colorscale": [
             [
              0,
              "#0d0887"
             ],
             [
              0.1111111111111111,
              "#46039f"
             ],
             [
              0.2222222222222222,
              "#7201a8"
             ],
             [
              0.3333333333333333,
              "#9c179e"
             ],
             [
              0.4444444444444444,
              "#bd3786"
             ],
             [
              0.5555555555555556,
              "#d8576b"
             ],
             [
              0.6666666666666666,
              "#ed7953"
             ],
             [
              0.7777777777777778,
              "#fb9f3a"
             ],
             [
              0.8888888888888888,
              "#fdca26"
             ],
             [
              1,
              "#f0f921"
             ]
            ],
            "type": "surface"
           }
          ],
          "table": [
           {
            "cells": {
             "fill": {
              "color": "#EBF0F8"
             },
             "line": {
              "color": "white"
             }
            },
            "header": {
             "fill": {
              "color": "#C8D4E3"
             },
             "line": {
              "color": "white"
             }
            },
            "type": "table"
           }
          ]
         },
         "layout": {
          "annotationdefaults": {
           "arrowcolor": "#2a3f5f",
           "arrowhead": 0,
           "arrowwidth": 1
          },
          "autotypenumbers": "strict",
          "coloraxis": {
           "colorbar": {
            "outlinewidth": 0,
            "ticks": ""
           }
          },
          "colorscale": {
           "diverging": [
            [
             0,
             "#8e0152"
            ],
            [
             0.1,
             "#c51b7d"
            ],
            [
             0.2,
             "#de77ae"
            ],
            [
             0.3,
             "#f1b6da"
            ],
            [
             0.4,
             "#fde0ef"
            ],
            [
             0.5,
             "#f7f7f7"
            ],
            [
             0.6,
             "#e6f5d0"
            ],
            [
             0.7,
             "#b8e186"
            ],
            [
             0.8,
             "#7fbc41"
            ],
            [
             0.9,
             "#4d9221"
            ],
            [
             1,
             "#276419"
            ]
           ],
           "sequential": [
            [
             0,
             "#0d0887"
            ],
            [
             0.1111111111111111,
             "#46039f"
            ],
            [
             0.2222222222222222,
             "#7201a8"
            ],
            [
             0.3333333333333333,
             "#9c179e"
            ],
            [
             0.4444444444444444,
             "#bd3786"
            ],
            [
             0.5555555555555556,
             "#d8576b"
            ],
            [
             0.6666666666666666,
             "#ed7953"
            ],
            [
             0.7777777777777778,
             "#fb9f3a"
            ],
            [
             0.8888888888888888,
             "#fdca26"
            ],
            [
             1,
             "#f0f921"
            ]
           ],
           "sequentialminus": [
            [
             0,
             "#0d0887"
            ],
            [
             0.1111111111111111,
             "#46039f"
            ],
            [
             0.2222222222222222,
             "#7201a8"
            ],
            [
             0.3333333333333333,
             "#9c179e"
            ],
            [
             0.4444444444444444,
             "#bd3786"
            ],
            [
             0.5555555555555556,
             "#d8576b"
            ],
            [
             0.6666666666666666,
             "#ed7953"
            ],
            [
             0.7777777777777778,
             "#fb9f3a"
            ],
            [
             0.8888888888888888,
             "#fdca26"
            ],
            [
             1,
             "#f0f921"
            ]
           ]
          },
          "colorway": [
           "#636efa",
           "#EF553B",
           "#00cc96",
           "#ab63fa",
           "#FFA15A",
           "#19d3f3",
           "#FF6692",
           "#B6E880",
           "#FF97FF",
           "#FECB52"
          ],
          "font": {
           "color": "#2a3f5f"
          },
          "geo": {
           "bgcolor": "white",
           "lakecolor": "white",
           "landcolor": "#E5ECF6",
           "showlakes": true,
           "showland": true,
           "subunitcolor": "white"
          },
          "hoverlabel": {
           "align": "left"
          },
          "hovermode": "closest",
          "mapbox": {
           "style": "light"
          },
          "paper_bgcolor": "white",
          "plot_bgcolor": "#E5ECF6",
          "polar": {
           "angularaxis": {
            "gridcolor": "white",
            "linecolor": "white",
            "ticks": ""
           },
           "bgcolor": "#E5ECF6",
           "radialaxis": {
            "gridcolor": "white",
            "linecolor": "white",
            "ticks": ""
           }
          },
          "scene": {
           "xaxis": {
            "backgroundcolor": "#E5ECF6",
            "gridcolor": "white",
            "gridwidth": 2,
            "linecolor": "white",
            "showbackground": true,
            "ticks": "",
            "zerolinecolor": "white"
           },
           "yaxis": {
            "backgroundcolor": "#E5ECF6",
            "gridcolor": "white",
            "gridwidth": 2,
            "linecolor": "white",
            "showbackground": true,
            "ticks": "",
            "zerolinecolor": "white"
           },
           "zaxis": {
            "backgroundcolor": "#E5ECF6",
            "gridcolor": "white",
            "gridwidth": 2,
            "linecolor": "white",
            "showbackground": true,
            "ticks": "",
            "zerolinecolor": "white"
           }
          },
          "shapedefaults": {
           "line": {
            "color": "#2a3f5f"
           }
          },
          "ternary": {
           "aaxis": {
            "gridcolor": "white",
            "linecolor": "white",
            "ticks": ""
           },
           "baxis": {
            "gridcolor": "white",
            "linecolor": "white",
            "ticks": ""
           },
           "bgcolor": "#E5ECF6",
           "caxis": {
            "gridcolor": "white",
            "linecolor": "white",
            "ticks": ""
           }
          },
          "title": {
           "x": 0.05
          },
          "xaxis": {
           "automargin": true,
           "gridcolor": "white",
           "linecolor": "white",
           "ticks": "",
           "title": {
            "standoff": 15
           },
           "zerolinecolor": "white",
           "zerolinewidth": 2
          },
          "yaxis": {
           "automargin": true,
           "gridcolor": "white",
           "linecolor": "white",
           "ticks": "",
           "title": {
            "standoff": 15
           },
           "zerolinecolor": "white",
           "zerolinewidth": 2
          }
         }
        },
        "title": {
         "text": "Topic distribution of the whole corpus"
        },
        "width": 1000,
        "xaxis": {
         "anchor": "y",
         "domain": [
          0,
          1
         ],
         "title": {
          "text": "topic_id"
         }
        },
        "yaxis": {
         "anchor": "x",
         "domain": [
          0,
          1
         ],
         "title": {
          "text": "topic_distribution"
         }
        }
       }
      },
      "text/html": [
       "<div>                            <div id=\"6a7a3b59-7dc7-47af-96fd-c3a8402ec34b\" class=\"plotly-graph-div\" style=\"height:300px; width:1000px;\"></div>            <script type=\"text/javascript\">                require([\"plotly\"], function(Plotly) {                    window.PLOTLYENV=window.PLOTLYENV || {};                                    if (document.getElementById(\"6a7a3b59-7dc7-47af-96fd-c3a8402ec34b\")) {                    Plotly.newPlot(                        \"6a7a3b59-7dc7-47af-96fd-c3a8402ec34b\",                        [{\"alignmentgroup\": \"True\", \"hovertemplate\": \"topic_id=%{x}<br>topic_distribution=%{y}<extra></extra>\", \"legendgroup\": \"\", \"marker\": {\"color\": \"#636efa\"}, \"name\": \"\", \"offsetgroup\": \"\", \"orientation\": \"v\", \"showlegend\": false, \"textposition\": \"auto\", \"type\": \"bar\", \"x\": [1, 5, 6, 7, 8, 9, 10, 11, 13, 14, 16, 17, 19, 20, 21, 23, 25, 26, 29, 33, 15, 0, 3, 4, 24, 30, 32, 34, 31, 2, 12, 18, 22, 27, 28], \"xaxis\": \"x\", \"y\": [0.06347602729217396, 0.05775037968540486, 0.02059603372834507, 0.027200979887641516, 0.009509087176206125, 0.04273213204546303, 0.05454223763687219, 0.012817877396450995, 0.05010907713927018, 0.038803530354578945, 0.012143537615367322, 0.01846151786206694, 0.016059569442484576, 0.23531913626845977, 0.026143822391477282, 0.05325404117557995, 0.06986283133409701, 0.10970301656520143, 0.010474857015534803, 0.026345705534986063, 0.0215338941821283, 0.0015060875623425073, 0.0016525664366510903, 0.0014933111095412378, 0.0015069707314286998, 0.0015173443105446238, 0.0015212217760663697, 0.0016297350730642914, 0.0033850102636321156, 0.0017881458532680286, 0.0013671556676632427, 0.0014365541343641177, 0.001545291594238155, 0.0014258981570649466, 0.0013854156003402457], \"yaxis\": \"y\"}],                        {\"autosize\": false, \"barmode\": \"relative\", \"height\": 300, \"legend\": {\"tracegroupgap\": 0}, \"template\": {\"data\": {\"bar\": [{\"error_x\": {\"color\": \"#2a3f5f\"}, \"error_y\": {\"color\": \"#2a3f5f\"}, \"marker\": {\"line\": {\"color\": \"#E5ECF6\", \"width\": 0.5}}, \"type\": \"bar\"}], \"barpolar\": [{\"marker\": {\"line\": {\"color\": \"#E5ECF6\", \"width\": 0.5}}, \"type\": \"barpolar\"}], \"carpet\": [{\"aaxis\": {\"endlinecolor\": \"#2a3f5f\", \"gridcolor\": \"white\", \"linecolor\": \"white\", \"minorgridcolor\": \"white\", \"startlinecolor\": \"#2a3f5f\"}, \"baxis\": {\"endlinecolor\": \"#2a3f5f\", \"gridcolor\": \"white\", \"linecolor\": \"white\", \"minorgridcolor\": \"white\", \"startlinecolor\": \"#2a3f5f\"}, \"type\": \"carpet\"}], \"choropleth\": [{\"colorbar\": {\"outlinewidth\": 0, \"ticks\": \"\"}, \"type\": \"choropleth\"}], \"contour\": [{\"colorbar\": {\"outlinewidth\": 0, \"ticks\": \"\"}, \"colorscale\": [[0.0, \"#0d0887\"], [0.1111111111111111, \"#46039f\"], [0.2222222222222222, \"#7201a8\"], [0.3333333333333333, \"#9c179e\"], [0.4444444444444444, \"#bd3786\"], [0.5555555555555556, \"#d8576b\"], [0.6666666666666666, \"#ed7953\"], [0.7777777777777778, \"#fb9f3a\"], [0.8888888888888888, \"#fdca26\"], [1.0, \"#f0f921\"]], \"type\": \"contour\"}], \"contourcarpet\": [{\"colorbar\": {\"outlinewidth\": 0, \"ticks\": \"\"}, \"type\": \"contourcarpet\"}], \"heatmap\": [{\"colorbar\": {\"outlinewidth\": 0, \"ticks\": \"\"}, \"colorscale\": [[0.0, \"#0d0887\"], [0.1111111111111111, \"#46039f\"], [0.2222222222222222, \"#7201a8\"], [0.3333333333333333, \"#9c179e\"], [0.4444444444444444, \"#bd3786\"], [0.5555555555555556, \"#d8576b\"], [0.6666666666666666, \"#ed7953\"], [0.7777777777777778, \"#fb9f3a\"], [0.8888888888888888, \"#fdca26\"], [1.0, \"#f0f921\"]], \"type\": \"heatmap\"}], \"heatmapgl\": [{\"colorbar\": {\"outlinewidth\": 0, \"ticks\": \"\"}, \"colorscale\": [[0.0, \"#0d0887\"], [0.1111111111111111, \"#46039f\"], [0.2222222222222222, \"#7201a8\"], [0.3333333333333333, \"#9c179e\"], [0.4444444444444444, \"#bd3786\"], [0.5555555555555556, \"#d8576b\"], [0.6666666666666666, \"#ed7953\"], [0.7777777777777778, \"#fb9f3a\"], [0.8888888888888888, \"#fdca26\"], [1.0, \"#f0f921\"]], \"type\": \"heatmapgl\"}], \"histogram\": [{\"marker\": {\"colorbar\": {\"outlinewidth\": 0, \"ticks\": \"\"}}, \"type\": \"histogram\"}], \"histogram2d\": [{\"colorbar\": {\"outlinewidth\": 0, \"ticks\": \"\"}, \"colorscale\": [[0.0, \"#0d0887\"], [0.1111111111111111, \"#46039f\"], [0.2222222222222222, \"#7201a8\"], [0.3333333333333333, \"#9c179e\"], [0.4444444444444444, \"#bd3786\"], [0.5555555555555556, \"#d8576b\"], [0.6666666666666666, \"#ed7953\"], [0.7777777777777778, \"#fb9f3a\"], [0.8888888888888888, \"#fdca26\"], [1.0, \"#f0f921\"]], \"type\": \"histogram2d\"}], \"histogram2dcontour\": [{\"colorbar\": {\"outlinewidth\": 0, \"ticks\": \"\"}, \"colorscale\": [[0.0, \"#0d0887\"], [0.1111111111111111, \"#46039f\"], [0.2222222222222222, \"#7201a8\"], [0.3333333333333333, \"#9c179e\"], [0.4444444444444444, \"#bd3786\"], [0.5555555555555556, \"#d8576b\"], [0.6666666666666666, \"#ed7953\"], [0.7777777777777778, \"#fb9f3a\"], [0.8888888888888888, \"#fdca26\"], [1.0, \"#f0f921\"]], \"type\": \"histogram2dcontour\"}], \"mesh3d\": [{\"colorbar\": {\"outlinewidth\": 0, \"ticks\": \"\"}, \"type\": \"mesh3d\"}], \"parcoords\": [{\"line\": {\"colorbar\": {\"outlinewidth\": 0, \"ticks\": \"\"}}, \"type\": \"parcoords\"}], \"pie\": [{\"automargin\": true, \"type\": \"pie\"}], \"scatter\": [{\"marker\": {\"colorbar\": {\"outlinewidth\": 0, \"ticks\": \"\"}}, \"type\": \"scatter\"}], \"scatter3d\": [{\"line\": {\"colorbar\": {\"outlinewidth\": 0, \"ticks\": \"\"}}, \"marker\": {\"colorbar\": {\"outlinewidth\": 0, \"ticks\": \"\"}}, \"type\": \"scatter3d\"}], \"scattercarpet\": [{\"marker\": {\"colorbar\": {\"outlinewidth\": 0, \"ticks\": \"\"}}, \"type\": \"scattercarpet\"}], \"scattergeo\": [{\"marker\": {\"colorbar\": {\"outlinewidth\": 0, \"ticks\": \"\"}}, \"type\": \"scattergeo\"}], \"scattergl\": [{\"marker\": {\"colorbar\": {\"outlinewidth\": 0, \"ticks\": \"\"}}, \"type\": \"scattergl\"}], \"scattermapbox\": [{\"marker\": {\"colorbar\": {\"outlinewidth\": 0, \"ticks\": \"\"}}, \"type\": \"scattermapbox\"}], \"scatterpolar\": [{\"marker\": {\"colorbar\": {\"outlinewidth\": 0, \"ticks\": \"\"}}, \"type\": \"scatterpolar\"}], \"scatterpolargl\": [{\"marker\": {\"colorbar\": {\"outlinewidth\": 0, \"ticks\": \"\"}}, \"type\": \"scatterpolargl\"}], \"scatterternary\": [{\"marker\": {\"colorbar\": {\"outlinewidth\": 0, \"ticks\": \"\"}}, \"type\": \"scatterternary\"}], \"surface\": [{\"colorbar\": {\"outlinewidth\": 0, \"ticks\": \"\"}, \"colorscale\": [[0.0, \"#0d0887\"], [0.1111111111111111, \"#46039f\"], [0.2222222222222222, \"#7201a8\"], [0.3333333333333333, \"#9c179e\"], [0.4444444444444444, \"#bd3786\"], [0.5555555555555556, \"#d8576b\"], [0.6666666666666666, \"#ed7953\"], [0.7777777777777778, \"#fb9f3a\"], [0.8888888888888888, \"#fdca26\"], [1.0, \"#f0f921\"]], \"type\": \"surface\"}], \"table\": [{\"cells\": {\"fill\": {\"color\": \"#EBF0F8\"}, \"line\": {\"color\": \"white\"}}, \"header\": {\"fill\": {\"color\": \"#C8D4E3\"}, \"line\": {\"color\": \"white\"}}, \"type\": \"table\"}]}, \"layout\": {\"annotationdefaults\": {\"arrowcolor\": \"#2a3f5f\", \"arrowhead\": 0, \"arrowwidth\": 1}, \"autotypenumbers\": \"strict\", \"coloraxis\": {\"colorbar\": {\"outlinewidth\": 0, \"ticks\": \"\"}}, \"colorscale\": {\"diverging\": [[0, \"#8e0152\"], [0.1, \"#c51b7d\"], [0.2, \"#de77ae\"], [0.3, \"#f1b6da\"], [0.4, \"#fde0ef\"], [0.5, \"#f7f7f7\"], [0.6, \"#e6f5d0\"], [0.7, \"#b8e186\"], [0.8, \"#7fbc41\"], [0.9, \"#4d9221\"], [1, \"#276419\"]], \"sequential\": [[0.0, \"#0d0887\"], [0.1111111111111111, \"#46039f\"], [0.2222222222222222, \"#7201a8\"], [0.3333333333333333, \"#9c179e\"], [0.4444444444444444, \"#bd3786\"], [0.5555555555555556, \"#d8576b\"], [0.6666666666666666, \"#ed7953\"], [0.7777777777777778, \"#fb9f3a\"], [0.8888888888888888, \"#fdca26\"], [1.0, \"#f0f921\"]], \"sequentialminus\": [[0.0, \"#0d0887\"], [0.1111111111111111, \"#46039f\"], [0.2222222222222222, \"#7201a8\"], [0.3333333333333333, \"#9c179e\"], [0.4444444444444444, \"#bd3786\"], [0.5555555555555556, \"#d8576b\"], [0.6666666666666666, \"#ed7953\"], [0.7777777777777778, \"#fb9f3a\"], [0.8888888888888888, \"#fdca26\"], [1.0, \"#f0f921\"]]}, \"colorway\": [\"#636efa\", \"#EF553B\", \"#00cc96\", \"#ab63fa\", \"#FFA15A\", \"#19d3f3\", \"#FF6692\", \"#B6E880\", \"#FF97FF\", \"#FECB52\"], \"font\": {\"color\": \"#2a3f5f\"}, \"geo\": {\"bgcolor\": \"white\", \"lakecolor\": \"white\", \"landcolor\": \"#E5ECF6\", \"showlakes\": true, \"showland\": true, \"subunitcolor\": \"white\"}, \"hoverlabel\": {\"align\": \"left\"}, \"hovermode\": \"closest\", \"mapbox\": {\"style\": \"light\"}, \"paper_bgcolor\": \"white\", \"plot_bgcolor\": \"#E5ECF6\", \"polar\": {\"angularaxis\": {\"gridcolor\": \"white\", \"linecolor\": \"white\", \"ticks\": \"\"}, \"bgcolor\": \"#E5ECF6\", \"radialaxis\": {\"gridcolor\": \"white\", \"linecolor\": \"white\", \"ticks\": \"\"}}, \"scene\": {\"xaxis\": {\"backgroundcolor\": \"#E5ECF6\", \"gridcolor\": \"white\", \"gridwidth\": 2, \"linecolor\": \"white\", \"showbackground\": true, \"ticks\": \"\", \"zerolinecolor\": \"white\"}, \"yaxis\": {\"backgroundcolor\": \"#E5ECF6\", \"gridcolor\": \"white\", \"gridwidth\": 2, \"linecolor\": \"white\", \"showbackground\": true, \"ticks\": \"\", \"zerolinecolor\": \"white\"}, \"zaxis\": {\"backgroundcolor\": \"#E5ECF6\", \"gridcolor\": \"white\", \"gridwidth\": 2, \"linecolor\": \"white\", \"showbackground\": true, \"ticks\": \"\", \"zerolinecolor\": \"white\"}}, \"shapedefaults\": {\"line\": {\"color\": \"#2a3f5f\"}}, \"ternary\": {\"aaxis\": {\"gridcolor\": \"white\", \"linecolor\": \"white\", \"ticks\": \"\"}, \"baxis\": {\"gridcolor\": \"white\", \"linecolor\": \"white\", \"ticks\": \"\"}, \"bgcolor\": \"#E5ECF6\", \"caxis\": {\"gridcolor\": \"white\", \"linecolor\": \"white\", \"ticks\": \"\"}}, \"title\": {\"x\": 0.05}, \"xaxis\": {\"automargin\": true, \"gridcolor\": \"white\", \"linecolor\": \"white\", \"ticks\": \"\", \"title\": {\"standoff\": 15}, \"zerolinecolor\": \"white\", \"zerolinewidth\": 2}, \"yaxis\": {\"automargin\": true, \"gridcolor\": \"white\", \"linecolor\": \"white\", \"ticks\": \"\", \"title\": {\"standoff\": 15}, \"zerolinecolor\": \"white\", \"zerolinewidth\": 2}}}, \"title\": {\"text\": \"Topic distribution of the whole corpus\"}, \"width\": 1000, \"xaxis\": {\"anchor\": \"y\", \"domain\": [0.0, 1.0], \"title\": {\"text\": \"topic_id\"}}, \"yaxis\": {\"anchor\": \"x\", \"domain\": [0.0, 1.0], \"title\": {\"text\": \"topic_distribution\"}}},                        {\"responsive\": true}                    ).then(function(){\n",
       "                            \n",
       "var gd = document.getElementById('6a7a3b59-7dc7-47af-96fd-c3a8402ec34b');\n",
       "var x = new MutationObserver(function (mutations, observer) {{\n",
       "        var display = window.getComputedStyle(gd).display;\n",
       "        if (!display || display === 'none') {{\n",
       "            console.log([gd, 'removed!']);\n",
       "            Plotly.purge(gd);\n",
       "            observer.disconnect();\n",
       "        }}\n",
       "}});\n",
       "\n",
       "// Listen for the removal of the full notebook cells\n",
       "var notebookContainer = gd.closest('#notebook-container');\n",
       "if (notebookContainer) {{\n",
       "    x.observe(notebookContainer, {childList: true});\n",
       "}}\n",
       "\n",
       "// Listen for the clearing of the current output cell\n",
       "var outputEl = gd.closest('.output');\n",
       "if (outputEl) {{\n",
       "    x.observe(outputEl, {childList: true});\n",
       "}}\n",
       "\n",
       "                        })                };                });            </script>        </div>"
      ]
     },
     "metadata": {},
     "output_type": "display_data"
    }
   ],
   "source": [
    "fig2 = px.bar(topics_distribution, x='topic_id', y='topic_distribution',title='Topic distribution of the whole corpus')\n",
    "fig2.update_layout(autosize=False, width=1000, height=300)\n",
    "fig2.show()"
   ]
  },
  {
   "cell_type": "markdown",
   "metadata": {},
   "source": [
    "### Salient topics in each document\n",
    "I define the salient topics in each document as the topics with probability > 1/k. In other words, the probablity of the salient topic should be more than the random probability"
   ]
  },
  {
   "cell_type": "code",
   "execution_count": 119,
   "metadata": {},
   "outputs": [
    {
     "data": {
      "text/html": [
       "<div>\n",
       "<style scoped>\n",
       "    .dataframe tbody tr th:only-of-type {\n",
       "        vertical-align: middle;\n",
       "    }\n",
       "\n",
       "    .dataframe tbody tr th {\n",
       "        vertical-align: top;\n",
       "    }\n",
       "\n",
       "    .dataframe thead th {\n",
       "        text-align: right;\n",
       "    }\n",
       "</style>\n",
       "<table border=\"1\" class=\"dataframe\">\n",
       "  <thead>\n",
       "    <tr style=\"text-align: right;\">\n",
       "      <th></th>\n",
       "      <th>1</th>\n",
       "      <th>5</th>\n",
       "      <th>6</th>\n",
       "      <th>7</th>\n",
       "      <th>8</th>\n",
       "      <th>9</th>\n",
       "      <th>10</th>\n",
       "      <th>11</th>\n",
       "      <th>13</th>\n",
       "      <th>14</th>\n",
       "      <th>...</th>\n",
       "      <th>30</th>\n",
       "      <th>32</th>\n",
       "      <th>34</th>\n",
       "      <th>31</th>\n",
       "      <th>2</th>\n",
       "      <th>12</th>\n",
       "      <th>18</th>\n",
       "      <th>22</th>\n",
       "      <th>27</th>\n",
       "      <th>28</th>\n",
       "    </tr>\n",
       "  </thead>\n",
       "  <tbody>\n",
       "    <tr>\n",
       "      <th>0</th>\n",
       "      <td>0.084724</td>\n",
       "      <td>NaN</td>\n",
       "      <td>NaN</td>\n",
       "      <td>NaN</td>\n",
       "      <td>NaN</td>\n",
       "      <td>0.049360</td>\n",
       "      <td>NaN</td>\n",
       "      <td>NaN</td>\n",
       "      <td>NaN</td>\n",
       "      <td>NaN</td>\n",
       "      <td>...</td>\n",
       "      <td>NaN</td>\n",
       "      <td>NaN</td>\n",
       "      <td>NaN</td>\n",
       "      <td>NaN</td>\n",
       "      <td>NaN</td>\n",
       "      <td>NaN</td>\n",
       "      <td>NaN</td>\n",
       "      <td>NaN</td>\n",
       "      <td>NaN</td>\n",
       "      <td>NaN</td>\n",
       "    </tr>\n",
       "    <tr>\n",
       "      <th>1</th>\n",
       "      <td>0.730625</td>\n",
       "      <td>NaN</td>\n",
       "      <td>NaN</td>\n",
       "      <td>NaN</td>\n",
       "      <td>NaN</td>\n",
       "      <td>0.165545</td>\n",
       "      <td>NaN</td>\n",
       "      <td>NaN</td>\n",
       "      <td>NaN</td>\n",
       "      <td>NaN</td>\n",
       "      <td>...</td>\n",
       "      <td>NaN</td>\n",
       "      <td>NaN</td>\n",
       "      <td>NaN</td>\n",
       "      <td>NaN</td>\n",
       "      <td>NaN</td>\n",
       "      <td>NaN</td>\n",
       "      <td>NaN</td>\n",
       "      <td>NaN</td>\n",
       "      <td>NaN</td>\n",
       "      <td>NaN</td>\n",
       "    </tr>\n",
       "    <tr>\n",
       "      <th>2</th>\n",
       "      <td>NaN</td>\n",
       "      <td>NaN</td>\n",
       "      <td>NaN</td>\n",
       "      <td>NaN</td>\n",
       "      <td>NaN</td>\n",
       "      <td>NaN</td>\n",
       "      <td>NaN</td>\n",
       "      <td>NaN</td>\n",
       "      <td>NaN</td>\n",
       "      <td>NaN</td>\n",
       "      <td>...</td>\n",
       "      <td>NaN</td>\n",
       "      <td>NaN</td>\n",
       "      <td>NaN</td>\n",
       "      <td>NaN</td>\n",
       "      <td>NaN</td>\n",
       "      <td>NaN</td>\n",
       "      <td>NaN</td>\n",
       "      <td>NaN</td>\n",
       "      <td>NaN</td>\n",
       "      <td>NaN</td>\n",
       "    </tr>\n",
       "    <tr>\n",
       "      <th>3</th>\n",
       "      <td>NaN</td>\n",
       "      <td>0.033917</td>\n",
       "      <td>NaN</td>\n",
       "      <td>0.040580</td>\n",
       "      <td>NaN</td>\n",
       "      <td>NaN</td>\n",
       "      <td>0.028909</td>\n",
       "      <td>NaN</td>\n",
       "      <td>NaN</td>\n",
       "      <td>NaN</td>\n",
       "      <td>...</td>\n",
       "      <td>NaN</td>\n",
       "      <td>NaN</td>\n",
       "      <td>NaN</td>\n",
       "      <td>NaN</td>\n",
       "      <td>NaN</td>\n",
       "      <td>NaN</td>\n",
       "      <td>NaN</td>\n",
       "      <td>NaN</td>\n",
       "      <td>NaN</td>\n",
       "      <td>NaN</td>\n",
       "    </tr>\n",
       "    <tr>\n",
       "      <th>4</th>\n",
       "      <td>NaN</td>\n",
       "      <td>NaN</td>\n",
       "      <td>NaN</td>\n",
       "      <td>0.119362</td>\n",
       "      <td>NaN</td>\n",
       "      <td>NaN</td>\n",
       "      <td>NaN</td>\n",
       "      <td>NaN</td>\n",
       "      <td>NaN</td>\n",
       "      <td>NaN</td>\n",
       "      <td>...</td>\n",
       "      <td>NaN</td>\n",
       "      <td>NaN</td>\n",
       "      <td>NaN</td>\n",
       "      <td>NaN</td>\n",
       "      <td>NaN</td>\n",
       "      <td>NaN</td>\n",
       "      <td>NaN</td>\n",
       "      <td>NaN</td>\n",
       "      <td>NaN</td>\n",
       "      <td>NaN</td>\n",
       "    </tr>\n",
       "    <tr>\n",
       "      <th>...</th>\n",
       "      <td>...</td>\n",
       "      <td>...</td>\n",
       "      <td>...</td>\n",
       "      <td>...</td>\n",
       "      <td>...</td>\n",
       "      <td>...</td>\n",
       "      <td>...</td>\n",
       "      <td>...</td>\n",
       "      <td>...</td>\n",
       "      <td>...</td>\n",
       "      <td>...</td>\n",
       "      <td>...</td>\n",
       "      <td>...</td>\n",
       "      <td>...</td>\n",
       "      <td>...</td>\n",
       "      <td>...</td>\n",
       "      <td>...</td>\n",
       "      <td>...</td>\n",
       "      <td>...</td>\n",
       "      <td>...</td>\n",
       "      <td>...</td>\n",
       "    </tr>\n",
       "    <tr>\n",
       "      <th>224</th>\n",
       "      <td>NaN</td>\n",
       "      <td>NaN</td>\n",
       "      <td>0.030220</td>\n",
       "      <td>NaN</td>\n",
       "      <td>NaN</td>\n",
       "      <td>NaN</td>\n",
       "      <td>NaN</td>\n",
       "      <td>0.05957</td>\n",
       "      <td>0.130151</td>\n",
       "      <td>NaN</td>\n",
       "      <td>...</td>\n",
       "      <td>NaN</td>\n",
       "      <td>NaN</td>\n",
       "      <td>NaN</td>\n",
       "      <td>NaN</td>\n",
       "      <td>NaN</td>\n",
       "      <td>NaN</td>\n",
       "      <td>NaN</td>\n",
       "      <td>NaN</td>\n",
       "      <td>NaN</td>\n",
       "      <td>NaN</td>\n",
       "    </tr>\n",
       "    <tr>\n",
       "      <th>225</th>\n",
       "      <td>NaN</td>\n",
       "      <td>NaN</td>\n",
       "      <td>NaN</td>\n",
       "      <td>0.041848</td>\n",
       "      <td>0.037054</td>\n",
       "      <td>0.236773</td>\n",
       "      <td>NaN</td>\n",
       "      <td>NaN</td>\n",
       "      <td>NaN</td>\n",
       "      <td>NaN</td>\n",
       "      <td>...</td>\n",
       "      <td>NaN</td>\n",
       "      <td>NaN</td>\n",
       "      <td>NaN</td>\n",
       "      <td>NaN</td>\n",
       "      <td>NaN</td>\n",
       "      <td>NaN</td>\n",
       "      <td>NaN</td>\n",
       "      <td>NaN</td>\n",
       "      <td>NaN</td>\n",
       "      <td>NaN</td>\n",
       "    </tr>\n",
       "    <tr>\n",
       "      <th>226</th>\n",
       "      <td>0.035816</td>\n",
       "      <td>NaN</td>\n",
       "      <td>NaN</td>\n",
       "      <td>NaN</td>\n",
       "      <td>NaN</td>\n",
       "      <td>NaN</td>\n",
       "      <td>NaN</td>\n",
       "      <td>NaN</td>\n",
       "      <td>NaN</td>\n",
       "      <td>NaN</td>\n",
       "      <td>...</td>\n",
       "      <td>NaN</td>\n",
       "      <td>NaN</td>\n",
       "      <td>NaN</td>\n",
       "      <td>NaN</td>\n",
       "      <td>NaN</td>\n",
       "      <td>NaN</td>\n",
       "      <td>NaN</td>\n",
       "      <td>NaN</td>\n",
       "      <td>NaN</td>\n",
       "      <td>NaN</td>\n",
       "    </tr>\n",
       "    <tr>\n",
       "      <th>227</th>\n",
       "      <td>NaN</td>\n",
       "      <td>NaN</td>\n",
       "      <td>NaN</td>\n",
       "      <td>0.376420</td>\n",
       "      <td>NaN</td>\n",
       "      <td>0.083764</td>\n",
       "      <td>0.060513</td>\n",
       "      <td>NaN</td>\n",
       "      <td>NaN</td>\n",
       "      <td>NaN</td>\n",
       "      <td>...</td>\n",
       "      <td>NaN</td>\n",
       "      <td>NaN</td>\n",
       "      <td>NaN</td>\n",
       "      <td>NaN</td>\n",
       "      <td>NaN</td>\n",
       "      <td>NaN</td>\n",
       "      <td>NaN</td>\n",
       "      <td>NaN</td>\n",
       "      <td>NaN</td>\n",
       "      <td>NaN</td>\n",
       "    </tr>\n",
       "    <tr>\n",
       "      <th>228</th>\n",
       "      <td>NaN</td>\n",
       "      <td>NaN</td>\n",
       "      <td>0.029823</td>\n",
       "      <td>0.075982</td>\n",
       "      <td>NaN</td>\n",
       "      <td>0.034872</td>\n",
       "      <td>0.065416</td>\n",
       "      <td>NaN</td>\n",
       "      <td>0.031807</td>\n",
       "      <td>NaN</td>\n",
       "      <td>...</td>\n",
       "      <td>NaN</td>\n",
       "      <td>NaN</td>\n",
       "      <td>NaN</td>\n",
       "      <td>NaN</td>\n",
       "      <td>NaN</td>\n",
       "      <td>NaN</td>\n",
       "      <td>NaN</td>\n",
       "      <td>NaN</td>\n",
       "      <td>NaN</td>\n",
       "      <td>NaN</td>\n",
       "    </tr>\n",
       "  </tbody>\n",
       "</table>\n",
       "<p>229 rows × 35 columns</p>\n",
       "</div>"
      ],
      "text/plain": [
       "           1         5         6         7         8         9         10  \\\n",
       "0    0.084724       NaN       NaN       NaN       NaN  0.049360       NaN   \n",
       "1    0.730625       NaN       NaN       NaN       NaN  0.165545       NaN   \n",
       "2         NaN       NaN       NaN       NaN       NaN       NaN       NaN   \n",
       "3         NaN  0.033917       NaN  0.040580       NaN       NaN  0.028909   \n",
       "4         NaN       NaN       NaN  0.119362       NaN       NaN       NaN   \n",
       "..        ...       ...       ...       ...       ...       ...       ...   \n",
       "224       NaN       NaN  0.030220       NaN       NaN       NaN       NaN   \n",
       "225       NaN       NaN       NaN  0.041848  0.037054  0.236773       NaN   \n",
       "226  0.035816       NaN       NaN       NaN       NaN       NaN       NaN   \n",
       "227       NaN       NaN       NaN  0.376420       NaN  0.083764  0.060513   \n",
       "228       NaN       NaN  0.029823  0.075982       NaN  0.034872  0.065416   \n",
       "\n",
       "          11        13  14  ...  30  32  34  31  2   12  18  22  27  28  \n",
       "0        NaN       NaN NaN  ... NaN NaN NaN NaN NaN NaN NaN NaN NaN NaN  \n",
       "1        NaN       NaN NaN  ... NaN NaN NaN NaN NaN NaN NaN NaN NaN NaN  \n",
       "2        NaN       NaN NaN  ... NaN NaN NaN NaN NaN NaN NaN NaN NaN NaN  \n",
       "3        NaN       NaN NaN  ... NaN NaN NaN NaN NaN NaN NaN NaN NaN NaN  \n",
       "4        NaN       NaN NaN  ... NaN NaN NaN NaN NaN NaN NaN NaN NaN NaN  \n",
       "..       ...       ...  ..  ...  ..  ..  ..  ..  ..  ..  ..  ..  ..  ..  \n",
       "224  0.05957  0.130151 NaN  ... NaN NaN NaN NaN NaN NaN NaN NaN NaN NaN  \n",
       "225      NaN       NaN NaN  ... NaN NaN NaN NaN NaN NaN NaN NaN NaN NaN  \n",
       "226      NaN       NaN NaN  ... NaN NaN NaN NaN NaN NaN NaN NaN NaN NaN  \n",
       "227      NaN       NaN NaN  ... NaN NaN NaN NaN NaN NaN NaN NaN NaN NaN  \n",
       "228      NaN  0.031807 NaN  ... NaN NaN NaN NaN NaN NaN NaN NaN NaN NaN  \n",
       "\n",
       "[229 rows x 35 columns]"
      ]
     },
     "execution_count": 119,
     "metadata": {},
     "output_type": "execute_result"
    }
   ],
   "source": [
    "salient_filter = df_topic_distribution >= 1/k\n",
    "df_salient_topics = df_topic_distribution[salient_filter]\n",
    "df_salient_topics"
   ]
  },
  {
   "cell_type": "markdown",
   "metadata": {},
   "source": [
    "### Salient topics in each paragraph"
   ]
  },
  {
   "cell_type": "code",
   "execution_count": 120,
   "metadata": {},
   "outputs": [
    {
     "data": {
      "text/html": [
       "<div>\n",
       "<style scoped>\n",
       "    .dataframe tbody tr th:only-of-type {\n",
       "        vertical-align: middle;\n",
       "    }\n",
       "\n",
       "    .dataframe tbody tr th {\n",
       "        vertical-align: top;\n",
       "    }\n",
       "\n",
       "    .dataframe thead th {\n",
       "        text-align: right;\n",
       "    }\n",
       "</style>\n",
       "<table border=\"1\" class=\"dataframe\">\n",
       "  <thead>\n",
       "    <tr style=\"text-align: right;\">\n",
       "      <th></th>\n",
       "      <th>0</th>\n",
       "      <th>1</th>\n",
       "      <th>2</th>\n",
       "      <th>3</th>\n",
       "      <th>4</th>\n",
       "      <th>5</th>\n",
       "      <th>6</th>\n",
       "      <th>7</th>\n",
       "      <th>8</th>\n",
       "      <th>9</th>\n",
       "      <th>...</th>\n",
       "      <th>25</th>\n",
       "      <th>26</th>\n",
       "      <th>27</th>\n",
       "      <th>28</th>\n",
       "      <th>29</th>\n",
       "      <th>30</th>\n",
       "      <th>31</th>\n",
       "      <th>32</th>\n",
       "      <th>33</th>\n",
       "      <th>34</th>\n",
       "    </tr>\n",
       "  </thead>\n",
       "  <tbody>\n",
       "    <tr>\n",
       "      <th>0</th>\n",
       "      <td>NaN</td>\n",
       "      <td>0.028571</td>\n",
       "      <td>NaN</td>\n",
       "      <td>NaN</td>\n",
       "      <td>NaN</td>\n",
       "      <td>NaN</td>\n",
       "      <td>NaN</td>\n",
       "      <td>NaN</td>\n",
       "      <td>NaN</td>\n",
       "      <td>0.028571</td>\n",
       "      <td>...</td>\n",
       "      <td>0.028571</td>\n",
       "      <td>0.028571</td>\n",
       "      <td>NaN</td>\n",
       "      <td>NaN</td>\n",
       "      <td>NaN</td>\n",
       "      <td>NaN</td>\n",
       "      <td>NaN</td>\n",
       "      <td>NaN</td>\n",
       "      <td>NaN</td>\n",
       "      <td>NaN</td>\n",
       "    </tr>\n",
       "    <tr>\n",
       "      <th>1</th>\n",
       "      <td>NaN</td>\n",
       "      <td>0.028571</td>\n",
       "      <td>NaN</td>\n",
       "      <td>NaN</td>\n",
       "      <td>NaN</td>\n",
       "      <td>NaN</td>\n",
       "      <td>NaN</td>\n",
       "      <td>NaN</td>\n",
       "      <td>NaN</td>\n",
       "      <td>0.028571</td>\n",
       "      <td>...</td>\n",
       "      <td>0.028571</td>\n",
       "      <td>NaN</td>\n",
       "      <td>NaN</td>\n",
       "      <td>NaN</td>\n",
       "      <td>NaN</td>\n",
       "      <td>NaN</td>\n",
       "      <td>NaN</td>\n",
       "      <td>NaN</td>\n",
       "      <td>NaN</td>\n",
       "      <td>NaN</td>\n",
       "    </tr>\n",
       "    <tr>\n",
       "      <th>2</th>\n",
       "      <td>NaN</td>\n",
       "      <td>NaN</td>\n",
       "      <td>NaN</td>\n",
       "      <td>NaN</td>\n",
       "      <td>NaN</td>\n",
       "      <td>NaN</td>\n",
       "      <td>NaN</td>\n",
       "      <td>NaN</td>\n",
       "      <td>NaN</td>\n",
       "      <td>NaN</td>\n",
       "      <td>...</td>\n",
       "      <td>0.027816</td>\n",
       "      <td>NaN</td>\n",
       "      <td>NaN</td>\n",
       "      <td>NaN</td>\n",
       "      <td>NaN</td>\n",
       "      <td>NaN</td>\n",
       "      <td>NaN</td>\n",
       "      <td>NaN</td>\n",
       "      <td>NaN</td>\n",
       "      <td>NaN</td>\n",
       "    </tr>\n",
       "    <tr>\n",
       "      <th>3</th>\n",
       "      <td>NaN</td>\n",
       "      <td>NaN</td>\n",
       "      <td>NaN</td>\n",
       "      <td>NaN</td>\n",
       "      <td>NaN</td>\n",
       "      <td>0.045215</td>\n",
       "      <td>NaN</td>\n",
       "      <td>0.027249</td>\n",
       "      <td>NaN</td>\n",
       "      <td>NaN</td>\n",
       "      <td>...</td>\n",
       "      <td>NaN</td>\n",
       "      <td>0.032092</td>\n",
       "      <td>NaN</td>\n",
       "      <td>NaN</td>\n",
       "      <td>NaN</td>\n",
       "      <td>NaN</td>\n",
       "      <td>NaN</td>\n",
       "      <td>NaN</td>\n",
       "      <td>NaN</td>\n",
       "      <td>NaN</td>\n",
       "    </tr>\n",
       "    <tr>\n",
       "      <th>4</th>\n",
       "      <td>NaN</td>\n",
       "      <td>NaN</td>\n",
       "      <td>NaN</td>\n",
       "      <td>NaN</td>\n",
       "      <td>NaN</td>\n",
       "      <td>NaN</td>\n",
       "      <td>NaN</td>\n",
       "      <td>0.023874</td>\n",
       "      <td>NaN</td>\n",
       "      <td>NaN</td>\n",
       "      <td>...</td>\n",
       "      <td>NaN</td>\n",
       "      <td>0.031073</td>\n",
       "      <td>NaN</td>\n",
       "      <td>NaN</td>\n",
       "      <td>NaN</td>\n",
       "      <td>NaN</td>\n",
       "      <td>NaN</td>\n",
       "      <td>NaN</td>\n",
       "      <td>NaN</td>\n",
       "      <td>NaN</td>\n",
       "    </tr>\n",
       "    <tr>\n",
       "      <th>...</th>\n",
       "      <td>...</td>\n",
       "      <td>...</td>\n",
       "      <td>...</td>\n",
       "      <td>...</td>\n",
       "      <td>...</td>\n",
       "      <td>...</td>\n",
       "      <td>...</td>\n",
       "      <td>...</td>\n",
       "      <td>...</td>\n",
       "      <td>...</td>\n",
       "      <td>...</td>\n",
       "      <td>...</td>\n",
       "      <td>...</td>\n",
       "      <td>...</td>\n",
       "      <td>...</td>\n",
       "      <td>...</td>\n",
       "      <td>...</td>\n",
       "      <td>...</td>\n",
       "      <td>...</td>\n",
       "      <td>...</td>\n",
       "      <td>...</td>\n",
       "    </tr>\n",
       "    <tr>\n",
       "      <th>11626</th>\n",
       "      <td>NaN</td>\n",
       "      <td>NaN</td>\n",
       "      <td>NaN</td>\n",
       "      <td>NaN</td>\n",
       "      <td>NaN</td>\n",
       "      <td>NaN</td>\n",
       "      <td>NaN</td>\n",
       "      <td>NaN</td>\n",
       "      <td>NaN</td>\n",
       "      <td>NaN</td>\n",
       "      <td>...</td>\n",
       "      <td>NaN</td>\n",
       "      <td>NaN</td>\n",
       "      <td>NaN</td>\n",
       "      <td>NaN</td>\n",
       "      <td>NaN</td>\n",
       "      <td>NaN</td>\n",
       "      <td>NaN</td>\n",
       "      <td>NaN</td>\n",
       "      <td>NaN</td>\n",
       "      <td>NaN</td>\n",
       "    </tr>\n",
       "    <tr>\n",
       "      <th>11627</th>\n",
       "      <td>NaN</td>\n",
       "      <td>NaN</td>\n",
       "      <td>NaN</td>\n",
       "      <td>NaN</td>\n",
       "      <td>NaN</td>\n",
       "      <td>NaN</td>\n",
       "      <td>NaN</td>\n",
       "      <td>NaN</td>\n",
       "      <td>NaN</td>\n",
       "      <td>NaN</td>\n",
       "      <td>...</td>\n",
       "      <td>NaN</td>\n",
       "      <td>NaN</td>\n",
       "      <td>NaN</td>\n",
       "      <td>NaN</td>\n",
       "      <td>NaN</td>\n",
       "      <td>NaN</td>\n",
       "      <td>NaN</td>\n",
       "      <td>NaN</td>\n",
       "      <td>NaN</td>\n",
       "      <td>NaN</td>\n",
       "    </tr>\n",
       "    <tr>\n",
       "      <th>11628</th>\n",
       "      <td>NaN</td>\n",
       "      <td>NaN</td>\n",
       "      <td>NaN</td>\n",
       "      <td>NaN</td>\n",
       "      <td>NaN</td>\n",
       "      <td>NaN</td>\n",
       "      <td>NaN</td>\n",
       "      <td>NaN</td>\n",
       "      <td>NaN</td>\n",
       "      <td>NaN</td>\n",
       "      <td>...</td>\n",
       "      <td>NaN</td>\n",
       "      <td>NaN</td>\n",
       "      <td>NaN</td>\n",
       "      <td>NaN</td>\n",
       "      <td>NaN</td>\n",
       "      <td>NaN</td>\n",
       "      <td>NaN</td>\n",
       "      <td>NaN</td>\n",
       "      <td>NaN</td>\n",
       "      <td>NaN</td>\n",
       "    </tr>\n",
       "    <tr>\n",
       "      <th>11629</th>\n",
       "      <td>NaN</td>\n",
       "      <td>NaN</td>\n",
       "      <td>NaN</td>\n",
       "      <td>NaN</td>\n",
       "      <td>NaN</td>\n",
       "      <td>NaN</td>\n",
       "      <td>NaN</td>\n",
       "      <td>NaN</td>\n",
       "      <td>NaN</td>\n",
       "      <td>NaN</td>\n",
       "      <td>...</td>\n",
       "      <td>NaN</td>\n",
       "      <td>NaN</td>\n",
       "      <td>NaN</td>\n",
       "      <td>NaN</td>\n",
       "      <td>NaN</td>\n",
       "      <td>NaN</td>\n",
       "      <td>NaN</td>\n",
       "      <td>NaN</td>\n",
       "      <td>NaN</td>\n",
       "      <td>NaN</td>\n",
       "    </tr>\n",
       "    <tr>\n",
       "      <th>11630</th>\n",
       "      <td>NaN</td>\n",
       "      <td>NaN</td>\n",
       "      <td>NaN</td>\n",
       "      <td>NaN</td>\n",
       "      <td>NaN</td>\n",
       "      <td>NaN</td>\n",
       "      <td>NaN</td>\n",
       "      <td>NaN</td>\n",
       "      <td>NaN</td>\n",
       "      <td>NaN</td>\n",
       "      <td>...</td>\n",
       "      <td>NaN</td>\n",
       "      <td>NaN</td>\n",
       "      <td>NaN</td>\n",
       "      <td>NaN</td>\n",
       "      <td>NaN</td>\n",
       "      <td>NaN</td>\n",
       "      <td>NaN</td>\n",
       "      <td>NaN</td>\n",
       "      <td>NaN</td>\n",
       "      <td>NaN</td>\n",
       "    </tr>\n",
       "  </tbody>\n",
       "</table>\n",
       "<p>11631 rows × 35 columns</p>\n",
       "</div>"
      ],
      "text/plain": [
       "       0         1   2   3   4         5   6         7   8         9   ...  \\\n",
       "0     NaN  0.028571 NaN NaN NaN       NaN NaN       NaN NaN  0.028571  ...   \n",
       "1     NaN  0.028571 NaN NaN NaN       NaN NaN       NaN NaN  0.028571  ...   \n",
       "2     NaN       NaN NaN NaN NaN       NaN NaN       NaN NaN       NaN  ...   \n",
       "3     NaN       NaN NaN NaN NaN  0.045215 NaN  0.027249 NaN       NaN  ...   \n",
       "4     NaN       NaN NaN NaN NaN       NaN NaN  0.023874 NaN       NaN  ...   \n",
       "...    ..       ...  ..  ..  ..       ...  ..       ...  ..       ...  ...   \n",
       "11626 NaN       NaN NaN NaN NaN       NaN NaN       NaN NaN       NaN  ...   \n",
       "11627 NaN       NaN NaN NaN NaN       NaN NaN       NaN NaN       NaN  ...   \n",
       "11628 NaN       NaN NaN NaN NaN       NaN NaN       NaN NaN       NaN  ...   \n",
       "11629 NaN       NaN NaN NaN NaN       NaN NaN       NaN NaN       NaN  ...   \n",
       "11630 NaN       NaN NaN NaN NaN       NaN NaN       NaN NaN       NaN  ...   \n",
       "\n",
       "             25        26  27  28  29  30  31  32  33  34  \n",
       "0      0.028571  0.028571 NaN NaN NaN NaN NaN NaN NaN NaN  \n",
       "1      0.028571       NaN NaN NaN NaN NaN NaN NaN NaN NaN  \n",
       "2      0.027816       NaN NaN NaN NaN NaN NaN NaN NaN NaN  \n",
       "3           NaN  0.032092 NaN NaN NaN NaN NaN NaN NaN NaN  \n",
       "4           NaN  0.031073 NaN NaN NaN NaN NaN NaN NaN NaN  \n",
       "...         ...       ...  ..  ..  ..  ..  ..  ..  ..  ..  \n",
       "11626       NaN       NaN NaN NaN NaN NaN NaN NaN NaN NaN  \n",
       "11627       NaN       NaN NaN NaN NaN NaN NaN NaN NaN NaN  \n",
       "11628       NaN       NaN NaN NaN NaN NaN NaN NaN NaN NaN  \n",
       "11629       NaN       NaN NaN NaN NaN NaN NaN NaN NaN NaN  \n",
       "11630       NaN       NaN NaN NaN NaN NaN NaN NaN NaN NaN  \n",
       "\n",
       "[11631 rows x 35 columns]"
      ]
     },
     "execution_count": 120,
     "metadata": {},
     "output_type": "execute_result"
    }
   ],
   "source": [
    "df_salient_topics_para = df_topic_para1.iloc[:, 2:][salient_filter]\n",
    "df_salient_topics_para"
   ]
  },
  {
   "cell_type": "markdown",
   "metadata": {},
   "source": [
    "# Topic interpretation\n",
    "To interpret the topics, I combined the word frequncy demonstrated by pyLDAvis with prototypical documents or paragraphs suggested by PTBI proposed by Marchetti and Puranam (2020)"
   ]
  },
  {
   "cell_type": "markdown",
   "metadata": {},
   "source": [
    "### Word frequency of each topic"
   ]
  },
  {
   "cell_type": "code",
   "execution_count": 121,
   "metadata": {},
   "outputs": [
    {
     "data": {
      "text/html": [
       "\n",
       "<link rel=\"stylesheet\" type=\"text/css\" href=\"https://cdn.jsdelivr.net/gh/bmabey/pyLDAvis@3.3.1/pyLDAvis/js/ldavis.v1.0.0.css\">\n",
       "\n",
       "\n",
       "<div id=\"ldavis_el2097225746010067683522498619\"></div>\n",
       "<script type=\"text/javascript\">\n",
       "\n",
       "var ldavis_el2097225746010067683522498619_data = {\"mdsDat\": {\"x\": [-0.21498875133117115, 0.1424998498012312, -0.18708039964902576, -0.14707817716643207, -0.2060699746322113, 0.15415025180492786, 0.13863188370973967, 0.16075328621323492, 0.022895033580229037, 0.13229092201256673, 0.16049271491763314, 0.06425645039975136, -0.22057693349322197, 0.16677810923870046, 0.14439003259322108, 0.12761390648104978, 0.15721780240841735, 0.16213095124815372, -0.19784857566299677, 0.14611763161171265, 0.13679298452879476, 0.16566307437593358, -0.24530480623423215, 0.1621218897864239, -0.18798692020103372, 0.16115734271196755, 0.13056384650731115, -0.20928632778617856, -0.2365469022824916, 0.1312269868999806, -0.19289748705413823, -0.2942467912082877, -0.20892336231334266, 0.1411743682568326, -0.16008391007305092], \"y\": [-0.02179555682607452, 0.03233728970222656, 0.034436106919818306, -0.03874969441311361, 0.0072631034790870885, -0.012362106639241921, -0.09751778916103229, 0.024943410093142864, -0.009736795268204314, 0.043517895600071035, 0.05884689907853987, 0.16022560752031983, 0.015483679765499464, 0.001229545787679847, 0.02679939346068096, -0.25145736396311036, 0.0010931229826227828, 0.0297712160430028, 0.009066817425115548, -0.09683181080653067, 0.0007476518489628287, 0.10137654042220695, 0.004769501419335642, -0.00022980421612401865, -0.0034351416648178974, 0.08068754008281834, -0.09729010142579102, 0.02038171548462381, -0.0058966975518845235, -0.017402470570404244, -0.008477185029803658, -0.009632530947324162, -0.008115310936845116, 0.026452650631271456, -0.0004993283267243718], \"topics\": [1, 2, 3, 4, 5, 6, 7, 8, 9, 10, 11, 12, 13, 14, 15, 16, 17, 18, 19, 20, 21, 22, 23, 24, 25, 26, 27, 28, 29, 30, 31, 32, 33, 34, 35], \"cluster\": [1, 1, 1, 1, 1, 1, 1, 1, 1, 1, 1, 1, 1, 1, 1, 1, 1, 1, 1, 1, 1, 1, 1, 1, 1, 1, 1, 1, 1, 1, 1, 1, 1, 1, 1], \"Freq\": [0.013838088547519766, 11.1060069042878, 0.015151774875785456, 0.014847602069782029, 0.013905325058959006, 5.959934985047527, 3.8948248425253427, 1.9507895968316498, 0.13494719187436688, 6.864843377358379, 4.414204430639266, 0.3175488436067213, 0.013689037250763016, 3.9314525638439797, 9.179039346964757, 1.5758085456657518, 1.4215494545642644, 2.215628965570362, 0.013973445370316464, 12.326023103201848, 7.339838830289637, 1.376269498834241, 0.013995570680381576, 9.259016364444149, 0.01402293514615532, 8.804216630801925, 3.060724486391002, 0.01385472511699515, 0.01358131992892498, 0.5271821796378832, 0.014067189685681278, 0.01881608986261466, 0.013932436534713379, 4.1378753105939925, 0.01459900689654442]}, \"tinfo\": {\"Term\": [\"transport\", \"would\", \"crossrail\", \"make\", \"government\", \"year\", \"service\", \"rail\", \"line\", \"work\", \"road\", \"train\", \"railway\", \"take\", \"scheme\", \"public\", \"need\", \"plan\", \"passenger\", \"project\", \"system\", \"time\", \"cost\", \"investment\", \"also\", \"give\", \"people\", \"station\", \"local\", \"freight\", \"vention\", \"aggreement\", \"vehi\", \"steadi\", \"ciate\", \"imise\", \"denly\", \"oncost\", \"tranphort\", \"indivi\", \"rasse\", \"erably\", \"vastest\", \"monly\", \"paigning\", \"dorreli\", \"pine\", \"bance\", \"iast\", \"disas\", \"suflter\", \"innnermost\", \"sclserp\", \"ejrfort\", \"eldon_street\", \"arden\", \"faffic\", \"niittee\", \"isian\", \"candy\", \"actuate\", \"fallow\", \"parlianient\", \"investi\", \"propor\", \"thestation\", \"intimation\", \"heav\", \"witness_withdrew_lieven\", \"crossrail\", \"irrecoverable\", \"sitting_suspende\", \"lord_peyton_yeovil_lord\", \"minis\", \"would\", \"project\", \"make\", \"transport\", \"line\", \"question\", \"work\", \"year\", \"give\", \"come\", \"committee\", \"point\", \"people\", \"lord\", \"station\", \"provide\", \"scheme\", \"say\", \"could\", \"business\", \"take\", \"need\", \"much\", \"course\", \"area\", \"road\", \"support\", \"matter\", \"go\", \"first\", \"think\", \"plan\", \"service\", \"government\", \"system\", \"public\", \"cmnd\", \"osmotherly\", \"matthew\", \"ltpl\", \"pewp\", \"april_appendix_memorandum\", \"devon_county_council\", \"rickett\", \"miuion\", \"quant\", \"march_david_howell\", \"verbund\", \"dawson\", \"necessary_transparency_rigour\", \"block_allocation\", \"plans_outturn_cmnd\", \"peter_baldwin_continued_bridgeman\", \"witten\", \"bridge_strengthening\", \"wilkin\", \"miller\", \"eocal\", \"supplementary_credit_approval\", \"nutt\", \"locke\", \"inter_urban_trunk_road\", \"endowment\", \"pxwp\", \"george_young_philip_wood\", \"formulaic_funding\", \"metropolitan_district\", \"shared_prioritie\", \"catalytic_converter\", \"leeder\", \"apr\", \"traver\", \"multi_modal_studie\", \"ladyman\", \"ture\", \"michael_lyon\", \"ceca\", \"local\", \"ltps\", \"congestion_charging_workplace_parking\", \"authority\", \"trunke\", \"motoring\", \"plan\", \"allocation\", \"transport\", \"federal\", \"road\", \"taxation\", \"scheme\", \"funding\", \"policy\", \"target\", \"expenditure\", \"revenue\", \"government\", \"national\", \"priority\", \"traffic\", \"congestion\", \"resource\", \"fund\", \"capital\", \"guidance\", \"region\", \"major\", \"cent\", \"public\", \"increase\", \"year\", \"need\", \"investment\", \"would\", \"area\", \"level\", \"make\", \"cost\", \"take\", \"give\", \"could\", \"service\", \"also\", \"support\", \"rail\", \"provide\", \"lord_mackay_ardbrecknish_lord\", \"toot\", \"lord_clinton_davis_lord\", \"mouse\", \"shiver\", \"geriatric\", \"gullet\", \"hyperbole\", \"wondrous\", \"naughtie\", \"taxicab\", \"slander\", \"pete_wishart\", \"hever\", \"vacillation\", \"transmogrify\", \"south_spearing\", \"graffiti_ridden\", \"trek\", \"riisi\", \"herei\", \"charging_zone\", \"banter\", \"micawber\", \"rampart\", \"disavowal\", \"criss\", \"asinine\", \"puff\", \"parentage\", \"puffer\", \"passant\", \"crossed\", \"cheesepare\", \"coffin\", \"lord_lucas_chilworth\", \"martin_linton_battersea\", \"reproduced\", \"doom_gloom\", \"unionised\", \"northern\", \"hapless\", \"transport\", \"sniping\", \"line\", \"project\", \"government\", \"make\", \"year\", \"public\", \"plan\", \"system\", \"take\", \"service\", \"investment\", \"people\", \"scheme\", \"rail\", \"need\", \"question\", \"well\", \"underground\", \"would\", \"great\", \"next\", \"lord\", \"important\", \"private\", \"railway\", \"business\", \"road\", \"passenger\", \"route\", \"work\", \"train\", \"cost\", \"time\", \"lord_filkin_lord\", \"alverthorpe\", \"hug\", \"minu\", \"shipman\", \"engneering\", \"bud\", \"befit\", \"thermometer\", \"meihold\", \"presentation_slide_londlb\", \"harp\", \"morion\", \"footwork\", \"pugh_smith\", \"visa\", \"atlantis\", \"american_embassy\", \"burglary\", \"greenwich\", \"incarcerate\", \"petition_david_jame\", \"charmingly\", \"macho\", \"repossession\", \"rat\", \"firearm\", \"decency\", \"secretarial\", \"market_tenant\", \"takeaway\", \"eyed\", \"sideways\", \"woodland\", \"boycott\", \"crossrail\", \"omelette\", \"lord_peyton_yeovil_lord\", \"line\", \"work\", \"would\", \"make\", \"point\", \"time\", \"give\", \"need\", \"take\", \"say\", \"station\", \"right\", \"area\", \"government\", \"question\", \"case\", \"proposal\", \"look\", \"could\", \"people\", \"go\", \"propose\", \"service\", \"business\", \"course\", \"year\", \"well\", \"know\", \"much\", \"want\", \"transport\", \"also\", \"public\", \"scheme\", \"cost\", \"train\", \"road\", \"rsuade\", \"undergound\", \"inltitl\", \"metrohet\", \"sbmethe\", \"goveniment\", \"rial\", \"fiulure\", \"exteriial\", \"disagg\", \"gritter\", \"slower_pace\", \"emjdoyee\", \"compeiitive\", \"ittue\", \"inain\", \"torate\", \"validity_ticket\", \"systehi\", \"vwdespread\", \"pound_notes\", \"cihnd\", \"tinguish\", \"rerhe\", \"oftraffic\", \"airjiort\", \"jnake\", \"eltoni\", \"cpnperaed\", \"timdy\", \"departmeht\", \"achilles_heel\", \"silica\", \"sleight\", \"pbiht\", \"member_meirionnydd_nant\", \"inclusively\", \"northem\", \"canonbury\", \"masterplanner\", \"journalistic\", \"mrbidwell\", \"lord_filkin_lord\", \"said\", \"sitting_suspende\", \"protestor\", \"tent\", \"publicize\", \"crossrail\", \"transport\", \"line\", \"innocuous\", \"year\", \"government\", \"project\", \"would\", \"scheme\", \"public\", \"take\", \"question\", \"make\", \"service\", \"need\", \"provide\", \"say\", \"level\", \"area\", \"station\", \"report\", \"give\", \"come\", \"underground\", \"time\", \"plan\", \"well\", \"first\", \"benefit\", \"next\", \"link\", \"also\", \"rail\", \"work\", \"cost\", \"increase\", \"train\", \"donnelly\", \"greengross\", \"david_price\", \"turnock\", \"bicknell\", \"bridgeman\", \"david_riggs\", \"midwinter\", \"cowan\", \"sherlock\", \"midibuse\", \"howi\", \"february_alan_greengross\", \"fytche\", \"bayliss\", \"bagier\", \"myer\", \"cerne\", \"ough\", \"tainly\", \"challis\", \"phillip\", \"robert_brook_continue\", \"opera_tion\", \"spot_fine\", \"pharoah\", \"lcb\", \"coun\", \"continued_bicknell_mckee_nickson\", \"continued_david_bayliss\", \"prob_lem\", \"peter_parker\", \"february_peter_masefield\", \"automatic_fare_collection\", \"ticularly\", \"rights_reserved_minute\", \"information_learning_company\", \"bowi\", \"southern_region\", \"supplementary_license\", \"lcci\", \"tion\", \"inner\", \"online_copyright_proquest\", \"ment\", \"fare\", \"bidwell\", \"think\", \"would\", \"problem\", \"bowis\", \"present\", \"road\", \"transport\", \"traffic\", \"dockland\", \"people\", \"question\", \"public\", \"british\", \"system\", \"take\", \"could\", \"thing\", \"fact\", \"bus\", \"perhaps\", \"house_commons_parliamentary_paper\", \"much\", \"service\", \"area\", \"come\", \"view\", \"great\", \"make\", \"go\", \"point\", \"time\", \"year\", \"give\", \"need\", \"well\", \"say\", \"crossrall\", \"hybrid_bill\", \"goshchalk\", \"twogood\", \"refugee\", \"acoustic_barri\", \"hunter\", \"nsrb\", \"voice_recorde\", \"plaster\", \"left_hand_corn\", \"stonework\", \"mould_remind\", \"burrow\", \"srail\", \"kemp\", \"sound_studios_soho\", \"hunter_avenue\", \"pedroute_modelle\", \"crpssrail\", \"railair\", \"summarising\", \"winckworth\", \"dice\", \"metres_diameter\", \"timetabler\", \"qiairman\", \"mark_suzanne_lancaster\", \"glazing\", \"thomas_sparks_susan_goodbody\", \"spitalfleld\", \"bengali\", \"cocoon\", \"revised_tunnelle\", \"spitalfields\", \"spitalfield\", \"ssba\", \"crossrail\", \"appeared_behalf_petitioner_bircham\", \"woodseer_hanbury_residents_association\", \"article_directive\", \"alignment\", \"abbey_wood_ebbsfleet\", \"hanbury_street_shaft\", \"conveyor_belt\", \"berryman\", \"tunnelling\", \"whitechapel\", \"petitioner\", \"promoter\", \"committee\", \"environmental_statement\", \"option\", \"clrl\", \"alternative\", \"property\", \"shaft\", \"petition\", \"tunnel\", \"carpenter\", \"letter\", \"point\", \"would\", \"noise\", \"construction\", \"site\", \"position\", \"assessment\", \"building\", \"request\", \"impact\", \"evidence\", \"make\", \"issue\", \"matter\", \"could\", \"work\", \"say\", \"look\", \"area\", \"station\", \"take\", \"go\", \"think\", \"come\", \"time\", \"line\", \"concern\", \"give\", \"case\", \"also\", \"need\", \"project\", \"provide\", \"standee\", \"goulcher\", \"ludeman\", \"hoggarth\", \"pixc\", \"skegness\", \"franci\", \"short_formation\", \"friel\", \"doncaster_cleethorpe\", \"keith_ludeman_continue\", \"seated_standing\", \"peter_aldridge_paul_franci\", \"chris_green_euan_cameron\", \"handhold\", \"barton_humber_branch\", \"mondeo\", \"tannoy\", \"goole\", \"effluxion\", \"evenness\", \"buffer_stop_collision\", \"seat_reservation\", \"buggies_luggage\", \"detrainment\", \"crush_loading\", \"leeds_halifax_blackpool\", \"irregularly\", \"harrogate_leed\", \"interrogate\", \"overcrowding\", \"cartledge\", \"overcrowd\", \"godier\", \"bowker\", \"seat\", \"crowding\", \"crowded\", \"chronic_overcrowde\", \"seated\", \"porterbrook\", \"overcrowded\", \"smallwood\", \"carriage\", \"abbott\", \"vestibule\", \"crowd\", \"godi\", \"train\", \"platform\", \"evacuate\", \"count\", \"stand\", \"capacity\", \"peak\", \"passenger\", \"gner\", \"door\", \"commuter\", \"rolling_stock\", \"demand\", \"service\", \"lease\", \"problem\", \"loading\", \"number\", \"people\", \"long\", \"station\", \"time\", \"travel\", \"network\", \"safety\", \"would\", \"issue\", \"take\", \"rail\", \"year\", \"increase\", \"route\", \"make\", \"provide\", \"transport\", \"think\", \"line\", \"earl_attlee_lords\", \"preston_blackpool\", \"noble_baroness_lady_scott\", \"noble_friend_lord_faulkner\", \"scrabster\", \"diesel_traction\", \"lord_whitty_lord\", \"benefited\", \"grief\", \"lord_faulkner_worcester_lord\", \"tabling\", \"noble_lord_lord_bradshaw\", \"tragic_accident\", \"fray\", \"hebride\", \"noble_lord_lord_faulkner\", \"noble_lord_lord_berkeley\", \"diesel_powered\", \"electrify\", \"electric_traction\", \"turbostar\", \"nuclear_pow\", \"putative\", \"self_evidently\", \"stealth\", \"renewable\", \"electrically\", \"pennine\", \"fossil_fuels\", \"turbo\", \"diesel_engine\", \"electrification\", \"diesel\", \"noble_lord\", \"electricity\", \"tonight\", \"wire\", \"electric\", \"fuel\", \"supply\", \"shortage\", \"line\", \"strategic\", \"railway\", \"lordship\", \"would\", \"debate\", \"refer\", \"year\", \"train\", \"cent\", \"industry\", \"rail\", \"government\", \"much\", \"case\", \"need\", \"future\", \"must\", \"time\", \"take\", \"transport\", \"plan\", \"cost\", \"part\", \"long\", \"route\", \"devereux\", \"athlete\", \"olympic_park\", \"caborn\", \"olympic_family\", \"scngcr\", \"hobb\", \"paralympic\", \"near_cash_resource\", \"olympic_village\", \"interim_olympic\", \"cooke\", \"trallic\", \"railfuturc\", \"scnt\", \"couchcr\", \"rfrl\", \"agency_trading_fund\", \"trackwork_speed_restriction\", \"mcallister\", \"parkside\", \"september_appendix_memorandum\", \"diltcrcnt\", \"sailing_event\", \"winter_supplementary_estimate\", \"olympic_venue\", \"scnger\", \"rayncr\", \"spring_supplementary_estimate\", \"ruth_kelly_robert_devereux\", \"spectator\", \"game\", \"hlo\", \"olympic\", \"rugby\", \"travelator\", \"scat\", \"tran_sport\", \"venue\", \"incrca\", \"coucher\", \"sloman\", \"legacy\", \"franchi\", \"outsourcing\", \"rssb\", \"senger\", \"unregulated_fare\", \"blockade\", \"doc\", \"level_output_specification\", \"network\", \"carbon\", \"rail\", \"capacity\", \"deliver\", \"growth\", \"electrification\", \"event\", \"plan\", \"stratford\", \"train\", \"transport\", \"railway\", \"challenge\", \"strategy\", \"need\", \"work\", \"project\", \"industry\", \"year\", \"station\", \"line\", \"passenger\", \"time\", \"service\", \"increase\", \"government\", \"also\", \"people\", \"department\", \"would\", \"provide\", \"include\", \"make\", \"freight\", \"think\", \"take\", \"traf\\ufb01c\", \"signi\\ufb01cant\", \"\\ufb01nancial\", \"clrs\", \"bene\\ufb01ts\", \"\\ufb01nance\", \"ef\\ufb01ciency\", \"speci\\ufb01cation\", \"\\ufb02ow\", \"ef\\ufb01cient\", \"signi\\ufb01cantly\", \"re\\ufb02ect\", \"speci\\ufb01c\", \"re\\ufb02ecte\", \"suf\\ufb01cient\", \"train_traf\\ufb01c_intensity\", \"lgms\", \"\\ufb01gure\", \"hat\\ufb01eld\", \"bene\\ufb01t\", \"\\ufb02eet\", \"stakeholder_equity\", \"\\ufb01nal\", \"phil_starle\", \"\\ufb02exibility\", \"ipcs\", \"voidage\", \"con\\ufb01dence\", \"transpennine_express_franchise\", \"enhanceable\", \"value_money_test\", \"depreciation_renewal\", \"mileage_operate\", \"cleaning\", \"four_weekly\", \"peak\", \"line\", \"rights_reserved\", \"manager\", \"table\", \"project\", \"staff\", \"train\", \"review\", \"clrl\", \"service\", \"renewal\", \"replacement\", \"performance\", \"central\", \"travelcard\", \"cost\", \"directorate\", \"station\", \"passenger\", \"increase\", \"improve\", \"capacity\", \"include\", \"route\", \"plan\", \"total\", \"business\", \"level\", \"management\", \"work\", \"programme\", \"year\", \"expenditure\", \"provide\", \"improvement\", \"investment\", \"network\", \"system\", \"also\", \"rail\", \"would\", \"time\", \"development\", \"professor_stephen_glaister\", \"peter_hendy_managing_director\", \"tocu\", \"thames_clipper\", \"operational_command_unit\", \"walworth\", \"tpe\", \"tout\", \"uniformed\", \"enforcement_directorate_tpe\", \"btec\", \"depreciation_release_deferred_grant\", \"victoria_coach_station\", \"black_minority_ethnic\", \"gallery\", \"tlrn\", \"silvertown\", \"dial_ride\", \"audited\", \"annual_report\", \"year_ended_march\", \"tactile_pave\", \"restate\", \"min\", \"facelift\", \"oyster_cards\", \"pole\", \"museum\", \"floor_wheelchair_accessible\", \"received_royal_assent\", \"assault\", \"arrest\", \"final\", \"page\", \"mayor\", \"borough\", \"woman\", \"improve\", \"bus\", \"improvement\", \"transport\", \"service\", \"interchange\", \"priority\", \"cent\", \"work\", \"travel\", \"underground\", \"traffic\", \"also\", \"station\", \"increase\", \"year\", \"congestion\", \"last\", \"information\", \"reduce\", \"provide\", \"include\", \"passenger\", \"make\", \"major\", \"route\", \"people\", \"stn\", \"looa\", \"nugent\", \"pioportion\", \"equality_treatment\", \"orandum\", \"semmen\", \"believing\", \"inteicity\", \"ritation\", \"reemnmend\", \"particula\", \"lord_tanlaw\", \"hulme\", \"christian\", \"cct\", \"unadopted\", \"irritant\", \"draftedin\", \"acceptence\", \"presidential\", \"dismissse\", \"cbts\", \"otker\", \"iinportant\", \"contraint\", \"assuredly\", \"lyle\", \"dismemberment\", \"tkansport\", \"cxxv\", \"tight_curve\", \"statiobs\", \"stewart\", \"upgrade_gospel_barking\", \"europ\", \"liasion\", \"eiectric\", \"ossification\", \"middlewich\", \"platt\", \"spate\", \"para_ibid\", \"passant\", \"ritten\", \"pro\\ufb01_tability\", \"transport\", \"voliv\", \"line\", \"project\", \"make\", \"crossrail\", \"service\", \"government\", \"railway\", \"rail\", \"would\", \"passenger\", \"year\", \"need\", \"train\", \"investment\", \"give\", \"take\", \"provide\", \"also\", \"time\", \"link\", \"work\", \"area\", \"business\", \"cost\", \"proposal\", \"route\", \"scheme\", \"public\", \"could\", \"plan\", \"system\", \"people\", \"network\", \"road\", \"sector_comparator\", \"extraordinary_review\", \"professor_glaister\", \"shadow_runne\", \"professor_lord_currie\", \"tied_supply_chain\", \"pimtou\", \"shaoul\", \"fuhr\", \"mrbcv\", \"mrssl\", \"loan_facility\", \"mure\", \"metronef\", \"metronep\", \"inffaco\", \"dividend_payment\", \"gaffney\", \"tubeline\", \"ageing_asset\", \"accumulative\", \"pricewaterhouse\", \"waiver\", \"southfield\", \"tony_poulter_continue\", \"donaghey_gerry_doherty_mike\", \"corrective_action_notice\", \"chancery_lane_incident\", \"viscount_astor_lord\", \"distressed\", \"arbiter\", \"ppps\", \"infraco\", \"blaiklock\", \"metronet\", \"toole\", \"morgan\", \"ppp\", \"infracos\", \"comparator\", \"tube_line\", \"bond\", \"lender\", \"abatement\", \"shareholder\", \"contract\", \"derailment\", \"underground\", \"administrator\", \"doherty\", \"overspend\", \"otoole\", \"tube\", \"risk\", \"performance\", \"report\", \"debt\", \"donohoe\", \"think\", \"transfer\", \"company\", \"year\", \"go\", \"would\", \"safety\", \"asset\", \"work\", \"cost\", \"public\", \"chairman\", \"deliver\", \"say\", \"money\", \"sector\", \"take\", \"make\", \"funding\", \"line\", \"programme\", \"government\", \"evidence\", \"time\", \"project\", \"look\", \"give\", \"good\", \"transport\", \"could\", \"ambrose\", \"modern_trams_britain\", \"grenoble\", \"holden\", \"track_share\", \"pphpd\", \"practicality_alternatives_light\", \"adelaide\", \"dbom\", \"lingard\", \"hennelly\", \"permanence\", \"trolleybus\", \"trolleybuse\", \"depledge\", \"slrt\", \"tarr\", \"lrvs\", \"hucknall\", \"tetley\", \"tucker\", \"diverting_utilitie\", \"mowlem\", \"main_obstacles_implementation\", \"aspinwall\", \"tramcar\", \"lack_standardisation\", \"leeds_south_hampshire\", \"councillor_leese\", \"lewisham_extension\", \"tramway\", \"guideway\", \"metrolink\", \"nante\", \"tram\", \"supertram\", \"rubber_tyre\", \"bahn\", \"light\", \"light_rapid_transit\", \"parry\", \"busway\", \"tramlink\", \"guided_busway\", \"segregated\", \"mcnulty\", \"segregate\", \"standardisation\", \"guide\", \"heavy\", \"corridor\", \"beneht\", \"transit\", \"system\", \"bus\", \"rail\", \"conventional\", \"patronage\", \"scheme\", \"cost\", \"manchester\", \"city\", \"urban\", \"transport\", \"vehicle\", \"public\", \"procurement\", \"benefit\", \"mode\", \"integrate\", \"high\", \"route\", \"regeneration\", \"extension\", \"development\", \"risk\", \"build\", \"passenger\", \"would\", \"operate\", \"local\", \"area\", \"provide\", \"project\", \"service\", \"line\", \"need\", \"make\", \"also\", \"evidence\", \"use\", \"traffic\", \"take\", \"year\", \"road\", \"government\", \"within_relevant_limit\", \"commencing_junction\", \"exercise_powers_conferre\", \"transferor\", \"within_limits_deposited\", \"sewer_beneath_point\", \"area_unitary_authority\", \"utilities_apparatus_provision\", \"terminating_junction\", \"transferee\", \"street_grade\", \"schedule_protective_provision\", \"sewerage_undertaker\", \"railway_metres_length\", \"supplementary_provision\", \"land_shown_deposite\", \"land_acquired_use\", \"grade_princelet_street\", \"passing_eastwards_terminating_junction\", \"west_bridge_carrye\", \"bridge_carrye\", \"forming_siding\", \"works_land_comprise\", \"acting_jointly\", \"extent_temporary_stoppe\", \"schedule_heritage_disapplication_modification\", \"power_conferred_section\", \"shall_exercisable\", \"subsection_applie\", \"arrangements_ought_modifie\", \"works_authorise\", \"subsection\", \"apparatus\", \"undertakers\", \"authority_request_nominate\", \"limits_land_acquire\", \"rights_liabilitie\", \"undertaker\", \"commencing\", \"exercisable\", \"metre\", \"shall\", \"schedule\", \"paragraph\", \"within_limits_deviation\", \"grade\", \"purpose\", \"land\", \"section\", \"person\", \"specify\", \"consent\", \"provision\", \"highway\", \"work\", \"notice\", \"relation\", \"part\", \"apply\", \"accordance\", \"authorise\", \"transfer\", \"carry\", \"construction\", \"crossrail\", \"point\", \"authority\", \"railway\", \"appropriate\", \"make\", \"road\", \"include\", \"site\", \"give\", \"require\", \"development\", \"professor_davie\", \"trespass_vandalism\", \"coleman\", \"slips_trips_fall\", \"nrcg\", \"horlick_jone\", \"webb\", \"muttram\", \"casebourne\", \"withdrawal_mark_stock\", \"confidential_incident_reporte\", \"collisions_derailment\", \"link_video_tape\", \"confidential_reporte\", \"continuous_recorde\", \"malicious_act\", \"notifiable\", \"prev\", \"struck_kille\", \"ergonomic\", \"rebodye\", \"multi_dimensional\", \"blacklist\", \"recorded_notifiable\", \"sociology\", \"adhesion\", \"manslaughter\", \"shunter\", \"informant\", \"unlit\", \"safety_standards_directorate\", \"causation\", \"defendant\", \"legal_proceeding\", \"spad\", \"trespasser\", \"fatality\", \"preventable\", \"accident_inquirie\", \"trackside\", \"trespass\", \"chief_inspector_railway\", \"contractor\", \"vandalism\", \"accident\", \"safety\", \"competence\", \"lineside\", \"tpws\", \"incident\", \"societal\", \"railtrack\", \"prosecution\", \"railway\", \"train\", \"risk\", \"reserved_appendices_minute\", \"industry\", \"offence\", \"inquiry\", \"track\", \"system\", \"police\", \"online_copyright_proquest_rights\", \"report\", \"work\", \"action\", \"management\", \"standard\", \"safe\", \"group\", \"take\", \"year\", \"would\", \"cause\", \"think\", \"number\", \"case\", \"evidence\", \"passenger\", \"make\", \"people\", \"issue\", \"problem\", \"rail\", \"line\", \"give\", \"also\", \"muirhead\", \"sheppard\", \"pellew\", \"slinn\", \"inland_waterway_shippe\", \"seeda\", \"fqps\", \"need_adjust_serve\", \"linington\", \"port_dover\", \"weakening_restrictions\", \"fidier\", \"roger_ke\", \"nautilus\", \"longer_heavi\", \"free_movement_good\", \"operation_stack\", \"fidi\", \"peel_port\", \"innovation_fund_productivity_stream\", \"aice\", \"semple\", \"night_flight\", \"gontinental\", \"belly\", \"eifort\", \"capsule\", \"abnormal_indivisible_load\", \"distribution_pattern\", \"welsh_sharon_davie\", \"trimmer\", \"level_playing_held\", \"freighter\", \"fitzpatrick\", \"cargo\", \"waterborne\", \"port\", \"freight\", \"teesport\", \"coastal_shippe\", \"specihc\", \"rda\", \"container\", \"manchester_ship_canal\", \"whitehead\", \"inland\", \"tonne\", \"signihcant\", \"identihe\", \"haulage\", \"beneht\", \"coal\", \"logistic\", \"airport\", \"wharf\", \"waterway\", \"european\", \"water\", \"industry\", \"road\", \"rail\", \"infrastructure\", \"foreign\", \"lorry\", \"market\", \"government\", \"growth\", \"economic\", \"network\", \"transport\", \"good\", \"move\", \"would\", \"vehicle\", \"sector\", \"movement\", \"increase\", \"policy\", \"capacity\", \"traffic\", \"think\", \"need\", \"chairman\", \"support\", \"operator\", \"cost\", \"could\", \"also\", \"make\", \"development\", \"take\", \"year\", \"altered_substitute\", \"trial_hole\", \"sneak\", \"trial_holes\", \"marlesford\", \"leveis\", \"committw\", \"stipendiary\", \"sewers_drain\", \"tiian\", \"broadmead\", \"settled_arbitration\", \"steven_norris_continue\", \"designating\", \"dehnitive\", \"eferre\", \"compellable\", \"insignihcant\", \"preach\", \"breadcroft\", \"stobbart\", \"rainwater\", \"rnetre\", \"eifectiveness\", \"dehned\", \"invwtment\", \"declarations_inter\", \"marshalling_yard\", \"betwwn\", \"multiplier\", \"betake\", \"stn\", \"unenthusiastic\", \"whitehouse\", \"riparian\", \"friend_member_poplar_canne\", \"borrower\", \"platt\", \"forthwith_pursuant_stande\", \"lord_filkin_lord\", \"nostalgia\", \"ancestor\", \"lord_peyton_yeovil_lord\", \"make\", \"crossrail\", \"government\", \"year\", \"investment\", \"rail\", \"project\", \"line\", \"service\", \"scheme\", \"time\", \"would\", \"also\", \"transport\", \"public\", \"railway\", \"work\", \"say\", \"next\", \"give\", \"part\", \"passenger\", \"plan\", \"improvement\", \"cost\", \"system\", \"increase\", \"major\", \"take\", \"train\", \"road\", \"need\", \"network\", \"iver\", \"acton_yard\", \"walter\", \"newd\", \"resilient_base_plate\", \"petitioner_appeare\", \"unewd\", \"feedthrough\", \"forest_gate\", \"double_glaze\", \"logarithmic\", \"bundle_exhibit\", \"third_band_octave\", \"petition_annetta_pedretti\", \"respectfully_submit\", \"grainger\", \"three_sidings_she\", \"forw\", \"boardroom\", \"slade_green_dartford\", \"north_downs_tunnel\", \"sphalfield\", \"biildocument\", \"rambler\", \"straken\", \"sound_insulation\", \"covering_broad_brush\", \"vehicular_access\", \"eldon_street_blomfield_street\", \"eleanor_ferguson_gerald_collin\", \"fagade\", \"loading_bay\", \"concrete_mixer\", \"christ_church\", \"odour\", \"linewd\", \"compulsorily_purchase\", \"winbourne\", \"purple\", \"methold\", \"melrose\", \"millimetre\", \"studio\", \"penfold\", \"syme\", \"society_ramblers_association\", \"tower_hamlet\", \"pedroute\", \"berryman\", \"spencer\", \"exhibit\", \"vibration\", \"towhlb\", \"lieven\", \"petitioner\", \"garratt\", \"westcc\", \"petition\", \"ree\", \"slide\", \"weiss\", \"thornley_taylor\", \"chard\", \"gateline\", \"mould\", \"noise\", \"tunnel_boring_machine\", \"tilley\", \"shaft\", \"shenfield\", \"crossrail\", \"promoter\", \"photograph\", \"site\", \"entrance\", \"building\", \"screen\", \"dust\", \"explain\", \"yesterday\", \"go\", \"undertaking\", \"committee\", \"thank\", \"would\", \"hear\", \"tunnel\", \"station\", \"point\", \"think\", \"page\", \"bill\", \"come\", \"impact\", \"look\", \"understand\", \"work\", \"know\", \"say\", \"take\", \"give\", \"concern\", \"want\", \"evidence\", \"area\", \"could\", \"make\", \"issue\", \"people\", \"number\", \"line\", \"time\", \"level\", \"need\", \"also\", \"noble_lord_lord_ezra\", \"rifkind\", \"redwood\", \"member_brent_east\", \"noble_learne\", \"portillo\", \"opposition_motion\", \"geraint_davie\", \"mawhinney\", \"ottaway\", \"gwyneth_dunwoody_crewe_nantwich\", \"noble_baroness_lady_thoma\", \"eastleigh\", \"gregory\", \"opposition_front_bench\", \"noble_lord_lord_astor\", \"noble_lord_lord_ewe\", \"labour_party\", \"eric_martlew_carlisle\", \"wholesale_privatisation\", \"member_bath_foster\", \"official_report\", \"charm\", \"friend_member_battersea\", \"mayoral_candidate\", \"foulke\", \"pig\", \"garni\", \"kensington_chelsea_portillo\", \"bruce\", \"right_learned_friend\", \"tory\", \"conservative\", \"friend\", \"spokesman\", \"liberal_democrat\", \"snape\", \"speech\", \"conservative_party\", \"back_bencher\", \"liberal\", \"lady\", \"bench\", \"constituency\", \"opposition\", \"constituent\", \"speaker\", \"labour\", \"debate\", \"gentleman\", \"congratulate\", \"deputy_prime_minister\", \"londoner\", \"noble_lord\", \"noble_lord_lord\", \"member\", \"lordship\", \"privatisation\", \"government\", \"minister\", \"promise\", \"tube\", \"investment\", \"shall\", \"say\", \"year\", \"underground\", \"today\", \"money\", \"hope\", \"many\", \"people\", \"right\", \"must\", \"make\", \"know\", \"transport\", \"line\", \"public\", \"want\", \"would\", \"railway\", \"problem\", \"give\", \"time\", \"system\", \"come\", \"need\", \"service\", \"take\", \"rail\", \"point\", \"train\", \"annual_report__full_version_page\", \"annual_report_statement_account\", \"corporation_corporation\", \"subsidiaries_joint_venture\", \"statement_account\", \"statement_accounts_notes_account\", \"recognised_gains_losse\", \"economy_efficiency_effectiveness\", \"equality_inclusion\", \"fixed_asset_restatement\", \"statement_accounts_statement_account\", \"fund_earmarked_reserve\", \"bame\", \"notes_accounts_continue\", \"actuarial_valuation\", \"pensions_reserve\", \"gaap\", \"unfunded_pension_liabilitie\", \"taxicard\", \"corporate_governance_assurance\", \"strgl\", \"impute\", \"statement_accounts_notes_accounts\", \"explanatory_foreword_financial\", \"director_internal_audit\", \"underlying_assets_liabilitie\", \"deferred_grant\", \"corporation_single_entity\", \"commissioner_chief_officer\", \"professor_stephen_glaister_kirsten\", \"ksis\", \"tangible_fixed_asset\", \"financial_instrument\", \"receivable\", \"debtor\", \"chief_officer\", \"liquidity\", \"fixed_asset\", \"annual_report_account\", \"assets_liabilitie\", \"creditor\", \"corporation\", \"remuneration\", \"liability\", \"pension\", \"march\", \"asset\", \"group\", \"income\", \"expenditure\", \"capital\", \"depreciation\", \"subsidiary\", \"accounting\", \"account\", \"launch\", \"year\", \"financial\", \"cent\", \"total\", \"continue\", \"borrowing\", \"include\", \"transport\", \"finance\", \"service\", \"programme\", \"increase\", \"value\", \"station\", \"passenger\", \"grant\", \"scheme\", \"amount\", \"work\", \"number\", \"investment\", \"provide\", \"improve\", \"also\", \"make\", \"cost\", \"deliver\", \"underground\", \"network\", \"system\", \"earl_caithness_lord\", \"retimed\", \"writtle\", \"passivity\", \"cowl\", \"slower_pace\", \"btifial\", \"mieah\", \"apprpval\", \"empiricism\", \"ihclude\", \"begiririirig\", \"bppprtunitie\", \"arowirig\", \"abput\", \"refemhg\", \"thfe\", \"ffif\", \"wational\", \"iriachiriery\", \"seenaingly\", \"predomihantly\", \"hmit\", \"uhlikely\", \"rtion\", \"cnsideration\", \"apcofding\", \"wishit\", \"gpvernment\", \"operatibhs\", \"provindal\", \"authbrity\", \"lord_boyd_carpenter\", \"uncanny\", \"thati\", \"endowed\", \"mike_gapes_ilford\", \"awaybreak\", \"lord_filkin_lord\", \"wrpng\", \"leveis\", \"lord\", \"seeni\", \"therii\", \"investnaent\", \"irig\", \"lord_peyton_yeovil_lord\", \"platt\", \"crossrail\", \"next\", \"year\", \"underground\", \"need\", \"line\", \"investment\", \"transport\", \"would\", \"government\", \"scheme\", \"make\", \"take\", \"project\", \"time\", \"public\", \"question\", \"rail\", \"plan\", \"also\", \"link\", \"central\", \"service\", \"road\", \"first\", \"improve\", \"say\", \"work\", \"give\", \"train\", \"provide\", \"railway\", \"winsor\", \"knapp\", \"ruccs\", \"burkhardt\", \"charterail\", \"whether_powers_sanction\", \"railway_regulation_functione\", \"fearnley\", \"anti_competitive_practice\", \"volv\", \"national_museum_science\", \"cross_validity\", \"profitable_subsidise\", \"gauge_comer_cracke\", \"powers_sanctions_available\", \"bertram\", \"alastair\", \"access_granting_exclusive\", \"bray\", \"apro\", \"switching_immediately_regime\", \"convention_scottish\", \"mctavish\", \"consumer_representation\", \"ludgate\", \"cosla\", \"nmsi\", \"quinn\", \"railfreight_distribution\", \"exclusive_franchise\", \"opraf\", \"powers_sanction\", \"cochrane\", \"franchising_director\", \"regulator\", \"rucc\", \"railtrack\", \"franchisee\", \"raiitrack\", \"firanchise\", \"psr\", \"ssra\", \"squire\", \"brien\", \"lessor\", \"crucc\", \"railcard\", \"monopoly\", \"intercity\", \"privatisation\", \"franchise\", \"railway\", \"leasing\", \"wagon\", \"operator\", \"roscos\", \"regulatory\", \"track\", \"licence\", \"freight\", \"competition\", \"company\", \"service\", \"charge\", \"profit\", \"investment\", \"rail\", \"passenger\", \"subsidy\", \"train\", \"industry\", \"franchising\", \"access\", \"network\", \"government\", \"would\", \"infrastructure\", \"role\", \"strategic\", \"interest\", \"online_copyright_proquest\", \"market\", \"need\", \"operation\", \"take\", \"cost\", \"provide\", \"make\", \"could\", \"transport\", \"line\", \"also\", \"public\", \"year\", \"tzone\", \"omer\", \"substantiaf\", \"kely\", \"procedurally\", \"indmdual\", \"seasonally\", \"grout_tube\", \"parenthese\", \"oration\", \"schematically\", \"mott_macdonald\", \"locatioris\", \"stripping\", \"american_embassy\", \"becaiim\", \"shrinkage\", \"hamntarsmhh\", \"eritly\", \"lord_filkin_lord\", \"irnplemerite\", \"ridefship\", \"reassurahee\", \"woodscer\", \"philanthropy\", \"discipurage\", \"incc\", \"acoustician\", \"mop\", \"trans\", \"caiinot\", \"brie\", \"balham\", \"includirig\", \"unpleasantness\", \"canter\", \"insulator\", \"shoehorn\", \"indow\", \"crosirail\", \"fine_tune\", \"xample\", \"smithfield_trader\", \"spwifically\", \"catered\", \"crossrail\", \"spedfically\", \"digitise\", \"line\", \"sat\", \"would\", \"project\", \"make\", \"year\", \"scheme\", \"service\", \"transport\", \"passenger\", \"work\", \"train\", \"case\", \"time\", \"station\", \"take\", \"say\", \"give\", \"first\", \"government\", \"cost\", \"also\", \"public\", \"railway\", \"increase\", \"need\", \"provide\", \"issue\", \"level\", \"route\", \"local\", \"think\", \"rail\", \"area\", \"aaib\", \"economic_instrument\", \"making_choices_locally\", \"darling_david_rowland\", \"international_civil_aviation\", \"dangerous_good\", \"evidence_november_alistair\", \"chapter_aviation_shippe\", \"powering_future_vehicle\", \"helmet\", \"isbn_available\", \"strong_presumption\", \"general_lighthouse_authoritie\", \"caithness\", \"computerisation\", \"merchant_shippe\", \"maib\", \"july_isbn_available\", \"hard_shoulder_runne\", \"raib\", \"appendix_recruitment\", \"coastguard\", \"decriminalised_parke\", \"bsog\", \"mth\", \"benzene\", \"taxi_private_hire\", \"international_maritime_organization\", \"funded_light_due\", \"harassment\", \"accessibility_punctuality_reliability\", \"expenditure_core_table\", \"outturn_outturn_outturn_outturn\", \"drink_drive\", \"headcount\", \"presidency\", \"maritime_coastguard_agency\", \"dvla\", \"chapter\", \"aviation\", \"driver_vehicle_licensing_agency\", \"fte\", \"pollutant\", \"departmental\", \"agency\", \"shipping\", \"workstream\", \"ship\", \"emission\", \"department\", \"target\", \"motorcyclist\", \"rural\", \"defra\", \"airport\", \"roadside\", \"aircraft\", \"measure\", \"road\", \"maritime\", \"vehicle\", \"traffic_commissioner\", \"strategy\", \"transport\", \"local\", \"police\", \"traffic\", \"enforcement\", \"publish\", \"sustainable\", \"improve\", \"fuel\", \"authority\", \"quality\", \"include\", \"reduce\", \"white_paper\", \"review\", \"safety\", \"support\", \"service\", \"objective\", \"public\", \"cent\", \"policy\", \"also\", \"government\", \"provide\", \"well\", \"plan\", \"development\", \"increase\", \"make\", \"work\", \"network\", \"year\", \"area\", \"rail\", \"people\", \"stephen_hammond\", \"noble_lord_lord_hanningfield\", \"houses_multiple_occupation\", \"withdraw_amendment\", \"member_chipping_barnet\", \"lord_davies_oldham\", \"clegg\", \"leave_withdraw_amendment\", \"lawfulness\", \"holborn_viaduct\", \"noble_lord_lord_tordoff\", \"kirkwood\", \"homelessness\", \"sessional_order\", \"cormack\", \"greenwich_woolwich_raynsford\", \"newly_disclosed_document\", \"reoffende\", \"neate\", \"honourable_friend\", \"tuition_fee\", \"pedley_street_mile\", \"reasons_dismisse\", \"eastern_portal_option\", \"home_affair\", \"conveyor_belt_technology\", \"lord_belstead_lord\", \"illegal_immigrant\", \"antisocial_behaviour_order\", \"corroborate\", \"probation\", \"migrant\", \"prisoner\", \"davey\", \"fallon\", \"immigration\", \"prison\", \"amendment\", \"clause\", \"second_reade\", \"scottish_minister\", \"bill\", \"noble_friend\", \"curry\", \"intercept\", \"noble_viscount_lord_astor\", \"home_secretary\", \"migration\", \"motion\", \"house\", \"detention\", \"holborn\", \"parliament\", \"member\", \"university\", \"crossrail\", \"housing\", \"hope\", \"woolwich\", \"noble_lord\", \"legislation\", \"debate\", \"friend\", \"grateful\", \"shall\", \"say\", \"project\", \"make\", \"right\", \"give\", \"government\", \"would\", \"matter\", \"consider\", \"however\", \"committee\", \"issue\", \"people\", \"know\", \"agree\", \"work\", \"take\", \"station\", \"point\", \"place\", \"time\", \"need\", \"transport\", \"charging_zone\", \"lord_filkin_lord\", \"lord_brooke_alverthorpe\", \"natwest\", \"streetspace\", \"sitting_suspende\", \"enougli\", \"cphecte\", \"crocodile\", \"platt\", \"cobbold\", \"clphynd\", \"zillion\", \"commefdally\", \"john_leech_liberal_democrat\", \"fikod\", \"jackson\", \"acement\", \"rongly\", \"ohsurning\", \"provission\", \"rnust\", \"fiiia\", \"educated\", \"comhiissioning\", \"hitting\", \"perch\", \"resonant\", \"kilometres_travelled\", \"untreated\", \"incarcerate\", \"cheryl\", \"maps_showing\", \"aiiport\", \"akxamder\", \"unwell\", \"dave_wetzel_vice_chair\", \"jenkin\", \"lady_oppenheim_barne\", \"staggeringly\", \"copenhagen\", \"turkish\", \"backbencher\", \"plamie\", \"profligacy\", \"heseltine\", \"usher\", \"alverthorpe\", \"journalistic\", \"minor_injurie\", \"project\", \"make\", \"transport\", \"lord_peyton_yeovil_lord\", \"crossrail\", \"scheme\", \"year\", \"time\", \"service\", \"next\", \"government\", \"plan\", \"would\", \"line\", \"take\", \"rail\", \"train\", \"also\", \"public\", \"give\", \"improve\", \"benefit\", \"provide\", \"need\", \"say\", \"could\", \"passenger\", \"work\", \"underground\", \"include\", \"improvement\", \"great\", \"network\", \"local\", \"road\", \"people\", \"railway\", \"lord_filkin_lord\", \"coimect\", \"develonment\", \"decs\", \"factsheet\", \"vwsh\", \"romnsntal\", \"authorization\", \"southem\", \"asignificant\", \"deputy_speaker_alan_haselhurst\", \"htis\", \"gaol\", \"rall\", \"tltcrnative\", \"auemalive\", \"infonuation\", \"oftram\", \"environrhental\", \"trifling\", \"statcmait\", \"viscount_astor_lords\", \"benef\", \"alfcmativc\", \"aprogrammewill\", \"sodeiy\", \"deaiine\", \"discovure\", \"nformation\", \"whilstoff\", \"reflea\", \"upgradlng\", \"undergound\", \"substant\", \"railscheme\", \"platt\", \"therailway\", \"politi_cian\", \"anothef\", \"countability\", \"llne\", \"mployment\", \"minal\", \"polished\", \"monly\", \"thescheme\", \"alverthorpe\", \"fetched\", \"crossrail\", \"preposterous\", \"servient\", \"lord_peyton_yeovil_lord\", \"palpably\", \"tent\", \"confession\", \"transport\", \"would\", \"make\", \"government\", \"service\", \"underground\", \"year\", \"line\", \"station\", \"public\", \"scheme\", \"project\", \"report\", \"plan\", \"work\", \"need\", \"railway\", \"take\", \"next\", \"point\", \"area\", \"order\", \"network\", \"cost\", \"also\", \"benefit\", \"give\", \"system\", \"people\", \"rail\", \"time\", \"train\", \"ockenden\", \"turvey\", \"west_mcintyre_cornish\", \"november_turvey_continue\", \"taylor_witcher\", \"witcher\", \"november_ockenden_continue\", \"digestive_biscuit\", \"tons_gross_weight\", \"frenchman\", \"illus\", \"anxiously\", \"november_ockenden_continued\", \"illegally_parked_vehicle\", \"mcintyre\", \"cantly\", \"sap\", \"metro_politan\", \"ney\", \"muting\", \"denude\", \"ution\", \"drawbar_outfit\", \"mesmerise\", \"facil\", \"treman\", \"dously\", \"cil\", \"necess\", \"drawbar\", \"lorry_ban\", \"clearway\", \"sighted\", \"orbital_motorway\", \"load_unload\", \"inessential\", \"ubiquitous\", \"ton\", \"trade\", \"lorrie\", \"dence\", \"lorry\", \"ringway\", \"road\", \"ban\", \"derek\", \"industry\", \"would\", \"traffic\", \"industrial\", \"movement\", \"good\", \"think\", \"problem\", \"transport\", \"vehicle\", \"view\", \"restriction\", \"community\", \"people\", \"area\", \"point\", \"move\", \"make\", \"great\", \"need\", \"take\", \"could\", \"online_copyright_proquest\", \"believe\", \"freight\", \"cost\", \"provide\", \"question\", \"evidence\", \"service\", \"many\", \"say\", \"public\", \"member_meirionnydd_nant\", \"vith\", \"mott_macdonald\", \"concentric_circle\", \"regularised\", \"acoustician\", \"evid\", \"sound_recording\", \"parasitic\", \"structural_integrity\", \"ettect\", \"criteron\", \"thestandard\", \"kamlet\", \"easternmost\", \"lorryway\", \"langport\", \"jargon\", \"projecl\", \"third_bullet\", \"covent_garden_community\", \"indsor\", \"curopa\", \"farth\", \"weil\", \"insuffleient\", \"publishing_limite\", \"speculator\", \"unthinking\", \"buhding\", \"forensically\", \"apin\", \"generalised\", \"thescheme\", \"utilitarian\", \"grinding\", \"thessra\", \"tab\", \"tunneller\", \"upgrade_gospel_barking\", \"xclude\", \"luke\", \"xception\", \"tong\", \"petition_tarmac_limite\", \"crossrail\", \"postage\", \"sitting_suspende\", \"eastern_cluster\", \"canter\", \"sideways\", \"make\", \"line\", \"year\", \"service\", \"project\", \"would\", \"take\", \"railway\", \"transport\", \"time\", \"rail\", \"work\", \"report\", \"scheme\", \"give\", \"provide\", \"train\", \"area\", \"cost\", \"come\", \"also\", \"go\", \"next\", \"station\", \"public\", \"government\", \"question\", \"say\", \"look\", \"plan\", \"investment\", \"need\", \"lord_brabazon_tara_lord\", \"lord\", \"majesty\", \"nugget\", \"ride_roughshod\", \"tonge\", \"platt\", \"toujour\", \"ashton_moss\", \"portentious\", \"cheering\", \"penrhos\", \"burgher\", \"olympia_york\", \"levered\", \"wimbledonian\", \"timelessness\", \"dentonstrate\", \"loomed\", \"unseasoned\", \"baloney\", \"communicator\", \"luff\", \"lord_jenkin_roding\", \"began\", \"reportage\", \"employe\", \"lord_sefton_garston\", \"starkey\", \"patnick\", \"noble_lord\", \"macho\", \"lle\", \"profligacy\", \"member_battersea_martin_linton\", \"viscount_goschen_lords\", \"downwardly\", \"triumvirate\", \"question\", \"writtle\", \"mike_gapes_ilford\", \"crossrail\", \"era\", \"incarcerate\", \"make\", \"lord_peyton_yeovil_lord\", \"dismayed\", \"transport\", \"line\", \"underground\", \"year\", \"scheme\", \"answer\", \"government\", \"friend\", \"alverthorpe\", \"would\", \"people\", \"project\", \"give\", \"take\", \"time\", \"investment\", \"say\", \"train\", \"service\", \"business\", \"need\", \"rail\", \"could\", \"order\", \"public\", \"plan\", \"passenger\", \"preciude\", \"linster\", \"breakyour\", \"akemative\", \"eighteenth_report\", \"environidcntal\", \"unfmianaldy\", \"ocwiclusion\", \"opemtion\", \"cajoling\", \"determinative\", \"sodeiy\", \"whaie\", \"townscape_landscape_visual_amenity\", \"rliat\", \"conoctness\", \"annraisal\", \"altemanve\", \"omits\", \"alfcmativc\", \"mliog\", \"teet\", \"flea\", \"schemejn\", \"keithberryman\", \"seriousl\", \"switchgear\", \"schab\", \"statcmait\", \"favcumbly\", \"school_leaver\", \"downwardly\", \"evid\", \"ship_canal\", \"jonathan_bailey_geoff_muirhead\", \"thecase\", \"whore\", \"thescheme\", \"crn\", \"intransigence\", \"crossrail\", \"addressee\", \"riparian\", \"lord_filkin_lord\", \"digitise\", \"zigzag\", \"line\", \"lord_peyton_yeovil_lord\", \"dismption\", \"seyere\", \"icing\", \"make\", \"project\", \"transport\", \"year\", \"would\", \"government\", \"report\", \"station\", \"also\", \"area\", \"next\", \"give\", \"link\", \"time\", \"first\", \"work\", \"cost\", \"scheme\", \"rail\", \"issue\", \"point\", \"service\", \"business\", \"many\", \"well\", \"take\", \"provide\", \"plan\", \"people\", \"system\", \"need\", \"could\", \"public\", \"plusbus\", \"powers_ticket_inspector\", \"process_awarding_franchise\", \"competition_vertical_integration\", \"itso\", \"metcalfe\", \"derek_twigg\", \"itso_compliant\", \"dobb\", \"ticket_inspectors_function\", \"modern_smartcard_technologie\", \"mapp\", \"adequately_appropriately\", \"franchise_holders_deliver\", \"different_geographical\", \"professor_nash\", \"fare_dodge\", \"cameron_continued_quarmby\", \"segal\", \"corte\", \"premium_payment\", \"lambirth\", \"fieet\", \"orcat\", \"appeal_mechanisms_exist\", \"risks_suitably_apportione\", \"enct\", \"eranchise\", \"norgate\", \"stored_value\", \"smartcard\", \"trarisport\", \"oyster\", \"ticket\", \"fare_evasion\", \"frank\", \"franchise\", \"card\", \"concessionary\", \"ticketing\", \"franchising\", \"concession\", \"concessionary_fare\", \"specification\", \"bidder\", \"fare\", \"operator\", \"passenger\", \"reader\", \"vertical_integration\", \"revenue\", \"travel\", \"integrate\", \"innovation\", \"service\", \"train\", \"process\", \"free\", \"think\", \"chairman\", \"rail\", \"system\", \"product\", \"integration\", \"transport\", \"would\", \"government\", \"cost\", \"local\", \"people\", \"make\", \"area\", \"evidence\", \"need\", \"take\", \"well\", \"scheme\", \"network\", \"year\", \"also\", \"public\", \"provide\", \"preamble\", \"lord_peyton_yeovil_lord\", \"darvill\", \"four_fifth\", \"aste\", \"dispensed\", \"alverthorpe\", \"preposterous\", \"passant\", \"unmistakably\", \"eightfold\", \"effusive\", \"disregarded\", \"member_sutton_coldfield\", \"tect\", \"quantifying\", \"brussels\", \"unexamine\", \"asocciation\", \"legitimise\", \"unrestraine\", \"analagous\", \"strikingly\", \"ritation\", \"precipitating\", \"iinportant\", \"columba\", \"inviolable\", \"inestimable\", \"red\", \"potentiality\", \"booming\", \"distributive\", \"import_export\", \"speculator\", \"rhine\", \"lord_filkin_lord\", \"crossrail\", \"make\", \"transport\", \"would\", \"plan\", \"project\", \"underground\", \"scheme\", \"investment\", \"give\", \"take\", \"line\", \"system\", \"year\", \"government\", \"next\", \"benefit\", \"need\", \"service\", \"railway\", \"say\", \"proposal\", \"rail\", \"route\", \"time\", \"development\", \"station\", \"case\", \"agree\", \"public\", \"cost\", \"train\", \"committee\", \"passenger\", \"work\"], \"Freq\": [55158.0, 45316.0, 13837.0, 26960.0, 24196.0, 24730.0, 28649.0, 31927.0, 17281.0, 22610.0, 21340.0, 18902.0, 18181.0, 22142.0, 15861.0, 22111.0, 19188.0, 18026.0, 18884.0, 11337.0, 19016.0, 16500.0, 20550.0, 13933.0, 17192.0, 15925.0, 15861.0, 13914.0, 20030.0, 11014.0, 0.007697079140069545, 0.007682209323171584, 0.007687643849051968, 0.00767034152492023, 0.007689198972467082, 0.007668486409792268, 0.007664486170034608, 0.007665268985537486, 0.007651367968496778, 0.007662968873945807, 0.007661488879803789, 0.00766351894631595, 0.007661999548709022, 0.007662508116096127, 0.007661526707130102, 0.0076491193440992485, 0.007659737264443657, 0.0076598255282050555, 0.00767460497982349, 0.007660253712523744, 0.007647779100912777, 0.007647623588571266, 0.007660659830902083, 0.007647549510057234, 0.007658347635581165, 0.007646903293232711, 0.007646792438151431, 0.0076468328923754054, 0.007646413114129231, 0.007659210308772928, 0.007659165126133164, 0.00766905329430744, 0.0076576436270081065, 0.00765859036092501, 0.007658731688019154, 0.0076757466295468155, 0.007669239278661815, 0.007670668310989217, 0.007667739320097575, 5.130453355573529, 0.0076666917133105025, 0.007684529399185483, 0.007698270700848423, 0.007674497277019403, 4.45701396957723, 1.770943745281915, 2.6818144651514424, 3.827012862424821, 2.0903494843470036, 1.2223727333139314, 1.8460487080152295, 1.8963952989969706, 1.4521712188471707, 1.158043145069288, 1.2628671383147934, 1.2192849475094616, 1.3384854767086907, 0.2636588012938057, 1.138575891601008, 1.2011432980523695, 1.1854934774827859, 1.0253733977592203, 1.0840374276265012, 0.759126181804719, 1.265876915766332, 1.1691378158163357, 0.8540666512310124, 0.5748338017052653, 1.0175796908156007, 1.1524510221414088, 0.756399991615517, 0.6044362231795403, 0.9234055862082755, 0.7286861792651362, 1.0223307357520062, 1.0068631588345287, 1.11689656333849, 1.0260221448115707, 0.942062225291873, 0.8886067997000866, 56.92048944289088, 43.86864208511203, 50.8993819828678, 43.87976022600625, 25.981786459514915, 24.95446990356683, 24.909710616089466, 31.853065502032376, 19.969741161358428, 18.926366380371835, 14.911956855916852, 13.909376982830581, 13.942710322873497, 14.93234967168627, 13.590486877235715, 11.955533225095094, 11.906441033498002, 12.935169283003193, 12.694095200695196, 12.928687636240983, 11.868531074019943, 50.32598815344943, 10.912610455904565, 10.934871193555104, 11.917112222429695, 10.876575164752344, 10.764071452645549, 9.952803042326394, 9.917583227679385, 9.934981465299883, 18.36436392285874, 48.135117336930776, 14.222402741354875, 20.98228468998666, 17.948602460872806, 45.15747276425055, 191.05692615437434, 40.72130081523353, 18.797590243606756, 50.923395952839265, 31.38760129520243, 7901.496501123693, 170.59927705122246, 22.30328410414876, 4251.182869691666, 37.23596941145972, 118.22329396662006, 5566.2188719889655, 482.68404821278364, 13499.343569492594, 46.0359408237882, 5587.650761680862, 292.0355113429303, 4246.754179549841, 2003.7411442560417, 2687.523864262763, 1898.772077495832, 1283.1997995338377, 1279.345690595701, 4672.354022345777, 1281.6885959171477, 1224.324386058751, 2341.0661866453424, 1414.4571167512934, 930.8645113355326, 1227.453872862685, 1249.560407026319, 661.0839019684605, 748.4448559594605, 1666.4605744303176, 1733.865113174887, 3277.22444425014, 2369.0279871649573, 3430.114425354282, 2826.377570288857, 2290.0248527191766, 4596.957915046804, 2377.0295944290997, 1966.12771800909, 2920.9564645256305, 2493.1912828332083, 2096.540272404816, 1844.8633426501124, 1784.4353833451075, 1988.9201227284702, 1679.179943499535, 1459.2218823417684, 1721.9261728305744, 1509.1210701630632, 10.309805500555921, 4.0486788642400375, 5.7193801897632355, 0.007864817187701727, 0.007506232434027729, 0.007505199275688503, 0.007467911808878747, 0.007477527774802193, 0.007460575004057758, 0.007459273776795325, 0.007458089901593695, 0.0074582837625960996, 0.007468669995232366, 0.007457866702576089, 0.007457035458812068, 0.007456843898830463, 0.007456312363025649, 0.007456130007127244, 0.007456437768659252, 0.007458833706567314, 0.007456478611778453, 0.007475586288502143, 0.007455097999298418, 0.00745477758215201, 0.007454198300165595, 0.007454755722454409, 0.007469020900904375, 0.007454860418900812, 0.007466068691217899, 0.007454270207065597, 0.007471711369474844, 0.007469292996613982, 0.007466172812409102, 0.007467499926155536, 0.007467850256572345, 0.007480194082654262, 0.007476657988939771, 0.007468291477310756, 0.007478207726448611, 0.007478384329795015, 1.2330629267424111, 0.007464833618303468, 8.479244418173737, 0.007468007301241949, 3.25035821627496, 2.5067878731448223, 3.796849846329655, 3.2656346381420525, 2.944852752324775, 2.739824067609628, 2.3441393527088294, 2.2655930320659956, 2.4320380527404217, 2.7687726028256794, 1.8863004211814896, 1.9950258261479135, 1.8401957694108606, 2.579664773066973, 1.9665754895473244, 1.2187554371219738, 1.504107566864256, 0.9363879338471985, 2.365392243512165, 1.0183972723859547, 0.6625288323480526, 0.2661005931981725, 0.8855978146663246, 0.7561327385758103, 1.3691041361978302, 0.8762847551209977, 1.4262089191480565, 1.3497088502822991, 0.9930058576124651, 1.351889113510771, 1.2477807712082478, 1.20936933397237, 1.1453667901738898, 0.007013188237738001, 0.006969936697137168, 0.0068766471483648495, 0.006887509216943543, 0.006857051004818161, 0.006819990093576984, 0.006810796033764928, 0.006828766446563734, 0.006835468358096875, 0.006812160204503443, 0.0068014604835167705, 0.006799967787601239, 0.006804618933371274, 0.006796044951167634, 0.006802302661650383, 0.006783614649946565, 0.006802598044074755, 0.006794010532905114, 0.006793892154452598, 0.006794774919484215, 0.006785985037531464, 0.006789509333174932, 0.006784226835658146, 0.006772762164385456, 0.006802439078724234, 0.00678315353768867, 0.0067828429351775455, 0.006781194092446076, 0.00678170199237806, 0.006782050926959523, 0.006846058156234782, 0.0067992907755942324, 0.006821695307000128, 0.006821830032953229, 0.006794911336558067, 8.279691981711862, 0.00679962336267511, 0.006816540770953442, 3.313091239258448, 3.4454753824606446, 4.603217189223195, 2.938620716428378, 1.8770824849735503, 2.112975556506499, 1.9790376386169282, 2.1684842906987534, 2.326915192946951, 1.699073184672403, 1.7873790186324305, 1.3044115278998514, 1.906263346244907, 2.287271209756017, 1.220580859429763, 1.322592004953767, 1.069979007459214, 1.2833395320003034, 1.5604280524680303, 1.5831376665669212, 1.4666954796653613, 0.9182795414576282, 2.043113274853948, 1.00703027997428, 0.7998445919798675, 1.8406606324800896, 1.3858638402240664, 1.0495490421702471, 1.1988074497781962, 1.0512352924927113, 2.283128099207626, 1.4039769249886715, 1.4611068261576103, 1.2839485158565977, 1.3770752796003272, 1.2808108059069752, 1.2744348026551622, 0.007613731688230587, 0.007593168199298642, 0.007580868961752814, 0.007592507756058318, 0.007580109267250155, 0.00759094349281205, 0.007590903369961319, 0.007590756076864556, 0.007591143579133459, 0.007590558630204379, 0.00758895582790412, 0.007589254109623371, 0.007577810122316812, 0.007577115363480468, 0.007588530842445718, 0.007577239955490633, 0.007588721953918937, 0.007576899439191665, 0.007589480592557103, 0.007576766928197803, 0.0075899409494760185, 0.007588815397926561, 0.007588143340176815, 0.007576586375369513, 0.0075894721456411605, 0.007576499794481093, 0.007576595350217703, 0.007576355668977809, 0.007576372562809696, 0.007576108596686465, 0.007590002189616608, 0.007587449637204964, 0.007588006605724981, 0.0075985150970908095, 0.007588334979582281, 0.007596993596356506, 0.007605308001306038, 0.0076008865687419176, 0.0076010037697006325, 0.007594064100320887, 0.007597892137039985, 0.00759054965535619, 0.007637253709471707, 0.007596495756248092, 0.00761923168637423, 0.007595815251582402, 0.007596695842569502, 0.007600426211823002, 4.442897224949951, 5.85790025666937, 2.6378550789558934, 0.0076202880787994, 2.849178265069204, 2.5362615206175767, 1.6477425960909375, 3.1975823279328734, 1.6254324665505906, 1.7320866060182585, 1.6847799573662554, 1.014791533087796, 1.8040675746201733, 1.7658941369381327, 1.4438755364685243, 1.2965721344681433, 1.0780058192963637, 1.0761162779874902, 1.1797502057657658, 1.0947109808686397, 0.8558597011477737, 1.129117904943857, 0.9396971664198013, 0.7244811008371542, 1.092161296184958, 1.0763721857529112, 0.9402445265729332, 0.7065487037412944, 0.7520726476772762, 0.4840868060870766, 0.5237923453829298, 0.9683096413085056, 1.247185922686204, 1.0335752441600947, 0.9482146310051544, 0.8437950724688156, 0.8487877403939817, 66.10701161908214, 41.56143054285632, 50.89301815761672, 40.35460811005192, 27.693448241074265, 36.07342564109261, 23.434706924488033, 27.583992185626116, 39.108732243247616, 21.063480670120544, 20.120957701076062, 18.031984556450276, 17.04643474617358, 18.060053646447614, 15.93592444630536, 21.160247165341598, 23.2296845419259, 19.958248937673464, 13.83954302418608, 14.87581849162164, 12.776584181211646, 25.130701947901258, 12.759202561054646, 11.69976819365256, 11.681526724550073, 11.6807863493528, 22.01753466607609, 12.556049218568758, 10.637406719419202, 10.632089232519474, 19.760148791674585, 64.0884700592375, 22.682025931149138, 24.618452821803842, 15.69098878079783, 619.915826838966, 395.7510127778045, 27.919883577691508, 77.45028372462295, 22.25792851894314, 108.6393039420179, 129.95818509186464, 328.345690798118, 1516.9413533914737, 117.41037865681858, 1400.19490845557, 32.44765081192538, 2975.0588727817276, 5668.074200016954, 1765.7830719006492, 38.23882215999336, 1033.0851273532223, 2637.294277160987, 4745.133267938268, 1542.41309858428, 212.61047166710728, 1925.6829133518768, 1183.3883739344817, 2285.0503321565557, 607.5882793097961, 1905.895164314156, 2095.6166959998723, 1598.7092445965952, 869.0448616105159, 743.0025191268185, 833.9531771014235, 648.5127156517519, 1056.7416825464793, 1189.2314367138579, 2105.6055702506465, 1480.7367238523411, 1174.699721624283, 821.1795363189179, 978.8081890574085, 1757.8588198723644, 1209.5141111841847, 1151.917395671299, 1299.951886459785, 1329.7274670682957, 1026.9303032585035, 1055.4942897251144, 959.4636369397335, 938.992584952221, 11.172279541010086, 9.707024493251254, 6.536433504370762, 6.530115835171394, 6.250817600648964, 5.706871665112125, 5.704622241278663, 5.695952229563998, 5.6955316825364966, 5.405626908918189, 7.549618833651744, 8.05384998773344, 5.677025247379691, 5.452721078158307, 4.880321380270544, 4.879769818944038, 4.879666604518864, 4.879351342119906, 4.879253746818165, 4.879042586074398, 4.878882884671549, 4.878142639095011, 4.877320472613677, 4.87749643990015, 4.874273428995988, 4.8753132625745375, 4.873510411182376, 4.8679016387656535, 4.865293774005798, 4.865347599293425, 8.016982623142427, 5.631868788494141, 9.686494582171685, 9.730143341517007, 32.30934459690298, 270.9334725202495, 9.384131324671129, 3650.4439343865565, 5.5460896161039175, 18.122148628562833, 9.788750798929177, 339.2209974203575, 9.655688181562127, 39.90276538494945, 6.562031273300736, 526.6693147474135, 62.30366712189472, 159.89978274857498, 423.5451173165173, 817.9717524564137, 1899.351128083036, 76.65453928355471, 800.3544968555244, 62.66713805099205, 627.184384002912, 454.1410101836005, 204.82326212980945, 331.4196193803879, 371.970772460904, 24.861088835126132, 246.3679992626102, 1251.0408462926969, 3053.089406489116, 489.95735500002525, 647.0228282292387, 655.8559483100136, 446.18260899245644, 378.79068009573837, 473.762241574479, 192.57776550218748, 542.4303810535368, 849.515008240877, 1409.2985295322983, 811.8226380324791, 512.461975108794, 922.0745433012472, 1139.6655516714084, 788.6924616138842, 693.7999038276463, 890.0982246311918, 820.3134718709879, 1012.9106949189091, 793.9453932796451, 874.4626102833598, 670.6367934308639, 765.2172733824146, 767.1079108612619, 580.4662110137684, 699.2100857754657, 615.5820841837774, 688.251474881734, 681.3562355036892, 615.1000745926722, 633.482193445606, 13.147480987377094, 12.135902299210318, 14.86910642047798, 8.090881593679857, 93.39415954891815, 7.8962892555089494, 7.736178177922406, 12.594240285721773, 6.549828469744854, 6.065540216547031, 5.0553497849924955, 5.013272515117102, 4.043542090773383, 4.043195471004642, 4.042786044918831, 4.042498972648823, 4.042701611898241, 4.10090736624372, 4.148861470608434, 3.6854311360586225, 3.6261271599330396, 3.5055236258338085, 6.750666481389767, 3.188728562528063, 3.0306832795119703, 3.0304581247903952, 3.030199493116797, 3.0004515180411233, 3.6802460598257203, 2.8256082115144716, 970.0740839203828, 27.3230208035154, 218.5283280571726, 15.208585229469982, 80.5991618332413, 344.6105733269357, 132.80958394446043, 43.98405544136879, 12.80434045159737, 15.775400390786576, 44.41443750663458, 82.56934622871249, 39.47369680753559, 323.69509328184097, 7.405345310238884, 8.888689501496934, 140.4858431183599, 26.27744967751505, 3121.836443306406, 429.8512499744022, 23.93827461417762, 139.52661764305873, 335.7399133860251, 971.9065684282382, 356.9935710828261, 1516.489611249358, 62.437916545434184, 126.82458275684563, 215.7026410415056, 167.9940524953459, 390.179120755668, 1063.6132336297965, 141.156102653942, 534.4974764431868, 74.3065424147622, 537.5788444205749, 571.3791660254041, 324.7633979245713, 505.8211264498744, 514.5366903383652, 358.6616689434347, 461.28501059160124, 331.04638072096697, 682.8127597877076, 381.9422689859414, 472.3912530934775, 523.17713313154, 473.30779871376683, 391.77289385765977, 346.30840109099097, 440.82696909915654, 385.8536094081485, 436.1211880172447, 346.3671404027753, 344.5569912433003, 6.77142945419284, 3.1333763207970873, 2.8743805691795266, 6.2702998593281345, 4.308585164078352, 4.050568520628068, 3.1475035466105394, 3.5356254998548278, 6.310103590214194, 5.929894181907804, 3.0760270109013716, 16.373332739144942, 2.044404904990641, 3.1493876576383943, 1.8513661553314866, 5.836120802170947, 8.064274569666955, 1.8410304324444327, 73.55749404038708, 10.2462246621346, 1.8813087979829148, 2.9830428854708226, 1.7201615621715083, 4.101535592959189, 2.8604851683742005, 15.311437795698506, 2.2729132087926978, 4.261378116313262, 1.4625285612382088, 1.6796484205286155, 3.1525381168718836, 113.96043650162358, 34.68088743265375, 28.73689160110029, 21.386897752935184, 14.903306425946598, 8.391642303702397, 20.942934827896142, 32.96037469002438, 30.662042541284798, 13.550064829713236, 94.04449760831262, 44.32787953403785, 85.96475798251659, 12.28610897946678, 88.51448418674447, 28.74466150971777, 29.017473966239738, 55.27940571537935, 49.52706588092597, 34.498449348748075, 32.9555453849046, 44.02628536335281, 40.496438437922606, 32.61175184894968, 29.630357642603123, 32.700788391250335, 25.35958094042293, 26.16866661376286, 28.99559125939064, 30.449109795772703, 31.699973271302802, 27.34855687945009, 27.239340084956897, 24.809627752828405, 22.75106365181456, 22.851293374422717, 112.19673961456417, 63.82498162183144, 50.30132276307124, 30.94151372521646, 23.19816099832938, 21.278473136913988, 21.278331353125353, 21.90741351297264, 20.21190041678207, 18.35869038673591, 18.354778822214104, 16.42706766640644, 28.473216429283752, 15.464231680747362, 15.464293189890963, 15.46433801858884, 15.409349886738479, 16.306449278335094, 14.495616963173479, 14.495532518417011, 14.481214440820407, 14.9032808014515, 13.522089854334471, 13.511257989893762, 13.466783751487535, 13.04551700972324, 11.588557222969836, 11.588337249591879, 11.534724211985722, 11.532843491730569, 180.9952630155352, 791.1991115711771, 135.94891034171334, 632.1728129133287, 131.8592069998214, 82.32461343469521, 27.836532156298677, 33.46346367481391, 205.15029986776162, 27.142894586451614, 76.41527362988401, 26.11290833895514, 139.90728853443616, 21.641454231214258, 24.911151031525154, 42.53421499642035, 40.37172448202011, 31.400544996095316, 57.9313089256646, 169.1056414702572, 59.81130358142883, 3232.4221758871904, 188.80828370903583, 5213.793308075272, 1769.3734759905562, 1429.6736634347037, 1296.4417391541922, 302.5474557992885, 473.38981523678103, 2589.1347816586094, 183.80811993852396, 2186.16163484162, 4395.505619704081, 2026.5563245518704, 384.9582987981435, 817.8296433316654, 1823.9715105970406, 2014.3581147607358, 1298.922455041965, 1124.3579875851785, 2043.7582677289013, 1433.9397207889913, 1561.0154930495664, 1630.0950903011758, 1446.8203609755035, 1927.8076855470572, 1314.4615579458632, 1737.1201661425375, 1437.8357391353825, 1347.026058189271, 852.4627190099473, 2138.4370114211174, 1319.724572180062, 1139.0226348025478, 1562.7764143435445, 1054.647535876364, 1150.5988641336012, 1194.1177466915472, 98.50879386153983, 65.33378899563544, 44.2191701532264, 41.18348079281429, 38.18842342235218, 35.171158294959696, 31.15056751749365, 29.139955717831167, 24.112416653294098, 23.10726761820331, 21.095831273110242, 20.090349738398665, 19.084586651588843, 19.084349343391747, 17.074731020418795, 15.064568363389233, 15.066399792752122, 14.058432555230299, 14.056076902674958, 13.053224528271304, 13.051958884553466, 14.002529715761032, 12.045028026898052, 11.043012934805617, 11.041143294800824, 11.044853749238449, 11.044664707115338, 11.040055297049737, 10.916845417407886, 10.740290800217993, 20.866035154141667, 30.39955545062711, 18.02230801431499, 45.69333671792426, 20.295987346613295, 594.3536692433036, 2832.9147884483586, 273.32813843371656, 300.54106578478513, 616.5470107062483, 1755.6886092703944, 750.0559052150952, 2395.3926525985735, 822.028301195928, 76.48296248980972, 2896.883596782997, 301.20621518748027, 296.7741454034948, 798.2869702081247, 704.5885341668791, 104.9786572891872, 1802.1832968889034, 91.8160591558165, 1381.877262049516, 1577.593231740947, 1238.2060207436111, 935.4859240568887, 821.2604201362035, 1098.0287283561238, 935.5427278630724, 1371.1500091225332, 579.6858882298022, 759.9519519932848, 1062.7637756721676, 657.0583783744709, 1452.1539528675066, 680.4384217098025, 1398.6804628856603, 550.0016520843295, 1040.4726578691227, 691.4971445813281, 911.8140104092705, 929.6807810001677, 972.6472829651121, 925.4056510371942, 1106.2078758020943, 883.3375415960305, 753.4913342002541, 699.2810250587414, 12.436761341702477, 6.9499009240837974, 19.971430790861383, 7.989173231969372, 11.07605087118337, 5.967947849661158, 19.95323357194031, 14.704732494207965, 9.2144408082488, 6.4762940736831025, 7.81650952516466, 6.707871122426449, 12.553233882126285, 10.591634792498017, 7.822122083273204, 16.018455344279452, 6.7504120598414135, 28.439268656899515, 4.1794005774684235, 22.696811540562376, 8.93688383783289, 5.710179506071033, 26.350193357451516, 10.493455919959207, 4.498638932132827, 4.264903355576907, 6.6003050651270465, 13.489552707963057, 3.7460692712180945, 4.676849611750615, 20.00417714309215, 12.278758649005606, 195.7029291422145, 307.6569729496056, 86.4395182233943, 88.87130987010042, 32.451054823722465, 264.8490648025058, 195.35292279646728, 196.48748359434086, 385.02278252017226, 252.1121720316877, 56.74076189781586, 91.82953693690997, 123.02006398632659, 184.31677864859623, 114.10026627535039, 101.94933259561806, 121.34480875352338, 139.42033840261325, 118.3044164285529, 114.8609199026252, 138.07059610827133, 81.60012587331708, 77.73756245710726, 79.69426348255172, 82.19607244751488, 98.2111065541461, 87.50179630974624, 97.32322671276604, 104.23255888784915, 77.85959122944467, 80.23661221011055, 84.64704277779894, 0.007766276724241224, 0.007751031759238325, 0.007748914937145228, 0.0077371947174002175, 0.007748424840598753, 0.00773690367385194, 0.007747988794996959, 0.007736037299575193, 0.007747540276100239, 0.0077357239080401725, 0.007747053817598118, 0.00773545313359615, 0.007746507071503854, 0.007746776806506632, 0.007734968753976517, 0.007734774898184539, 0.007735322163999425, 0.007747487784317424, 0.007734703696459335, 0.007734104458582257, 0.007747751802393362, 0.007734311307389783, 0.00773361644091827, 0.007733563429414834, 0.007733750009118105, 0.007745418256800923, 0.0077446942859745824, 0.007744557079730394, 0.0077443855719251595, 0.007744993125332189, 0.0077447483369192625, 0.007745218164361482, 0.00774498532952286, 0.007744566434701589, 0.007758066697576689, 0.007749395678720508, 0.0077441787231176335, 0.007744881385398475, 0.007743843503316493, 0.007743796208739898, 0.007750278164336535, 0.00775332632578412, 0.007753276432604415, 0.007754383437529113, 0.007750591036150933, 0.007753476525043856, 5.255153621683284, 0.0077577522666004255, 2.055560552823692, 1.5803957378122178, 2.356409907067631, 1.6570172926029023, 2.347073895281285, 2.071249097298521, 1.7077888583673768, 2.2003506933752486, 2.501355315194429, 1.5961771501255373, 1.7514032142410905, 1.5009470358867454, 1.4355184505067766, 1.2174341645811622, 1.2880814435097647, 1.4947777109541378, 1.258088058743917, 1.236333434956349, 1.1853527169825524, 0.5827698348260667, 1.1791068891743977, 0.9792232360596249, 0.6761272251957022, 1.0302109390785803, 0.6157660572435025, 0.7069155746248451, 0.875821616848795, 1.0074184706289149, 0.8371554669654759, 0.8984282830972401, 0.9141453664708605, 0.8133566198190466, 0.8038483102521203, 0.8367428836314378, 29.31201994536417, 20.64955819304203, 16.780177065526868, 23.987834260137397, 15.72696925158517, 14.706262404502008, 12.603700131753172, 12.576355281247606, 11.527879678771129, 10.498028427095319, 10.496798505871705, 10.447427318578994, 10.442981690699856, 8.3984884170814, 8.398260344310808, 8.374315688644307, 9.290467290737627, 8.37334608084472, 8.126242966038156, 8.342128769632188, 7.342941961667424, 8.330509596363873, 7.252665146805106, 7.043546895186633, 7.303220879586969, 6.29142081153966, 6.290901975839019, 6.501125365411331, 6.108330320029039, 6.1747126313524205, 246.33316979140423, 56.1250883367884, 44.244646365826426, 31.73260282949274, 823.3946116783446, 141.18541323733288, 16.83475690949667, 67.62632290664332, 18.83609427734562, 64.27161365908255, 190.3801510160941, 294.26022418269287, 81.44102735713116, 56.224074307422, 252.85667196144652, 1693.8132337626532, 91.68406923260603, 1949.0892061466805, 83.25133765928237, 47.24873970138517, 58.646102050463746, 18.9100197074744, 388.2084183788012, 918.8357344078017, 892.4751647814292, 1195.0773977268775, 173.99500195972442, 76.35444095853742, 1709.926720684987, 476.3712733003313, 861.4608598284917, 1838.813676356302, 1219.453204069463, 2538.004872382849, 823.2418435213891, 377.86362977748007, 1569.7016012806923, 1479.53781976112, 1493.9454083344997, 704.4674673243773, 676.7780669260479, 1009.6571297295761, 621.053264213123, 476.83534765406426, 1176.2445764729046, 1288.043890296067, 600.4529100336151, 869.2038897907581, 574.1778187381854, 899.7023442887433, 702.2862987562603, 770.513596995709, 675.372737442179, 642.751577427638, 726.6595067409986, 628.5474249892337, 775.361062826467, 643.8496893072243, 93.18266972597867, 93.18041706610309, 92.15362235464812, 91.00332166239103, 91.79351460033017, 39.05341078557197, 38.05230977883645, 33.032658710247155, 31.03474176884143, 31.035254750793296, 31.012923308214855, 41.679203696332635, 120.13456304842367, 24.013828224377725, 23.0129084340926, 22.01358892446166, 22.00202452698159, 21.999927992047883, 21.011399225051132, 20.987549746207527, 22.827461276575573, 26.440344374511458, 18.70105675934232, 17.982038673251658, 16.9804191086735, 18.869990916311018, 20.368027855215416, 15.514864521514596, 14.99712772878669, 14.737047273164189, 662.0305976563881, 91.40891195781069, 609.141712347917, 26.248096024214142, 1269.3458266129107, 108.70974126638586, 31.98210791611916, 31.114694466752105, 5227.5783553883375, 152.94200037823927, 66.08046711574666, 97.17381428464319, 198.39126456376448, 72.41542063658834, 94.01535095167004, 111.96495745619323, 107.52930288445675, 124.48163901921107, 575.5951014808096, 985.339747782298, 507.35855449370496, 276.1660418388919, 261.3321427368321, 6138.035495836556, 2069.281050139093, 8196.112663289923, 339.8799392062928, 544.6653676751039, 4007.868573223564, 4806.839301465989, 616.7619031179191, 1473.9245456586834, 929.8367064471264, 7398.679988760566, 1778.6461739193637, 3736.9334529549583, 426.06965011623896, 1744.7047899849522, 831.5942392389343, 949.9253473248896, 1533.363719814073, 1685.302372101592, 593.0444725197941, 697.0185539868554, 1507.5317330032372, 1063.5074915361165, 1073.7605287187175, 2050.98802452136, 3156.410959094424, 1091.2661493439023, 2040.014849892594, 1747.9413046370796, 1751.1055557446837, 1491.3590625246272, 2205.8677138567323, 1780.3871008426124, 1670.8541239095184, 1837.569868123819, 1569.0833222292774, 1374.6757416823123, 1254.287888219265, 1299.2109221364299, 1478.0686369014745, 1448.0440262944887, 1375.1034348087885, 1341.0959431132758, 297.26045061053986, 122.72069296126485, 87.80064499100281, 70.84120733452875, 66.84902207826923, 59.8646946808002, 68.60724842145169, 56.87165656369324, 54.8758817389801, 51.88360558428166, 50.88566456652951, 50.885205091710304, 47.888942992955236, 42.9036335466316, 40.90845603918343, 38.91332065026035, 36.90968114822509, 33.92446558991516, 32.926727506874826, 30.930941195291204, 31.565393598046082, 28.936056603040278, 28.934957692431002, 27.930076690430397, 26.93978018498283, 25.943248223342923, 25.94216079960413, 25.941856397536405, 24.945131073576746, 24.53172626290774, 102.30153244277079, 376.8977290152874, 153.6964252935152, 41.91990178766347, 30.456734464692044, 49.22867201288913, 41.7830931602442, 188.37236195024553, 58.55278686116937, 43.06131764667023, 692.3513607772712, 1532.6790988762516, 823.1787287900147, 1352.6372604514893, 58.998787581304384, 226.81292895902246, 987.5911942912061, 1082.6611291335942, 1046.9441297473288, 471.13506485361535, 428.7597852305482, 243.8410351272272, 987.069108369967, 481.94926419850174, 2138.6518892279696, 337.3147697635129, 636.6087946605595, 1012.0690720197811, 517.85323920453, 213.11200248332344, 143.20739627818253, 372.9675652017074, 490.8344963573879, 483.13737418601056, 740.6242753897683, 697.925648020597, 623.5092288282402, 706.6717818358815, 390.28259807868034, 652.3939601794965, 565.3387977668318, 431.00793425762515, 370.11753479312216, 402.86752148183166, 379.1205762956533, 378.66983149800996, 34.63927369042449, 23.31908501804468, 15.283797064220849, 11.20875749486274, 11.208697911077364, 11.208509660856901, 11.208324001235802, 10.189879946135422, 10.189651973391376, 9.706174458789135, 9.17120446415851, 8.980000096887593, 8.152176660668072, 7.929231406454286, 7.133272774180553, 6.114702643244451, 6.11465860305526, 6.9457604427701325, 6.487894457015146, 5.503094947623737, 5.233174786906109, 5.095803074422538, 5.095799188523492, 5.095456797640862, 5.095408008019503, 22.030235928379014, 5.057259273549373, 4.978752886884599, 4.886060378101658, 4.822324725478231, 49.76211163495105, 15.296325202745951, 15.287320279356113, 18.303050815710385, 86.67382800042859, 23.396167438592286, 172.36136301093234, 16.20822654132944, 12.748066594588987, 27.11224751531986, 53.55330873084194, 16.427593314288195, 434.280312518772, 67.35409819131795, 422.15738518381585, 1263.1224207661378, 63.094911047356895, 19.241098210143274, 45.45750955706995, 189.50231585560067, 24.280898571044418, 478.72944336280443, 43.17121926488231, 913.8053393087089, 827.1008109787488, 331.8976426352453, 86.09680135218699, 388.26126464352564, 76.35353641876799, 147.06190121721679, 287.0319434134551, 513.9593288045362, 151.7218575369466, 83.3766651115489, 314.69780373996326, 450.88543269922144, 163.62691201124397, 231.94911373081786, 216.4500344053024, 138.44319128885434, 201.10404223154669, 392.8984789549706, 404.7163373088027, 491.2938088294143, 169.35809153045344, 309.32648955962867, 266.8477340506551, 239.0752101129931, 247.88208736263852, 285.8697521808359, 310.4178848928239, 263.7253364490145, 239.40260660650378, 213.8717317527861, 241.0761752453441, 217.85465047228763, 210.83389131439182, 211.12688464834636, 51.757004778905625, 42.44465511552092, 24.83998407501236, 18.631104483568556, 17.596837879640507, 14.488463333781535, 13.455138862603938, 13.454709519250518, 12.41809700477384, 11.383647357911416, 10.349530822271475, 9.31411010572412, 9.313972150571376, 9.311206317996831, 9.268485981379488, 34.08785686476389, 8.278595848853685, 8.278303114749079, 8.277976060094279, 8.277996248653217, 8.277774847456861, 8.277309837649316, 8.181746620962974, 7.240273363434934, 7.842446259262737, 6.578278402713166, 6.768780336662693, 7.104316878024869, 6.387762336772382, 6.207886314344039, 21.746967638889707, 27.067996131249487, 16.8395192731318, 39.86726524191353, 149.75031022922602, 35.975360610524305, 982.2224263195741, 3399.096093400684, 20.10437130160964, 25.529859435627902, 45.353710710790054, 22.157772511589528, 206.52320823708243, 12.341956527690057, 21.70197541643984, 45.21988479129994, 182.5416551471653, 79.69853562914403, 40.53708125036799, 146.7464680038377, 143.8046773332021, 97.12435757192225, 101.32003541194408, 374.21590372073666, 44.50410347185479, 96.04258459700455, 232.87064508993805, 213.90104442226695, 733.0039152782323, 1173.783618963091, 1410.4589083490714, 615.4819099008117, 88.4849194960292, 196.8271655897481, 372.9489882013156, 907.1540640041138, 404.1628475763587, 328.523908132761, 652.1308523589845, 1226.8671897235606, 486.81340812961605, 353.53375335906435, 962.0571246011848, 413.5004921581891, 290.3222016950639, 199.3347245838919, 479.76479081274994, 422.422952295934, 368.1492579106288, 416.1015968590293, 477.328123270366, 475.04417813863836, 326.54448184044276, 358.9906293186159, 355.02947254645267, 424.0052615585126, 392.5418608277609, 401.9387682514027, 426.4153125047923, 347.35340558501605, 390.1795733201213, 357.9516345541845, 0.007510937369225996, 0.007506346792513028, 0.007519980587837952, 0.00750365388052932, 0.007516384733341188, 0.007502233682463838, 0.007517577338963602, 0.00749149545719547, 0.007501901047354739, 0.007501941366761903, 0.00751526268668131, 0.007490727266385303, 0.007501377956098645, 0.007501739769726085, 0.007501516951949656, 0.007489457205059653, 0.007502077179501822, 0.007502687275794427, 0.007515093451274926, 0.007489337307875194, 0.00748914313809859, 0.007489084250543391, 0.0074888322542486195, 0.007500687220991713, 0.007499983222921898, 0.007499425117443792, 0.007500513741437206, 0.0074988113075215804, 0.0074983980335981545, 0.007498669128559478, 0.007498318455820858, 0.00750997341708368, 0.007508287429242028, 0.007513522585951097, 0.007512538474105199, 0.007548091702927141, 0.007519272876138529, 0.007506328224364992, 0.007510408442266233, 0.007546958515378441, 0.007521477711088154, 0.00751691259926392, 0.007539401279127865, 3.654320726890714, 2.394036356668832, 3.2077010749177703, 2.9232179313659854, 2.132537889595473, 3.1936072436454075, 1.7173359345607506, 2.128570392024217, 2.4139111930285906, 1.7759577381812037, 1.7234705960228955, 2.7776989265503658, 1.5429089164278742, 2.6869021341539026, 1.7199423168525376, 1.5307756778689832, 1.664638011030088, 1.122437970335251, 0.6260952370868322, 1.2260994887078094, 1.013045697589067, 1.2868023509420425, 1.2411637020068942, 0.7854247677993436, 1.273334208962487, 1.2210085481519426, 1.032486815963894, 0.8012074304926002, 1.2657134845001474, 1.175599830185477, 1.2418496921562254, 1.0900206916312252, 1.001807261267133, 13.082026148479407, 11.67300875819145, 14.03958517594579, 15.087225101313567, 12.947008691447849, 9.781129265006639, 10.828849681586721, 9.775337641497986, 8.698770484749803, 10.792310414977507, 8.69704273151823, 8.695462857490659, 8.695174586637288, 8.684251180372017, 12.865107011038715, 14.94569253580694, 8.66237067384563, 12.765386822491616, 10.172351186749768, 7.598028353952371, 7.596947338252226, 7.5963174477187225, 7.597091473678913, 7.596318851635216, 7.5940679055236595, 9.672579377658533, 9.671987860842522, 7.588855631554738, 8.627167935738411, 11.73546432327426, 13.774383478398297, 10.689408951655697, 12.72568874377159, 17.779604675982206, 17.762390787880854, 178.20748414313005, 12.582048431635762, 104.46681898094725, 23.373770137630245, 263.03455963494406, 101.51204273388552, 35.572114152374446, 364.5811349707971, 82.71190120841847, 24.894769523121226, 22.17215988256604, 169.5871523447716, 111.78527468015051, 1535.9848575326646, 200.6931198598514, 607.5277236336105, 282.40618128022294, 123.26213852123063, 378.55213321035995, 1282.6630339668204, 166.29183462544478, 114.97537728177392, 1227.2447070063067, 184.75443718805457, 538.4736012793458, 171.82146859748798, 138.31669822951324, 94.58245318454897, 157.0129873722201, 86.29745152043103, 2086.907746348392, 89.10824957945411, 54.351226880654615, 585.1778522574954, 252.99177215762, 7437.336023415028, 2399.876508328866, 207.98457543704794, 3030.9522917811887, 402.03544065660554, 2070.5256956165545, 295.8949510511997, 274.0558507019317, 1150.0083646503717, 510.6977087121993, 4439.9104854622165, 656.4760845859365, 4108.749241940074, 1175.8660655214085, 9453.51764650938, 1325.7532519751333, 930.163278047956, 3570.5227299636185, 3282.028807364115, 4246.652028149473, 1100.743489788598, 1786.57210634565, 2563.101365701073, 1662.806422287793, 2339.594146077858, 1417.9389464092021, 3972.2744821502874, 2040.3849936945471, 2591.204015152405, 3533.871808939716, 2894.1171709620235, 1918.3468382416243, 1954.941333053812, 2275.4870211194216, 2649.0683165600017, 2533.4803599710353, 3251.8756461511985, 2104.0215408194067, 2371.0969839387076, 2113.616632430112, 2195.1449609025776, 2156.877926086681, 2043.2132527309745, 2139.7394526355956, 1988.129529611902, 47.34233414271224, 34.54801452806186, 28.67505840469343, 24.69518338497786, 34.15158911472409, 19.758129470406846, 14.81107034135256, 14.797203934470653, 13.738709981679769, 12.833918015332026, 12.793019917670936, 21.401940731761748, 11.8031825135524, 21.142353569359376, 10.839257678628691, 10.815311374847022, 14.631368842005843, 10.899869704916258, 9.84707725302577, 9.827478134681353, 9.849458173049864, 10.75135201577277, 9.22483394816109, 8.854798737084776, 8.689524877406544, 8.839341148866543, 10.125232470559874, 14.535517861766143, 7.882421970474408, 7.877166892078528, 70.20725882692021, 250.5632793303723, 747.5792821185058, 1528.7933488003257, 85.77870763439496, 72.21288967620649, 28.529180237374412, 498.9831242624233, 93.66774791603186, 30.259556222077276, 90.07724918126812, 95.56141756171314, 81.62702515822156, 450.7779652127768, 469.03988931669335, 553.3177523574724, 98.39458754813838, 682.2043902928499, 1531.5863909211762, 385.3971522976228, 160.79915234283487, 210.54456155009157, 309.34956799002396, 230.55126308380056, 59.03603557768476, 2106.5692670754333, 167.9274128796938, 1088.5419393003726, 5698.259638935286, 668.4463464826038, 411.65704154495273, 592.3446163083895, 2762.7575315283643, 1105.048224698881, 2435.181458963771, 3836.1882797220997, 1485.0831527408884, 834.7255919982019, 1244.5207005804912, 876.3811700017897, 1777.7053932142119, 2384.872030312604, 1492.1660598723447, 1527.084365426626, 3154.680009806632, 1494.734671299688, 4221.4326251076145, 2200.4118298085154, 2484.6172772294676, 1357.8399381641652, 2970.715040667555, 1950.3640776258324, 1494.9048847881522, 1734.4059638214035, 1743.117669933838, 1784.5915489621036, 1433.177027401203, 1720.7503619933177, 1863.5362224873365, 1729.7047614367475, 1710.2096812718119, 1337.0962928378297, 1363.7513256361249, 65.69955442376379, 43.429660500849494, 21.215777069707087, 21.21287103846046, 31.920047859537256, 16.17389311543818, 16.167965681163558, 15.101256583239229, 19.098333685440874, 13.133934459272423, 12.127002992589864, 12.126247223819165, 12.114296212118777, 12.108140542363621, 11.11673995671346, 11.112256341760736, 10.104544861512842, 10.104152764661672, 11.064160521396163, 9.096004042082942, 9.094554370569233, 10.830408932070883, 8.086370534839652, 8.085781135521795, 8.084466064419681, 8.084507865789742, 8.079506749875666, 8.07807212685518, 8.074623513825163, 7.067610952484685, 12.34937039679278, 27.347039840911705, 25.222843027298467, 14.29370260325354, 31.696995748892743, 49.33650174852641, 15.477333477347575, 40.396018031699924, 72.523103060984, 17.440939459515974, 59.82273659211936, 181.47222765104647, 36.06290807585339, 141.86225261429894, 161.0222215838671, 63.12290459677669, 385.68092274118766, 584.8904950065773, 243.98024412655738, 512.896844754674, 566.3633787150723, 71.20393876871438, 99.45178643005305, 83.95897474139935, 385.2538665682079, 134.60684566270643, 1116.2004352916688, 390.11919825588797, 525.8787317465146, 344.7326751698883, 426.01746578356506, 91.11552981307204, 530.2122162426369, 939.4154989329394, 220.6583836129118, 612.4670394176161, 292.1101677208812, 416.8105969838342, 212.71704627560774, 374.31153864793623, 417.9338432707932, 230.38178358221012, 370.37030483202625, 213.74267131498152, 402.35850564531063, 314.42410022318194, 310.0511552337222, 323.82361648902986, 271.91728355300063, 314.48675546073866, 331.90143362752764, 296.0343599542448, 240.62752009534998, 240.57960569293147, 258.4730533436298, 245.49919221484086, 9.455309727139275, 0.007974289266446345, 0.007982343067671725, 0.007959265104036394, 0.007971459782278954, 0.007970568162667144, 0.007958327787591084, 0.007958094521196814, 0.007971308876456694, 0.007969502257457796, 0.007970462953678386, 0.007957366028653436, 0.007957381969409308, 0.007957070593311263, 0.007969005968591628, 0.007956763999439979, 0.007968597353882759, 0.007956754966344985, 0.007956550924669814, 0.007956456874210167, 0.007956403738357258, 0.007956277275027335, 0.007956300123444086, 0.007956159313433877, 0.007968046335088096, 0.007955753886876183, 0.007955997249082506, 0.007955986090553395, 0.00795587237982817, 0.007955862815374646, 0.007967681291778612, 0.007967767371860324, 0.007965862982892074, 0.00797652309770263, 0.007967138243361885, 0.007967965037233146, 0.007965647782687794, 0.00796576733835684, 0.008026021801479783, 0.00796633748605855, 0.007965218444996291, 2.7684434339240322, 0.0079682418750268, 0.00796725779903093, 0.007985789990449917, 0.007968109566753057, 0.00801265282088794, 0.007971412491369866, 3.7105759429074476, 1.5787428075682326, 3.4983894681761782, 1.5420908014575119, 2.431876962787292, 2.032585360147738, 1.762080101902835, 3.32413461291451, 2.909165808232756, 2.10050852133939, 1.602707230261339, 1.898942551828483, 1.4873265599531165, 1.018828510012877, 1.16444897274794, 1.2788033134300592, 0.780551974430476, 1.3429342920747915, 0.9909707681158592, 0.9617360169670129, 0.5179810807662191, 0.515777430674387, 1.1886337604502293, 1.033190119347475, 0.6326278811827482, 0.6691758940530242, 0.7362915263082463, 0.9560603937304945, 0.8162258047504336, 0.8587176876461845, 0.7966788843247498, 0.7846571569071055, 210.36523220873943, 83.72219543550955, 31.74266137097256, 45.8448167146583, 22.528218534944266, 37.618830108631045, 26.509968966106538, 19.412147700737467, 17.413361663113243, 16.392680011927798, 16.391150155123164, 15.364408133691414, 15.36296545622675, 16.325641911727605, 17.331580411629403, 19.331826000138935, 15.280599259494082, 12.281153290391407, 23.113504064425108, 11.254094189263476, 11.253538069441571, 11.244876380180031, 12.215081193522817, 11.183977392855793, 10.342074554758764, 10.226601300613277, 10.227242490597574, 14.19018257304292, 10.18463710348318, 10.161891029402122, 201.8423099585374, 15.089843833047686, 17.008685009800992, 244.20269500524773, 2275.6675763733047, 26.55108386773112, 4307.383106780486, 884.878534925248, 24.42487256967519, 19.37242907467079, 49.710531444320445, 168.42418541175857, 32.50232807828768, 87.54945845177134, 29.852475480820054, 61.663223916309214, 88.7306316433681, 200.93625226599195, 324.19121303983496, 1321.1006443169863, 3070.9481577119536, 6396.709264804023, 136.27995912746334, 165.63813618736356, 3077.4045133938234, 119.68315009711407, 375.0031570163899, 1817.0183061750683, 393.8020149338587, 3040.654833182326, 807.1879967985888, 2145.744577231198, 5651.753233062288, 1493.535934287346, 482.7951351331663, 3051.7464749990877, 5625.010976150949, 3728.0875291371467, 739.7709420687299, 3340.9995607651617, 1923.8584658825253, 381.7590271635551, 1601.6211274590462, 2366.2471580790198, 3029.342532019389, 4188.30337270333, 1368.4739201546038, 890.6343061821711, 962.5889611903676, 1023.1036169882289, 979.3417931168956, 930.5422407794737, 2003.7655865359482, 1083.553838817142, 2132.8248465244733, 2038.062096365424, 1737.973304826846, 2153.038934475701, 1648.113835718231, 2748.6523247635914, 1689.6544874923868, 1618.3257239004397, 1661.5879145376944, 1693.8248771418237, 0.007407097766277419, 0.007392844954045491, 0.007392094273635831, 0.0074014655336151515, 0.00738914692133237, 0.007388184879133607, 0.007390377291847778, 0.007403833637489031, 0.00738898400771155, 0.007405072526363697, 0.007387423018377419, 0.007399721931954415, 0.007376465213986192, 0.007385336020359073, 0.007398417558192949, 0.007374575735423153, 0.007386213943760158, 0.007374097642509767, 0.007374031092828059, 0.007451915516323959, 0.007374362776441689, 0.007373885215925757, 0.007373780333627385, 0.007384352682262163, 0.007373829846590576, 0.007374208913577582, 0.0073731009944765155, 0.007398739126254959, 0.007385288104588243, 0.007384282938195734, 0.007386031331433553, 0.007384664667170008, 0.0073835445029275075, 0.007384033243789967, 0.0073946503138108514, 0.007401655067108655, 0.00738283215513451, 0.007384996350783638, 0.007398504338977895, 0.0073997128811977035, 0.007395083152940677, 0.007408096543900485, 0.00739465723497775, 0.007388995188058077, 0.007436881144630059, 5.411049341233256, 0.00739192390645066, 0.0073934721182459025, 2.9647300289359007, 0.007392901920573033, 3.7076369928181783, 1.6973106136047353, 2.516805259671342, 2.4064498473298537, 1.891645735854507, 2.5138125215497515, 3.1810759100410446, 1.6611601961426463, 1.7752992592261638, 1.6115519976957693, 1.1568117232618755, 1.4548745654687332, 1.315183695659498, 1.5596912724734333, 1.1599113156820053, 1.2314636253414157, 0.8845184170433843, 1.4532752946280945, 1.3368364108385145, 1.2282400056104812, 1.3608644534600614, 1.1913354748399505, 1.0320136031646878, 1.1155630337101026, 1.0268678327037783, 0.8549966460219343, 0.8907255750679101, 0.7787121492803359, 1.0804094687218868, 0.9821456969807358, 1.1498930437252008, 0.9364380893117894, 44.6617435339241, 46.57418010274242, 35.625120411193684, 26.724280097662316, 21.837370501360077, 25.751335313626555, 15.886484386363582, 22.75285287336925, 19.803585918703927, 14.874634111829428, 36.294667082577924, 11.902881981766772, 22.634534615578886, 11.682683162941396, 22.441812181032226, 21.43204369386167, 25.475951079486357, 18.655078404054986, 9.896684090041552, 43.734049881252275, 14.757789283502573, 19.502876614265762, 10.85183473976231, 11.846659015395971, 8.957037207420735, 9.880105334476397, 9.831157927475555, 20.451340006761704, 14.676233224531831, 8.844922194635776, 28.064140907320137, 21.389390451288662, 77.10540349311788, 47.32337218817602, 22.87832435042439, 30.922484428403692, 68.29019857911366, 154.43623367185089, 810.7976741475545, 504.9610384080245, 65.99219948077301, 26.831214708944216, 138.76221727930542, 283.70712642634624, 922.2419529604358, 301.6924215011086, 41.60155087274224, 362.2359430042352, 760.1058817597536, 2622.149515679996, 2679.724058095444, 45.5047163294944, 693.6533679396163, 103.09772608409854, 818.9329301386082, 74.0735990845397, 185.83596217089575, 1873.9443659250785, 5157.436369379655, 129.13255617916624, 2125.831641245931, 77.56019314051929, 1624.6812176708256, 9810.49337072679, 4442.218754220711, 662.8939367989395, 2695.9451099117487, 629.1520491032593, 1031.6528028460486, 531.6718383642611, 2146.198789867522, 462.05952163336696, 2552.6287173700803, 1348.7342243949863, 2453.2866907877524, 1686.2488555482125, 508.71808565652776, 1074.790453405363, 1535.037491004371, 1656.999927602593, 3321.3511076684176, 1138.920093642823, 2695.261395855069, 1588.5660549432334, 1747.793046911015, 2192.4228232298797, 2485.37059328879, 2043.518287664757, 1831.1168254710717, 2049.6128411747477, 1538.4723198197796, 1784.3218609214593, 2167.867305619774, 2020.6396237035488, 1775.5547470337199, 2014.6006914872805, 1734.3874594117149, 1768.1720043611192, 1629.2259052240481, 27.268406292789056, 16.552847399479305, 14.601992347473352, 13.632130066058513, 13.518571745266826, 12.636159057631588, 13.582800980018193, 11.679392508366268, 11.655893259606733, 11.67121360217961, 11.571427785952068, 10.694793693549414, 10.66282270438535, 9.732658516956526, 9.732550679593755, 9.736745181152543, 9.705643398317704, 9.711672064676025, 9.514893977696154, 10.27181837146703, 8.753018361562226, 8.73057424561945, 8.730304652212526, 8.730352063466848, 8.73640304100367, 7.7560363778593295, 7.7740782193934965, 7.758619826403627, 7.269495113769858, 6.875796241230936, 24.25787345103478, 14.736893169769171, 27.051121443866524, 18.293513486959498, 12.991576131203292, 85.93639015697026, 69.73396026781285, 702.5728234633567, 739.4833662441162, 146.45085830974728, 36.847290589700094, 2115.48644929104, 89.97286907547183, 23.297715602636824, 17.547492752050108, 20.06417695393857, 41.08735901205238, 47.478306849862854, 137.50998075481223, 530.0219766864359, 21.985269823452377, 16.534671226057895, 308.55901748425913, 879.5094529694406, 53.36742422369763, 1412.1358878932654, 225.4700022391718, 495.1705771921849, 128.4179672766898, 124.05116392337425, 303.56068878632306, 419.68013950674464, 333.142336659075, 214.7086663853661, 476.4714297466354, 861.1857877839975, 802.5078642897928, 1290.6964407773532, 620.0342547402056, 931.3336799095391, 1169.9616699233175, 1586.6163243801802, 479.77967179876026, 549.2593887504585, 554.1718937817484, 702.36678716693, 634.6001819972594, 730.8960613719964, 524.817105972027, 437.96563770282654, 766.1582542848665, 746.3530673502695, 623.7766425777841, 584.9347251927501, 493.76411024751894, 591.8058542143276, 597.7137947857605, 566.2878751496144, 0.007672806954654163, 0.007718148064566132, 0.007645309721300161, 0.007642586035517148, 0.007641440383212126, 0.007685832568992664, 0.007638148605377036, 0.007626049296690116, 0.007636916161230725, 0.007647090269074495, 0.007637227033825889, 0.007625296048709955, 0.00763595303479799, 0.007624829476811629, 0.0076358588788004705, 0.007624676933575423, 0.0076244349684421306, 0.007624699026044114, 0.007624291893406793, 0.007624183535107971, 0.007624027835804809, 0.007624019419626259, 0.007624019419626259, 0.007635608497488629, 0.007623786396682676, 0.007623275113835807, 0.007639754517446472, 0.007634488093719255, 0.007623435547239403, 0.0076339347299796394, 0.007646439593270403, 0.007647719378421054, 0.007634714804528927, 0.007637652050842628, 0.007634084643160049, 0.007635651104392535, 0.007636389624060234, 0.0076440720170422565, 0.007642840098907104, 0.007634490197763892, 0.007632953719167488, 0.007642044244023038, 0.007635645844280941, 0.007637120253560545, 0.007642834312784352, 0.00765224780849173, 0.007640620857825889, 0.007664924677431595, 0.007641551371566745, 0.007649195365734136, 2.3916492929687756, 3.236434324209227, 4.480329893366582, 0.0076721888915419496, 1.9074156399803803, 1.9643666409642715, 2.4556782327831894, 1.9340481993583172, 2.436422016262419, 0.8436142398101029, 2.1157863509984978, 1.8099886105052565, 2.69312165632311, 1.588777234880348, 1.5880685253170694, 1.8187516702696318, 1.3706138624788493, 1.289925063561406, 1.3882155256262583, 1.1933947274136374, 0.9249893949205978, 0.9168610496776957, 1.1608882140437249, 1.233780938447392, 0.9582219888463146, 1.0102739659613795, 1.1112234691418081, 1.2048147410813086, 0.6783792043636496, 0.8987146241251484, 0.6815343960370635, 0.7397890967429537, 0.9465641003081262, 1.0417035451241252, 1.0254223467263854, 0.9539712800434971, 0.929956017535532, 0.00799073369005213, 0.007881629263104147, 0.007879790522939035, 0.007879741537993527, 0.007879361517942577, 0.007878464319993252, 0.00787842461640584, 0.00787828797418942, 0.007877759452408926, 0.007877597544273243, 0.007877567637674932, 0.0078774490425437, 0.007877247430820604, 0.007888111776103523, 0.00787695558367157, 0.007877070053754761, 0.007877088616470953, 0.007876782331653771, 0.00787670447137196, 0.0078767178777781, 0.007876598251384858, 0.00787635693607435, 0.007876437374511184, 0.007876447687131293, 0.007876166152602365, 0.007875988259905518, 0.007876138824159083, 0.007876037244851026, 0.007876332185786091, 0.007875997025632608, 0.007886346255541174, 0.007886259113901268, 0.007887185187186892, 0.007885949735298051, 0.007885893015887463, 0.007895094451178098, 0.007885878578219313, 0.007886049767713092, 0.007885657372518014, 0.007887135170979373, 0.007884986536580041, 0.007884893207368071, 0.007885440291864757, 0.007886707197244925, 0.007886085861883467, 0.007892466795574787, 0.00791844944193484, 0.007884429139463248, 4.586398168044277, 0.007909305241685798, 0.007885058209289785, 0.007927138340006148, 0.007903159951363927, 0.007892233730360364, 0.007891461830745343, 3.5583522427823295, 2.8034768990347954, 2.043310405663243, 1.928330994541542, 2.075126076208321, 0.9553850190078628, 1.8259647263203447, 1.36076213628178, 1.1892561028158948, 1.4262700112272158, 1.2216178637210804, 1.0287704817005825, 0.8457720643872505, 1.1577374357299037, 1.27186570093863, 1.1266584657648988, 1.0958580850445172, 1.173117198852186, 0.507100802011188, 0.8696654646646438, 0.9272538413746798, 0.5885342664359392, 0.8968412151703284, 0.9990947540786103, 0.9173047535014174, 0.693122516535719, 0.8588189643395581, 0.9218139260180437, 0.8410433073132059, 1.0387507879374334, 0.8012416757586615, 0.8198895989439676, 49.8850179582046, 33.619685730103804, 18.340797548229904, 16.30498710506007, 10.192135366213328, 8.15685268120182, 8.156456862583077, 6.119336631265464, 6.119271942462078, 4.977918707586388, 4.977421372380152, 5.041014629250135, 4.0814760013665135, 4.08082334898383, 4.081092672170207, 3.8543894797349543, 3.763925710856201, 3.6891396897923068, 3.688456294215934, 3.6870712492919355, 3.727771074595029, 3.6994937412333972, 3.061608979734334, 2.87983344221758, 2.8514744472477123, 2.85187891238968, 2.84444514410742, 2.8444800504419208, 2.8225454222281994, 2.525657119809534, 9.513670870011518, 10.819154970676225, 8.168656786611896, 5.300195443884745, 5.589758219682263, 4.236756350030781, 5.934940876969946, 25.700853899755508, 121.17621424994913, 68.13134423416177, 10.16177005761367, 133.65903714709208, 11.528739905172673, 550.8307612232537, 23.51943472451093, 6.3213700119734995, 192.68015856588542, 404.3386644687852, 192.35628926810566, 39.879771106908386, 72.78910204170712, 161.9329990051493, 201.1418332149272, 151.1631766126123, 299.9969619348904, 118.91532904288474, 99.95470003316629, 41.901253940852854, 74.69303315071704, 136.49678764053215, 133.00293640284923, 120.28977525085892, 86.39577312733601, 155.99847636371015, 97.33108613149957, 126.07691502175419, 130.9361637207356, 110.51277355530642, 75.12088617728338, 83.50870030348794, 93.77358623514968, 107.81070302334601, 101.08091544756628, 81.60310393815321, 85.95322997805208, 92.59068037158764, 82.83398455546656, 83.7282374496193, 84.88920804448442, 0.007466931868246794, 0.00746779066507587, 0.007467010911736038, 0.0074692556400150194, 0.0074494173264478625, 0.007464583528907589, 0.007462030637836086, 0.007447581167555848, 0.0074477408567672244, 0.007448810614260158, 0.007447191824963562, 0.0074468804577052594, 0.0074464361051170816, 0.0074478610242339795, 0.007446459070455172, 0.0074482701276985756, 0.0074460424899037555, 0.007446359732015988, 0.007446507671519504, 0.0074460179223327745, 0.007445197579093061, 0.0074449994362923225, 0.007445646204302279, 0.00744494068775302, 0.00744468379641298, 0.007445483310625122, 0.007444752158349623, 0.007472939707506909, 0.007444150786938219, 0.00744419885392492, 0.0074446282523394575, 0.007457619690689736, 0.007457108578397805, 0.007454454212576597, 0.007462276313545895, 0.007459482553463252, 0.007469419067769806, 0.0074564249590313774, 0.007455321554647752, 0.007457548658364943, 0.007457167326937107, 0.007454906042251595, 0.007458295832969344, 0.007456035082361461, 0.007456333631756643, 5.9882710317409416, 0.007457618622534476, 0.007473478057757971, 0.007457372946824666, 0.007459021644468543, 0.007484006864156219, 3.084152053011964, 2.41482580029744, 2.613896033248961, 2.6003991993737032, 1.6099839031655805, 3.097251293863707, 2.1378332138636464, 1.8361463817802548, 3.108182914428381, 1.6645698157838538, 2.1689923111376785, 1.7460506815161294, 1.080184978396399, 1.4106663367272858, 1.4042892618295009, 1.3590004358707721, 1.4227815758629925, 1.3121741499569475, 1.416048471999172, 1.0451160568799562, 1.2881233268550314, 1.1501154796754474, 0.6044770258241974, 1.1347617988770988, 1.3852277663115211, 1.4352516134498752, 0.8479562666098543, 1.017967480981009, 0.8875506116081759, 1.1555259167891034, 1.0349582934380788, 1.1634486550743819, 29.143019463932923, 76.53232622983505, 7.578418579404289, 0.009395968848338616, 0.009395785253889654, 0.009395412349989429, 0.009421807088122682, 0.009395419493742306, 0.009395314480575, 0.009394800130367793, 0.009394825133502866, 0.009394582245905017, 0.009394179338242704, 0.009394360075190514, 0.00939413147509842, 0.0093938635843655, 0.009393529971106103, 0.009393197072221993, 0.009393331374776097, 0.009393131349695516, 0.009393211359727748, 0.00939319778659728, 0.009393137779073106, 0.00940649445382891, 0.009393039909658679, 0.009392921323360906, 0.00939282916894878, 0.009392768447049319, 0.009392789163932665, 0.00939274201516367, 9.888324852041725, 0.009404875679426779, 0.009404287748564928, 0.009418346654228629, 0.009418265929821108, 0.009402973298035393, 0.009413815371778178, 0.009413285305314639, 8.299233074588058, 0.009411123605693787, 0.009401918880110617, 7.100089894547157, 0.00940158455247593, 0.009410354937884126, 4.402738652705555, 0.009450257798334194, 0.009409484828783597, 5.474512445115052, 2.8994677389452566, 1.6082821151045918, 3.17921865612433, 2.473415506027958, 0.8803751649035919, 2.479761810344599, 0.7152042831636661, 0.009432987775751878, 3.0284691483541275, 1.6246559167408607, 1.335426051023145, 1.5436943594850874, 1.8010188761095716, 1.4835911890322209, 1.2459047919190527, 1.1639705869914434, 1.2883617726230623, 1.3837641805764052, 0.7562612254636631, 1.1207031732409467, 1.3490863695662736, 0.9158381715100437, 0.6138847904265955, 1.0098418212198899, 0.9215886525466541, 0.9173116362636364, 0.007620473162943906, 0.007629477675681356, 0.007617729439301237, 0.007617639515835023, 0.007627647997624678, 0.007615992329518603, 0.007615855328473017, 0.00761597963444102, 0.007615846336126396, 0.007628216631308092, 0.007628800604876919, 0.007615426340643019, 0.007614917479616559, 0.007614757733223637, 0.007614689497181627, 0.007614459927861998, 0.007614394336627818, 0.007614413908205758, 0.007614525519096177, 0.007613887062486056, 0.0076137077445151925, 0.0076133797883442935, 0.007624598005235314, 0.007613194651796205, 0.007613157624486587, 0.007624129874249434, 0.00762485296471011, 0.007613111604830349, 0.007612874101087229, 0.007612659342691447, 0.007635616803615965, 0.007635120637667088, 0.0076350910158193945, 0.007623508873370989, 0.00762384053227285, 0.007637959574391631, 0.007622092843258896, 0.0076299622044757815, 0.0076232729565125674, 0.007632726557619524, 7.634640099358717, 0.007621844231322891, 0.007632690588233038, 0.007664426166344772, 0.007631372416010649, 0.0076317199437594884, 3.155560253585286, 0.00766157400558108, 0.007638507049612407, 0.0076325604636878095, 0.00762958346799455, 2.6423812080700824, 1.6329840115191507, 3.5030782187522425, 2.2016628217024015, 2.9738157625201134, 2.147275619780206, 1.1512620818205865, 1.3434136928066038, 1.4587162779332183, 1.402159605739445, 0.6771629537737794, 1.3245639061969086, 0.6890741187796012, 1.2619509710716044, 0.8756104430490178, 1.3988049907317799, 1.309278761958415, 1.1485283407405904, 1.5822697832968666, 0.9526180388908199, 0.9610494662043166, 1.3995263419668273, 0.7390492565117616, 0.8341518404304721, 0.9797404797103713, 1.204039344783991, 1.0284719060818608, 1.0683987037124476, 1.0069189142854496, 0.9882402911751161, 0.9689620541603731, 0.8871196988253257, 0.9344895358090918, 53.79442379541402, 36.69492400101155, 36.61240033027647, 32.779789014893446, 166.55413808491292, 29.866002900433756, 28.915534115980105, 25.102493611731173, 36.00658745518233, 20.272953572567893, 19.306355081583614, 18.340621265532562, 18.26725334608902, 19.265686453437706, 53.30788830289707, 17.342768797455903, 16.285761504150663, 19.141208453311524, 16.382892902718492, 15.442356568842333, 16.27983194552424, 22.899289313911996, 15.408367805914619, 15.365863000330561, 13.510787136348386, 13.485427527623514, 12.544372137428425, 13.230782016582296, 13.47310465303003, 12.220719785458646, 229.603489375836, 18.429431424663015, 140.93414155282355, 1728.0004909545262, 45.15403887279883, 36.64687170246924, 2870.414804048938, 254.44073389743923, 79.22096439273275, 142.0233001748234, 347.00579419724113, 318.88419253972097, 126.09755638484164, 333.2825785493895, 244.9947232960461, 1141.1827746848603, 1466.240947335036, 2045.0527389415238, 49.51580611141927, 63.379702360035466, 661.9444951253538, 950.4377365909334, 551.9104674756682, 151.50264097858465, 1720.1321903667672, 1324.5003757546592, 693.981103575906, 301.6841994202298, 1220.8023642761716, 653.3628578263998, 1640.2788570214125, 1158.5711865049182, 202.14774774306096, 308.13125593983006, 1915.4441599359427, 1636.9860140059184, 1105.0526342306432, 1000.8862504604162, 981.8216562279327, 873.3453304161009, 1088.8120281126494, 848.738531818563, 733.6225481729338, 870.162683182795, 900.4022558174631, 770.1959652371072, 802.1100311517733, 788.1426755419602, 848.5648729180194, 762.4320691203561, 803.3274934577609, 745.1042247630631, 3.415843554237787, 0.007353837081189126, 0.007107155914340768, 0.007083466469907585, 0.007082514236273139, 0.007077826785838619, 0.007121123485695849, 0.007111358379658792, 0.007085781096017855, 0.0070589938437948495, 0.007071661100769018, 0.007081989898078619, 0.007065835736684021, 0.007079121557532486, 0.007093369034583374, 0.007080302704141918, 0.007070931128885104, 0.007067070093089092, 0.007050508544196638, 0.00706348342030184, 0.007049198252979042, 0.0070477793250953505, 0.0070576724672031625, 0.007043289194319656, 0.0070432587095409045, 0.007041885785959693, 0.007042123567233952, 0.007041874146316897, 0.007041664078477866, 0.007063018943127414, 0.007077484247779196, 0.007078874907958954, 0.007067152679126072, 0.007052575412195967, 0.00706974610239474, 0.007072961415149932, 0.00708983058317342, 3.3689726770269806, 4.0255775822068465, 5.29905429018189, 4.315312723561331, 2.3122616088453136, 1.730826820481373, 1.2390203146042251, 1.9071359884549561, 1.7533586858104417, 1.850428819368828, 2.140812268873372, 1.8289363187145629, 1.9081445623946836, 2.1687481210474773, 2.046926635164353, 0.7784041848416102, 1.2447679657826918, 1.7917869421132877, 2.1140698769422386, 1.6022940894939677, 1.3030132526947407, 0.9660097214828329, 2.065763328498714, 1.1315939939939328, 1.461267130919511, 1.1053385071660884, 1.334497843505957, 1.0864374654522018, 0.8019174516414338, 1.573469988464672, 1.441664642206322, 1.3740506001566275, 1.1798264034555348, 1.1952209905832445, 1.1591767459641817], \"Total\": [55158.0, 45316.0, 13837.0, 26960.0, 24196.0, 24730.0, 28649.0, 31927.0, 17281.0, 22610.0, 21340.0, 18902.0, 18181.0, 22142.0, 15861.0, 22111.0, 19188.0, 18026.0, 18884.0, 11337.0, 19016.0, 16500.0, 20550.0, 13933.0, 17192.0, 15925.0, 15861.0, 13914.0, 20030.0, 11014.0, 0.32247939405381754, 0.3224871990773255, 0.32310836482077016, 0.322462428256911, 0.3234758357351298, 0.3226516113041146, 0.32248726843641473, 0.32255850547206355, 0.32199236114795826, 0.32251433379899724, 0.3224757818414457, 0.32256300435637175, 0.32250507493738934, 0.3225428670029882, 0.3225125123049956, 0.32199118683208044, 0.3224574021328771, 0.3224771175256474, 0.32309983890799443, 0.3225019030704867, 0.3219895323609274, 0.3219927126426072, 0.3225430342582682, 0.32199554914776224, 0.3224659073365021, 0.32199349183367, 0.32199004985003954, 0.3219919029877602, 0.3219920862998399, 0.3225422072957403, 0.3225434091037254, 0.3229785311288727, 0.32247944329933165, 0.32252341886354574, 0.32253016411792484, 0.3233308131679793, 0.32311371303670094, 0.3233139013108616, 0.32315662663501166, 13837.149543292431, 0.32311012100075626, 0.3244485795910375, 0.32549944918860146, 0.3237281573814218, 45316.83994712997, 11337.962069364956, 26960.84742755014, 55158.24396013284, 17281.065466002052, 7848.824305700324, 22610.270192728483, 24730.39038761358, 15925.846792997709, 10781.909430050486, 13266.006860602345, 12372.609314096791, 15861.848654993251, 544.0544128092762, 13914.947501079, 16274.14795215189, 15861.950843625522, 12124.740383998085, 14815.289844653273, 7045.402764161163, 22142.90295588654, 19188.455272381994, 10685.660380204037, 4493.676070615703, 15987.416082136655, 21340.463789081772, 8528.314020286722, 5217.4207524606445, 13658.417639455032, 7977.891841996539, 17819.799641737845, 18026.66538899797, 28649.856080587924, 24196.532767627938, 19016.66256236247, 22111.728272466535, 57.299243000881056, 44.244404870577895, 51.36103154861606, 44.358135952879095, 26.309355909025637, 25.304075984417803, 25.265337647194322, 32.31145076723951, 20.2926092160496, 19.301457820301916, 15.23460296812467, 14.231841705684783, 14.274311058736389, 15.292059987908118, 13.933752436745625, 12.275672555709239, 12.226594375802271, 13.287220484642303, 13.040681475155727, 13.286697591005717, 12.197738553465777, 51.792441669096696, 11.233833878921946, 11.26610910268237, 12.28325820638386, 11.214684860866125, 11.101197452673405, 10.270454286813308, 10.23807736843258, 10.279380141740754, 19.032093670822743, 51.20830006866075, 14.804324380010241, 22.208094570854158, 18.901357697990353, 50.08905568338275, 232.30213968865468, 45.96431690004921, 20.154550526617616, 60.840304590432936, 36.12451796068989, 20030.038968619596, 261.29215444878423, 25.172290271224362, 12313.719754945963, 46.18833522474622, 182.80047218183395, 18026.66538899797, 977.3208298497411, 55158.24396013284, 60.13512690448821, 21340.463789081772, 579.6119472130284, 15861.950843625522, 6565.079386768506, 10454.949153483098, 6698.810175442594, 4155.354525823708, 4384.97858363718, 24196.532767627938, 4586.2525891854675, 4388.424503880568, 11070.725964320833, 5817.797978215942, 3287.11924054008, 4833.3520339186225, 4957.584521652242, 2114.8551524546756, 2550.498582003703, 8160.550115119676, 8780.956466606223, 22111.728272466535, 13978.72433803458, 24730.39038761358, 19188.455272381994, 13933.777968487913, 45316.83994712997, 15987.416082136655, 12653.382733594855, 26960.84742755014, 20550.364201729026, 22142.90295588654, 15925.846792997709, 14815.289844653273, 28649.856080587924, 17192.455505966922, 8528.314020286722, 31927.197248662607, 16274.14795215189, 11.67768367521658, 10.647142487350683, 27.933683955637086, 0.3254246696268529, 0.32298964663876156, 0.32384214289563573, 0.32246831842941337, 0.32311128157910574, 0.3224785689655956, 0.32245389020609627, 0.3224722968698116, 0.3224820635640439, 0.32294021324558464, 0.3224990453430715, 0.32248127290320944, 0.32247483727028237, 0.32246287486119923, 0.3224636657007852, 0.32247904669716704, 0.32258768924130066, 0.3224881369671137, 0.32335108202366764, 0.32247041157263534, 0.3224603878429629, 0.32245458363199764, 0.32249077331349435, 0.3231115878563175, 0.32250146236240373, 0.3229910409103061, 0.3224828009387811, 0.32329891916396475, 0.32322122539495346, 0.3230704878776752, 0.3231516264245594, 0.3231721060841804, 0.32389029725775653, 0.32370018399861555, 0.3232314100583649, 0.32393215774617, 0.32394605597380943, 1381.2969335536397, 0.323041284569796, 55158.24396013284, 0.3232785504158104, 17281.065466002052, 11337.962069364956, 24196.532767627938, 26960.84742755014, 24730.39038761358, 22111.728272466535, 18026.66538899797, 19016.66256236247, 22142.90295588654, 28649.856080587924, 13933.777968487913, 15861.848654993251, 15861.950843625522, 31927.197248662607, 19188.455272381994, 7848.824305700324, 13863.660286536528, 6338.8667754098815, 45316.83994712997, 8333.497714658548, 3538.9981199772583, 544.0544128092762, 6794.952960497797, 4980.435728461194, 18181.773732577043, 7045.402764161163, 21340.463789081772, 18884.689280018905, 9531.454679328772, 22610.270192728483, 18902.2899379738, 20550.364201729026, 16500.651219003103, 0.3254134796763662, 0.3245894121231861, 0.323180051312553, 0.3244684156201631, 0.32326200275586664, 0.3232167982998655, 0.32305145459362516, 0.32390839368937524, 0.32435918324380414, 0.32329687939022905, 0.3230601216549169, 0.3230769810494784, 0.32335990195309183, 0.3230397706420065, 0.3233502045834386, 0.32248057398161045, 0.32342374045647526, 0.32304209592276617, 0.32305093973257476, 0.32318163261858845, 0.3229891216823158, 0.3231733363957908, 0.32299845518479114, 0.32246846058405804, 0.32391099628219494, 0.3230309513727808, 0.32304402621465256, 0.3229791336786858, 0.32300950068974493, 0.3230416382983265, 0.32609397902226334, 0.3238700000084192, 0.32536585670002716, 0.32563228120990867, 0.32388549340795375, 13837.149543292431, 0.3242225918602365, 0.32549944918860146, 17281.065466002052, 22610.270192728483, 45316.83994712997, 26960.84742755014, 12372.609314096791, 16500.651219003103, 15925.846792997709, 19188.455272381994, 22142.90295588654, 12124.740383998085, 13914.947501079, 7654.9939876347, 15987.416082136655, 24196.532767627938, 7848.824305700324, 9689.17333936443, 6602.51441364194, 9511.077640151983, 14815.289844653273, 15861.848654993251, 13658.417639455032, 5461.565512649671, 28649.856080587924, 7045.402764161163, 4493.676070615703, 24730.39038761358, 13863.660286536528, 8015.6137428155425, 10685.660380204037, 8296.317260885733, 55158.24396013284, 17192.455505966922, 22111.728272466535, 15861.950843625522, 20550.364201729026, 18902.2899379738, 21340.463789081772, 0.32317284620853104, 0.3224934212107373, 0.32199312294386045, 0.3225194097299753, 0.3219966355651025, 0.3224857400467617, 0.32248728541075494, 0.32249265939351407, 0.3225199773789315, 0.3224998073141349, 0.3224562626767203, 0.3224806697554812, 0.32200599328756296, 0.3219911236387978, 0.32247946425887575, 0.32200012830144487, 0.3224926913770422, 0.3220002719676391, 0.3225371775115075, 0.3220015361554074, 0.3225628525431681, 0.3225180325455809, 0.3224894924375837, 0.32199920042670965, 0.32254727557839086, 0.32199674870226697, 0.3220010428109995, 0.32199194540846204, 0.32199334934557877, 0.3219915173080812, 0.3225940099286396, 0.3224876488404192, 0.32251417471268756, 0.3230008399012062, 0.3225369322566947, 0.32293936468957185, 0.32332834168680696, 0.32313808025512236, 0.323167831178102, 0.3228271042984822, 0.32301650817496524, 0.32266056174987157, 0.3254134796763662, 0.32303145709588355, 0.3244485795910375, 0.32300143450828583, 0.32307640517856334, 0.3233514968485896, 13837.149543292431, 55158.24396013284, 17281.065466002052, 0.32502524731863514, 24730.39038761358, 24196.532767627938, 11337.962069364956, 45316.83994712997, 15861.950843625522, 22111.728272466535, 22142.90295588654, 7848.824305700324, 26960.84742755014, 28649.856080587924, 19188.455272381994, 16274.14795215189, 12124.740383998085, 12653.382733594855, 15987.416082136655, 13914.947501079, 8700.47951289599, 15925.846792997709, 10781.909430050486, 6338.8667754098815, 16500.651219003103, 18026.66538899797, 13863.660286536528, 7977.891841996539, 9241.025518451594, 3538.9981199772583, 4239.458481215516, 17192.455505966922, 31927.197248662607, 22610.270192728483, 20550.364201729026, 13978.72433803458, 18902.2899379738, 66.530127393875, 41.95427703810725, 51.54630781589302, 40.87632249894344, 28.06460684453379, 36.56717581604815, 23.792162194843005, 28.03114668543223, 39.784540392327834, 21.45432420358118, 20.495505014367968, 18.381010803932476, 17.38209997469502, 18.446028114183477, 16.29045922911598, 21.638914125951366, 23.769303960469607, 20.437485594456188, 14.175473471627853, 15.239811165994597, 13.107505155504498, 25.802528738487226, 13.10575051588941, 12.036587839088677, 12.032582125758754, 12.03588585110373, 22.689936226406665, 12.94249453150811, 10.96892861651212, 10.96902124438413, 20.42933635829575, 68.30611832050246, 23.711432042162915, 25.831097092412044, 16.274446093052326, 750.1479286234505, 477.6309663560942, 30.02558892609941, 89.90341750057188, 23.68399772234425, 133.2441871408099, 176.0794580907049, 571.3220904501833, 4438.731816896144, 196.69988503264256, 5774.91635804571, 39.39933827209626, 17819.799641737845, 45316.83994712997, 10739.002374596028, 49.627217116910685, 5415.274085381543, 21340.463789081772, 55158.24396013284, 11070.725964320833, 603.4375284582263, 15861.848654993251, 7848.824305700324, 22111.728272466535, 3196.2543516396245, 19016.66256236247, 22142.90295588654, 14815.289844653273, 5927.570036370456, 4676.207973514993, 5650.963868168063, 3758.0046850443855, 8635.51303731334, 10685.660380204037, 28649.856080587924, 15987.416082136655, 10781.909430050486, 5880.2413651841625, 8333.497714658548, 26960.84742755014, 13658.417639455032, 12372.609314096791, 16500.651219003103, 24730.39038761358, 15925.846792997709, 19188.455272381994, 13863.660286536528, 12124.740383998085, 11.53244253401654, 10.102884723795903, 6.859560284268083, 6.861663536933453, 6.5827563290040665, 6.0299691736034235, 6.031047875898394, 6.0321228226562145, 6.03226973729545, 5.733909147029565, 8.017675403890523, 8.561373420398045, 6.0375196003155, 5.802580492640138, 5.199285353423543, 5.198714738132952, 5.198633406601752, 5.1989726932203935, 5.198968796698358, 5.1989400195508155, 5.199083343739078, 5.199446548789049, 5.1985835893399175, 5.198935900854775, 5.198659048727335, 5.1999749235660016, 5.20031567753457, 5.201501208116118, 5.201114904874347, 5.202386784945482, 8.58059341729998, 6.050491888999497, 11.085172318597108, 11.157256374198067, 46.47773767563308, 580.9589656777945, 11.255223428835281, 13837.149543292431, 6.077190365277504, 25.93193869979519, 12.159084130646981, 1030.2084346332379, 12.220243041625128, 73.88290719644935, 7.548212320082486, 2065.3167310320796, 134.7085954852717, 453.29219665082985, 1771.4578039111107, 4286.888633438931, 13266.006860602345, 195.29374062151598, 4686.83400728778, 155.92755549565737, 3835.10073611102, 2508.879413916897, 834.8254142857618, 1702.6538365067902, 2100.122764132826, 45.516628936095586, 1208.0920875790357, 12372.609314096791, 45316.83994712997, 3279.358317844484, 5192.5943866502075, 5764.30499409821, 3728.77260489558, 2946.332311335363, 4240.127422774271, 1041.9786290743184, 5502.948804971756, 11407.81400481104, 26960.84742755014, 11343.477417708351, 5217.4207524606445, 14815.289844653273, 22610.270192728483, 12124.740383998085, 9511.077640151983, 15987.416082136655, 13914.947501079, 22142.90295588654, 13658.417639455032, 17819.799641737845, 10781.909430050486, 16500.651219003103, 17281.065466002052, 7723.156053216136, 15925.846792997709, 9689.17333936443, 17192.455505966922, 19188.455272381994, 11337.962069364956, 16274.14795215189, 13.469298623650472, 12.456863615178666, 15.279077683412615, 8.40776400198548, 97.24108529568863, 8.241223628740462, 8.085673171040733, 13.203466594763299, 6.867800997724538, 6.382644335676594, 5.370276752018069, 5.331591798842229, 4.357436130949329, 4.35731657455488, 4.357301218897162, 4.357224442064704, 4.357540990899629, 4.421352159707924, 4.474147557482621, 4.000590067459978, 3.940957114761936, 3.821470530749172, 7.367491884916762, 3.5036939865281838, 3.3440173621794056, 3.343805111131043, 3.3440153074237258, 3.3149745387760277, 4.077718861061644, 3.141226785498577, 1338.852573112374, 32.94609133759169, 320.88122338692597, 18.617498556198214, 123.12862188978383, 680.7178093072531, 236.40953254171768, 67.67244896237493, 16.75994608795418, 21.992841491423015, 74.50444895532999, 162.39112199910818, 66.80071014488544, 849.9662771545917, 9.03479256780059, 11.301721830567867, 330.64253838786476, 44.47909365165153, 18902.2899379738, 1798.0332031050198, 42.3291468031676, 462.0938439248557, 1680.269720689778, 7608.441789001101, 2134.3576019221314, 18884.689280018905, 184.16983345913553, 540.9191502117458, 1650.3320031453754, 1130.4962569424918, 4742.629153626003, 28649.856080587924, 923.0217818898074, 10739.002374596028, 299.51492894923587, 12082.62719630533, 15861.848654993251, 5413.563203609007, 13914.947501079, 16500.651219003103, 7846.312380884503, 15208.258357357607, 7380.314856863727, 45316.83994712997, 11343.477417708351, 22142.90295588654, 31927.197248662607, 24730.39038761358, 13978.72433803458, 9531.454679328772, 26960.84742755014, 16274.14795215189, 55158.24396013284, 17819.799641737845, 17281.065466002052, 7.124257696073355, 3.4468647356426927, 3.1872211489752442, 7.249255883598552, 5.04917869885661, 5.185597933232522, 5.173570725796921, 6.170917452268244, 11.558371816128599, 11.202645334620476, 8.570723641397114, 47.665961278610425, 6.326342945982364, 9.839130015381695, 6.000473754489789, 19.114870530098838, 31.95413950206122, 7.504140403535192, 300.61142310165394, 48.21959016608871, 9.35737787393822, 15.00066794648683, 8.887455811665104, 21.342147893424873, 14.971654818257946, 87.60020001286631, 13.449922138361492, 25.761505097183292, 8.940702375705666, 11.474117533382888, 21.53619019731867, 816.7836876859612, 426.9629144611937, 394.48305228915007, 286.3750352103635, 200.1354725165183, 89.05900152899129, 435.44271980985405, 1119.326200295653, 1111.4995727200328, 305.00903899352573, 17281.065466002052, 4147.456222583272, 18181.773732577043, 273.5348723148469, 45316.83994712997, 2724.614862162068, 3166.199333053426, 24730.39038761358, 18902.2899379738, 8780.956466606223, 8970.615699883056, 31927.197248662607, 24196.532767627938, 10685.660380204037, 9689.17333936443, 19188.455272381994, 6207.479604719097, 8147.597655182875, 16500.651219003103, 22142.90295588654, 55158.24396013284, 18026.66538899797, 20550.364201729026, 10749.199293852456, 5413.563203609007, 9531.454679328772, 112.67405131357916, 64.24715453845376, 50.67294661488887, 31.289100155576644, 23.53397539280073, 21.59925890555132, 21.59916626295251, 22.259722501977176, 20.54531721124654, 18.687509475573112, 18.68720696512354, 16.749987666088135, 29.056065631255066, 15.782739079139356, 15.782847955777475, 15.782912236042087, 15.738318073654257, 16.65461532001719, 14.813570697897447, 14.813546560820718, 14.799527293762097, 15.24130564443317, 13.839532974332213, 13.83997380132654, 13.794798103234768, 13.380461005339475, 11.90524120830543, 11.905215468910505, 11.85831657439333, 11.859859716781585, 188.37192099641442, 858.6137419565837, 144.60968799825253, 705.4052516003488, 143.7135514505423, 89.12021411913203, 29.76290701568516, 36.47975235212767, 270.1668587615768, 29.32420566733753, 92.28284634513861, 28.309222217910673, 183.61028623303696, 23.06786898292409, 27.09804209635615, 51.046759470670715, 48.54194394649271, 36.052488138905495, 74.74442294960144, 282.86086508469845, 79.54582644899857, 15208.258357357607, 376.42245145621104, 31927.197248662607, 7608.441789001101, 5847.440881367782, 5368.831798892238, 816.7836876859612, 1643.9470958635952, 18026.66538899797, 435.4909739924335, 18902.2899379738, 55158.24396013284, 18181.773732577043, 1572.9492888318982, 5308.958250274773, 19188.455272381994, 22610.270192728483, 11337.962069364956, 8970.615699883056, 24730.39038761358, 13914.947501079, 17281.065466002052, 18884.689280018905, 16500.651219003103, 28649.856080587924, 13978.72433803458, 24196.532767627938, 17192.455505966922, 15861.848654993251, 6341.380266951896, 45316.83994712997, 16274.14795215189, 12281.419495983579, 26960.84742755014, 11014.478487419921, 17819.799641737845, 22142.90295588654, 98.86486108062486, 65.67314998753837, 44.55063044298039, 41.515979404106744, 38.51594819600819, 35.498014715783135, 31.475458750399333, 29.463803036394363, 24.434308484263028, 23.42848540574235, 21.416602404838954, 20.41037524757302, 19.404257502379465, 19.405028199822084, 17.393354652763005, 15.382260529702933, 15.384808008169575, 14.375966758110385, 14.374065682535896, 13.37004162992758, 13.369039211178105, 14.355589548470201, 12.36258628097571, 11.358772605286797, 11.357459317762956, 11.361315611040284, 11.36127417823099, 11.356575685349037, 11.235113655799337, 11.066012286982861, 23.5975426023524, 38.89247613702241, 21.390093441160293, 72.6402745095904, 25.050772616494697, 2134.3576019221314, 17281.065466002052, 863.5546073008053, 987.3157151085524, 2664.9705601235073, 11337.962069364956, 3499.864011847327, 18902.2899379738, 4212.373979026109, 155.92755549565737, 28649.856080587924, 1165.1661085222192, 1169.6514264345797, 5051.4979917253395, 4199.505408995752, 255.19356685883255, 20550.364201729026, 211.92669117400845, 13914.947501079, 18884.689280018905, 13978.72433803458, 9201.668494136951, 7608.441789001101, 12281.419495983579, 9531.454679328772, 18026.66538899797, 4438.771559757595, 7045.402764161163, 12653.382733594855, 5518.045475990709, 22610.270192728483, 5953.314732862019, 24730.39038761358, 4155.354525823708, 16274.14795215189, 6907.555647164796, 13933.777968487913, 15208.258357357607, 19016.66256236247, 17192.455505966922, 31927.197248662607, 45316.83994712997, 16500.651219003103, 9378.00043414518, 12.825636032482128, 7.263404091573524, 21.01361496771272, 8.423097353034413, 14.501027759412246, 7.877018084693838, 27.073186602393385, 21.1969978509293, 13.896008687132394, 10.102993750135823, 12.585288297774158, 12.279864693756036, 23.883656867268474, 20.74328080053124, 16.2358041929109, 33.99025621824521, 16.183398379811848, 70.06460015347027, 11.184374213066882, 61.41855515213053, 24.220011075715366, 16.03257133937986, 74.9193768355622, 30.235519253358085, 14.146139438972002, 15.333760726953242, 25.829376966063084, 52.791113296811375, 16.263377802194654, 21.186418509530984, 103.44339258974561, 63.616464723669154, 1562.0081760160388, 2724.2926932489104, 1104.0539169116694, 1230.355100661196, 296.4233714186409, 9201.668494136951, 5650.963868168063, 6907.555647164796, 55158.24396013284, 28649.856080587924, 1432.3234030183758, 4388.424503880568, 8780.956466606223, 22610.270192728483, 7846.312380884503, 6338.8667754098815, 11070.725964320833, 17192.455505966922, 13914.947501079, 13978.72433803458, 24730.39038761358, 5817.797978215942, 5034.55490578014, 6097.389455725876, 7477.025540304572, 16274.14795215189, 12281.419495983579, 18884.689280018905, 26960.84742755014, 8160.550115119676, 9531.454679328772, 15861.848654993251, 0.3230474760892585, 0.32251798669154474, 0.3224728972230693, 0.32200176278801773, 0.32247512265319755, 0.32200477664902893, 0.32248977739864954, 0.32200420377771993, 0.3224870554574329, 0.3219981937084024, 0.32247346008695166, 0.3220081604668502, 0.3224754040886371, 0.32248776694486614, 0.3219986423407325, 0.321992398857833, 0.3220160496472909, 0.3225356128442299, 0.32200974231751345, 0.3219926372908688, 0.32257117525924967, 0.322022273535773, 0.32199474068369277, 0.3219954109670579, 0.3220062298420977, 0.32249582559229945, 0.32246753953502927, 0.3224618575321524, 0.3224592053498363, 0.3224905439626128, 0.322484714236436, 0.322506530032747, 0.32250890548533795, 0.32250555112796436, 0.32315300184892853, 0.3227546443806548, 0.3224904172195459, 0.3225383498129687, 0.32248343700919047, 0.3224852154893191, 0.3229022704042957, 0.32309609506352177, 0.3231159478774798, 0.32322122539495346, 0.3229778904316593, 0.32319488777731153, 55158.24396013284, 0.32353529547871285, 17281.065466002052, 11337.962069364956, 26960.84742755014, 13837.149543292431, 28649.856080587924, 24196.532767627938, 18181.773732577043, 31927.197248662607, 45316.83994712997, 18884.689280018905, 24730.39038761358, 19188.455272381994, 18902.2899379738, 13933.777968487913, 15925.846792997709, 22142.90295588654, 16274.14795215189, 17192.455505966922, 16500.651219003103, 4239.458481215516, 22610.270192728483, 15987.416082136655, 7045.402764161163, 20550.364201729026, 6602.51441364194, 9531.454679328772, 15861.950843625522, 22111.728272466535, 14815.289844653273, 18026.66538899797, 19016.66256236247, 15861.848654993251, 15208.258357357607, 21340.463789081772, 29.661115737671206, 20.972684932886178, 17.11554758832838, 24.468100888224352, 16.06364868719827, 15.023764715672382, 12.920445029150871, 12.908646250795423, 11.856984309818444, 10.813672147004475, 10.812666550078221, 10.765853051317581, 10.765539950437773, 8.71341718477824, 8.713404209005512, 8.690831870588571, 9.644254810437888, 8.70113546367818, 8.445295441954032, 8.693584653529859, 7.657279863020136, 8.689820913381418, 7.567325760571034, 7.358364204293106, 7.653056051784131, 6.605254507857056, 6.605746496654198, 6.834986586070609, 6.423849030708618, 6.509606906136509, 260.7774882825709, 59.972490801539955, 47.21384167134399, 33.79831562173735, 934.2911461273973, 155.94744982482374, 17.871769249396777, 75.38596176668479, 20.205196247880902, 76.60954973368277, 248.88623659785384, 445.3125960467026, 109.96720555579272, 81.18767074625615, 491.05696707336114, 4761.371711207188, 151.2796064387359, 6338.8667754098815, 141.07497055160064, 69.86536720088591, 93.6177928537938, 23.050940668722326, 1446.5205332168869, 5161.506617084686, 5051.4979917253395, 8700.47951289599, 552.5780382663571, 165.92276731575706, 17819.799641737845, 2783.102271748912, 7392.870809433101, 24730.39038761358, 13658.417639455032, 45316.83994712997, 7380.314856863727, 2085.4756276761304, 22610.270192728483, 20550.364201729026, 22111.728272466535, 6064.29996055786, 5847.440881367782, 12124.740383998085, 5131.108515498826, 3499.8979413201982, 22142.90295588654, 26960.84742755014, 6565.079386768506, 17281.065466002052, 5953.314732862019, 24196.532767627938, 11407.81400481104, 16500.651219003103, 11337.962069364956, 9511.077640151983, 15925.846792997709, 9644.975068541256, 55158.24396013284, 14815.289844653273, 93.53259191678377, 93.53230198473638, 92.51418538409968, 91.47706909521268, 92.34918056080312, 39.38192990251681, 38.37959801121424, 33.3591475038064, 31.3594525152145, 31.359998043552455, 31.340149615589247, 42.13758855465167, 121.52997949646985, 24.33560404220902, 23.334187104093218, 22.334499766678825, 22.323847292022155, 22.321780788048848, 21.331943392982208, 21.31184090886543, 23.181836116130484, 26.85172758322653, 19.034871907617664, 18.303272575504252, 17.300481068494253, 19.23289440561955, 20.77941102153512, 15.840065786431866, 15.314846237441248, 15.058073193510408, 682.7423556889707, 94.30424873987016, 640.7014250412069, 26.8721781792597, 1422.3270246005138, 117.0525741626994, 33.18206509589734, 32.278415445994284, 6887.645322364314, 170.31337814404168, 71.04943123183476, 107.33365214901576, 230.58130647811097, 79.32965029075245, 105.29296607389095, 136.04825942252026, 131.395499968443, 161.14747725848878, 963.6046123190496, 1826.802307094417, 837.7767939110291, 420.9841178945676, 396.01768496379964, 19016.66256236247, 5650.963868168063, 31927.197248662607, 591.2953741376996, 1128.3662278226996, 15861.950843625522, 20550.364201729026, 1350.0116675686768, 4732.236281902265, 2590.4434036744747, 55158.24396013284, 7219.608357303755, 22111.728272466535, 1005.6224623062104, 9241.025518451594, 2963.0063928570976, 3718.552299533672, 7974.67577813466, 9531.454679328772, 1765.9045086133985, 2382.048402434929, 9378.00043414518, 5161.506617084686, 5363.975678137966, 18884.689280018905, 45316.83994712997, 5647.857625173193, 20030.038968619596, 15987.416082136655, 16274.14795215189, 11337.962069364956, 28649.856080587924, 17281.065466002052, 19188.455272381994, 26960.84742755014, 17192.455505966922, 11407.81400481104, 9509.453046819483, 11070.725964320833, 22142.90295588654, 24730.39038761358, 21340.463789081772, 24196.532767627938, 297.6909546716446, 123.07845614288863, 88.14479017437587, 71.17750009204865, 67.18510097715418, 60.198413327729604, 69.00290279679378, 57.204198271108524, 55.208305519866734, 52.213890655925, 51.21579579669343, 51.21568729963083, 48.22152313555551, 43.23121773101445, 41.23510883367668, 39.238998767477824, 37.236898308216674, 34.24839844496308, 33.25049765640157, 31.254144199808888, 31.91490407584944, 29.25794852413464, 29.257758357510184, 28.253839285950388, 27.261655439098085, 26.263663427566943, 26.26353433305558, 26.263580074394675, 25.26557606259423, 24.85857388061913, 105.23699106651398, 404.9133113409528, 162.89382587947566, 43.007678894236314, 30.98399802602333, 52.24254007720818, 43.88364274642615, 233.39695946864558, 66.11595337304088, 46.660624191063505, 1363.4125572611179, 3872.1660046108964, 1832.6958861998808, 3419.518989907024, 69.62050888690538, 410.9223111769588, 2983.249381822583, 4400.497376724022, 4649.483365586899, 1505.7408442310893, 1375.9940992057482, 597.480133098688, 5733.870099142543, 1858.6171965752205, 22610.270192728483, 1143.5049626836983, 3393.0596159822558, 10749.199293852456, 3260.051355133775, 666.5623212191704, 342.66881159671055, 2783.102271748912, 5141.032801037065, 5192.5943866502075, 13837.149543292431, 12372.609314096791, 12313.719754945963, 18181.773732577043, 3791.55096827401, 26960.84742755014, 21340.463789081772, 12281.419495983579, 5764.30499409821, 15925.846792997709, 8579.99894349126, 9378.00043414518, 34.96740915245818, 23.6521368164684, 15.60217360987809, 11.525239564106187, 11.52519596983137, 11.525198112878359, 11.525124583783397, 10.505901235699517, 10.505884747733548, 10.023311514179559, 9.486705685231112, 9.307874095332346, 8.467272516807709, 8.245238995014981, 7.447992755330239, 6.428747803679992, 6.428717580016951, 7.327433741804728, 6.8555102787389846, 5.825763126321175, 5.548093912338652, 5.409325549318916, 5.409322262770833, 5.409119281154037, 5.409116015936294, 23.39260243721531, 5.371352292463974, 5.292747790754786, 5.200930291063039, 5.136941104171818, 54.112668765077636, 17.39517998546824, 17.58807247664717, 21.55060266650895, 117.71558570067667, 29.451387207434006, 285.84133563330175, 20.365345246835357, 15.539755780267516, 37.81974300916311, 86.69715578190896, 21.546903395391865, 1533.7064414745448, 139.08691313781114, 1582.1545031641326, 7380.314856863727, 133.54296404003102, 28.240510941238476, 100.98214382478943, 933.4169867190079, 43.11702312235747, 5534.629224232448, 109.7639982539483, 18181.773732577043, 18902.2899379738, 5161.506617084686, 447.4469284218205, 8970.615699883056, 395.4026533800994, 1399.146581086456, 5633.990913490821, 19016.66256236247, 1699.4801885709908, 512.0835536098078, 8700.47951289599, 22610.270192728483, 2444.1302864813147, 5518.045475990709, 4743.409153921782, 1715.1460607430572, 4276.822574790843, 22142.90295588654, 24730.39038761358, 45316.83994712997, 2893.830658526939, 17819.799641737845, 12082.62719630533, 9689.17333936443, 11407.81400481104, 18884.689280018905, 26960.84742755014, 15861.848654993251, 11343.477417708351, 10739.002374596028, 31927.197248662607, 17281.065466002052, 15925.846792997709, 17192.455505966922, 52.1106292891722, 42.78647232929441, 25.173337765664822, 18.956987907577943, 17.92101807215725, 14.812541022597035, 13.776605784451055, 13.776564594700632, 12.740298031797735, 11.704259857255051, 10.668361089291242, 9.632131052465972, 9.632171676907989, 9.63171658176191, 9.591094071962942, 35.35472610712826, 8.595847224004528, 8.59598448951381, 8.595799350057446, 8.595936087229704, 8.595838109848643, 8.59571310441773, 8.506468159282438, 7.559102897779184, 8.21705784754201, 6.895140284585947, 7.094836713801601, 7.450107942681857, 6.7053917122602735, 6.523413229884939, 23.032534803158978, 29.194448216084407, 18.14714040272211, 44.45702715233024, 205.37757572947987, 45.21751681670218, 2072.292585329359, 11014.478487419921, 24.75982021472207, 34.11292117078725, 71.73548934345833, 29.821353323295295, 529.8524936665236, 14.39276533449069, 29.958485438389733, 79.46781537127725, 530.285554369341, 175.2935386165506, 70.67274151004524, 419.9180935595842, 420.9841178945676, 253.7153367784497, 270.7118840014841, 1904.298415905335, 85.17215357877421, 291.3085510638906, 1183.9835740941485, 1037.8563786251434, 8970.615699883056, 21340.463789081772, 31927.197248662607, 7754.692674084538, 281.69122937638065, 1197.8427174612075, 4068.2045671465603, 24196.532767627938, 5368.831798892238, 3868.8371366483852, 15208.258357357607, 55158.24396013284, 9644.975068541256, 5124.168718991034, 45316.83994712997, 7219.608357303755, 3499.8979413201982, 1573.4914461965252, 13978.72433803458, 10454.949153483098, 7608.441789001101, 11070.725964320833, 17819.799641737845, 19188.455272381994, 6064.29996055786, 8528.314020286722, 8969.215579143214, 20550.364201729026, 14815.289844653273, 17192.455505966922, 26960.84742755014, 9378.00043414518, 22142.90295588654, 24730.39038761358, 0.3225305340932578, 0.3225132314403522, 0.32310761930323245, 0.32249280714947165, 0.323041080820028, 0.322444599893567, 0.3231123195165335, 0.3220048246748786, 0.3224626355751813, 0.32246751801045953, 0.32305093195974105, 0.32200120637343305, 0.3224685202545405, 0.32249269448246193, 0.3224983586125745, 0.3219836711577098, 0.3225274374163301, 0.3225614841441325, 0.3230993713156175, 0.32200329957701435, 0.3219970939804229, 0.3220001613478466, 0.32199900414509963, 0.3225207339175704, 0.3224997582167633, 0.322491575142914, 0.32253840011820767, 0.32247661793029314, 0.3224628437250801, 0.3224750221858405, 0.3224622861485958, 0.3230474760892585, 0.3229877743197167, 0.32325980206389754, 0.32321547217153923, 0.32513013363003135, 0.3235997313748564, 0.3229022704042957, 0.32313501384574583, 0.3254134796763662, 0.32390686140544867, 0.3237480554900228, 0.32549944918860146, 26960.84742755014, 13837.149543292431, 24196.532767627938, 24730.39038761358, 13933.777968487913, 31927.197248662607, 11337.962069364956, 17281.065466002052, 28649.856080587924, 15861.950843625522, 16500.651219003103, 45316.83994712997, 17192.455505966922, 55158.24396013284, 22111.728272466535, 18181.773732577043, 22610.270192728483, 12124.740383998085, 3538.9981199772583, 15925.846792997709, 10749.199293852456, 18884.689280018905, 18026.66538899797, 6907.555647164796, 20550.364201729026, 19016.66256236247, 13978.72433803458, 8160.550115119676, 22142.90295588654, 18902.2899379738, 21340.463789081772, 19188.455272381994, 15208.258357357607, 13.406839404521483, 12.015095854341947, 14.469144954850503, 15.555059151833667, 13.372255004253619, 10.10935383574498, 11.19469728087006, 10.10768778953358, 9.015369295148595, 11.185666473984218, 9.014993047502019, 9.014546937220969, 9.014575960372685, 9.011396365512411, 13.351246185645298, 15.519282793548065, 9.005569061096876, 13.277880444491736, 10.592306738956406, 7.916081997752061, 7.915878485787665, 7.915323763967078, 7.916270752886852, 7.915681401671695, 7.914407848940999, 10.081395134868457, 10.080788412091916, 7.913162527374848, 8.99630765098564, 12.244987851303238, 14.403261333312908, 11.159475863683124, 13.31653556246308, 18.700594634631603, 18.696498484119775, 197.27104910636203, 13.21863599372945, 117.032823826559, 25.045285911238725, 306.7562024296983, 114.64956594837984, 38.61827251019818, 437.056229206217, 93.46325282913251, 26.859677240492736, 23.83659322202741, 201.89808499552697, 130.5709973207744, 2065.3167310320796, 242.54953990242123, 780.9354906498913, 351.38178343737565, 145.67773297432691, 481.78904336760485, 1771.4578039111107, 202.83248445867838, 137.01297011037553, 1702.6538365067902, 227.2604807255957, 715.7591385500558, 210.624091253552, 168.42927599564652, 112.12180325551937, 195.03835557495208, 102.71042752391376, 3279.358317844484, 106.91221171691345, 62.476135115659034, 834.8254142857618, 335.29779925259623, 13837.149543292431, 4286.888633438931, 275.91349764219837, 5764.30499409821, 595.9004602206529, 4240.127422774271, 426.4626336946478, 393.80708124887593, 2407.419594114538, 875.4110601234394, 13658.417639455032, 1204.1618136317977, 13266.006860602345, 2744.9767161819545, 45316.83994712997, 3248.463367130237, 2100.122764132826, 13914.947501079, 12372.609314096791, 17819.799641737845, 2724.2926932489104, 5692.469002838565, 10781.909430050486, 5502.948804971756, 9511.077640151983, 4366.49870684129, 22610.270192728483, 8015.6137428155425, 12124.740383998085, 22142.90295588654, 15925.846792997709, 7723.156053216136, 8296.317260885733, 11407.81400481104, 15987.416082136655, 14815.289844653273, 26960.84742755014, 11343.477417708351, 15861.848654993251, 12082.62719630533, 17281.065466002052, 16500.651219003103, 12653.382733594855, 19188.455272381994, 17192.455505966922, 47.800432561168805, 34.892504688088906, 29.010245430467062, 25.03896144463522, 34.671132705895936, 20.08690969580546, 15.13530268572908, 15.127402313558976, 14.071327542630264, 13.15671645622, 13.124420667852675, 22.01736205982722, 12.150033780824758, 21.768123811271607, 11.163167930256272, 11.14399908422323, 15.10088446430189, 11.251246290454295, 10.167001239632468, 10.148783987679547, 10.174432608549065, 11.109780863962802, 9.555527071342464, 9.173654189150515, 9.01433912179499, 9.17207420922868, 10.518168400265857, 15.112781569048563, 8.202460536081942, 8.19704368125672, 74.3764751183874, 269.3580092946662, 907.7106347611398, 1921.3117891336408, 96.18465126535412, 81.33979782966776, 30.931877313607703, 609.5900432179632, 106.98953874252376, 32.892686696166685, 104.06191443141219, 111.32594601391328, 97.63563974308573, 631.1845695166105, 674.8759039076631, 810.2311362823605, 123.6788568443613, 1065.5364852290961, 2724.614862162068, 597.2116058645912, 223.4558742420848, 323.1277477726365, 537.6220651818867, 394.48305228915007, 75.26190542281216, 6062.418351895725, 273.5348723148469, 2814.75680546104, 24196.532767627938, 1619.5519568328193, 871.841963414464, 1446.5205332168869, 13933.777968487913, 3872.1660046108964, 12124.740383998085, 24730.39038761358, 6338.8667754098815, 2816.206903440272, 5131.108515498826, 3116.9889226834025, 9626.707131893896, 15861.848654993251, 7654.9939876347, 8147.597655182875, 26960.84742755014, 8015.6137428155425, 55158.24396013284, 17281.065466002052, 22111.728272466535, 8296.317260885733, 45316.83994712997, 18181.773732577043, 10739.002374596028, 15925.846792997709, 16500.651219003103, 19016.66256236247, 10781.909430050486, 19188.455272381994, 28649.856080587924, 22142.90295588654, 31927.197248662607, 12372.609314096791, 18902.2899379738, 66.07042957515266, 43.8126619541117, 21.55767867776737, 21.55696367168532, 32.55265682950414, 16.499952872722666, 16.499624177839216, 15.457787744246998, 19.551445921856324, 13.464514539386304, 12.453119762442217, 12.452829775662364, 12.448189303709595, 12.451652112421181, 11.441414993680354, 11.439465997691055, 10.429461145443044, 10.429512644985326, 11.42428249119959, 9.418138157335907, 9.417900519997708, 11.232261305303812, 8.406553508751427, 8.406411784679921, 8.406158944683037, 8.406270588549267, 8.402045955535744, 8.405547091406408, 8.402288647094867, 7.390820607081918, 12.958252503940862, 29.5880374898431, 27.38881720775726, 15.441242385906206, 36.48130921218335, 62.77660121384696, 17.623424955944195, 53.9316750918436, 108.85483232412433, 21.205765190712977, 99.12647527531176, 437.65803169696494, 56.36938561260632, 373.32326722139624, 455.59478213789805, 129.8784796305476, 2085.4756276761304, 4276.822574790843, 1284.138213565898, 4155.354525823708, 4957.584521652242, 201.42953211305857, 347.890271767405, 265.6570247841721, 3750.6720892304006, 640.7903644283219, 24730.39038761358, 4077.8538984562365, 8780.956466606223, 4438.771559757595, 7025.751065662013, 358.15148940823235, 12281.419495983579, 55158.24396013284, 2749.624678010909, 28649.856080587924, 5953.314732862019, 13978.72433803458, 2893.3774515942487, 13914.947501079, 18884.689280018905, 3887.458229614594, 15861.950843625522, 3469.00758603091, 22610.270192728483, 12082.62719630533, 13933.777968487913, 16274.14795215189, 9201.668494136951, 17192.455505966922, 26960.84742755014, 20550.364201729026, 5847.440881367782, 6338.8667754098815, 15208.258357357607, 19016.66256236247, 11.77699941031516, 0.32251570667759444, 0.32291208970909085, 0.32200094991837297, 0.3225033158910393, 0.3224806697554812, 0.32200027134871717, 0.32200026473840615, 0.3225394002434227, 0.3224725425409163, 0.32252465038601275, 0.32199982309191266, 0.32200136409494406, 0.3220063537375111, 0.322494515002021, 0.3219991601115225, 0.32248095157122403, 0.32200501687096017, 0.32200180015477176, 0.322001176741874, 0.3219994841315318, 0.3219998846251631, 0.32200242392248385, 0.3219970461515155, 0.32248120285333326, 0.32198973420627297, 0.3220001486961287, 0.3220000502822246, 0.3219991069272702, 0.3220017040370205, 0.32248711209862607, 0.3225100894585967, 0.32244263751802327, 0.3229615190221473, 0.32252230950079436, 0.32256186210458404, 0.32245354237442, 0.3224594533616006, 0.3254134796763662, 0.32249725632677545, 0.322444599893567, 544.0544128092762, 0.3226003052538567, 0.3225583575613723, 0.32361589513608013, 0.3226354730335303, 0.32549944918860146, 0.3229022704042957, 13837.149543292431, 3538.9981199772583, 24730.39038761358, 6338.8667754098815, 19188.455272381994, 17281.065466002052, 13933.777968487913, 55158.24396013284, 45316.83994712997, 24196.532767627938, 15861.950843625522, 26960.84742755014, 22142.90295588654, 11337.962069364956, 16500.651219003103, 22111.728272466535, 7848.824305700324, 31927.197248662607, 18026.66538899797, 17192.455505966922, 4239.458481215516, 4199.505408995752, 28649.856080587924, 21340.463789081772, 7977.891841996539, 9201.668494136951, 12124.740383998085, 22610.270192728483, 15925.846792997709, 18902.2899379738, 16274.14795215189, 18181.773732577043, 211.93496501441862, 84.47302717635345, 32.10922809884901, 46.49756853693072, 22.85931536327021, 38.27187102766047, 26.974543132086527, 19.76446255466281, 17.739747680544372, 16.71557614451543, 16.71536909040349, 15.687255070181504, 15.687072357621098, 16.679100994926166, 17.724980030822728, 19.77774881732726, 15.644795279643416, 12.602390994122674, 23.763205794006875, 11.574215855581697, 11.574010065130471, 11.5673045643201, 12.568723537279697, 11.513792648143149, 10.662858554989766, 10.544812072685772, 10.545852473193237, 14.635011703301647, 10.510101203327789, 10.48967266287368, 217.58390507100924, 15.654390482978354, 17.7021391503385, 270.0637642463556, 2700.5311172207703, 27.931590730618773, 5534.629224232448, 1078.8977687410518, 25.79864399905984, 20.312206364002712, 54.53399326702058, 200.3158620146234, 35.135334969440976, 101.44673814338742, 32.48723022310377, 71.98770082319095, 110.19208646516981, 286.06964250755397, 522.1052235895477, 2814.75680546104, 7627.963011601378, 18181.773732577043, 196.48749982014488, 250.1247214480638, 8969.215579143214, 178.74046813653655, 744.6314627509109, 5633.990913490821, 825.605901549878, 11014.478487419921, 2108.210401307374, 7392.870809433101, 28649.856080587924, 4974.826381839611, 1146.0181174438887, 13933.777968487913, 31927.197248662607, 18884.689280018905, 2154.9761411040163, 18902.2899379738, 8970.615699883056, 862.1867739107003, 7743.186640421373, 15208.258357357607, 24196.532767627938, 45316.83994712997, 7754.692674084538, 3560.89164365246, 4147.456222583272, 4749.179608637394, 4438.731816896144, 4068.2045671465603, 19188.455272381994, 5517.785876603674, 22142.90295588654, 20550.364201729026, 16274.14795215189, 26960.84742755014, 14815.289844653273, 55158.24396013284, 17281.065466002052, 17192.455505966922, 22111.728272466535, 24730.39038761358, 0.3227507388496662, 0.3224951642957212, 0.3224986822550899, 0.3230269381430256, 0.32250284356309017, 0.3224621757891524, 0.3225583419485457, 0.32315458230260125, 0.32251330611669127, 0.32323024316150534, 0.32247917288419525, 0.3230198503699273, 0.3220114923478845, 0.3224609720161475, 0.32304209592276617, 0.3220040038091771, 0.3225128179558564, 0.32198795832504506, 0.3220029025191444, 0.3254134796763662, 0.32202812741152603, 0.3220091406929881, 0.322012059443007, 0.32247493205674876, 0.3220178911850215, 0.32203797842903537, 0.3219901483966708, 0.3231123296014496, 0.3225270297079478, 0.32249186917366657, 0.32257335766943085, 0.3225126331554562, 0.32246269322118776, 0.32250322310715185, 0.3230291359049495, 0.3233882196191076, 0.32245619383447294, 0.3225739298316411, 0.323306260455258, 0.3234358966348759, 0.3232069555016078, 0.3240727427075867, 0.3232017643212422, 0.3228271979531161, 0.3261023606003605, 13837.149543292431, 0.32304806849026935, 0.3231710945585604, 17281.065466002052, 0.3231302803974674, 45316.83994712997, 11337.962069364956, 26960.84742755014, 24730.39038761358, 15861.950843625522, 28649.856080587924, 55158.24396013284, 18884.689280018905, 22610.270192728483, 18902.2899379738, 9689.17333936443, 16500.651219003103, 13914.947501079, 22142.90295588654, 12124.740383998085, 15925.846792997709, 7977.891841996539, 24196.532767627938, 20550.364201729026, 17192.455505966922, 22111.728272466535, 18181.773732577043, 13978.72433803458, 19188.455272381994, 16274.14795215189, 11343.477417708351, 12653.382733594855, 9531.454679328772, 20030.038968619596, 17819.799641737845, 31927.197248662607, 15987.416082136655, 45.25693332856411, 47.22982641790309, 36.25563899192934, 27.21641729170754, 22.25806683636581, 26.25247671796201, 16.219901467783732, 23.258482892598067, 20.256859668360498, 15.226484450645266, 37.243442986393745, 12.225552371574043, 23.25309164628824, 12.008184841015767, 23.104212500590293, 22.076288737212767, 26.247262488801564, 19.252125179497323, 10.221136777050395, 45.187781832683996, 15.255283900156261, 20.16071580472428, 11.220937521093754, 12.254199384173612, 9.272132899028708, 10.238394738189418, 10.198276501981011, 21.244183807364983, 15.251075122495914, 9.194999118521496, 29.216549234685612, 22.242051221128435, 83.09354694499044, 51.08506180444907, 24.182688475839857, 33.08568313789513, 76.9362018941044, 182.30994558679816, 1098.3292981683144, 672.9856274422068, 75.86706470610854, 29.14068973823326, 185.44502716189365, 421.34818336665694, 1635.2236364934938, 462.1727887838945, 48.081791916018275, 585.1014444959881, 1413.4270909168558, 6341.380266951896, 6698.810175442594, 53.90374425910806, 1455.1883426602174, 146.91463144277796, 1904.298415905335, 99.00661988563036, 315.53824501921656, 5890.848728851423, 21340.463789081772, 201.4039533546527, 7219.608357303755, 105.9994272946629, 5308.958250274773, 55158.24396013284, 20030.038968619596, 1699.4801885709908, 11070.725964320833, 1633.6308274055343, 3195.747355353044, 1321.6837505594979, 9201.668494136951, 1119.326200295653, 12313.719754945963, 5095.429810175489, 12281.419495983579, 7477.025540304572, 1323.712841599324, 4212.373979026109, 7380.314856863727, 8528.314020286722, 28649.856080587924, 4730.452398278279, 22111.728272466535, 8780.956466606223, 10454.949153483098, 17192.455505966922, 24196.532767627938, 16274.14795215189, 13863.660286536528, 18026.66538899797, 9378.00043414518, 13978.72433803458, 26960.84742755014, 22610.270192728483, 15208.258357357607, 24730.39038761358, 15987.416082136655, 31927.197248662607, 15861.848654993251, 27.595303810854514, 16.872157969070173, 14.920478039185765, 13.949994977796228, 13.853875104452577, 12.956609015658735, 13.932445185294073, 11.99620323403267, 11.972755525491296, 11.990284480627396, 11.893540694277258, 11.012357524532732, 10.981463043813878, 10.048686046453053, 10.048664624835782, 10.053096946553161, 10.021966583861484, 10.032226851482095, 9.83151751875536, 10.61788416401966, 9.068842090475986, 9.046444643260402, 9.04631861852579, 9.046424229524522, 9.056624566561283, 8.071170118852576, 8.091823283427924, 8.075948520554572, 7.59191012191725, 7.191951224191894, 25.592765055519912, 15.625987023492037, 29.31733242712053, 19.720069795285465, 13.870961574703918, 106.23961350200935, 86.05986413024156, 1079.0325160514005, 1150.0540843837016, 225.7541074127811, 46.840468021495816, 5692.469002838565, 147.4481719229087, 29.338113865478142, 20.698920458976847, 24.675564359069277, 60.930374532988964, 73.36467336472325, 313.1465193920797, 2126.4619845883603, 28.61370786473407, 19.571954105839414, 1322.18931755197, 6062.418351895725, 109.15076878798992, 13837.149543292431, 945.3646300194465, 3116.9889226834025, 406.65314101615996, 394.48305228915007, 1543.245082398312, 2724.614862162068, 1921.3117891336408, 974.3887356858388, 3872.1660046108964, 12124.740383998085, 11337.962069364956, 26960.84742755014, 7654.9939876347, 15925.846792997709, 24196.532767627938, 45316.83994712997, 5217.4207524606445, 7148.848567154087, 7877.141023913855, 13266.006860602345, 11343.477417708351, 15861.848654993251, 8015.6137428155425, 5335.960063818768, 22610.270192728483, 22142.90295588654, 13914.947501079, 12372.609314096791, 7691.465120769864, 16500.651219003103, 19188.455272381994, 55158.24396013284, 0.32335108202366764, 0.3254134796763662, 0.3224559563600797, 0.32249292028211896, 0.3224870056075551, 0.3244485795910375, 0.32249051565986364, 0.3220081997119303, 0.3224672201889094, 0.3229022704042957, 0.32250365331299446, 0.32200658451596215, 0.3224605708006214, 0.3219971785916573, 0.32247023742916153, 0.3220038164573016, 0.32199504579770183, 0.32200654284806474, 0.32200902149363536, 0.3220088302959009, 0.3220039185276057, 0.32200778697016064, 0.3220079083969724, 0.32249762540845284, 0.32199994127609716, 0.3219889323083929, 0.32268542949718504, 0.3224655684306883, 0.3220086211680688, 0.3224557662124785, 0.3229891216823158, 0.32306547035695515, 0.32250976033761736, 0.32264898594804825, 0.32249757420986236, 0.3225836223308339, 0.3226259332468022, 0.32302090918348986, 0.32297372886267783, 0.3225371902913248, 0.32245425690135643, 0.32297366057316573, 0.3226122159973578, 0.322706669329085, 0.32307178755584204, 0.32369303334647187, 0.3229380355684212, 0.3245894121231861, 0.32301650817496524, 0.3236157371284813, 11337.962069364956, 26960.84742755014, 55158.24396013284, 0.32549944918860146, 13837.149543292431, 15861.950843625522, 24730.39038761358, 16500.651219003103, 28649.856080587924, 3538.9981199772583, 24196.532767627938, 18026.66538899797, 45316.83994712997, 17281.065466002052, 22142.90295588654, 31927.197248662607, 18902.2899379738, 17192.455505966922, 22111.728272466535, 15925.846792997709, 9201.668494136951, 9241.025518451594, 16274.14795215189, 19188.455272381994, 12124.740383998085, 14815.289844653273, 18884.689280018905, 22610.270192728483, 6338.8667754098815, 12281.419495983579, 6907.555647164796, 8333.497714658548, 15208.258357357607, 20030.038968619596, 21340.463789081772, 15861.848654993251, 18181.773732577043, 0.3254134796763662, 0.32198873006213596, 0.3219925463449421, 0.32200116057490513, 0.3219889599737177, 0.321987463388346, 0.32198635106965073, 0.3219870607871282, 0.3219855684769055, 0.3219851296153801, 0.32199401990077425, 0.3219893841862794, 0.321991133094821, 0.3224380423417232, 0.32198817808258795, 0.3219958747282202, 0.3220014545680518, 0.32198940421858796, 0.32198880560143484, 0.3219905890314514, 0.32198924002324714, 0.32198538507703345, 0.3219888388134866, 0.32198974271204056, 0.3219831253511872, 0.32197756445320697, 0.321986531836652, 0.3219858631099085, 0.3219985233862678, 0.3219851134564737, 0.32244943043800867, 0.3224455875400854, 0.3224934212107373, 0.3224394947917118, 0.3224465070763902, 0.3229022704042957, 0.3224626871069777, 0.3224805914154644, 0.32246711768909053, 0.3225458736488307, 0.32243415044734963, 0.32243324724540745, 0.32248137753880163, 0.32257099172547626, 0.3225428670029882, 0.3229370623852211, 0.3245894121231861, 0.3224611323240196, 13837.149543292431, 0.3242165060290737, 0.32250522456157327, 0.32549944918860146, 0.32387669763563753, 0.32307640517856334, 0.3230249587632961, 55158.24396013284, 45316.83994712997, 26960.84742755014, 24196.532767627938, 28649.856080587924, 6338.8667754098815, 24730.39038761358, 17281.065466002052, 13914.947501079, 22111.728272466535, 15861.950843625522, 11337.962069364956, 8700.47951289599, 18026.66538899797, 22610.270192728483, 19188.455272381994, 18181.773732577043, 22142.90295588654, 3538.9981199772583, 12372.609314096791, 15987.416082136655, 5814.86991835234, 15208.258357357607, 20550.364201729026, 17192.455505966922, 9241.025518451594, 15925.846792997709, 19016.66256236247, 15861.848654993251, 31927.197248662607, 16500.651219003103, 18902.2899379738, 50.22900299354159, 33.95182877681799, 18.663671628960834, 16.62561568356188, 10.510062168630093, 8.472033960691023, 8.471941210450108, 6.4334439138103745, 6.433389868774351, 5.292232701534099, 5.292101159296231, 5.3619723859287065, 4.394612189631095, 4.394063142163398, 4.394374486034314, 4.167731193857819, 4.07998846234357, 4.00316121497276, 4.002767898915721, 4.0016545837797795, 4.094322860264234, 4.065442459685172, 3.374252342798818, 3.1932004527565647, 3.1641474479613625, 3.1646016345068215, 3.157219514471788, 3.1573246259894585, 3.1360060141710253, 2.8383997787729696, 11.353566250827065, 13.163988549810806, 9.880521903964198, 6.31098248224559, 6.922101416437054, 5.1636132636806416, 7.880896438193684, 68.4779920733443, 768.2906191692165, 365.3304884971164, 19.440882551468682, 1197.8427174612075, 25.22583169734833, 21340.463789081772, 112.91332148480866, 10.671441153059146, 8970.615699883056, 45316.83994712997, 11070.725964320833, 452.000937945896, 1573.4914461965252, 9644.975068541256, 17819.799641737845, 10739.002374596028, 55158.24396013284, 7219.608357303755, 5880.2413651841625, 722.3369608722613, 3244.337220072898, 15861.848654993251, 15987.416082136655, 12372.609314096791, 5124.168718991034, 26960.84742755014, 8333.497714658548, 19188.455272381994, 22142.90295588654, 14815.289844653273, 4438.731816896144, 6688.5024108321995, 11014.478487419921, 20550.364201729026, 16274.14795215189, 7848.824305700324, 11407.81400481104, 28649.856080587924, 9626.707131893896, 12124.740383998085, 22111.728272466535, 0.32293936468957185, 0.32300591468214307, 0.3230198503699273, 0.3232146951670132, 0.32245548672624763, 0.3231123296014496, 0.32307240604168375, 0.32245238160225304, 0.32247166681038264, 0.3225210544520359, 0.3224609781967632, 0.3224583206362227, 0.32245462130939506, 0.3225211269141768, 0.32246219931323955, 0.3225415076656251, 0.32245000697119175, 0.3224643866852386, 0.32248057721465284, 0.32246440408037125, 0.3224575780709172, 0.32246227300683467, 0.322491208328658, 0.3224621194152039, 0.32245347245756006, 0.3224970537604023, 0.3224658395041514, 0.32368943684579593, 0.32244999113007544, 0.3224544825738331, 0.32247324332152427, 0.3230661373570305, 0.32305382806032745, 0.3229370623852211, 0.32333441546653247, 0.32320326268821603, 0.32371437933975505, 0.32305115873596546, 0.3230165800461076, 0.32315300184892853, 0.32314364735365053, 0.3230100920495798, 0.3232348395656612, 0.3230945433679244, 0.32312480594675297, 13837.149543292431, 0.32322773819905615, 0.3244485795910375, 0.32324741239260274, 0.3233882196191076, 0.32536585670002716, 26960.84742755014, 17281.065466002052, 24730.39038761358, 28649.856080587924, 11337.962069364956, 45316.83994712997, 22142.90295588654, 18181.773732577043, 55158.24396013284, 16500.651219003103, 31927.197248662607, 22610.270192728483, 8700.47951289599, 15861.950843625522, 15925.846792997709, 16274.14795215189, 18902.2899379738, 15987.416082136655, 20550.364201729026, 10781.909430050486, 17192.455505966922, 13658.417639455032, 3538.9981199772583, 13914.947501079, 22111.728272466535, 24196.532767627938, 7848.824305700324, 12124.740383998085, 9511.077640151983, 18026.66538899797, 13933.777968487913, 19188.455272381994, 32.274355252684444, 544.0544128092762, 83.04639186014798, 0.32199144473354674, 0.32199776343454006, 0.32198949674035976, 0.3229022704042957, 0.3219985020090016, 0.3219949652900229, 0.321989964515735, 0.3219929592092774, 0.32198920690067717, 0.32198570411412614, 0.321992002935235, 0.3219925873582074, 0.32199282551277103, 0.3219924487010488, 0.3219935374139789, 0.3219988037923925, 0.3219922775457488, 0.3219971866176871, 0.32199734971172356, 0.3219960522361637, 0.32245425061902716, 0.32199368092809594, 0.3219914905303396, 0.3219939140321026, 0.32199237153386573, 0.32199345672092655, 0.32199215149072663, 394.48305228915007, 0.32246846058405804, 0.3224671452607082, 0.32307178755584204, 0.323112810275285, 0.322447487050213, 0.3229912576046031, 0.32299372560219386, 7848.824305700324, 0.32291208970909085, 0.32245354237442, 13837.149543292431, 0.32245370165283277, 0.3229891216823158, 26960.84742755014, 0.32549944918860146, 0.3229621836471426, 55158.24396013284, 17281.065466002052, 6338.8667754098815, 24730.39038761358, 15861.950843625522, 2866.9977935448815, 24196.532767627938, 1921.3117891336408, 0.3245894121231861, 45316.83994712997, 15861.848654993251, 11337.962069364956, 15925.846792997709, 22142.90295588654, 16500.651219003103, 13933.777968487913, 12124.740383998085, 18902.2899379738, 28649.856080587924, 7045.402764161163, 19188.455272381994, 31927.197248662607, 14815.289844653273, 5814.86991835234, 22111.728272466535, 18026.66538899797, 18884.689280018905, 0.32197986206619594, 0.3224699878125389, 0.3219926647687665, 0.32198976612505664, 0.3224616031905942, 0.3219868463855058, 0.32198645369006873, 0.32199235144618843, 0.32198798869091255, 0.32251251482369586, 0.3225407219833932, 0.32197756445320697, 0.32198933932909485, 0.32199105816420603, 0.3219901373575516, 0.3219862746050719, 0.321987993374885, 0.3220075671897966, 0.3220135130817162, 0.32198974271204056, 0.3219884313569004, 0.321988555381476, 0.32246477843377924, 0.32198511095789417, 0.3219902007687328, 0.32245636405561073, 0.32248801688507517, 0.32199636754037714, 0.32198924002324714, 0.32198359925909936, 0.3230133608491119, 0.3229912576046031, 0.32307240604168375, 0.3225236908731154, 0.322547064467651, 0.323350293836673, 0.3224679984292481, 0.3229370623852211, 0.3225579556580612, 0.32316200014949165, 13837.149543292431, 0.32247908495253735, 0.32321547217153923, 0.3254134796763662, 0.3231710945585604, 0.323202161478847, 17281.065466002052, 0.32549944918860146, 0.3237472852481919, 0.32328997572381085, 0.3230874773586625, 26960.84742755014, 11337.962069364956, 55158.24396013284, 24730.39038761358, 45316.83994712997, 24196.532767627938, 8700.47951289599, 13914.947501079, 17192.455505966922, 15987.416082136655, 3538.9981199772583, 15925.846792997709, 4239.458481215516, 16500.651219003103, 7977.891841996539, 22610.270192728483, 20550.364201729026, 15861.950843625522, 31927.197248662607, 11343.477417708351, 12372.609314096791, 28649.856080587924, 7045.402764161163, 9626.707131893896, 13863.660286536528, 22142.90295588654, 16274.14795215189, 18026.66538899797, 15861.848654993251, 19016.66256236247, 19188.455272381994, 14815.289844653273, 22111.728272466535, 54.152175693655025, 37.02322889962419, 37.01563441730656, 33.14891500816826, 168.43311369854982, 30.236837461547193, 29.28320141767566, 25.425774821054468, 36.53230989615232, 20.593572594232278, 19.627027162483632, 18.66059633192398, 18.590457250008807, 19.618095635277147, 54.320109400220844, 17.6849900384481, 16.607424933841035, 19.526741158704887, 16.71845972244359, 15.76117626554674, 16.622865549601407, 23.403617005039443, 15.75175694119044, 15.70882914349846, 13.828194373684616, 13.818686284425123, 12.861661092965827, 13.568980014402486, 13.818716207372164, 12.539225326292073, 264.533596085808, 19.328069765413147, 198.8385423303954, 3555.2660177866996, 55.00629969046371, 43.8566475037685, 7627.963011601378, 438.6863613169207, 110.1453139293328, 253.96818658897652, 862.1867739107003, 806.0101494271516, 249.52443516302895, 964.3401091154253, 642.9516301032666, 5774.91635804571, 8969.215579143214, 18884.689280018905, 79.92067611953351, 116.93560641781956, 4384.97858363718, 7846.312380884503, 3718.552299533672, 487.55886296952474, 28649.856080587924, 18902.2899379738, 6328.740627451505, 1555.892912698674, 17819.799641737845, 6064.29996055786, 31927.197248662607, 19016.66256236247, 798.4103322155092, 1751.1635335018423, 55158.24396013284, 45316.83994712997, 24196.532767627938, 20550.364201729026, 20030.038968619596, 15861.848654993251, 26960.84742755014, 15987.416082136655, 11407.81400481104, 19188.455272381994, 22142.90295588654, 13863.660286536528, 15861.950843625522, 15208.258357357607, 24730.39038761358, 17192.455505966922, 22111.728272466535, 16274.14795215189, 18.41628969900831, 0.32549944918860146, 0.3232892033740268, 0.3225632755874007, 0.32256528895966813, 0.3225723254733013, 0.3245894121231861, 0.3242165060290737, 0.32322122539495346, 0.3220190496269023, 0.32261919930043353, 0.32312951912182786, 0.32248539016520883, 0.3231375497893852, 0.32382975664966346, 0.3232372634673338, 0.32290940773065857, 0.32273791256851453, 0.3219983027407286, 0.3226471332469196, 0.32199569348355034, 0.32201703506072776, 0.3224851294943655, 0.3219981937084024, 0.32200942277559286, 0.3220062298420977, 0.32202070581837117, 0.3220135565242064, 0.32201894798139696, 0.3229995527058547, 0.3237835285714631, 0.32401880538232786, 0.32339574152302425, 0.32260527096659386, 0.32368943684579593, 0.3239941519800381, 0.3254134796763662, 13837.149543292431, 26960.84742755014, 55158.24396013284, 45316.83994712997, 18026.66538899797, 11337.962069364956, 6338.8667754098815, 15861.950843625522, 13933.777968487913, 15925.846792997709, 22142.90295588654, 17281.065466002052, 19016.66256236247, 24730.39038761358, 24196.532767627938, 3538.9981199772583, 9241.025518451594, 19188.455272381994, 28649.856080587924, 18181.773732577043, 12124.740383998085, 6602.51441364194, 31927.197248662607, 9531.454679328772, 16500.651219003103, 9378.00043414518, 13914.947501079, 9689.17333936443, 5335.960063818768, 22111.728272466535, 20550.364201729026, 18902.2899379738, 13266.006860602345, 18884.689280018905, 22610.270192728483], \"Category\": [\"Default\", \"Default\", \"Default\", \"Default\", \"Default\", \"Default\", \"Default\", \"Default\", \"Default\", \"Default\", \"Default\", \"Default\", \"Default\", \"Default\", \"Default\", \"Default\", \"Default\", \"Default\", \"Default\", \"Default\", \"Default\", \"Default\", \"Default\", \"Default\", \"Default\", \"Default\", \"Default\", \"Default\", \"Default\", \"Default\", \"Topic1\", \"Topic1\", \"Topic1\", \"Topic1\", \"Topic1\", \"Topic1\", \"Topic1\", \"Topic1\", \"Topic1\", \"Topic1\", \"Topic1\", \"Topic1\", \"Topic1\", \"Topic1\", \"Topic1\", \"Topic1\", \"Topic1\", \"Topic1\", \"Topic1\", \"Topic1\", \"Topic1\", \"Topic1\", \"Topic1\", \"Topic1\", \"Topic1\", \"Topic1\", \"Topic1\", \"Topic1\", \"Topic1\", \"Topic1\", \"Topic1\", \"Topic1\", \"Topic1\", \"Topic1\", \"Topic1\", \"Topic1\", \"Topic1\", \"Topic1\", \"Topic1\", \"Topic1\", \"Topic1\", \"Topic1\", \"Topic1\", \"Topic1\", \"Topic1\", \"Topic1\", \"Topic1\", \"Topic1\", \"Topic1\", \"Topic1\", \"Topic1\", \"Topic1\", \"Topic1\", \"Topic1\", \"Topic1\", \"Topic1\", \"Topic1\", \"Topic1\", \"Topic1\", \"Topic1\", \"Topic1\", \"Topic1\", \"Topic1\", \"Topic1\", \"Topic1\", \"Topic1\", \"Topic1\", \"Topic1\", \"Topic1\", \"Topic1\", \"Topic1\", \"Topic1\", \"Topic1\", \"Topic1\", \"Topic1\", \"Topic1\", \"Topic1\", \"Topic1\", \"Topic1\", \"Topic1\", \"Topic2\", \"Topic2\", \"Topic2\", \"Topic2\", \"Topic2\", \"Topic2\", \"Topic2\", \"Topic2\", \"Topic2\", \"Topic2\", \"Topic2\", \"Topic2\", \"Topic2\", \"Topic2\", \"Topic2\", \"Topic2\", \"Topic2\", \"Topic2\", \"Topic2\", \"Topic2\", \"Topic2\", \"Topic2\", \"Topic2\", \"Topic2\", \"Topic2\", \"Topic2\", \"Topic2\", \"Topic2\", \"Topic2\", \"Topic2\", \"Topic2\", \"Topic2\", \"Topic2\", \"Topic2\", \"Topic2\", \"Topic2\", \"Topic2\", \"Topic2\", \"Topic2\", \"Topic2\", \"Topic2\", \"Topic2\", \"Topic2\", \"Topic2\", \"Topic2\", \"Topic2\", \"Topic2\", \"Topic2\", \"Topic2\", \"Topic2\", \"Topic2\", \"Topic2\", \"Topic2\", \"Topic2\", \"Topic2\", \"Topic2\", \"Topic2\", \"Topic2\", \"Topic2\", \"Topic2\", \"Topic2\", \"Topic2\", \"Topic2\", \"Topic2\", \"Topic2\", \"Topic2\", \"Topic2\", \"Topic2\", \"Topic2\", \"Topic2\", \"Topic2\", \"Topic2\", \"Topic2\", \"Topic2\", \"Topic2\", \"Topic2\", \"Topic2\", \"Topic2\", \"Topic2\", \"Topic2\", \"Topic2\", \"Topic2\", \"Topic2\", \"Topic2\", \"Topic2\", \"Topic2\", \"Topic2\", \"Topic2\", \"Topic2\", \"Topic3\", \"Topic3\", \"Topic3\", \"Topic3\", \"Topic3\", \"Topic3\", \"Topic3\", \"Topic3\", \"Topic3\", \"Topic3\", \"Topic3\", \"Topic3\", \"Topic3\", \"Topic3\", \"Topic3\", \"Topic3\", \"Topic3\", \"Topic3\", \"Topic3\", \"Topic3\", \"Topic3\", \"Topic3\", \"Topic3\", \"Topic3\", \"Topic3\", \"Topic3\", \"Topic3\", \"Topic3\", \"Topic3\", \"Topic3\", \"Topic3\", \"Topic3\", \"Topic3\", \"Topic3\", \"Topic3\", \"Topic3\", \"Topic3\", \"Topic3\", \"Topic3\", \"Topic3\", \"Topic3\", \"Topic3\", \"Topic3\", \"Topic3\", \"Topic3\", \"Topic3\", \"Topic3\", \"Topic3\", \"Topic3\", \"Topic3\", \"Topic3\", \"Topic3\", \"Topic3\", \"Topic3\", \"Topic3\", \"Topic3\", \"Topic3\", \"Topic3\", \"Topic3\", \"Topic3\", \"Topic3\", \"Topic3\", \"Topic3\", \"Topic3\", \"Topic3\", \"Topic3\", \"Topic3\", \"Topic3\", \"Topic3\", \"Topic3\", \"Topic3\", \"Topic3\", \"Topic3\", \"Topic3\", \"Topic3\", \"Topic3\", \"Topic3\", \"Topic4\", \"Topic4\", \"Topic4\", \"Topic4\", \"Topic4\", \"Topic4\", \"Topic4\", \"Topic4\", \"Topic4\", \"Topic4\", \"Topic4\", \"Topic4\", \"Topic4\", \"Topic4\", \"Topic4\", \"Topic4\", \"Topic4\", \"Topic4\", \"Topic4\", \"Topic4\", \"Topic4\", \"Topic4\", \"Topic4\", \"Topic4\", \"Topic4\", \"Topic4\", \"Topic4\", \"Topic4\", \"Topic4\", \"Topic4\", \"Topic4\", \"Topic4\", \"Topic4\", \"Topic4\", \"Topic4\", \"Topic4\", \"Topic4\", \"Topic4\", \"Topic4\", \"Topic4\", \"Topic4\", \"Topic4\", \"Topic4\", \"Topic4\", \"Topic4\", \"Topic4\", \"Topic4\", \"Topic4\", \"Topic4\", \"Topic4\", \"Topic4\", \"Topic4\", \"Topic4\", \"Topic4\", \"Topic4\", \"Topic4\", \"Topic4\", \"Topic4\", \"Topic4\", \"Topic4\", \"Topic4\", \"Topic4\", \"Topic4\", \"Topic4\", \"Topic4\", \"Topic4\", \"Topic4\", \"Topic4\", \"Topic4\", \"Topic4\", \"Topic4\", \"Topic4\", \"Topic4\", \"Topic4\", \"Topic4\", \"Topic5\", \"Topic5\", \"Topic5\", \"Topic5\", \"Topic5\", \"Topic5\", \"Topic5\", \"Topic5\", \"Topic5\", \"Topic5\", \"Topic5\", \"Topic5\", \"Topic5\", \"Topic5\", \"Topic5\", \"Topic5\", \"Topic5\", \"Topic5\", \"Topic5\", \"Topic5\", \"Topic5\", \"Topic5\", \"Topic5\", \"Topic5\", \"Topic5\", \"Topic5\", \"Topic5\", \"Topic5\", \"Topic5\", \"Topic5\", \"Topic5\", \"Topic5\", \"Topic5\", \"Topic5\", \"Topic5\", \"Topic5\", \"Topic5\", \"Topic5\", \"Topic5\", \"Topic5\", \"Topic5\", \"Topic5\", \"Topic5\", \"Topic5\", \"Topic5\", \"Topic5\", \"Topic5\", \"Topic5\", \"Topic5\", \"Topic5\", \"Topic5\", \"Topic5\", \"Topic5\", \"Topic5\", \"Topic5\", \"Topic5\", \"Topic5\", \"Topic5\", \"Topic5\", \"Topic5\", \"Topic5\", \"Topic5\", \"Topic5\", \"Topic5\", \"Topic5\", \"Topic5\", \"Topic5\", \"Topic5\", \"Topic5\", \"Topic5\", \"Topic5\", \"Topic5\", \"Topic5\", \"Topic5\", \"Topic5\", \"Topic5\", \"Topic5\", \"Topic5\", \"Topic5\", \"Topic5\", \"Topic5\", \"Topic5\", \"Topic5\", \"Topic5\", \"Topic5\", \"Topic6\", \"Topic6\", \"Topic6\", \"Topic6\", \"Topic6\", \"Topic6\", \"Topic6\", \"Topic6\", \"Topic6\", \"Topic6\", \"Topic6\", \"Topic6\", \"Topic6\", \"Topic6\", \"Topic6\", \"Topic6\", \"Topic6\", \"Topic6\", \"Topic6\", \"Topic6\", \"Topic6\", \"Topic6\", \"Topic6\", \"Topic6\", \"Topic6\", \"Topic6\", \"Topic6\", \"Topic6\", \"Topic6\", \"Topic6\", \"Topic6\", \"Topic6\", \"Topic6\", \"Topic6\", \"Topic6\", \"Topic6\", \"Topic6\", \"Topic6\", \"Topic6\", \"Topic6\", \"Topic6\", \"Topic6\", \"Topic6\", \"Topic6\", \"Topic6\", \"Topic6\", \"Topic6\", \"Topic6\", \"Topic6\", \"Topic6\", \"Topic6\", \"Topic6\", \"Topic6\", \"Topic6\", \"Topic6\", \"Topic6\", \"Topic6\", \"Topic6\", \"Topic6\", \"Topic6\", \"Topic6\", \"Topic6\", \"Topic6\", \"Topic6\", \"Topic6\", \"Topic6\", \"Topic6\", \"Topic6\", \"Topic6\", \"Topic6\", \"Topic6\", \"Topic6\", \"Topic6\", \"Topic6\", \"Topic6\", \"Topic6\", \"Topic6\", \"Topic6\", \"Topic6\", \"Topic6\", \"Topic6\", \"Topic6\", \"Topic6\", \"Topic7\", \"Topic7\", \"Topic7\", \"Topic7\", \"Topic7\", \"Topic7\", \"Topic7\", \"Topic7\", \"Topic7\", \"Topic7\", \"Topic7\", \"Topic7\", \"Topic7\", \"Topic7\", \"Topic7\", \"Topic7\", \"Topic7\", \"Topic7\", \"Topic7\", \"Topic7\", \"Topic7\", \"Topic7\", \"Topic7\", \"Topic7\", \"Topic7\", \"Topic7\", \"Topic7\", \"Topic7\", \"Topic7\", \"Topic7\", \"Topic7\", \"Topic7\", \"Topic7\", \"Topic7\", \"Topic7\", \"Topic7\", \"Topic7\", \"Topic7\", \"Topic7\", \"Topic7\", \"Topic7\", \"Topic7\", \"Topic7\", \"Topic7\", \"Topic7\", \"Topic7\", \"Topic7\", \"Topic7\", \"Topic7\", \"Topic7\", \"Topic7\", \"Topic7\", \"Topic7\", \"Topic7\", \"Topic7\", \"Topic7\", \"Topic7\", \"Topic7\", \"Topic7\", \"Topic7\", \"Topic7\", \"Topic7\", \"Topic7\", \"Topic7\", \"Topic7\", \"Topic7\", \"Topic7\", \"Topic7\", \"Topic7\", \"Topic7\", \"Topic7\", \"Topic7\", \"Topic7\", \"Topic7\", \"Topic7\", \"Topic7\", \"Topic7\", \"Topic7\", \"Topic7\", \"Topic7\", \"Topic7\", \"Topic7\", \"Topic7\", \"Topic7\", \"Topic7\", \"Topic7\", \"Topic7\", \"Topic7\", \"Topic7\", \"Topic7\", \"Topic7\", \"Topic7\", \"Topic7\", \"Topic7\", \"Topic8\", \"Topic8\", \"Topic8\", \"Topic8\", \"Topic8\", \"Topic8\", \"Topic8\", \"Topic8\", \"Topic8\", \"Topic8\", \"Topic8\", \"Topic8\", \"Topic8\", \"Topic8\", \"Topic8\", \"Topic8\", \"Topic8\", \"Topic8\", \"Topic8\", \"Topic8\", \"Topic8\", \"Topic8\", \"Topic8\", \"Topic8\", \"Topic8\", \"Topic8\", \"Topic8\", \"Topic8\", \"Topic8\", \"Topic8\", \"Topic8\", \"Topic8\", \"Topic8\", \"Topic8\", \"Topic8\", \"Topic8\", \"Topic8\", \"Topic8\", \"Topic8\", \"Topic8\", \"Topic8\", \"Topic8\", \"Topic8\", \"Topic8\", \"Topic8\", \"Topic8\", \"Topic8\", \"Topic8\", \"Topic8\", \"Topic8\", \"Topic8\", \"Topic8\", \"Topic8\", \"Topic8\", \"Topic8\", \"Topic8\", \"Topic8\", \"Topic8\", \"Topic8\", \"Topic8\", \"Topic8\", \"Topic8\", \"Topic8\", \"Topic8\", \"Topic8\", \"Topic8\", \"Topic8\", \"Topic8\", \"Topic8\", \"Topic8\", \"Topic8\", \"Topic8\", \"Topic8\", \"Topic8\", \"Topic8\", \"Topic8\", \"Topic8\", \"Topic8\", \"Topic8\", \"Topic8\", \"Topic8\", \"Topic8\", \"Topic8\", \"Topic8\", \"Topic8\", \"Topic9\", \"Topic9\", \"Topic9\", \"Topic9\", \"Topic9\", \"Topic9\", \"Topic9\", \"Topic9\", \"Topic9\", \"Topic9\", \"Topic9\", \"Topic9\", \"Topic9\", \"Topic9\", \"Topic9\", \"Topic9\", \"Topic9\", \"Topic9\", \"Topic9\", \"Topic9\", \"Topic9\", \"Topic9\", \"Topic9\", \"Topic9\", \"Topic9\", \"Topic9\", \"Topic9\", \"Topic9\", \"Topic9\", \"Topic9\", \"Topic9\", \"Topic9\", \"Topic9\", \"Topic9\", \"Topic9\", \"Topic9\", \"Topic9\", \"Topic9\", \"Topic9\", \"Topic9\", \"Topic9\", \"Topic9\", \"Topic9\", \"Topic9\", \"Topic9\", \"Topic9\", \"Topic9\", \"Topic9\", \"Topic9\", \"Topic9\", \"Topic9\", \"Topic9\", \"Topic9\", \"Topic9\", \"Topic9\", \"Topic9\", \"Topic9\", \"Topic9\", \"Topic9\", \"Topic9\", \"Topic9\", \"Topic9\", \"Topic9\", \"Topic9\", \"Topic9\", \"Topic9\", \"Topic9\", \"Topic10\", \"Topic10\", \"Topic10\", \"Topic10\", \"Topic10\", \"Topic10\", \"Topic10\", \"Topic10\", \"Topic10\", \"Topic10\", \"Topic10\", \"Topic10\", \"Topic10\", \"Topic10\", \"Topic10\", \"Topic10\", \"Topic10\", \"Topic10\", \"Topic10\", \"Topic10\", \"Topic10\", \"Topic10\", \"Topic10\", \"Topic10\", \"Topic10\", \"Topic10\", \"Topic10\", \"Topic10\", \"Topic10\", \"Topic10\", \"Topic10\", \"Topic10\", \"Topic10\", \"Topic10\", \"Topic10\", \"Topic10\", \"Topic10\", \"Topic10\", \"Topic10\", \"Topic10\", \"Topic10\", \"Topic10\", \"Topic10\", \"Topic10\", \"Topic10\", \"Topic10\", \"Topic10\", \"Topic10\", \"Topic10\", \"Topic10\", \"Topic10\", \"Topic10\", \"Topic10\", \"Topic10\", \"Topic10\", \"Topic10\", \"Topic10\", \"Topic10\", \"Topic10\", \"Topic10\", \"Topic10\", \"Topic10\", \"Topic10\", \"Topic10\", \"Topic10\", \"Topic10\", \"Topic10\", \"Topic10\", \"Topic10\", \"Topic10\", \"Topic10\", \"Topic10\", \"Topic10\", \"Topic10\", \"Topic10\", \"Topic10\", \"Topic10\", \"Topic10\", \"Topic10\", \"Topic10\", \"Topic10\", \"Topic10\", \"Topic10\", \"Topic10\", \"Topic10\", \"Topic10\", \"Topic10\", \"Topic10\", \"Topic11\", \"Topic11\", \"Topic11\", \"Topic11\", \"Topic11\", \"Topic11\", \"Topic11\", \"Topic11\", \"Topic11\", \"Topic11\", \"Topic11\", \"Topic11\", \"Topic11\", \"Topic11\", \"Topic11\", \"Topic11\", \"Topic11\", \"Topic11\", \"Topic11\", \"Topic11\", \"Topic11\", \"Topic11\", \"Topic11\", \"Topic11\", \"Topic11\", \"Topic11\", \"Topic11\", \"Topic11\", \"Topic11\", \"Topic11\", \"Topic11\", \"Topic11\", \"Topic11\", \"Topic11\", \"Topic11\", \"Topic11\", \"Topic11\", \"Topic11\", \"Topic11\", \"Topic11\", \"Topic11\", \"Topic11\", \"Topic11\", \"Topic11\", \"Topic11\", \"Topic11\", \"Topic11\", \"Topic11\", \"Topic11\", \"Topic11\", \"Topic11\", \"Topic11\", \"Topic11\", \"Topic11\", \"Topic11\", \"Topic11\", \"Topic11\", \"Topic11\", \"Topic11\", \"Topic11\", \"Topic11\", \"Topic11\", \"Topic11\", \"Topic11\", \"Topic11\", \"Topic11\", \"Topic11\", \"Topic11\", \"Topic11\", \"Topic11\", \"Topic11\", \"Topic11\", \"Topic11\", \"Topic11\", \"Topic11\", \"Topic11\", \"Topic11\", \"Topic11\", \"Topic11\", \"Topic12\", \"Topic12\", \"Topic12\", \"Topic12\", \"Topic12\", \"Topic12\", \"Topic12\", \"Topic12\", \"Topic12\", \"Topic12\", \"Topic12\", \"Topic12\", \"Topic12\", \"Topic12\", \"Topic12\", \"Topic12\", \"Topic12\", \"Topic12\", \"Topic12\", \"Topic12\", \"Topic12\", \"Topic12\", \"Topic12\", \"Topic12\", \"Topic12\", \"Topic12\", \"Topic12\", \"Topic12\", \"Topic12\", \"Topic12\", \"Topic12\", \"Topic12\", \"Topic12\", \"Topic12\", \"Topic12\", \"Topic12\", \"Topic12\", \"Topic12\", \"Topic12\", \"Topic12\", \"Topic12\", \"Topic12\", \"Topic12\", \"Topic12\", \"Topic12\", \"Topic12\", \"Topic12\", \"Topic12\", \"Topic12\", \"Topic12\", \"Topic12\", \"Topic12\", \"Topic12\", \"Topic12\", \"Topic12\", \"Topic12\", \"Topic12\", \"Topic12\", \"Topic12\", \"Topic12\", \"Topic12\", \"Topic12\", \"Topic12\", \"Topic12\", \"Topic13\", \"Topic13\", \"Topic13\", \"Topic13\", \"Topic13\", \"Topic13\", \"Topic13\", \"Topic13\", \"Topic13\", \"Topic13\", \"Topic13\", \"Topic13\", \"Topic13\", \"Topic13\", \"Topic13\", \"Topic13\", \"Topic13\", \"Topic13\", \"Topic13\", \"Topic13\", \"Topic13\", \"Topic13\", \"Topic13\", \"Topic13\", \"Topic13\", \"Topic13\", \"Topic13\", \"Topic13\", \"Topic13\", \"Topic13\", \"Topic13\", \"Topic13\", \"Topic13\", \"Topic13\", \"Topic13\", \"Topic13\", \"Topic13\", \"Topic13\", \"Topic13\", \"Topic13\", \"Topic13\", \"Topic13\", \"Topic13\", \"Topic13\", \"Topic13\", \"Topic13\", \"Topic13\", \"Topic13\", \"Topic13\", \"Topic13\", \"Topic13\", \"Topic13\", \"Topic13\", \"Topic13\", \"Topic13\", \"Topic13\", \"Topic13\", \"Topic13\", \"Topic13\", \"Topic13\", \"Topic13\", \"Topic13\", \"Topic13\", \"Topic13\", \"Topic13\", \"Topic13\", \"Topic13\", \"Topic13\", \"Topic13\", \"Topic13\", \"Topic13\", \"Topic13\", \"Topic13\", \"Topic13\", \"Topic13\", \"Topic13\", \"Topic13\", \"Topic13\", \"Topic13\", \"Topic13\", \"Topic13\", \"Topic13\", \"Topic14\", \"Topic14\", \"Topic14\", \"Topic14\", \"Topic14\", \"Topic14\", \"Topic14\", \"Topic14\", \"Topic14\", \"Topic14\", \"Topic14\", \"Topic14\", \"Topic14\", \"Topic14\", \"Topic14\", \"Topic14\", \"Topic14\", \"Topic14\", \"Topic14\", \"Topic14\", \"Topic14\", \"Topic14\", \"Topic14\", \"Topic14\", \"Topic14\", \"Topic14\", \"Topic14\", \"Topic14\", \"Topic14\", \"Topic14\", \"Topic14\", \"Topic14\", \"Topic14\", \"Topic14\", \"Topic14\", \"Topic14\", \"Topic14\", \"Topic14\", \"Topic14\", \"Topic14\", \"Topic14\", \"Topic14\", \"Topic14\", \"Topic14\", \"Topic14\", \"Topic14\", \"Topic14\", \"Topic14\", \"Topic14\", \"Topic14\", \"Topic14\", \"Topic14\", \"Topic14\", \"Topic14\", \"Topic14\", \"Topic14\", \"Topic14\", \"Topic14\", \"Topic14\", \"Topic14\", \"Topic14\", \"Topic14\", \"Topic14\", \"Topic14\", \"Topic14\", \"Topic14\", \"Topic14\", \"Topic14\", \"Topic14\", \"Topic14\", \"Topic14\", \"Topic14\", \"Topic14\", \"Topic14\", \"Topic14\", \"Topic14\", \"Topic14\", \"Topic14\", \"Topic14\", \"Topic14\", \"Topic14\", \"Topic14\", \"Topic14\", \"Topic14\", \"Topic14\", \"Topic14\", \"Topic14\", \"Topic14\", \"Topic15\", \"Topic15\", \"Topic15\", \"Topic15\", \"Topic15\", \"Topic15\", \"Topic15\", \"Topic15\", \"Topic15\", \"Topic15\", \"Topic15\", \"Topic15\", \"Topic15\", \"Topic15\", \"Topic15\", \"Topic15\", \"Topic15\", \"Topic15\", \"Topic15\", \"Topic15\", \"Topic15\", \"Topic15\", \"Topic15\", \"Topic15\", \"Topic15\", \"Topic15\", \"Topic15\", \"Topic15\", \"Topic15\", \"Topic15\", \"Topic15\", \"Topic15\", \"Topic15\", \"Topic15\", \"Topic15\", \"Topic15\", \"Topic15\", \"Topic15\", \"Topic15\", \"Topic15\", \"Topic15\", \"Topic15\", \"Topic15\", \"Topic15\", \"Topic15\", \"Topic15\", \"Topic15\", \"Topic15\", \"Topic15\", \"Topic15\", \"Topic15\", \"Topic15\", \"Topic15\", \"Topic15\", \"Topic15\", \"Topic15\", \"Topic15\", \"Topic15\", \"Topic15\", \"Topic15\", \"Topic15\", \"Topic15\", \"Topic15\", \"Topic15\", \"Topic15\", \"Topic15\", \"Topic15\", \"Topic15\", \"Topic15\", \"Topic15\", \"Topic15\", \"Topic15\", \"Topic15\", \"Topic15\", \"Topic15\", \"Topic15\", \"Topic15\", \"Topic15\", \"Topic15\", \"Topic15\", \"Topic15\", \"Topic15\", \"Topic15\", \"Topic15\", \"Topic15\", \"Topic15\", \"Topic15\", \"Topic15\", \"Topic15\", \"Topic15\", \"Topic15\", \"Topic15\", \"Topic15\", \"Topic15\", \"Topic15\", \"Topic15\", \"Topic16\", \"Topic16\", \"Topic16\", \"Topic16\", \"Topic16\", \"Topic16\", \"Topic16\", \"Topic16\", \"Topic16\", \"Topic16\", \"Topic16\", \"Topic16\", \"Topic16\", \"Topic16\", \"Topic16\", \"Topic16\", \"Topic16\", \"Topic16\", \"Topic16\", \"Topic16\", \"Topic16\", \"Topic16\", \"Topic16\", \"Topic16\", \"Topic16\", \"Topic16\", \"Topic16\", \"Topic16\", \"Topic16\", \"Topic16\", \"Topic16\", \"Topic16\", \"Topic16\", \"Topic16\", \"Topic16\", \"Topic16\", \"Topic16\", \"Topic16\", \"Topic16\", \"Topic16\", \"Topic16\", \"Topic16\", \"Topic16\", \"Topic16\", \"Topic16\", \"Topic16\", \"Topic16\", \"Topic16\", \"Topic16\", \"Topic16\", \"Topic16\", \"Topic16\", \"Topic16\", \"Topic16\", \"Topic16\", \"Topic16\", \"Topic16\", \"Topic16\", \"Topic16\", \"Topic16\", \"Topic16\", \"Topic16\", \"Topic16\", \"Topic16\", \"Topic16\", \"Topic16\", \"Topic16\", \"Topic16\", \"Topic16\", \"Topic16\", \"Topic16\", \"Topic16\", \"Topic16\", \"Topic16\", \"Topic16\", \"Topic16\", \"Topic17\", \"Topic17\", \"Topic17\", \"Topic17\", \"Topic17\", \"Topic17\", \"Topic17\", \"Topic17\", \"Topic17\", \"Topic17\", \"Topic17\", \"Topic17\", \"Topic17\", \"Topic17\", \"Topic17\", \"Topic17\", \"Topic17\", \"Topic17\", \"Topic17\", \"Topic17\", \"Topic17\", \"Topic17\", \"Topic17\", \"Topic17\", \"Topic17\", \"Topic17\", \"Topic17\", \"Topic17\", \"Topic17\", \"Topic17\", \"Topic17\", \"Topic17\", \"Topic17\", \"Topic17\", \"Topic17\", \"Topic17\", \"Topic17\", \"Topic17\", \"Topic17\", \"Topic17\", \"Topic17\", \"Topic17\", \"Topic17\", \"Topic17\", \"Topic17\", \"Topic17\", \"Topic17\", \"Topic17\", \"Topic17\", \"Topic17\", \"Topic17\", \"Topic17\", \"Topic17\", \"Topic17\", \"Topic17\", \"Topic17\", \"Topic17\", \"Topic17\", \"Topic17\", \"Topic17\", \"Topic17\", \"Topic17\", \"Topic17\", \"Topic17\", \"Topic17\", \"Topic17\", \"Topic17\", \"Topic17\", \"Topic17\", \"Topic17\", \"Topic17\", \"Topic17\", \"Topic17\", \"Topic17\", \"Topic17\", \"Topic17\", \"Topic17\", \"Topic17\", \"Topic17\", \"Topic17\", \"Topic17\", \"Topic17\", \"Topic17\", \"Topic17\", \"Topic17\", \"Topic17\", \"Topic17\", \"Topic17\", \"Topic18\", \"Topic18\", \"Topic18\", \"Topic18\", \"Topic18\", \"Topic18\", \"Topic18\", \"Topic18\", \"Topic18\", \"Topic18\", \"Topic18\", \"Topic18\", \"Topic18\", \"Topic18\", \"Topic18\", \"Topic18\", \"Topic18\", \"Topic18\", \"Topic18\", \"Topic18\", \"Topic18\", \"Topic18\", \"Topic18\", \"Topic18\", \"Topic18\", \"Topic18\", \"Topic18\", \"Topic18\", \"Topic18\", \"Topic18\", \"Topic18\", \"Topic18\", \"Topic18\", \"Topic18\", \"Topic18\", \"Topic18\", \"Topic18\", \"Topic18\", \"Topic18\", \"Topic18\", \"Topic18\", \"Topic18\", \"Topic18\", \"Topic18\", \"Topic18\", \"Topic18\", \"Topic18\", \"Topic18\", \"Topic18\", \"Topic18\", \"Topic18\", \"Topic18\", \"Topic18\", \"Topic18\", \"Topic18\", \"Topic18\", \"Topic18\", \"Topic18\", \"Topic18\", \"Topic18\", \"Topic18\", \"Topic18\", \"Topic18\", \"Topic18\", \"Topic18\", \"Topic18\", \"Topic18\", \"Topic18\", \"Topic18\", \"Topic18\", \"Topic18\", \"Topic18\", \"Topic18\", \"Topic18\", \"Topic18\", \"Topic18\", \"Topic18\", \"Topic18\", \"Topic18\", \"Topic18\", \"Topic18\", \"Topic18\", \"Topic18\", \"Topic18\", \"Topic18\", \"Topic18\", \"Topic18\", \"Topic18\", \"Topic18\", \"Topic18\", \"Topic18\", \"Topic18\", \"Topic19\", \"Topic19\", \"Topic19\", \"Topic19\", \"Topic19\", \"Topic19\", \"Topic19\", \"Topic19\", \"Topic19\", \"Topic19\", \"Topic19\", \"Topic19\", \"Topic19\", \"Topic19\", \"Topic19\", \"Topic19\", \"Topic19\", \"Topic19\", \"Topic19\", \"Topic19\", \"Topic19\", \"Topic19\", \"Topic19\", \"Topic19\", \"Topic19\", \"Topic19\", \"Topic19\", \"Topic19\", \"Topic19\", \"Topic19\", \"Topic19\", \"Topic19\", \"Topic19\", \"Topic19\", \"Topic19\", \"Topic19\", \"Topic19\", \"Topic19\", \"Topic19\", \"Topic19\", \"Topic19\", \"Topic19\", \"Topic19\", \"Topic19\", \"Topic19\", \"Topic19\", \"Topic19\", \"Topic19\", \"Topic19\", \"Topic19\", \"Topic19\", \"Topic19\", \"Topic19\", \"Topic19\", \"Topic19\", \"Topic19\", \"Topic19\", \"Topic19\", \"Topic19\", \"Topic19\", \"Topic19\", \"Topic19\", \"Topic19\", \"Topic19\", \"Topic19\", \"Topic19\", \"Topic19\", \"Topic19\", \"Topic19\", \"Topic19\", \"Topic19\", \"Topic19\", \"Topic19\", \"Topic19\", \"Topic19\", \"Topic19\", \"Topic20\", \"Topic20\", \"Topic20\", \"Topic20\", \"Topic20\", \"Topic20\", \"Topic20\", \"Topic20\", \"Topic20\", \"Topic20\", \"Topic20\", \"Topic20\", \"Topic20\", \"Topic20\", \"Topic20\", \"Topic20\", \"Topic20\", \"Topic20\", \"Topic20\", \"Topic20\", \"Topic20\", \"Topic20\", \"Topic20\", \"Topic20\", \"Topic20\", \"Topic20\", \"Topic20\", \"Topic20\", \"Topic20\", \"Topic20\", \"Topic20\", \"Topic20\", \"Topic20\", \"Topic20\", \"Topic20\", \"Topic20\", \"Topic20\", \"Topic20\", \"Topic20\", \"Topic20\", \"Topic20\", \"Topic20\", \"Topic20\", \"Topic20\", \"Topic20\", \"Topic20\", \"Topic20\", \"Topic20\", \"Topic20\", \"Topic20\", \"Topic20\", \"Topic20\", \"Topic20\", \"Topic20\", \"Topic20\", \"Topic20\", \"Topic20\", \"Topic20\", \"Topic20\", \"Topic20\", \"Topic20\", \"Topic20\", \"Topic20\", \"Topic20\", \"Topic20\", \"Topic20\", \"Topic20\", \"Topic20\", \"Topic20\", \"Topic20\", \"Topic20\", \"Topic20\", \"Topic20\", \"Topic20\", \"Topic20\", \"Topic20\", \"Topic20\", \"Topic20\", \"Topic20\", \"Topic20\", \"Topic20\", \"Topic20\", \"Topic20\", \"Topic20\", \"Topic20\", \"Topic20\", \"Topic20\", \"Topic20\", \"Topic20\", \"Topic20\", \"Topic20\", \"Topic20\", \"Topic20\", \"Topic20\", \"Topic20\", \"Topic20\", \"Topic20\", \"Topic20\", \"Topic20\", \"Topic20\", \"Topic20\", \"Topic20\", \"Topic20\", \"Topic20\", \"Topic20\", \"Topic20\", \"Topic20\", \"Topic20\", \"Topic20\", \"Topic20\", \"Topic20\", \"Topic20\", \"Topic20\", \"Topic20\", \"Topic20\", \"Topic21\", \"Topic21\", \"Topic21\", \"Topic21\", \"Topic21\", \"Topic21\", \"Topic21\", \"Topic21\", \"Topic21\", \"Topic21\", \"Topic21\", \"Topic21\", \"Topic21\", \"Topic21\", \"Topic21\", \"Topic21\", \"Topic21\", \"Topic21\", \"Topic21\", \"Topic21\", \"Topic21\", \"Topic21\", \"Topic21\", \"Topic21\", \"Topic21\", \"Topic21\", \"Topic21\", \"Topic21\", \"Topic21\", \"Topic21\", \"Topic21\", \"Topic21\", \"Topic21\", \"Topic21\", \"Topic21\", \"Topic21\", \"Topic21\", \"Topic21\", \"Topic21\", \"Topic21\", \"Topic21\", \"Topic21\", \"Topic21\", \"Topic21\", \"Topic21\", \"Topic21\", \"Topic21\", \"Topic21\", \"Topic21\", \"Topic21\", \"Topic21\", \"Topic21\", \"Topic21\", \"Topic21\", \"Topic21\", \"Topic21\", \"Topic21\", \"Topic21\", \"Topic21\", \"Topic21\", \"Topic21\", \"Topic21\", \"Topic21\", \"Topic21\", \"Topic21\", \"Topic21\", \"Topic21\", \"Topic21\", \"Topic21\", \"Topic21\", \"Topic21\", \"Topic21\", \"Topic21\", \"Topic21\", \"Topic21\", \"Topic21\", \"Topic21\", \"Topic21\", \"Topic21\", \"Topic21\", \"Topic21\", \"Topic21\", \"Topic21\", \"Topic21\", \"Topic21\", \"Topic21\", \"Topic21\", \"Topic21\", \"Topic21\", \"Topic21\", \"Topic21\", \"Topic21\", \"Topic21\", \"Topic22\", \"Topic22\", \"Topic22\", \"Topic22\", \"Topic22\", \"Topic22\", \"Topic22\", \"Topic22\", \"Topic22\", \"Topic22\", \"Topic22\", \"Topic22\", \"Topic22\", \"Topic22\", \"Topic22\", \"Topic22\", \"Topic22\", \"Topic22\", \"Topic22\", \"Topic22\", \"Topic22\", \"Topic22\", \"Topic22\", \"Topic22\", \"Topic22\", \"Topic22\", \"Topic22\", \"Topic22\", \"Topic22\", \"Topic22\", \"Topic22\", \"Topic22\", \"Topic22\", \"Topic22\", \"Topic22\", \"Topic22\", \"Topic22\", \"Topic22\", \"Topic22\", \"Topic22\", \"Topic22\", \"Topic22\", \"Topic22\", \"Topic22\", \"Topic22\", \"Topic22\", \"Topic22\", \"Topic22\", \"Topic22\", \"Topic22\", \"Topic22\", \"Topic22\", \"Topic22\", \"Topic22\", \"Topic22\", \"Topic22\", \"Topic22\", \"Topic22\", \"Topic22\", \"Topic22\", \"Topic22\", \"Topic22\", \"Topic22\", \"Topic22\", \"Topic22\", \"Topic22\", \"Topic22\", \"Topic22\", \"Topic22\", \"Topic22\", \"Topic22\", \"Topic22\", \"Topic22\", \"Topic22\", \"Topic22\", \"Topic22\", \"Topic22\", \"Topic22\", \"Topic22\", \"Topic22\", \"Topic22\", \"Topic22\", \"Topic22\", \"Topic22\", \"Topic22\", \"Topic22\", \"Topic23\", \"Topic23\", \"Topic23\", \"Topic23\", \"Topic23\", \"Topic23\", \"Topic23\", \"Topic23\", \"Topic23\", \"Topic23\", \"Topic23\", \"Topic23\", \"Topic23\", \"Topic23\", \"Topic23\", \"Topic23\", \"Topic23\", \"Topic23\", \"Topic23\", \"Topic23\", \"Topic23\", \"Topic23\", \"Topic23\", \"Topic23\", \"Topic23\", \"Topic23\", \"Topic23\", \"Topic23\", \"Topic23\", \"Topic23\", \"Topic23\", \"Topic23\", \"Topic23\", \"Topic23\", \"Topic23\", \"Topic23\", \"Topic23\", \"Topic23\", \"Topic23\", \"Topic23\", \"Topic23\", \"Topic23\", \"Topic23\", \"Topic23\", \"Topic23\", \"Topic23\", \"Topic23\", \"Topic23\", \"Topic23\", \"Topic23\", \"Topic23\", \"Topic23\", \"Topic23\", \"Topic23\", \"Topic23\", \"Topic23\", \"Topic23\", \"Topic23\", \"Topic23\", \"Topic23\", \"Topic23\", \"Topic23\", \"Topic23\", \"Topic23\", \"Topic23\", \"Topic23\", \"Topic23\", \"Topic23\", \"Topic23\", \"Topic23\", \"Topic23\", \"Topic23\", \"Topic23\", \"Topic23\", \"Topic23\", \"Topic23\", \"Topic23\", \"Topic23\", \"Topic23\", \"Topic23\", \"Topic24\", \"Topic24\", \"Topic24\", \"Topic24\", \"Topic24\", \"Topic24\", \"Topic24\", \"Topic24\", \"Topic24\", \"Topic24\", \"Topic24\", \"Topic24\", \"Topic24\", \"Topic24\", \"Topic24\", \"Topic24\", \"Topic24\", \"Topic24\", \"Topic24\", \"Topic24\", \"Topic24\", \"Topic24\", \"Topic24\", \"Topic24\", \"Topic24\", \"Topic24\", \"Topic24\", \"Topic24\", \"Topic24\", \"Topic24\", \"Topic24\", \"Topic24\", \"Topic24\", \"Topic24\", \"Topic24\", \"Topic24\", \"Topic24\", \"Topic24\", \"Topic24\", \"Topic24\", \"Topic24\", \"Topic24\", \"Topic24\", \"Topic24\", \"Topic24\", \"Topic24\", \"Topic24\", \"Topic24\", \"Topic24\", \"Topic24\", \"Topic24\", \"Topic24\", \"Topic24\", \"Topic24\", \"Topic24\", \"Topic24\", \"Topic24\", \"Topic24\", \"Topic24\", \"Topic24\", \"Topic24\", \"Topic24\", \"Topic24\", \"Topic24\", \"Topic24\", \"Topic24\", \"Topic24\", \"Topic24\", \"Topic24\", \"Topic24\", \"Topic24\", \"Topic24\", \"Topic24\", \"Topic24\", \"Topic24\", \"Topic24\", \"Topic24\", \"Topic24\", \"Topic24\", \"Topic24\", \"Topic24\", \"Topic24\", \"Topic24\", \"Topic24\", \"Topic24\", \"Topic24\", \"Topic24\", \"Topic24\", \"Topic24\", \"Topic24\", \"Topic24\", \"Topic24\", \"Topic24\", \"Topic24\", \"Topic25\", \"Topic25\", \"Topic25\", \"Topic25\", \"Topic25\", \"Topic25\", \"Topic25\", \"Topic25\", \"Topic25\", \"Topic25\", \"Topic25\", \"Topic25\", \"Topic25\", \"Topic25\", \"Topic25\", \"Topic25\", \"Topic25\", \"Topic25\", \"Topic25\", \"Topic25\", \"Topic25\", \"Topic25\", \"Topic25\", \"Topic25\", \"Topic25\", \"Topic25\", \"Topic25\", \"Topic25\", \"Topic25\", \"Topic25\", \"Topic25\", \"Topic25\", \"Topic25\", \"Topic25\", \"Topic25\", \"Topic25\", \"Topic25\", \"Topic25\", \"Topic25\", \"Topic25\", \"Topic25\", \"Topic25\", \"Topic25\", \"Topic25\", \"Topic25\", \"Topic25\", \"Topic25\", \"Topic25\", \"Topic25\", \"Topic25\", \"Topic25\", \"Topic25\", \"Topic25\", \"Topic25\", \"Topic25\", \"Topic25\", \"Topic25\", \"Topic25\", \"Topic25\", \"Topic25\", \"Topic25\", \"Topic25\", \"Topic25\", \"Topic25\", \"Topic25\", \"Topic25\", \"Topic25\", \"Topic25\", \"Topic25\", \"Topic25\", \"Topic25\", \"Topic25\", \"Topic25\", \"Topic25\", \"Topic25\", \"Topic25\", \"Topic25\", \"Topic25\", \"Topic25\", \"Topic25\", \"Topic25\", \"Topic25\", \"Topic26\", \"Topic26\", \"Topic26\", \"Topic26\", \"Topic26\", \"Topic26\", \"Topic26\", \"Topic26\", \"Topic26\", \"Topic26\", \"Topic26\", \"Topic26\", \"Topic26\", \"Topic26\", \"Topic26\", \"Topic26\", \"Topic26\", \"Topic26\", \"Topic26\", \"Topic26\", \"Topic26\", \"Topic26\", \"Topic26\", \"Topic26\", \"Topic26\", \"Topic26\", \"Topic26\", \"Topic26\", \"Topic26\", \"Topic26\", \"Topic26\", \"Topic26\", \"Topic26\", \"Topic26\", \"Topic26\", \"Topic26\", \"Topic26\", \"Topic26\", \"Topic26\", \"Topic26\", \"Topic26\", \"Topic26\", \"Topic26\", \"Topic26\", \"Topic26\", \"Topic26\", \"Topic26\", \"Topic26\", \"Topic26\", \"Topic26\", \"Topic26\", \"Topic26\", \"Topic26\", \"Topic26\", \"Topic26\", \"Topic26\", \"Topic26\", \"Topic26\", \"Topic26\", \"Topic26\", \"Topic26\", \"Topic26\", \"Topic26\", \"Topic26\", \"Topic26\", \"Topic26\", \"Topic26\", \"Topic26\", \"Topic26\", \"Topic26\", \"Topic26\", \"Topic26\", \"Topic26\", \"Topic26\", \"Topic26\", \"Topic26\", \"Topic26\", \"Topic26\", \"Topic26\", \"Topic26\", \"Topic26\", \"Topic26\", \"Topic26\", \"Topic26\", \"Topic26\", \"Topic26\", \"Topic26\", \"Topic26\", \"Topic26\", \"Topic26\", \"Topic26\", \"Topic26\", \"Topic26\", \"Topic26\", \"Topic26\", \"Topic26\", \"Topic26\", \"Topic26\", \"Topic26\", \"Topic27\", \"Topic27\", \"Topic27\", \"Topic27\", \"Topic27\", \"Topic27\", \"Topic27\", \"Topic27\", \"Topic27\", \"Topic27\", \"Topic27\", \"Topic27\", \"Topic27\", \"Topic27\", \"Topic27\", \"Topic27\", \"Topic27\", \"Topic27\", \"Topic27\", \"Topic27\", \"Topic27\", \"Topic27\", \"Topic27\", \"Topic27\", \"Topic27\", \"Topic27\", \"Topic27\", \"Topic27\", \"Topic27\", \"Topic27\", \"Topic27\", \"Topic27\", \"Topic27\", \"Topic27\", \"Topic27\", \"Topic27\", \"Topic27\", \"Topic27\", \"Topic27\", \"Topic27\", \"Topic27\", \"Topic27\", \"Topic27\", \"Topic27\", \"Topic27\", \"Topic27\", \"Topic27\", \"Topic27\", \"Topic27\", \"Topic27\", \"Topic27\", \"Topic27\", \"Topic27\", \"Topic27\", \"Topic27\", \"Topic27\", \"Topic27\", \"Topic27\", \"Topic27\", \"Topic27\", \"Topic27\", \"Topic27\", \"Topic27\", \"Topic27\", \"Topic27\", \"Topic27\", \"Topic27\", \"Topic27\", \"Topic27\", \"Topic27\", \"Topic27\", \"Topic27\", \"Topic27\", \"Topic27\", \"Topic27\", \"Topic27\", \"Topic27\", \"Topic27\", \"Topic27\", \"Topic27\", \"Topic27\", \"Topic27\", \"Topic27\", \"Topic27\", \"Topic27\", \"Topic27\", \"Topic27\", \"Topic27\", \"Topic28\", \"Topic28\", \"Topic28\", \"Topic28\", \"Topic28\", \"Topic28\", \"Topic28\", \"Topic28\", \"Topic28\", \"Topic28\", \"Topic28\", \"Topic28\", \"Topic28\", \"Topic28\", \"Topic28\", \"Topic28\", \"Topic28\", \"Topic28\", \"Topic28\", \"Topic28\", \"Topic28\", \"Topic28\", \"Topic28\", \"Topic28\", \"Topic28\", \"Topic28\", \"Topic28\", \"Topic28\", \"Topic28\", \"Topic28\", \"Topic28\", \"Topic28\", \"Topic28\", \"Topic28\", \"Topic28\", \"Topic28\", \"Topic28\", \"Topic28\", \"Topic28\", \"Topic28\", \"Topic28\", \"Topic28\", \"Topic28\", \"Topic28\", \"Topic28\", \"Topic28\", \"Topic28\", \"Topic28\", \"Topic28\", \"Topic28\", \"Topic28\", \"Topic28\", \"Topic28\", \"Topic28\", \"Topic28\", \"Topic28\", \"Topic28\", \"Topic28\", \"Topic28\", \"Topic28\", \"Topic28\", \"Topic28\", \"Topic28\", \"Topic28\", \"Topic28\", \"Topic28\", \"Topic28\", \"Topic28\", \"Topic28\", \"Topic28\", \"Topic28\", \"Topic28\", \"Topic28\", \"Topic28\", \"Topic28\", \"Topic28\", \"Topic28\", \"Topic28\", \"Topic28\", \"Topic28\", \"Topic28\", \"Topic28\", \"Topic28\", \"Topic28\", \"Topic28\", \"Topic28\", \"Topic28\", \"Topic29\", \"Topic29\", \"Topic29\", \"Topic29\", \"Topic29\", \"Topic29\", \"Topic29\", \"Topic29\", \"Topic29\", \"Topic29\", \"Topic29\", \"Topic29\", \"Topic29\", \"Topic29\", \"Topic29\", \"Topic29\", \"Topic29\", \"Topic29\", \"Topic29\", \"Topic29\", \"Topic29\", \"Topic29\", \"Topic29\", \"Topic29\", \"Topic29\", \"Topic29\", \"Topic29\", \"Topic29\", \"Topic29\", \"Topic29\", \"Topic29\", \"Topic29\", \"Topic29\", \"Topic29\", \"Topic29\", \"Topic29\", \"Topic29\", \"Topic29\", \"Topic29\", \"Topic29\", \"Topic29\", \"Topic29\", \"Topic29\", \"Topic29\", \"Topic29\", \"Topic29\", \"Topic29\", \"Topic29\", \"Topic29\", \"Topic29\", \"Topic29\", \"Topic29\", \"Topic29\", \"Topic29\", \"Topic29\", \"Topic29\", \"Topic29\", \"Topic29\", \"Topic29\", \"Topic29\", \"Topic29\", \"Topic29\", \"Topic29\", \"Topic29\", \"Topic29\", \"Topic29\", \"Topic29\", \"Topic29\", \"Topic29\", \"Topic29\", \"Topic29\", \"Topic29\", \"Topic29\", \"Topic29\", \"Topic29\", \"Topic29\", \"Topic29\", \"Topic29\", \"Topic29\", \"Topic29\", \"Topic29\", \"Topic29\", \"Topic29\", \"Topic29\", \"Topic29\", \"Topic29\", \"Topic29\", \"Topic30\", \"Topic30\", \"Topic30\", \"Topic30\", \"Topic30\", \"Topic30\", \"Topic30\", \"Topic30\", \"Topic30\", \"Topic30\", \"Topic30\", \"Topic30\", \"Topic30\", \"Topic30\", \"Topic30\", \"Topic30\", \"Topic30\", \"Topic30\", \"Topic30\", \"Topic30\", \"Topic30\", \"Topic30\", \"Topic30\", \"Topic30\", \"Topic30\", \"Topic30\", \"Topic30\", \"Topic30\", \"Topic30\", \"Topic30\", \"Topic30\", \"Topic30\", \"Topic30\", \"Topic30\", \"Topic30\", \"Topic30\", \"Topic30\", \"Topic30\", \"Topic30\", \"Topic30\", \"Topic30\", \"Topic30\", \"Topic30\", \"Topic30\", \"Topic30\", \"Topic30\", \"Topic30\", \"Topic30\", \"Topic30\", \"Topic30\", \"Topic30\", \"Topic30\", \"Topic30\", \"Topic30\", \"Topic30\", \"Topic30\", \"Topic30\", \"Topic30\", \"Topic30\", \"Topic30\", \"Topic30\", \"Topic30\", \"Topic30\", \"Topic30\", \"Topic30\", \"Topic30\", \"Topic30\", \"Topic30\", \"Topic30\", \"Topic30\", \"Topic30\", \"Topic30\", \"Topic30\", \"Topic30\", \"Topic30\", \"Topic30\", \"Topic30\", \"Topic30\", \"Topic30\", \"Topic31\", \"Topic31\", \"Topic31\", \"Topic31\", \"Topic31\", \"Topic31\", \"Topic31\", \"Topic31\", \"Topic31\", \"Topic31\", \"Topic31\", \"Topic31\", \"Topic31\", \"Topic31\", \"Topic31\", \"Topic31\", \"Topic31\", \"Topic31\", \"Topic31\", \"Topic31\", \"Topic31\", \"Topic31\", \"Topic31\", \"Topic31\", \"Topic31\", \"Topic31\", \"Topic31\", \"Topic31\", \"Topic31\", \"Topic31\", \"Topic31\", \"Topic31\", \"Topic31\", \"Topic31\", \"Topic31\", \"Topic31\", \"Topic31\", \"Topic31\", \"Topic31\", \"Topic31\", \"Topic31\", \"Topic31\", \"Topic31\", \"Topic31\", \"Topic31\", \"Topic31\", \"Topic31\", \"Topic31\", \"Topic31\", \"Topic31\", \"Topic31\", \"Topic31\", \"Topic31\", \"Topic31\", \"Topic31\", \"Topic31\", \"Topic31\", \"Topic31\", \"Topic31\", \"Topic31\", \"Topic31\", \"Topic31\", \"Topic31\", \"Topic31\", \"Topic31\", \"Topic31\", \"Topic31\", \"Topic31\", \"Topic31\", \"Topic31\", \"Topic31\", \"Topic31\", \"Topic31\", \"Topic31\", \"Topic31\", \"Topic31\", \"Topic31\", \"Topic31\", \"Topic31\", \"Topic31\", \"Topic31\", \"Topic31\", \"Topic31\", \"Topic32\", \"Topic32\", \"Topic32\", \"Topic32\", \"Topic32\", \"Topic32\", \"Topic32\", \"Topic32\", \"Topic32\", \"Topic32\", \"Topic32\", \"Topic32\", \"Topic32\", \"Topic32\", \"Topic32\", \"Topic32\", \"Topic32\", \"Topic32\", \"Topic32\", \"Topic32\", \"Topic32\", \"Topic32\", \"Topic32\", \"Topic32\", \"Topic32\", \"Topic32\", \"Topic32\", \"Topic32\", \"Topic32\", \"Topic32\", \"Topic32\", \"Topic32\", \"Topic32\", \"Topic32\", \"Topic32\", \"Topic32\", \"Topic32\", \"Topic32\", \"Topic32\", \"Topic32\", \"Topic32\", \"Topic32\", \"Topic32\", \"Topic32\", \"Topic32\", \"Topic32\", \"Topic32\", \"Topic32\", \"Topic32\", \"Topic32\", \"Topic32\", \"Topic32\", \"Topic32\", \"Topic32\", \"Topic32\", \"Topic32\", \"Topic32\", \"Topic32\", \"Topic32\", \"Topic32\", \"Topic32\", \"Topic32\", \"Topic32\", \"Topic32\", \"Topic32\", \"Topic32\", \"Topic32\", \"Topic32\", \"Topic32\", \"Topic32\", \"Topic32\", \"Topic32\", \"Topic32\", \"Topic32\", \"Topic33\", \"Topic33\", \"Topic33\", \"Topic33\", \"Topic33\", \"Topic33\", \"Topic33\", \"Topic33\", \"Topic33\", \"Topic33\", \"Topic33\", \"Topic33\", \"Topic33\", \"Topic33\", \"Topic33\", \"Topic33\", \"Topic33\", \"Topic33\", \"Topic33\", \"Topic33\", \"Topic33\", \"Topic33\", \"Topic33\", \"Topic33\", \"Topic33\", \"Topic33\", \"Topic33\", \"Topic33\", \"Topic33\", \"Topic33\", \"Topic33\", \"Topic33\", \"Topic33\", \"Topic33\", \"Topic33\", \"Topic33\", \"Topic33\", \"Topic33\", \"Topic33\", \"Topic33\", \"Topic33\", \"Topic33\", \"Topic33\", \"Topic33\", \"Topic33\", \"Topic33\", \"Topic33\", \"Topic33\", \"Topic33\", \"Topic33\", \"Topic33\", \"Topic33\", \"Topic33\", \"Topic33\", \"Topic33\", \"Topic33\", \"Topic33\", \"Topic33\", \"Topic33\", \"Topic33\", \"Topic33\", \"Topic33\", \"Topic33\", \"Topic33\", \"Topic33\", \"Topic33\", \"Topic33\", \"Topic33\", \"Topic33\", \"Topic33\", \"Topic33\", \"Topic33\", \"Topic33\", \"Topic33\", \"Topic33\", \"Topic33\", \"Topic33\", \"Topic33\", \"Topic33\", \"Topic33\", \"Topic33\", \"Topic33\", \"Topic33\", \"Topic33\", \"Topic34\", \"Topic34\", \"Topic34\", \"Topic34\", \"Topic34\", \"Topic34\", \"Topic34\", \"Topic34\", \"Topic34\", \"Topic34\", \"Topic34\", \"Topic34\", \"Topic34\", \"Topic34\", \"Topic34\", \"Topic34\", \"Topic34\", \"Topic34\", \"Topic34\", \"Topic34\", \"Topic34\", \"Topic34\", \"Topic34\", \"Topic34\", \"Topic34\", \"Topic34\", \"Topic34\", \"Topic34\", \"Topic34\", \"Topic34\", \"Topic34\", \"Topic34\", \"Topic34\", \"Topic34\", \"Topic34\", \"Topic34\", \"Topic34\", \"Topic34\", \"Topic34\", \"Topic34\", \"Topic34\", \"Topic34\", \"Topic34\", \"Topic34\", \"Topic34\", \"Topic34\", \"Topic34\", \"Topic34\", \"Topic34\", \"Topic34\", \"Topic34\", \"Topic34\", \"Topic34\", \"Topic34\", \"Topic34\", \"Topic34\", \"Topic34\", \"Topic34\", \"Topic34\", \"Topic34\", \"Topic34\", \"Topic34\", \"Topic34\", \"Topic34\", \"Topic34\", \"Topic34\", \"Topic34\", \"Topic34\", \"Topic34\", \"Topic34\", \"Topic34\", \"Topic34\", \"Topic34\", \"Topic34\", \"Topic34\", \"Topic34\", \"Topic34\", \"Topic34\", \"Topic34\", \"Topic34\", \"Topic34\", \"Topic34\", \"Topic35\", \"Topic35\", \"Topic35\", \"Topic35\", \"Topic35\", \"Topic35\", \"Topic35\", \"Topic35\", \"Topic35\", \"Topic35\", \"Topic35\", \"Topic35\", \"Topic35\", \"Topic35\", \"Topic35\", \"Topic35\", \"Topic35\", \"Topic35\", \"Topic35\", \"Topic35\", \"Topic35\", \"Topic35\", \"Topic35\", \"Topic35\", \"Topic35\", \"Topic35\", \"Topic35\", \"Topic35\", \"Topic35\", \"Topic35\", \"Topic35\", \"Topic35\", \"Topic35\", \"Topic35\", \"Topic35\", \"Topic35\", \"Topic35\", \"Topic35\", \"Topic35\", \"Topic35\", \"Topic35\", \"Topic35\", \"Topic35\", \"Topic35\", \"Topic35\", \"Topic35\", \"Topic35\", \"Topic35\", \"Topic35\", \"Topic35\", \"Topic35\", \"Topic35\", \"Topic35\", \"Topic35\", \"Topic35\", \"Topic35\", \"Topic35\", \"Topic35\", \"Topic35\", \"Topic35\", \"Topic35\", \"Topic35\", \"Topic35\", \"Topic35\", \"Topic35\", \"Topic35\", \"Topic35\", \"Topic35\", \"Topic35\", \"Topic35\", \"Topic35\", \"Topic35\"], \"logprob\": [30.0, 29.0, 28.0, 27.0, 26.0, 25.0, 24.0, 23.0, 22.0, 21.0, 20.0, 19.0, 18.0, 17.0, 16.0, 15.0, 14.0, 13.0, 12.0, 11.0, 10.0, 9.0, 8.0, 7.0, 6.0, 5.0, 4.0, 3.0, 2.0, 1.0, -11.2259, -11.2278, -11.2271, -11.2294, -11.2269, -11.2296, -11.2301, -11.23, -11.2319, -11.2303, -11.2305, -11.2303, -11.2305, -11.2304, -11.2305, -11.2322, -11.2308, -11.2308, -11.2288, -11.2307, -11.2323, -11.2323, -11.2306, -11.2324, -11.2309, -11.2324, -11.2325, -11.2325, -11.2325, -11.2308, -11.2308, -11.2295, -11.231, -11.2309, -11.2309, -11.2287, -11.2295, -11.2293, -11.2297, -4.7238, -11.2299, -11.2275, -11.2257, -11.2288, -4.8645, -5.7875, -5.3725, -5.0169, -5.6217, -6.1582, -5.7459, -5.719, -5.9859, -6.2123, -6.1256, -6.1607, -6.0674, -7.6921, -6.2292, -6.1757, -6.1888, -6.3339, -6.2783, -6.6346, -6.1232, -6.2027, -6.5167, -6.9127, -6.3416, -6.2171, -6.6382, -6.8624, -6.4387, -6.6755, -6.3369, -6.3521, -6.2484, -6.3333, -6.4187, -6.4771, -9.0051, -9.2656, -9.117, -9.2654, -9.7894, -9.8298, -9.8315, -9.5857, -10.0526, -10.1062, -10.3446, -10.4142, -10.4118, -10.3433, -10.4374, -10.5656, -10.5697, -10.4869, -10.5057, -10.4874, -10.5729, -9.1283, -10.6569, -10.6548, -10.5688, -10.6602, -10.6706, -10.7489, -10.7525, -10.7507, -10.1364, -9.1728, -10.392, -10.0031, -10.1593, -9.2366, -7.7942, -9.3401, -10.1131, -9.1165, -9.6004, -4.072, -7.9075, -9.9421, -4.6919, -9.4295, -8.2742, -4.4223, -6.8674, -3.5364, -9.2174, -4.4185, -7.3699, -4.6929, -5.444, -5.1504, -5.4978, -5.8897, -5.8927, -4.5974, -5.8909, -5.9367, -5.2884, -5.7923, -6.2107, -5.9341, -5.9163, -6.5529, -6.4288, -5.6283, -5.5887, -4.9521, -5.2766, -4.9065, -5.1001, -5.3105, -4.6137, -5.2732, -5.463, -5.0671, -5.2255, -5.3988, -5.5266, -5.5599, -5.4515, -5.6207, -5.7611, -5.5956, -5.7275, -4.1166, -5.0513, -4.7058, -11.295, -11.3417, -11.3418, -11.3468, -11.3455, -11.3478, -11.348, -11.3481, -11.3481, -11.3467, -11.3482, -11.3483, -11.3483, -11.3484, -11.3484, -11.3484, -11.348, -11.3484, -11.3458, -11.3485, -11.3486, -11.3487, -11.3486, -11.3467, -11.3486, -11.3471, -11.3486, -11.3463, -11.3466, -11.3471, -11.3469, -11.3468, -11.3452, -11.3456, -11.3468, -11.3454, -11.3454, -6.2402, -11.3472, -4.3121, -11.3468, -5.2709, -5.5307, -5.1155, -5.2662, -5.3696, -5.4418, -5.5978, -5.6318, -5.561, -5.4313, -5.8151, -5.759, -5.8398, -5.502, -5.7734, -6.2518, -6.0415, -6.5154, -5.5887, -6.4314, -6.8614, -7.7736, -6.5712, -6.7292, -6.1355, -6.5817, -6.0947, -6.1498, -6.4567, -6.1482, -6.2283, -6.2596, -6.314, -11.3894, -11.3955, -11.409, -11.4074, -11.4119, -11.4173, -11.4186, -11.416, -11.415, -11.4184, -11.42, -11.4202, -11.4196, -11.4208, -11.4199, -11.4226, -11.4199, -11.4211, -11.4211, -11.421, -11.4223, -11.4218, -11.4226, -11.4242, -11.4199, -11.4227, -11.4228, -11.423, -11.4229, -11.4229, -11.4135, -11.4203, -11.417, -11.417, -11.421, -4.3156, -11.4203, -11.4178, -5.2315, -5.1923, -4.9026, -5.3515, -5.7997, -5.6813, -5.7468, -5.6554, -5.5849, -5.8993, -5.8487, -6.1636, -5.7843, -5.602, -6.2301, -6.1498, -6.3618, -6.1799, -5.9844, -5.97, -6.0464, -6.5147, -5.7149, -6.4224, -6.6527, -5.8193, -6.1031, -6.381, -6.2481, -6.3794, -5.6039, -6.0901, -6.0502, -6.1795, -6.1094, -6.1819, -6.1869, -11.2416, -11.2443, -11.246, -11.2444, -11.2461, -11.2446, -11.2446, -11.2447, -11.2446, -11.2447, -11.2449, -11.2449, -11.2464, -11.2465, -11.245, -11.2464, -11.2449, -11.2465, -11.2448, -11.2465, -11.2448, -11.2449, -11.245, -11.2465, -11.2448, -11.2465, -11.2465, -11.2466, -11.2466, -11.2466, -11.2448, -11.2451, -11.245, -11.2436, -11.245, -11.2438, -11.2427, -11.2433, -11.2433, -11.2442, -11.2437, -11.2447, -11.2386, -11.2439, -11.2409, -11.244, -11.2439, -11.2434, -4.8725, -4.596, -5.3939, -11.2408, -5.3168, -5.4331, -5.8644, -5.2014, -5.8781, -5.8145, -5.8422, -6.3492, -5.7738, -5.7952, -5.9965, -6.1041, -6.2887, -6.2905, -6.1985, -6.2733, -6.5195, -6.2424, -6.426, -6.6861, -6.2757, -6.2902, -6.4254, -6.7112, -6.6488, -7.0893, -7.0105, -6.396, -6.1429, -6.3308, -6.417, -6.5337, -6.5278, -8.2331, -8.6972, -8.4947, -8.7267, -9.1032, -8.8388, -9.2702, -9.1071, -8.758, -9.3768, -9.4226, -9.5322, -9.5884, -9.5307, -9.6558, -9.3723, -9.2789, -9.4307, -9.7968, -9.7246, -9.8768, -9.2003, -9.8781, -9.9648, -9.9664, -9.9664, -9.3325, -9.8942, -10.06, -10.0605, -9.4407, -8.2641, -9.3028, -9.2209, -9.6713, -5.9948, -6.4436, -9.095, -8.0747, -9.3217, -7.7363, -7.5572, -6.6303, -5.0999, -7.6587, -5.18, -8.9447, -4.4264, -3.7818, -4.948, -8.7805, -5.4841, -4.5469, -3.9595, -5.0833, -7.0649, -4.8613, -5.3482, -4.6902, -6.0149, -4.8717, -4.7768, -5.0474, -5.657, -5.8137, -5.6982, -5.9497, -5.4614, -5.3433, -4.772, -5.1241, -5.3556, -5.7136, -5.538, -4.9525, -5.3264, -5.3752, -5.2543, -5.2316, -5.49, -5.4626, -5.558, -5.5796, -9.5855, -9.7261, -10.1216, -10.1225, -10.1663, -10.2573, -10.2577, -10.2592, -10.2593, -10.3115, -9.9775, -9.9128, -10.2625, -10.3029, -10.4138, -10.4139, -10.4139, -10.414, -10.414, -10.414, -10.414, -10.4142, -10.4144, -10.4143, -10.415, -10.4148, -10.4152, -10.4163, -10.4168, -10.4168, -9.9174, -10.2705, -9.7282, -9.7237, -8.5236, -6.3971, -9.7599, -3.7964, -10.2859, -9.1018, -9.7177, -6.1723, -9.7314, -8.3125, -10.1177, -5.7324, -7.8669, -6.9244, -5.9503, -5.2921, -4.4497, -7.6597, -5.3139, -7.8611, -5.5577, -5.8806, -6.6768, -6.1956, -6.0802, -8.7857, -6.4921, -4.8672, -3.9751, -5.8046, -5.5266, -5.513, -5.8982, -6.062, -5.8383, -6.7385, -5.7029, -5.2543, -4.7481, -5.2997, -5.7597, -5.1723, -4.9605, -5.3286, -5.4568, -5.2076, -5.2893, -5.0784, -5.322, -5.2254, -5.4907, -5.3588, -5.3563, -5.6351, -5.449, -5.5764, -5.4648, -5.4749, -5.5772, -5.5477, -8.7313, -8.8114, -8.6083, -9.2168, -6.7707, -9.2412, -9.2616, -8.7743, -9.4281, -9.5049, -9.6871, -9.6955, -9.9104, -9.9105, -9.9106, -9.9107, -9.9106, -9.8963, -9.8847, -10.0032, -10.0194, -10.0532, -9.3979, -10.1479, -10.1988, -10.1988, -10.1989, -10.2088, -10.0046, -10.2688, -4.4302, -7.9998, -5.9206, -8.5857, -6.9181, -5.4651, -6.4186, -7.5237, -8.7578, -8.5491, -7.514, -6.8939, -7.6319, -5.5277, -9.3053, -9.1228, -6.3624, -8.0388, -3.2614, -5.2441, -8.1321, -6.3693, -5.4912, -4.4283, -5.4298, -3.9834, -7.1734, -6.4647, -5.9337, -6.1836, -5.3409, -4.3381, -6.3577, -5.0262, -6.9994, -5.0205, -4.9595, -5.5245, -5.0814, -5.0643, -5.4252, -5.1735, -5.5053, -4.7813, -5.3623, -5.1497, -5.0476, -5.1478, -5.3369, -5.4602, -5.2189, -5.3521, -5.2296, -5.4601, -5.4653, -6.7237, -7.4943, -7.5806, -6.8006, -7.1758, -7.2376, -7.4898, -7.3736, -6.7943, -6.8564, -7.5128, -5.8408, -7.9213, -7.4892, -8.0205, -6.8724, -6.549, -8.0261, -4.3384, -6.3095, -8.0045, -7.5435, -8.094, -7.2251, -7.5855, -5.9078, -7.8154, -7.1869, -8.2563, -8.1179, -7.4882, -3.9006, -5.0903, -5.2783, -5.5737, -5.9349, -6.5092, -5.5946, -5.1411, -5.2134, -6.0301, -4.0927, -4.8448, -4.1825, -6.128, -4.1533, -5.278, -5.2685, -4.624, -4.7339, -5.0955, -5.1413, -4.8517, -4.9352, -5.1518, -5.2476, -5.149, -5.4033, -5.3719, -5.2693, -5.2204, -5.1801, -5.3278, -5.3318, -5.4252, -5.5118, -5.5074, -7.8455, -8.4096, -8.6477, -9.1336, -9.4217, -9.508, -9.508, -9.4789, -9.5595, -9.6556, -9.6558, -9.7668, -9.2168, -9.8272, -9.8272, -9.8272, -9.8308, -9.7742, -9.8919, -9.8919, -9.8929, -9.8641, -9.9614, -9.9622, -9.9655, -9.9973, -10.1157, -10.1157, -10.1204, -10.1205, -7.3673, -5.8922, -7.6535, -6.1166, -7.684, -8.1551, -9.2394, -9.0553, -7.242, -9.2646, -8.2295, -9.3033, -7.6248, -9.4911, -9.3504, -8.8154, -8.8676, -9.1189, -8.5065, -7.4352, -8.4745, -4.4847, -7.325, -4.0067, -5.0873, -5.3005, -5.3984, -6.8535, -6.4058, -4.7067, -7.3518, -4.8758, -4.1774, -4.9516, -6.6126, -5.8591, -5.057, -4.9577, -5.3964, -5.5408, -4.9432, -5.2975, -5.2126, -5.1693, -5.2886, -5.0016, -5.3845, -5.1057, -5.2948, -5.3601, -5.8176, -4.8979, -5.3806, -5.5278, -5.2115, -5.6048, -5.5177, -5.4806, -7.534, -7.9446, -8.335, -8.4061, -8.4816, -8.5639, -8.6853, -8.752, -8.9414, -8.984, -9.0751, -9.1239, -9.1753, -9.1753, -9.2865, -9.4118, -9.4117, -9.4809, -9.4811, -9.5551, -9.5552, -9.4849, -9.6355, -9.7223, -9.7225, -9.7222, -9.7222, -9.7226, -9.7338, -9.7501, -9.086, -8.7097, -9.2325, -8.3022, -9.1137, -5.7367, -4.1751, -6.5135, -6.4186, -5.7, -4.6535, -5.504, -4.3428, -5.4124, -7.7871, -4.1528, -6.4163, -6.4312, -5.4417, -5.5665, -7.4704, -4.6274, -7.6044, -4.8929, -4.7605, -5.0027, -5.2831, -5.4133, -5.1229, -5.283, -4.9007, -5.7617, -5.4909, -5.1555, -5.6364, -4.8433, -5.6014, -4.8809, -5.8142, -5.1767, -5.5853, -5.3087, -5.2893, -5.2441, -5.2939, -5.1155, -5.3404, -5.4994, -5.5741, -6.9715, -7.5535, -6.4979, -7.4141, -7.0874, -7.7058, -6.4988, -6.804, -7.2714, -7.624, -7.436, -7.5889, -6.9622, -7.1321, -7.4352, -6.7185, -7.5826, -6.1444, -8.062, -6.37, -7.302, -7.7499, -6.2207, -7.1414, -7.9884, -8.0418, -7.6051, -6.8903, -8.1715, -7.9496, -6.4963, -6.9843, -4.2156, -3.7632, -5.0327, -5.005, -6.0125, -3.913, -4.2174, -4.2116, -3.5389, -3.9623, -5.4537, -4.9723, -4.6798, -4.2755, -4.7551, -4.8677, -4.6936, -4.5547, -4.7189, -4.7485, -4.5644, -5.0904, -5.1389, -5.114, -5.0831, -4.9051, -5.0205, -4.9142, -4.8456, -5.1373, -5.1072, -5.0537, -11.2061, -11.2081, -11.2084, -11.2099, -11.2084, -11.2099, -11.2085, -11.21, -11.2085, -11.2101, -11.2086, -11.2101, -11.2087, -11.2086, -11.2102, -11.2102, -11.2101, -11.2085, -11.2102, -11.2103, -11.2085, -11.2102, -11.2103, -11.2103, -11.2103, -11.2088, -11.2089, -11.2089, -11.2089, -11.2089, -11.2089, -11.2088, -11.2089, -11.2089, -11.2072, -11.2083, -11.209, -11.2089, -11.209, -11.209, -11.2082, -11.2078, -11.2078, -11.2077, -11.2081, -11.2078, -4.6889, -11.2072, -5.6276, -5.8905, -5.491, -5.8431, -5.495, -5.62, -5.813, -5.5595, -5.4313, -5.8805, -5.7877, -5.9421, -5.9866, -6.1514, -6.095, -5.9462, -6.1186, -6.136, -6.1781, -6.8881, -6.1834, -6.3692, -6.7395, -6.3184, -6.833, -6.695, -6.4808, -6.3408, -6.5259, -6.4553, -6.4379, -6.5547, -6.5665, -6.5264, -8.6303, -8.9806, -9.1881, -8.8308, -9.2529, -9.3201, -9.4743, -9.4765, -9.5636, -9.6571, -9.6573, -9.662, -9.6624, -9.8803, -9.8803, -9.8832, -9.7793, -9.8833, -9.9132, -9.887, -10.0146, -9.8884, -10.027, -10.0562, -10.02, -10.1691, -10.1692, -10.1364, -10.1987, -10.1879, -6.5016, -7.9807, -8.2186, -8.551, -5.2949, -7.0583, -9.1849, -7.7943, -9.0726, -7.8452, -6.7593, -6.3239, -7.6084, -7.979, -6.4755, -4.5736, -7.49, -4.4332, -7.5865, -8.1529, -7.9368, -9.0686, -6.0468, -5.1852, -5.2143, -4.9224, -6.8493, -7.6729, -4.5641, -5.8421, -5.2497, -4.4915, -4.9022, -4.1692, -5.2951, -6.0738, -4.6497, -4.7088, -4.6992, -5.4509, -5.491, -5.091, -5.5769, -5.8412, -4.9382, -4.8474, -5.6106, -5.2407, -5.6554, -5.2063, -5.454, -5.3613, -5.4931, -5.5426, -5.4199, -5.5649, -5.355, -5.5409, -8.3217, -8.3217, -8.3328, -8.3453, -8.3367, -9.1913, -9.2173, -9.3587, -9.4211, -9.4211, -9.4218, -9.1262, -8.0676, -9.6776, -9.7202, -9.7646, -9.7651, -9.7652, -9.8112, -9.8123, -9.7283, -9.5813, -9.9277, -9.9669, -10.0242, -9.9187, -9.8423, -10.1144, -10.1484, -10.1659, -6.3609, -8.3409, -6.4442, -9.5886, -5.71, -8.1676, -9.3911, -9.4186, -4.2945, -7.8262, -8.6654, -8.2797, -7.566, -8.5738, -8.3128, -8.1381, -8.1785, -8.0321, -6.5008, -5.9633, -6.627, -7.2352, -7.2904, -4.134, -5.2213, -3.8448, -7.0276, -6.5561, -4.5602, -4.3784, -6.4318, -5.5606, -6.0212, -3.9472, -5.3726, -4.6302, -6.8016, -5.3919, -6.1329, -5.9999, -5.521, -5.4265, -6.471, -6.3094, -5.538, -5.8869, -5.8773, -5.2302, -4.799, -5.8611, -5.2355, -5.39, -5.3882, -5.5488, -5.1574, -5.3717, -5.4351, -5.34, -5.498, -5.6303, -5.7219, -5.6867, -5.5577, -5.5783, -5.63, -5.655, -5.3995, -6.2842, -6.619, -6.8336, -6.8916, -7.002, -6.8657, -7.0533, -7.089, -7.1451, -7.1645, -7.1645, -7.2252, -7.3351, -7.3827, -7.4327, -7.4856, -7.5699, -7.5998, -7.6623, -7.642, -7.729, -7.729, -7.7644, -7.8005, -7.8382, -7.8382, -7.8382, -7.8774, -7.8941, -6.4662, -5.1621, -6.0591, -7.3583, -7.6778, -7.1976, -7.3616, -5.8557, -7.0242, -7.3315, -4.554, -3.7593, -4.3809, -3.8843, -7.0166, -5.67, -4.1988, -4.1069, -4.1405, -4.9389, -5.0332, -5.5976, -4.1993, -4.9162, -3.4262, -5.2731, -4.6379, -4.1743, -4.8444, -5.7323, -6.1298, -5.1726, -4.898, -4.9138, -4.4866, -4.546, -4.6587, -4.5335, -5.1272, -4.6134, -4.7567, -5.028, -5.1803, -5.0955, -5.1562, -5.1574, -7.4461, -7.8418, -8.2643, -8.5744, -8.5744, -8.5744, -8.5744, -8.6697, -8.6697, -8.7183, -8.775, -8.7961, -8.8928, -8.9205, -9.0263, -9.1804, -9.1804, -9.0529, -9.1211, -9.2858, -9.336, -9.3626, -9.3626, -9.3627, -9.3627, -7.8986, -9.3702, -9.3859, -9.4047, -9.4178, -7.0838, -8.2635, -8.264, -8.084, -6.5289, -7.8385, -5.8415, -8.2055, -8.4457, -7.6911, -7.0104, -8.1921, -4.9174, -6.7811, -4.9457, -3.8497, -6.8464, -8.034, -7.1743, -5.7467, -7.8014, -4.8199, -7.2259, -4.1734, -4.2731, -5.1862, -6.5356, -5.0294, -6.6557, -6.0002, -5.3315, -4.7489, -5.969, -6.5677, -5.2395, -4.8799, -5.8935, -5.5445, -5.6137, -6.0606, -5.6872, -5.0175, -4.9879, -4.794, -5.859, -5.2567, -5.4044, -5.5143, -5.4781, -5.3355, -5.2531, -5.4162, -5.5129, -5.6257, -5.506, -5.6072, -5.64, -5.6386, -7.4883, -7.6867, -8.2224, -8.51, -8.5671, -8.7615, -8.8355, -8.8355, -8.9157, -9.0027, -9.0979, -9.2033, -9.2033, -9.2036, -9.2082, -7.9059, -9.3212, -9.3212, -9.3213, -9.3213, -9.3213, -9.3213, -9.3329, -9.4552, -9.3753, -9.5511, -9.5225, -9.4742, -9.5805, -9.609, -8.3554, -8.1365, -8.6111, -7.7493, -6.4259, -7.852, -4.545, -3.3036, -8.4339, -8.195, -7.6204, -8.3367, -6.1044, -8.9218, -8.3575, -7.6233, -6.2279, -7.0566, -7.7326, -6.4461, -6.4664, -6.8589, -6.8166, -5.51, -7.6393, -6.8701, -5.9844, -6.0693, -4.8377, -4.3669, -4.1832, -5.0124, -6.952, -6.1525, -5.5134, -4.6245, -5.433, -5.6402, -4.9546, -4.3226, -5.247, -5.5669, -4.5658, -5.4102, -5.7639, -6.1399, -5.2616, -5.3888, -5.5264, -5.4039, -5.2666, -5.2714, -5.6463, -5.5516, -5.5627, -5.3851, -5.4622, -5.4386, -5.3794, -5.5845, -5.4682, -5.5545, -11.2601, -11.2607, -11.2589, -11.2611, -11.2594, -11.2613, -11.2592, -11.2627, -11.2613, -11.2613, -11.2595, -11.2628, -11.2614, -11.2613, -11.2614, -11.263, -11.2613, -11.2612, -11.2596, -11.263, -11.263, -11.263, -11.2631, -11.2615, -11.2616, -11.2616, -11.2615, -11.2617, -11.2618, -11.2618, -11.2618, -11.2602, -11.2605, -11.2598, -11.2599, -11.2552, -11.259, -11.2607, -11.2602, -11.2553, -11.2587, -11.2593, -11.2563, -5.0728, -5.4957, -5.2032, -5.296, -5.6114, -5.2076, -5.8279, -5.6133, -5.4875, -5.7944, -5.8244, -5.3471, -5.9351, -5.3803, -5.8264, -5.9429, -5.8591, -6.2532, -6.837, -6.1649, -6.3558, -6.1166, -6.1527, -6.6103, -6.1271, -6.169, -6.3368, -6.5904, -6.1331, -6.2069, -6.1521, -6.2825, -6.3669, -10.5798, -10.6938, -10.5091, -10.4372, -10.5902, -10.8706, -10.7688, -10.8712, -10.9878, -10.7722, -10.988, -10.9882, -10.9883, -10.9895, -10.5965, -10.4466, -10.992, -10.6043, -10.8314, -11.1231, -11.1233, -11.1234, -11.1233, -11.1234, -11.1237, -10.8817, -10.8818, -11.1243, -10.9961, -10.6884, -10.5282, -10.7818, -10.6074, -10.273, -10.2739, -7.9681, -10.6188, -8.5022, -9.9994, -7.5787, -8.5309, -9.5795, -7.2523, -8.7357, -9.9364, -10.0522, -8.0177, -8.4345, -5.8141, -7.8493, -6.7416, -7.5077, -8.3367, -7.2147, -5.9943, -8.0373, -8.4063, -6.0385, -7.932, -6.8623, -8.0046, -8.2215, -8.6016, -8.0947, -8.6932, -5.5076, -8.6612, -9.1556, -6.7791, -7.6177, -4.2368, -5.3679, -7.8136, -5.1344, -7.1545, -5.5155, -7.461, -7.5377, -6.1035, -6.9153, -4.7526, -6.6641, -4.8302, -6.0813, -3.9969, -5.9613, -6.3157, -4.9706, -5.0548, -4.7971, -6.1473, -5.663, -5.3021, -5.7348, -5.3933, -5.8941, -4.8639, -5.5301, -5.2912, -4.9809, -5.1806, -5.5918, -5.5729, -5.4211, -5.2691, -5.3137, -5.064, -5.4994, -5.3799, -5.4949, -5.457, -5.4746, -5.5288, -5.4826, -5.5561, -8.7752, -9.0903, -9.2766, -9.426, -9.1018, -9.6491, -9.9373, -9.9382, -10.0124, -10.0805, -10.0837, -9.5692, -10.1643, -9.5814, -10.2495, -10.2517, -9.9495, -10.2439, -10.3455, -10.3475, -10.3452, -10.2576, -10.4107, -10.4517, -10.4705, -10.4534, -10.3176, -9.956, -10.568, -10.5687, -8.3812, -7.1089, -6.0158, -5.3004, -8.1809, -8.353, -9.2817, -6.4201, -8.0929, -9.2228, -8.132, -8.0729, -8.2305, -6.5217, -6.4819, -6.3167, -8.0436, -6.1073, -5.2986, -6.6784, -7.5525, -7.2829, -6.8982, -7.1922, -8.5545, -4.9798, -7.5091, -5.64, -3.9847, -6.1277, -6.6124, -6.2485, -4.7086, -5.625, -4.8349, -4.3804, -5.3294, -5.9055, -5.5061, -5.8568, -5.1496, -4.8557, -5.3247, -5.3015, -4.576, -5.3229, -4.2847, -4.9362, -4.8148, -5.419, -4.6361, -5.0569, -5.3228, -5.1742, -5.1692, -5.1457, -5.365, -5.1821, -5.1024, -5.1769, -5.1883, -5.4344, -5.4146, -6.7736, -7.1876, -7.9039, -7.9041, -7.4955, -8.1753, -8.1757, -8.2439, -8.0091, -8.3835, -8.4633, -8.4633, -8.4643, -8.4648, -8.5502, -8.5506, -8.6457, -8.6457, -8.555, -8.7509, -8.751, -8.5763, -8.8685, -8.8686, -8.8687, -8.8687, -8.8694, -8.8695, -8.87, -9.0032, -8.4451, -7.6501, -7.7309, -8.2989, -7.5025, -7.06, -8.2193, -7.26, -6.6748, -8.0999, -6.8673, -5.7576, -7.3734, -6.0038, -5.8772, -6.8136, -5.0037, -4.5873, -5.4616, -4.7186, -4.6195, -6.6931, -6.359, -6.5284, -5.0048, -6.0563, -3.941, -4.9922, -4.6936, -5.1159, -4.9042, -6.4466, -4.6854, -4.1134, -5.5621, -4.5412, -5.2816, -4.9261, -5.5987, -5.0336, -4.9234, -5.519, -5.0442, -5.5939, -4.9614, -5.208, -5.222, -5.1785, -5.3532, -5.2078, -5.1539, -5.2682, -5.4754, -5.4756, -5.4039, -5.4554, -4.1237, -11.2018, -11.2008, -11.2037, -11.2022, -11.2023, -11.2038, -11.2039, -11.2022, -11.2024, -11.2023, -11.204, -11.204, -11.204, -11.2025, -11.204, -11.2025, -11.204, -11.2041, -11.2041, -11.2041, -11.2041, -11.2041, -11.2041, -11.2026, -11.2042, -11.2041, -11.2041, -11.2041, -11.2041, -11.2027, -11.2027, -11.2029, -11.2016, -11.2027, -11.2026, -11.2029, -11.2029, -11.1954, -11.2028, -11.203, -5.352, -11.2026, -11.2027, -11.2004, -11.2026, -11.197, -11.2022, -5.0591, -5.9137, -5.118, -5.9372, -5.4816, -5.661, -5.8038, -5.1691, -5.3024, -5.6281, -5.8986, -5.729, -5.9733, -6.3516, -6.2181, -6.1244, -6.6181, -6.0754, -6.3794, -6.4093, -7.0281, -7.0324, -6.1975, -6.3377, -6.8282, -6.772, -6.6764, -6.4152, -6.5734, -6.5226, -6.5976, -6.6128, -7.5161, -8.4374, -9.4073, -9.0397, -9.7501, -9.2374, -9.5874, -9.899, -10.0077, -10.0681, -10.0682, -10.1329, -10.133, -10.0722, -10.0124, -9.9032, -10.1383, -10.3568, -9.7245, -10.4442, -10.4442, -10.445, -10.3622, -10.4504, -10.5287, -10.5399, -10.5399, -10.2124, -10.544, -10.5463, -7.5574, -10.1509, -10.0312, -7.3669, -5.1349, -9.5858, -4.4968, -6.0795, -9.6693, -9.9011, -8.9587, -7.7384, -9.3836, -8.3927, -9.4686, -8.7432, -8.3793, -7.5619, -7.0836, -5.6787, -4.8352, -4.1014, -7.9502, -7.7551, -4.8331, -8.0801, -6.938, -5.36, -6.8891, -4.8451, -6.1714, -5.1937, -4.2252, -5.556, -6.6853, -4.8414, -4.2299, -4.6413, -6.2586, -4.7509, -5.3028, -6.9201, -5.4861, -5.0959, -4.8488, -4.5249, -5.6435, -6.073, -5.9953, -5.9343, -5.978, -6.0291, -5.2621, -5.8769, -5.1997, -5.2452, -5.4044, -5.1903, -5.4575, -4.946, -5.4326, -5.4758, -5.4494, -5.4302, -11.2776, -11.2795, -11.2796, -11.2783, -11.28, -11.2801, -11.2798, -11.278, -11.28, -11.2778, -11.2802, -11.2786, -11.2817, -11.2805, -11.2787, -11.282, -11.2804, -11.282, -11.282, -11.2715, -11.282, -11.2821, -11.2821, -11.2806, -11.2821, -11.282, -11.2822, -11.2787, -11.2805, -11.2807, -11.2804, -11.2806, -11.2808, -11.2807, -11.2793, -11.2783, -11.2809, -11.2806, -11.2787, -11.2786, -11.2792, -11.2774, -11.2793, -11.28, -11.2736, -4.6838, -11.2796, -11.2794, -5.2855, -11.2795, -5.0619, -5.8432, -5.4493, -5.4941, -5.7348, -5.4505, -5.215, -5.8647, -5.7983, -5.8951, -6.2266, -5.9973, -6.0983, -5.9278, -6.2239, -6.1641, -6.495, -5.9984, -6.082, -6.1667, -6.0641, -6.1972, -6.3407, -6.2629, -6.3457, -6.5289, -6.488, -6.6224, -6.2949, -6.3903, -6.2326, -6.4379, -9.0154, -8.9735, -9.2415, -9.529, -9.7309, -9.5661, -10.0491, -9.6899, -9.8287, -10.1149, -9.2229, -10.3378, -9.6951, -10.3564, -9.7036, -9.7497, -9.5768, -9.8884, -10.5223, -9.0364, -10.1228, -9.844, -10.4302, -10.3425, -10.6221, -10.524, -10.529, -9.7965, -10.1283, -10.6347, -9.4801, -9.7517, -8.4694, -8.9575, -9.6844, -9.3831, -8.5908, -7.7748, -6.1165, -6.5901, -8.625, -9.525, -7.8818, -7.1666, -5.9877, -7.1051, -9.0864, -6.9223, -6.1811, -4.9428, -4.9211, -8.9967, -6.2726, -8.1789, -6.1065, -8.5095, -7.5897, -5.2787, -4.2664, -7.9537, -5.1526, -8.4635, -5.4215, -3.6233, -4.4156, -6.3179, -4.915, -6.3702, -5.8756, -6.5385, -5.1431, -6.6789, -4.9697, -5.6076, -5.0094, -5.3843, -6.5827, -5.8347, -5.4782, -5.4018, -4.7064, -5.7767, -4.9153, -5.444, -5.3484, -5.1218, -4.9964, -5.1921, -5.3019, -5.1891, -5.476, -5.3278, -5.133, -5.2034, -5.3327, -5.2064, -5.3561, -5.3368, -5.4187, -8.4522, -8.9514, -9.0768, -9.1455, -9.1539, -9.2214, -9.1492, -9.3001, -9.3022, -9.3008, -9.3094, -9.3882, -9.3912, -9.4825, -9.4825, -9.4821, -9.4853, -9.4846, -9.5051, -9.4286, -9.5886, -9.5911, -9.5912, -9.5912, -9.5905, -9.7095, -9.7072, -9.7092, -9.7743, -9.83, -8.5692, -9.0676, -8.4602, -8.8514, -9.1937, -7.3044, -7.5133, -5.2032, -5.152, -6.7713, -8.1512, -4.1009, -7.2585, -8.6096, -8.8931, -8.759, -8.0423, -7.8977, -6.8343, -5.4851, -8.6676, -8.9525, -6.0261, -4.9786, -7.7808, -4.5051, -6.3398, -5.5531, -6.9027, -6.9373, -6.0424, -5.7185, -5.9494, -6.3887, -5.5916, -4.9997, -5.0702, -4.595, -5.3282, -4.9214, -4.6932, -4.3886, -5.5846, -5.4494, -5.4405, -5.2035, -5.305, -5.1637, -5.4949, -5.6758, -5.1166, -5.1428, -5.3222, -5.3865, -5.5559, -5.3748, -5.3649, -5.4189, -11.2303, -11.2244, -11.2339, -11.2342, -11.2344, -11.2286, -11.2348, -11.2364, -11.2349, -11.2336, -11.2349, -11.2365, -11.2351, -11.2365, -11.2351, -11.2366, -11.2366, -11.2366, -11.2366, -11.2366, -11.2366, -11.2366, -11.2366, -11.2351, -11.2367, -11.2367, -11.2346, -11.2353, -11.2367, -11.2353, -11.2337, -11.2335, -11.2352, -11.2349, -11.2353, -11.2351, -11.235, -11.234, -11.2342, -11.2353, -11.2355, -11.2343, -11.2351, -11.2349, -11.2342, -11.2329, -11.2345, -11.2313, -11.2343, -11.2333, -5.4882, -5.1857, -4.8605, -11.2303, -5.7144, -5.685, -5.4618, -5.7006, -5.4697, -6.5302, -5.6108, -5.7669, -5.3695, -5.8972, -5.8977, -5.762, -6.0449, -6.1056, -6.0322, -6.1834, -6.4382, -6.447, -6.211, -6.1501, -6.4029, -6.35, -6.2547, -6.1739, -6.7482, -6.467, -6.7436, -6.6616, -6.4151, -6.3193, -6.3351, -6.4073, -6.4328, -11.1697, -11.1835, -11.1837, -11.1837, -11.1838, -11.1839, -11.1839, -11.1839, -11.184, -11.184, -11.184, -11.184, -11.184, -11.1827, -11.1841, -11.1841, -11.1841, -11.1841, -11.1841, -11.1841, -11.1841, -11.1841, -11.1841, -11.1841, -11.1842, -11.1842, -11.1842, -11.1842, -11.1842, -11.1842, -11.1829, -11.1829, -11.1828, -11.1829, -11.1829, -11.1818, -11.1829, -11.1829, -11.183, -11.1828, -11.1831, -11.1831, -11.183, -11.1828, -11.1829, -11.1821, -11.1788, -11.1831, -4.8172, -11.18, -11.183, -11.1777, -11.1808, -11.1821, -11.1822, -5.071, -5.3094, -5.6257, -5.6836, -5.6102, -6.3859, -5.7381, -6.0322, -6.1669, -5.9852, -6.1401, -6.3119, -6.5078, -6.1938, -6.0998, -6.221, -6.2487, -6.1806, -7.0193, -6.4799, -6.4158, -6.8704, -6.4491, -6.3412, -6.4266, -6.7068, -6.4925, -6.4217, -6.5134, -6.3022, -6.5619, -6.5388, -6.0894, -6.484, -7.09, -7.2076, -7.6775, -7.9002, -7.9003, -8.1877, -8.1877, -8.3941, -8.3942, -8.3815, -8.5926, -8.5928, -8.5927, -8.6499, -8.6736, -8.6937, -8.6939, -8.6943, -8.6833, -8.6909, -8.8802, -8.9414, -8.9513, -8.9511, -8.9537, -8.9537, -8.9615, -9.0726, -7.7464, -7.6178, -7.8988, -8.3314, -8.2782, -8.5553, -8.2183, -6.7526, -5.2019, -5.7777, -7.6805, -5.1038, -7.5543, -3.6877, -6.8413, -8.1552, -4.7381, -3.9969, -4.7398, -6.3132, -5.7115, -4.9119, -4.6951, -4.9807, -4.2953, -5.2207, -5.3944, -6.2638, -5.6857, -5.0828, -5.1087, -5.2092, -5.5402, -4.9493, -5.421, -5.1622, -5.1244, -5.294, -5.68, -5.5742, -5.4582, -5.3187, -5.3832, -5.5972, -5.5453, -5.4709, -5.5823, -5.5715, -5.5578, -11.2727, -11.2726, -11.2727, -11.2724, -11.275, -11.273, -11.2733, -11.2753, -11.2753, -11.2751, -11.2753, -11.2754, -11.2754, -11.2752, -11.2754, -11.2752, -11.2755, -11.2754, -11.2754, -11.2755, -11.2756, -11.2756, -11.2755, -11.2756, -11.2757, -11.2756, -11.2757, -11.2719, -11.2757, -11.2757, -11.2757, -11.2739, -11.274, -11.2744, -11.2733, -11.2737, -11.2723, -11.2741, -11.2742, -11.2739, -11.274, -11.2743, -11.2738, -11.2741, -11.2741, -4.5856, -11.2739, -11.2718, -11.274, -11.2737, -11.2704, -5.2491, -5.4938, -5.4146, -5.4197, -5.8992, -5.2449, -5.6156, -5.7677, -5.2414, -5.8658, -5.6011, -5.8181, -6.2983, -6.0313, -6.0359, -6.0687, -6.0228, -6.1037, -6.0275, -6.3313, -6.1222, -6.2355, -6.8788, -6.249, -6.0495, -6.0141, -6.5403, -6.3576, -6.4947, -6.2309, -6.341, -6.224, -3.2941, -2.3286, -4.641, -11.3337, -11.3338, -11.3338, -11.331, -11.3338, -11.3338, -11.3339, -11.3339, -11.3339, -11.3339, -11.3339, -11.3339, -11.334, -11.334, -11.334, -11.334, -11.3341, -11.334, -11.334, -11.3341, -11.3326, -11.3341, -11.3341, -11.3341, -11.3341, -11.3341, -11.3341, -4.3749, -11.3328, -11.3329, -11.3314, -11.3314, -11.333, -11.3319, -11.3319, -4.5501, -11.3321, -11.3331, -4.7062, -11.3332, -11.3322, -5.184, -11.328, -11.3323, -4.9662, -5.6017, -6.1911, -5.5096, -5.7607, -6.7937, -5.7581, -7.0015, -11.3298, -5.5582, -6.181, -6.377, -6.2321, -6.0779, -6.2718, -6.4464, -6.5144, -6.4129, -6.3415, -6.9456, -6.5523, -6.3668, -6.7542, -7.1542, -6.6565, -6.7479, -6.7526, -11.2427, -11.2415, -11.2431, -11.2431, -11.2418, -11.2433, -11.2433, -11.2433, -11.2433, -11.2417, -11.2416, -11.2434, -11.2434, -11.2434, -11.2435, -11.2435, -11.2435, -11.2435, -11.2435, -11.2436, -11.2436, -11.2436, -11.2422, -11.2437, -11.2437, -11.2422, -11.2421, -11.2437, -11.2437, -11.2437, -11.2407, -11.2408, -11.2408, -11.2423, -11.2423, -11.2404, -11.2425, -11.2415, -11.2423, -11.2411, -4.3331, -11.2425, -11.2411, -11.2369, -11.2413, -11.2412, -5.2166, -11.2373, -11.2403, -11.2411, -11.2415, -5.3941, -5.8754, -5.1121, -5.5766, -5.2759, -5.6016, -6.2249, -6.0706, -5.9882, -6.0278, -6.7556, -6.0847, -6.7382, -6.1331, -6.4986, -6.0302, -6.0963, -6.2273, -5.9069, -6.4143, -6.4055, -6.0296, -6.6682, -6.5471, -6.3862, -6.1801, -6.3377, -6.2996, -6.3589, -6.3776, -6.3973, -6.4856, -6.4335, -8.0743, -8.4569, -8.4591, -8.5697, -6.9442, -8.6628, -8.6951, -8.8365, -8.4758, -9.0502, -9.0991, -9.1504, -9.1544, -9.1012, -8.0834, -9.2063, -9.2692, -9.1077, -9.2633, -9.3224, -9.2696, -8.9284, -9.3246, -9.3274, -9.456, -9.4579, -9.5302, -9.477, -9.4588, -9.5564, -6.6231, -9.1456, -7.1112, -4.6048, -8.2494, -8.4582, -4.0973, -6.5204, -7.6873, -7.1035, -6.2102, -6.2947, -7.2224, -6.2505, -6.5583, -5.0197, -4.769, -4.4363, -8.1572, -7.9104, -5.5643, -5.2026, -5.7461, -7.0389, -4.6093, -4.8707, -5.5171, -6.3501, -4.9522, -5.5774, -4.6569, -5.0046, -6.7505, -6.329, -4.5018, -4.6589, -5.0519, -5.1509, -5.1701, -5.2872, -5.0667, -5.3157, -5.4615, -5.2908, -5.2567, -5.4129, -5.3723, -5.3898, -5.316, -5.423, -5.3707, -5.446, -5.1841, -11.325, -11.3592, -11.3625, -11.3626, -11.3633, -11.3572, -11.3586, -11.3622, -11.366, -11.3642, -11.3627, -11.365, -11.3631, -11.3611, -11.363, -11.3643, -11.3648, -11.3672, -11.3653, -11.3674, -11.3676, -11.3662, -11.3682, -11.3682, -11.3684, -11.3684, -11.3684, -11.3684, -11.3654, -11.3634, -11.3632, -11.3648, -11.3669, -11.3644, -11.364, -11.3616, -5.1979, -5.0198, -4.745, -4.9503, -5.5743, -5.8639, -6.1982, -5.7669, -5.851, -5.7971, -5.6513, -5.8088, -5.7664, -5.6384, -5.6962, -6.663, -6.1936, -5.8293, -5.6639, -5.9411, -6.1478, -6.4471, -5.687, -6.2889, -6.0332, -6.3124, -6.124, -6.3296, -6.6333, -5.9592, -6.0467, -6.0948, -6.2471, -6.2342, -6.2648], \"loglift\": [30.0, 29.0, 28.0, 27.0, 26.0, 25.0, 24.0, 23.0, 22.0, 21.0, 20.0, 19.0, 18.0, 17.0, 16.0, 15.0, 14.0, 13.0, 12.0, 11.0, 10.0, 9.0, 8.0, 7.0, 6.0, 5.0, 4.0, 3.0, 2.0, 1.0, 5.1503, 5.1483, 5.1471, 5.1469, 5.1462, 5.146, 5.146, 5.1459, 5.1459, 5.1458, 5.1457, 5.1457, 5.1457, 5.1456, 5.1456, 5.1456, 5.1455, 5.1455, 5.1455, 5.1454, 5.1454, 5.1454, 5.1454, 5.1453, 5.1453, 5.1453, 5.1453, 5.1453, 5.1452, 5.1452, 5.1452, 5.1451, 5.1452, 5.1452, 5.1452, 5.1449, 5.1447, 5.1443, 5.1444, 0.9856, 5.1444, 5.1426, 5.1411, 5.1435, -0.3415, 0.1211, -0.3301, -0.6904, -0.1345, 0.1182, -0.5276, -0.5903, -0.4171, -0.2534, -0.3741, -0.3395, -0.4946, 1.2534, -0.5254, -0.6286, -0.616, -0.4924, -0.6372, -0.2502, -0.884, -0.8203, -0.5489, -0.0786, -0.7766, -0.941, -0.4448, -0.1777, -0.7163, -0.4154, -0.8805, -0.9073, -1.2668, -1.1828, -1.0273, -1.2365, 2.1911, 2.1892, 2.1887, 2.1868, 2.1852, 2.1838, 2.1835, 2.1834, 2.1816, 2.1781, 2.1763, 2.1748, 2.1742, 2.1739, 2.1727, 2.1713, 2.1712, 2.1708, 2.1707, 2.1704, 2.1703, 2.169, 2.1687, 2.1678, 2.1674, 2.1671, 2.1668, 2.1663, 2.1659, 2.1636, 2.162, 2.1358, 2.1576, 2.1409, 2.146, 2.094, 2.0022, 2.0766, 2.128, 2.0198, 2.0571, 1.2675, 1.7714, 2.0767, 1.1342, 1.9822, 1.7619, 1.0225, 1.4922, 0.7901, 1.9305, 0.8576, 1.5122, 0.8799, 1.0109, 0.8392, 0.937, 1.0226, 0.9658, 0.5531, 0.9228, 0.9211, 0.644, 0.7835, 0.936, 0.8271, 0.8196, 1.0348, 0.9716, 0.6091, 0.5755, 0.2886, 0.4226, 0.2222, 0.2824, 0.3919, -0.0906, 0.2917, 0.3358, -0.0248, 0.0884, -0.1595, 0.0421, 0.0811, -0.4699, -0.1285, 0.4322, -0.7223, -0.1804, 8.6702, 7.8279, 7.2088, 5.0721, 5.0329, 5.0301, 5.0294, 5.0287, 5.0284, 5.0283, 5.0281, 5.0281, 5.0281, 5.028, 5.0279, 5.0279, 5.0279, 5.0279, 5.0278, 5.0278, 5.0278, 5.0277, 5.0277, 5.0277, 5.0276, 5.0276, 5.0276, 5.0276, 5.0276, 5.0275, 5.0274, 5.0273, 5.0273, 5.0272, 5.0272, 5.0267, 5.0268, 5.0271, 5.0263, 5.0262, 1.7735, 5.0272, 0.0145, 5.0269, 0.2162, 0.3779, 0.035, -0.2239, -0.2409, -0.2012, -0.1529, -0.2404, -0.3217, -0.4497, -0.1126, -0.1862, -0.267, -0.6287, -0.391, 0.0245, -0.334, -0.0254, -1.0657, -0.215, 0.2115, 1.1719, -0.1506, 0.002, -0.6992, -0.1974, -0.8185, -0.7514, -0.3746, -0.9298, -0.8309, -0.9457, -0.7806, 4.9778, 4.9741, 4.965, 4.9626, 4.9619, 4.9566, 4.9558, 4.9558, 4.9554, 4.9552, 4.9544, 4.9541, 4.9539, 4.9537, 4.9536, 4.9536, 4.9534, 4.9533, 4.9533, 4.953, 4.9523, 4.9523, 4.952, 4.952, 4.9519, 4.9518, 4.9517, 4.9517, 4.9516, 4.9516, 4.9516, 4.9516, 4.9502, 4.9494, 4.9509, 1.3938, 4.9505, 4.9491, 0.2556, 0.026, -0.3796, -0.3091, 0.0216, -0.148, -0.178, -0.2729, -0.3456, -0.0578, -0.1449, 0.1377, -0.2193, -0.4515, 0.0463, -0.0841, 0.0875, -0.0957, -0.3434, -0.3972, -0.324, 0.1243, -0.7333, -0.038, 0.1813, -0.6906, -0.3956, -0.1257, -0.2802, -0.1585, -1.2773, -0.5978, -0.8096, -0.6067, -0.7956, -0.7845, -0.9108, 5.1324, 5.1318, 5.1318, 5.1317, 5.1316, 5.1316, 5.1315, 5.1315, 5.1315, 5.1315, 5.1314, 5.1313, 5.1313, 5.1313, 5.1313, 5.1313, 5.1312, 5.1312, 5.1312, 5.1312, 5.1312, 5.1312, 5.1312, 5.1312, 5.1312, 5.1312, 5.1312, 5.1312, 5.1312, 5.1311, 5.1311, 5.1311, 5.1311, 5.131, 5.131, 5.1309, 5.1308, 5.1308, 5.1308, 5.1309, 5.1308, 5.131, 5.1286, 5.1306, 5.1292, 5.1306, 5.1305, 5.1301, 0.8368, -0.2695, 0.0933, 5.1276, -0.1881, -0.2826, 0.0441, -0.6784, -0.3053, -0.5739, -0.603, -0.0728, -0.7314, -0.8136, -0.6141, -0.557, -0.4472, -0.4917, -0.6336, -0.5696, -0.3461, -0.6736, -0.4672, -0.1961, -0.7423, -0.8454, -0.718, -0.4511, -0.5357, -0.0164, -0.1182, -0.9038, -1.2697, -1.1125, -1.1032, -0.8345, -1.1303, 2.8137, 2.8107, 2.8074, 2.8073, 2.8068, 2.8065, 2.805, 2.804, 2.803, 2.8017, 2.8017, 2.8009, 2.8006, 2.799, 2.7981, 2.7977, 2.7971, 2.7964, 2.7961, 2.7959, 2.7945, 2.7937, 2.7933, 2.7917, 2.7905, 2.7902, 2.79, 2.7898, 2.7894, 2.7889, 2.7868, 2.7564, 2.7757, 2.772, 2.7836, 2.6294, 2.6321, 2.7474, 2.671, 2.758, 2.616, 2.5164, 2.2662, 1.7464, 2.3041, 1.4032, 2.626, 1.0301, 0.7413, 1.0148, 2.5594, 1.1634, 0.7293, 0.367, 0.8492, 1.7769, 0.7115, 0.9281, 0.5504, 1.1599, 0.5197, 0.4624, 0.5936, 0.9001, 0.9806, 0.9067, 1.0631, 0.7194, 0.6245, 0.2096, 0.4408, 0.6033, 0.8515, 0.6784, 0.0898, 0.396, 0.4461, 0.279, -0.1029, 0.0787, -0.0802, 0.1495, 0.2619, 3.2138, 3.2056, 3.1973, 3.196, 3.1938, 3.1905, 3.1899, 3.1882, 3.1881, 3.1866, 3.1854, 3.1844, 3.184, 3.1833, 3.1822, 3.1822, 3.1822, 3.1821, 3.1821, 3.182, 3.182, 3.1817, 3.1817, 3.1817, 3.1811, 3.1811, 3.1806, 3.1792, 3.1788, 3.1785, 3.1776, 3.1738, 3.1106, 3.1087, 2.8819, 2.4827, 3.0637, 1.913, 3.1541, 2.8872, 3.0287, 2.1347, 3.01, 2.6295, 3.1055, 1.8791, 2.4744, 2.2035, 1.8146, 1.589, 1.3018, 2.3103, 1.4781, 2.334, 1.4348, 1.5363, 1.8404, 1.609, 1.5146, 2.6407, 1.6556, 0.954, 0.548, 1.3444, 1.1629, 1.072, 1.1224, 1.1942, 1.0539, 1.5571, 0.9285, 0.6481, 0.2942, 0.6084, 0.925, 0.4687, 0.2579, 0.5129, 0.6275, 0.3573, 0.4145, 0.1608, 0.4004, 0.2311, 0.4681, 0.1745, 0.1308, 0.6574, 0.1198, 0.4893, 0.0274, -0.0925, 0.3314, -0.0006, 3.9128, 3.9108, 3.9097, 3.8985, 3.8966, 3.8942, 3.8928, 3.8897, 3.8895, 3.886, 3.8765, 3.8754, 3.8622, 3.8621, 3.862, 3.862, 3.8619, 3.8617, 3.8615, 3.8549, 3.8537, 3.8506, 3.8495, 3.8427, 3.8386, 3.8385, 3.8384, 3.8372, 3.8344, 3.831, 3.6147, 3.7498, 3.5528, 3.7347, 3.5132, 3.2562, 3.3603, 3.5061, 3.6677, 3.6047, 3.4196, 3.2606, 3.4109, 2.9715, 3.7381, 3.6968, 3.081, 3.4106, 2.1361, 2.5059, 3.3669, 2.7394, 2.3266, 1.8792, 2.1487, 1.415, 2.8553, 2.4865, 1.9021, 2.0305, 1.4392, 0.6435, 2.0591, 0.9366, 2.543, 0.8245, 0.6133, 1.1234, 0.6224, 0.469, 0.8515, 0.4414, 0.8326, -0.2583, 0.5458, 0.0895, -0.1744, -0.0191, 0.3623, 0.6219, -0.1766, 0.1951, -0.9031, -0.0036, 0.0218, 6.5572, 6.5127, 6.5047, 6.463, 6.4494, 6.361, 6.1111, 6.0511, 6.0028, 5.9719, 5.5833, 5.5395, 5.4784, 5.4689, 5.4321, 5.4216, 5.2312, 5.2029, 5.2003, 5.0592, 5.0038, 4.9929, 4.9658, 4.9587, 4.9529, 4.8639, 4.8301, 4.8088, 4.7976, 4.6865, 4.6865, 4.6385, 4.0975, 3.9886, 4.0135, 4.0106, 4.246, 3.5735, 3.0829, 3.0176, 3.4941, 1.3944, 2.0694, 1.2538, 3.5051, 0.3698, 2.0564, 1.9157, 0.5047, 0.6635, 1.0686, 1.0015, 0.0216, 0.2153, 0.8161, 0.8181, 0.2334, 1.1077, 0.8671, 0.264, 0.0188, -0.8536, 0.1171, -0.0179, 0.5367, 1.136, 0.5747, 2.6745, 2.6722, 2.6714, 2.6676, 2.6644, 2.6638, 2.6638, 2.6628, 2.6624, 2.661, 2.6608, 2.6593, 2.6585, 2.6584, 2.6584, 2.6584, 2.6576, 2.6576, 2.6571, 2.6571, 2.657, 2.6563, 2.6556, 2.6547, 2.6547, 2.6534, 2.6518, 2.6518, 2.6511, 2.6508, 2.6388, 2.597, 2.617, 2.5691, 2.5927, 2.5994, 2.6118, 2.5925, 2.4035, 2.6015, 2.4901, 2.598, 2.4069, 2.6149, 2.5946, 2.4963, 2.4945, 2.5406, 2.4239, 2.1643, 2.3936, 1.1302, 1.9888, 0.8666, 1.2201, 1.2702, 1.2578, 1.6856, 1.4338, 0.7382, 1.8162, 0.5216, 0.1491, 0.4847, 1.2712, 0.8083, 0.3255, 0.2607, 0.5121, 0.602, 0.1855, 0.4062, 0.2745, 0.229, 0.2447, -0.02, 0.3146, 0.0448, 0.1974, 0.2127, 0.672, -0.3748, 0.1666, 0.3008, -0.1692, 0.3328, -0.0613, -0.2414, 3.1167, 3.1152, 3.1129, 3.1123, 3.1118, 3.1111, 3.11, 3.1093, 3.1071, 3.1065, 3.1053, 3.1045, 3.1037, 3.1037, 3.1019, 3.0995, 3.0994, 3.098, 3.098, 3.0964, 3.0963, 3.0954, 3.0943, 3.0922, 3.0921, 3.0921, 3.0921, 3.0921, 3.0916, 3.0905, 2.9973, 2.874, 2.949, 2.6568, 2.9099, 1.8419, 1.312, 1.97, 1.9309, 1.6565, 1.255, 1.58, 1.0546, 1.4863, 2.408, 0.8288, 1.7675, 1.7489, 1.2754, 1.3352, 2.2321, 0.6865, 2.2839, 0.8108, 0.6379, 0.6965, 0.8343, 0.8942, 0.7058, 0.7991, 0.5441, 1.0847, 0.8935, 0.6433, 0.9923, 0.375, 0.9514, 0.2478, 1.0981, 0.3704, 0.8188, 0.3937, 0.3256, 0.1473, 0.1983, -0.2422, -0.8174, 0.0339, 0.5243, 5.7215, 5.7082, 5.7014, 5.6994, 5.4829, 5.4747, 5.4471, 5.3866, 5.3415, 5.3076, 5.276, 5.1476, 5.1091, 5.0801, 5.022, 5.0, 4.8779, 4.8506, 4.7679, 4.7568, 4.7553, 4.7199, 4.7074, 4.694, 4.6066, 4.4727, 4.3879, 4.3879, 4.2841, 4.2416, 4.1092, 4.1073, 3.6752, 3.5713, 3.205, 3.1244, 3.5402, 2.2043, 2.3875, 2.1925, 0.7876, 1.0193, 2.5237, 1.8855, 1.4843, 0.9428, 1.5216, 1.6223, 1.2389, 0.9376, 0.9848, 0.9507, 0.5643, 1.4854, 1.5816, 1.4149, 1.2418, 0.6421, 0.8081, 0.4842, 0.1968, 1.1001, 0.9749, 0.5191, 5.1683, 5.168, 5.1679, 5.1678, 5.1678, 5.1678, 5.1677, 5.1677, 5.1676, 5.1676, 5.1676, 5.1676, 5.1675, 5.1675, 5.1675, 5.1675, 5.1675, 5.1675, 5.1675, 5.1674, 5.1674, 5.1674, 5.1674, 5.1674, 5.1674, 5.1673, 5.1673, 5.1673, 5.1673, 5.1673, 5.1673, 5.1673, 5.1672, 5.1672, 5.1669, 5.1671, 5.1672, 5.1671, 5.1672, 5.1672, 5.1667, 5.1665, 5.1664, 5.1663, 5.1665, 5.1662, -0.3624, 5.1657, -0.1405, 0.0181, -0.4487, -0.1338, -0.5134, -0.4695, -0.3766, -0.6863, -0.9083, -0.4822, -0.659, -0.5596, -0.5892, -0.449, -0.5262, -0.707, -0.5714, -0.6437, -0.6448, 0.0042, -0.9651, -0.8042, -0.3552, -1.0045, -0.3838, -0.6129, -0.9079, -1.1001, -0.8848, -1.0104, -1.0465, -0.9819, -0.9516, -1.2503, 3.2243, 3.2206, 3.2164, 3.2163, 3.215, 3.2148, 3.2113, 3.2101, 3.208, 3.2065, 3.2065, 3.2061, 3.2057, 3.1993, 3.1993, 3.1991, 3.1988, 3.1978, 3.1977, 3.1949, 3.1942, 3.1939, 3.1937, 3.1924, 3.1894, 3.1875, 3.1873, 3.1861, 3.1858, 3.1833, 3.1792, 3.1699, 3.1712, 3.1731, 3.1098, 3.1367, 3.1764, 3.1275, 3.166, 3.0606, 2.9682, 2.8218, 2.9359, 2.8687, 2.5724, 2.2026, 2.7354, 2.0568, 2.7087, 2.845, 2.7685, 3.0381, 1.9208, 1.5103, 1.5027, 1.251, 2.0806, 2.46, 0.8923, 1.471, 1.0865, 0.6372, 0.8202, 0.3539, 1.0428, 1.5279, 0.5686, 0.605, 0.5415, 1.0834, 1.0797, 0.7505, 1.1245, 1.2428, 0.301, 0.1949, 0.8443, 0.2464, 0.8974, -0.0557, 0.4484, 0.1721, 0.4155, 0.5417, 0.1489, 0.5054, -1.0285, 0.1002, 2.3845, 2.3845, 2.3843, 2.3831, 2.3822, 2.3799, 2.3797, 2.3784, 2.3778, 2.3778, 2.3778, 2.3773, 2.3767, 2.3749, 2.3744, 2.3738, 2.3737, 2.3737, 2.3731, 2.3729, 2.3728, 2.3728, 2.3706, 2.3705, 2.3696, 2.3692, 2.3683, 2.3675, 2.3673, 2.3667, 2.3574, 2.3571, 2.3377, 2.3647, 2.2745, 2.3143, 2.3514, 2.3515, 2.1125, 2.2807, 2.3157, 2.2888, 2.2379, 2.2971, 2.275, 2.1934, 2.1878, 2.1301, 1.873, 1.7709, 1.8867, 1.9667, 1.9726, 1.2574, 1.3836, 1.0284, 1.8345, 1.6599, 1.0126, 0.9354, 1.6049, 1.2218, 1.3637, 0.3793, 0.9873, 0.6104, 1.5295, 0.7212, 1.1176, 1.0235, 0.7394, 0.6556, 1.2971, 1.1593, 0.5604, 0.8086, 0.7797, 0.1682, -0.276, 0.7443, 0.104, 0.1749, 0.1589, 0.3598, -0.1758, 0.1155, -0.0527, -0.2977, -0.0057, 0.2722, 0.3625, 0.2457, -0.3185, -0.4496, -0.3538, -0.5045, 4.149, 4.1475, 4.1465, 4.1457, 4.1454, 4.1448, 4.1447, 4.1446, 4.1444, 4.1441, 4.1439, 4.1439, 4.1435, 4.1428, 4.1424, 4.1421, 4.1416, 4.1409, 4.1406, 4.14, 4.1394, 4.1393, 4.1393, 4.1389, 4.1385, 4.1381, 4.1381, 4.1381, 4.1376, 4.1372, 4.1221, 4.0787, 4.0923, 4.1248, 4.1332, 4.091, 4.1014, 3.9361, 4.0289, 4.0701, 3.4727, 3.2236, 3.35, 3.223, 3.9849, 3.5561, 3.0449, 2.7481, 2.6595, 2.9885, 2.9844, 3.2542, 2.391, 2.8007, 1.7922, 2.9296, 2.4771, 1.7876, 2.3106, 3.0101, 3.2779, 2.1406, 1.8015, 1.7757, 1.2228, 1.2753, 1.1673, 0.9028, 1.8767, 0.4289, 0.5195, 0.8007, 1.4048, 0.4733, 1.0311, 0.9409, 4.244, 4.2392, 4.2328, 4.2256, 4.2256, 4.2256, 4.2256, 4.2229, 4.2229, 4.2213, 4.2196, 4.2176, 4.2155, 4.2143, 4.2102, 4.2033, 4.2033, 4.1999, 4.1983, 4.1964, 4.195, 4.1937, 4.1937, 4.1937, 4.1937, 4.1934, 4.1932, 4.1923, 4.191, 4.1902, 4.1696, 4.1248, 4.1132, 4.0901, 3.9473, 4.0233, 3.7476, 4.0251, 4.0554, 3.9206, 3.7717, 3.9822, 2.9917, 3.5283, 2.9323, 2.4882, 3.5036, 3.8697, 3.4553, 2.659, 3.6792, 1.8058, 3.3203, 1.2629, 1.1243, 1.5093, 2.6053, 1.1134, 2.6089, 2.0007, 1.2764, 0.6425, 1.8374, 2.4383, 0.9339, 0.3385, 1.5496, 1.0842, 1.1663, 1.7366, 1.1963, 0.2217, 0.1408, -0.271, 1.4151, 0.1998, 0.4406, 0.5514, 0.4243, 0.0629, -0.2108, 0.1567, 0.3952, 0.3372, -0.6327, -0.1201, -0.0712, -0.1463, 3.8028, 3.8016, 3.7963, 3.7923, 3.7914, 3.7875, 3.786, 3.786, 3.784, 3.7819, 3.7793, 3.7761, 3.776, 3.7758, 3.7754, 3.7731, 3.772, 3.772, 3.772, 3.7719, 3.7719, 3.7719, 3.7707, 3.7665, 3.763, 3.7626, 3.7626, 3.7621, 3.7611, 3.7601, 3.7522, 3.734, 3.7348, 3.7007, 3.4938, 3.581, 3.063, 2.6339, 3.6013, 3.5198, 3.3511, 3.5126, 2.8674, 3.6559, 3.4872, 3.2458, 2.7432, 3.0214, 3.2538, 2.7583, 2.7355, 2.8494, 2.8269, 2.1826, 3.1605, 2.7, 2.1835, 2.2302, 1.3051, 0.9093, 0.6901, 1.276, 2.6517, 2.0037, 1.4201, 0.526, 1.2231, 1.3435, 0.6603, 0.0039, 0.8233, 1.1359, -0.0427, 0.9497, 1.3201, 1.7436, 0.4376, 0.6008, 0.7811, 0.5285, 0.1898, 0.111, 0.888, 0.6418, 0.5803, -0.0713, 0.1789, 0.0537, -0.3371, 0.5139, -0.229, -0.4258, 5.1159, 5.1154, 5.1153, 5.1151, 5.1151, 5.115, 5.115, 5.115, 5.1149, 5.1149, 5.1149, 5.1149, 5.1148, 5.1148, 5.1148, 5.1148, 5.1148, 5.1147, 5.1147, 5.1147, 5.1147, 5.1147, 5.1146, 5.1146, 5.1146, 5.1145, 5.1145, 5.1145, 5.1145, 5.1145, 5.1145, 5.1142, 5.1142, 5.114, 5.114, 5.1128, 5.1137, 5.1142, 5.114, 5.1118, 5.1131, 5.113, 5.1105, -0.0305, 0.2136, -0.0526, -0.1673, 0.091, -0.3343, 0.0806, -0.1261, -0.5059, -0.2216, -0.291, -0.824, -0.4428, -1.0538, -0.5858, -0.5066, -0.6408, -0.4117, 0.2359, -0.5961, -0.3939, -0.7182, -0.7078, -0.2061, -0.8132, -0.7776, -0.6376, -0.3529, -0.8939, -0.8095, -0.876, -0.9001, -0.752, 2.0689, 2.0646, 2.0633, 2.0629, 2.0611, 2.0605, 2.0602, 2.06, 2.0577, 2.0577, 2.0576, 2.0574, 2.0574, 2.0565, 2.0564, 2.0558, 2.0546, 2.0541, 2.053, 2.0524, 2.0523, 2.0523, 2.0523, 2.0523, 2.0521, 2.0521, 2.0521, 2.0516, 2.0516, 2.051, 2.0488, 2.0504, 2.0481, 2.043, 2.0422, 1.9918, 2.0441, 1.9799, 2.0244, 1.9397, 1.9718, 2.0113, 1.9121, 1.9713, 2.0175, 2.0211, 1.9191, 1.9381, 1.7973, 1.904, 1.8424, 1.8749, 1.9264, 1.8523, 1.7706, 1.8948, 1.9181, 1.766, 1.8864, 1.8089, 1.8898, 1.8965, 1.9233, 1.8766, 1.9193, 1.6415, 1.9113, 1.9541, 1.7382, 1.8118, 1.4726, 1.5133, 1.8108, 1.4506, 1.6999, 1.3767, 1.7279, 1.7309, 1.3547, 1.5545, 0.9697, 1.4868, 0.9214, 1.2457, 0.5262, 1.1973, 1.2791, 0.7332, 0.7664, 0.6593, 1.1872, 0.9346, 0.6568, 0.8967, 0.691, 0.9687, 0.3544, 0.7252, 0.5503, 0.2583, 0.3882, 0.7007, 0.648, 0.4814, 0.2959, 0.3274, -0.0217, 0.4087, 0.1929, 0.3501, 0.0301, 0.0587, 0.2701, -0.1002, -0.0638, 2.6022, 2.6019, 2.6002, 2.598, 2.5968, 2.5954, 2.5902, 2.5898, 2.5879, 2.587, 2.5863, 2.5835, 2.5829, 2.5827, 2.5824, 2.5819, 2.5803, 2.5801, 2.5799, 2.5797, 2.5794, 2.5791, 2.5766, 2.5765, 2.5752, 2.5749, 2.5738, 2.5729, 2.5721, 2.572, 2.5542, 2.5395, 2.4178, 2.3833, 2.4974, 2.4928, 2.531, 2.4116, 2.4789, 2.5284, 2.4675, 2.4592, 2.4328, 2.2752, 2.248, 2.2305, 2.3832, 2.1659, 2.0358, 2.1739, 2.2828, 2.1835, 2.0592, 2.0748, 2.369, 1.5548, 2.124, 1.6618, 1.1658, 1.7269, 1.8614, 1.719, 0.9938, 1.3579, 1.0066, 0.7483, 1.1606, 1.3958, 1.1953, 1.343, 0.9226, 0.7171, 0.9767, 0.9375, 0.4664, 0.9324, 0.0418, 0.5509, 0.4259, 0.8019, -0.113, 0.3794, 0.64, 0.3946, 0.3641, 0.2457, 0.5939, 0.2003, -0.1208, 0.0623, -0.315, 0.3869, -0.0172, 4.2802, 4.277, 4.2698, 4.2697, 4.2662, 4.2658, 4.2655, 4.2625, 4.2623, 4.2609, 4.2593, 4.2592, 4.2586, 4.2578, 4.257, 4.2568, 4.2541, 4.2541, 4.2538, 4.251, 4.2509, 4.2494, 4.247, 4.2469, 4.2468, 4.2468, 4.2466, 4.2461, 4.246, 4.2411, 4.2377, 4.207, 4.2034, 4.2086, 4.1452, 4.0449, 4.1559, 3.9968, 3.8797, 4.0903, 3.7808, 3.4055, 3.8391, 3.3182, 3.2457, 3.5643, 2.5981, 2.2963, 2.625, 2.1937, 2.1164, 3.2459, 3.0336, 3.1339, 2.01, 2.7254, 1.1877, 1.9389, 1.4705, 1.7304, 1.4829, 2.917, 1.1432, 0.2131, 1.7632, 0.4404, 1.2712, 0.7731, 1.6756, 0.6702, 0.475, 1.46, 0.5286, 1.4989, 0.257, 0.637, 0.4805, 0.3687, 0.7642, 0.2845, -0.1115, 0.0456, 1.0953, 1.0144, 0.211, -0.064, 8.6546, 5.1743, 5.174, 5.174, 5.1739, 5.1739, 5.1739, 5.1738, 5.1738, 5.1738, 5.1737, 5.1737, 5.1737, 5.1737, 5.1737, 5.1737, 5.1736, 5.1736, 5.1736, 5.1736, 5.1736, 5.1736, 5.1736, 5.1736, 5.1736, 5.1736, 5.1736, 5.1736, 5.1735, 5.1735, 5.1735, 5.1735, 5.1734, 5.1732, 5.1733, 5.1733, 5.1734, 5.1734, 5.1718, 5.1733, 5.1733, 3.5934, 5.1732, 5.1732, 5.1723, 5.1731, 5.1698, 5.1727, 0.6503, 1.1592, 0.0107, 0.5529, -0.0992, -0.1739, -0.1014, -0.8426, -0.7794, -0.4776, -0.3258, -0.6867, -0.7341, -0.4431, -0.6847, -0.8838, -0.3417, -1.2022, -0.9345, -0.9171, -0.1358, -0.1306, -1.2159, -1.0615, -0.5681, -0.6547, -0.8349, -1.1969, -1.0046, -1.1252, -1.0505, -1.1765, 2.3721, 2.3706, 2.3681, 2.3654, 2.365, 2.3624, 2.3622, 2.3616, 2.361, 2.3601, 2.36, 2.3588, 2.3587, 2.3582, 2.3571, 2.3568, 2.356, 2.3538, 2.3519, 2.3515, 2.3515, 2.3513, 2.351, 2.3505, 2.349, 2.3489, 2.3489, 2.3487, 2.3481, 2.3478, 2.3045, 2.3428, 2.3396, 2.2789, 2.2084, 2.3289, 2.1289, 2.1813, 2.3249, 2.3322, 2.287, 2.2062, 2.3017, 2.2322, 2.295, 2.2248, 2.163, 2.0263, 1.903, 1.6232, 1.4697, 1.3349, 2.0137, 1.9674, 1.3099, 1.9785, 1.6936, 1.248, 1.6393, 1.0924, 1.4195, 1.1425, 0.7564, 1.1763, 1.5151, 0.861, 0.6433, 0.7571, 1.3104, 0.6466, 0.84, 1.5649, 0.8038, 0.519, 0.3017, -0.0018, 0.645, 0.9937, 0.9189, 0.8444, 0.8683, 0.9044, 0.1203, 0.7518, 0.0395, 0.0687, 0.1427, -0.1479, 0.1835, -0.6195, 0.0545, 0.0165, -0.2088, -0.3015, 5.0978, 5.0967, 5.0965, 5.0962, 5.0961, 5.0961, 5.0961, 5.0961, 5.0961, 5.096, 5.096, 5.096, 5.0959, 5.0957, 5.0957, 5.0957, 5.0957, 5.0957, 5.0956, 5.0956, 5.0956, 5.0956, 5.0956, 5.0956, 5.0956, 5.0956, 5.0955, 5.0955, 5.0955, 5.0955, 5.0955, 5.0955, 5.0955, 5.0954, 5.0952, 5.0951, 5.0954, 5.0953, 5.0949, 5.0947, 5.0948, 5.0938, 5.0947, 5.0951, 5.0915, 1.0256, 5.0948, 5.0946, 0.2017, 5.0947, -0.5388, 0.0654, -0.4069, -0.3654, -0.162, -0.4689, -0.8885, -0.4664, -0.58, -0.4976, -0.1609, -0.464, -0.3945, -0.6886, -0.3824, -0.5953, -0.2349, -0.8479, -0.7681, -0.6744, -0.8235, -0.7609, -0.6415, -0.8805, -0.7986, -0.6208, -0.6892, -0.5402, -0.9554, -0.9338, -1.3593, -0.873, 2.4167, 2.416, 2.4124, 2.4117, 2.4109, 2.4107, 2.4092, 2.408, 2.4073, 2.4066, 2.4041, 2.4032, 2.403, 2.4025, 2.4009, 2.4003, 2.4001, 2.3984, 2.3977, 2.3972, 2.3968, 2.3968, 2.3965, 2.3961, 2.3954, 2.3943, 2.3933, 2.3919, 2.3915, 2.3911, 2.3897, 2.3908, 2.3551, 2.3535, 2.3745, 2.3623, 2.3107, 2.264, 2.1264, 2.1427, 2.2905, 2.3474, 2.1399, 2.0344, 1.8572, 2.0034, 2.2852, 1.9504, 1.8096, 1.5468, 1.5137, 2.2606, 1.689, 2.0758, 1.5861, 2.1398, 1.9005, 1.2846, 1.0098, 1.9855, 1.2073, 2.1176, 1.2459, 0.7032, 0.9239, 1.4885, 1.0174, 1.4758, 1.2993, 1.5193, 0.9743, 1.5452, 0.8563, 1.1008, 0.8193, 0.9406, 1.4736, 1.064, 0.8597, 0.7916, 0.2752, 1.006, 0.3253, 0.7202, 0.6412, 0.3705, 0.1542, 0.355, 0.4056, 0.2557, 0.6224, 0.3714, -0.0907, 0.0149, 0.2822, -0.0777, 0.2088, -0.4636, 0.1541, 3.4746, 3.4674, 3.4649, 3.4635, 3.462, 3.4615, 3.4611, 3.4598, 3.4597, 3.4595, 3.4591, 3.4573, 3.4571, 3.4546, 3.4546, 3.4545, 3.4544, 3.454, 3.4538, 3.4534, 3.4511, 3.451, 3.451, 3.451, 3.4505, 3.4467, 3.4465, 3.4464, 3.4431, 3.4416, 3.433, 3.4279, 3.4061, 3.4114, 3.421, 3.2744, 3.2762, 3.0574, 3.0449, 3.0538, 3.2466, 2.4967, 2.9925, 3.256, 3.3213, 3.2796, 3.0925, 3.0513, 2.6635, 2.0972, 3.223, 3.3179, 2.0314, 1.556, 2.771, 1.2043, 2.0531, 1.6468, 2.3338, 2.3296, 1.8605, 1.6159, 1.7343, 1.974, 1.3914, 0.8418, 0.8383, 0.4473, 0.9732, 0.6474, 0.4573, 0.1344, 1.1001, 0.9204, 0.8323, 0.548, 0.6031, 0.4091, 0.7604, 0.9864, 0.1017, 0.0964, 0.3816, 0.4348, 0.7407, 0.1585, 0.0176, -1.0923, 5.1432, 5.1428, 5.1424, 5.142, 5.1418, 5.1416, 5.1414, 5.1413, 5.1413, 5.1413, 5.1412, 5.1412, 5.1412, 5.1412, 5.1411, 5.1411, 5.1411, 5.1411, 5.1411, 5.141, 5.141, 5.141, 5.141, 5.141, 5.141, 5.141, 5.141, 5.141, 5.1409, 5.1409, 5.1409, 5.1409, 5.1409, 5.1408, 5.1408, 5.1408, 5.1407, 5.1405, 5.1405, 5.1408, 5.1408, 5.1404, 5.1407, 5.1406, 5.1402, 5.1395, 5.1403, 5.1384, 5.1402, 5.1393, 0.4204, -0.1434, -0.534, 5.1365, -0.0051, -0.1122, -0.3331, -0.1672, -0.4881, 0.5426, -0.4602, -0.322, -0.8464, -0.4101, -0.6585, -0.8888, -0.6475, -0.6133, -0.7915, -0.6146, -0.3208, -0.3339, -0.6638, -0.7677, -0.5614, -0.7089, -0.8563, -0.9555, -0.2582, -0.6383, -0.3395, -0.4451, -0.8002, -0.9798, -1.059, -0.8345, -0.9965, 5.1974, 5.1942, 5.194, 5.194, 5.194, 5.1939, 5.1938, 5.1938, 5.1938, 5.1937, 5.1937, 5.1937, 5.1937, 5.1937, 5.1937, 5.1936, 5.1936, 5.1936, 5.1936, 5.1936, 5.1936, 5.1936, 5.1936, 5.1936, 5.1936, 5.1936, 5.1936, 5.1935, 5.1935, 5.1935, 5.1934, 5.1934, 5.1934, 5.1934, 5.1934, 5.1931, 5.1933, 5.1933, 5.1933, 5.1932, 5.1933, 5.1933, 5.1932, 5.1931, 5.1931, 5.1927, 5.1909, 5.1931, 0.8922, 5.1909, 5.1931, 5.1892, 5.1911, 5.1922, 5.1923, -0.7444, -0.7863, -0.5833, -0.5331, -0.6287, 0.1041, -0.6094, -0.5451, -0.4632, -0.7446, -0.5673, -0.4033, -0.3344, -0.7489, -0.8814, -0.8386, -0.8124, -0.9414, 0.0536, -0.6587, -0.8509, -0.2941, -0.8342, -1.0273, -0.9343, -0.5937, -0.9237, -1.0303, -0.9406, -1.429, -1.0285, -1.1414, 5.2385, 5.2355, 5.2279, 5.2259, 5.2147, 5.2075, 5.2074, 5.1953, 5.1953, 5.1842, 5.1841, 5.1837, 5.1715, 5.1714, 5.1714, 5.1672, 5.1647, 5.1637, 5.1636, 5.1635, 5.1516, 5.1511, 5.1481, 5.1421, 5.1413, 5.1413, 5.1411, 5.141, 5.1401, 5.1286, 5.0686, 5.0492, 5.0551, 5.0708, 5.0316, 5.0475, 4.9618, 4.2654, 3.3985, 3.566, 4.5966, 3.0524, 4.4624, 1.5884, 3.6766, 4.7217, 1.4047, 0.5262, 1.1927, 2.8176, 2.1719, 1.1584, 0.7613, 0.9821, 0.0312, 1.1392, 1.1707, 2.3982, 1.4741, 0.49, 0.4562, 0.612, 1.1626, 0.0931, 0.7955, 0.2202, 0.1148, 0.3471, 1.1664, 0.8622, 0.4793, -0.0049, 0.164, 0.6791, 0.3571, -0.4893, 0.4899, 0.27, -0.3171, 5.1021, 5.102, 5.1019, 5.1016, 5.1013, 5.1012, 5.101, 5.101, 5.101, 5.101, 5.1009, 5.1009, 5.1009, 5.1008, 5.1008, 5.1008, 5.1008, 5.1008, 5.1008, 5.1008, 5.1007, 5.1006, 5.1006, 5.1006, 5.1006, 5.1006, 5.1006, 5.1006, 5.1006, 5.1006, 5.1006, 5.1005, 5.1004, 5.1004, 5.1003, 5.1003, 5.1, 5.1003, 5.1003, 5.1002, 5.1002, 5.1003, 5.1, 5.1002, 5.1001, 1.1238, 5.1, 5.0983, 5.0999, 5.0997, 5.0969, -0.2068, -0.0067, -0.2859, -0.4382, 0.0094, -0.7218, -0.3764, -0.3314, -0.9148, -0.3325, -0.7279, -0.5997, -0.1249, -0.4585, -0.4671, -0.5215, -0.6253, -0.5388, -0.7137, -0.3724, -0.63, -0.5132, 0.1941, -0.5452, -0.8089, -0.8635, -0.264, -0.5161, -0.4104, -0.786, -0.6386, -0.8416, 8.4762, 6.6169, 6.1841, 5.044, 5.0439, 5.0439, 5.0439, 5.0439, 5.0439, 5.0438, 5.0438, 5.0438, 5.0438, 5.0438, 5.0438, 5.0437, 5.0437, 5.0437, 5.0437, 5.0437, 5.0437, 5.0437, 5.0437, 5.0437, 5.0437, 5.0436, 5.0436, 5.0436, 5.0436, 5.0436, 4.892, 5.0434, 5.0434, 5.043, 5.0429, 5.0433, 5.0428, 5.0427, 1.7263, 5.0427, 5.0432, 1.0032, 5.0431, 5.0424, -0.1417, 5.0389, 5.0424, -0.6396, -0.1146, 0.2989, -0.3809, -0.1879, 0.4898, -0.6076, 0.6823, 5.0399, -1.0352, -0.6082, -0.4684, -0.6633, -0.8387, -0.7385, -0.744, -0.673, -1.0155, -1.3599, -0.5613, -1.1699, -1.4936, -1.1131, -0.5779, -1.4159, -1.3031, -1.3542, 5.1351, 5.1347, 5.1347, 5.1347, 5.1345, 5.1344, 5.1344, 5.1344, 5.1344, 5.1344, 5.1344, 5.1344, 5.1343, 5.1343, 5.1343, 5.1342, 5.1342, 5.1342, 5.1342, 5.1342, 5.1341, 5.1341, 5.1341, 5.1341, 5.1341, 5.1341, 5.1341, 5.134, 5.134, 5.134, 5.1338, 5.1338, 5.1336, 5.1338, 5.1337, 5.1331, 5.1338, 5.1333, 5.1336, 5.133, 1.3763, 5.1337, 5.1328, 5.1302, 5.1328, 5.1327, 0.2705, 5.1296, 5.1319, 5.1326, 5.1328, -0.3518, 0.0332, -0.7856, -0.4479, -0.7529, -0.4511, -0.0516, -0.3668, -0.496, -0.4628, 0.3173, -0.5159, 0.1541, -0.5998, -0.2386, -0.8118, -0.7825, -0.6545, -1.0336, -0.5062, -0.5843, -1.0481, -0.2838, -0.4749, -0.6788, -0.9409, -0.7906, -0.8547, -0.7861, -0.9862, -1.0149, -0.8445, -1.1929, 3.1784, 3.1761, 3.174, 3.1738, 3.1738, 3.1726, 3.1724, 3.1722, 3.1705, 3.1693, 3.1685, 3.1677, 3.1674, 3.1669, 3.1662, 3.1654, 3.1654, 3.165, 3.1647, 3.1646, 3.1641, 3.1632, 3.1629, 3.1629, 3.1618, 3.1606, 3.16, 3.1597, 3.1597, 3.1593, 3.0434, 3.1374, 2.8408, 2.4635, 2.9876, 3.0054, 2.2076, 2.6403, 2.8554, 2.6038, 2.2749, 2.2577, 2.5025, 2.1225, 2.2202, 1.5635, 1.3739, 0.9621, 2.7062, 2.5725, 1.2942, 1.0741, 1.2773, 2.0162, 0.3722, 0.5267, 0.9746, 1.5446, 0.5042, 0.9569, 0.2164, 0.3869, 1.8114, 1.4475, -0.1753, -0.1358, 0.0987, 0.163, 0.1694, 0.2856, -0.0243, 0.2492, 0.4409, 0.0916, -0.0174, 0.2946, 0.2006, 0.2251, -0.1873, 0.0693, -0.1301, 0.1012, 7.1472, 5.0418, 5.0145, 5.0134, 5.0133, 5.0126, 5.0125, 5.0123, 5.0117, 5.0117, 5.0116, 5.0115, 5.0112, 5.011, 5.0109, 5.0109, 5.0106, 5.0106, 5.0105, 5.0104, 5.0103, 5.0101, 5.01, 5.0095, 5.0095, 5.0093, 5.0093, 5.0093, 5.0092, 5.0092, 5.0088, 5.0083, 5.0086, 5.0089, 5.008, 5.0075, 5.0055, 0.5115, 0.0225, -0.4185, -0.4273, -0.1294, 0.0447, 0.2918, -0.1941, -0.1486, -0.2283, -0.4121, -0.3217, -0.375, -0.5097, -0.5457, 0.4099, -0.0805, -0.4469, -0.6823, -0.5048, -0.3064, 0.0022, -0.8137, -0.2068, -0.4999, -0.214, -0.4202, -0.2639, 0.029, -0.7186, -0.7329, -0.6973, -0.4956, -0.8358, -1.0465]}, \"token.table\": {\"Topic\": [26, 10, 11, 14, 20, 22, 26, 7, 20, 27, 8, 34, 18, 2, 4, 6, 7, 8, 9, 10, 11, 12, 14, 15, 16, 17, 18, 20, 21, 22, 24, 26, 27, 30, 34, 24, 10, 26, 2, 6, 7, 8, 9, 10, 11, 12, 14, 15, 17, 18, 20, 21, 22, 24, 26, 27, 34, 17, 24, 2, 6, 7, 8, 10, 11, 14, 15, 16, 17, 18, 20, 22, 24, 26, 27, 34, 2, 6, 7, 8, 9, 10, 11, 14, 15, 16, 17, 18, 20, 21, 22, 24, 26, 27, 30, 34, 2, 6, 10, 11, 14, 15, 16, 21, 22, 24, 26, 34, 14, 7, 16, 2, 6, 7, 8, 9, 10, 11, 12, 14, 15, 16, 17, 18, 20, 21, 22, 24, 26, 27, 30, 34, 20, 22, 15, 34, 15, 17, 2, 8, 10, 11, 14, 15, 17, 21, 22, 24, 34, 14, 2, 6, 7, 10, 11, 14, 15, 16, 17, 18, 20, 21, 22, 24, 26, 27, 30, 34, 10, 1, 2, 3, 4, 5, 6, 7, 8, 9, 10, 11, 12, 14, 15, 16, 17, 18, 20, 21, 22, 24, 25, 26, 27, 30, 34, 35, 18, 2, 6, 8, 10, 15, 18, 20, 21, 24, 26, 34, 2, 6, 7, 8, 10, 11, 15, 18, 20, 21, 22, 24, 26, 27, 34, 24, 2, 6, 7, 10, 11, 15, 17, 18, 20, 24, 27, 34, 2, 6, 7, 10, 11, 14, 15, 18, 20, 21, 22, 24, 26, 27, 34, 1, 2, 3, 4, 5, 6, 7, 8, 9, 10, 11, 12, 13, 14, 15, 16, 17, 18, 19, 20, 21, 22, 23, 24, 25, 26, 27, 28, 29, 30, 31, 32, 33, 34, 35, 2, 6, 7, 8, 9, 10, 11, 12, 14, 15, 16, 17, 18, 20, 21, 22, 24, 26, 27, 30, 34, 15, 2, 6, 7, 10, 11, 15, 16, 17, 18, 20, 21, 22, 24, 26, 27, 34, 2, 6, 7, 8, 9, 10, 11, 14, 15, 16, 17, 18, 20, 21, 22, 24, 26, 27, 30, 34, 2, 10, 12, 14, 24, 26, 22, 10, 11, 14, 22, 24, 26, 22, 2, 6, 7, 8, 9, 10, 11, 12, 14, 15, 17, 18, 20, 21, 24, 26, 27, 30, 32, 34, 24, 27, 30, 15, 16, 17, 20, 34, 34, 7, 26, 2, 6, 7, 8, 9, 10, 11, 12, 14, 15, 16, 17, 18, 20, 21, 22, 24, 26, 27, 30, 34, 2, 6, 7, 8, 9, 10, 11, 14, 15, 16, 17, 18, 20, 21, 22, 24, 26, 27, 30, 34, 2, 10, 2, 24, 7, 10, 11, 14, 22, 24, 34, 1, 2, 3, 4, 5, 6, 7, 8, 9, 10, 11, 12, 13, 14, 15, 16, 17, 18, 19, 20, 21, 22, 23, 24, 25, 26, 27, 28, 29, 30, 31, 33, 34, 35, 16, 16, 2, 6, 10, 11, 12, 20, 21, 22, 24, 26, 27, 34, 7, 27, 15, 2, 6, 11, 12, 14, 15, 17, 21, 22, 24, 26, 34, 2, 6, 7, 8, 9, 10, 11, 12, 14, 15, 16, 17, 18, 20, 21, 22, 24, 26, 27, 34, 2, 6, 7, 8, 9, 10, 11, 14, 15, 16, 17, 18, 20, 21, 22, 24, 26, 27, 34, 15, 16, 22, 24, 10, 10, 12, 15, 22, 2, 6, 7, 8, 10, 11, 15, 16, 17, 18, 20, 21, 22, 24, 26, 27, 30, 34, 2, 4, 6, 7, 8, 9, 10, 11, 12, 14, 15, 16, 17, 18, 20, 21, 22, 24, 26, 27, 30, 34, 16, 6, 34, 2, 8, 10, 11, 14, 15, 17, 18, 21, 26, 27, 21, 27, 6, 15, 34, 22, 2, 6, 7, 8, 10, 15, 17, 18, 20, 21, 22, 24, 26, 30, 34, 8, 6, 2, 4, 6, 7, 8, 9, 10, 11, 12, 14, 15, 17, 18, 20, 21, 22, 24, 26, 27, 30, 34, 18, 2, 7, 21, 27, 34, 1, 2, 3, 4, 5, 6, 7, 8, 9, 10, 11, 12, 14, 15, 16, 17, 18, 19, 20, 21, 22, 23, 24, 25, 26, 27, 28, 29, 30, 31, 34, 35, 9, 15, 15, 18, 11, 11, 7, 26, 6, 7, 20, 24, 6, 2, 7, 8, 10, 11, 14, 15, 20, 21, 24, 26, 34, 2, 6, 30, 20, 2, 6, 7, 8, 9, 10, 11, 14, 15, 16, 17, 18, 20, 21, 22, 24, 26, 27, 34, 12, 20, 26, 17, 14, 15, 2, 7, 10, 11, 20, 20, 2, 6, 10, 14, 15, 16, 20, 21, 22, 24, 26, 34, 2, 6, 7, 8, 10, 11, 12, 14, 15, 16, 18, 20, 21, 22, 26, 27, 30, 34, 2, 6, 10, 11, 14, 15, 21, 22, 24, 26, 6, 11, 6, 11, 21, 2, 8, 10, 21, 34, 24, 16, 2, 6, 2, 10, 14, 17, 24, 34, 2, 6, 7, 8, 9, 10, 11, 12, 14, 15, 17, 18, 20, 21, 22, 24, 26, 27, 30, 34, 21, 26, 12, 22, 8, 8, 2, 4, 6, 7, 8, 9, 10, 11, 12, 14, 15, 16, 17, 18, 20, 21, 22, 24, 26, 27, 30, 34, 2, 6, 7, 8, 10, 11, 14, 15, 16, 17, 18, 20, 21, 22, 24, 26, 27, 30, 34, 20, 24, 7, 2, 3, 6, 7, 8, 9, 10, 11, 12, 14, 15, 17, 18, 20, 21, 22, 24, 26, 27, 30, 34, 1, 2, 3, 4, 5, 6, 7, 8, 9, 10, 11, 12, 13, 14, 15, 16, 17, 18, 20, 21, 22, 24, 25, 26, 27, 30, 32, 33, 34, 35, 2, 10, 15, 10, 26, 34, 30, 2, 6, 7, 8, 9, 10, 11, 12, 14, 15, 16, 17, 18, 20, 21, 22, 24, 26, 27, 30, 31, 34, 2, 3, 6, 7, 8, 10, 11, 12, 14, 15, 16, 18, 20, 21, 22, 24, 26, 27, 30, 34, 18, 9, 10, 15, 18, 22, 26, 27, 34, 2, 6, 7, 10, 11, 12, 14, 15, 17, 20, 21, 22, 24, 26, 27, 34, 2, 10, 15, 17, 18, 20, 24, 26, 7, 16, 20, 27, 2, 6, 7, 8, 9, 10, 11, 12, 14, 15, 16, 17, 18, 20, 21, 22, 24, 26, 27, 34, 2, 6, 7, 8, 9, 10, 11, 12, 14, 15, 16, 17, 18, 20, 21, 22, 24, 26, 27, 30, 34, 6, 8, 1, 2, 3, 4, 6, 7, 8, 9, 10, 11, 12, 13, 14, 15, 16, 17, 18, 19, 20, 21, 22, 23, 24, 25, 26, 27, 29, 30, 31, 33, 34, 35, 17, 2, 11, 17, 20, 2, 6, 7, 8, 9, 10, 11, 12, 14, 15, 16, 17, 18, 20, 21, 22, 24, 26, 27, 30, 34, 2, 10, 2, 3, 4, 6, 7, 8, 9, 10, 11, 12, 14, 15, 17, 20, 21, 22, 24, 26, 27, 30, 34, 2, 3, 4, 6, 7, 8, 9, 10, 11, 12, 14, 15, 16, 17, 18, 20, 21, 22, 23, 24, 26, 27, 28, 30, 34, 6, 2, 6, 7, 8, 9, 10, 11, 14, 15, 17, 18, 20, 21, 24, 26, 27, 30, 34, 2, 6, 7, 8, 9, 10, 11, 12, 14, 15, 16, 17, 18, 20, 21, 22, 24, 26, 27, 34, 6, 14, 2, 7, 10, 11, 15, 16, 20, 24, 26, 27, 26, 7, 20, 2, 6, 7, 8, 10, 11, 12, 14, 15, 16, 17, 18, 20, 21, 22, 24, 26, 27, 30, 34, 21, 24, 8, 17, 26, 2, 22, 24, 26, 8, 7, 20, 2, 8, 15, 30, 2, 6, 7, 8, 9, 10, 11, 12, 14, 15, 16, 18, 20, 21, 22, 24, 26, 27, 30, 34, 2, 6, 7, 10, 11, 14, 15, 16, 20, 21, 24, 27, 34, 2, 7, 8, 10, 11, 14, 26, 27, 34, 15, 26, 30, 27, 7, 11, 16, 20, 27, 11, 2, 2, 6, 7, 9, 10, 11, 16, 18, 20, 21, 24, 26, 27, 2, 18, 26, 24, 7, 27, 17, 17, 1, 2, 4, 5, 6, 7, 8, 9, 10, 11, 12, 14, 15, 16, 17, 18, 20, 21, 22, 23, 24, 25, 26, 27, 30, 31, 33, 34, 35, 6, 10, 16, 20, 16, 22, 1, 2, 4, 5, 6, 7, 8, 9, 10, 11, 12, 14, 15, 16, 17, 18, 20, 21, 22, 24, 25, 26, 27, 29, 30, 31, 33, 34, 35, 2, 6, 7, 8, 10, 11, 12, 14, 15, 16, 17, 18, 20, 21, 22, 24, 26, 27, 30, 34, 35, 2, 6, 7, 8, 10, 11, 12, 14, 15, 17, 18, 20, 21, 24, 26, 27, 30, 34, 2, 6, 7, 8, 9, 10, 11, 12, 14, 15, 16, 17, 18, 20, 21, 22, 24, 26, 27, 30, 34, 10, 11, 14, 15, 20, 34, 2, 6, 10, 11, 14, 15, 17, 20, 24, 26, 27, 34, 2, 6, 7, 8, 10, 11, 14, 15, 16, 17, 18, 20, 21, 22, 24, 26, 27, 30, 34, 34, 20, 26, 1, 2, 4, 6, 7, 8, 9, 10, 11, 12, 14, 15, 16, 17, 18, 20, 21, 22, 24, 26, 27, 30, 34, 2, 6, 7, 10, 11, 14, 15, 20, 21, 22, 24, 26, 27, 34, 2, 10, 15, 24, 26, 34, 2, 10, 21, 24, 26, 34, 20, 17, 17, 2, 3, 6, 7, 8, 9, 10, 11, 12, 14, 15, 17, 18, 20, 21, 22, 24, 26, 27, 30, 34, 2, 26, 9, 10, 15, 17, 20, 21, 26, 27, 34, 2, 6, 7, 8, 9, 10, 11, 14, 15, 16, 18, 20, 21, 22, 24, 26, 27, 34, 2, 6, 7, 8, 10, 11, 14, 15, 17, 20, 21, 24, 26, 27, 34, 21, 27, 2, 3, 4, 6, 7, 8, 9, 10, 11, 12, 14, 15, 16, 17, 18, 20, 21, 22, 24, 25, 26, 27, 30, 31, 34, 35, 2, 6, 7, 8, 10, 15, 17, 20, 21, 24, 27, 34, 2, 6, 7, 8, 10, 15, 17, 20, 21, 22, 24, 27, 34, 2, 4, 6, 7, 8, 10, 11, 12, 14, 15, 16, 17, 18, 20, 21, 22, 24, 26, 27, 30, 34, 24, 2, 6, 7, 8, 9, 10, 11, 17, 18, 20, 21, 24, 26, 30, 2, 4, 5, 6, 7, 8, 9, 10, 11, 12, 13, 14, 15, 16, 17, 18, 20, 21, 22, 24, 26, 27, 28, 30, 34, 35, 6, 6, 17, 2, 6, 7, 8, 10, 11, 12, 14, 15, 16, 17, 18, 20, 21, 22, 24, 26, 27, 34, 2, 6, 7, 10, 11, 14, 15, 16, 17, 18, 20, 21, 22, 24, 26, 27, 34, 24, 2, 6, 7, 8, 10, 11, 14, 15, 17, 18, 20, 21, 22, 24, 26, 27, 34, 2, 7, 27, 11, 10, 27, 22, 2, 6, 7, 8, 10, 14, 15, 16, 17, 20, 21, 22, 24, 26, 27, 22, 22, 14, 2, 6, 7, 8, 10, 11, 12, 15, 18, 20, 21, 22, 24, 26, 27, 34, 27, 34, 24, 1, 2, 3, 4, 5, 6, 7, 8, 9, 10, 11, 12, 13, 14, 15, 16, 17, 18, 19, 20, 21, 22, 23, 24, 25, 26, 27, 28, 29, 30, 31, 32, 33, 34, 35, 10, 10, 34, 1, 2, 3, 4, 5, 6, 7, 8, 9, 10, 11, 12, 13, 14, 15, 16, 17, 18, 20, 21, 22, 23, 24, 25, 26, 27, 28, 29, 30, 31, 32, 33, 34, 35, 6, 15, 2, 6, 7, 8, 10, 11, 14, 15, 16, 17, 18, 20, 21, 24, 26, 27, 30, 34, 1, 2, 4, 6, 7, 8, 9, 10, 11, 12, 14, 15, 16, 17, 18, 20, 21, 22, 24, 26, 27, 30, 34, 20, 6, 2, 10, 11, 14, 22, 24, 24, 1, 2, 3, 4, 5, 6, 7, 8, 9, 10, 11, 12, 13, 14, 15, 16, 17, 18, 19, 20, 21, 22, 23, 24, 25, 26, 27, 28, 29, 30, 31, 32, 33, 34, 35, 7, 2, 6, 7, 8, 10, 11, 14, 15, 17, 20, 21, 24, 26, 27, 34, 2, 6, 7, 8, 10, 11, 15, 20, 21, 6, 7, 8, 10, 11, 12, 14, 20, 34, 7, 17, 24, 26, 8, 10, 27, 34, 26, 26, 21, 27, 6, 6, 2, 15, 2, 6, 7, 8, 9, 10, 11, 14, 15, 17, 18, 20, 21, 24, 26, 27, 30, 34, 2, 6, 7, 8, 10, 11, 14, 15, 16, 17, 21, 22, 24, 26, 27, 34, 10, 11, 22, 26, 16, 17, 22, 2, 7, 10, 18, 20, 26, 2, 6, 7, 8, 9, 10, 11, 12, 14, 15, 16, 17, 18, 20, 21, 22, 24, 26, 27, 30, 34, 2, 6, 7, 8, 9, 10, 11, 12, 14, 15, 16, 17, 18, 20, 21, 22, 24, 26, 27, 30, 34, 2, 6, 15, 20, 30, 30, 2, 6, 7, 8, 9, 10, 11, 12, 14, 15, 16, 17, 18, 20, 21, 22, 24, 26, 27, 30, 34, 2, 6, 7, 8, 10, 11, 14, 15, 26, 34, 15, 2, 6, 7, 10, 11, 15, 16, 20, 22, 24, 26, 34, 12, 22, 6, 11, 2, 14, 15, 20, 21, 24, 26, 27, 34, 8, 10, 11, 12, 14, 15, 17, 21, 26, 7, 11, 30, 34, 26, 27, 8, 2, 3, 4, 6, 7, 8, 9, 10, 11, 12, 13, 14, 15, 16, 17, 18, 20, 21, 22, 24, 26, 27, 30, 34, 35, 10, 2, 12, 15, 21, 22, 26, 34, 7, 2, 6, 7, 8, 9, 10, 11, 15, 17, 18, 20, 21, 22, 24, 26, 34, 2, 6, 7, 9, 10, 11, 15, 21, 26, 9, 10, 11, 15, 27, 9, 10, 2, 34, 30, 10, 22, 2, 6, 7, 8, 10, 11, 12, 14, 15, 17, 18, 22, 26, 27, 34, 14, 18, 15, 14, 34, 6, 7, 10, 11, 15, 17, 20, 24, 34, 2, 6, 7, 8, 10, 11, 15, 16, 17, 20, 21, 22, 27, 30, 34, 10, 14, 14, 8, 6, 2, 8, 14, 15, 17, 24, 26, 2, 6, 7, 8, 10, 11, 14, 15, 17, 18, 20, 21, 22, 24, 26, 27, 34, 20, 30, 30, 30, 2, 10, 15, 26, 10, 26, 2, 6, 7, 11, 14, 15, 20, 21, 27, 2, 10, 26, 9, 21, 23, 27, 21, 2, 6, 7, 8, 10, 11, 12, 14, 15, 17, 18, 20, 21, 22, 24, 26, 27, 30, 34, 26, 22, 8, 11, 11, 18, 20, 20, 2, 6, 7, 8, 9, 10, 11, 15, 16, 17, 20, 21, 24, 26, 34, 9, 10, 15, 17, 18, 24, 7, 9, 11, 15, 24, 2, 6, 7, 8, 9, 10, 11, 12, 14, 15, 16, 17, 18, 20, 21, 22, 24, 26, 27, 34, 2, 6, 7, 9, 10, 11, 15, 16, 17, 18, 20, 21, 24, 26, 27, 34, 2, 6, 7, 8, 9, 10, 15, 20, 21, 24, 27, 34, 2, 7, 9, 10, 11, 12, 15, 16, 18, 20, 21, 22, 24, 26, 34, 34, 2, 2, 6, 7, 8, 10, 11, 12, 14, 15, 16, 17, 18, 20, 22, 24, 26, 27, 30, 34, 12, 22, 34, 11, 2, 6, 7, 8, 10, 11, 12, 15, 16, 17, 18, 20, 22, 24, 26, 27, 34, 7, 16, 20, 27, 2, 10, 22, 34, 17, 21, 2, 6, 7, 8, 10, 11, 14, 15, 17, 18, 20, 21, 22, 24, 26, 27, 34, 7, 8, 10, 11, 15, 20, 8, 2, 6, 7, 8, 9, 10, 11, 12, 14, 15, 16, 17, 18, 20, 21, 22, 24, 26, 27, 34, 2, 4, 6, 7, 8, 9, 10, 11, 12, 14, 15, 16, 17, 18, 20, 21, 22, 24, 26, 27, 30, 31, 34, 26, 24, 6, 16, 21, 16, 6, 7, 15, 16, 20, 24, 26, 34, 2, 6, 7, 8, 10, 11, 12, 14, 15, 16, 17, 18, 20, 21, 22, 24, 26, 27, 30, 34, 10, 26, 2, 6, 7, 8, 9, 10, 11, 14, 15, 16, 17, 18, 20, 21, 22, 24, 26, 27, 30, 34, 22, 2, 6, 7, 8, 9, 10, 11, 12, 14, 15, 16, 17, 18, 20, 21, 22, 24, 26, 27, 34, 16, 14, 10, 12, 15, 21, 26, 30, 2, 6, 7, 8, 9, 10, 11, 12, 14, 15, 16, 17, 18, 20, 21, 22, 24, 26, 27, 30, 34, 20, 21, 27, 2, 6, 7, 8, 10, 11, 12, 14, 15, 16, 17, 20, 21, 22, 24, 26, 27, 30, 34, 34, 12, 15, 22, 24, 34, 2, 6, 8, 10, 11, 12, 14, 17, 18, 20, 22, 26, 27, 24, 6, 6, 34, 2, 8, 15, 24, 34, 20, 18, 18, 34, 2, 6, 7, 8, 10, 11, 12, 14, 15, 16, 17, 18, 20, 21, 22, 24, 26, 27, 30, 34, 2, 6, 7, 8, 10, 11, 12, 14, 15, 17, 18, 20, 21, 22, 24, 26, 27, 30, 34, 2, 6, 7, 8, 9, 10, 11, 12, 14, 15, 16, 17, 18, 20, 21, 22, 24, 26, 27, 30, 34, 2, 22, 10, 24, 1, 2, 3, 4, 5, 6, 7, 8, 9, 10, 11, 12, 14, 15, 16, 17, 18, 20, 21, 22, 23, 24, 25, 26, 27, 28, 30, 32, 33, 34, 35, 18, 21, 26, 6, 10, 11, 22, 24, 26, 22, 12, 15, 22, 26, 2, 6, 10, 14, 15, 18, 21, 22, 24, 26, 27, 34, 20, 16, 2, 20, 9, 10, 15, 26, 21, 8, 10, 11, 22, 18, 10, 34, 2, 6, 7, 8, 9, 10, 11, 14, 15, 16, 17, 20, 21, 22, 24, 26, 27, 34, 34, 2, 8, 10, 11, 15, 16, 17, 21, 22, 24, 26, 34, 2, 8, 10, 11, 14, 15, 17, 21, 24, 26, 34, 8, 17, 21, 24, 26, 8, 20, 21, 30, 34, 9, 10, 16, 2, 6, 7, 8, 9, 10, 11, 12, 14, 15, 16, 17, 18, 20, 21, 22, 24, 26, 27, 30, 34, 18, 26, 2, 6, 7, 8, 9, 10, 11, 12, 14, 15, 16, 17, 18, 20, 21, 22, 24, 26, 27, 30, 34, 2, 18, 30, 8, 2, 6, 7, 8, 9, 10, 14, 15, 18, 20, 21, 24, 26, 27, 32, 34, 21, 10, 26, 34, 2, 6, 7, 8, 9, 10, 11, 15, 16, 17, 18, 20, 21, 22, 24, 26, 30, 34, 14, 2, 6, 7, 8, 10, 11, 12, 14, 15, 17, 18, 20, 21, 22, 24, 26, 27, 30, 34, 22, 26, 2, 3, 6, 7, 8, 10, 11, 12, 14, 15, 17, 18, 20, 21, 22, 24, 26, 27, 34, 2, 6, 7, 8, 9, 10, 11, 12, 14, 15, 17, 18, 20, 21, 22, 24, 26, 27, 30, 34, 6, 22, 14, 6, 12, 26, 2, 6, 7, 10, 14, 15, 17, 20, 21, 22, 27, 21, 7, 18, 20, 7, 11, 12, 20, 34, 24, 26, 2, 6, 7, 8, 10, 14, 15, 17, 18, 20, 21, 26, 27, 34, 2, 21, 1, 2, 3, 4, 5, 6, 7, 8, 9, 10, 11, 12, 13, 14, 15, 16, 17, 18, 19, 20, 21, 22, 23, 24, 25, 26, 27, 28, 29, 30, 31, 32, 33, 34, 35, 7, 2, 8, 9, 10, 11, 21, 26, 34, 1, 2, 3, 4, 5, 6, 7, 8, 9, 10, 11, 12, 13, 14, 15, 16, 17, 18, 19, 20, 21, 22, 23, 24, 25, 26, 27, 28, 30, 31, 33, 34, 35, 8, 14, 8, 14, 18, 1, 2, 3, 4, 5, 6, 7, 8, 9, 10, 11, 12, 13, 14, 15, 16, 17, 18, 19, 20, 21, 22, 24, 25, 26, 27, 28, 30, 31, 34, 35, 8, 7, 8, 1, 2, 3, 4, 5, 6, 7, 8, 9, 10, 11, 12, 13, 14, 15, 16, 17, 18, 19, 20, 21, 22, 23, 24, 25, 26, 27, 28, 29, 30, 31, 32, 33, 34, 35, 2, 6, 7, 8, 10, 11, 14, 15, 16, 17, 20, 22, 24, 26, 34, 16, 20, 2, 6, 7, 8, 10, 11, 12, 14, 15, 16, 17, 18, 20, 21, 22, 24, 26, 27, 30, 34, 2, 6, 7, 8, 9, 10, 11, 14, 15, 17, 18, 20, 21, 24, 26, 27, 30, 34, 2, 3, 4, 6, 7, 8, 9, 10, 11, 12, 14, 15, 16, 17, 18, 20, 21, 22, 24, 26, 27, 28, 30, 31, 32, 34, 35, 6, 27, 21, 15, 6, 9, 10, 2, 6, 7, 8, 9, 10, 11, 12, 14, 15, 16, 17, 18, 20, 21, 22, 24, 26, 27, 30, 34, 2, 6, 7, 8, 9, 10, 11, 12, 14, 15, 17, 18, 20, 21, 22, 24, 26, 27, 30, 34, 2, 6, 7, 8, 10, 11, 14, 15, 17, 18, 20, 22, 24, 26, 27, 34, 2, 6, 7, 8, 10, 11, 12, 14, 15, 17, 18, 20, 21, 22, 24, 26, 27, 34, 15, 26, 2, 15, 26, 21, 7, 20, 27, 8, 26, 26, 8, 11, 2, 6, 7, 10, 17, 18, 20, 21, 24, 26, 30, 10, 26, 2, 6, 7, 8, 9, 10, 11, 12, 14, 15, 17, 18, 20, 21, 22, 24, 26, 27, 30, 34, 2, 6, 7, 8, 10, 11, 14, 15, 17, 18, 20, 21, 22, 24, 26, 27, 30, 34, 2, 9, 26, 15, 2, 4, 6, 7, 8, 9, 10, 11, 12, 14, 15, 16, 17, 18, 19, 20, 21, 22, 24, 26, 27, 30, 34, 2, 6, 7, 8, 10, 11, 12, 15, 16, 18, 20, 22, 24, 26, 30, 10, 34, 10, 8, 7, 11, 27, 27, 15, 27, 2, 17, 26, 27, 27, 27, 2, 6, 7, 8, 9, 10, 11, 12, 14, 15, 17, 18, 20, 21, 24, 26, 27, 30, 34, 17, 2, 6, 7, 8, 9, 10, 11, 12, 14, 15, 16, 17, 18, 20, 21, 22, 24, 26, 27, 30, 34, 2, 6, 7, 8, 10, 11, 14, 15, 17, 18, 20, 24, 26, 27, 30, 34, 27, 2, 6, 7, 8, 10, 11, 14, 15, 16, 18, 20, 21, 22, 24, 26, 27, 34, 2, 3, 4, 6, 7, 8, 9, 10, 11, 12, 14, 15, 17, 18, 20, 21, 22, 24, 25, 26, 27, 30, 33, 34, 6, 15, 7, 7, 7, 15, 18, 24, 27, 30, 30, 10, 18, 20, 21, 26, 27, 2, 4, 6, 7, 8, 9, 10, 11, 12, 14, 15, 16, 17, 18, 20, 21, 22, 24, 26, 27, 30, 34, 2, 3, 4, 6, 7, 8, 9, 10, 11, 12, 14, 15, 17, 18, 19, 20, 21, 22, 24, 26, 27, 28, 30, 31, 34, 35, 2, 3, 6, 7, 8, 9, 10, 11, 12, 13, 14, 15, 16, 17, 18, 19, 20, 21, 22, 23, 24, 26, 27, 28, 30, 31, 32, 33, 34, 35, 2, 3, 4, 6, 7, 8, 9, 10, 11, 12, 14, 15, 16, 17, 18, 19, 20, 21, 22, 24, 26, 27, 28, 30, 32, 34, 22, 2, 6, 7, 8, 10, 11, 14, 15, 17, 18, 20, 21, 22, 24, 26, 27, 34, 2, 3, 4, 6, 7, 8, 9, 10, 11, 12, 14, 15, 16, 17, 18, 19, 20, 21, 22, 24, 25, 26, 27, 28, 29, 30, 31, 33, 34, 35, 2, 6, 7, 8, 10, 11, 14, 15, 16, 18, 20, 21, 22, 24, 26, 27, 30, 34, 2, 10, 1, 2, 3, 4, 5, 6, 7, 8, 9, 10, 11, 12, 13, 14, 15, 16, 17, 18, 19, 20, 21, 22, 23, 24, 25, 26, 27, 28, 29, 30, 31, 32, 33, 34, 35, 2, 6, 7, 9, 10, 11, 14, 15, 16, 17, 18, 20, 21, 24, 26, 27, 30, 34, 2, 6, 7, 8, 9, 10, 11, 12, 14, 15, 16, 17, 18, 20, 21, 22, 24, 26, 27, 30, 34, 26, 30, 14, 17, 2, 6, 7, 8, 10, 11, 12, 14, 15, 16, 17, 18, 20, 21, 22, 24, 26, 27, 34, 2, 6, 15, 24, 30, 34, 11, 14, 22, 14, 22, 2, 6, 7, 8, 9, 10, 11, 12, 14, 15, 16, 17, 18, 19, 20, 21, 22, 24, 26, 27, 30, 34, 2, 10, 18, 24, 26, 18, 2, 6, 7, 8, 10, 11, 12, 15, 20, 21, 22, 24, 26, 27, 30, 34, 2, 10, 11, 14, 15, 18, 20, 21, 22, 24, 26, 27, 30, 34, 18, 2, 6, 7, 8, 10, 11, 14, 15, 17, 18, 20, 21, 22, 24, 26, 27, 30, 34, 2, 6, 7, 8, 9, 10, 11, 12, 14, 15, 17, 18, 20, 21, 22, 24, 26, 27, 30, 34, 2, 6, 7, 10, 11, 12, 14, 15, 17, 18, 20, 21, 22, 24, 26, 27, 34, 2, 2, 18, 27, 2, 6, 7, 8, 10, 11, 12, 15, 16, 18, 20, 21, 22, 24, 26, 27, 34, 2, 6, 7, 8, 9, 10, 11, 15, 17, 20, 21, 24, 26, 27, 34, 2, 6, 7, 8, 9, 10, 11, 12, 14, 15, 16, 17, 18, 20, 21, 22, 24, 26, 27, 30, 34, 10, 26, 26, 8, 1, 2, 3, 4, 5, 6, 7, 8, 9, 10, 11, 12, 13, 14, 15, 17, 18, 19, 20, 21, 22, 23, 24, 25, 26, 27, 28, 29, 30, 31, 32, 33, 34, 35, 11, 8, 10, 26, 1, 2, 3, 4, 5, 6, 7, 8, 9, 10, 11, 12, 14, 15, 16, 17, 18, 20, 21, 22, 24, 25, 26, 27, 28, 29, 30, 31, 33, 34, 35, 15, 34, 34, 20, 26, 8, 7, 21, 27, 24, 1, 2, 4, 5, 6, 7, 8, 9, 10, 11, 12, 14, 15, 16, 17, 18, 20, 21, 22, 24, 25, 26, 27, 28, 30, 31, 34, 35, 22, 2, 6, 7, 8, 10, 11, 14, 15, 17, 18, 20, 21, 22, 24, 26, 27, 34, 21, 15, 6, 7, 8, 15, 20, 21, 27, 34, 2, 10, 15, 34, 2, 6, 7, 8, 10, 11, 12, 14, 15, 16, 17, 18, 20, 21, 22, 24, 26, 27, 30, 34, 16, 16, 2, 4, 6, 7, 8, 9, 10, 11, 12, 14, 15, 16, 17, 18, 20, 21, 22, 24, 26, 27, 30, 34, 2, 7, 8, 10, 11, 12, 14, 15, 17, 18, 20, 21, 22, 24, 26, 27, 34, 27, 6, 2, 6, 11, 2, 6, 7, 8, 10, 11, 15, 16, 17, 20, 21, 22, 24, 26, 34, 8, 9, 10, 11, 15, 21, 22, 24, 34, 27, 2, 15, 8, 15, 7, 7, 10, 11, 15, 20, 21, 22, 24, 26, 34, 11, 16, 17, 2, 6, 7, 8, 10, 11, 14, 15, 16, 17, 18, 20, 21, 22, 24, 26, 27, 30, 34, 10, 11, 14, 15, 22, 27, 8, 10, 24, 2, 6, 7, 8, 9, 10, 11, 14, 15, 16, 17, 20, 21, 24, 26, 27, 34, 1, 2, 3, 4, 5, 6, 7, 8, 9, 10, 11, 12, 13, 14, 15, 16, 17, 18, 19, 20, 21, 22, 24, 25, 26, 27, 30, 31, 33, 34, 35, 10, 26, 27, 34, 15, 18, 15, 11, 2, 6, 7, 8, 10, 11, 14, 15, 16, 17, 18, 20, 21, 22, 24, 26, 27, 34, 15, 17, 18, 21, 26, 27, 34, 15, 21, 27, 2, 6, 7, 8, 10, 11, 14, 15, 16, 17, 18, 20, 21, 22, 24, 26, 27, 34, 7, 20, 2, 6, 7, 8, 9, 10, 11, 12, 14, 15, 16, 17, 18, 20, 21, 22, 24, 26, 27, 30, 34, 2, 10, 15, 16, 20, 1, 2, 3, 4, 5, 6, 7, 8, 9, 10, 11, 12, 13, 14, 15, 16, 17, 18, 19, 20, 21, 22, 23, 24, 25, 26, 27, 28, 29, 30, 31, 32, 33, 34, 35, 11, 17, 24, 7, 20, 15, 18, 2, 3, 5, 6, 7, 8, 9, 10, 11, 12, 13, 14, 15, 16, 17, 18, 20, 21, 22, 23, 24, 26, 27, 30, 33, 34, 35, 17, 11, 14, 22, 10, 30, 2, 6, 7, 8, 10, 11, 14, 15, 16, 17, 18, 20, 24, 26, 30, 34, 20, 14, 1, 2, 3, 4, 5, 6, 7, 8, 9, 10, 11, 12, 13, 14, 15, 16, 17, 18, 19, 20, 21, 22, 23, 24, 25, 26, 27, 28, 29, 30, 31, 33, 34, 35, 2, 20, 2, 7, 8, 10, 11, 18, 20, 22, 24, 26, 2, 6, 7, 8, 10, 11, 12, 14, 15, 18, 20, 21, 22, 27, 30, 2, 6, 7, 8, 9, 10, 11, 12, 14, 15, 16, 17, 18, 20, 21, 22, 24, 26, 27, 30, 34, 18, 1, 2, 3, 4, 6, 7, 8, 9, 10, 11, 12, 14, 15, 17, 18, 20, 21, 22, 24, 26, 27, 29, 30, 31, 34, 2, 6, 7, 9, 11, 15, 16, 17, 18, 20, 21, 23, 26, 27, 30, 32, 34, 27, 27, 32, 3, 21, 27, 27, 9, 21, 27, 3, 21, 9, 27, 9, 20, 21, 27, 30, 2, 6, 7, 10, 16, 18, 20, 21, 22, 24, 26, 30, 2, 6, 7, 10, 11, 17, 18, 20, 21, 22, 24, 26, 27, 30, 2, 30, 15, 2, 2, 10, 26, 8, 24, 26, 15, 9, 10, 15, 16, 17, 18, 21, 24, 26, 27, 32, 34, 1, 2, 3, 4, 6, 7, 8, 9, 10, 11, 12, 14, 15, 16, 17, 18, 19, 20, 21, 22, 24, 25, 26, 27, 30, 31, 33, 34, 35, 1, 2, 3, 4, 5, 6, 7, 8, 9, 10, 11, 12, 13, 14, 15, 16, 17, 18, 19, 20, 21, 22, 23, 24, 25, 26, 27, 28, 29, 30, 31, 32, 33, 34, 35, 26, 17, 2, 6, 7, 8, 9, 10, 11, 12, 14, 15, 16, 17, 18, 20, 21, 22, 24, 26, 27, 30, 34, 2, 6, 7, 8, 10, 11, 14, 15, 17, 18, 20, 21, 22, 24, 26, 27, 34, 2, 6, 8, 9, 10, 11, 15, 17, 18, 20, 21, 24, 26, 27, 34, 15, 18, 26, 17, 1, 2, 3, 4, 5, 6, 7, 8, 9, 10, 11, 12, 14, 15, 17, 18, 20, 21, 22, 23, 24, 25, 26, 27, 28, 30, 32, 33, 34, 35, 34, 2, 6, 7, 10, 11, 14, 15, 17, 20, 21, 22, 24, 26, 27, 34, 2, 7, 10, 17, 18, 20, 26, 8, 10, 14, 15, 26, 7, 2, 6, 7, 8, 9, 10, 11, 14, 15, 16, 17, 18, 20, 21, 22, 24, 26, 27, 30, 34, 1, 2, 4, 6, 7, 8, 9, 10, 11, 14, 15, 16, 17, 18, 20, 21, 22, 24, 25, 26, 27, 30, 33, 34, 2, 21, 2, 7, 8, 10, 11, 12, 14, 15, 16, 18, 20, 21, 22, 26, 27, 34, 21, 10, 30, 8, 10, 15, 21, 26, 27, 34, 24, 2, 6, 7, 8, 9, 10, 11, 12, 14, 15, 16, 17, 18, 20, 21, 22, 24, 26, 27, 30, 34, 7, 20, 2, 3, 6, 7, 8, 9, 10, 11, 12, 14, 15, 16, 17, 18, 20, 21, 22, 24, 26, 27, 30, 34, 21, 21, 27, 2, 6, 7, 11, 14, 15, 20, 24, 26, 30, 34, 26, 30, 34, 7, 20, 2, 6, 7, 8, 10, 12, 15, 16, 17, 18, 20, 22, 7, 30, 2, 8, 11, 15, 21, 26, 34, 14, 14, 7, 10, 14, 22, 26, 2, 2, 10, 27, 6, 6, 2, 27, 10, 21, 26, 27, 34, 6, 10, 11, 2, 7, 20, 2, 11, 12, 24, 2, 6, 7, 8, 9, 10, 11, 14, 15, 16, 17, 18, 20, 21, 24, 26, 27, 34, 2, 2, 6, 7, 8, 9, 10, 11, 12, 14, 15, 17, 18, 20, 21, 22, 24, 26, 30, 34, 34, 15, 8, 2, 6, 7, 8, 9, 10, 11, 14, 15, 16, 17, 18, 20, 21, 22, 24, 26, 27, 30, 34, 35, 2, 6, 10, 14, 15, 21, 24, 26, 34, 2, 14, 2, 7, 8, 9, 14, 15, 17, 20, 21, 24, 26, 27, 2, 10, 26, 2, 8, 10, 15, 21, 26, 34, 7, 20, 34, 7, 1, 2, 4, 6, 7, 8, 9, 10, 11, 12, 14, 15, 16, 17, 18, 20, 21, 22, 24, 26, 27, 30, 34, 2, 6, 7, 8, 9, 10, 11, 14, 15, 16, 17, 18, 20, 21, 22, 24, 26, 27, 30, 34, 15, 14, 14, 26, 1, 2, 3, 4, 5, 6, 7, 8, 9, 10, 11, 12, 14, 15, 16, 17, 18, 20, 21, 22, 23, 24, 25, 26, 27, 28, 30, 32, 34, 35, 18, 17, 2, 8, 10, 11, 20, 21, 26, 14, 6, 7, 12, 15, 20, 21, 22, 24, 26, 2, 3, 4, 5, 6, 7, 8, 9, 10, 11, 12, 14, 15, 16, 17, 18, 20, 21, 22, 24, 26, 27, 28, 30, 34, 35, 30, 17, 6, 15, 2, 6, 7, 8, 10, 11, 12, 14, 15, 17, 18, 20, 21, 22, 24, 26, 27, 30, 34, 24, 18, 10, 27, 30, 2, 1, 2, 3, 4, 5, 6, 7, 8, 9, 10, 11, 12, 13, 14, 15, 16, 17, 18, 19, 20, 21, 22, 23, 24, 25, 26, 27, 28, 29, 30, 31, 32, 33, 34, 35, 18, 2, 3, 4, 5, 6, 7, 8, 9, 10, 11, 12, 13, 14, 15, 16, 17, 18, 19, 20, 21, 22, 23, 24, 25, 26, 27, 28, 29, 30, 31, 33, 34, 35, 20, 27, 2, 3, 4, 6, 7, 8, 9, 10, 11, 12, 14, 15, 16, 17, 18, 19, 20, 21, 22, 23, 24, 26, 27, 28, 29, 30, 31, 33, 34, 35, 30, 18, 24, 9, 21, 9, 21, 27, 9, 27, 21, 9, 21, 27, 32, 21, 27, 21, 9, 21, 27, 9, 21, 27, 21, 21, 9, 21, 27, 27, 27, 21, 27, 2, 6, 7, 10, 11, 12, 14, 15, 16, 18, 20, 21, 22, 24, 26, 27, 34, 34, 20, 2, 3, 6, 7, 8, 10, 11, 12, 14, 15, 16, 17, 18, 20, 21, 22, 24, 26, 27, 34, 22, 2, 6, 7, 8, 10, 11, 14, 15, 16, 17, 18, 20, 21, 22, 24, 26, 27, 34, 17, 30, 30, 30, 17, 7, 9, 10, 15, 18, 27, 1, 2, 3, 4, 6, 7, 8, 9, 10, 11, 12, 14, 15, 16, 17, 18, 20, 21, 22, 24, 26, 27, 29, 30, 31, 32, 33, 34, 35, 2, 2, 6, 7, 8, 9, 10, 11, 12, 14, 15, 16, 17, 18, 20, 21, 22, 24, 26, 27, 30, 34, 30, 7, 20, 2, 6, 7, 10, 16, 17, 18, 20, 21, 22, 24, 26, 27, 34, 21, 7, 10, 12, 20, 22, 27, 34, 10, 10, 10, 10, 2, 6, 10, 11, 14, 15, 24, 26, 30, 34, 2, 7, 8, 10, 14, 15, 17, 20, 24, 26, 34, 6, 2, 6, 7, 8, 9, 10, 11, 12, 14, 15, 16, 17, 18, 20, 21, 22, 24, 26, 27, 30, 34, 2, 6, 7, 8, 9, 10, 11, 12, 14, 15, 16, 17, 18, 20, 21, 22, 24, 26, 27, 30, 34, 18, 12, 22, 2, 6, 7, 8, 9, 10, 11, 12, 14, 15, 16, 17, 18, 20, 21, 22, 24, 26, 27, 30, 34, 2, 6, 7, 11, 14, 15, 18, 20, 21, 24, 26, 27, 30, 34, 21, 21, 8, 10, 17, 24, 26, 34, 2, 6, 7, 8, 9, 10, 11, 12, 14, 15, 16, 17, 18, 20, 21, 22, 24, 26, 27, 30, 34, 2, 30, 34, 2, 4, 6, 7, 8, 9, 10, 11, 12, 14, 15, 16, 17, 18, 19, 20, 21, 22, 24, 25, 26, 27, 29, 30, 31, 32, 34, 35, 2, 10, 14, 21, 6, 10, 26, 2, 10, 26, 2, 6, 7, 8, 10, 11, 14, 15, 20, 21, 24, 26, 27, 34, 2, 6, 7, 8, 10, 11, 14, 20, 21, 26, 27, 34, 2, 6, 7, 8, 10, 11, 12, 14, 15, 17, 20, 21, 22, 24, 26, 27, 34, 2, 11, 14, 15, 21, 34, 10, 22, 34, 12, 14, 20, 22, 34, 2, 6, 7, 8, 10, 11, 12, 14, 15, 17, 18, 20, 21, 22, 24, 26, 27, 34, 2, 6, 7, 8, 9, 10, 11, 14, 15, 16, 17, 18, 20, 24, 26, 27, 34, 10, 10, 2, 6, 7, 10, 11, 12, 14, 15, 16, 17, 18, 20, 21, 22, 24, 26, 27, 30, 34, 10, 15, 26, 2, 3, 4, 6, 7, 8, 9, 10, 11, 12, 13, 14, 15, 16, 17, 18, 19, 20, 21, 22, 24, 25, 26, 27, 29, 30, 31, 34, 35, 1, 2, 3, 4, 5, 6, 7, 8, 9, 10, 11, 12, 13, 14, 15, 16, 17, 18, 19, 20, 21, 22, 23, 24, 25, 26, 27, 28, 29, 30, 31, 32, 33, 34, 35, 16, 2, 6, 7, 8, 10, 11, 15, 20, 21, 24, 26, 34, 2, 6, 7, 8, 10, 11, 12, 14, 15, 17, 18, 20, 21, 22, 24, 26, 27, 30, 34, 27, 7, 11, 20, 7, 18, 18, 7, 20, 9, 10, 11, 15, 21, 24, 26, 2, 6, 7, 10, 14, 20, 21, 22, 24, 26, 27, 34, 22, 1, 2, 3, 4, 5, 6, 7, 8, 9, 10, 11, 12, 13, 14, 15, 17, 18, 19, 20, 21, 22, 23, 24, 25, 26, 27, 28, 29, 30, 31, 32, 33, 34, 35, 2, 6, 7, 8, 10, 11, 12, 14, 15, 16, 17, 18, 20, 21, 22, 24, 26, 27, 34, 2, 6, 7, 8, 9, 10, 11, 14, 15, 17, 18, 20, 21, 24, 26, 27, 30, 34, 15, 2, 6, 7, 8, 10, 11, 12, 14, 15, 16, 17, 18, 20, 21, 22, 24, 26, 27, 30, 34, 8, 2, 12, 6, 24, 34, 6, 7, 15, 20, 26, 27, 34, 20, 6, 7, 15, 20, 27, 20, 2, 6, 11, 6, 6, 7, 8, 11, 17, 20, 21, 24, 26, 21, 14, 8, 17, 34, 2, 3, 6, 7, 8, 9, 10, 11, 12, 14, 15, 16, 17, 18, 20, 21, 22, 24, 25, 26, 27, 30, 33, 34, 35, 1, 2, 3, 4, 5, 6, 7, 8, 9, 10, 11, 12, 13, 14, 15, 16, 17, 18, 19, 20, 21, 22, 23, 24, 25, 26, 27, 28, 29, 30, 31, 32, 33, 34, 35, 2, 7, 2, 6, 7, 8, 10, 11, 12, 14, 15, 16, 17, 18, 20, 21, 22, 24, 26, 27, 34, 34, 1, 2, 3, 4, 5, 6, 7, 8, 9, 10, 11, 12, 14, 15, 16, 17, 18, 19, 20, 21, 22, 23, 24, 25, 26, 27, 29, 30, 31, 32, 33, 34, 35, 7, 12, 15, 17, 20, 22, 24, 34, 2, 6, 7, 8, 10, 11, 12, 14, 15, 16, 17, 18, 20, 21, 22, 24, 26, 27, 30, 34, 2, 6, 7, 8, 9, 10, 11, 12, 14, 15, 17, 18, 20, 21, 22, 24, 26, 27, 30, 34, 35, 2, 6, 10, 15, 18, 20, 24, 26, 2, 6, 7, 8, 9, 10, 11, 14, 15, 16, 18, 20, 21, 24, 26, 27, 34, 18, 8, 24, 34, 21, 2, 6, 7, 8, 9, 10, 11, 14, 15, 16, 17, 18, 20, 21, 22, 24, 26, 27, 30, 34, 16, 26, 24, 24, 34, 15, 10, 11, 14, 11, 14, 15, 15, 2, 15, 16, 17, 20, 24, 34, 35, 34, 2, 6, 7, 8, 9, 10, 11, 12, 14, 15, 16, 17, 18, 20, 21, 22, 24, 26, 27, 30, 34, 10, 26, 9, 17, 14, 15, 17, 27, 14, 2, 6, 7, 8, 9, 10, 11, 12, 14, 15, 17, 18, 20, 21, 22, 24, 26, 27, 30, 34, 2, 10, 14, 17, 21, 26, 27, 2, 27, 2, 3, 6, 7, 8, 9, 10, 11, 12, 14, 15, 16, 17, 18, 20, 21, 22, 24, 26, 27, 30, 34, 2, 6, 7, 8, 9, 10, 11, 14, 15, 17, 18, 20, 21, 24, 26, 27, 34, 6, 27, 34, 1, 2, 3, 4, 6, 7, 8, 9, 10, 11, 12, 13, 14, 15, 17, 18, 20, 21, 22, 24, 25, 26, 27, 29, 30, 31, 32, 34, 35, 2, 6, 7, 8, 9, 10, 11, 12, 14, 15, 17, 18, 20, 21, 22, 24, 26, 27, 30, 34, 34, 2, 7, 8, 10, 11, 12, 14, 15, 17, 22, 24, 26, 27, 34, 2, 6, 7, 8, 10, 11, 14, 15, 17, 18, 20, 21, 24, 26, 27, 30, 34, 17, 14, 14, 34, 12, 22, 2, 6, 7, 8, 10, 11, 14, 15, 16, 17, 18, 20, 21, 22, 24, 26, 30, 34, 24, 2, 3, 6, 7, 8, 9, 10, 11, 12, 14, 15, 16, 17, 18, 20, 21, 22, 24, 26, 27, 30, 34, 1, 2, 3, 4, 5, 6, 7, 8, 9, 10, 11, 12, 13, 14, 15, 17, 18, 19, 20, 21, 22, 23, 24, 25, 26, 27, 28, 29, 30, 31, 32, 33, 34, 35, 2, 6, 7, 8, 10, 11, 14, 15, 17, 18, 20, 21, 22, 24, 26, 27, 30, 34, 2, 6, 7, 10, 15, 20, 22, 24, 26, 27, 34, 2, 6, 7, 10, 11, 14, 15, 16, 17, 18, 20, 21, 22, 24, 26, 27, 34, 2, 3, 4, 5, 6, 7, 8, 9, 10, 11, 12, 13, 14, 15, 16, 17, 18, 20, 21, 22, 24, 26, 27, 30, 34, 35, 2, 3, 4, 6, 7, 8, 9, 10, 11, 12, 14, 15, 16, 17, 18, 20, 21, 22, 24, 26, 27, 30, 34, 35, 2, 10, 17, 18, 20, 26, 34, 1, 2, 3, 4, 5, 6, 7, 8, 9, 10, 11, 12, 13, 14, 15, 16, 17, 18, 19, 20, 21, 22, 23, 24, 25, 26, 27, 28, 29, 30, 31, 32, 33, 34, 35, 2, 6, 7, 8, 9, 10, 11, 12, 14, 15, 16, 17, 18, 20, 21, 22, 24, 26, 27, 30, 34, 8, 11, 24, 1, 2, 3, 4, 5, 6, 7, 8, 9, 10, 11, 12, 13, 14, 15, 16, 17, 18, 19, 20, 21, 22, 23, 24, 25, 26, 27, 28, 29, 30, 31, 32, 33, 34, 35, 2, 6, 7, 8, 9, 10, 11, 12, 14, 15, 16, 17, 18, 20, 21, 22, 24, 26, 27, 30, 34, 7, 20, 2, 6, 7, 8, 9, 10, 11, 14, 15, 16, 17, 18, 20, 21, 22, 24, 26, 27, 30, 34, 9, 15, 27, 34, 2, 7, 2, 6, 7, 8, 10, 11, 12, 14, 15, 16, 17, 18, 20, 21, 22, 24, 26, 27, 30, 34, 2, 1, 2, 3, 4, 5, 6, 7, 8, 9, 10, 11, 13, 14, 15, 16, 17, 18, 19, 20, 21, 23, 24, 25, 26, 27, 28, 29, 30, 31, 32, 33, 34, 35, 24, 10, 26, 17, 24, 1, 2, 3, 4, 5, 6, 7, 8, 9, 10, 11, 12, 13, 14, 15, 16, 17, 18, 19, 20, 21, 22, 23, 24, 25, 26, 27, 28, 29, 30, 31, 32, 33, 34, 35, 7, 2, 6, 24, 34, 24, 10, 2, 6, 7, 8, 9, 10, 11, 14, 15, 17, 20, 21, 24, 26, 34, 1, 2, 3, 4, 5, 6, 7, 8, 9, 10, 11, 12, 13, 14, 15, 16, 17, 18, 19, 20, 21, 22, 23, 24, 25, 26, 27, 28, 29, 30, 31, 32, 33, 34, 35, 16, 24, 20, 10, 2, 10, 18, 26, 2, 10, 11, 15, 22, 24, 26, 27, 34, 27, 17, 11, 22, 7, 10, 12, 15, 26, 27, 22, 17, 2, 6, 7, 8, 9, 10, 11, 12, 14, 15, 16, 17, 18, 20, 21, 22, 24, 26, 27, 30, 34, 21, 7, 20, 24, 2, 6, 7, 8, 9, 10, 11, 14, 15, 16, 17, 18, 20, 21, 22, 24, 26, 27, 30, 34, 7, 2, 6, 7, 8, 10, 11, 12, 14, 15, 17, 18, 20, 21, 22, 24, 26, 27, 30, 34, 2, 6, 7, 8, 9, 10, 11, 14, 15, 17, 18, 20, 21, 24, 26, 27, 30, 34, 2, 6, 7, 8, 10, 11, 14, 15, 17, 18, 20, 21, 24, 26, 27, 34, 2, 6, 7, 8, 10, 11, 14, 15, 17, 18, 20, 21, 22, 24, 26, 27, 34, 2, 6, 7, 8, 9, 10, 11, 14, 15, 16, 17, 18, 20, 21, 22, 24, 26, 27, 30, 34, 2, 6, 10, 14, 20, 22, 24, 26, 9, 10, 11, 12, 15, 22, 26, 34, 2, 6, 7, 8, 10, 11, 14, 15, 16, 17, 18, 20, 21, 22, 24, 26, 34, 27, 2, 6, 7, 8, 9, 10, 11, 14, 15, 16, 17, 18, 20, 21, 22, 24, 26, 27, 34, 2, 3, 4, 5, 6, 7, 8, 9, 10, 11, 12, 14, 15, 16, 17, 18, 19, 20, 21, 22, 23, 24, 25, 26, 27, 29, 30, 31, 33, 34, 35, 2, 6, 7, 8, 10, 11, 12, 14, 15, 16, 17, 18, 20, 21, 22, 24, 26, 27, 34, 2, 4, 6, 7, 8, 9, 10, 11, 12, 14, 15, 16, 17, 18, 19, 20, 21, 22, 24, 26, 27, 30, 31, 34, 35, 2, 14, 15, 17, 24, 26, 20, 2, 6, 7, 8, 9, 10, 11, 12, 14, 15, 16, 17, 18, 20, 21, 22, 24, 26, 27, 30, 34, 20, 2, 6, 7, 10, 11, 12, 20, 22, 24, 26, 27, 2, 6, 7, 8, 10, 11, 14, 15, 16, 17, 18, 20, 21, 22, 24, 26, 27, 30, 34, 2, 6, 7, 8, 9, 10, 11, 12, 14, 15, 16, 17, 18, 20, 21, 22, 24, 26, 27, 30, 34, 2, 6, 7, 8, 9, 10, 11, 12, 14, 15, 16, 17, 18, 20, 21, 22, 24, 26, 27, 30, 34, 7, 27, 11, 11, 10, 2, 21, 1, 2, 4, 5, 6, 7, 8, 9, 10, 11, 12, 14, 15, 16, 17, 18, 19, 20, 21, 22, 24, 26, 27, 28, 30, 31, 34, 35, 21, 27, 11, 16, 24, 2, 6, 10, 11, 14, 15, 24, 26, 30, 34, 2, 6, 15, 24, 30, 34, 2, 6, 30, 2, 6, 7, 8, 9, 10, 11, 14, 15, 16, 17, 18, 20, 21, 22, 24, 26, 27, 30, 34, 34, 1, 2, 3, 4, 5, 6, 7, 8, 9, 10, 11, 12, 13, 14, 15, 16, 17, 18, 19, 20, 21, 22, 23, 24, 25, 26, 27, 28, 29, 30, 31, 33, 34, 35, 2, 10, 15, 18, 20, 22, 26, 6, 18, 2, 6, 7, 8, 9, 10, 11, 12, 14, 15, 17, 18, 20, 21, 22, 24, 26, 27, 30, 34, 2, 6, 7, 8, 10, 11, 14, 15, 16, 17, 18, 20, 21, 22, 24, 26, 34, 2, 8, 10, 11, 17, 21, 24, 26, 34, 2, 3, 4, 5, 6, 7, 8, 9, 10, 11, 12, 13, 14, 15, 16, 17, 18, 19, 20, 21, 22, 24, 25, 26, 27, 28, 30, 31, 33, 34, 35, 10, 11, 18, 15, 34, 17, 24, 24, 8, 10, 11, 17, 26, 27, 2, 7, 8, 10, 11, 15, 16, 20, 21, 24, 26, 27, 34, 10, 2, 6, 7, 8, 9, 10, 11, 12, 14, 15, 16, 17, 18, 20, 21, 22, 24, 26, 27, 34, 2, 6, 7, 8, 9, 10, 11, 12, 14, 15, 16, 17, 18, 20, 21, 22, 24, 26, 27, 34, 14, 17, 24, 26, 10, 30, 1, 2, 3, 4, 5, 6, 7, 8, 9, 10, 11, 12, 13, 14, 15, 16, 17, 18, 19, 20, 21, 22, 23, 24, 25, 26, 27, 28, 29, 30, 31, 32, 33, 34, 35, 8, 10, 2, 6, 7, 8, 10, 11, 12, 14, 15, 16, 17, 20, 21, 22, 24, 26, 27, 30, 34, 16, 16, 1, 2, 3, 4, 5, 6, 7, 8, 9, 10, 11, 12, 13, 14, 15, 16, 17, 18, 19, 20, 21, 22, 23, 24, 25, 26, 27, 28, 29, 30, 31, 32, 33, 34, 35, 10, 10, 10, 10, 16, 27, 9, 6, 7, 8, 10, 11, 15, 16, 17, 18, 20, 22, 26, 30, 34, 2, 6, 7, 8, 10, 11, 14, 15, 17, 20, 21, 22, 24, 26, 27, 34, 8, 8, 11, 17, 24, 8, 2, 7, 8, 11, 20, 21, 22, 24, 26, 27, 2, 6, 7, 8, 10, 11, 12, 14, 15, 16, 17, 18, 20, 21, 22, 24, 26, 27, 30, 34, 2, 6, 7, 8, 9, 10, 11, 14, 15, 16, 17, 18, 20, 21, 22, 24, 26, 27, 30, 34, 14, 18, 34, 2, 7, 10, 11, 12, 15, 20, 26, 2, 7, 11, 15, 20, 2, 7, 8, 9, 10, 14, 21, 24, 18, 10, 15, 17, 24, 34, 10, 1, 2, 3, 4, 5, 6, 7, 8, 9, 10, 11, 12, 13, 14, 15, 16, 17, 18, 19, 20, 21, 22, 23, 24, 25, 26, 27, 28, 29, 30, 31, 32, 33, 34, 35, 27, 16, 16, 14, 6, 7, 11, 16, 20, 27, 2, 6, 7, 8, 9, 10, 11, 14, 15, 16, 17, 18, 20, 21, 24, 26, 27, 30, 34, 16, 14, 2, 10, 26, 2, 6, 7, 10, 11, 14, 15, 18, 20, 21, 24, 26, 34, 7, 16, 20, 24, 26, 27, 18, 6, 2, 6, 7, 8, 10, 11, 18, 20, 21, 24, 26, 27, 34, 2, 10, 18, 20, 21, 24, 26, 8, 2, 6, 8, 9, 10, 11, 14, 15, 17, 18, 20, 21, 22, 24, 26, 27, 34, 17, 2, 26, 30, 15, 17, 18, 11, 11, 10, 12, 15, 2, 4, 6, 7, 8, 10, 11, 12, 14, 15, 16, 17, 18, 20, 21, 22, 24, 26, 27, 30, 34, 8, 20, 6, 7, 8, 10, 11, 17, 20, 18, 17, 2, 10, 15, 8, 15, 10, 11, 15, 26, 34, 21, 27, 2, 10, 17, 18, 34, 7, 20, 17, 20, 7, 2, 6, 8, 11, 15, 21, 34, 14, 10, 14, 17, 18, 7, 11, 15, 18, 20, 21, 27, 2, 6, 7, 8, 10, 11, 14, 15, 16, 17, 20, 21, 24, 26, 27, 34, 2, 6, 7, 8, 10, 11, 14, 15, 16, 17, 20, 21, 22, 24, 26, 27, 30, 34, 15, 18, 34, 11, 11, 2, 10, 20, 22, 27, 2, 6, 7, 9, 11, 14, 15, 20, 21, 24, 26, 27, 34, 7, 18, 20, 20, 7, 16, 20, 27, 7, 20, 27, 7, 6, 15, 21, 26, 27, 34, 6, 10, 17, 24, 7, 7, 27, 11, 14, 24, 26, 34, 2, 6, 7, 8, 10, 11, 12, 14, 15, 17, 18, 20, 21, 22, 24, 26, 27, 30, 34, 11, 2, 6, 7, 8, 10, 11, 12, 14, 15, 16, 17, 18, 20, 21, 22, 24, 26, 27, 30, 34, 2, 6, 7, 8, 10, 11, 12, 14, 15, 16, 17, 18, 20, 21, 22, 24, 26, 27, 30, 34, 2, 8, 10, 11, 15, 18, 24, 26, 34, 8, 22, 22, 22, 22, 1, 2, 3, 4, 5, 6, 7, 8, 9, 10, 11, 12, 13, 14, 15, 16, 17, 18, 19, 20, 21, 22, 23, 24, 25, 26, 27, 28, 29, 30, 31, 32, 33, 34, 35, 9, 21, 26, 34, 27, 7, 34, 20, 2, 6, 7, 8, 9, 10, 11, 12, 14, 15, 16, 17, 18, 20, 21, 22, 24, 26, 27, 30, 34, 2, 6, 7, 8, 9, 10, 11, 12, 14, 15, 17, 18, 20, 21, 22, 24, 26, 27, 30, 34, 2, 6, 7, 10, 11, 12, 14, 15, 16, 20, 21, 22, 24, 27, 34, 16, 22, 26, 17, 7, 20, 21, 34, 16, 20, 27, 16, 22, 2, 6, 7, 8, 10, 11, 14, 15, 16, 17, 20, 21, 22, 24, 26, 27, 34, 2, 6, 8, 10, 11, 14, 15, 18, 21, 24, 26, 30, 34, 11, 7, 2, 7, 11, 15, 34, 2, 2, 6, 16, 2, 6, 7, 8, 9, 10, 11, 14, 15, 16, 17, 18, 20, 21, 22, 24, 26, 27, 30, 34, 1, 2, 3, 4, 5, 6, 7, 8, 9, 10, 11, 12, 14, 15, 16, 17, 18, 19, 20, 21, 22, 24, 26, 27, 28, 30, 32, 34, 2, 7, 8, 9, 10, 11, 12, 15, 18, 20, 21, 22, 24, 26, 27, 34, 24, 7, 20, 1, 2, 3, 4, 5, 6, 7, 8, 9, 10, 11, 12, 13, 14, 15, 16, 17, 18, 19, 20, 21, 22, 23, 24, 25, 26, 27, 28, 29, 30, 31, 32, 33, 34, 35, 2, 6, 7, 8, 9, 10, 11, 14, 15, 16, 17, 18, 20, 21, 22, 24, 26, 27, 34, 6, 8, 9, 12, 20, 22, 26, 6, 1, 2, 3, 4, 5, 6, 7, 8, 9, 10, 11, 12, 13, 14, 15, 16, 17, 18, 19, 20, 21, 22, 23, 24, 25, 26, 27, 28, 29, 30, 31, 32, 33, 34, 35, 11, 22, 8, 2, 6, 7, 8, 9, 10, 11, 12, 14, 15, 17, 18, 20, 21, 22, 24, 26, 27, 34, 15, 2, 6, 10, 11, 14, 15, 18, 21, 22, 24, 26, 27, 30, 34, 26, 22, 30, 10, 18, 16, 15, 12, 2, 4, 6, 7, 8, 9, 10, 11, 12, 14, 15, 17, 18, 20, 21, 22, 24, 26, 27, 30, 34, 2, 4, 6, 7, 8, 9, 10, 11, 14, 15, 16, 17, 18, 20, 21, 24, 26, 27, 30, 34, 1, 2, 3, 4, 5, 6, 7, 8, 9, 10, 11, 12, 14, 15, 16, 17, 18, 19, 20, 21, 22, 24, 25, 26, 27, 30, 31, 33, 34, 35, 20, 7, 7, 20, 20, 2, 6, 7, 8, 10, 11, 12, 14, 15, 16, 17, 20, 21, 22, 24, 26, 27, 34, 34, 2, 6, 10, 11, 15, 20, 21, 22, 24, 26, 34, 6, 14, 7, 20, 1, 2, 3, 4, 5, 6, 7, 8, 9, 10, 11, 12, 13, 14, 15, 16, 17, 18, 19, 20, 21, 22, 23, 24, 25, 26, 27, 28, 29, 30, 31, 32, 33, 34, 35, 7, 2, 6, 11, 14, 15, 20, 24, 30, 34, 12, 20, 22, 12, 22, 2, 6, 7, 8, 9, 10, 11, 14, 15, 17, 18, 20, 21, 22, 24, 26, 27, 30, 34, 2, 6, 10, 18, 20, 24, 30, 7, 9, 14, 20, 21, 27, 2, 6, 7, 10, 11, 15, 17, 18, 20, 21, 22, 24, 26, 27, 30, 30, 14, 10, 14, 22, 3, 11, 15, 34, 2, 6, 15, 21, 2, 6, 7, 8, 10, 11, 12, 14, 15, 17, 18, 20, 21, 22, 24, 26, 27, 30, 34, 12, 22, 26, 34, 6, 7, 20, 22, 27, 7, 20, 12, 22, 8, 10, 11, 15, 17, 18, 24, 26, 2, 6, 7, 8, 9, 10, 11, 12, 14, 15, 16, 17, 18, 20, 21, 22, 24, 26, 27, 30, 34, 15, 7, 11, 17, 20, 34, 10, 2, 6, 7, 8, 10, 11, 14, 15, 16, 18, 20, 21, 22, 24, 26, 27, 30, 34, 2, 6, 7, 8, 9, 10, 11, 12, 14, 15, 16, 17, 18, 20, 21, 22, 24, 26, 27, 30, 34, 35, 2, 8, 15, 24, 26, 34, 11, 9, 17, 1, 2, 3, 4, 5, 6, 7, 8, 9, 10, 11, 12, 13, 14, 15, 16, 17, 18, 19, 20, 21, 22, 23, 24, 25, 26, 27, 28, 29, 30, 31, 32, 33, 34, 35, 11, 10, 2, 6, 8, 10, 12, 15, 17, 21, 22, 26, 34, 15, 10, 15, 17, 21, 22, 6, 10, 11, 15, 24, 27, 34, 7, 10, 15, 26, 2, 6, 7, 8, 9, 10, 11, 12, 14, 15, 16, 17, 18, 20, 21, 22, 24, 26, 27, 30, 34, 16, 16, 2, 6, 7, 8, 10, 11, 12, 15, 17, 18, 20, 22, 24, 26, 34, 11, 1, 2, 3, 4, 5, 6, 7, 8, 9, 10, 11, 12, 13, 14, 15, 16, 17, 18, 19, 20, 21, 22, 23, 24, 25, 26, 27, 28, 29, 30, 31, 32, 33, 34, 35, 2, 34, 2, 3, 4, 6, 7, 8, 9, 10, 11, 12, 14, 15, 16, 17, 18, 20, 21, 22, 24, 25, 26, 27, 28, 30, 32, 34, 10, 20, 2, 6, 8, 11, 12, 15, 21, 22, 24, 26, 34, 2, 10, 15, 21, 30, 6, 7, 10, 14, 15, 16, 17, 18, 20, 21, 24, 17, 10, 17, 26, 11, 18, 11, 15, 15, 2, 24, 26, 2, 6, 7, 8, 10, 11, 12, 14, 15, 17, 20, 21, 22, 26, 27, 34, 7, 10, 11, 14, 20, 22, 14, 15, 27, 2, 6, 7, 8, 10, 11, 14, 15, 16, 17, 18, 20, 21, 22, 24, 26, 27, 34, 7, 11, 20, 22, 2, 6, 7, 11, 14, 15, 20, 21, 22, 27, 7, 9, 11, 21, 8, 9, 11, 2, 14, 6, 30, 7, 10, 26, 30, 1, 2, 3, 4, 5, 6, 7, 8, 9, 10, 11, 12, 13, 14, 15, 16, 17, 20, 21, 22, 23, 24, 26, 27, 28, 29, 32, 33, 34, 35, 22, 2, 4, 6, 7, 8, 9, 10, 11, 12, 14, 15, 17, 18, 20, 21, 22, 24, 26, 27, 30, 34, 7, 15, 16, 20, 15, 16, 2, 6, 7, 8, 10, 11, 14, 15, 16, 17, 18, 20, 21, 22, 24, 26, 27, 34, 20, 22, 12, 17, 22, 34, 2, 10, 11, 15, 20, 21, 22, 24, 26, 27, 17, 2, 10, 34, 2, 6, 7, 8, 10, 11, 15, 18, 20, 21, 22, 24, 26, 27, 30, 34, 2, 4, 5, 6, 7, 8, 9, 10, 11, 12, 14, 15, 16, 17, 18, 20, 21, 22, 24, 26, 27, 30, 34, 35, 16, 30, 2, 6, 7, 8, 9, 10, 11, 14, 15, 16, 17, 18, 20, 21, 22, 24, 26, 27, 30, 34, 11, 21, 2, 6, 10, 11, 15, 17, 20, 21, 24, 26, 34, 2, 6, 7, 8, 9, 10, 11, 12, 14, 15, 16, 17, 18, 20, 21, 22, 24, 26, 27, 30, 34, 20, 2, 7, 10, 12, 14, 15, 20, 22, 2, 10, 24, 34, 8, 17, 2, 6, 7, 15, 20, 12, 15, 22, 2, 4, 6, 7, 8, 9, 10, 11, 12, 14, 15, 16, 17, 18, 20, 21, 22, 24, 26, 27, 30, 34, 14, 7, 11, 24, 2, 6, 7, 10, 11, 15, 17, 18, 20, 21, 24, 26, 14, 20, 12, 21, 2, 4, 6, 7, 8, 9, 10, 11, 14, 15, 17, 18, 19, 20, 21, 22, 24, 26, 27, 29, 30, 34, 2, 6, 7, 10, 11, 14, 15, 16, 17, 18, 20, 21, 22, 24, 26, 27, 30, 34, 2, 10, 18, 20, 26, 2, 10, 16, 18, 26, 27, 18, 17, 7, 20, 1, 2, 3, 4, 5, 6, 7, 8, 9, 10, 11, 12, 13, 14, 15, 16, 17, 18, 19, 20, 21, 22, 23, 24, 25, 26, 27, 28, 29, 30, 31, 32, 33, 34, 35, 18, 16, 30, 7, 20, 2, 7, 10, 15, 16, 18, 20, 26, 27, 24, 2, 8, 10, 11, 15, 18, 21, 24, 26, 34, 7, 11, 16, 20, 27, 2, 18, 26, 21, 2, 7, 20, 7, 10, 24, 34, 10, 7, 9, 10, 14, 15, 16, 17, 20, 21, 24, 34, 30, 27, 17, 16, 7, 16, 20, 27, 16, 2, 2, 6, 7, 8, 10, 11, 12, 15, 16, 17, 20, 21, 22, 24, 26, 27, 34, 7, 20, 27, 7, 15, 16, 18, 20, 22, 27, 1, 2, 3, 4, 5, 6, 7, 8, 9, 10, 11, 12, 13, 14, 15, 16, 17, 18, 19, 20, 21, 22, 23, 24, 25, 26, 27, 28, 29, 30, 31, 32, 33, 34, 35, 16, 20, 16, 10, 11, 14, 26, 1, 2, 3, 4, 5, 6, 7, 8, 9, 10, 11, 12, 13, 14, 15, 16, 17, 18, 19, 20, 21, 22, 23, 24, 25, 26, 27, 28, 29, 30, 31, 32, 33, 34, 35, 1, 2, 3, 4, 5, 6, 7, 8, 9, 10, 11, 12, 13, 14, 15, 16, 17, 18, 19, 20, 21, 22, 23, 24, 25, 26, 27, 28, 29, 30, 31, 32, 33, 34, 35, 10, 11, 12, 22, 2, 6, 7, 8, 9, 10, 14, 17, 18, 20, 21, 24, 27, 30, 34, 11, 11, 11, 11, 11, 11, 11], \"Freq\": [0.9943227852691923, 0.024634282294546887, 0.03695142344182033, 0.6897599042473128, 0.061585705736367215, 0.049268564589093775, 0.12317141147273443, 0.8183143302418423, 0.08183143302418422, 0.08183143302418422, 0.7747825915724443, 0.11068322736749205, 0.9395837018544151, 0.051658318283573305, 0.00012914579570893326, 0.01265628797947546, 0.04545932008954451, 0.006198998194028797, 0.000516583182835733, 0.08433220459793342, 0.03254474051865118, 0.00671558137686453, 0.0034869364841411984, 0.0683181259300257, 0.04623419486379811, 0.006457289785446663, 0.033836198475740514, 0.20405035722011455, 0.008265330925371728, 0.009815080473878928, 0.2068915647257111, 0.08394476721080663, 0.016530661850743457, 0.008007039333953863, 0.06341058569308623, 0.9522002614897753, 0.034227176932065936, 0.9583609540978462, 0.09164718092323863, 0.034130674274861286, 0.003792297141651254, 0.042347318081772334, 0.001896148570825627, 0.0537242095067261, 0.02401788189712461, 0.001896148570825627, 0.01832943618464773, 0.07078954664415674, 0.2667248989628049, 0.022121733326298982, 0.013273039995779388, 0.02464993142073315, 0.0031602476180427118, 0.05056396188868339, 0.27430949324610737, 0.0025281980944341694, 0.0006320495236085424, 0.8365639836185512, 0.12870215132593094, 0.05400845330434294, 0.012001878512076208, 0.046507279234295304, 0.006000939256038104, 0.05250821849033341, 0.034505400722219096, 0.05400845330434294, 0.009001408884057156, 0.31955001538402905, 0.01950305258212384, 0.00750117407004763, 0.14702301177293356, 0.09451479328260014, 0.0750117407004763, 0.05550868811835246, 0.006000939256038104, 0.006000939256038104, 0.14477405304482857, 0.05225730091489208, 0.03706002462841836, 0.01386418187537953, 0.0013330944110941858, 0.06478838837917743, 0.06372191285030207, 0.04185916450835743, 0.049057874328266034, 0.008265185348783951, 0.012531087464285346, 0.017330227344224413, 0.10878050394528556, 0.019196559519756275, 0.10264826965425229, 0.11171331164969277, 0.0890507066610916, 0.02772836375075906, 0.0034660454688448827, 0.02986131480850976, 0.0489352766431138, 0.011292756148410877, 0.026349764346292045, 0.17315559427563343, 0.1882126024735146, 0.018821260247351458, 0.007528504098940584, 0.045171024593643506, 0.3161971721555045, 0.08281354508834642, 0.045171024593643506, 0.033878268445232625, 0.9141627477670777, 0.9950299623861071, 0.9910157595439919, 0.11087788629719261, 0.033140622841596315, 0.015547452691119259, 0.03232233585785319, 0.0012274304756146783, 0.07119096758565134, 0.05809837584576144, 0.009410300313045867, 0.03395890982533943, 0.02004803110170641, 0.0024548609512293567, 0.06709953266693575, 0.02986747490662384, 0.05155207997581649, 0.07282754155313757, 0.004909721902458713, 0.10801388185409169, 0.2270746379887155, 0.011865161264275224, 0.005318865394330272, 0.031913192365981634, 0.998743592683325, 0.9614195452289626, 0.9892339124144159, 0.9682386913851445, 0.042748557057042065, 0.9404682552549255, 0.1913875997594079, 0.014176859241437622, 0.028353718482875243, 0.03544214810359406, 0.5883396585196613, 0.014176859241437622, 0.007088429620718811, 0.028353718482875243, 0.04961900734503168, 0.021265288862156433, 0.021265288862156433, 0.9202187956784613, 0.05381526907763123, 0.002446148594437783, 0.009784594377751131, 0.13148048695103084, 0.0018346114458283372, 0.021403800201330602, 0.023849948795768385, 0.05687295482067845, 0.009784594377751131, 0.026907634538815613, 0.02262687449854949, 0.0012230742972188914, 0.00856152008053224, 0.04403067469988009, 0.5638372510179089, 0.0012230742972188914, 0.003057685743047229, 0.016511503012455034, 0.960694659862218, 0.00018740769946548917, 0.07009047960009294, 0.00018740769946548917, 0.00018740769946548917, 0.00018740769946548917, 0.07590011828352311, 0.0380437629914943, 0.01630446985349756, 0.0020614846941203807, 0.04853859416156169, 0.03148449351020218, 0.0014992615957239133, 0.07027788729955844, 0.04460303247278642, 0.021739293137996742, 0.005434823284499186, 0.010494831170067394, 0.18084842998419703, 0.11206980428036252, 0.004872600186102719, 0.0794608645733674, 0.00018740769946548917, 0.06671714100971414, 0.08208457236588426, 0.005060007885568207, 0.03148449351020218, 0.00018740769946548917, 0.9306829535137517, 0.006338375875413132, 0.012676751750826264, 0.009507563813119697, 0.06655294669183788, 0.012676751750826264, 0.23768909532799243, 0.012676751750826264, 0.009507563813119697, 0.028522691439359094, 0.5894689564134212, 0.009507563813119697, 0.08139480593240447, 0.00472615002188155, 0.0036758944614634277, 0.0026256389010453052, 0.07981942259177728, 0.02783177235108024, 0.09294761709700382, 0.19639778979818884, 0.01417845006564465, 0.04568611687818831, 0.006301533362508733, 0.008402044483344978, 0.430079651991221, 0.0010502555604181222, 0.004201022241672489, 0.9587853168981759, 0.0029120320695763115, 0.0048533867826271865, 0.32905962386212323, 0.05144589989584817, 0.010677450921779809, 0.2038422448703418, 0.0009706773565254372, 0.010677450921779809, 0.3348836880012758, 0.0048533867826271865, 0.03882709426101749, 0.005824064139152623, 0.4942082325967197, 0.05320668342656196, 0.006139232703064841, 0.0593459161296268, 0.0603691215801376, 0.020464109010216138, 0.06241553248115922, 0.012278465406129683, 0.018417698109194525, 0.001023205450510807, 0.004092821802043228, 0.08185643604086455, 0.07469399788728891, 0.0030696163515324206, 0.04809065617400792, 5.8165048014981554e-05, 0.09765911561715403, 5.8165048014981554e-05, 5.8165048014981554e-05, 5.8165048014981554e-05, 0.04850965004449462, 0.04001755303430731, 0.01762400954853941, 0.0012796310563295942, 0.08364133904554348, 0.05380266941385794, 0.008084941674082436, 5.8165048014981554e-05, 0.033910222992734246, 0.09126096033550606, 0.0026755922086891515, 0.012272825131161107, 0.023382349302022584, 0.00011633009602996311, 0.11563211545378332, 0.05572211599835233, 0.018263825076704206, 5.8165048014981554e-05, 0.09411104768824015, 5.8165048014981554e-05, 0.12749778524883956, 0.026755922086891516, 5.8165048014981554e-05, 5.8165048014981554e-05, 0.002501097064644207, 5.8165048014981554e-05, 5.8165048014981554e-05, 5.8165048014981554e-05, 0.04432176658741594, 5.8165048014981554e-05, 0.11707645532547549, 0.04693488186767392, 0.16348983850573082, 0.010690723092081281, 0.0018252454059650967, 0.03155067058882524, 0.017470206028523068, 0.0002607493437092995, 0.029725425182860147, 0.17783105240974229, 0.0052149868741859905, 0.0015644960622557972, 0.02346744093383696, 0.12828867710497538, 0.029725425182860147, 0.002868242780802295, 0.051367620710732004, 0.08969777423599903, 0.046674132523964615, 0.008604728342406885, 0.014862712591430073, 0.9943058146270808, 0.011121073574235432, 0.0018535122623725719, 0.03243646459152001, 0.006487292918304002, 0.00463378065593143, 0.00463378065593143, 0.01390134196779429, 0.0018535122623725719, 0.0037070245247451438, 0.1584752984328549, 0.025022415542029722, 0.0009267561311862859, 0.03150970846033373, 0.03243646459152001, 0.651509560223959, 0.01853512262372572, 0.1207838235025026, 0.0985872735987014, 0.030268022596092535, 0.021908283021933646, 0.0017296012912052878, 0.05505897443670166, 0.033150691414768015, 0.07177845358501944, 0.07610245681303267, 0.027961887541152152, 0.010377607747231727, 0.02277308366753629, 0.11501848586515163, 0.07293152111248963, 0.06168911271965526, 0.08186779445038363, 0.027385353777417056, 0.02392615119500648, 0.0037474694642781236, 0.042086964752662, 0.032563449189680634, 0.06512689837936127, 0.37447966568132723, 0.032563449189680634, 0.032563449189680634, 0.4721700132503691, 0.9989340227450384, 0.02755964008163873, 0.01837309338775915, 0.11942510702043449, 0.670617908653209, 0.11942510702043449, 0.04593273346939788, 0.9814514362317711, 0.09103599611679093, 0.14475072179489745, 0.03871645811863522, 0.019881424439299168, 0.0017439845999385236, 0.03801886427865982, 0.0010463907599631143, 0.0017439845999385236, 0.05650510103800817, 0.0809208854371475, 0.010463907599631141, 0.013254282959532779, 0.15033147251470075, 0.1395187679950819, 0.10498787291629912, 0.004185563039852457, 0.04569239651838932, 0.012905486039545075, 0.00034879691998770474, 0.04290202115848768, 0.9582999885981652, 0.9220340978209882, 0.9324926799551184, 0.012277936190655809, 0.9454010866804973, 0.018416904285983714, 0.018416904285983714, 0.006138968095327904, 1.0124242993461485, 0.9872983466638569, 0.9832658702501337, 0.09110285932529819, 0.04509131421151122, 0.060735239550198786, 0.017484387143239046, 0.0018404618045514784, 0.022392285288709655, 0.022085541654617742, 0.0003067436340919131, 0.022699028922801567, 0.07668590852297827, 0.15889320245961097, 0.014110207168228, 0.019631592581882438, 0.1429425334868315, 0.019631592581882438, 0.011042770827308871, 0.09907819381168792, 0.08619496117982757, 0.03803621062739722, 0.0024539490727353047, 0.047545263284246526, 0.10180530427518292, 0.020044567681124097, 0.03586922637674839, 0.008967306594187097, 0.0002637443115937381, 0.060397447354966036, 0.04879269764484156, 0.04167160123181063, 0.11578375278965104, 0.10286028152155788, 0.010286028152155787, 0.029011874275311194, 0.1542904222823368, 0.004483653297093548, 0.009231050905780835, 0.11314630967371365, 0.07569461742740284, 0.024528220978217646, 0.0005274886231874762, 0.04167160123181063, 0.9523125421785871, 0.05290625234325484, 0.9879831223789775, 0.9503883578165012, 0.0038346868304691586, 0.0038346868304691586, 0.0038346868304691586, 0.943332960295413, 0.03067749464375327, 0.0038346868304691586, 0.007669373660938317, 6.254919462047014e-05, 0.14867943561285754, 6.254919462047014e-05, 0.0001250983892409403, 6.254919462047014e-05, 0.09263535723291628, 0.05566878321221843, 0.014636511541190014, 0.0005629427515842314, 0.04653660079762979, 0.034839901403601874, 0.0036904024826077387, 6.254919462047014e-05, 0.007068058992113127, 0.10933599219658181, 0.019202602748484336, 0.009444928387690992, 0.013823372011123903, 6.254919462047014e-05, 0.16569281654962542, 0.02420653831812195, 0.005879624294324194, 6.254919462047014e-05, 0.04878837180396672, 6.254919462047014e-05, 0.10846030347189524, 0.028584981941554857, 6.254919462047014e-05, 6.254919462047014e-05, 0.00831904288452253, 6.254919462047014e-05, 6.254919462047014e-05, 0.053104266232779154, 6.254919462047014e-05, 0.9999579322510196, 1.0056892289984154, 0.1100344074510569, 0.1100344074510569, 0.0157192010644367, 0.0471576031933101, 0.1886304127732404, 0.0314384021288734, 0.157192010644367, 0.0943152063866202, 0.0157192010644367, 0.0628768042577468, 0.1257536085154936, 0.0471576031933101, 0.8224303650301252, 0.16448607300602505, 0.9826316350797055, 0.019334246005754657, 0.11600547603452795, 0.04833561501438664, 0.19334246005754657, 0.10633835303165061, 0.019334246005754657, 0.0676698610201413, 0.0676698610201413, 0.029001369008631987, 0.019334246005754657, 0.09667123002877329, 0.2030095830604239, 0.1571445278656144, 0.00746691061132509, 0.12863450553146405, 0.007806315639112594, 0.00033940502778750405, 0.04378324858458803, 0.038692173167775464, 0.00033940502778750405, 0.05396539941821315, 0.06007468991838822, 0.005769885472387569, 0.03190407261202538, 0.007806315639112594, 0.2993552345085786, 0.0033940502778750407, 0.0033940502778750407, 0.017649061444950213, 0.09265757258598861, 0.019346086583887732, 0.019346086583887732, 0.05226625454331488, 0.01342619382764052, 0.002877041534494397, 0.010549152293146123, 0.0014385207672471985, 0.02733189457769677, 0.15392172209545024, 0.18125361667314702, 0.025893373810449573, 0.03260647072426983, 0.0071926038362359924, 0.00335654845691013, 0.01534422151730345, 0.038840060715674356, 0.18508967205247287, 0.22584776045781016, 0.008631124603483191, 0.0019180276896629312, 0.012946686905224786, 0.04715698731012772, 0.09431397462025544, 0.8016687842721713, 0.04715698731012772, 0.9961530663851296, 0.08941045613724943, 0.35764182454899773, 0.08941045613724943, 0.44705228068624714, 0.04669231473225091, 0.0321009663784225, 0.023346157366125456, 0.017509618024594092, 0.005836539341531364, 0.035019236049188184, 0.12840386551369, 0.41731256291949254, 0.01459134835382841, 0.005836539341531364, 0.09338462946450182, 0.017509618024594092, 0.005836539341531364, 0.05252885407378227, 0.01459134835382841, 0.07003847209837637, 0.005836539341531364, 0.011673078683062728, 0.3452246830851036, 8.12102289073403e-05, 0.017054148070541463, 0.015023892347857956, 0.005035034192255099, 8.12102289073403e-05, 0.0330525631652875, 0.0045477728188110566, 0.0001624204578146806, 0.0003248409156293612, 0.09485354736377347, 0.05067518283818035, 0.00267993755394223, 0.007633761517289988, 0.04117358605602153, 0.01104459113139828, 0.0034920398430156327, 0.09525959850831017, 0.2073297144004398, 0.016729307154912103, 0.0017866250359614866, 0.04653346116390599, 0.9682417348078556, 0.9678257145084178, 0.03871302858033671, 0.010401410839343862, 0.007429579170959901, 0.07280987587540703, 0.005943663336767921, 0.0014859158341919802, 0.005943663336767921, 0.0014859158341919802, 0.11590143506697446, 0.026746485015455644, 0.75038749626695, 0.0014859158341919802, 0.9120568434288526, 0.060803789561923505, 0.9704738360606957, 0.9603941076930115, 0.030980455086871337, 0.9639956227548665, 0.12398891305206673, 0.23912147517184298, 0.008856350932290482, 0.017712701864580963, 0.07970715839061433, 0.053138105593742886, 0.008856350932290482, 0.07085080745832385, 0.017712701864580963, 0.017712701864580963, 0.035425403729161926, 0.008856350932290482, 0.07970715839061433, 0.21255242237497154, 0.017712701864580963, 0.9180155975863775, 0.9821699790637674, 0.1489122585030324, 0.00014951029970183979, 0.07340955715360332, 0.03363981743291395, 0.010465720979128785, 0.0031397162937386353, 0.07535319104972725, 0.011661803376743503, 0.0007475514985091988, 0.04933839890160713, 0.050683991598923686, 0.016296622667500534, 0.028556467243051397, 0.11796362646475159, 0.10734839518592096, 0.00014951029970183979, 0.142782336215257, 0.01973535956064285, 0.047843295904588724, 0.012558865174954541, 0.04874035770279977, 0.9735844810187214, 0.010242161598278635, 0.010242161598278635, 0.8398572510588481, 0.12290593917934362, 0.010242161598278635, 0.00010821309799472968, 0.11026914685662954, 0.00010821309799472968, 0.00010821309799472968, 0.00010821309799472968, 0.053565483507391196, 0.042852386805912954, 0.005951720389710133, 0.0021642619598945937, 0.06784961244269551, 0.0634128754249116, 0.0012985571759367561, 0.020885127912982828, 0.1888318560008033, 0.002705327449868242, 0.010713096701478238, 0.011795227681425536, 0.00010821309799472968, 0.06839067793266916, 0.04090455104200782, 0.014716981327283237, 0.00010821309799472968, 0.11513873626639239, 0.00010821309799472968, 0.08538013431784172, 0.03581853543625552, 0.00010821309799472968, 0.00010821309799472968, 0.006168146585699592, 0.00010821309799472968, 0.050427303665544036, 0.00010821309799472968, 0.6482018323757871, 0.32410091618789355, 0.655606680319285, 0.3420556592970183, 0.9723230757113518, 0.9866042971762626, 0.9916549117120053, 0.9767156136986787, 0.00048418723626001916, 0.2551666735090301, 0.7437115948953894, 0.9606755640133383, 0.9976979244750626, 0.017108596486851202, 0.0015553269533501092, 0.006221307813400437, 0.04665980860050328, 0.012442615626800874, 0.22085642737571554, 0.12753681017470897, 0.010887288673450766, 0.037327846880402624, 0.11820484845460831, 0.02177457734690153, 0.38105510357077677, 0.05076227387850464, 0.8121963820560743, 0.10152454775700928, 1.0105768549013578, 0.005270120923810111, 0.015634692073969995, 0.08256522780635842, 0.0005270120923810111, 0.00017567069746033705, 0.008783534873016852, 0.0010540241847620223, 0.003337743251746404, 0.04356633297016359, 0.029512677173336624, 0.0007026827898413482, 0.0022837190669843816, 0.3139235363616223, 0.025823592526669544, 0.0007026827898413482, 0.05094450226349774, 0.029864018568257298, 0.37154352512861283, 0.01370231440190629, 0.5302921994730113, 0.33745867239191635, 0.14462514531082127, 0.9243302131233785, 0.9467927442934236, 0.05917454651833898, 1.0047544667924249, 0.0267578492290797, 0.7759776276433114, 0.0802735476872391, 0.12041032153085865, 0.9440814212094124, 0.02470174905819723, 0.006736840652235608, 0.004491227101490406, 0.6602103839190896, 0.020210521956706827, 0.004491227101490406, 0.006736840652235608, 0.18638592471185184, 0.044912271014904054, 0.017964908405961624, 0.011228067753726013, 0.006736840652235608, 0.16986965786355732, 0.2373298569194198, 0.03901312716483613, 0.0032510939304030107, 0.04957918243864592, 0.00894050830860828, 0.07233683995146699, 0.0008127734826007527, 0.039825900647436886, 0.009753281791209033, 0.007314961343406774, 0.18775067448077387, 0.019506563582418066, 0.08615398915567979, 0.011378828756410539, 0.039825900647436886, 0.008127734826007527, 0.008127734826007527, 0.23732974038567886, 0.03350537511327231, 0.027921145927726924, 0.03071326052049962, 0.17311110475190694, 0.06142652104099924, 0.10889246911813501, 0.254082427942315, 0.06701075022654462, 0.005584229185545385, 0.93253791187627, 0.06660985084830501, 0.7657088631522588, 0.1209013994450935, 0.10075116620424458, 0.3248635401426422, 0.6578486687888504, 0.008121588503566054, 0.008121588503566054, 0.008121588503566054, 0.9678828773936151, 1.0026663380829322, 0.9968804180032131, 0.9844894826195674, 0.05914433632670817, 0.029572168163354087, 0.009857389387784694, 0.01971477877556939, 0.8674502661250532, 0.009857389387784694, 0.0772779550142163, 0.19022265849653244, 0.018459106663314826, 0.008447387795076276, 0.000938598643897364, 0.009073120224341185, 0.007508789151178912, 0.001877197287794728, 0.0025029297170596375, 0.045052734907073476, 0.021900635024271826, 0.01407897965846046, 0.05631591863384184, 0.22745373803779453, 0.0031286621463245466, 0.25091870413522865, 0.03253808632177529, 0.010950317512135913, 0.0025029297170596375, 0.01877197287794728, 0.975961616294997, 0.9792561410007812, 0.6356628319285212, 0.3178314159642606, 1.046717478995142, 0.8562391611639306, 0.06506368054993694, 0.00018642888409724055, 0.05313223196771355, 0.05369151862000528, 0.010999304161737191, 0.0013050021886806837, 0.061707960636186616, 0.01752431510514061, 0.0011185733045834432, 0.01360930853909856, 0.20022462152043632, 0.008202870900278584, 0.005406437638819975, 0.015100739611876484, 0.21905393881425764, 0.10384088844216298, 0.005965724291111698, 0.033370770253406054, 0.06562296720222867, 0.04437007441514325, 0.007830013132084103, 0.012304306350417876, 0.057545440424607186, 0.05306444301449433, 0.11178909328386806, 0.001415051813719849, 0.01650893782673157, 0.009669520727085634, 0.004245155441159547, 0.051413549231821176, 0.0636773316173932, 0.0018867357516264651, 0.0037734715032529302, 0.4884287177023012, 0.03797055700148261, 0.004952681348019471, 0.01650893782673157, 0.029480246119163517, 0.03561213731194953, 0.010377046633945558, 0.001650893782673157, 0.9983862819371537, 0.9892990418082716, 0.861685590806002, 0.07697801829000527, 0.000176960961586219, 0.14758544196290663, 0.00353921923172438, 0.03415346558614026, 0.000176960961586219, 0.018580900966552995, 0.006547555578690103, 0.034507387509312704, 0.001061765769517314, 0.36613222952188706, 0.000176960961586219, 0.000176960961586219, 0.011148540579931797, 0.060697609824073115, 0.03503827039407136, 0.0026544144237932847, 0.14316141792325116, 0.0012387267311035329, 0.0012387267311035329, 0.05468093713014167, 0.00014193652704808305, 0.08956194856734041, 0.00014193652704808305, 0.00014193652704808305, 0.00014193652704808305, 0.05038746710206948, 0.04967778446682907, 0.011780731744990893, 0.00014193652704808305, 0.041729338952136416, 0.10787176055654311, 0.0034064766491539934, 0.00014193652704808305, 0.030942162896482106, 0.0661424216044067, 0.0021290479057212456, 0.007096826352404152, 0.03803898924888626, 0.10872337971883161, 0.06571661202326246, 0.012774287434327476, 0.11582020607123578, 0.00014193652704808305, 0.13441389111453464, 0.025832447922751117, 0.008658128149933067, 0.00014193652704808305, 0.00014193652704808305, 0.027677622774376194, 0.00014193652704808305, 0.06521719758758986, 0.018633485025025674, 0.9037240237137452, 0.9907603557104816, 0.999318394817857, 0.9730246253369284, 0.9597547955815834, 0.03693266082500869, 0.01090893540382819, 0.03180677551477617, 0.1277528338857952, 0.00039429887001788636, 0.23250490035388033, 0.10790645742822824, 0.0028915250467978337, 0.02286933446103741, 0.09686608906772742, 0.00328582391681572, 0.0034172568734883485, 0.048367328055527396, 0.0817512990503751, 0.02628659133452576, 0.012223264970554478, 0.06873943633978485, 0.0492873587522358, 0.007097379660321955, 0.0010514636533810304, 0.0001314329566726288, 0.02707518907456153, 0.25213891856823156, 0.00020171113485458527, 0.12102668091275116, 0.001411977943982097, 0.004639356101655461, 0.042762760589172076, 0.058092806838120556, 0.0036308004273825347, 0.058092806838120556, 0.11658903594595028, 0.006253045180492143, 0.0018154002136912674, 0.00383251156223712, 0.09117343295427253, 0.11416850232769526, 0.05103291711821007, 0.033080626116151986, 0.006858178585055899, 0.014523201709530139, 0.01835571327176726, 0.9866329955674505, 0.0026565896803749213, 0.5020954495908602, 0.015939538082249526, 0.10892017689537177, 0.0026565896803749213, 0.35863960685061436, 0.0026565896803749213, 0.0026565896803749213, 0.036472526640601674, 0.029633927895488858, 0.006838598745112813, 0.01595673040526323, 0.02507486206541365, 0.009118131660150419, 0.029633927895488858, 0.02507486206541365, 0.006838598745112813, 0.029633927895488858, 0.04103159247067688, 0.04103159247067688, 0.06154738870601532, 0.038752059555639276, 0.022795329150376045, 0.5790013604195515, 0.014607242243191891, 0.029214484486383783, 0.009738161495461261, 0.009738161495461261, 0.7303621121595946, 0.014607242243191891, 0.029214484486383783, 0.1606796646751108, 0.5492498145040462, 0.04393998516032369, 0.3734898738627514, 0.04393998516032369, 0.016471241714280015, 0.01764775897958573, 0.004706069061222862, 0.3811915939590518, 0.0011765172653057155, 0.20236096963258304, 0.01882427624489145, 0.003529551795917146, 0.01058865538775144, 0.007059103591834292, 0.016471241714280015, 0.02117731077550288, 0.030589448897948603, 0.022353828040808592, 0.07882665677548294, 0.03529551795917146, 0.09294486395915152, 0.011765172653057154, 0.002353034530611431, 0.02353034530611431, 0.06107722166967287, 0.052518630098126344, 0.05154606287408697, 0.022174532708097792, 0.0005835403344236261, 0.04726676708831371, 0.06749616534833275, 0.007002484013083513, 0.039680742740806574, 0.09725672240393768, 0.0955061014006668, 0.008947618461162267, 0.033456312506954564, 0.10931655598202596, 0.045127119195427084, 0.02392515371136867, 0.07799989136795801, 0.09745123584874556, 0.03384533939657031, 0.004862836120196884, 0.022369046152905667, 0.15176307103522688, 0.8195205835902251, 0.00010320797915104653, 0.08989414984056153, 0.00010320797915104653, 0.00010320797915104653, 0.059034964074398615, 0.06357611515704467, 0.021570467642568727, 0.003096239374531396, 0.03901261611909559, 0.06109912365741955, 0.0006192478749062792, 0.00010320797915104653, 0.053461733200242105, 0.10196948340123398, 0.030343145870407682, 0.024666707017100123, 0.019815931997000935, 0.00010320797915104653, 0.17586639647338329, 0.03705166451522571, 0.0012384957498125584, 0.00010320797915104653, 0.08700432642433223, 0.00010320797915104653, 0.03653562461947047, 0.037877328348434075, 0.00010320797915104653, 0.00474756704094814, 0.00010320797915104653, 0.00010320797915104653, 0.05046870180486175, 0.00010320797915104653, 0.9518474873957966, 0.9456696327799807, 0.05748718902796005, 0.8623078354194007, 0.05748718902796005, 0.08673624327685013, 0.08189836516579077, 0.04146752666622317, 0.04146752666622317, 0.002418939055529685, 0.046996530221719596, 0.0680758562770497, 0.0031100644999667378, 0.046305404777282545, 0.05287109649943455, 0.01935151244423748, 0.058400100054930966, 0.020042637888674535, 0.1347694616652253, 0.08950074505459835, 0.003801189944403791, 0.0704947953325794, 0.07256817166589055, 0.028681705944137693, 0.0027645017777482117, 0.02729945505526359, 0.8581429386472005, 0.11072812111576781, 0.19747279315122018, 0.00011388281035249145, 0.00011388281035249145, 0.09258672481657555, 0.012982640380184025, 0.0003416484310574744, 0.0038720155519847096, 0.017537952794283683, 0.06787415497008491, 0.014007585673356448, 0.01890454651851358, 0.04999455374474375, 0.02015725743239099, 0.054549866158843406, 0.12094354459434592, 0.05990235824541051, 0.07493488921193937, 0.18095978565010892, 0.005238609276214607, 0.0029609530691647777, 0.0042136639830421836, 0.1614475834577228, 0.00023812327943616932, 0.00023812327943616932, 0.14954141948591435, 0.030003533208957333, 0.02047860203151056, 0.00023812327943616932, 0.026907930576287133, 0.16787691200249938, 0.004286219029851048, 0.030003533208957333, 0.07191323038972314, 0.000714369838308508, 0.008096191500829757, 0.005000588868159556, 0.09024872290630817, 0.06262642249171253, 0.009524931177446773, 0.00023812327943616932, 0.035242245356553056, 0.0721513536691593, 0.025717314179106287, 0.00023812327943616932, 0.005000588868159556, 0.022383588266999915, 0.9785939619414407, 0.08360404387934674, 0.07008228530319993, 0.0542519337994183, 0.02209653230736186, 0.0003297989896621173, 0.11872763627836223, 0.0036277888862832905, 0.1160892443610653, 0.08739673226046109, 0.018138944431416452, 0.05392213480975618, 0.21321504681655884, 0.000989396968986352, 0.03759708482148137, 0.0011542964638174107, 0.003297989896621173, 0.007255577772566581, 0.1076793701246813, 0.1023554930493415, 0.0031787420201658846, 0.024158439353260723, 0.0044502388282322385, 0.0012714968080663538, 0.24476313555277313, 0.05022412391862098, 0.0012714968080663538, 0.027972929777459785, 0.03750915583795744, 0.0012714968080663538, 0.005721735636298592, 0.027972929777459785, 0.04259514307022286, 0.08773327975657842, 0.01843670371696213, 0.02670143296939343, 0.19199601801801944, 0.051495620726687334, 0.048316878706521446, 0.9917981984955122, 1.0241424634637442, 0.04825510899908451, 0.032777055169189474, 0.02731421264099123, 0.10470448179046639, 0.0118361588110962, 0.007283790037597662, 0.02003042260339357, 0.002731421264099123, 0.738394215061463, 0.006373316282897954, 0.988886511050971, 0.1516208222343512, 0.8472928301331389, 0.177292619340386, 0.01728703544588798, 0.006231373242122411, 0.0050253010017116215, 0.027940673569516617, 0.03578014313218675, 0.0050253010017116215, 0.0331669866112967, 0.04703681737602078, 0.005628337121917016, 0.0050253010017116215, 0.030754842130475125, 0.014874890965066402, 0.07377141870512662, 0.04201151637430916, 0.3003119878622865, 0.13608515112635072, 0.005829349161985482, 0.00040202408013692976, 0.029950793970201266, 0.9418632727221798, 1.0061543679018419, 0.09282076237589344, 0.7425660990071475, 0.13923114356384017, 0.09557701251715024, 0.7805456022233936, 0.04778850625857512, 0.04778850625857512, 0.917996186772043, 0.05347423542073371, 0.9625362375732067, 0.11933212610018198, 0.7756588196511829, 0.11933212610018198, 0.9501715393170396, 0.13629919589322004, 0.09931879390668746, 0.018595859284656378, 0.014158211046272469, 0.0004226331655603722, 0.09023218084713946, 0.016482693456854516, 0.00486028140394428, 0.008241346728427258, 0.31148064301799433, 0.005282914569504652, 0.004015015072823536, 0.11072988937681752, 0.08600584919153574, 0.01035451255622912, 0.006128180900625397, 0.031697487417027916, 0.020286391946897867, 0.007818713562866886, 0.01690532662241489, 0.00347809729500117, 0.0026085729712508774, 0.022607632417507607, 0.01043429188500351, 0.006086670266252048, 0.005217145942501755, 0.011303816208753804, 0.053040983748767846, 0.12086388100129067, 0.004347621618751463, 0.0930391026412813, 0.6425784752514662, 0.023477156741257898, 0.013766467799732422, 0.041299403399197264, 0.013766467799732422, 0.013766467799732422, 0.6332575187876913, 0.1376646779973242, 0.041299403399197264, 0.013766467799732422, 0.08259880679839453, 0.07596481842992579, 0.07596481842992579, 0.8356130027291837, 1.0048487407491997, 0.4040337822249421, 0.48740583252532693, 0.025652938553964576, 0.03206617319245572, 0.044892642469438006, 0.9875715468715233, 0.9947775400649455, 0.011824275339806012, 0.015765700453074682, 0.015765700453074682, 0.031531400906149365, 0.0945942027184481, 0.1064184780582541, 0.007882850226537341, 0.38231823598706105, 0.04729710135922405, 0.023648550679612024, 0.2364855067961202, 0.015765700453074682, 0.007882850226537341, 0.23451524306428598, 0.7621745399589295, 0.9920282689225439, 0.9603359150905175, 0.902105958535569, 0.0902105958535569, 0.9614045052352936, 0.9669232638753958, 9.274795030394885e-05, 0.0690972229764419, 9.274795030394885e-05, 9.274795030394885e-05, 0.1089788416071399, 0.06223387465394968, 0.01539615975045551, 0.0010202274533434375, 0.0611208992503023, 0.00408090981337375, 0.0012057233539513352, 0.05759647713875224, 0.06260486645516548, 0.0011129754036473863, 0.010202274533434374, 0.015952647452279204, 0.23771299662902093, 0.13290781278555872, 0.003988161863069801, 9.274795030394885e-05, 0.04915641366109289, 9.274795030394885e-05, 0.024949198631762242, 0.03895413912765852, 0.004266405713981647, 9.274795030394885e-05, 9.274795030394885e-05, 0.0364499444694519, 9.274795030394885e-05, 0.04537482781308974, 0.04537482781308974, 0.8923716136574317, 0.030249885208726495, 0.9993625517791875, 0.9521215392625246, 7.538063341198927e-05, 0.0968641139344062, 7.538063341198927e-05, 7.538063341198927e-05, 0.0624905450985391, 0.1431478228493676, 0.005955070039547152, 0.00030152253364795707, 0.03490123326975103, 0.005653547505899195, 7.538063341198927e-05, 0.04191163217706603, 0.07183774364162578, 7.538063341198927e-05, 0.007990347141670863, 0.009648721076734626, 0.3097390226898639, 0.005804308772723174, 0.000829186967531882, 0.11254328568409998, 7.538063341198927e-05, 0.016056074916753715, 0.05291720465521647, 7.538063341198927e-05, 0.00512588307201527, 7.538063341198927e-05, 7.538063341198927e-05, 0.015528410482869789, 7.538063341198927e-05, 0.26661840040800816, 0.012020945220707882, 0.04315211104869496, 0.0006164587292670708, 0.042227422954794355, 0.0018493761878012125, 0.0009246880939006063, 0.0015411468231676772, 0.07798202925228447, 0.0009246880939006063, 0.0003082293646335354, 0.03606283566212364, 0.14301842518996044, 0.03236408328652122, 0.016644385690210914, 0.026815954723117583, 0.12914810378145133, 0.08568776336812285, 0.023117202347515155, 0.0591800380096388, 0.0003082293646335354, 0.11755210444338139, 0.17329846325158288, 0.011512834971259002, 0.13088275546273392, 0.04847509461582738, 0.04847509461582738, 0.0006059386826978423, 0.003029693413489211, 0.04180976910615111, 0.0012118773653956845, 0.004241570778884896, 0.05695823617359717, 0.18602317558823755, 0.07998390611611517, 0.03575038227917269, 0.012118773653956845, 0.004847509461582738, 0.0430216464715468, 0.05018348210909004, 0.028811540941337404, 0.009603846980445802, 0.03625114071492218, 0.0008115927025728846, 0.040714900579073045, 0.02245406477118314, 0.00013526545042881412, 0.11646355281920895, 0.052212463865522245, 0.01447340319588311, 0.026106231932761122, 0.018531366708747533, 0.0518066675142358, 0.08440564106758, 0.014202872295025482, 0.2902796566202351, 0.0718259541777003, 0.002570043558147468, 0.0024347781077186537, 0.06492741620583077, 0.026106405884809215, 0.013053202942404607, 0.8354049883138949, 0.013053202942404607, 0.07831921765442765, 0.026106405884809215, 0.05990581426365457, 0.0074882267829568215, 0.08985872139548186, 0.022464680348870465, 0.04492936069774093, 0.05990581426365457, 0.4717582873262797, 0.0074882267829568215, 0.15725276244209324, 0.029952907131827286, 0.022464680348870465, 0.014976453565913643, 0.05739465089678133, 0.005692031493895669, 0.0037946876625971127, 0.004743359578246391, 0.025139805764705873, 0.04790793174028855, 0.009486719156492782, 0.16601758523862367, 0.0004743359578246391, 0.0014230078734739173, 0.023242461933407316, 0.012807070861265256, 0.05597164302330741, 0.0009486719156492782, 0.3827891179644837, 0.06403535430632627, 0.0004743359578246391, 0.0009486719156492782, 0.13660875585349605, 0.9955076958587765, 0.9834600185803464, 0.9522073084913809, 0.0001294807450619326, 0.1294807450619326, 0.0001294807450619326, 0.045577222261800276, 0.0750988321359209, 0.017738862073484764, 0.0014242881956812586, 0.058525296767993534, 0.01592613164261771, 0.0009063652154335281, 0.04234020363525196, 0.03379447446116441, 0.005049749057415371, 0.02097588070003308, 0.017609381328422834, 0.24834406902878672, 0.03897370426364171, 0.0010358459604954608, 0.10889330659708531, 0.04402345332105708, 0.05891373900317933, 0.00647403725309663, 0.02783836018831551, 0.07692210829362968, 0.009925433328210281, 0.012406791660262852, 0.007444074996157711, 0.026054262486551988, 0.034739016648735986, 0.24813583320525703, 0.054589883305156545, 0.006203395830131426, 0.012406791660262852, 0.04094241247886741, 0.06451531663336683, 0.009925433328210281, 0.395776653962385, 0.05447349311519044, 0.05447349311519044, 0.036315662076793626, 0.02723674655759522, 0.09986807071118248, 0.7172343260166741, 0.1442744474162584, 0.020038117696702554, 0.04007623539340511, 0.004007623539340512, 0.28053364775383577, 0.5049605659569044, 0.9762298864461912, 0.9486960277487249, 0.9702568967178209, 0.24304728443554696, 0.0001718863397705424, 0.0826773294296309, 0.010828839405544171, 0.022688996849711596, 0.0005156590193116272, 0.05087835657208055, 0.02509540560649919, 0.014094679861184477, 0.0030939541158697633, 0.13922793521413934, 0.0006875453590821696, 0.037127449390437155, 0.04228403958355343, 0.11000725745314713, 0.015641656919119357, 0.007906771629444951, 0.1727457714693951, 0.01220393012370851, 0.0032658404556403058, 0.005500362872657357, 0.8739768913736563, 0.0794524446703324, 0.0223757823192563, 0.0223757823192563, 0.00447515646385126, 0.00895031292770252, 0.01342546939155378, 0.7205001906800528, 0.03132609524695882, 0.15215531977094282, 0.0223757823192563, 0.011715870724765645, 0.0066947832712946536, 0.060253049441651885, 0.015063262360412971, 0.0016736958178236634, 0.026779133085178614, 0.0184106539960603, 0.0066947832712946536, 0.050210874534709904, 0.40838177954897387, 0.0066947832712946536, 0.20419088977448693, 0.00502108745347099, 0.0016736958178236634, 0.04351609126341525, 0.05188457035253357, 0.08033739925553585, 0.0016736958178236634, 0.018728435416506362, 0.006610036029355186, 0.016525090073387965, 0.0022033453431183955, 0.005508363357795989, 0.008813381372473582, 0.004406690686236791, 0.018728435416506362, 0.0011016726715591977, 0.029745162132098338, 0.8240511583262798, 0.009915054044032779, 0.0022033453431183955, 0.04186356151924951, 0.008813381372473582, 0.8785905716092131, 0.12150720671191245, 0.11274542920145583, 0.00013988266650304693, 0.00013988266650304693, 0.05021787727459385, 0.07427769591311792, 0.013428735984292506, 0.0029375359965639856, 0.04616127994600549, 0.05231611727213955, 0.00027976533300609385, 0.026997354635088056, 0.09134338122648965, 0.009372138655704144, 0.012589439985274224, 0.024339583971530167, 0.12001932785961426, 0.06672403192195339, 0.006854250658649299, 0.0816914772377794, 0.00013988266650304693, 0.09693868788661153, 0.07679558391017277, 0.006854250658649299, 0.00013988266650304693, 0.026158058636069775, 0.00013988266650304693, 0.01584322634448819, 0.006337290537795275, 0.0015843226344488188, 0.011090258441141731, 0.01742754897893701, 0.0015843226344488188, 0.0015843226344488188, 0.004752967903346457, 0.7145295081364172, 0.0015843226344488188, 0.21705220091948818, 0.004752967903346457, 0.032089608552070215, 0.019747451416658592, 0.00617107856770581, 0.00617107856770581, 0.004936862854164648, 0.01234215713541162, 0.00617107856770581, 0.0259185299843644, 0.6825212895882626, 0.001234215713541162, 0.022215882843740917, 0.16168225847389223, 0.018513235703117432, 0.05989298929251223, 0.00019258195913991072, 0.046604834111858395, 0.12460052756352223, 0.0007703278365596429, 0.0629743006387508, 0.019065613954851162, 0.0015406556731192857, 0.0071255324881766965, 0.17370892714419947, 0.09301708626457687, 0.0030813113462385714, 0.011940081466674465, 0.28521388148620774, 0.012902991262374017, 0.017332376322591964, 0.010399425793555179, 0.01887303199571125, 0.04333094080647991, 0.006932950529036786, 0.00038516391827982143, 0.9553758988159293, 0.09814052141222449, 0.009436588597329277, 0.018873177194658555, 0.0018873177194658555, 0.0018873177194658555, 0.060394167022907376, 0.04907026070611224, 0.0018873177194658555, 0.39067476792943207, 0.1264502872042123, 0.007549270877863422, 0.1490980998378026, 0.0679434379007708, 0.015098541755726844, 0.09849480767716257, 0.00014233353710572626, 0.00014233353710572626, 0.08981246191371327, 0.020211362269013128, 0.022346365325599023, 0.0008540012226343575, 0.059495418510193576, 0.059637752047299306, 0.008113011615026398, 0.00014233353710572626, 0.0395687233153919, 0.04711240078199539, 0.003131337816325978, 0.01451802078478408, 0.020069028731907402, 0.06789309719943143, 0.055510079471233244, 0.06063408680703939, 0.12027183885433869, 0.15528588898234735, 0.024481368382184916, 0.00014233353710572626, 0.00569334148422905, 0.025477703141925, 0.00014233353710572626, 1.002832672594943, 1.0028242041769888, 0.9398505382527892, 0.030033361953953407, 0.013441504650720406, 0.004200470203350127, 0.010501175508375317, 0.03570399672847608, 0.026883009301440813, 0.0016801880813400508, 0.35577982622375576, 0.10102130839057055, 0.027933126852278344, 0.018062021874405546, 0.000630070530502519, 0.01848206889474056, 0.026672985791273307, 0.03801425534031865, 0.14407612797490935, 0.06573735868242948, 0.00462051722368514, 0.0760285106806373, 0.01499635091698983, 0.0026080610290417096, 0.028688671319458806, 0.11540670053509565, 0.06976563252686574, 0.19104047037730523, 0.07824183087125129, 0.0013040305145208548, 0.2829746216510255, 0.003912091543562564, 0.09193415127372026, 0.04694509852275077, 0.03586083914932351, 0.01825642720329197, 0.003912091543562564, 0.003912091543562564, 0.009128213601645984, 0.9509562006286254, 0.06426568118415661, 0.01691202136425174, 0.01691202136425174, 0.005073606409275521, 0.07948650041198317, 0.04397125554705452, 0.01691202136425174, 0.5750087263845591, 0.0016912021364251738, 0.00845601068212587, 0.01691202136425174, 0.0016912021364251738, 0.005073606409275521, 0.06764808545700696, 0.04904486195633004, 0.0033824042728503477, 0.02705923418280278, 0.13248169998337728, 0.9273718998836409, 0.9911821807985018, 0.9686018307605654, 0.9552245839794525, 0.9951571052818795, 0.955602885586233, 0.027418667386204437, 0.038843112130456284, 0.03655822318160591, 0.013709333693102219, 0.04341289002815702, 0.05026755687470813, 0.022848889488503697, 0.020564000539653328, 0.004569777897700739, 0.23991333962928882, 0.020564000539653328, 0.4135648997419169, 0.027418667386204437, 0.009139555795401478, 0.027418667386204437, 0.9741308567539552, 0.9517524454986365, 0.9083000691956605, 0.09907173438467728, 0.022679071726612873, 0.017904530310483845, 0.015517259602419333, 0.06923085053387087, 0.017904530310483845, 0.014323624248387077, 0.605173124494354, 0.015517259602419333, 0.044164508099193485, 0.0011936353540322564, 0.0023872707080645128, 0.009549082832258051, 0.04893904951532251, 0.007161812124193538, 0.008355447478225794, 0.9733102716900778, 0.9517056181136279, 0.9483336384820931, 4.8660938082832806e-05, 0.12131171864050219, 4.8660938082832806e-05, 4.8660938082832806e-05, 4.8660938082832806e-05, 0.041653762998904886, 0.02909924097353402, 0.008564325102578573, 0.0013138453282364859, 0.048709599020915643, 0.08768701042526472, 0.00014598281424849842, 4.8660938082832806e-05, 0.07201818836259255, 0.2339131293641773, 0.0032116219134669653, 0.0044281453655377855, 0.02063223774712111, 4.8660938082832806e-05, 0.05819848194706804, 0.030072459735190675, 0.014403637672518512, 4.8660938082832806e-05, 0.09917099181281326, 4.8660938082832806e-05, 0.052213186562879606, 0.0185398174095593, 4.8660938082832806e-05, 4.8660938082832806e-05, 0.005255381312945943, 4.8660938082832806e-05, 4.8660938082832806e-05, 4.8660938082832806e-05, 0.048709599020915643, 4.8660938082832806e-05, 0.9503949445873356, 0.823555005182213, 0.17338000109099222, 6.749783571469529e-05, 0.12041613891501639, 6.749783571469529e-05, 0.00013499567142939058, 6.749783571469529e-05, 0.10792903930779776, 0.06223300452894905, 0.017414441614391384, 0.0013499567142939057, 0.056495688493199955, 0.01889939400011468, 0.00020249350714408586, 6.749783571469529e-05, 0.043468606200263764, 0.08106490069334904, 0.0024299220857290304, 0.01228460610007454, 0.026526649435875245, 0.17097201786532315, 0.06560789631468382, 0.0012149610428645152, 6.749783571469529e-05, 0.11123643325781783, 6.749783571469529e-05, 0.024231723021575606, 0.031116502264474526, 6.749783571469529e-05, 6.749783571469529e-05, 0.007492259764331177, 6.749783571469529e-05, 6.749783571469529e-05, 6.749783571469529e-05, 0.03651632912165015, 6.749783571469529e-05, 1.0044431518477288, 0.9794417630735643, 0.07357812800797445, 0.036789064003987224, 0.02596875106163804, 0.30296876238577714, 0.049773439534806244, 0.09089062871573314, 0.049773439534806244, 0.04544531435786657, 0.00649218776540951, 0.00649218776540951, 0.004328125176939673, 0.06925000283103477, 0.106039066835022, 0.023804688473168203, 0.06059375247715543, 0.0021640625884698367, 0.004328125176939673, 0.036789064003987224, 0.00022253495451953764, 0.06319992708354868, 0.00022253495451953764, 0.15466179339107866, 0.06676048635586129, 0.012016887544055032, 0.0015577446816367633, 0.0378309422683214, 0.01602251672540671, 0.002892954408753989, 0.04539713072198567, 0.03382531308696972, 0.005118303953949365, 0.01223942249857457, 0.01023660790789873, 0.24056028583562017, 0.09613510035244026, 0.004450699090390753, 0.05741401826604071, 0.044284455949387985, 0.051850644403052266, 0.01023660790789873, 0.03293517326889157, 0.9919859034046374, 0.9802802700598967, 0.010088122242041002, 0.07061685569428701, 0.18158620035673803, 0.11096934466245102, 0.6052873345224601, 0.010088122242041002, 0.9561902278565072, 0.00036134609836776344, 0.0007226921967355269, 7.226921967355269e-05, 0.0005781537573884215, 0.00028907687869421074, 0.0013731151737975012, 0.2637826518084673, 0.0046974992787809245, 0.00028907687869421074, 0.004263883960739609, 0.008166421823111454, 0.00187899971151237, 0.00014453843934710537, 0.0012285767344503958, 0.00036134609836776344, 0.05355149177810255, 7.226921967355269e-05, 0.000939499855756185, 0.00014453843934710537, 0.5374661867122114, 0.008166421823111454, 0.0048420377181280306, 0.00028907687869421074, 0.00028907687869421074, 0.00036134609836776344, 0.000939499855756185, 0.1020441381790564, 0.00014453843934710537, 0.00036134609836776344, 7.226921967355269e-05, 0.00043361531804131614, 0.0005058845377148688, 0.0005781537573884215, 0.00036134609836776344, 0.00021680765902065807, 0.9538308964084558, 0.030244142356145847, 0.06351269894790627, 0.015122071178072924, 0.4234179929860419, 0.10283008401089588, 0.10887891248212506, 0.012097656942458339, 0.04536621353421877, 0.0030244142356145847, 0.06653711318352086, 0.06956152741913545, 0.009073242706843754, 0.006048828471229169, 0.012097656942458339, 0.03326855659176043, 0.02955412476814569, 0.07388531192036422, 0.02955412476814569, 0.6501907448992051, 0.014777062384072845, 0.07388531192036422, 0.014777062384072845, 0.07388531192036422, 0.02955412476814569, 0.008459895751653216, 0.01691979150330643, 0.5625830674849388, 0.07613906176487895, 0.2537968725495965, 0.01691979150330643, 0.008459895751653216, 0.03383958300661286, 0.025379687254959645, 0.9617345038021801, 0.08334757092376939, 0.8612582328789504, 0.05556504728251293, 0.8971814744864868, 0.17042677054585464, 0.7839631445109314, 0.03408535410917093, 0.9903827467147408, 0.9920482813961895, 0.050709759670276265, 0.9127756740649728, 0.9894016111135591, 0.9667049094422067, 0.9807828862907887, 0.9885376661139059, 0.051016384711965894, 0.010643706162928136, 0.013946925316940317, 0.0003670243504457978, 0.010643706162928136, 0.00660643830802436, 0.0014680974017831912, 0.01174477921426553, 0.020553363624964675, 0.002202146102674787, 0.007707511359361754, 0.03229814283923021, 0.5622813048829622, 0.038170532446362974, 0.05542067691731547, 0.1541502271872351, 0.0029361948035663823, 0.017617168821398296, 0.04886187674904534, 0.04524247847133828, 0.001809699138853531, 0.001809699138853531, 0.012667893971974717, 0.07419766469299477, 0.3148876501605144, 0.10315285091465128, 0.001809699138853531, 0.001809699138853531, 0.10677224919235834, 0.1574438250802572, 0.10315285091465128, 0.001809699138853531, 0.005429097416560593, 0.019906690527388842, 0.02741129695164664, 0.08223389085493993, 0.8771615024526925, 0.9803102440702104, 0.11371342724767199, 0.8528507043575398, 0.9521490411188654, 0.006806673985970497, 0.006806673985970497, 0.17016684964926243, 0.08848676181761646, 0.02722669594388199, 0.7010874205549612, 0.1180003379253663, 0.00034202996500106174, 0.00991886898503079, 0.01983773797006158, 0.0006840599300021235, 0.24455142497575913, 0.051988554680161385, 0.0059855243875185805, 0.11577714315285939, 0.05951321391018474, 0.001197104877503716, 0.009405824037529197, 0.025994277340080692, 0.022573977690070073, 0.04258273064263218, 0.04121461078262794, 0.015049318460046717, 0.14655984000295494, 0.013510183617541938, 0.002394209755007432, 0.052330584645162444, 0.13262685730321008, 0.04912886764967878, 0.02066364390415674, 0.08223286859817477, 0.0004217070184521784, 0.14823001698594068, 0.11596943007434905, 0.002108535092260892, 0.01328377108124362, 0.10774614321453158, 0.005693044749104408, 0.00253024211071307, 0.024459007070226343, 0.06662970891544417, 0.0390078992068265, 0.007379872822913121, 0.06409946680473111, 0.06199093171247022, 0.012018650025887083, 0.008855847387495746, 0.03436912200385254, 0.051437993998089036, 0.2571899699904452, 0.051437993998089036, 0.10287598799617807, 0.5143799399808904, 0.976962525066197, 0.13987491092792534, 0.02775421006010695, 0.010723217523223139, 0.00047308312602455024, 0.00031538875068303347, 0.13435560779097228, 0.01261555002732134, 0.00031538875068303347, 0.02128874067110476, 0.10723217523223139, 0.00015769437534151674, 0.00031538875068303347, 0.03232734694501093, 0.017346381287566843, 0.018765630665640493, 0.0023654156301227513, 0.009461662520491005, 0.4134746521454569, 0.015296354408127124, 0.0033115818821718517, 0.031381180692961835, 0.11154670141083918, 0.004746668145142093, 0.0023733340725710463, 0.004746668145142093, 0.13528004213654965, 0.009493336290284185, 0.004746668145142093, 0.04746668145142093, 0.6740268766101772, 0.004746668145142093, 0.9856782195753202, 0.22340318982989224, 0.07446772994329741, 0.004964515329553161, 0.029787091977318967, 0.14893545988659482, 0.009929030659106322, 0.004964515329553161, 0.019858061318212644, 0.35248058839827445, 0.0893612759319569, 0.024822576647765805, 0.009929030659106322, 0.5700388542195667, 0.4071706101568333, 0.205695311653985, 0.7713574187024438, 0.04642126868830374, 0.04951601993419066, 0.027852761212982247, 0.003094751245886916, 0.6529925128821393, 0.08665303488483365, 0.06498977616362524, 0.06189502491773832, 0.003094751245886916, 0.02644110527627457, 0.03305138159534321, 0.019830828957205927, 0.006610276319068642, 0.608145421354315, 0.006610276319068642, 0.19169801325299063, 0.006610276319068642, 0.09915414478602963, 0.18741611103076428, 0.18741611103076428, 0.5622483330922928, 0.9903288778560695, 0.20968970635905954, 0.768862256649885, 0.8971245286970645, 0.12241415513483521, 0.00010663253931605853, 0.00010663253931605853, 0.023032628492268645, 0.04254638318710736, 0.00362550633674599, 0.0007464277752124098, 0.06589890929732417, 0.07453614498192491, 0.0014928555504248196, 0.00010663253931605853, 0.0029857111008496392, 0.16080186928861628, 0.04041373240078619, 0.0052249944264868686, 0.037001491142672316, 0.08957133302548917, 0.01759436898714966, 0.007037747594859863, 0.09202388142975852, 0.16400084546809804, 0.02409895388542923, 0.002559180943585405, 0.021646405481159883, 0.00010663253931605853, 0.9940176881391863, 0.9894979576010619, 0.39963119661952673, 0.04281762820923501, 0.07136271368205835, 0.25690576925541003, 0.09990779915488168, 0.11418034189129336, 0.9617352657065713, 0.03747398066221095, 0.02107911412249366, 0.030447609288046396, 0.05855309478470461, 0.08197433269858645, 0.14755379885745562, 0.007026371374164553, 0.18502777951966656, 0.0023421237913881844, 0.04215822824498732, 0.07260583753303372, 0.046842475827763685, 0.007026371374164553, 0.09368495165552737, 0.15926441781439654, 0.004684247582776369, 0.09286693615145573, 0.04643346807572787, 0.04643346807572787, 0.13930040422718362, 0.04643346807572787, 0.04643346807572787, 0.23216734037863934, 0.13930040422718362, 0.13930040422718362, 0.2665195335441488, 0.1332597667720744, 0.1332597667720744, 0.2665195335441488, 0.1332597667720744, 0.771367169514922, 0.1928417923787305, 0.018409388549499764, 0.9756975931234874, 0.932626456433401, 1.011594829534017, 0.9516831709517061, 0.014155838433473981, 0.014155838433473981, 0.004718612811157994, 0.004718612811157994, 0.03774890248926395, 0.4341123786265354, 0.014155838433473981, 0.018874451244631975, 0.023593064055789967, 0.08493503060084388, 0.028311676866947962, 0.13212115871242383, 0.17930728682400376, 0.004718612811157994, 0.009437225622315987, 0.9217146421458859, 0.8948023109566409, 0.9682803432074673, 0.9331980725207907, 0.9854290654583442, 0.02828245610294842, 0.05656491220589684, 0.5974668851747854, 0.045958991167291185, 0.04949429818015974, 0.0035353070128685527, 0.15201820155334778, 0.03888837714155408, 0.02828245610294842, 0.02154324082762105, 0.3529777150987141, 0.009943034228132792, 0.004971517114066396, 0.0016571723713554652, 0.029829102684398374, 0.40766440335344445, 0.0016571723713554652, 0.009943034228132792, 0.0381149645411757, 0.044743654026597565, 0.014914551342199187, 0.053029515883374886, 0.008285861856777326, 0.0033143447427109304, 0.31489135291800247, 0.6727224357793689, 0.9083677234333519, 0.9400492467459364, 0.9920317694457953, 0.1205380088793919, 0.07232280532763515, 0.45804443374168924, 0.1446456106552703, 0.018080701331908786, 0.18080701331908786, 0.0060269004439695946, 0.025881871615230527, 0.04621762788434022, 0.04991503811508744, 0.23478554965244833, 0.005546115346120827, 0.03512539719209857, 0.011092230692241654, 0.05361244834583466, 0.06470467903807632, 0.014789640922988873, 0.21999590872945948, 0.1257119478454054, 0.005546115346120827, 0.051763743230461054, 0.02218446138448331, 0.009243525576868045, 0.024033166499856918, 0.9834013937018377, 0.950203172838905, 1.0569335660309591, 0.8890858463512573, 0.01957519409153203, 0.01957519409153203, 0.03915038818306406, 0.9200341223020054, 0.11862855159697978, 0.8699427117111851, 0.005078628839424173, 0.0076179432591362605, 0.24377418429236034, 0.012696572098560434, 0.010157257678848347, 0.010157257678848347, 0.6957721510011118, 0.0076179432591362605, 0.0076179432591362605, 0.005485164272203119, 0.14261427107728109, 0.8447152979192804, 0.982558506250856, 0.16982254395361973, 0.7642014477912888, 0.9948682232507946, 0.9876515750053682, 0.19411517556166744, 0.037478961992598904, 0.019385669996171848, 0.01008054839800936, 0.09486054518126757, 0.031017071993874955, 0.00025847559994895795, 0.028173840394436416, 0.13544121437325396, 0.0012923779997447897, 0.08503847238320716, 0.03437725479321141, 0.059966339188158246, 0.007495792398519781, 0.07108078998596344, 0.12225895877585712, 0.031017071993874955, 0.010339023997958318, 0.025847559994895797, 0.9951338712137215, 0.9703846532362062, 0.9998525048930214, 0.9848943027591838, 0.981710921627169, 1.0152077711382415, 1.000410429384766, 0.9799928056868457, 0.062005859259261845, 0.013779079835391521, 0.013779079835391521, 0.055116319341566085, 0.048226779423870325, 0.2066861975308728, 0.039040726200275974, 0.19061060438958272, 0.09875007215363923, 0.009186053223594347, 0.08267447901234913, 0.03674421289437739, 0.1217152052126251, 0.018372106447188695, 0.006889539917695761, 0.20738459131559936, 0.14516921392091955, 0.49772301915743844, 0.020738459131559934, 0.020738459131559934, 0.08295383652623974, 0.14869974557664212, 0.14869974557664212, 0.14869974557664212, 0.29739949115328423, 0.14869974557664212, 0.006983848988550462, 0.017459622471376154, 0.010475773482825693, 0.003491924494275231, 0.07333041437977986, 0.2130073941507891, 0.03841116943702754, 0.017459622471376154, 0.003491924494275231, 0.2479266390935414, 0.055870791908403696, 0.020951546965651387, 0.003491924494275231, 0.045395018425578006, 0.05237886741412847, 0.03841116943702754, 0.10824965932253217, 0.003491924494275231, 0.027935395954201848, 0.006983848988550462, 0.05509414631858037, 0.05264551759331013, 0.014691772351621432, 0.1395718373404036, 0.37096725187844115, 0.012243143626351193, 0.01958902980216191, 0.004897257450540478, 0.002448628725270239, 0.002448628725270239, 0.053869831955945253, 0.06121571813175597, 0.19956324110952445, 0.002448628725270239, 0.002448628725270239, 0.0061215718131755964, 0.0399186427321563, 0.06320451765924748, 0.01995932136607815, 0.009979660683039075, 0.24616496351496384, 0.18628699941672938, 0.0399186427321563, 0.08316383902532562, 0.08316383902532562, 0.2128994279048336, 0.009979660683039075, 0.003326553561013025, 0.08419252805095705, 0.004245001414333969, 0.0007075002357223282, 0.14999004997313356, 0.0007075002357223282, 0.0028300009428893127, 0.07004252333651048, 0.0028300009428893127, 0.09622003205823662, 0.021225007071669844, 0.0007075002357223282, 0.024762508250281486, 0.0014150004714446563, 0.5377001791489694, 0.0014150004714446563, 1.0107559129442334, 0.9908840957829252, 0.0948806776902984, 0.14507561685548853, 0.0036728004267212286, 0.023873202773687985, 0.05080707256964366, 0.0024485336178141524, 0.01958826894251322, 0.0042849338311747665, 0.006121334044535381, 0.005509200640081843, 0.015303335111338452, 0.046522138738468895, 0.012242668089070761, 0.012242668089070761, 0.11997814727289347, 0.38503191140127546, 0.0012242668089070762, 0.027546003200409213, 0.02264893596478091, 0.5938833724329817, 0.19796112414432723, 0.09898056207216362, 0.9940346815753573, 0.015103193571401902, 0.010068795714267935, 0.20641031214249267, 0.02013759142853587, 0.006712530476178623, 0.0033562652380893115, 0.0016781326190446557, 0.015103193571401902, 0.0050343978571339675, 0.0016781326190446557, 0.0033562652380893115, 0.6746093128559516, 0.0050343978571339675, 0.006712530476178623, 0.0033562652380893115, 0.006712530476178623, 0.013425060952357246, 0.39427786960785327, 0.005120491813089004, 0.5786155748790575, 0.020481967252356015, 0.9653918291678802, 0.019307836583357604, 0.9717951335128687, 0.9580675913887001, 1.0299079914340512, 0.983574189114734, 0.10979882056173071, 0.006756850496106505, 0.012669094680199697, 0.0025338189360399393, 0.08192681226529137, 0.008446063120133131, 0.0016892126240266262, 0.10050815112958426, 0.0025338189360399393, 0.19679327069910196, 0.03293964616851921, 0.08614984382535794, 0.0016892126240266262, 0.09966354481757095, 0.22973291686762118, 0.01351370099221301, 0.01351370099221301, 0.023624383563648096, 0.5669852055275543, 0.09449753425459238, 0.18899506850918477, 0.023624383563648096, 0.11812191781824047, 1.01498186443514, 0.02189851491607067, 0.02980631196909619, 0.04379702983214134, 0.0279814357260903, 0.003649752486011778, 0.2877221543139285, 0.02737314364508834, 0.002433168324007852, 0.07481992596324145, 0.037105816941119744, 0.015207302025049076, 0.0279814357260903, 0.0066912128910215935, 0.22506806997072634, 0.021290222835068706, 0.023115099078074595, 0.07299504972023557, 0.0279814357260903, 0.011557549539037298, 0.010340965377033372, 0.12403778667878432, 8.765921320055429e-05, 0.07810435896169388, 0.07451033122047114, 0.022528417792542454, 0.00017531842640110859, 0.07117928111885008, 0.002103821116813303, 8.765921320055429e-05, 0.06153676766678911, 0.12053141815076215, 0.00035063685280221717, 0.021739484873737464, 0.027086696878971275, 0.199424710031261, 0.0026297763960166287, 0.00035063685280221717, 0.09134090015497758, 0.01858375319851751, 0.011308038502871503, 0.007538692335247669, 8.765921320055429e-05, 0.06434186248920684, 0.9864424905280402, 0.9533185945251859, 0.02143134639402276, 0.9215478949429786, 0.04286269278804552, 0.9983573598157142, 0.0025610309992898494, 0.19976041794460825, 0.007683092997869548, 0.0025610309992898494, 0.7785534237841142, 0.005122061998579699, 0.0012805154996449247, 0.0025610309992898494, 0.30875825204004065, 0.07676841964206778, 0.000721960059329791, 0.0016845734717695123, 0.03200689596362073, 0.1323593442104617, 0.000721960059329791, 0.04259564350045767, 0.030803629198071083, 0.006738293887078049, 0.0016845734717695123, 0.000721960059329791, 0.0026471868842092338, 0.04933393738753572, 0.12345517014539427, 0.05222177762485489, 0.12008602320185524, 0.0064976405339681196, 0.005775680474638328, 0.0038504536497588854, 0.04495988207463834, 0.944157523567405, 0.032815218499148514, 0.022015273170314827, 0.12295322374364506, 0.009969180303538789, 0.0024922950758846972, 0.03489213106238576, 0.0062307376897117435, 0.0469382239291618, 0.03239983598650106, 0.0033230601011795965, 0.00955379779089134, 0.009969180303538789, 0.477689889544567, 0.044861311365924555, 0.0049845901517693945, 0.0436151638279822, 0.031153688448558717, 0.04735360644180925, 0.002076912563237248, 0.014538387942660734, 0.9516545471373913, 0.057933331606081745, 0.04198067507687083, 0.02266956454151025, 0.01259420252306125, 0.001259420252306125, 0.07976328264605458, 0.10285265393833354, 0.020990337538435416, 0.028127052301503457, 0.2926053052857897, 0.018471497033823166, 0.0050376810092245, 0.002938647255380958, 0.06465023961838108, 0.060452172110693994, 0.05835313835685046, 0.013014009273829957, 0.02476859829535379, 0.04785796958763275, 0.043240095329176956, 0.9904020707883049, 1.0013024115510833, 0.0706906647084959, 0.2827626588339836, 0.2827626588339836, 0.2120719941254877, 0.0706906647084959, 0.9481226931863995, 0.07997933413531931, 0.15888942583567445, 0.05538675813114358, 0.01860481836837642, 0.0006415454609784971, 0.041914303450595145, 0.002352333356921156, 0.0002138484869928324, 0.06693457642875654, 0.0673622734027422, 0.0027800303309068208, 0.016680181985440926, 0.01432784862851977, 0.17792194117803653, 0.13194451647457758, 0.0012830909219569942, 0.06907306129868486, 0.009623181914677457, 0.03378806094486752, 0.014114000141526938, 0.03507115186682451, 0.9720020817521225, 0.07209305530942223, 0.937209719022489, 0.10181965651862449, 0.24242775361577257, 0.00017316268115412327, 0.02424277536157726, 0.05662419673739831, 0.08848613006975699, 0.0036364163042365886, 0.02424277536157726, 0.062165402534330255, 0.0006926507246164931, 0.00017316268115412327, 0.00017316268115412327, 0.07272832608473177, 0.01748943079656645, 0.07965483333089671, 0.023723287318114888, 0.0005194880434623698, 0.0029437655796200955, 0.19757861919685465, 0.9634244961960791, 0.09089867939011421, 0.05453920763406853, 0.018179735878022844, 0.018179735878022844, 0.8180881145110279, 0.010495332990777165, 0.013993777321036219, 0.031485998972331494, 0.12244555155906692, 0.010495332990777165, 0.024489110311813382, 0.0069968886605181095, 0.6017324248045574, 0.02099066598155433, 0.0034984443302590548, 0.010495332990777165, 0.13294088454984407, 0.0034984443302590548, 0.9613213588505872, 0.9780176172469791, 0.9699962431245034, 0.04217374970106537, 0.7649439249219705, 0.016629215759173272, 0.08314607879586636, 0.09977529455503964, 0.033258431518346544, 0.9893459521330793, 0.9306671050604095, 0.9343726690362942, 0.9522747244007673, 0.1261196983632032, 0.025608060581361055, 0.035851284813905475, 0.003201007572670132, 0.05121612116272211, 0.03136987421216729, 0.12547949684866916, 0.07938498780221927, 0.058258337822596394, 0.003841209087204158, 0.005121612116272211, 0.003841209087204158, 0.1965418649619461, 0.028809068154031184, 0.011523627261612475, 0.10051163778184213, 0.06914176356967484, 0.02944926966856521, 0.0012804030290680527, 0.013444231805214552, 0.18657091787927454, 0.09492204593857827, 0.0029094879981173415, 0.006910033995528687, 0.014547439990586709, 0.06364504995881685, 0.0007273719995293354, 0.11128791592798831, 0.11310634592681165, 0.0010910579992940031, 0.0014547439990586707, 0.003636859997646677, 0.13638224991175038, 0.08037460594799156, 0.10983317192892965, 0.03891440197481944, 0.022548531985409397, 0.0029094879981173415, 0.007273719995293354, 0.11795420139551674, 0.10225967148010495, 0.008828173077419132, 0.007111583867920968, 0.0012261351496415463, 0.04119814102795595, 0.10544762286917297, 0.002207043269354783, 0.10544762286917297, 0.06572084402078687, 0.0034331784189963292, 0.002207043269354783, 0.0009809081197132369, 0.02256088675340445, 0.06400425481128871, 0.0956385416720406, 0.14174122329856273, 0.0529690384645148, 0.018882481304479812, 0.0012261351496415463, 0.03850064369874455, 0.07302250348487285, 0.9127812935609106, 0.04923148091741524, 0.9353981374308896, 0.00012534639724443055, 0.07896823026399125, 0.00012534639724443055, 0.00012534639724443055, 0.00012534639724443055, 0.07119675363483656, 0.051015983678483236, 0.028202939379996874, 0.001128117575199875, 0.05841142111590464, 0.02945640335244118, 0.003384352725599625, 0.06944190407341452, 0.06505478016985945, 0.0037603919173329167, 0.00889959420435457, 0.004387123903555069, 0.18275504718237975, 0.11193433273927648, 0.011657214943732041, 0.00012534639724443055, 0.06430270178639287, 0.00012534639724443055, 0.06116904185528211, 0.03559837681741828, 0.00012534639724443055, 0.005139202287021653, 0.00012534639724443055, 0.00012534639724443055, 0.053021526034394126, 0.00012534639724443055, 0.8997452722815132, 0.08997452722815133, 0.022493631807037832, 0.07416791696508872, 0.01854197924127218, 0.05562593772381654, 0.7416791696508872, 0.05562593772381654, 0.03708395848254436, 0.9655008327238602, 0.24595136684706556, 0.06148784171176639, 0.4304148919823647, 0.30743920855883194, 0.014199945127348694, 0.13489947870981261, 0.07454971191858065, 0.014199945127348694, 0.021299917691023042, 0.3123987928016713, 0.09939961589144086, 0.021299917691023042, 0.03549986281837174, 0.2165491631920676, 0.04969980794572043, 0.0035499862818371736, 0.9982952118049268, 0.9911836428339512, 0.9728213046031545, 0.9790719275072993, 0.11184803586765997, 0.22369607173531994, 0.22369607173531994, 0.3355441076029799, 0.9812393352579349, 0.03991892846217243, 0.03991892846217243, 0.7983785692434487, 0.07983785692434486, 0.9436286559547512, 0.9537075148244263, 0.04335034158292847, 0.006948119690590036, 0.00013109659793566106, 0.0006554829896783052, 0.040508848762119264, 0.0019664489690349157, 0.05833798608136916, 0.04653929226715967, 0.0005243863917426442, 0.005768250309169086, 0.002621931958713221, 0.0031463183504558652, 0.00249083536077756, 0.013896239381180071, 0.00039328979380698315, 0.40259765226041505, 0.03578937123643547, 0.0009176761855496273, 0.3762472360753472, 0.9684935965871381, 0.0009268718769961714, 0.0259524125558928, 0.004634359384980857, 0.022244925047908114, 0.010195590646957886, 0.004634359384980857, 0.0009268718769961714, 0.002780615630988514, 0.004634359384980857, 0.8202816111416118, 0.005561231261977028, 0.09639467520760184, 0.0034795244960585774, 0.008118890490803348, 0.056832233435623436, 0.026676354469782428, 0.0011598414986861926, 0.008118890490803348, 0.011598414986861925, 0.01391809798423431, 0.44305945249812556, 0.025516512971096236, 0.4024650000441088, 0.07035375535485744, 0.0074056584584060465, 0.01110848768760907, 0.9034903319255377, 0.0037028292292030232, 0.9894043242623785, 0.06840468140530388, 0.022801560468434626, 0.04560312093686925, 0.8436577373320812, 0.30490500636845375, 0.20327000424563582, 0.5081750106140895, 0.06491449326343221, 0.046918396121094566, 0.015425226122003694, 0.01156891959150277, 0.0006427177550834873, 0.062343622243098265, 0.01156891959150277, 0.004499024285584411, 0.002570871020333949, 0.10347755856844144, 0.00706989530591836, 0.010283484081335796, 0.027636863468589953, 0.037920347549925744, 0.04884654938634503, 0.04306208959059365, 0.07648341285493498, 0.1960289153004636, 0.022495121427922052, 0.010926201836419283, 0.19410076203521315, 0.9616818950025717, 0.028284761617722698, 0.04884480010692031, 0.006718429754483462, 0.01970134130706637, 0.004630269155116981, 0.000998685504044839, 0.09578301879702775, 0.032230304903265256, 0.0001815791825536071, 9.078959127680355e-05, 0.0021789501906432853, 9.078959127680355e-05, 0.0037223732423489453, 0.30859382074985525, 0.09233301432850921, 0.014253965830458157, 0.0032684252859649277, 0.27609114707275956, 0.0768987838114526, 0.003359214877241731, 0.008534221580019534, 0.0010894750953216426, 0.055105100738075403, 0.9367867125472819, 0.944780829185877, 1.0192491020516266, 0.0052047773071278594, 0.0015614331921383578, 0.0020819109228511438, 0.0026023886535639297, 0.0005204777307127859, 0.0010409554614255719, 0.0005204777307127859, 0.0015614331921383578, 0.0015614331921383578, 0.006766210499266217, 0.7958104502598496, 0.0005204777307127859, 0.0015614331921383578, 0.1733190843273577, 0.0005204777307127859, 0.0031228663842767157, 0.9810703362509684, 0.03431627765103915, 0.9265394965780571, 0.03431627765103915, 0.23228259995283318, 0.01161412999764166, 0.0008933946152032045, 0.001786789230406409, 0.02948202230170575, 0.078618726137882, 0.001786789230406409, 0.06075083383381791, 0.005360367691219227, 0.001786789230406409, 0.08040551536828841, 0.004466973076016022, 0.024121654610486522, 0.0026801838456096136, 0.043776336144957025, 0.4127483122238805, 0.001786789230406409, 0.006253762306422432, 1.012061725515073, 0.2538610867549853, 0.044068795011256615, 0.004137915024531137, 0.00993099605887473, 0.06848249365599032, 0.06041355935815461, 0.0028965405171717962, 0.04262052475267072, 0.11462024617951251, 0.00331033201962491, 0.02317232413737437, 0.00993099605887473, 0.05999976785570149, 0.03827571397691302, 0.10096512659855976, 0.10799958214026269, 0.016758555849351108, 0.0022758532634921257, 0.03579296496219434, 0.963636395596817, 0.9835372181646677, 0.30525144966851925, 0.0001523210826689218, 0.0031987427360473577, 0.004417311397398732, 0.004112669232060888, 0.1201813342257793, 0.06808752395300804, 0.00594052222408795, 0.09139264960135307, 0.13922146955939452, 0.0009139264960135307, 0.01782156667226385, 0.012033365530844822, 0.0440207928913184, 0.026199226219054548, 0.038537233915237216, 0.05620647950483214, 0.03488152793118309, 0.02635154730172347, 0.0821589489576871, 0.04107947447884355, 0.017237269683279453, 0.010632334570994802, 0.004027399458710152, 0.09633539505234684, 0.041723858392237176, 0.002094247718529279, 0.05445044068176126, 0.10616224973159961, 0.009343566744207553, 0.020459189250247575, 0.07990360526080942, 0.07813154949897695, 0.014337542073008143, 0.14917487595062404, 0.12855459072202807, 0.026580836427487004, 0.003383015545316528, 0.03334686751812006, 0.9758198289939438, 0.9588223073604633, 0.9194202335310164, 0.43114587468703497, 0.4927381424994685, 0.061592267812433564, 0.0023293361173587312, 0.0046586722347174625, 0.0011646680586793656, 0.9212524344153781, 0.009317344469434925, 0.01281134864547302, 0.0011646680586793656, 0.016305352821511118, 0.022128693114907946, 0.009317344469434925, 0.0011646680586793656, 0.9925373387729269, 0.08874318158670985, 0.08874318158670985, 0.8184093412996576, 0.15894309562145015, 0.02050878653180002, 0.005127196632950005, 0.8049698713731507, 0.005127196632950005, 0.9592843166347664, 0.9891157851120137, 0.030140070660450678, 0.02176782881032549, 0.0016744483700250378, 0.018418932070275416, 0.013395586960200302, 0.03516341577052579, 0.04186120925062594, 0.0033488967400500756, 0.018418932070275416, 0.010046690220150227, 0.6446626224596396, 0.0016744483700250378, 0.10549024731157737, 0.05358234784080121, 0.9767458908674932, 0.9915780442062558, 6.279100967112663e-05, 0.11584941284322861, 6.279100967112663e-05, 0.00012558201934225325, 6.279100967112663e-05, 0.06448636693224703, 0.043890915760117506, 0.01375123111797673, 0.0009418651450668993, 0.04433045282781539, 0.018648929872324606, 0.002134894328818305, 6.279100967112663e-05, 0.045649064030909056, 0.06969802073495054, 0.025304776897464028, 0.013248903040607716, 0.014630305253372503, 6.279100967112663e-05, 0.18171718198824044, 0.10887961076973356, 0.006718638034810548, 6.279100967112663e-05, 0.08966556181036882, 6.279100967112663e-05, 0.04684209321466046, 0.05845843000381888, 6.279100967112663e-05, 6.279100967112663e-05, 0.002511640386845065, 6.279100967112663e-05, 0.00012558201934225325, 6.279100967112663e-05, 0.03139550483556331, 0.00012558201934225325, 0.9613323472846433, 0.00542977088710831, 0.3366457950007152, 0.00542977088710831, 0.24433968991987393, 0.02171908354843324, 0.01085954177421662, 0.027148854435541547, 0.34750533677493184, 7.321492330936659e-05, 0.07819353809440352, 7.321492330936659e-05, 7.321492330936659e-05, 7.321492330936659e-05, 0.08859005720433356, 0.05813264910763707, 0.023355560535687943, 0.0009517940030217656, 0.0725559889995823, 0.0015375133894966982, 0.00021964476992809975, 7.321492330936659e-05, 0.08924899151411787, 0.04129321674648276, 0.0004392895398561995, 0.014496554815254584, 0.015521563741585717, 7.321492330936659e-05, 0.32507425949358765, 0.05996302219037124, 0.0010250089263311322, 7.321492330936659e-05, 0.04832184938418195, 7.321492330936659e-05, 0.005637549094821228, 0.020719823296550744, 7.321492330936659e-05, 0.005637549094821228, 7.321492330936659e-05, 7.321492330936659e-05, 0.04839506430749131, 7.321492330936659e-05, 0.5845442850887455, 0.40468450506143916, 0.8056936303618586, 0.16113872607237173, 0.9260358133313089, 0.00010368093156214285, 0.1050287836724507, 0.00010368093156214285, 0.00010368093156214285, 0.00010368093156214285, 0.07133248091475428, 0.030689555742394282, 0.012856435513705713, 0.0009331283840592857, 0.06189751614259928, 0.01741839650244, 0.003110427946864285, 0.00010368093156214285, 0.06521530595258784, 0.0883361536909457, 0.005702451235917856, 0.012130668992770714, 0.05049261367076357, 0.00010368093156214285, 0.09860056591559785, 0.10150363199933785, 0.010679135950900713, 0.06531898688415, 0.00010368093156214285, 0.10388829342526713, 0.027060723137719282, 0.00010368093156214285, 0.01679631091306714, 0.00010368093156214285, 0.05028525180763928, 0.00010368093156214285, 0.8940250513889174, 1.0204735740939554, 0.9633243463770464, 4.132823531385787e-05, 0.19308551538634397, 0.00016531294125543149, 8.265647062771574e-05, 0.00012398470594157361, 0.011778547064449493, 0.0030169611779116245, 0.0032236023544809137, 0.0016531294125543146, 0.07178714474017112, 0.01086932588754462, 0.000950549412218731, 8.265647062771574e-05, 0.037195411782472085, 0.055421163555883404, 0.00045461058845243656, 0.00041328235313857866, 0.03748470942966909, 0.00012398470594157361, 0.0066538458855311166, 0.23548828481836215, 0.0052900141201738075, 8.265647062771574e-05, 0.12518322476567548, 4.132823531385787e-05, 0.1027006647549368, 0.0483540353172137, 8.265647062771574e-05, 8.265647062771574e-05, 0.001983755295065178, 4.132823531385787e-05, 8.265647062771574e-05, 8.265647062771574e-05, 0.045667700021812946, 8.265647062771574e-05, 0.04867100046896027, 0.15088010145377684, 0.009734200093792054, 0.004867100046896027, 0.012167750117240068, 0.06327230060964835, 0.019468400187584108, 0.024335500234480136, 0.5524158553226991, 0.0024335500234480135, 0.07057295067999239, 0.0024335500234480135, 0.024335500234480136, 0.012167750117240068, 0.004867100046896027, 0.992747151509515, 0.9665395108487906, 0.18160966840021672, 0.0632804227003588, 0.006945412247600357, 0.007717124719555952, 0.03601324869126111, 0.048103410751898765, 0.0015434249439111904, 0.05582053547145471, 0.12090162060637658, 0.025209274083882776, 0.0023151374158667856, 0.04450208588277265, 0.0213507117241048, 0.020578999252149205, 0.05916462284992896, 0.16000171918546005, 0.10932593352704265, 0.013119112023245118, 0.0018006624345630554, 0.020578999252149205, 0.04926165322120072, 0.04926165322120072, 0.05131422210541742, 0.007183991094758439, 0.009236559978975135, 0.03797252435800889, 0.0020525688842166967, 0.026683395494817057, 0.026683395494817057, 0.009236559978975135, 0.00615770665265009, 0.1744683551584192, 0.2647813860639539, 0.034893671031683844, 0.009236559978975135, 0.2206511550532949, 0.008210275536866787, 0.01231541330530018, 0.14759708853539866, 0.00011999763295560866, 0.00011999763295560866, 0.11747768266354087, 0.023399538426343687, 0.015479694651273516, 0.0016799668613785212, 0.04619908868790933, 0.03227936326505873, 0.004079919520490694, 0.01775964967743008, 0.12359756194427692, 0.008399834306892605, 0.00887982483871504, 0.024479517122944165, 0.05183897743682294, 0.122037592715854, 0.012359756194427692, 0.07223857503927641, 0.07355854900178811, 0.0359992898866826, 0.00011999763295560866, 0.01163977039669404, 0.00011999763295560866, 0.00011999763295560866, 0.047879055549287855, 0.00011999763295560866, 1.001089828382723, 0.9947183492971918, 0.9647133662996776, 0.9944420914266835, 0.1730347519370498, 0.5191042558111494, 0.0865173759685249, 0.07295135454976369, 0.01893929396965019, 0.045828415037672064, 0.012392377535697037, 0.00023381844406975542, 0.06804116722429883, 0.040216772379997934, 0.0009352737762790217, 0.007949827098371684, 0.05447969746825301, 0.00561164265767413, 0.046997507258020835, 0.022212752186626765, 0.13444560534010935, 0.015432017308603857, 0.1367837897808069, 0.10849175804836651, 0.12602814135359816, 0.018705475525580433, 0.001169092220348777, 0.06172806923441543, 0.13485242732867592, 0.007450410349650604, 0.03203676450349759, 0.03408562734965151, 0.0005587807762237952, 0.24139329532867956, 0.06817125469930302, 0.0005587807762237952, 0.008754232160839459, 0.05457425581119067, 0.002421383363636446, 0.0752491445314711, 0.12255925025175243, 0.016949683545455122, 0.007264150090909339, 0.044143681321679826, 0.1147363193846193, 0.003911465433566567, 0.0014900820699301207, 0.02812529906993103, 0.31255095614126993, 0.0004728456219988955, 0.02506081796594146, 0.006146993085985641, 0.019386670501954716, 0.019386670501954716, 0.026952200453937043, 0.10639026494975148, 0.011348294927973492, 0.006146993085985641, 0.08038375573981223, 0.006619838707984537, 0.03735480413791274, 0.3012026612132964, 0.021278052989950298, 0.017968133635958027, 0.05915289245328695, 0.0010377700430401217, 0.016604320688641948, 0.0020755400860802435, 0.04566188189376536, 0.010377700430401218, 0.006226620258240731, 0.0010377700430401217, 0.5977555447911101, 0.007264390301280853, 0.004151080172160487, 0.026982021119043166, 0.009339930387361096, 0.008302160344320974, 0.04151080172160487, 0.13906118576737633, 0.008302160344320974, 0.014528780602561705, 0.9076051606947916, 0.07563376339123264, 0.010603976102480924, 0.9649618253257641, 0.021207952204961848, 0.9905199116211327, 0.541397212397759, 0.4466527002281511, 0.013534930309943972, 0.917999421901891, 0.9787929160179354, 0.9783647570838778, 0.9809406033839689, 0.9739763480425461, 0.15717350838714203, 0.004762833587489153, 0.0023814167937445765, 0.03333983511242407, 0.0023814167937445765, 0.3500682686804527, 0.004762833587489153, 0.023814167937445764, 0.1524106747996529, 0.22623459540573476, 0.0404840854936578, 0.041351895220379145, 0.9510935900687203, 0.03355432636332697, 0.04217378634656692, 0.1160548719171951, 0.008927297839784238, 0.0009235135696328522, 0.014160541401037069, 0.0003078378565442841, 0.0003078378565442841, 0.031707299224061264, 0.020625136388467035, 0.005848919274341398, 0.006464594987429966, 0.40819299777772067, 0.19024379534436756, 0.0003078378565442841, 0.021548649958099887, 0.004925405704708546, 0.0714183827182739, 0.002462702852354273, 0.019393784962289898, 0.05528786536329893, 0.06021450683131567, 0.010948092151148303, 0.012042901366263134, 0.026275421162755927, 0.04433977321215063, 0.0016422138226722454, 0.5391935384440539, 0.005474046075574152, 0.030107253415657835, 0.035033894883674574, 0.011495496758705719, 0.0005474046075574152, 0.06349893447666016, 0.04871901007260995, 0.007663664505803813, 0.012590305973820548, 0.03448649027611716, 0.6666140314349419, 0.33330701571747096, 0.9851256242779226, 0.9891465222801601, 0.11097629855078679, 0.00012539694751501334, 0.07122546618852757, 0.024703198660457625, 0.019060336022282028, 0.0006269847375750667, 0.07937626777700343, 0.06683657302550211, 0.0037619084254503997, 0.029593679613543145, 0.19223352054051543, 0.0033857175829053597, 0.008903183273565946, 0.0244524047654276, 0.00012539694751501334, 0.08075563419966858, 0.05040957290103536, 0.011160328328836186, 0.07912547388197341, 0.08288738230742382, 0.016301603176951732, 0.004012702320480427, 0.0395000384672292, 0.23296889795158848, 0.05003719979098782, 0.02367351387960714, 0.004304275250837662, 0.034972236413056, 0.0016141032190641234, 0.0010760688127094155, 0.16410049393818588, 0.25933258386296915, 0.008070516095320618, 0.07371071367059497, 0.010222653720739447, 0.005918378469901785, 0.1248239822742922, 0.00484230965719237, 0.9404625781479, 0.05532132812634706, 0.9722597504154492, 0.9515014929190225, 0.05109351854149524, 0.10218703708299048, 0.8685898152054191, 1.0008102826407748, 0.9947848231263713, 0.9937477184634161, 0.1312974039847504, 0.0164121754980938, 0.18053393047903182, 0.6728991954218458, 1.001688022453125, 0.9418072231270467, 0.08469712486906227, 0.06416448853716838, 0.03336553403932756, 0.009945495723261099, 0.0016041122134292096, 0.029515664727097456, 0.002887401984172577, 0.0003208224426858419, 0.02342003831606646, 0.03047813205515498, 0.007058093739088522, 0.009945495723261099, 0.14116187478177045, 0.2810404597927975, 0.08084725555683216, 0.014116187478177044, 0.15880710912949175, 0.006095626411030996, 0.019570169003836357, 0.9544304481593685, 0.013637676201210721, 0.03950223451385174, 0.05549123419802983, 0.00047026469659347314, 0.003291852876154312, 0.011286352718243355, 0.008464764538682517, 0.00047026469659347314, 0.023513234829673657, 0.026334823009234495, 0.02398349952626713, 0.00047026469659347314, 0.0023513234829673655, 0.19704090787266523, 0.30190993521300974, 0.0009405293931869463, 0.015988999684178086, 0.013167411504617248, 0.24924028919454075, 0.004232382269341258, 0.007994499842089043, 0.16663746482486907, 0.12240152906176971, 0.04585714806855327, 0.014243508112202152, 0.07272295198750367, 0.05512121838543272, 0.046088749826475255, 0.11047403852878743, 0.014127707233241159, 0.015980521296617048, 0.10769481743372358, 0.134329019594752, 0.05222619641140789, 0.00023160175792198622, 0.008221862406230511, 0.03335065314076602, 1.0053297193699415, 0.11106825521686813, 0.022213651043373625, 0.03702275173895604, 0.005288964534136578, 0.08568122545301256, 0.007404550347791208, 0.0010577929068273156, 0.13857087079437833, 0.004231171627309262, 0.002115585813654631, 0.18299817288112558, 0.03702275173895604, 0.003173378720481947, 0.003173378720481947, 0.11318384103052276, 0.238003404036146, 0.006346757440963894, 0.17341317057204164, 0.00012694961242462784, 0.00012694961242462784, 0.022723980624008384, 0.016122600777927737, 0.0246282248103778, 0.002412042636067929, 0.06766414342232664, 0.05547698062956237, 0.0005077984496985113, 0.029198410857664402, 0.10384478296334558, 0.0123141124051889, 0.026151620159473334, 0.04455931396104437, 0.1386289767676936, 0.0029198410857664402, 0.09838594962908657, 0.00012694961242462784, 0.05116069380712502, 0.07033008528324382, 0.008378674420025437, 0.00012694961242462784, 0.050779844969851134, 0.9792714988312307, 0.984439139610158, 0.9948519931300049, 0.9617284596474494, 0.9898163023127867, 0.4103420835298715, 0.5801388077491286, 0.01414972701827143, 0.9905957151211067, 0.9103191899128279, 0.9448043129744187, 0.04706342422739926, 0.04706342422739926, 0.04706342422739926, 0.018825369690959704, 0.028238054536439555, 0.8094908967112672, 0.11630128185488087, 0.00018172075289825135, 0.004724739575354535, 0.09849264807085223, 0.02144304884199366, 0.00018172075289825135, 0.08013885202812884, 0.02144304884199366, 0.002544090540575519, 0.030165644981109727, 0.05833236168033869, 0.0003634415057965027, 0.0038161358108632784, 0.03452694305066776, 0.302201612069792, 0.0067236678572353, 0.006360226351438797, 0.020716165830400656, 0.14501316081280458, 0.028893599710821966, 0.0014537660231860108, 0.01580970550214787, 0.12524001342573768, 0.0001471680533792452, 0.0001471680533792452, 0.06475394348686789, 0.036350509184673564, 0.012214948430477351, 0.0005886722135169808, 0.08256127794575656, 0.023399720487299987, 0.0002943361067584904, 0.024577064914333948, 0.06784447260783204, 0.017954502512267916, 0.027814762088677343, 0.0001471680533792452, 0.11567408995608673, 0.1273003661730471, 0.002796193014205659, 0.0875649917606509, 0.07505570722341505, 0.06387093516659242, 0.0001471680533792452, 0.0069168985088245245, 0.0001471680533792452, 0.03620334113129432, 0.0001471680533792452, 0.08802751376189108, 0.0001086759429159149, 0.05357723985754605, 0.009237455147852767, 0.011410974006171064, 0.001304111314990979, 0.09433071845101414, 0.10161200662638044, 0.02879912487271745, 0.0001086759429159149, 0.030211912130624345, 0.07118274260992427, 0.0002173518858318298, 0.016301391437387236, 0.03118999561686758, 0.0001086759429159149, 0.024234735270249025, 0.07759462324196324, 0.029559856473128854, 0.0001086759429159149, 0.05270783231421873, 0.2332185734975534, 0.004999093374132086, 0.0001086759429159149, 0.004129685830804766, 0.0001086759429159149, 0.0001086759429159149, 0.0001086759429159149, 0.03521100550475643, 0.0001086759429159149, 0.15924591218479647, 0.0001447690110770877, 0.0001447690110770877, 0.05892098750837469, 0.009265216708933613, 0.01317398000801498, 0.0007238450553854385, 0.12508042557060375, 0.1000353866542676, 0.02837472617110919, 0.044154548378511745, 0.039666709035122025, 0.0011581520886167016, 0.02200488968371733, 0.02258396572802568, 0.0001447690110770877, 0.025913652982798695, 0.09540277829980079, 0.026637498038184135, 0.05269592003205992, 0.13926778865615835, 0.00188199714400214, 0.0001447690110770877, 0.004343070332312631, 0.0001447690110770877, 0.02895380221541754, 0.979321946045349, 0.003213997648087701, 0.0010713325493625669, 0.003213997648087701, 0.06427995296175401, 0.10927592003498182, 0.08034994120219252, 0.17891253574354868, 0.016069988240438503, 0.2035531843788877, 0.0010713325493625669, 0.02035531843788877, 0.003213997648087701, 0.016069988240438503, 0.02464064863533904, 0.2624764745938289, 0.003213997648087701, 0.007499327845537968, 0.0963243703536777, 8.142381264047143e-05, 8.142381264047143e-05, 0.017506119717701357, 0.028498334424165002, 0.009933705142137515, 0.0005699666884833, 0.09274172259749697, 0.08940334627923763, 0.007165295512361486, 0.025159958105905673, 0.08989188915508046, 0.03509366324804319, 0.0165290339660157, 0.022554396101410586, 8.142381264047143e-05, 0.06636040730198421, 0.012213571896070715, 0.04315462069944986, 0.08818198908963056, 8.142381264047143e-05, 0.19973261240707643, 0.021251615099163044, 8.142381264047143e-05, 8.142381264047143e-05, 0.0010585095643261286, 8.142381264047143e-05, 8.142381264047143e-05, 0.0359079013744479, 8.142381264047143e-05, 0.14718041874571244, 0.04360901296169258, 0.00778732374315939, 0.00700859136884345, 0.053732533827799786, 0.12926957413644585, 0.009344788491791267, 0.04049408346442882, 0.00700859136884345, 0.0007787323743159389, 0.016353379860634717, 0.03893661871579695, 0.1900106993330891, 0.19546182595330067, 0.06774971656548669, 0.008566056117475329, 0.006229858994527511, 0.029591830224005678, 0.06820304095151263, 0.9207410528454204, 7.153728593667945e-05, 0.16947183038399363, 7.153728593667945e-05, 7.153728593667945e-05, 7.153728593667945e-05, 0.043995430851057865, 0.010802130176438596, 0.028042616087178344, 0.0012161338609235506, 0.0939999937207968, 0.08856315998960916, 0.008226787882718137, 7.153728593667945e-05, 0.03948858183704706, 0.08892084641929256, 0.0004292237156200767, 0.009442921743641688, 0.034337897249606134, 7.153728593667945e-05, 0.040060880124540496, 0.07718873152567712, 0.02983104823559533, 7.153728593667945e-05, 0.06889040635702232, 7.153728593667945e-05, 0.12762251811103614, 0.003648401582770652, 7.153728593667945e-05, 7.153728593667945e-05, 0.0034337897249606137, 7.153728593667945e-05, 7.153728593667945e-05, 7.153728593667945e-05, 0.03161948038401232, 7.153728593667945e-05, 0.16592885922059175, 0.1725660135894154, 0.024336232685686788, 0.00442476957921578, 0.00884953915843156, 0.01327430873764734, 0.015486693527255228, 0.05752200452980514, 0.015486693527255228, 0.00442476957921578, 0.09734493074274715, 0.11946877863882606, 0.03982292621294202, 0.09513254595313926, 0.0663715436882367, 0.00442476957921578, 0.08849539158431559, 0.00663715436882367, 0.055849009339072594, 0.030544168780251277, 0.010478656442859927, 0.015272084390125638, 0.003678677261855081, 0.12529797704015488, 0.05027525591201944, 0.00011147506854106306, 0.013599958362009694, 0.03689824768709187, 0.0010032756168695674, 0.043252326593932466, 0.08171122524059922, 0.042806426319768213, 0.057409660298647476, 0.0004459002741642522, 0.21447803187300532, 0.13499630800322737, 0.013934383567632883, 0.02151468822842517, 0.045927728238917984, 0.19366283819776164, 0.7746513527910466, 0.9205102709527176, 0.9613664710314797, 0.06789790991802647, 0.018204512079470866, 0.08757846351745444, 0.014596410586242406, 0.07413008522451199, 0.0746220990644977, 0.013120369066285309, 0.06314177613149805, 0.04050913949215589, 0.005576156853171256, 0.01525242903955667, 0.00803622605309975, 0.15957648876869507, 0.00541215223984269, 0.022960645865999288, 0.08118228359764035, 0.18220912540803721, 0.02820879349251341, 0.03722904722558456, 0.035592332150687606, 0.8290919724513113, 0.0041873331941985415, 0.0649036645100774, 0.0502479983303825, 0.016749332776794166, 0.021180229453917555, 0.9319300959723723, 0.04236045890783511, 0.9403521632210179, 0.04949221911689568, 0.14094691381551513, 0.011090059092529095, 0.014442867655386729, 0.01624822611231007, 0.0015474501059342925, 0.1179930705774898, 0.0618980042373717, 0.0015474501059342925, 0.060479508306931926, 0.0983920359023221, 0.00012895417549452437, 0.017795676218244363, 0.07930681792913248, 0.00012895417549452437, 0.038299390121873736, 0.07324597168088984, 0.010187379864067425, 0.17640931207650934, 0.04758409075747949, 0.013669142602419583, 0.002836991860879536, 0.015474501059342925, 0.26425792507176704, 0.07550226430621915, 0.5662669822966436, 0.05033484287081277, 0.025167421435406383, 1.0044072232684962, 0.13302478806677065, 0.5741069800776417, 0.0070013046350931914, 0.029755544699146066, 0.0070013046350931914, 0.015752935428959683, 0.0017503261587732979, 0.045508480128105745, 0.019253587746506276, 0.06476206787461203, 0.010501956952639788, 0.005250978476319894, 0.021003913905279576, 0.028005218540372766, 0.029755544699146066, 0.00875163079386649, 0.06153103200151481, 0.0656331008016158, 0.05127586000126234, 0.08614344480212073, 0.1271641328031306, 0.030765516000757404, 0.004102068800100988, 0.04717379120116135, 0.002051034400050494, 0.08204137600201974, 0.12101102960297912, 0.004102068800100988, 0.004102068800100988, 0.31175722880767504, 0.9306723454918379, 0.16295647867213095, 0.07861935374532633, 0.010720820965271773, 0.01643859214675005, 0.05074521923561972, 0.03573606988423924, 0.04073911966803274, 0.18582756339804404, 0.10506404545966337, 0.030018298702760963, 0.025729970316652254, 0.03859495547497838, 0.006432492579163064, 0.045027448054141446, 0.05217466203098929, 0.052889383428674074, 0.01643859214675005, 0.04574216945182623, 0.19335481716639208, 0.0016135311585512553, 0.0021513748780683404, 0.0018824530183097978, 0.0010756874390341702, 0.044103185000400974, 0.012101483689134414, 0.0026892185975854253, 0.0026892185975854253, 0.2554757667706154, 0.005109515335412308, 0.03361523246981782, 0.008067655792756276, 0.02635434225633717, 0.004571671615895223, 0.055935746829776846, 0.19927109808108004, 0.0005378437195170851, 0.0005378437195170851, 0.1484448665867155, 0.14561746811279846, 0.014847271258559844, 0.009707831207519897, 0.03540503146271962, 0.021128809098719777, 0.009136782312959904, 0.001142097789119988, 0.3329215055284765, 0.00285524447279997, 0.000571048894559994, 0.015418320153119837, 0.021128809098719777, 0.005139440051039946, 0.054820693877759424, 0.15247005484751838, 0.000571048894559994, 0.17588305952447814, 0.9808568084141827, 0.09662339656620239, 0.048311698283101195, 0.8696105690958216, 0.08727079354884794, 0.07819463101976776, 0.032813818374366824, 0.011170661574252536, 0.06702396944551522, 0.08377996180689402, 0.03979548185827466, 0.19409024485263782, 0.002792665393563134, 0.034908317419539175, 0.20595907277528114, 0.011170661574252536, 0.013265160619424888, 0.013963326967815671, 0.08657262720045716, 0.015359659664597238, 0.02164315680011429, 0.036391131790201786, 0.01915322725800094, 0.005745968177400282, 0.09002016811260442, 0.007661290903200376, 0.034475809064401695, 0.0632056499514031, 0.007661290903200376, 0.005745968177400282, 0.01915322725800094, 0.04788306814500235, 0.6205645631592305, 0.005745968177400282, 0.003830645451600188, 0.030645163612801504, 0.11812566511060185, 0.05369348414118266, 0.030952714387270003, 0.008422507316263947, 0.0014739387803461906, 0.02674146072913803, 0.0071591312188243545, 0.000631688048719796, 0.043165349995852725, 0.05790473779931463, 0.03916465902062735, 0.01094925951114313, 0.024635833900072044, 0.11033484584305771, 0.09917502364900797, 0.032005527801803, 0.21540562461345045, 0.03937522170353395, 0.0477977290197979, 0.002947877560692381, 0.029057650241110615, 0.9632258064885729, 0.9884056940675471, 0.9414341441098977, 0.9550408820685765, 7.176804469409236e-05, 0.1643488223494715, 0.00014353608938818472, 7.176804469409236e-05, 7.176804469409236e-05, 0.05755797184466207, 0.0012918248044936625, 0.009616917989008376, 0.0014353608938818471, 0.04923287866014736, 0.06545245676101223, 0.0016506650279641242, 7.176804469409236e-05, 0.04349143508461997, 0.053969569609957455, 0.0033013300559282485, 0.01822908335229946, 0.00014353608938818472, 0.006243819888386035, 0.1982951074897772, 0.02224809385516863, 0.00014353608938818472, 0.21903607240636988, 7.176804469409236e-05, 0.05590730681669795, 0.0016506650279641242, 7.176804469409236e-05, 7.176804469409236e-05, 0.0040190105028691725, 7.176804469409236e-05, 7.176804469409236e-05, 7.176804469409236e-05, 0.02181748558700408, 0.00014353608938818472, 0.9681977313710766, 0.9049843263977755, 0.02685036397857558, 0.966613103228721, 8.81563883081299e-05, 0.12192028503014365, 8.81563883081299e-05, 8.81563883081299e-05, 8.81563883081299e-05, 0.01577999350715525, 0.07158298730620148, 0.03367574033370562, 0.0016749713778544681, 0.06973170315173075, 0.024507475949660112, 0.0014105022129300784, 0.054833273527656795, 0.05448064797442428, 0.003526255532325196, 0.021069376805643046, 0.030590266742921073, 0.1854810410003053, 0.05474511713934867, 0.007052511064650392, 0.06426600707662669, 8.81563883081299e-05, 0.06990801592834701, 0.05597930657566248, 8.81563883081299e-05, 8.81563883081299e-05, 0.000881563883081299, 8.81563883081299e-05, 8.81563883081299e-05, 0.05606746296397062, 8.81563883081299e-05, 0.005937074830723205, 0.9914914967307752, 0.9832542046780854, 0.9696543389350756, 0.9869040338587749, 0.9310507131910987, 0.9617761796631454, 0.9753170972062182, 0.9988778493156254, 0.9944002577844651, 0.00012475651049132798, 0.04952833466505721, 0.00012475651049132798, 0.00012475651049132798, 0.07036267191710899, 0.05289676044832307, 0.020834337252051773, 0.0018713476573699198, 0.047906500028669946, 0.005115016930144448, 0.0007485390629479679, 0.06811705472826508, 0.051524438832918455, 0.0004990260419653119, 0.012475651049132798, 0.011976625007167487, 0.2545032814023091, 0.18651098318453532, 0.0014970781258959358, 0.050900656280461816, 0.00012475651049132798, 0.006861608077023039, 0.06549716800794719, 0.00012475651049132798, 0.0028693997413005434, 0.00012475651049132798, 0.03642890106346777, 0.00012475651049132798, 0.9260507924467872, 0.07320256141508807, 0.07883352767778716, 0.010323438148281652, 0.0009384943771165138, 0.011261932525398166, 0.020646876296563303, 0.02909332569061193, 0.037539775084660554, 0.011261932525398166, 0.01220042690251468, 0.022523865050796333, 0.6400531651934624, 0.0009384943771165138, 0.011261932525398166, 0.008446449394048625, 0.025339348182145872, 0.004692471885582569, 0.9776694702108285, 0.9624911879972264, 0.017965263908469677, 0.008982631954234838, 0.008982631954234838, 0.008982631954234838, 0.044913159771174195, 0.8623326676065445, 0.03593052781693935, 0.017965263908469677, 0.8919962867969022, 0.06526802098513919, 0.043512013990092795, 0.9827540757929626, 0.11271453145808949, 0.019997739452241682, 0.05317580717982447, 0.0015907292746101338, 0.03363256180604283, 0.01272583419688107, 0.0002272470392300191, 0.004090446706140344, 0.12271340118421033, 0.24610854348611072, 0.0027269644707602295, 0.01772526905994149, 0.19679593597319656, 0.007499152294590631, 0.0002272470392300191, 0.07226455847514608, 0.06431091210209541, 0.029542115099902486, 0.0006817411176900574, 0.0013634822353801148, 0.9936380762367525, 0.9939091522468736, 0.09256031739071678, 0.00019862729053801885, 0.07190307917476282, 0.03217762106715905, 0.022047629249720094, 0.0015890183243041508, 0.048067804310200565, 0.02939683899962679, 0.01549292866196547, 0.07905366163413151, 0.05422525031687915, 0.0017876456148421696, 0.02264351112133415, 0.02125312008756802, 0.16386751469386557, 0.1412240035725314, 0.010527246398515, 0.07329347020852896, 0.05005407721558075, 0.030191348161778864, 0.004171173101298396, 0.0337666393914632, 0.03277202836646124, 0.03277202836646124, 0.01560572779355297, 0.08739207564389663, 0.004681718338065891, 0.042135465042593016, 0.012484582234842376, 0.018726873352263564, 0.012484582234842376, 0.01560572779355297, 0.018726873352263564, 0.04681718338065891, 0.2106773252129651, 0.021848018910974158, 0.3511288753549418, 0.018726873352263564, 0.05774119283614599, 1.0022755391981986, 0.9695928529934027, 0.13509032090816797, 0.8180469432772394, 0.045030106969389326, 0.0010833980515092356, 0.0021667961030184713, 0.01733436882414777, 0.15275912526280222, 0.023834757133203186, 0.02925174739074936, 0.01733436882414777, 0.03791893180282325, 0.013000776618110828, 0.08775524217224809, 0.041169125957350956, 0.13867495059318216, 0.42577543424312964, 0.003250194154527707, 0.00758378636056465, 0.11705579246035032, 0.010178764561769593, 0.01526814684265439, 0.020357529123539185, 0.005089382280884796, 0.09669826333681114, 0.025446911404423983, 0.6921559902003324, 0.020357529123539185, 1.0003164973027932, 0.9456011605588326, 0.04502862669327774, 0.8971250799420653, 1.0100968149832514, 0.997795445312996, 0.005446317962441422, 0.762484514741799, 0.010892635924882843, 0.021785271849765687, 0.032677907774648525, 0.09803372332394558, 0.016338953887324262, 0.005446317962441422, 0.021785271849765687, 0.021785271849765687, 0.046402414608760136, 0.09280482921752027, 0.8352434629576824, 0.08812598954706946, 0.033695231297408916, 0.009071793041610092, 0.013607689562415138, 0.013607689562415138, 0.009719778258867957, 0.007775822607094365, 0.07451829998465433, 0.01879157130047805, 0.009071793041610092, 0.018143586083220184, 0.027215379124830276, 0.02980731999386173, 0.0038879113035471826, 0.14579667388301934, 0.26372998342395054, 0.19698750604639056, 0.0012959704345157275, 0.03434321651466678, 0.01818724036763201, 0.02728086055144801, 0.7365832348890963, 0.16368516330868807, 0.02728086055144801, 0.01818724036763201, 0.030781325250954613, 0.030781325250954613, 0.9234397575286384, 0.05877035428837294, 0.017382780845856784, 0.2036268613371795, 0.005794260281952262, 0.0008277514688503231, 0.009933017626203878, 0.016555029377006463, 0.05049283959986971, 0.014071774970455492, 0.0107607690950542, 0.011588520563904523, 0.30212928613036794, 0.07035887485227746, 0.13161248354720137, 0.017382780845856784, 0.06373686310147487, 0.01324402350160517, 7.903024993822326e-05, 0.15537347137854693, 7.903024993822326e-05, 7.903024993822326e-05, 7.903024993822326e-05, 0.06844019644650133, 0.04694396846330461, 0.019994653234370482, 0.0001580604998764465, 0.06124844370212302, 0.08400915568433132, 0.0017386654986409117, 7.903024993822326e-05, 0.03366688647368311, 0.07144334594415382, 0.009167508992833898, 0.01240774924030105, 0.013593202989374399, 7.903024993822326e-05, 0.16145880062379012, 0.02600095222967545, 0.010273932491969022, 0.08448333718396066, 7.903024993822326e-05, 0.09483629992586791, 0.004583754496416949, 0.004030542746849386, 7.903024993822326e-05, 7.903024993822326e-05, 0.0353265217223858, 7.903024993822326e-05, 0.7542821877458206, 0.025142739591527352, 0.08799958857034573, 0.13828506775340044, 0.0685061757357729, 0.9248333724329342, 0.9961433848299106, 0.9749877926350959, 0.06964473495990518, 0.01875050556612832, 0.008035930956912136, 0.008035930956912136, 0.0026786436523040455, 0.010714574609216182, 0.15000404452902655, 0.026786436523040455, 0.058930160350689, 0.06428744765529709, 0.0026786436523040455, 0.04017965478456068, 0.0026786436523040455, 0.38036739862717445, 0.08571659687372946, 0.026786436523040455, 0.0294650801753445, 0.013393218261520227, 0.01921932736801812, 0.00960966368400906, 0.01921932736801812, 0.8648697315608154, 0.0480483184200453, 0.02882899105202718, 0.00960966368400906, 0.02458820962634017, 0.885175546548246, 0.0860587336921906, 0.007267389911744129, 0.05450542433808097, 0.009689853215658838, 0.0024224633039147095, 0.1719948945779444, 0.006056158259786774, 0.006056158259786774, 0.009689853215658838, 0.06177281424982509, 0.004844926607829419, 0.024224633039147098, 0.026647096343061807, 0.0036336949558720645, 0.0012112316519573548, 0.4772252708711978, 0.1102220803281193, 0.0036336949558720645, 0.019379706431317676, 0.21378651386517947, 0.7866513471349807, 0.05067043723444795, 0.009001624952824564, 0.010308312445976518, 0.004355624977173176, 0.00029037499847821177, 0.019164749899561975, 0.006243062467281553, 0.00029037499847821177, 0.004645999975651388, 0.7590402460220456, 0.0015970624916301648, 0.0018874374901083765, 0.0014518749923910588, 0.030779749838690446, 0.007259374961955294, 0.001161499993912847, 0.020326249893474823, 0.057349062199446826, 0.0065334374657597645, 0.0007259374961955294, 0.0065334374657597645, 0.09394446974369847, 0.005871529358981154, 0.8983439919241166, 0.9379329551661136, 0.03828297776188219, 0.00011573360473257307, 0.019732579606903708, 0.0001736004070988596, 0.0001736004070988596, 0.0001736004070988596, 0.039117958399609694, 0.04438383741494177, 0.019964046816368854, 0.005439479422430934, 0.09033007849377328, 0.16393665110368974, 0.0016781372686223094, 0.00011573360473257307, 0.050286251256303, 0.10300290821199003, 0.015797637045996224, 0.012614962915850464, 0.010936825647228154, 0.00011573360473257307, 0.12701763119399895, 0.12730696520583037, 0.01267282971821675, 0.00011573360473257307, 0.09779489599902425, 0.0001736004070988596, 0.017070706698054525, 0.02268378652758432, 0.00011573360473257307, 5.7866802366286535e-05, 0.001736004070988596, 0.00011573360473257307, 0.0001736004070988596, 0.0001736004070988596, 0.014582434196304206, 0.00011573360473257307, 0.07082024840703151, 0.6727923598667993, 0.2124607452210945, 0.09631418338407999, 0.9023118232824335, 0.9885204698338153, 0.9418931935540228, 0.12218541643825266, 0.00023587918231322908, 0.00023587918231322908, 0.05260105765585008, 0.02571083087214197, 0.007076375469396872, 0.004717583646264582, 0.09671046474842392, 0.0592056747606205, 0.012029838297974682, 0.00023587918231322908, 0.006132858740143956, 0.11982662461512036, 0.0021229126408190617, 0.006368737922457185, 0.06014919148987342, 0.08562414317970216, 0.126667120902204, 0.013445113391854058, 0.00023587918231322908, 0.057082762119801435, 0.07784013016336559, 0.04363764872794738, 0.002830550187758749, 0.00023587918231322908, 0.016039784397299577, 0.00023587918231322908, 0.9448142815906582, 0.05674265941494593, 0.05674265941494593, 0.851139891224189, 0.1444648004759688, 0.8667888028558127, 0.10350068395173091, 0.06009717132681149, 0.023371122182648914, 0.24706614878800282, 0.01001619522113525, 0.10016195221135249, 0.006677463480756833, 0.13354926961513666, 0.006677463480756833, 0.0200323904422705, 0.07679083002870357, 0.12019434265362298, 0.06343590306718991, 0.0200323904422705, 0.006677463480756833, 0.0033387317403784163, 0.9857093768890961, 0.9288627619504938, 4.9925015201751086e-05, 0.39445754510903536, 4.9925015201751086e-05, 4.9925015201751086e-05, 4.9925015201751086e-05, 0.008037927447481925, 0.01098350334438524, 0.005341976626587366, 4.9925015201751086e-05, 0.04288558805830418, 0.009785302979543213, 0.0006989502128245152, 4.9925015201751086e-05, 0.00274587583609631, 0.10184703101157222, 0.01243132878523602, 0.0012481253800437771, 0.011332978450797497, 4.9925015201751086e-05, 0.057663392558022504, 0.010234628116358974, 0.008087852462683676, 4.9925015201751086e-05, 0.02895650881701563, 4.9925015201751086e-05, 0.22176691752617833, 0.018971505776665412, 4.9925015201751086e-05, 4.9925015201751086e-05, 0.002945575896903314, 4.9925015201751086e-05, 4.9925015201751086e-05, 0.04902636492811957, 4.9925015201751086e-05, 0.9769394893745176, 0.9983368764209781, 0.02955171336311243, 0.007387928340778107, 0.0036939641703890537, 0.15514649515634024, 0.01108189251116716, 0.3730903812092944, 0.07387928340778108, 0.02216378502233432, 0.025857749192723375, 0.2955171336311243, 0.01674038433849464, 0.09114209250958193, 0.001860042704277182, 0.007440170817108728, 0.03348076867698928, 0.003720085408554364, 0.03534081138126646, 0.14136324552506585, 0.00930021352138591, 0.003720085408554364, 0.00930021352138591, 0.5747531956216493, 0.0520811957197611, 0.00930021352138591, 0.00930021352138591, 0.07979956707848221, 0.07037878485393917, 0.05098305674458585, 0.060034396528950734, 0.004248588062048821, 0.07610514267670063, 0.02456792227184753, 0.0018472122008907918, 0.030848443754876224, 0.09734808298694472, 0.0035097031816925042, 0.013115206626324621, 0.022166546410689502, 0.11785213841683252, 0.13761730896636398, 0.0029555395214252668, 0.08035373073874945, 0.022166546410689502, 0.03528175303701412, 0.007943012463830404, 0.060034396528950734, 0.9383705271236102, 0.00010514055692053212, 0.09725501515149222, 0.00010514055692053212, 0.00010514055692053212, 0.09473164178539945, 0.0729675465028493, 0.014719677968874498, 0.0022079516953311747, 0.07107501647827971, 0.00641357397215246, 0.000841124455364257, 0.06760537809990216, 0.0667642536445379, 0.01976642470106004, 0.021133251941026956, 0.2460289031940452, 0.07212642204748504, 0.002523373366092771, 0.033224415986888155, 0.036378632694504115, 0.027336544799338353, 0.00010514055692053212, 0.001682248910728514, 0.00010514055692053212, 0.04447445557738509, 0.02021856590262813, 0.07903621216481906, 0.009190257228467332, 0.025732720239708528, 0.0018380514456934663, 0.009190257228467332, 0.009190257228467332, 0.0018380514456934663, 0.0036761028913869327, 0.056979594816497454, 0.3712863920300802, 0.005514154337080399, 0.011028308674160797, 0.21872812203752248, 0.005514154337080399, 0.1415299613183969, 0.027570771685401993, 0.9886523370306444, 0.06196870500871272, 0.8985462226263343, 0.21479443991450992, 0.5727851731053598, 0.21479443991450992, 1.003348946031236, 0.5355877849187723, 0.2677938924593862, 0.1785292616395908, 0.856334207889437, 0.0856334207889437, 0.5798702982914937, 0.38658019886099576, 0.043870091950059066, 0.0036558409958382557, 0.614181287300827, 0.3217140076337665, 0.010967522987514767, 0.08485467535854098, 0.06569394221306399, 0.03832146629095399, 0.04105871388316499, 0.010948990368843997, 0.13412513201833895, 0.21076806460024694, 0.005474495184421999, 0.0027372475922109994, 0.021897980737687995, 0.19708182663919194, 0.18613283627034796, 0.05426421937745349, 0.04675071207903685, 0.05092488280037943, 0.03339336577074061, 0.0008348341442685152, 0.0016696682885370304, 0.1644623264208975, 0.22624005309676762, 0.011687678019759213, 0.0025045024328055458, 0.05092488280037943, 0.24043223354933238, 0.004174170721342576, 0.11186777533198104, 0.17615610424207526, 0.8807805212103763, 0.9855844481627949, 0.9919262623375442, 0.6544398562625715, 0.026789935636479537, 0.31765209397540023, 0.9817346511880368, 0.9378348168484729, 0.9524802828739298, 0.9834306911917965, 0.04816584935726156, 0.01204146233931539, 0.06020731169657695, 0.06020731169657695, 0.01204146233931539, 0.036124387017946166, 0.43349264421535405, 0.10837316105383851, 0.02408292467863078, 0.06020731169657695, 0.09633169871452311, 0.04816584935726156, 0.00012254075839167062, 0.20415290348052323, 0.00012254075839167062, 0.00012254075839167062, 0.07082855835038561, 0.022547499544067394, 0.015562676315742168, 0.0006127037919583531, 0.09607195457906977, 0.07744575930353582, 0.009558179154550308, 0.021199551201759016, 0.12364362521719564, 0.0012254075839167062, 0.014582350248608803, 0.022670040302459064, 0.00012254075839167062, 0.058697023269610224, 0.045830243638484806, 0.01004834218811699, 0.06568184649793544, 0.00012254075839167062, 0.08933221286752788, 0.01789095072518391, 0.005391793369233507, 0.00012254075839167062, 0.00012254075839167062, 0.02622372229581751, 0.00012254075839167062, 0.00011127246678954268, 0.10834229183075139, 0.00011127246678954268, 0.00011127246678954268, 7.418164452636178e-05, 0.065205665538672, 0.052260968568821876, 0.016357052618062775, 0.0007789072675267987, 0.05797295519735173, 0.021994857602066268, 0.003857445515370813, 7.418164452636178e-05, 0.04777297907497699, 0.06817293131972647, 0.02418321611559394, 0.011498154901586077, 0.01580069028411506, 0.00014836328905272356, 0.12061935399986426, 0.11702154424033571, 0.012314152991376056, 7.418164452636178e-05, 0.07985654033262846, 0.00011127246678954268, 0.08041290266657618, 0.04788425154176653, 0.00011127246678954268, 7.418164452636178e-05, 0.0057861682730562195, 0.00011127246678954268, 0.00014836328905272356, 0.00011127246678954268, 0.04039190544460399, 0.00014836328905272356, 0.9929489867221415, 0.9333077269830735, 0.10402233952175687, 0.0641531501580173, 0.011235862457053878, 0.011417086045070876, 0.00036244717603399604, 0.08970567606841402, 0.1190638973271677, 0.005980378404560935, 0.08571875713204007, 0.04222509600796054, 0.0016310122921529822, 0.04204387241994354, 0.004893036876458947, 0.025008855146345727, 0.05708543022535438, 0.03316391660711064, 0.09024934683246502, 0.16926283120787616, 0.004168142524390955, 0.010510968104985885, 0.0275459853785837, 0.04051388971925978, 0.04861666766311174, 0.019244097616648397, 0.025321181074537364, 0.07393784873764911, 0.3048670201374299, 0.04456527869118576, 0.03950104247627829, 0.041526736962241274, 0.012154166915777935, 0.04355243144820427, 0.060770834578889675, 0.019244097616648397, 0.12356736364374234, 0.041526736962241274, 0.03342395901838932, 0.027346875560500354, 0.13629511834618252, 0.0022222030165138453, 0.025925701859328194, 0.0022222030165138453, 0.09925840140428509, 0.025925701859328194, 0.45703308706301415, 0.0007407343388379484, 0.02888863921467999, 0.0007407343388379484, 0.054814341074008184, 0.08074004293333638, 0.036295982603059475, 0.003703671694189742, 0.045184794669114854, 0.06947935137965525, 0.8337522165558631, 0.06947935137965525, 0.9308642829134514, 0.00010387767969869324, 0.1369107818428777, 0.00010387767969869324, 0.00010387767969869324, 0.00010387767969869324, 0.07250662042968788, 0.025761664565275923, 0.02783921815924979, 0.0015581651954803986, 0.049861286255372755, 0.020983291299136033, 0.0015581651954803986, 0.013815731399926201, 0.09587909836189386, 0.012984709962336655, 0.015893284993900067, 0.0874650063062997, 0.18469451450427657, 0.0010387767969869323, 0.00010387767969869324, 0.0828943883995572, 0.00010387767969869324, 0.0676243694838493, 0.043940258512547244, 0.00010387767969869324, 0.00862184741499154, 0.00010387767969869324, 0.00010387767969869324, 0.047368221942604115, 0.00010387767969869324, 0.9645993986379818, 0.06929554477078424, 0.015399009949063165, 0.015399009949063165, 0.038497524872657916, 0.0461970298471895, 0.0461970298471895, 0.015399009949063165, 0.02309851492359475, 0.05389653482172108, 0.02309851492359475, 0.48506881339548974, 0.02309851492359475, 0.06929554477078424, 0.015399009949063165, 0.05389653482172108, 0.9846006509906736, 0.02482572917124168, 0.029790875005490013, 0.004965145834248335, 0.15888466669594672, 0.1390240833589534, 0.6405038126180352, 0.012997782258297699, 0.0779866935497862, 0.012997782258297699, 0.012997782258297699, 0.8838491935642435, 0.9612609513957804, 0.056044379341503775, 0.029988659121330967, 0.03834615428629206, 0.020402120549757954, 0.000737426043967155, 0.04547460604464122, 0.07251356099010357, 0.012536242747441634, 0.1032396461554017, 0.00147485208793431, 0.000245808681322385, 0.0916866381332496, 0.12708308824367304, 0.0344132153851339, 0.012044625384796864, 0.22884788231114042, 0.06317283109985294, 0.0049161736264476995, 0.0024580868132238498, 0.05432371857224708, 0.00019166558486362808, 0.0620996494958155, 0.00019166558486362808, 0.06727462028713346, 0.09813277945017758, 0.01111660392209043, 0.0026833181880907934, 0.017633233807453786, 0.015716577958817503, 0.029324834484135098, 0.02740817863549882, 0.026833181880907934, 0.01207493184640857, 0.006516629885363355, 0.26219852009344324, 0.13397424381967604, 0.003833311697272562, 0.08893283137672343, 0.00019166558486362808, 0.017824899392317413, 0.09199948073454148, 0.00804995456427238, 0.00019166558486362808, 0.01590824354368113, 0.9929707107172424, 0.9949310011856257, 0.05253366625630144, 0.017209304463271163, 0.018115057329759116, 0.0860465223163558, 0.014492045863807293, 0.0778947465179642, 0.2219094522895492, 0.014492045863807293, 0.0018115057329759117, 0.004528764332439779, 0.058873936321717134, 0.15941250450188024, 0.12046513124289814, 0.05072216052332553, 0.08151775798391603, 0.018115057329759116, 0.9984092986073354, 0.9450809056777525, 0.9102546932930571, 0.058802663363407566, 0.044101997522555676, 0.8232372870877059, 0.022050998761277838, 0.007350332920425946, 0.036751664602129724, 0.007350332920425946, 0.9547508913221917, 0.17467771578657235, 0.02410518526889531, 0.021389108055498655, 0.037515816510041294, 0.00033950965167458186, 0.05347277013874664, 0.05907467939137724, 0.0005092644775118728, 0.015956953628705348, 0.07503163302008259, 0.005601909252630601, 0.015447689151193473, 0.01476866984784431, 0.07995452296936402, 0.019012540493776584, 0.007129702685166219, 0.029028075218176748, 0.3181205436190832, 0.024444694920569894, 0.00033950965167458186, 0.023595920791383437, 0.11338900319826033, 0.889667563555581, 0.08132068283374709, 0.00016495067511916245, 0.06433076329647336, 0.01962913033918033, 0.005113470928694036, 0.0006598027004766498, 0.03364993772430914, 0.012041399283698859, 0.0003299013502383249, 0.019959031689418656, 0.0377737046022882, 0.0034639641775024116, 0.013196054009532996, 0.013855856710009646, 0.06762977679885661, 0.34755107247607525, 0.023917847892278556, 0.05129965996205952, 0.03364993772430914, 0.14515659410486295, 0.00808258308083896, 0.016660018187035407, 0.9828557900710357, 0.9984439672259823, 1.0105475828564716, 0.09659385411865863, 0.5948147858885822, 0.00508388705887677, 0.0864260800009051, 0.00508388705887677, 0.00508388705887677, 0.03558720941213739, 0.0864260800009051, 0.01016777411775354, 0.05592275764764447, 0.01525166117663031, 0.9512468445206315, 0.9394962967045234, 0.9921672542028119, 0.1401764647606584, 0.8573583774896084, 0.002200361133556324, 0.003667268555927207, 0.05574248205009354, 0.009534898245410739, 0.009534898245410739, 0.006601083400668973, 0.04987485236061001, 0.5075499681403255, 0.007334537111854414, 0.005867629689483531, 0.34105597570123025, 0.0007334537111854414, 0.9617864824630175, 0.9992103203435984, 0.02029026234671462, 0.0156078941128574, 0.00156078941128574, 0.9505207514730156, 0.00156078941128574, 0.00156078941128574, 0.00624315764514296, 0.9181242938735296, 0.9181256611201175, 0.0010703301686470685, 0.009632971517823616, 0.8808817287965374, 0.10061103585282444, 0.006421981011882411, 0.9457708810878227, 0.8382601031228185, 0.032872945220502686, 0.1150553082717594, 0.9758237226152464, 0.998888854395371, 0.0639959574071452, 0.959939361107178, 0.1499359227746423, 0.040891615302175166, 0.10904430747246711, 0.6406353064007443, 0.040891615302175166, 0.09350122782313153, 0.046750613911565764, 0.8415110504081837, 0.983788916888238, 0.07768343338526523, 0.9322012006231828, 0.06614736738076266, 0.36381052059419466, 0.3307368369038133, 0.198442102142288, 0.11052439487650075, 0.01605382271949173, 0.0030872735999022552, 0.0018523641599413531, 0.0018523641599413531, 0.025315643519198492, 0.004939637759843608, 0.0061745471998045105, 0.0290203718390812, 0.08150402303741953, 0.002469818879921804, 0.0067920019197849615, 0.0067920019197849615, 0.4124597529469413, 0.08088656831743908, 0.06174547199804511, 0.13769240255564058, 0.009879275519687217, 0.9855805030819708, 0.2038470120942227, 0.01923721802875943, 0.003037455478225173, 0.00978735654094778, 0.0003374950531361303, 0.08842370392166615, 0.019912208135031688, 0.007762386222130997, 0.0003374950531361303, 0.28079588420926044, 0.005062425797041955, 0.08369877317776032, 0.018562227922487167, 0.0037124455844974335, 0.0047249307439058245, 0.06074910956450346, 0.08099881275267128, 0.0006749901062722606, 0.10766092195042558, 0.9680528713139923, 0.9943088967828115, 0.9179489093398491, 0.13915121807370073, 0.11654401737825357, 0.010913821025388293, 0.011498490008891237, 0.001948896611676481, 0.0611953536066415, 0.001948896611676481, 0.12102647958510947, 0.049501973936582615, 0.001754006950508833, 0.0031182345786823695, 0.01130360034772359, 0.04073193918403845, 0.2426376281537219, 0.0005846689835029443, 0.07639674717771805, 0.013057607298232422, 0.0360545873160149, 0.014226945265238312, 0.0457990703743973, 0.0001948896611676481, 0.04194782744094606, 0.013982609146982019, 0.0034956522867455046, 0.0034956522867455046, 0.04194782744094606, 0.12234783003609266, 0.7026261096358464, 0.027965218293964037, 0.04194782744094606, 0.05595416917291235, 0.9512208759395099, 0.006386786619511714, 0.01916035985853514, 0.003193393309755857, 0.006386786619511714, 0.003193393309755857, 0.003193393309755857, 0.003193393309755857, 0.035127326407314426, 0.4598486366048434, 0.022353753168290996, 0.003193393309755857, 0.4406882767463082, 0.05565476093050982, 0.09275793488418303, 0.8533730009344839, 0.6455125558025031, 0.005470445388156805, 0.04376356310525444, 0.06564534465788167, 0.08205668082235208, 0.13676113470392015, 0.01641133616447042, 0.146041647003247, 0.8373054428186162, 0.009736109800216467, 0.9937855936213376, 0.000195153605363116, 0.08352574309541365, 0.000195153605363116, 0.09074642649384894, 0.06283946092692336, 0.021662050195305878, 0.000585460816089348, 0.07396321643262097, 0.01268498434860254, 0.004098225712625436, 0.016783210061227977, 0.04781263331396342, 0.000390307210726232, 0.014831674007596817, 0.06908437629854307, 0.20666766807953985, 0.0708407587468111, 0.006049761766256596, 0.03746949222971827, 0.07220683398435292, 0.05815577439820857, 0.016783210061227977, 0.032005191279551023, 0.12075057697915789, 0.11757293021654848, 0.03940281985635679, 0.013346116402959556, 0.0006355293525218837, 0.08897410935306371, 0.03304752633113795, 0.0006355293525218837, 0.04130940791392244, 0.0025421174100875347, 0.005084234820175069, 0.12647034115185485, 0.14934939784264267, 0.010168469640350139, 0.03241199697861607, 0.09151622676315124, 0.06101081784210083, 0.005084234820175069, 0.046393642734097504, 0.012710587050437674, 0.9981679988293639, 0.9247552417029887, 0.9248412455600656, 0.9706504531382185, 9.358335979426903e-05, 0.126618285801646, 9.358335979426903e-05, 9.358335979426903e-05, 9.358335979426903e-05, 0.11127061479538587, 0.031631175610462935, 0.01740650492173404, 0.003088250873210878, 0.051845181326025044, 0.010855669736135207, 0.0007486668783541523, 0.05147084788684796, 0.08375710701587077, 0.006457251825804563, 0.012727336932020588, 0.023957340107332872, 0.1758431330534315, 0.12137761765316693, 0.0013101670371197663, 9.358335979426903e-05, 0.06288801778174878, 9.358335979426903e-05, 0.023583006668155795, 0.0332220927269655, 9.358335979426903e-05, 0.005521418227861873, 9.358335979426903e-05, 0.043703429023923636, 9.358335979426903e-05, 0.9978770302588691, 0.9243296515273602, 0.8222050828115045, 0.004304738653463374, 0.025828431920780246, 0.07318055710887736, 0.004304738653463374, 0.02152369326731687, 0.047352125188097116, 0.9288897766426808, 0.018942582142142488, 0.09471291071071244, 0.24625356784785235, 0.11365549285285492, 0.1515406571371399, 0.018942582142142488, 0.11365549285285492, 0.17048323927928238, 0.037885164284284976, 0.14347787525521366, 0.00012273556480343342, 0.00012273556480343342, 0.00012273556480343342, 0.07290492549323946, 0.013132705433967376, 0.01681477237807038, 0.003191124684889269, 0.05879033554084461, 0.017551185766890978, 0.00036820669441030025, 0.03178851128408926, 0.08775592883445489, 0.004786687027333904, 0.012273556480343343, 0.014482796646805143, 0.043080183246005134, 0.18741720745484283, 0.00012273556480343342, 0.15292851374507804, 0.05056705269901457, 0.04713045688451843, 0.00012273556480343342, 0.008468753971436906, 0.032156717978499554, 0.00012273556480343342, 0.9995865250872761, 0.9518459935659359, 0.9676345608710702, 0.9675434505739897, 0.2795310496031112, 0.052766391578746415, 0.008503674675913678, 0.008939760556729764, 0.05145813393629816, 0.01787952111345953, 0.00021804294040804305, 0.010902147020402151, 0.039247729273447746, 0.0071954170334654205, 0.04426271690283274, 0.03510491340569493, 0.02572906696814908, 0.0065412882122412915, 0.12188600368809606, 0.20147167693703177, 0.016135177590195185, 0.0058871593910171625, 0.06628505388404508, 0.9572029138851506, 0.9344128768325581, 0.9734578344233092, 1.017136976150755, 0.9566308184498246, 0.9809012004831881, 5.211466925319951e-05, 0.14727605530954183, 0.00010422933850639903, 0.00010422933850639903, 5.211466925319951e-05, 0.054980976062125486, 0.03549008976142887, 0.015582286106706655, 0.001719784085355584, 0.0950571567178359, 0.03116457221341331, 0.0010422933850639902, 0.00010422933850639903, 0.01923031295443062, 0.08708361232209638, 0.0014592107390895863, 0.009849672488854709, 0.02475446789526977, 5.211466925319951e-05, 0.11152539220184696, 0.08968934578475636, 0.0026057334626599757, 0.00010422933850639903, 0.10443779718341183, 5.211466925319951e-05, 0.08291443878184042, 0.03116457221341331, 5.211466925319951e-05, 5.211466925319951e-05, 0.006566448325903139, 5.211466925319951e-05, 5.211466925319951e-05, 5.211466925319951e-05, 0.04533976225028358, 0.00010422933850639903, 0.9436314772552694, 0.05990166517386043, 6.575374881872715e-05, 6.575374881872715e-05, 6.575374881872715e-05, 0.02400011831883541, 0.01315074976374543, 0.030312478205433216, 0.0011178137299183615, 0.21251611618212615, 0.061150986401416245, 0.004405501170854719, 6.575374881872715e-05, 0.021698737110179958, 0.07489351990453022, 0.0028931649480239945, 0.006772636128328896, 0.0428714442298101, 6.575374881872715e-05, 0.04346322796917865, 0.047605714144758456, 0.016964467195231606, 6.575374881872715e-05, 0.15557336970510843, 6.575374881872715e-05, 0.11677865790205942, 0.0063123598865978065, 6.575374881872715e-05, 6.575374881872715e-05, 0.00506303865904199, 6.575374881872715e-05, 6.575374881872715e-05, 0.051813954069156995, 6.575374881872715e-05, 0.9643164872331433, 0.9978081563455962, 0.06979376411807396, 0.0002825658466318784, 0.0002825658466318784, 0.0392766526818311, 0.05707830101963944, 0.032777638209297896, 0.002543092619686906, 0.0771404761305028, 0.036168428368880436, 0.0022605267730550272, 0.052839813320161265, 0.026278623736764692, 0.0005651316932637568, 0.009042107092220109, 0.013845726484962042, 0.0002825658466318784, 0.18960168308999042, 0.16445332273975324, 0.0104549363253795, 0.0005651316932637568, 0.06753323734501894, 0.07742304197713469, 0.04266744284141364, 0.0002825658466318784, 0.0002825658466318784, 0.002543092619686906, 0.0002825658466318784, 0.0002825658466318784, 0.023735531117077786, 0.0002825658466318784, 0.9993085037689868, 0.9404608176038642, 0.948240080678091, 0.9412588144266552, 0.9537927360660751, 0.02034613220955028, 0.36623037977190503, 0.6103839662865084, 0.8276711563699944, 0.13794519272833242, 0.9806428964525348, 0.07351393128732801, 0.5855764871507851, 0.3143354303320232, 0.02534963147838897, 0.7839291294652352, 0.2125909503634536, 0.9870783294995876, 0.2503587993500484, 0.5007175987000968, 0.2503587993500484, 0.33566930301644465, 0.04195866287705558, 0.608400611717306, 0.9933193009627762, 0.9832547004643836, 0.31389174153977256, 0.5231529025662877, 0.15694587076988628, 1.0075771001649099, 1.008951018747005, 0.16210368856385798, 0.8105184428192899, 0.011587632797924114, 0.0030493770520852934, 0.14941947555217938, 0.003354314757293823, 0.00030493770520852935, 0.0021345639364597053, 0.00030493770520852935, 0.03354314757293823, 0.005793816398962057, 0.01921107542813735, 0.6364049907702007, 0.0024395016416682348, 0.00030493770520852935, 0.001829626231251176, 0.12837877389279084, 0.0012197508208341174, 0.00030493770520852935, 0.9407530920321393, 1.0106269334936568, 0.020270804430127028, 0.0007239573010759653, 0.05067701107531757, 0.02606246283873475, 0.01520310332259527, 0.12234878388183813, 0.19474451398943465, 0.002895829204303861, 0.09990610754848321, 0.01520310332259527, 0.011583316817215444, 0.0014479146021519305, 0.06660407169898881, 0.08253113232266004, 0.20415595890342222, 0.01230727411829141, 0.008687487612911583, 0.019546847129051064, 0.0065156157096836875, 0.037645779655950194, 0.9637275352424411, 0.033231163169434426, 0.04809773616628667, 0.04547422328448921, 0.01836459017258218, 0.04722323187235418, 0.010494051527189819, 0.04809773616628667, 0.01574107729078473, 0.2947079470552474, 0.03060765028763697, 0.007870538645392364, 0.15391275573211732, 0.056842779105611516, 0.0008745042939324848, 0.0690858392206663, 0.024486120230109574, 0.058591787693476484, 0.035854676051231875, 0.9333121147910467, 0.9442936159816631, 0.9102054578189707, 0.9623703750002811, 0.9544306256304763, 0.9946747067988133, 0.19999109444340463, 0.26665479259120617, 0.06666369814780154, 0.19999109444340463, 0.19999109444340463, 8.276345729724936e-05, 0.08541188793076135, 8.276345729724936e-05, 8.276345729724936e-05, 0.05371348378591484, 0.043036997794569674, 0.04452674002592016, 0.0002482903718917481, 0.08044608049292638, 0.05503769910267083, 0.006207259297293702, 0.03658144812538422, 0.08913624350913757, 0.0065383131264827, 0.022097843098365582, 0.01704927220323337, 0.17496194872638515, 0.04204383630700268, 0.025987725591336303, 0.0655486581794215, 0.09277783563021653, 0.013324916624857148, 8.276345729724936e-05, 0.0026484306335119796, 8.276345729724936e-05, 8.276345729724936e-05, 8.276345729724936e-05, 0.04204383630700268, 8.276345729724936e-05, 0.9763796799536576, 0.2120304604196117, 0.021351023432084528, 0.012049587481473447, 0.007187473234563109, 0.0008455850864191892, 0.055597219432061695, 0.05094650145675615, 0.0008455850864191892, 0.010781209851844662, 0.07272031743205028, 0.0014797739012335812, 0.016911701728383785, 0.010569813580239866, 0.03318921464195318, 0.009935624765425474, 0.008455850864191893, 0.1894110593578984, 0.24078035335786416, 0.012472380024683042, 0.0027481515308623652, 0.029384081753066827, 0.9954408214399351, 0.053485950904088746, 0.9627471162735974, 0.07334295749432512, 0.06575575499491218, 0.0025290674998043145, 0.0025290674998043145, 0.05563948499569492, 0.1922091299851279, 0.05816855249549923, 0.020232539998434516, 0.0025290674998043145, 0.010116269999217258, 0.0025290674998043145, 0.44511587996555935, 0.0025290674998043145, 0.06828482249471649, 0.9901185392126948, 0.005670499320674496, 0.8959388926665703, 0.002835249660337248, 0.0652107421877567, 0.002835249660337248, 0.022681997282697985, 0.002835249660337248, 0.9773104465400232, 0.9867198049483243, 0.9715659269745899, 0.9632102139414687, 0.11309536613343578, 0.3417642837139882, 0.04618436266405246, 0.1128700765594648, 0.02568301143269259, 0.10971602252387097, 0.22055849291759685, 0.011264478698549381, 0.01689671804782407, 0.0013517374438259257, 0.36126916925155617, 0.003905612640557364, 0.003905612640557364, 0.003905612640557364, 0.08982909073281937, 0.16794134354396664, 0.1620829245831306, 0.025386482163622864, 0.07225383385031123, 0.10349873497477015, 0.005858418960836046, 0.9969602814703136, 0.04391045533701728, 0.0688756738955634, 0.020892877942613065, 0.04249398903582318, 0.00017705828764926325, 0.04851397081589813, 0.07772858827802656, 0.0030099908900374753, 0.03151637520156886, 0.1931705918253462, 0.0015935245888433693, 0.013279371573694744, 0.02390286883265054, 0.06267863382783918, 0.027621092873285066, 0.023017577394404222, 0.1859112020317264, 0.0640951001290333, 0.005665865204776424, 0.00548880691712716, 0.05595041889716719, 0.04603295700128598, 0.0704992924153553, 0.023922639071534444, 0.005074499196992155, 0.0005436963425348738, 0.04784527814306889, 0.06832450704521581, 0.005980659767883611, 0.025372495984960775, 0.15821563567764826, 0.03443410169387534, 0.015404729705154756, 0.023922639071534444, 0.1121826786763623, 0.019210604102898873, 0.01902937198872058, 0.1964556117692677, 0.06705588224596777, 0.0074305166813099415, 0.0018123211417829127, 0.05128868831245643, 0.9306819667128818, 0.7585669224624566, 0.20688188794430634, 0.03846490219303617, 0.022298494024948504, 0.005128653625738156, 0.027650132590936145, 0.00011149247012474252, 0.063216230560729, 0.02430535848719387, 0.0007804472908731977, 0.0014494021116216527, 0.08384233753380638, 0.007915965378856719, 0.013825066295468072, 0.0395798268942836, 0.02419386601706913, 0.004571191275114443, 0.003456266573867018, 0.34306233057383273, 0.12933126534470132, 0.0015608945817463954, 0.0013379096414969103, 0.16344796120287253, 0.05630664805184567, 0.04741612467523845, 0.013335785064910816, 0.004445261688303605, 0.016299292857113217, 0.044452616883036054, 0.0029635077922024033, 0.014817538961012016, 0.6949425772714636, 0.0014817538961012016, 0.0059270155844048066, 0.0918687415582745, 0.004445261688303605, 0.0014817538961012016, 0.9853833668654194, 0.9910604572278124, 0.013787784528552054, 0.004595928176184018, 0.009191856352368036, 0.9283774915891716, 0.032171497233288125, 0.013787784528552054, 0.05099391180237397, 0.018135910055237604, 0.17069091816694215, 0.010454818737725207, 0.0008534545908347107, 0.042032638598609506, 0.06763627632365082, 0.0023470001247954545, 0.03776536564443595, 0.10092100536620455, 0.00021336364770867768, 0.0006400909431260331, 0.009388000499181818, 0.2891077426452583, 0.03648518375818388, 0.004480636601882231, 0.0573948212336343, 0.05888836676759504, 0.017069091816694214, 0.00042672729541735536, 0.023683364895663223, 0.1584539337279506, 0.792269668639753, 0.9548770225315086, 0.0945850909345611, 0.00017197289260829292, 0.05606316299030349, 0.029235391743409795, 0.03009525620645126, 0.0008598644630414646, 0.06191024133898545, 0.03714614480339127, 0.0008598644630414646, 0.033362741166008826, 0.09475706382716939, 0.045744789433805916, 0.012210075375188797, 0.01599347901257124, 0.00017197289260829292, 0.13241912730838554, 0.05485935274204544, 0.004815240993032202, 0.14961641656921484, 0.00017197289260829292, 0.05554724431247861, 0.05743894613116983, 0.00017197289260829292, 0.005159186778248787, 0.00017197289260829292, 0.00017197289260829292, 0.026311852569068817, 0.00017197289260829292, 0.9944760276176655, 0.17352871006377515, 0.824261372802932, 0.9880884826589152, 0.9876213325798914, 0.9225758787702868, 0.07380607030162295, 0.03610388664701074, 0.03610388664701074, 0.9266664239399423, 0.0031164179363470483, 0.009349253809041145, 0.006232835872694097, 0.6824955280600036, 0.021814925554429338, 0.11219104570849374, 0.009349253809041145, 0.012465671745388193, 0.028047761427123435, 0.059211940790593914, 0.021814925554429338, 0.0031164179363470483, 0.0031164179363470483, 0.03428059729981753, 0.03694783265327122, 0.0061579721088785375, 0.02463188843551415, 0.5111116850369186, 0.04310580476214976, 0.01847391632663561, 0.01847391632663561, 0.0492637768710283, 0.27095077279065566, 0.0061579721088785375, 0.0061579721088785375, 0.012315944217757075, 0.00821599048387289, 0.002987632903226506, 0.009709806935486145, 0.7245009790324277, 0.04929594290323735, 0.0903758953226018, 0.001493816451613253, 0.01867270564516566, 0.009709806935486145, 0.0044814493548397585, 0.020166522096778914, 0.01643198096774578, 0.00821599048387289, 0.01269743983871265, 0.0022407246774198792, 0.0022407246774198792, 0.017925797419359034, 0.10681730144628972, 0.1495442220248056, 0.6302220785331093, 0.010681730144628972, 0.09613557130166074, 0.010681730144628972, 0.020116824198768736, 0.27157712668337797, 0.709118053006598, 0.26086229407303296, 0.06521557351825824, 0.13043114703651648, 0.06521557351825824, 0.45650901462780763, 0.07524888955875116, 0.03156782683928097, 0.11746168126244083, 0.0033036097855061483, 0.05689550186149478, 0.008809626094683063, 0.1130568682150993, 0.030099555823500462, 0.013948574649914848, 0.006240151817067169, 0.006240151817067169, 0.4041415970935855, 0.005506016309176914, 0.027897149299829695, 0.04294692721157993, 0.025694742776158932, 0.024960607268268677, 0.005506016309176914, 0.11551332253626115, 0.028951440331873045, 0.04298850231096301, 0.007310969780776022, 0.00029243879123104087, 0.04503557384958029, 0.03333802220033866, 0.01666901110016933, 0.014621939561552043, 0.3956696845355983, 0.005263898242158735, 0.004971459450927695, 0.1696144989140037, 0.07077018747791189, 0.03333802220033866, 0.004386581868465613, 0.011112674066779554, 0.98833217700921, 0.9459761600562004, 0.03781606713672053, 0.07260684890250342, 0.06277467144695609, 0.019664354911094677, 0.0037816067136720536, 0.0030252853709376425, 0.02042067625382909, 0.061262028761487265, 0.03100917505211084, 0.004537928056406464, 0.009832177455547339, 0.1558021966032886, 0.09605281052727016, 0.0030252853709376425, 0.09302752515633252, 0.06806892084609696, 0.2337032949049329, 0.002268964028203232, 0.0211769975965635, 0.014074708025979736, 0.9289307297146626, 0.042224124077939205, 0.08800655510601837, 9.303018510149934e-05, 9.303018510149934e-05, 0.056841443097016095, 0.026234512198622814, 0.01702452387357438, 0.0023257546275374835, 0.06744688419858702, 0.036095711819381746, 0.003256056478552477, 9.303018510149934e-05, 0.024187848126389827, 0.09377442658231133, 0.09414654732271734, 0.010977561841976922, 0.017582704984183375, 9.303018510149934e-05, 0.13024225914209908, 0.07563354048751897, 0.011814833507890416, 0.0848435288125674, 9.303018510149934e-05, 0.08661110232949588, 0.03228147423022027, 9.303018510149934e-05, 0.004930599810379465, 9.303018510149934e-05, 0.03516540996836675, 9.303018510149934e-05, 5.295294961818926e-05, 0.04315665393882425, 5.295294961818926e-05, 5.295294961818926e-05, 5.295294961818926e-05, 0.045062960125079064, 0.01016696632669234, 0.08027667162117492, 0.0008472471938910282, 0.0863133078776485, 0.08355975449750266, 0.005136436112964359, 0.00010590589923637853, 0.0172626615755297, 0.10860649966690618, 0.004712812516018844, 0.01514454359080213, 0.011967366613710773, 5.295294961818926e-05, 0.040403100558678406, 0.04320960688844244, 0.022134332940403113, 5.295294961818926e-05, 0.19740859617660958, 0.00010590589923637853, 0.06936836399982793, 0.005454153810673494, 5.295294961818926e-05, 5.295294961818926e-05, 0.0006354353954182712, 5.295294961818926e-05, 5.295294961818926e-05, 5.295294961818926e-05, 0.10828878196919704, 5.295294961818926e-05, 0.9924663486546842, 0.13116308903145873, 0.006203659616352778, 0.000886237088050397, 0.015952267584907143, 0.10368973930189644, 0.014179793408806351, 0.4829992129874663, 0.001772474176100794, 0.003544948352201588, 0.0026587112641511907, 0.1985171077232889, 0.03722195769811667, 0.05716005597662307, 0.0927679596997653, 0.01780395186157112, 0.16726344248897076, 0.05388038063370207, 0.27830387909929594, 0.0018741001959548546, 0.006559350685841991, 0.08292893367100232, 0.0032796753429209955, 0.00890197593078556, 0.08152335852403618, 0.016866901763593692, 0.0018741001959548546, 0.030454128184266387, 0.0412302043110068, 0.0009370500979774273, 0.002342625244943568, 0.053411855584713355, 0.9948659782829706, 0.13019736655787362, 0.0076586686210513896, 0.8577708855577556, 0.9617291804434921, 0.9306871501073993, 0.993114231919565, 0.10699392218117833, 0.8880495541037802, 0.15527043101365035, 0.3105408620273007, 0.038817607753412586, 0.038817607753412586, 0.11645282326023776, 0.19408803876706293, 0.15527043101365035, 0.00877973180735264, 0.06365305560330664, 0.01316959771102896, 0.01975439656654344, 0.07243278741065928, 0.09877198283271721, 0.05926318969963032, 0.35338420524594377, 0.23485782584668313, 0.00877973180735264, 0.048288524940439524, 0.01975439656654344, 0.9615833468293226, 6.304435389283604e-05, 0.06701614818808471, 0.0001260887077856721, 0.0001260887077856721, 6.304435389283604e-05, 0.12142342559760223, 0.029378668914061597, 0.03599832607280938, 0.0007565322467140325, 0.08492074469365016, 0.002773951571284786, 0.005358770080891064, 6.304435389283604e-05, 0.02263292304752814, 0.06115302327605097, 0.016643709427708715, 0.0051065926653197195, 6.304435389283604e-05, 0.14947816307991427, 0.15036078403441397, 0.010465362746210783, 6.304435389283604e-05, 0.023074233524777995, 6.304435389283604e-05, 0.10269925249142992, 0.04608542269566315, 6.304435389283604e-05, 6.304435389283604e-05, 0.008574032129425702, 6.304435389283604e-05, 0.0001260887077856721, 6.304435389283604e-05, 0.05503772094844587, 6.304435389283604e-05, 0.07898647107325119, 0.000989805401920441, 0.004751065929218117, 0.012273586983813468, 0.12036033687352563, 0.15797294214650237, 0.001979610803840882, 0.17658128370260667, 0.04553104848834028, 0.0003959221607681764, 0.02415125180685876, 0.011085820501508938, 0.021577757761865612, 0.011085820501508938, 0.03741464419259267, 0.1106602439347053, 0.14035440599231852, 0.0001979610803840882, 0.043155515523731224, 0.08701426086597278, 0.17269802844653312, 0.04789775827484739, 0.011708340911629363, 0.000532197314164971, 0.024747175108671155, 0.001064394628329942, 0.016498116739114103, 0.060404395157724215, 0.010643946283299422, 0.018626905995773987, 0.2025010780397715, 0.1615218848490687, 0.0699839468126937, 0.002128789256659884, 0.06572636829937392, 0.014103228825371733, 0.03166574019281578, 0.99673477862946, 0.03785511976936988, 0.0929774871528383, 0.04449636885171547, 0.015274872889394863, 0.04582461866818459, 0.008633623807049271, 0.004648874357641915, 0.02855737105408605, 0.030549745778789727, 0.3128028317784774, 0.02855737105408605, 0.003320624541172796, 0.117550108757517, 0.040511619402308116, 0.01925962233880222, 0.04980936811759194, 0.04316811903524635, 0.0358627450446662, 0.0013282498164691185, 0.03785511976936988, 0.9179709994116526, 0.9814670897849751, 0.9637354485234951, 0.9369585269024143, 0.029279953965700448, 0.014639976982850224, 0.0017619553286033053, 0.19440240458923136, 0.002349273771471074, 0.7206397293987519, 0.002349273771471074, 0.07576407912994212, 0.001174636885735537, 0.9987353385590688, 0.0016935204402704113, 0.23935088889155146, 0.0005645068134234704, 0.7242622416223126, 0.033870408805408224, 0.9891829055029885, 0.9882416008170116, 0.9970184287598208, 0.9684144917981886, 0.9688972834166378, 0.0036243243210116135, 0.15222162148248777, 0.007248648642023227, 0.0036243243210116135, 0.010872972963034841, 0.7538594587704156, 0.0036243243210116135, 0.010872972963034841, 0.050740540494162586, 0.9507358714419556, 1.0061572933958265, 0.9563858704086607, 0.010283719036652266, 0.0308511571099568, 0.09608052411294443, 0.00013001424101886932, 0.043944813464377834, 0.043814799223358965, 0.01911209342977379, 0.002080227856301909, 0.07150783256037813, 0.032113517531660724, 0.0009100996871320853, 0.03965434351075514, 0.08463927090328394, 0.023662591865434218, 0.018462022224679443, 0.018332007983660574, 0.12637384227034099, 0.09595050987192556, 0.010271125040490676, 0.08593941331347263, 0.00013001424101886932, 0.07644837371909516, 0.06422703506332145, 0.0035103845075094716, 0.00013001424101886932, 0.042254628331132534, 0.00013001424101886932, 5.547337671282896e-05, 0.308764814783606, 0.00011094675342565793, 5.547337671282896e-05, 5.547337671282896e-05, 0.011205622095991451, 0.021246303281013495, 0.017585060417966782, 0.001497781171246382, 0.1436205723095142, 0.07605399947328852, 0.0027736688356414484, 5.547337671282896e-05, 0.013646450671355925, 0.05303254813746449, 0.02041420263032106, 0.007877219493221713, 0.010706361705575991, 5.547337671282896e-05, 0.06706731244581023, 0.05780325853476778, 0.012647929890525005, 5.547337671282896e-05, 0.036224114993477316, 5.547337671282896e-05, 0.11372042226129939, 0.011316568849417109, 0.00011094675342565793, 5.547337671282896e-05, 0.0026627220822157903, 5.547337671282896e-05, 5.547337671282896e-05, 5.547337671282896e-05, 0.00909763378090395, 0.00011094675342565793, 0.9775431810796364, 0.8720054454630198, 0.0022246530225873517, 0.012791754879877272, 0.0483862032412749, 0.23915019992814032, 0.06673959067762056, 0.09844089624949032, 0.0005561632556468379, 0.008898612090349407, 0.06340261114373953, 0.013347918135524111, 0.027808162782341897, 0.00278081627823419, 0.28976105619200254, 0.028364326037988736, 0.019465713947639327, 0.03726293812833814, 0.0044493060451747035, 0.0050054693008215415, 0.030588979060576088, 0.9971898507916672, 8.082369487418027e-05, 0.05237375427846882, 8.082369487418027e-05, 0.00016164738974836054, 8.082369487418027e-05, 0.09310889649505567, 0.10111044228759952, 0.014144146602981548, 0.0016972975923577858, 0.03677478116775203, 0.009375548605404913, 0.00024247108462254084, 0.03806796028573891, 0.047524332586018, 0.05641493902217783, 0.007839898402795488, 0.01462908877222663, 8.082369487418027e-05, 0.2652633665770597, 0.10806128004677903, 0.0013740028128610647, 8.082369487418027e-05, 0.045342092824415134, 8.082369487418027e-05, 0.019155215685180724, 0.04728186150139546, 8.082369487418027e-05, 0.009698843384901634, 8.082369487418027e-05, 8.082369487418027e-05, 8.082369487418027e-05, 0.029581472323949982, 8.082369487418027e-05, 0.07743121340587412, 0.2710092469205594, 0.23229364021762236, 0.03871560670293706, 0.1935780335146853, 0.03871560670293706, 0.07743121340587412, 0.03871560670293706, 0.05942993668253699, 0.09708851042196637, 0.0005884152146785841, 0.0047073217174286724, 0.03295125202200071, 0.007649397790821593, 0.024125023801821945, 0.007649397790821593, 0.014710380366964601, 0.0011768304293571681, 0.08943911263114478, 0.015298795581643185, 0.007060982576143009, 0.012356719508250265, 0.021182947728429026, 0.17299407311550372, 0.3901192873319012, 0.007060982576143009, 0.0058841521467858406, 0.02765551508989345, 0.25710311552347287, 0.08637057787116667, 0.016834132564036916, 0.009851793489180695, 0.00028694544143244744, 0.034529101452371175, 0.02745111389703747, 9.564848047748247e-05, 0.0015303756876397195, 0.052319718821182915, 0.0037302907386218167, 0.040363658761497605, 0.06293670015418347, 0.10530897700570821, 0.01272124790350517, 0.07996212967917535, 0.16719354387463936, 0.0059302057896039135, 0.007269284516288668, 0.027929356299424883, 9.564848047748247e-05, 0.06470920349632234, 0.005392433624693528, 0.02696216812346764, 0.0970638052444835, 0.02696216812346764, 0.02696216812346764, 0.005392433624693528, 0.7495482738324004, 0.04777317677091696, 0.0033779013878426135, 0.013029048210250081, 0.00048255734112037337, 0.0009651146822407467, 0.060802224981167045, 0.0033779013878426135, 0.0014476720233611202, 0.0019302293644814935, 0.027023211102740908, 0.4738713089802067, 0.05742432359332443, 0.006273245434564854, 0.013511605551370454, 0.28519138860214066, 0.0009651146822407467, 0.0009651146822407467, 0.9398287575767975, 0.5905687595432149, 0.38923850060802795, 0.01342201726234579, 0.9956733167459996, 0.05819609372668539, 0.05658698514438072, 0.1196104046179801, 0.017432009641633873, 0.0024136628734569977, 0.04049589932133407, 0.018772933460221092, 0.053100583216053945, 0.04237319266735618, 0.007509173384088437, 0.010727390548697768, 0.013141053422154764, 0.3086806630387782, 0.05578243085322839, 0.011263760076132655, 0.0898418958453438, 0.024672998262004864, 0.035668573574420076, 0.004290956219479107, 0.02896395448148397, 0.9899657704209333, 0.9873198673157769, 0.9581976389505616, 0.9590984006999145, 0.9993725857977658, 0.9903018997935802, 0.03979520761816142, 0.06632534603026903, 0.9020247060116589, 0.03334862323158078, 0.9337614504842618, 0.03334862323158078, 0.9901093802206233, 0.32579852391891356, 0.054299753986485594, 0.054299753986485594, 0.10859950797297119, 0.054299753986485594, 0.10859950797297119, 0.10859950797297119, 0.16289926195945678, 0.9625295922810166, 0.10304187585007253, 0.19075673432459664, 0.05484486940407086, 0.00904848013737196, 0.0009233142997318326, 0.023082857493295816, 0.057245486583373625, 0.0005539885798390996, 0.01975892601426122, 0.052998240804607195, 0.0007386514397854662, 0.012187748756460191, 0.011633760176621091, 0.11559895032642545, 0.06463200098122829, 0.009787131577157427, 0.15530146521489424, 0.030100046171257746, 0.05059762362530443, 0.006832525818015561, 0.02917673187152591, 0.06044910699484011, 0.9369611584200217, 0.8703561729528178, 0.9553139948660823, 0.04910302221148907, 0.04910302221148907, 0.7856483553838252, 0.09820604442297814, 0.9206173613636657, 0.27891558779640596, 0.08590782401899105, 0.0056968053062991415, 0.016178927069889562, 0.000683616636755897, 0.05833528633650321, 0.06972889694910149, 0.02096424352718084, 0.016634671494393495, 0.1301150331958724, 0.007064038579810935, 0.02461019892321229, 0.02210360458844067, 0.0537778420914639, 0.026433176621228016, 0.03463657626229878, 0.12122801691804573, 0.003418083183779485, 0.008431271853322729, 0.013900204947369906, 0.023239636969136196, 0.05809909242284049, 0.011619818484568098, 0.011619818484568098, 0.04647927393827239, 0.023239636969136196, 0.8133872939197669, 0.034109515334858086, 0.9209569140411684, 0.1274988845596841, 0.00020078564497588047, 0.07188126090136521, 0.010039282248794024, 0.007629854509083458, 0.0006023569349276415, 0.01766913675787748, 0.009838496603818143, 0.0018070708047829244, 0.0698734044516064, 0.15079001937688624, 0.010842424828697546, 0.00040157128995176093, 0.007429068864107578, 0.028310775941599146, 0.1760890106438472, 0.00441728418946937, 0.16825837048978784, 0.06866869058175112, 0.044775198829621346, 0.010641639183721666, 0.01224792434352871, 0.004618516233721541, 0.0014210819180681664, 0.0007105409590340832, 0.009947573426477166, 0.0017763523975852082, 0.011368655344545332, 0.01740825349633504, 0.03090853171798262, 0.008171221028891958, 0.016342442057783915, 0.0017763523975852082, 0.0014210819180681664, 0.38688955219405835, 0.469312303442012, 0.023092581168607705, 0.0003552704795170416, 0.014210819180681665, 0.9789843218220151, 0.9377650264805452, 0.039073542770022715, 9.31185193110284e-05, 0.12571000106988833, 9.31185193110284e-05, 9.31185193110284e-05, 0.16444730510327615, 0.015271437167008656, 0.04972528931208916, 0.0013967777896654258, 0.04087902997754146, 0.025700711329843837, 0.0008380666737992556, 9.31185193110284e-05, 0.047397326329313455, 0.07663654139297636, 0.019927363132560078, 0.017599400149784367, 0.09535336377449308, 0.13921218636998745, 0.0001862370386220568, 0.05754724493421555, 9.31185193110284e-05, 0.044976244827226716, 0.021324140922225503, 9.31185193110284e-05, 0.014060896415965288, 9.31185193110284e-05, 9.31185193110284e-05, 0.04097214849685249, 9.31185193110284e-05, 0.14679065783963013, 0.004108242307675332, 0.05593529911219491, 0.013272782840181841, 0.0003160186390519486, 0.06999812855000662, 0.044242609467272806, 0.0006320372781038972, 0.05403918727788321, 0.12214120399357814, 0.02417542588747407, 0.01058662440824028, 0.13367588431897426, 0.013272782840181841, 0.011534680325396125, 0.08769517233691575, 0.04708677721874034, 0.04929890769210398, 0.0011060652366818202, 0.10965846775102617, 0.9995776266555289, 0.022871406379739893, 0.0009944089730321692, 0.022871406379739893, 0.1839656600109513, 0.04275958584038327, 0.0009944089730321692, 0.04872603967857629, 0.42361822251170406, 0.003977635892128677, 0.04275958584038327, 0.022871406379739893, 0.13026757546721418, 0.0019888179460643383, 0.05071485762464063, 0.12524888013724716, 0.017534843219214603, 0.012524888013724715, 0.018787332020587074, 0.06011946246587863, 0.033817197637056734, 0.011272399212352244, 0.13025883534273705, 0.012524888013724715, 0.0751493280823483, 0.06262444006862358, 0.005009955205489886, 0.10270408171254267, 0.07264435047960335, 0.002504977602744943, 0.0037574664041174145, 0.25300273787723926, 1.000932034952882, 0.9932489692350145, 0.9960377191734158, 0.9612671515811491, 0.935626113949349, 0.947120810007561, 0.047992260473746745, 0.024432423513907436, 0.011343625202885595, 0.005235519324408736, 0.04188415459526989, 0.023559836959839313, 0.08900382851494851, 0.0575907125684961, 0.01308879831102184, 0.0017451731081362454, 0.0017451731081362454, 0.03228570250052054, 0.13525091588055901, 0.02617759662204368, 0.42145930561490325, 0.018324317635430576, 0.008725865540681227, 0.04101156804120177, 0.9562013649227987, 0.20308014177822256, 0.00016797364911350088, 0.06517377585603834, 0.007054893262767037, 0.0075588142101075395, 0.002687578385816014, 0.09944040027519252, 0.1142220813971806, 0.005879077718972531, 0.0964168745911495, 0.019652916946279603, 0.0006718945964540035, 0.014109786525534074, 0.007390840560994039, 0.016797364911350088, 0.05173588392695827, 0.049048305541142256, 0.042833280523942724, 0.17973180455144594, 0.0020156837893620105, 0.006886919613653536, 0.007054893262767037, 0.000176398543915046, 0.11439445572890733, 0.000264597815872569, 8.8199271957523e-05, 0.000176398543915046, 0.006438546852899179, 0.05424255225387665, 0.007496938116389455, 0.000176398543915046, 0.11457085427282238, 0.1548779215574104, 0.006526746124856702, 0.000176398543915046, 0.059534508571328026, 0.1315051144886668, 0.002381380342853121, 0.01499387623277891, 0.000176398543915046, 0.07946754403372823, 0.06350347580941657, 0.02063862963806038, 8.8199271957523e-05, 0.036338100046499476, 0.000176398543915046, 0.05036178428774563, 0.07082401538189097, 0.000176398543915046, 8.8199271957523e-05, 0.000264597815872569, 0.000176398543915046, 8.8199271957523e-05, 0.000176398543915046, 0.009437322099454961, 0.000176398543915046, 0.08602476497721162, 0.004587987465451287, 0.02064594359453079, 0.0022939937327256434, 0.04702687152087569, 0.005734984331814109, 0.04587987465451287, 0.04129188718906158, 0.005734984331814109, 0.003440990599088465, 0.053908852719052616, 0.47256270894148256, 0.004587987465451287, 0.08258377437812316, 0.06537882138268084, 0.032115912258159005, 0.009175974930902574, 0.014910959262716681, 0.004665388282773292, 0.001166347070693323, 0.19081438076542767, 0.0009330776565546586, 0.18358302892712905, 0.5598465939327951, 0.00023326941413866464, 0.00023326941413866464, 0.010963662464517238, 0.04572080517117827, 0.001166347070693323, 0.047830118631590327, 0.03188674575439355, 0.1809572821561834, 0.0027900902535094355, 0.07054942498159573, 0.024712227959655, 0.06775933472808629, 0.04264852244650137, 0.003188674575439355, 0.003188674575439355, 0.3503556189763991, 0.008768855082458227, 0.03188674575439355, 0.08290553896142323, 0.008370270760528306, 0.040655600836851775, 0.0007971686438598387, 0.11177559847126785, 0.00015145745050307297, 0.00015145745050307297, 0.00015145745050307297, 0.027716713442062352, 0.0521013629730571, 0.005301010767607554, 0.0006058298020122919, 0.03165460715514225, 0.04589160750243111, 0.0027262341090553135, 0.00015145745050307297, 0.011359308787730473, 0.09420653421291138, 0.0013631170545276568, 0.009390361931190524, 0.020598213268417924, 0.14373312052741624, 0.08981426814832227, 0.0013631170545276568, 0.15115453560206682, 0.13525150329924415, 0.051949905522554025, 0.0027262341090553135, 0.008027244876662867, 0.00015145745050307297, 0.09319672149333229, 0.00018309768466273535, 0.00018309768466273535, 0.02197172215952824, 0.08514042336817193, 0.0034788560085919715, 0.0003661953693254707, 0.04339415126506828, 0.04009839294113904, 0.0012816837926391473, 0.019042159204924476, 0.08605591179148561, 0.027281555014747567, 0.007690102755834884, 0.012084447187740533, 0.2367453062689168, 0.04339415126506828, 0.00274646526994103, 0.14135141255963168, 0.059140552146063514, 0.05199974244421684, 0.0020140745312900886, 0.020323842997563624, 0.00018309768466273535, 0.009110455303262691, 0.009110455303262691, 0.3917495780402957, 0.018220910606525382, 0.018220910606525382, 0.26420320379461804, 0.2824241144011434, 6.144714936475507e-05, 0.0927237483914154, 6.144714936475507e-05, 6.144714936475507e-05, 6.144714936475507e-05, 0.044549183289447424, 0.03889604554788996, 0.023718599654795457, 0.0009831543898360811, 0.08111023716147668, 0.06390503533934527, 0.006021820637745996, 6.144714936475507e-05, 0.03053923323428327, 0.10759395853768612, 0.014624421548811706, 0.007004975027582077, 0.017020860374037154, 6.144714936475507e-05, 0.09364545563188673, 0.044180500393258895, 0.019908876394180642, 6.144714936475507e-05, 0.1067951455959443, 6.144714936475507e-05, 0.12559797330155936, 0.028327135857152085, 6.144714936475507e-05, 6.144714936475507e-05, 0.006206162085840261, 6.144714936475507e-05, 6.144714936475507e-05, 6.144714936475507e-05, 0.04577812627674253, 6.144714936475507e-05, 0.09906049320596574, 0.03139240981879196, 0.028427571113683832, 0.009592125222408654, 0.00017440227677106645, 0.061912808253728586, 0.03662447812192395, 0.00017440227677106645, 0.01970745727513051, 0.06086639459310219, 0.1721350471730426, 0.0040112523657345285, 0.009243320668866522, 0.16149650829000753, 0.010464136606263988, 0.020405066382214773, 0.1070829979374348, 0.08336428829656976, 0.050925464817151406, 0.004185654642505594, 0.0280787665601417, 0.0183371864059834, 0.0733487456239336, 0.91685932029917, 4.522486834487729e-05, 0.14820189356616287, 0.00013567460503463187, 4.522486834487729e-05, 9.044973668975458e-05, 0.1033388241680446, 0.013703135108497818, 0.01401970918691196, 0.00027134921006926374, 0.039436085196733, 0.01451718273870561, 0.00266826723234776, 4.522486834487729e-05, 0.06756595330724667, 0.16900533300480644, 0.010944418139460304, 0.008728399590561316, 0.003527539730900429, 9.044973668975458e-05, 0.029757963370929258, 0.11238379783702007, 0.009090198537320335, 4.522486834487729e-05, 0.07516373118918605, 4.522486834487729e-05, 0.1218810201894443, 0.014788531948774873, 4.522486834487729e-05, 4.522486834487729e-05, 0.0038441138093145695, 4.522486834487729e-05, 4.522486834487729e-05, 4.522486834487729e-05, 0.03631556928093647, 9.044973668975458e-05, 0.0851131111927186, 0.005632485299518142, 0.02409452044793872, 0.021591193648152877, 0.002503326799785841, 0.0935618391419958, 0.0425565555963593, 0.0009387475499196903, 0.046624461646011285, 0.03880156539668053, 0.007822896249330753, 0.017836203448474117, 0.019713698548313497, 0.04537279824611837, 0.03066575329737655, 0.022842857048045798, 0.09888140859154071, 0.32292915717237347, 0.051944031095556197, 0.002503326799785841, 0.017836203448474117, 0.03992767355677357, 0.918336491805792, 0.06804660758061715, 0.06033689342123688, 0.03854857079690134, 0.008715329049734216, 0.000335204963451316, 0.028157216929910543, 0.032514881454777655, 0.01608983824566317, 0.03117406160097239, 0.3311825038899002, 0.01608983824566317, 0.011061763793893429, 0.12000337691557113, 0.021453117660884223, 0.014413813428406587, 0.07877316641105926, 0.01743065809946843, 0.0398893906507066, 0.005363279415221056, 0.06033689342123688, 0.22503628061643113, 0.22503628061643113, 0.45007256123286227, 0.11251814030821557, 0.9736667649491847, 0.9614800927566887, 0.12167766471081011, 0.024924295835924006, 0.01079398638563638, 0.011382749279398365, 0.062408866738770344, 0.07712793908281995, 0.002551305872968599, 0.012952783662763657, 0.13463044837357377, 0.0003925085958413229, 0.00804642621474712, 0.004906357448016536, 0.03983962247789428, 0.049063574480165364, 0.009616460598112412, 0.13934055152366964, 0.26474704789497233, 0.002943814468809922, 0.0003925085958413229, 0.02158797277127276, 0.9843816035499229, 0.00012740761686737406, 0.11594093134931038, 0.00012740761686737406, 0.00012740761686737406, 0.00012740761686737406, 0.1507232107541035, 0.05924454184332893, 0.014524468322880641, 0.002038521869877985, 0.03261634991804776, 0.0035674132722864735, 0.00012740761686737406, 0.07185789591319897, 0.05440305240236872, 0.005223712291562336, 0.01541632164095226, 0.01694521304336075, 0.00012740761686737406, 0.18295733782154913, 0.08587273376861011, 0.00012740761686737406, 0.08243272811319101, 0.00012740761686737406, 0.0026755599542148552, 0.04752304109153052, 0.00012740761686737406, 0.00012740761686737406, 0.010447424583124672, 0.00012740761686737406, 0.0010192609349389925, 0.00012740761686737406, 0.0431911821180398, 0.00012740761686737406, 0.9566100993852715, 0.02212987580808198, 0.9737145355556072, 0.038761727168158226, 0.9302814520357974, 3.132125855619503e-05, 0.05393520723376784, 9.396377566858508e-05, 3.132125855619503e-05, 3.132125855619503e-05, 0.016976122137457705, 0.017665189825693994, 0.01638101822489, 0.0013781353764725811, 0.16330904211200087, 0.0346413119631517, 0.001221529083691606, 6.264251711239006e-05, 0.003257410889844283, 0.25670903512657445, 0.001346814117916386, 0.007548423312043001, 0.044162974564234986, 9.396377566858508e-05, 0.03376431672357824, 0.053559352131093495, 0.002693628235832772, 3.132125855619503e-05, 0.17618207937859703, 3.132125855619503e-05, 0.055375985127352804, 0.007391817019262026, 6.264251711239006e-05, 3.132125855619503e-05, 0.0003445338441181453, 6.264251711239006e-05, 3.132125855619503e-05, 6.264251711239006e-05, 0.05136686403215984, 6.264251711239006e-05, 0.961707991471454, 0.009075061849528424, 0.036300247398113696, 0.8076805046080298, 0.13612592774292637, 0.9514656240259345, 0.9504053716395824, 0.028186169963649976, 0.00018068057669006396, 0.00018068057669006396, 0.0009034028834503198, 0.0012647640368304478, 0.007407903644292622, 0.016261251902105756, 0.004155653263871471, 0.0016261251902105756, 0.08654599623454064, 0.0005420417300701919, 0.06251547953476212, 0.7781912438041054, 0.009395389987883326, 0.0025295280736608956, 5.500013445928316e-05, 0.01551003791751785, 5.500013445928316e-05, 5.500013445928316e-05, 5.500013445928316e-05, 0.03707009062555685, 0.02370505795195104, 0.015235037245221435, 0.004730011563498351, 0.11148527254896697, 0.029315071666797924, 0.00011000026891856632, 0.00011000026891856632, 0.0052250127736319, 0.05467013365252746, 0.03888509506271319, 0.05027012289578481, 0.007700018824299642, 0.00011000026891856632, 0.06798016619167398, 0.10725026219560216, 0.00104500255472638, 5.500013445928316e-05, 0.35183586013603435, 5.500013445928316e-05, 0.03377008255799986, 0.01149502810199018, 5.500013445928316e-05, 5.500013445928316e-05, 0.00022000053783713264, 0.00011000026891856632, 5.500013445928316e-05, 5.500013445928316e-05, 0.031680077448547096, 0.00011000026891856632, 0.9946516026346264, 1.0009437367590923, 1.0106520960167116, 1.00796159727953, 0.03353301874529076, 0.06706603749058151, 0.7377264123963967, 0.13413207498116303, 0.10009925326500974, 0.03753721997437865, 0.012512406658126217, 0.025024813316252434, 0.025024813316252434, 0.012512406658126217, 0.12512406658126216, 0.025024813316252434, 0.6256203329063108, 0.9948798378125954, 0.9012104119002524, 0.0647616283073658, 0.9066627963031213, 0.1888001975511127, 0.04720004938777817, 0.23600024693889085, 0.3776003951022254, 0.09440009877555634, 0.09440009877555634, 0.9697190570855386, 0.9243648993692091, 0.17493587429242877, 0.033435755789837304, 0.01390927440857232, 0.02567866044659505, 0.00013374302315934922, 0.06433039413964697, 0.06767396971863071, 0.010966927899066637, 0.017654079057034096, 0.12371229642239803, 0.0026748604631869843, 0.016717877894918652, 0.03049340928033162, 0.043600225549947844, 0.03183083951192511, 0.02046268254338043, 0.05175854996266815, 0.22549073704666278, 0.008158324412720302, 0.0010699441852747937, 0.03463944299827145, 0.9996468340644818, 0.15840853581343947, 0.8140438645968417, 0.026401422635573248, 0.07169479117446635, 0.05242879002185645, 0.09601416967858048, 0.010738426871946502, 0.009159246449601428, 0.023687706335176105, 0.023056034166238075, 0.02937275585561837, 0.03663698579840571, 0.03126777236243246, 0.010422590787477487, 0.008843410365132413, 0.20466178273592156, 0.1970817167086652, 0.001263344337876059, 0.05495547869760856, 0.012317607294291575, 0.10106754703008472, 0.003474196929159162, 0.02179268982836202, 0.911472292170925, 0.14779961131926617, 0.0016988461071180017, 0.048133973035010054, 0.0011325640714120013, 0.07418294667748608, 0.014157050892650016, 0.0016988461071180017, 0.0011325640714120013, 0.33580524717365834, 0.006229102392766007, 0.01925358921400402, 0.1908370460329222, 0.026048973642476027, 0.01925358921400402, 0.007927948499884008, 0.04530256285648005, 0.04926653710642205, 0.002831410178530003, 0.006795384428472007, 0.29327599132102317, 0.03332681719557082, 0.012154486271325827, 0.00627328323681333, 0.0039208020230083315, 0.1634974443594474, 0.021956491328846656, 0.03763969942087998, 0.06704571459344247, 0.002744561416105832, 0.03881594002778248, 0.035679298409375816, 0.06665363439114164, 0.07135859681875163, 0.09762797037290745, 0.00980200505752083, 0.002352481213804999, 0.035679298409375816, 0.002221785174678843, 0.0003702975291131405, 0.004813867878470827, 0.000740595058226281, 0.026661422096146116, 0.013330711048073058, 0.014441603635412479, 0.0011108925873394215, 0.0055544629366971075, 0.003702975291131405, 0.02258814927590157, 0.006665355524036529, 0.8427971762615077, 0.047027786197368845, 0.004443570349357686, 0.0033326777620182645, 0.005371784835981411, 0.0067147310449767635, 0.012086515880958174, 0.0026858924179907055, 0.0993780194656561, 0.012086515880958174, 0.01611535450794423, 0.06043257940479087, 0.022830085552920994, 0.008057677253972115, 0.048346063523832694, 0.0013429462089953527, 0.0026858924179907055, 0.5036048283732573, 0.15443881403446555, 0.005371784835981411, 0.03894544006086523, 0.07957419867550361, 0.043618449644350125, 0.10403589678686212, 0.016504278243808155, 0.00029471925435371705, 0.029766644689725424, 0.022693382585236215, 0.02505113662006595, 0.03212439872455516, 0.18773616502331777, 0.007662700613196644, 0.013851804954624703, 0.257289909050795, 0.02917720618101799, 0.007073262104489209, 0.058649131616389696, 0.03330327574197003, 0.022693382585236215, 0.009725735393672663, 0.01886203227863789, 0.017740125941276223, 0.017740125941276223, 0.08870062970638111, 0.12418088158893355, 0.017740125941276223, 0.638644533885944, 0.017740125941276223, 0.07096050376510489, 0.1712324857454306, 0.2168944819442121, 0.06849299429817224, 0.045661996198781495, 0.07990849334786762, 0.011415499049695374, 0.3767114686399473, 0.011415499049695374, 0.03003863547352104, 0.04634532330200389, 0.0034329869112595473, 0.0025747401834446603, 0.05149480366889321, 0.25833226507228096, 0.10556434752123108, 0.04205408966292946, 0.06608499804174629, 0.012015454189408416, 0.0025747401834446603, 0.013731947645038189, 0.02231441492318706, 0.02231441492318706, 0.2952368743683211, 0.008582467278148868, 0.014590194372853076, 0.9967876671890314, 0.026503622617292534, 0.055572111939484345, 0.027358578185592293, 0.04103786727838844, 0.0008549555682997592, 0.05129733409798555, 0.2539218037850285, 0.0418928228466882, 0.0418928228466882, 0.015389200229395664, 0.02051893363919422, 0.0042747778414987956, 0.08207573455677689, 0.016244155797695423, 0.025648667048992775, 0.234257825714134, 0.0230838003440935, 0.005129733409798555, 0.03248831159539085, 0.11999338639353917, 0.00011493619386354326, 0.00011493619386354326, 0.00011493619386354326, 0.014481960426806452, 0.03643477345474321, 0.019079408181348182, 0.0005746809693177163, 0.06746754579789989, 0.05562911782995494, 0.001379234326362519, 0.1373487516669342, 0.08355861293879595, 0.0010344257447718894, 0.036204901067016126, 0.02218268541566385, 0.00011493619386354326, 0.0937879341926513, 0.0512615424631403, 0.0162060033347596, 0.00011493619386354326, 0.07103056780766974, 0.00011493619386354326, 0.10631597932377752, 0.0435608174742829, 0.00011493619386354326, 0.0032182134281792114, 0.00011493619386354326, 0.00011493619386354326, 0.018044982436576294, 0.00011493619386354326, 0.07389786877721849, 0.014395688722834771, 0.1852245282338074, 0.016315113885879407, 0.054703617146772125, 0.04414677875002663, 0.0019194251630446362, 0.05950218005438372, 0.050864766820682854, 0.10172953364136571, 0.011516550978267816, 0.0038388503260892723, 0.1650705640218387, 0.010556838396745498, 0.012476263559790134, 0.06813959328808458, 0.04894534165763822, 0.05950218005438372, 0.016315113885879407, 0.11783218234157697, 0.00011655013090165874, 0.03974359463746563, 0.048251754193286714, 0.025874129060168238, 0.0006993007854099524, 0.08426574464189926, 0.054895111654681264, 0.00011655013090165874, 0.03461538887779264, 0.10699302016772272, 0.04417249961172866, 0.01655011858803554, 0.020396272907790277, 0.00011655013090165874, 0.11305362697460897, 0.018997671336970372, 0.01573426767172393, 0.14125875865281037, 0.052097908513041455, 0.025407928536561604, 0.0027972031416398095, 0.00011655013090165874, 0.03566434005590757, 0.00011655013090165874, 0.16091293833203751, 0.10057058645752344, 0.18549685946609878, 0.1922015652299337, 0.09163097877241025, 0.26595332863211757, 0.9721621368920046, 0.2832267197727317, 0.1499793478495776, 0.004563266161751854, 0.005780137138219015, 0.0006084354882335805, 0.10373825074382548, 0.056584500405722986, 0.0018253064647007415, 0.0249458550175768, 0.03407238734108051, 0.006388572626452595, 0.009430750067620498, 0.006084354882335805, 0.013689798485255561, 0.03468082282931409, 0.022207895320525688, 0.06114776656747484, 0.13659376710843882, 0.019469935623474575, 0.006997008114686175, 0.017948846902890624, 0.9736918800865987, 0.05339072705822759, 0.05339072705822759, 0.026695363529113794, 0.06673840882278448, 0.13347681764556896, 0.3470397258784793, 0.10678145411645518, 0.10678145411645518, 0.026695363529113794, 0.05339072705822759, 0.04004304529367069, 0.11075163577867542, 0.09137009951740721, 0.011075163577867541, 0.011075163577867541, 0.04014746796976984, 0.024919118050201968, 0.0027687908944668852, 0.06091339967827148, 0.03599428162806951, 0.009690768130634098, 0.13013317203994362, 0.06091339967827148, 0.019381536261268196, 0.0055375817889337705, 0.11628921756760918, 0.16058987187907936, 0.011075163577867541, 0.05814460878380459, 0.03737867707530295, 0.2916775933120102, 0.07115200087048255, 0.004332974411984514, 0.002052461563571612, 0.00022805128484129023, 0.02713810289611354, 0.11106097571770834, 0.003876871842301934, 0.05564451350127482, 0.1190427706871535, 0.0009122051393651609, 0.0006841538545238707, 0.0027366154180954827, 0.005473230836190965, 0.013455025805636124, 0.04743466724698837, 0.05906528277389417, 0.027366154180954828, 0.0013683077090477413, 0.003876871842301934, 0.15096995056493415, 0.0906852055164194, 0.006409687300898753, 0.02326479094400288, 0.011869791297960654, 0.0018991666076737046, 0.09353395542792996, 0.19513936893847314, 0.0035609373893881963, 0.07240572691755999, 0.03655895719771882, 0.0009495833038368523, 0.01543072868734885, 0.01756729112098177, 0.02777531163722793, 0.01305677042775672, 0.02611354085551344, 0.06338468553110989, 0.25520051290615403, 0.02326479094400288, 0.0014243749557552785, 0.0199412493805739, 0.8962776927063985, 0.08962776927063984, 0.9798937921231108, 0.9791276675482596, 0.9530878668102285, 0.9903609785433932, 1.0030807565370277, 0.000130633675430095, 0.04807319255827496, 0.000130633675430095, 0.000130633675430095, 0.0625735305310155, 0.06387986728531646, 0.007968654201235794, 0.00078380205258057, 0.04519925169881287, 0.00548661436806399, 0.000130633675430095, 0.03592426074327612, 0.051861569145747716, 0.04258657819021097, 0.009405624630966839, 0.01097322873612798, 0.000130633675430095, 0.18628362116331545, 0.19490544374170174, 0.000653168377150475, 0.06819077857450959, 0.02586546773515881, 0.0809928787666589, 0.000130633675430095, 0.007054218473225129, 0.000130633675430095, 0.05003269768972638, 0.000130633675430095, 0.9411578041118347, 0.0537804459492477, 0.02278753397429477, 0.9570764269203803, 0.02278753397429477, 0.05674221362000289, 0.027792104630205497, 0.0810603051714327, 0.31613519016858754, 0.022002082832246018, 0.053268200541227204, 0.3196092032473632, 0.11927444903796526, 0.0023160087191837916, 0.0023160087191837916, 0.0453243936331215, 0.8265036486039803, 0.006665352004870808, 0.054655886439940626, 0.04265825283117317, 0.02266219681656075, 0.07928380812158652, 0.47570284872951907, 0.47570284872951907, 0.031773668458964455, 0.0019374188084734423, 0.03312986162489586, 0.030029991531338354, 0.0003874837616946885, 0.07090952839012798, 0.04514185823743121, 0.17804878849870934, 0.20614136122157425, 0.0003874837616946885, 0.06432230444131828, 0.004262321378641573, 0.0587037898967453, 0.023442767582528654, 0.02925502400794898, 0.05424772663725638, 0.05947875742013468, 0.012399480374230032, 0.0003874837616946885, 0.09512726349604601, 0.9407551291364177, 4.6859337729652383e-05, 0.26184997923329756, 4.6859337729652383e-05, 4.6859337729652383e-05, 4.6859337729652383e-05, 0.12356807359309334, 0.008762696155444996, 0.002436685561941924, 0.0003280153641075667, 0.03753432952145156, 0.0027647009260494907, 0.0030927162901570574, 4.6859337729652383e-05, 0.00046859337729652383, 0.06443158937827204, 0.026475525817253598, 0.003327012978805319, 0.0550128624946119, 4.6859337729652383e-05, 0.03303583309940493, 0.058105578784768956, 0.008200384102689168, 4.6859337729652383e-05, 0.03931498435517835, 4.6859337729652383e-05, 0.24165360467181735, 0.0017337954959971383, 4.6859337729652383e-05, 4.6859337729652383e-05, 0.025819495089038465, 4.6859337729652383e-05, 4.6859337729652383e-05, 0.0014526394696192239, 4.6859337729652383e-05, 0.06060200829935443, 0.020200669433118143, 0.06060200829935443, 0.0707023430159135, 0.010100334716559072, 0.030301004149677215, 0.7474247690253712, 0.9919309835967656, 0.9343687282460355, 0.11822881517623883, 0.05167245128842742, 0.01010982742599667, 0.011794798663662781, 0.0002808285396110186, 0.07273459175925381, 0.04100096678320871, 0.0002808285396110186, 0.029206168119545933, 0.08368690480408354, 0.013479769901328893, 0.040720138243597694, 0.03454191037215529, 0.01993882631238232, 0.012637284282495836, 0.2502182287934176, 0.16962043792505524, 0.010671484505218707, 0.005054913712998335, 0.023870425866936582, 0.012383941931717673, 0.02122961474008744, 0.0017691345616739533, 0.14860730318061208, 0.09111042992620859, 0.12383941931717674, 0.014153076493391627, 0.04422836404184883, 0.0017691345616739533, 0.01857591289757651, 0.0008845672808369767, 0.004422836404184883, 0.05926600781607744, 0.013268509212554649, 0.37682566163655207, 0.015037643774228603, 0.051304902288544646, 0.005594703932609813, 0.12308348651741588, 0.0447576314608785, 0.005594703932609813, 0.01678411179782944, 0.005594703932609813, 0.6713644719131776, 0.02237881573043925, 0.10629937471958645, 0.07302138271815337, 0.00010491577976746174, 0.00010491577976746174, 0.00010491577976746174, 0.044064627502333927, 0.0581233419911738, 0.03630085979954176, 0.0024130629346516197, 0.10103389591606565, 0.09820116986234419, 0.008393262381396939, 0.00010491577976746174, 0.0006294946786047703, 0.17678308890817301, 0.0007344104583722321, 0.008917841280234247, 0.029796081453959133, 0.00010491577976746174, 0.10040440123746087, 0.03703527025791399, 0.008288346601629477, 0.09253571775490124, 0.00010491577976746174, 0.0644182887772215, 0.02790759741814482, 0.00010491577976746174, 0.004406462750233393, 0.00010491577976746174, 0.00010491577976746174, 0.025704366043028126, 0.00010491577976746174, 0.8423649306222065, 0.0783595284299727, 0.0783595284299727, 0.9643763854817012, 0.030136762046303164, 0.03580175614215177, 0.9666474158380977, 0.9965982334264546, 0.006958286048230746, 0.9184937583664585, 0.006958286048230746, 0.02087485814469224, 0.034791430241153734, 0.006958286048230746, 0.3167974800823719, 0.0006871962691591581, 0.006184766422432424, 0.053601308994414336, 0.005497570153273265, 0.01099514030654653, 0.0013743925383183162, 0.004123177614954949, 0.043293364957026965, 0.042606168687867804, 0.47691421079645574, 0.0020615888074774747, 0.03642140226543538, 1.0118163525172323, 0.0571379908936404, 0.013409936638303359, 0.00757952940425842, 0.02448771038298874, 0.0017491221702134814, 0.0938695564681235, 0.034982443404269634, 0.029735076893629187, 0.03556548412767412, 0.05130758365959546, 0.006413447957449432, 0.08045961982982015, 0.020406425319157283, 0.022155547489370767, 0.06938184608513477, 0.05072454293619096, 0.06588360174470781, 0.3130928684682132, 0.005830407234044938, 0.017491221702134817, 0.059618052689283024, 0.002438920337288851, 0.006774778714691253, 0.044849035091256095, 0.0002709911485876501, 0.03956470769379692, 0.08658167197375422, 0.008265230031923329, 0.11151285764381802, 0.04159714130820429, 0.004877840674577702, 0.17113091033310104, 0.01802091138107873, 0.01571748661808371, 0.03157046881046124, 0.017614424658197257, 0.11774565406133397, 0.20798570654102147, 0.00853622118051098, 0.004742345100283877, 0.01847996084505379, 0.9239980422526896, 0.01847996084505379, 0.03695992169010758, 1.0115626084969989, 0.9803949292793774, 8.247599274948384e-05, 0.0627642304823572, 8.247599274948384e-05, 0.00016495198549896768, 8.247599274948384e-05, 0.07744495719176532, 0.06507355827934275, 0.021773662085863735, 0.0013196158839917415, 0.040000856483499665, 0.002639231767983483, 8.247599274948384e-05, 8.247599274948384e-05, 0.08330075267697867, 0.04198028030948728, 0.003793895666476257, 0.010721879057432899, 0.014433298731159672, 8.247599274948384e-05, 0.21369529721391264, 0.20082904234499316, 0.00016495198549896768, 8.247599274948384e-05, 0.04395970413547489, 8.247599274948384e-05, 0.0028866597462319345, 0.07101182975730559, 8.247599274948384e-05, 8.247599274948384e-05, 0.0069279833909566425, 8.247599274948384e-05, 8.247599274948384e-05, 8.247599274948384e-05, 0.03398010901278734, 8.247599274948384e-05, 0.03359886853367503, 0.940768318942901, 0.02509963619516908, 0.019097549278932997, 0.019097549278932997, 0.014186750892921653, 0.057292647836798986, 0.09275952506910312, 0.009275952506910313, 0.04910798386011342, 0.00873030824179794, 0.44906523018748157, 0.0010912885302247425, 0.0780271299110691, 0.003819509855786599, 0.03492123296719176, 0.02946479031606805, 0.052381849450787644, 0.046925406799663935, 0.0010912885302247425, 0.00873030824179794, 0.9899609044147971, 0.9957886477561264, 6.304394773747974e-05, 0.2677476460410764, 0.00012608789547495947, 6.304394773747974e-05, 0.00012608789547495947, 0.02105667854431823, 0.02654150199747897, 0.002143494223074311, 0.00012608789547495947, 0.04671556527347248, 0.03486330309882629, 0.004665252132573501, 6.304394773747974e-05, 0.004665252132573501, 0.25268014253181875, 0.020741458805630834, 0.0018913184321243922, 0.018661008530294003, 0.00012608789547495947, 0.05648737717278184, 0.031585017816477344, 0.023326260662867502, 0.00012608789547495947, 0.01954362379861872, 0.00012608789547495947, 0.0905311089510209, 0.022065381708117907, 0.00012608789547495947, 6.304394773747974e-05, 0.0020174063275993515, 6.304394773747974e-05, 0.00012608789547495947, 6.304394773747974e-05, 0.05056124608545875, 0.00012608789547495947, 0.9722555802413525, 1.007959418044253, 0.9503988153487276, 0.19214154725930066, 0.021349060806588962, 0.7899152498437916, 0.7922080477971205, 0.007034613968425742, 0.13834740804570625, 0.0023448713228085808, 0.0023448713228085808, 0.016414099259660066, 0.0046897426456171615, 0.025793584550894387, 0.016414099259660066, 0.009379485291234323, 0.6940819115513399, 0.007034613968425742, 0.056276911747405935, 0.0046897426456171615, 0.011724356614042903, 0.016159412681143723, 0.03819497542815789, 0.0132213376482085, 0.5068179431813259, 0.055823425625769224, 0.027911712812884612, 0.005876150065870445, 0.058761500658704446, 0.020566525230546556, 0.05435438810930161, 0.05141631307636639, 0.020566525230546556, 0.06169957569163967, 0.03525690039522267, 0.0014690375164676112, 0.03378786287875506, 0.9501198113744629, 0.7275094492105459, 0.09093868115131824, 0.04546934057565912, 0.09093868115131824, 0.9378062291051172, 0.004429598253871614, 0.07530317031581744, 0.004429598253871614, 0.004429598253871614, 0.08416236682356067, 0.04872558079258776, 0.017718393015486455, 0.08859196507743228, 0.02214799126935807, 0.6467213450652557, 0.08280489889469728, 0.04839247338001789, 0.04774724040161765, 0.009678494676003579, 0.06559868613735759, 0.10366743186297166, 0.0030110872325344465, 0.011184038292270802, 0.1154967031336427, 0.22518630946168325, 0.005376941486668655, 0.008172951059736356, 0.10237696590617118, 0.006237252124535639, 0.02301330956294184, 0.06731930741309156, 0.03570289147147987, 0.017421290416806443, 0.003441242551467939, 0.017851445735739935, 0.11828916355310488, 0.01800052488851596, 0.005714452345560622, 0.0017143357036681866, 0.0008571678518340933, 0.04057261165348042, 0.024572145085910675, 0.13628968844162084, 0.15457593594741484, 0.0017143357036681866, 0.0014286130863901555, 0.08285955901062902, 0.017143357036681867, 0.09028834705985783, 0.008857401135618965, 0.11057465288659804, 0.14657570266362996, 0.008857401135618965, 0.0014286130863901555, 0.028857984345081144, 0.9777110293652388, 0.9451450617853159, 0.9570259620580298, 0.030442442861138105, 0.015221221430569053, 0.007610610715284526, 0.038053053576422635, 0.007610610715284526, 0.8219459572507288, 0.015221221430569053, 0.06849549643756074, 0.028491931720250944, 0.01899462114683396, 0.01899462114683396, 0.8927471939011962, 0.047486552867084905, 0.09371128013859203, 0.09371128013859203, 0.14056692020788805, 0.18742256027718407, 0.09371128013859203, 0.09371128013859203, 0.18742256027718407, 0.04685564006929602, 0.9306964882167176, 0.8240296277399107, 0.0618022220804933, 0.02060074069349777, 0.0618022220804933, 0.02060074069349777, 0.9841676526891706, 3.490418929809434e-05, 0.06942443251390963, 0.00010471256789428301, 6.980837859618868e-05, 6.980837859618868e-05, 0.07350822266178668, 0.01270512490450634, 0.03713805741317237, 0.0005235628394714151, 0.06729527696672588, 0.10111743639657929, 0.008795855703119772, 6.980837859618868e-05, 0.012495699768717772, 0.07699864159159611, 0.004677161365944641, 0.0032809937940208676, 0.008272292863648358, 6.980837859618868e-05, 0.04453774554436837, 0.06506140885164785, 0.021361363850433735, 3.490418929809434e-05, 0.19727847791282918, 0.00010471256789428301, 0.11591681265897129, 0.015392747480459603, 6.980837859618868e-05, 6.980837859618868e-05, 0.0032460896047227733, 0.00010471256789428301, 3.490418929809434e-05, 3.490418929809434e-05, 0.06003520559272226, 6.980837859618868e-05, 0.9951549838229609, 0.9967040106746766, 0.9954061356599462, 0.9808689325598771, 0.0011978552436086938, 0.24556032493978225, 0.0011978552436086938, 0.04671635450073906, 0.7007453175110859, 0.0023957104872173876, 0.02608359245955139, 0.0495846510122165, 0.01084664240892236, 0.008780615283413338, 0.0007747601720658828, 0.004132054251018042, 0.002324280516197648, 0.004648561032395296, 0.0028407872975749035, 0.3959024479256661, 0.004390307641706669, 0.003357294078952159, 0.03796324843122826, 0.2853699967109335, 0.02608359245955139, 0.006972841548592945, 0.12292861396778673, 0.0036155474696407865, 0.0028407872975749035, 0.9899640462706131, 1.0070769426498885, 0.9373480458371198, 0.01952808428827333, 0.01952808428827333, 0.020364236067352357, 0.0020364236067352357, 0.008145694426940943, 0.08756621508961514, 0.018327812460617123, 0.5152151725040146, 0.004072847213470471, 0.0020364236067352357, 0.022400659674087595, 0.13440395804452557, 0.13847680525799602, 0.020364236067352357, 0.02443708328082283, 0.20578721409387757, 0.011929693570659568, 0.7545531183442177, 0.008947270177994677, 0.005964846785329784, 0.011929693570659568, 0.9816186685538938, 0.9788236534849537, 0.02734568535167872, 0.02734568535167872, 0.008545526672399599, 0.00170910533447992, 0.06665510804471687, 0.00341821066895984, 0.17774695478591168, 0.03247300135511848, 0.02050926401375904, 0.01196373734135944, 0.618696131081731, 0.00170910533447992, 0.00341821066895984, 0.0887114105265315, 0.028128008215729503, 0.20555082926879253, 0.0064910788190145, 0.008654771758686002, 0.0064910788190145, 0.6534352677807931, 0.9845899110432107, 0.2360585779280079, 0.16065097664544983, 0.1081935148836703, 0.04590027904155709, 0.07540760128255808, 0.04262168768144588, 0.039343096321334654, 0.006557182720222442, 0.009835774080333664, 0.022950139520778547, 0.006557182720222442, 0.13442224576456005, 0.009835774080333664, 0.07540760128255808, 0.006557182720222442, 0.009835774080333664, 0.019671548160667327, 0.9446888832930695, 0.10120922859335868, 0.10120922859335868, 0.8096738287468694, 0.5362433820542707, 0.005704716830364582, 0.4563773464291666, 0.9897499969520862, 0.9805476892663038, 0.12358343736349722, 0.4325420307722403, 0.4325420307722403, 0.011276294378342284, 0.0001734814519744967, 0.011449775830316781, 0.11380383249526982, 0.0001734814519744967, 0.06973954369374767, 0.01301110889808725, 0.0013878516157959735, 0.006071850819107384, 0.045105177513369135, 0.06418813723056377, 0.006592295175030874, 0.010755850022418795, 0.5258222809346994, 0.00052044435592349, 0.00416355484738792, 0.011970220186240272, 0.08604680017935036, 0.015439849225730204, 0.00052044435592349, 0.0019082959717194635, 0.9707296343835133, 1.0106009516161871, 0.011176944266762624, 0.18022822630154728, 0.001397118033345328, 0.04610489510039582, 0.001397118033345328, 0.004191354100035983, 0.7516495019397864, 1.0022689307305441, 0.9544270154919838, 0.07064835567028191, 0.9184286237136647, 0.9850231807216085, 0.5838261287254596, 0.40418731988685663, 0.07182452543319631, 0.007560476361389086, 0.015120952722778172, 0.03780238180694543, 0.8694547815597449, 0.9375441298301729, 0.06465821585035675, 0.04638539154997785, 0.11596347887494463, 0.5566246985997342, 0.06957808732496677, 0.20873426197490033, 0.041952303782903815, 0.922950683223884, 0.9243654573629111, 0.9919262032903625, 0.9617912264501075, 0.02224609537215065, 0.8564746718278001, 0.0444921907443013, 0.011123047686075326, 0.011123047686075326, 0.02224609537215065, 0.011123047686075326, 0.9512983872035004, 0.15291093267606728, 0.08495051815337072, 0.7390695079343252, 0.016990103630674144, 0.008085456362670055, 0.008085456362670055, 0.04042728181335028, 0.01617091272534011, 0.08085456362670056, 0.7923747235416654, 0.03234182545068022, 0.006221871249868172, 0.0010369785416446953, 0.012443742499736343, 0.0663666266652605, 0.07466245499841806, 0.055996841248813545, 0.02385050645782799, 0.11821555374749525, 0.09021713312308849, 0.011406763958091648, 0.04666403437401129, 0.0010369785416446953, 0.12236346791407403, 0.018665613749604515, 0.006221871249868172, 0.3453138543676835, 0.018168682565158172, 0.0036337365130316344, 0.012354704144307557, 0.0406978489459543, 0.08866317091797188, 0.04360483815637961, 0.03052338670946573, 0.04287809085377328, 0.3117745928181142, 0.0021802419078189804, 0.034157123222497365, 0.0036337365130316344, 0.010901209539094903, 0.15479717545514762, 0.08212244519451493, 0.005813978420850615, 0.0014534946052126537, 0.11191908460137434, 0.3485025365939013, 0.6273045658690223, 0.01394010146375605, 0.9791665564977226, 0.984258548164286, 0.0106172936466368, 0.9608650750206303, 0.0053086468233184, 0.0106172936466368, 0.0053086468233184, 0.008202233707108328, 0.0016404467414216656, 0.0016404467414216656, 0.004921340224264997, 0.0016404467414216656, 0.0016404467414216656, 0.0016404467414216656, 0.008202233707108328, 0.8185829239694111, 0.0032808934828433313, 0.01804491415563832, 0.12795484583088992, 0.0032808934828433313, 0.11956320350748482, 0.049474429037579926, 0.8286966863794638, 1.0106977602632496, 0.46647012269417193, 0.0034425839313223018, 0.5043385459387172, 0.025819379484917266, 0.6885016698387337, 0.23667244900706472, 0.06454703154738128, 0.9323364493498315, 0.020793338372485252, 0.020793338372485252, 0.8941135500168659, 0.010396669186242626, 0.03119000755872788, 0.010396669186242626, 0.9972921750777829, 1.0119480218560382, 0.05692275316969381, 0.9392254272999478, 0.9616706258885521, 0.799628728554822, 0.17769527301218266, 0.08985808621928287, 0.05491327491178397, 0.8386754713799734, 0.004992115901071271, 0.004992115901071271, 0.05228774586113345, 0.06571683906044094, 0.00942893777823718, 0.027429637173053613, 0.06914554370707265, 0.21429404041448136, 0.00571450774438617, 0.054859274346107226, 0.02428665791364122, 0.04143018114679973, 0.0008571761616579254, 0.024858108688079836, 0.050001942763378986, 0.04485888579343143, 0.08514616539135393, 0.15257735677511072, 0.0008571761616579254, 0.000571450774438617, 0.07457432606423951, 0.9752298888687512, 0.07439281828436774, 0.0624899673588689, 0.03570855277649652, 0.1999678955483805, 0.03987455060042111, 0.008331995647849188, 0.000595142546274942, 0.047611403701995354, 0.05296768661846983, 0.004761140370199536, 0.014283421110598606, 0.010712565832948955, 0.1279556474491125, 0.12319450707891298, 0.01249799347177378, 0.057728826988669366, 0.025591129489822503, 0.0696316779141682, 0.0029757127313747096, 0.02797169967492227, 0.062191556837575, 0.030147093653468557, 0.02930381830651839, 0.02403334738807983, 0.05207225267417296, 0.07441904936835245, 0.000632456510212627, 0.037736571776020085, 0.07336495518466474, 0.00358392022453822, 0.04553686873530915, 0.008221934632764152, 0.14061616410394076, 0.02424416622481737, 0.013914043224677796, 0.1587465840633694, 0.16591442451244584, 0.005270470918438559, 0.0010540941836877117, 0.04869915128637228, 0.024821983366105048, 0.018616487524578788, 0.06826045425678888, 0.006205495841526262, 0.7694814843492565, 0.03102747920763131, 0.012410991683052524, 0.049643966732210096, 0.018616487524578788, 0.9651579019247194, 0.9830226813006785, 0.9696997393520331, 0.9516385034213849, 0.9636139560940548, 7.18651651342887e-05, 0.014013707201186294, 7.18651651342887e-05, 0.0001437303302685774, 7.18651651342887e-05, 0.0234999089989124, 0.05892943541011672, 0.03636377355795008, 0.00021559549540286607, 0.10305464680256998, 0.09931765821558697, 0.008480089485846064, 7.18651651342887e-05, 0.027596223411566857, 0.050736806584807816, 0.01530728017360349, 0.014947954347932047, 0.0016528987980886397, 7.18651651342887e-05, 0.2566305046945449, 0.05353954802504507, 0.02687757176022397, 7.18651651342887e-05, 0.0883222879500408, 7.18651651342887e-05, 0.026733841429955392, 0.04484386304379614, 7.18651651342887e-05, 7.18651651342887e-05, 7.18651651342887e-05, 7.18651651342887e-05, 7.18651651342887e-05, 7.18651651342887e-05, 0.04786219997943627, 7.18651651342887e-05, 0.2003786512858617, 0.667928837619539, 0.0667928837619539, 0.0667928837619539, 0.9784273507211632, 0.9344295134866405, 0.9569969186883154, 1.010814725838327, 0.10536578966656614, 0.028933397620109696, 0.010367800813872641, 0.025798946211264478, 0.010608912460706887, 0.13237029411200185, 0.07474461051861671, 0.0009644465873369898, 0.002170004821508227, 0.03134451408845217, 0.00024111164683424745, 0.004098897996182207, 0.04942788760102073, 0.03472007714413163, 0.04171231490232481, 0.007233349405027424, 0.23219051590138032, 0.18059262347885136, 0.01229669398854662, 0.0007233349405027424, 0.013743363869552105, 0.12073931829598097, 0.014880508807148982, 0.014127065323242705, 0.012055095742500441, 0.0015068869678125552, 0.15407919245883375, 0.05895695261566622, 0.002071969580742263, 0.005650826129297081, 0.06856335703547126, 0.014503787065195842, 0.02448691322695402, 0.04332300032461096, 0.014880508807148982, 0.01883608709765694, 0.03220970893699337, 0.30608641533692527, 0.03051446109820424, 0.004332300032461096, 0.057638426518830235, 0.02066632958541265, 0.01148129421411814, 0.04822143569929618, 0.42251162707954754, 0.03444388264235442, 0.004592517685647256, 0.002296258842823628, 0.04592517685647256, 0.02296258842823628, 0.3054024260955425, 0.018370070742589024, 0.02066632958541265, 0.018370070742589024, 0.025258847271059908, 0.002296258842823628, 0.9957865382478864, 0.9556269978526158, 0.981550741862717, 0.8752083734171938, 0.16016245810552623, 0.8351328172645297, 0.002288035115793232, 0.002288035115793232, 0.9310634880129967, 0.0049393288488753136, 0.061741610610941425, 0.9894886203292464, 0.9741631669390953, 0.017246817421820645, 0.15522135679638582, 0.008623408710910323, 0.002874469570303441, 0.008623408710910323, 0.17821711335881335, 0.025870226132730968, 0.03736810441394473, 0.048865982695158496, 0.002874469570303441, 0.011497878281213764, 0.02874469570303441, 0.28457248746004066, 0.15522135679638582, 0.008623408710910323, 0.005748939140606882, 0.017246817421820645, 0.09188036759356537, 0.16380691798246755, 0.006032549387456312, 0.03897954988817925, 0.012065098774912623, 0.023202113028678122, 0.07192655038890218, 0.008816802950897687, 0.10719376219249292, 0.3433912728244362, 0.04965252188137118, 0.008352760690324123, 0.07424676169177, 0.9773847736324678, 0.9616408117830348, 0.04271584829095819, 0.008543169658191638, 0.017086339316383276, 0.9312054927428886, 0.008543169658191638, 0.9791848551934983, 0.04222260159468634, 0.9288972350830994, 0.9942983336208716, 0.10346382744761205, 0.06207829646856723, 0.048583014627574354, 0.027890249138051944, 0.027890249138051944, 0.09356728743088394, 0.09356728743088394, 0.028789934594118136, 0.08367074741415584, 0.011695910928860492, 0.021592450945588603, 0.023391821857720985, 0.09536665834301633, 0.028789934594118136, 0.008097169104595726, 0.1331534474977964, 0.039586160066912436, 0.026090878225919562, 0.018893394577390026, 0.024291507313787177, 0.00011725647034352284, 0.17107719023119983, 0.00011725647034352284, 0.00011725647034352284, 0.00011725647034352284, 0.051827359891837094, 0.02016811289908593, 0.004455745873053868, 0.00046902588137409136, 0.0826658115921836, 0.048661435192561976, 0.00539379763580205, 0.013484494089505127, 0.07961714336325201, 0.0031659246992751166, 0.0060973364578631875, 0.0420950728533247, 0.00011725647034352284, 0.06320123751515881, 0.0477233834298138, 0.018643778784620132, 0.06308398104481529, 0.19429397135921733, 0.044674715200882203, 0.00011725647034352284, 0.004338489402710345, 0.00011725647034352284, 0.033769863458934575, 0.14753907651316148, 0.004539663892712661, 0.0015132212975708871, 0.0030264425951417743, 0.1967187686842153, 0.0007566106487854436, 0.0037830532439272176, 0.0643119051467627, 0.08776683525911146, 0.031021036600203184, 0.0037830532439272176, 0.032534257897774074, 0.009079327785425322, 0.402516865153856, 0.0015132212975708871, 0.007566106487854435, 0.9504052560953082, 0.037230529281730686, 0.930763232043267, 5.258546270780378e-05, 0.0778264848075496, 0.00010517092541560756, 5.258546270780378e-05, 5.258546270780378e-05, 0.10022789192107401, 0.004995618957241359, 0.01361963484132118, 0.0009991237914482717, 0.03270815780425395, 0.05116565521469308, 0.0034706405387150492, 5.258546270780378e-05, 0.025451363950577028, 0.3227695701004996, 0.004785277106410144, 0.027028927831811142, 0.009097285048450053, 5.258546270780378e-05, 0.015775638812341133, 0.09386505093342974, 0.012883438363411926, 5.258546270780378e-05, 0.07430325880612675, 5.258546270780378e-05, 0.060736209427513364, 0.004943033494533555, 5.258546270780378e-05, 5.258546270780378e-05, 0.001682734806649721, 5.258546270780378e-05, 5.258546270780378e-05, 5.258546270780378e-05, 0.06094655127834458, 0.00010517092541560756, 0.1422154547112278, 0.015009546671369688, 0.04127625334626664, 0.0052533413349793905, 0.0003752386667842422, 0.04690483334803027, 0.23152225740587742, 0.0454038786808933, 0.049156265348735725, 0.04315244668018785, 0.01538478533815393, 0.004878102668195148, 0.14296593204479627, 0.0071295346689006014, 0.008255250669253329, 0.03264576401022907, 0.1422154547112278, 0.015760024004938172, 0.010131444003174539, 0.23335252467363185, 0.4667050493472637, 0.3500287870104478, 0.37423816011737016, 0.18711908005868508, 0.12474605337245673, 0.3118651334311418, 0.9842641642089568, 4.5161196885169785e-05, 0.09470302986820103, 9.032239377033957e-05, 9.032239377033957e-05, 9.032239377033957e-05, 0.09465786867131587, 0.04574829244467699, 0.02131608492980014, 0.0013548359065550936, 0.053922469080892724, 0.028993488400279, 0.0011290299221292446, 4.5161196885169785e-05, 0.05310956753695967, 0.06674824899628094, 0.01250965153719203, 0.017748350375871726, 0.017612866785216216, 4.5161196885169785e-05, 0.15959966979219, 0.07812887061134373, 0.005058054051139016, 4.5161196885169785e-05, 0.09632883295606715, 9.032239377033957e-05, 0.06999985517201317, 0.03369025287633666, 9.032239377033957e-05, 4.5161196885169785e-05, 0.005916116791957242, 9.032239377033957e-05, 9.032239377033957e-05, 4.5161196885169785e-05, 0.04064507719665281, 9.032239377033957e-05, 0.06759488528722307, 0.9125309513775115, 0.9047006109244737, 0.28348317839511433, 0.0002985604827752652, 0.00343344555191555, 0.009852495931583752, 0.0005971209655505304, 0.130023090248628, 0.061055618727541734, 0.0016420826552639588, 0.030602449484464684, 0.015375864862926159, 0.008359693517707425, 0.0043291270002413455, 0.007016171345218733, 0.005672649172730039, 0.006269770138280569, 0.020302112828718036, 0.40007104691885537, 0.0007464012069381631, 0.01089745762129718, 0.985493213253708, 0.5037853367309549, 0.07591285895945896, 0.006901168996314451, 0.0017252922490786128, 0.03278055273249364, 0.05003347522327977, 0.05865993646867283, 0.06556110546498728, 0.034505844981572255, 0.07246227446130174, 0.056934644219594224, 0.005175876747235839, 0.027604675985257805, 0.005175876747235839, 0.9805578421076839, 0.9628613445503974, 0.9514691577988472, 0.1615520615784447, 0.8077603078922236, 0.9962269169845871, 0.9853677159941773, 0.9497693858563807, 0.053188064998625724, 0.0003643018150590803, 0.10236881003160157, 0.10601182818219237, 0.014572072602363213, 0.0007286036301181606, 0.015300676232481374, 0.0003643018150590803, 0.001092905445177241, 0.040801803286617, 0.04043750147155792, 0.01275056352706781, 0.01056475263671333, 0.42841893450947843, 0.06593862852569354, 0.0032787163355317227, 0.03861599239626251, 0.001092905445177241, 0.03169425791013999, 0.008743243561417927, 0.0240439197938993, 0.07844698538302329, 0.0001687031943720931, 0.1466030759093489, 0.04217579859302327, 0.020075680130279078, 0.0003374063887441862, 0.05955222761334886, 0.00219314152683721, 0.09329286648776748, 0.06410721386139537, 0.006073314997395351, 0.023787150406465125, 0.021425305685255823, 0.2317981890672559, 0.07726606302241863, 0.035596374012511645, 0.006073314997395351, 0.027498620682651173, 0.005904611803023258, 0.05702167969776746, 5.6117353735997266e-05, 0.07873264729160416, 5.6117353735997266e-05, 5.6117353735997266e-05, 5.6117353735997266e-05, 0.16694912736459186, 0.04904656716526161, 0.019416604392655055, 0.00039282147615198087, 0.06459107415013285, 0.0005050561836239754, 5.6117353735997266e-05, 0.09596067488855532, 0.07138127395218852, 0.001290699135927937, 0.017340262304423155, 0.026767977732070694, 5.6117353735997266e-05, 0.23833040131678038, 0.029012671881510587, 5.6117353735997266e-05, 0.037430274941910174, 5.6117353735997266e-05, 0.004601623006351776, 0.017789201134311133, 0.011279588100935451, 5.6117353735997266e-05, 5.6117353735997266e-05, 0.06851928891165265, 5.6117353735997266e-05, 0.9983830675522887, 0.9610973206507554, 0.17811630325345237, 0.8193349949658809, 0.9993815980912373, 0.036002931808654166, 0.046410029284593264, 0.003656547761816439, 0.0061880039046124345, 0.060473674522348794, 0.046691302189348374, 0.009844551666428874, 0.0005625458095102213, 0.09225751275967631, 0.0016876374285306642, 0.0016876374285306642, 0.02053292204712308, 0.008719460047408431, 0.010407097475939094, 0.12601026133028959, 0.041909662808511494, 0.0005625458095102213, 0.48603957941683124, 0.971176803271205, 0.011812503133926833, 0.007875002089284556, 0.019687505223211388, 0.019687505223211388, 0.13387503551783744, 0.007875002089284556, 0.027562507312495946, 0.007875002089284556, 0.12993753447319517, 0.07481251984820328, 0.5591251483392035, 0.9831363788676354, 0.9984181917034689, 0.12804889395270672, 0.8643300341807704, 6.060366871147136e-05, 0.06623980990163819, 6.060366871147136e-05, 0.00012120733742294272, 6.060366871147136e-05, 0.07878476932491277, 0.04636180656427558, 0.031210889386407748, 0.0017575063926326693, 0.08769350862549904, 0.04563456253973793, 0.004605878822071823, 6.060366871147136e-05, 0.046725428576544416, 0.07829993997522099, 0.01521152084657931, 0.012605563091986042, 0.021271887717726444, 0.00012120733742294272, 0.13072211341064371, 0.10563219456409458, 0.007272440245376563, 6.060366871147136e-05, 0.07169414008567061, 6.060366871147136e-05, 0.06975482268690353, 0.03587737187719104, 0.00012120733742294272, 6.060366871147136e-05, 0.004545275153360352, 0.00012120733742294272, 6.060366871147136e-05, 6.060366871147136e-05, 0.037028841582709, 6.060366871147136e-05, 0.9615430984753934, 0.02271701675694308, 0.7383030446006501, 0.06247179608159347, 0.01135850837847154, 0.01135850837847154, 0.01703776256770731, 0.01703776256770731, 0.10790582959547963, 0.01135850837847154, 0.470723135985411, 0.029420195999088187, 0.5001433319844991, 0.9517638935866041, 0.047588194679330204, 0.03266805428522067, 0.060364882918342536, 0.07421329723490347, 0.01349332676998245, 0.0017754377328924275, 0.04509611841546766, 0.006036488291834253, 0.024145953167337014, 0.02840700372627884, 0.005681400745255768, 0.015268764502874876, 0.2542426833501956, 0.2964981013930354, 0.0003550875465784855, 0.039769805216790376, 0.010652626397354564, 0.05929962027860708, 0.008522101117883651, 0.023080690527601557, 0.116825855399374, 0.233651710798748, 0.0292064638498435, 0.058412927699687, 0.16063555117413925, 0.01460323192492175, 0.3796840300479655, 0.014989846438903495, 0.07494923219451748, 0.004996615479634498, 0.05995938575561398, 0.5096547789227188, 0.3297766216558769, 0.07165950436872208, 0.01320043501529091, 0.011314658584535066, 0.07920261009174547, 0.0169719878768026, 0.011314658584535066, 0.0037715528615116884, 0.3450970868283195, 0.060344845784187015, 0.009428882153779222, 0.007543105723023377, 0.09051726867628053, 0.24137938313674806, 0.024515093599825975, 0.015086211446046754, 0.9326342911568458, 0.9146672848904738, 0.057711748477514244, 0.9041507261477232, 0.03847449898500949, 0.3756876556082716, 0.0939219139020679, 0.3756876556082716, 0.0939219139020679, 0.022275186899812047, 0.03341278034971807, 0.007425062299937349, 0.9318453186421373, 0.157926577333996, 0.09259318585488212, 0.015319553864068088, 0.012165528068524658, 0.053167863410589246, 0.1306667829582278, 0.0027034506818943683, 0.03401842108050414, 0.0799770826727084, 0.020726455227856825, 0.021177030341505886, 0.041227622898889114, 0.011039090284402005, 0.0777242071044631, 0.06555867903593843, 0.1592783026749432, 0.005857476477437798, 0.0033793133523679604, 0.014868978750419027, 0.7076473803266619, 0.14152947606533237, 0.09435298404355491, 0.047176492021777455, 0.01485898194659184, 0.12877784353712926, 0.8420089769735376, 0.004952993982197279, 0.009905987964394559, 0.1510182754139722, 0.84432944890539, 0.7387383056796097, 0.2585584069878634, 0.12873563095031773, 0.0891246675809892, 0.2376657802159712, 0.009902740842332135, 0.445623337904946, 0.01980548168466427, 0.009902740842332135, 0.04951370421166067, 0.01828188961990732, 0.008874703698984136, 0.025381652579094627, 0.013312055548476203, 0.00035498814795936545, 0.05573313922962037, 0.09868670513270358, 0.0021299288877561925, 0.05094079923216894, 0.15228991547456777, 0.004792339997451434, 0.05094079923216894, 0.01242458517857779, 0.08395469699238993, 0.05466817478574228, 0.006744774811227943, 0.32250673242108346, 0.017926901471947955, 0.0035498814795936542, 0.0005324822219390481, 0.015441984436232396, 0.9962189100251603, 0.026441216159446567, 0.052882432318893134, 0.7139128363050573, 0.1586472969566794, 0.026441216159446567, 0.9450793657728369, 0.09892090063807085, 0.05076204111690478, 0.02733340675525642, 0.013015907978693534, 0.03253976994673383, 0.02603181595738707, 0.006507953989346767, 0.041650905531819306, 0.07939703867003056, 0.13666703377628212, 0.07939703867003056, 0.04555567792542737, 0.014317498776562887, 0.0390477239360806, 0.12625430739332727, 0.00780954478721612, 0.15749248654219175, 0.016920680372301593, 0.21145858072403437, 0.1392862586400944, 0.00993611442957872, 0.003613132519846807, 0.0008129548169655315, 0.03387311737356381, 0.014271873453394887, 0.010929725872536591, 0.00027098493898851053, 0.11733647858202505, 0.006684295161716592, 0.003974445771831488, 0.037576578206406794, 0.04760302094898168, 0.02718882221184722, 0.009303816238605527, 0.05627453899661401, 0.24352513183767477, 0.004064774084827657, 0.017343036095264674, 0.004155102397823828, 9.032831299617017e-05, 0.1603782249949567, 0.018868026469994907, 0.018868026469994907, 0.037736052939989814, 0.7358530323298014, 0.028302039704992357, 1.0013669054697294, 0.3161384099908983, 0.6322768199817966, 5.290364306554454e-05, 0.011374283259092077, 5.290364306554454e-05, 5.290364306554454e-05, 5.290364306554454e-05, 0.014231079984631481, 0.01909821514666158, 0.16516517365063005, 0.002645182153277227, 0.11564736374128036, 0.12670422514197918, 0.002063242079556237, 5.290364306554454e-05, 0.020209191651038013, 0.023806639379495044, 0.000687747359852079, 0.043751312815205334, 0.007723931887569503, 5.290364306554454e-05, 0.08866650577785265, 0.07216056914140276, 0.006136822595603167, 5.290364306554454e-05, 0.1767510714819843, 0.00010580728613108908, 0.026875050677296626, 0.00513165337735782, 5.290364306554454e-05, 5.290364306554454e-05, 0.0002645182153277227, 5.290364306554454e-05, 5.290364306554454e-05, 5.290364306554454e-05, 0.07009732706184651, 5.290364306554454e-05, 0.9751492617769155, 0.9636542109775841, 0.028122927644741, 0.000703073191118525, 0.023201415306911322, 0.017576829777963123, 0.00140614638223705, 0.8921998795294082, 0.00140614638223705, 0.000703073191118525, 0.009139951484540824, 0.007733805102303775, 0.01546761020460755, 0.9878908290812691, 0.039031785089023975, 0.8586992719585276, 0.004336865009891553, 0.004336865009891553, 0.09107416520772262, 0.0058587254279302906, 0.014646813569825726, 0.0014646813569825726, 0.9696190583224631, 0.0029293627139651453, 0.0029293627139651453, 0.0014646813569825726, 0.027412466793834342, 0.9046114041965333, 0.027412466793834342, 0.027412466793834342, 0.06180153771061908, 0.03197870265258778, 0.007545536580947678, 0.002874490126075306, 0.00035931126575941324, 0.05641186872422788, 0.03988355049929487, 0.006467602783669439, 0.1710321625014807, 0.11749478390332813, 0.13402310212826113, 0.014013139364617117, 0.025511099868918342, 0.0190434970852489, 0.019402808351008317, 0.04203941809385135, 0.1329451683309829, 0.07258087568340148, 0.008623470378225919, 0.0017965563287970663, 0.033415947715625435, 0.9959035679349298, 0.9975062331239634, 0.06312849387593707, 0.04797765534571217, 0.01010055902014993, 0.01010055902014993, 0.04040223608059972, 0.025251397550374827, 0.007575419265112448, 0.6590614760647829, 0.005050279510074965, 0.005050279510074965, 0.04040223608059972, 0.025251397550374827, 0.02020111804029986, 0.012625698775187414, 0.02777653730541231, 0.9790733175469056, 7.25186248295198e-05, 0.24473222914342196, 0.0001450372496590396, 3.62593124147599e-05, 0.00010877793724427971, 0.08602521870401787, 0.004224209896319529, 0.00790453010641766, 0.0005801489986361584, 0.07969796868764227, 0.007251862482951981, 0.006979917639841281, 9.064828103689976e-05, 0.014050483560719463, 0.13414132627840425, 0.001486631809005156, 0.003045782242839832, 0.0222450881664552, 5.4388968622139855e-05, 0.01486631809005156, 0.07652527885135077, 0.017023747178729773, 5.4388968622139855e-05, 0.049838424914087485, 5.4388968622139855e-05, 0.1778519273943973, 0.010261385413377053, 7.25186248295198e-05, 7.25186248295198e-05, 0.0054388968622139855, 5.4388968622139855e-05, 9.064828103689976e-05, 7.25186248295198e-05, 0.03471829163713261, 9.064828103689976e-05, 0.051738223844238304, 0.9312880291962895, 0.1475852532740304, 0.0001274484052452767, 0.0001274484052452767, 0.06958682926392108, 0.005607729830792175, 0.045753977483054334, 0.002548968104905534, 0.11100756096863601, 0.026254371480527, 0.014529118197961544, 0.0068822138832449415, 0.06104778611248754, 0.0005097936209811068, 0.011342908066829626, 0.004460694183584684, 0.024470093807093127, 0.10909583488995686, 0.02357795497037619, 0.043459906188639354, 0.0001274484052452767, 0.16377120074018056, 0.0047155909940752375, 0.0001274484052452767, 0.0020391744839244274, 0.0001274484052452767, 0.12107598498301286, 0.920105509288678, 0.06732479336258619, 0.06661609933687719, 0.003918594078639834, 0.003918594078639834, 0.4114523782571826, 0.011755782235919504, 0.05877891117959752, 0.18417392169607222, 0.023511564471839008, 0.039185940786398345, 0.04310453486503818, 0.14890657498831372, 0.8983998477521494, 0.019964441061158876, 0.019964441061158876, 0.05989332318347663, 0.9479866177429712, 0.05767201882121428, 0.011534403764242855, 0.04613761505697142, 0.011534403764242855, 0.011534403764242855, 0.04613761505697142, 0.6228578032691142, 0.011534403764242855, 0.06920642258545713, 0.034603211292728565, 0.06920642258545713, 0.9724279957650874, 0.13581703204086548, 0.7809479342349764, 0.06790851602043274, 0.04341684528195512, 0.9551705962030127, 0.00822842235424756, 0.9874106825097071, 0.986209339960211, 0.801068057983969, 0.021650488053620784, 0.15155341637534547, 0.0013826281439311766, 0.034565703598279415, 0.013826281439311765, 0.015900223655208528, 0.019356794015036472, 0.05668775390117824, 0.026269934734692354, 0.26822985992264825, 0.004839198503759118, 0.0013826281439311766, 0.05737906797314382, 0.40925793060362825, 0.07673586198818029, 0.00414788443179353, 0.0013826281439311766, 0.00829576886358706, 0.016071599838857833, 0.04017899959714458, 0.016071599838857833, 0.763400992345747, 0.05625059943600241, 0.10848329891229036, 0.9472729586531786, 0.9921560951764318, 0.9924089437450584, 0.010475578083209888, 0.029522083689046047, 0.17713250213427628, 0.017141855045252542, 0.027141270488316528, 0.06713893226057246, 0.022379644086857487, 0.04285463761313136, 0.011427903363501695, 0.012380228643793503, 0.014761041844523023, 0.4428312553356907, 0.03714068593138051, 0.00476162640145904, 0.007618602242334464, 0.000952325280291808, 0.07142439602188559, 0.001904650560583616, 0.1403020268602956, 0.00935346845735304, 0.8324586927044205, 0.00935346845735304, 0.014846862539062469, 0.022270293808593702, 0.4602527387109365, 0.014846862539062469, 0.03711715634765617, 0.03711715634765617, 0.35632470093749924, 0.022270293808593702, 0.0074234312695312344, 0.022270293808593702, 0.08715267183646953, 0.17430534367293907, 0.5229160310188171, 0.26145801550940856, 0.6412052693427024, 0.2137350897809008, 0.1068675448904504, 0.9427151439029697, 0.049616586521208934, 0.9785616110899876, 1.0014188108540092, 1.0201607762202183, 0.12688911824213767, 0.12688911824213767, 0.761334709452826, 0.0001577569044169316, 0.0089921435517651, 0.0001577569044169316, 0.0001577569044169316, 0.0001577569044169316, 0.11405824189344153, 0.016879988772611678, 0.023979049471373602, 0.0001577569044169316, 0.008518872838514305, 0.05963210986960014, 0.01609120425052702, 0.0001577569044169316, 0.30746820670859965, 0.029500541125966208, 0.007256817603178853, 0.0017353259485862473, 0.07950947982613352, 0.23426900305914342, 0.03801941396448051, 0.0003155138088338632, 0.0029973811839217003, 0.020350640669784176, 0.012147281640103732, 0.0001577569044169316, 0.0001577569044169316, 0.0003155138088338632, 0.0001577569044169316, 0.016564474963777817, 0.0001577569044169316, 0.9516705316263938, 0.05519296264130548, 0.00022901644249504347, 0.037100663684197045, 0.08611018237813635, 0.008931641257306696, 0.0006870493274851304, 0.06618575188106757, 0.00595442750487113, 0.00022901644249504347, 0.06343755457112704, 0.05336083110134513, 0.021069512709544, 0.01786328251461339, 0.32474531545797164, 0.10488953066272991, 0.0013740986549702608, 0.04282607474657313, 0.02244361136451426, 0.048093452923959126, 0.004122295964910782, 0.034581482816751566, 0.025707275765972593, 0.02142272980497716, 0.8054946406671413, 0.14139001671284926, 0.0232516616964887, 0.9765697912525254, 0.015778610303789055, 0.047335830911367165, 0.16526018160284328, 0.007474078564952711, 0.0041522658694181725, 0.010795891260487248, 0.00913498491271998, 0.01826996982543996, 0.03238767378146175, 0.0024913595216509037, 0.0041522658694181725, 0.5447772820676643, 0.028235407912043573, 0.010795891260487248, 0.050657643606901705, 0.01660906347767269, 0.023252688868741767, 0.008304531738836345, 0.982608079880573, 0.9588175728238038, 0.6476679888905033, 0.07196310987672258, 0.21588932963016774, 0.07196310987672258, 0.137424593216887, 0.018323279095584934, 0.06413147683454726, 0.12826295366909451, 0.0549698372867548, 0.03664655819116987, 0.009161639547792467, 0.03664655819116987, 0.018323279095584934, 0.48556689603300074, 0.9733418971728904, 0.0832120099018241, 0.8598574356521823, 0.05547467326788273, 0.195719388920381, 0.06253755622308031, 0.0019301714883666764, 0.008492754548813377, 0.06639789919981368, 0.0034743086790600176, 0.3590118968362018, 0.010422926037180053, 0.010422926037180053, 0.0030882743813866824, 0.0003860342976733353, 0.01659947479995342, 0.22891833852028784, 0.0007720685953466706, 0.006948617358120035, 0.023934126455746788, 0.08633514419366006, 0.00010515851911529849, 0.00010515851911529849, 0.05215862548118805, 0.03354556759778022, 0.0209265453039444, 0.0008412681529223879, 0.07150779299840297, 0.05352568622968693, 0.002418645939651865, 0.029339226833168277, 0.1318687829705843, 0.01808726528783134, 0.015773777867294773, 0.021767813456866788, 0.1536365964274511, 0.05699591736049178, 0.01756147269225485, 0.06277963591183319, 0.09611488647138282, 0.01756147269225485, 0.0033650726116895516, 0.05342052771057163, 0.00010515851911529849, 0.9964303621538272, 0.9839027460518431, 0.09020599778856686, 0.017972076187760446, 0.05391622856328134, 0.006566720145527855, 0.0020737010985877437, 0.04562142416893036, 0.08951476408903761, 0.07569009009845265, 0.12234836481667688, 0.02523003003281755, 0.01140535604223259, 0.03490730182622702, 0.09504463368527159, 0.024884413183052925, 0.0736163889998649, 0.09124284833786073, 0.06428473405622005, 0.023501945783994428, 0.000691233699529248, 0.05080567691539972, 0.8899231735217439, 0.0847545879544518, 0.007189749038496329, 0.08627698846195594, 0.035948745192481646, 0.021569247115488986, 0.1294154826929339, 0.481713185579254, 0.021569247115488986, 0.014379498076992658, 0.1006564865389486, 0.04313849423097797, 0.0503282432694743, 0.09737370300548316, 0.076319929382676, 0.006648560091412791, 0.03144214876563966, 0.0001385116685710998, 0.04487778061703634, 0.009834328468548086, 0.0019391633599953972, 0.004986420068559593, 0.24641225838798655, 0.006371536754270591, 0.02160782029709157, 0.05734383078843532, 0.015374795211392078, 0.0019391633599953972, 0.017868005245671875, 0.039475825542763444, 0.2944758073821582, 0.0002770233371421996, 0.016482888559960877, 0.008864746788550388, 1.010973801223562, 0.0074028324908830025, 0.011104248736324504, 0.7587903303155078, 0.014805664981766005, 0.0037014162454415012, 0.022208497472649007, 0.17766797978119206, 0.0037014162454415012, 0.983709648373044, 0.05986200623092066, 0.3933788980889072, 0.538758056078286, 0.7963388353496385, 0.176964185633253, 0.005691814699200097, 0.0028459073496000485, 0.13375764543120228, 0.05122633229280087, 0.8025458725872138, 0.544305257450585, 0.04186963518850654, 0.41869635188506543, 0.12023315984714814, 0.00017006104645989834, 0.13962011914357655, 0.04234520056851469, 0.018706715110588818, 0.0013604883716791868, 0.04914764242691062, 0.015305494181390851, 0.0017006104645989836, 0.05850099998220504, 0.06394295346892179, 0.002380854650438577, 0.014965372088471054, 0.01972708138934821, 0.1651292761125613, 0.0414948953362152, 0.0013604883716791868, 0.11445108426751159, 0.037923613360557336, 0.033161904059680176, 0.017006104645989836, 0.0411547732432954, 0.9340194595666171, 0.9946504817090759, 0.9682012622384188, 0.9571910571117096, 0.027986038163178878, 0.003998005451882697, 0.01199401635564809, 0.019990027259413484, 0.09995013629706742, 0.007996010903765394, 0.02398803271129618, 0.07996010903765394, 0.019990027259413484, 0.01199401635564809, 0.6636689050125276, 0.03598204906694427, 0.9250295575317979, 0.9675761797732747, 0.7617095626146714, 0.1269515937691119, 0.06267841304136477, 0.00012053540969493226, 0.06701768779038234, 0.05412039895302458, 0.02350440489051179, 0.0008437478678645257, 0.05592843009844856, 0.0010848186872543903, 0.05809806747295735, 0.0377275832345138, 0.008919620317424987, 0.01771870522515504, 0.00012053540969493226, 0.23564672595359257, 0.163687086365718, 0.00024107081938986452, 0.057977532063262414, 0.037124906186039135, 0.05556682386936377, 0.00012053540969493226, 0.00590623507505168, 0.05520521764027897, 0.0751549073710249, 0.010598768988221461, 0.03179630696466438, 0.08768072526619572, 0.002890573360424035, 0.056847942755006015, 0.01541639125559485, 0.09249834753356911, 0.0019270489069493563, 0.20619423304358114, 0.16090858373027125, 0.03757745368551245, 0.014452866802120172, 0.01734344016254421, 0.15320038810247383, 0.025051635790341635, 0.007708195627797425, 0.002890573360424035, 0.08846129291475165, 0.04423064645737582, 0.7961516362327649, 0.02211532322868791, 0.06634596968606374, 0.29865240715477287, 0.0995508023849243, 0.05149179433702981, 0.3295474837569908, 0.17163931445676603, 0.04805900804789449, 0.9373510997896262, 0.9544365373262619, 0.18041620867697947, 0.8166207340115912, 7.213102307268262e-05, 0.09997359797873812, 0.00014426204614536523, 7.213102307268262e-05, 7.213102307268262e-05, 0.06917365112670264, 0.029862243552090606, 0.014209811545318475, 0.0012262273922356045, 0.07371790558028164, 0.03339666368265205, 0.0050491716150877835, 7.213102307268262e-05, 0.04111468315142909, 0.09492442636365032, 0.0008655722768721914, 0.012334404945428729, 0.021927831014095515, 7.213102307268262e-05, 0.10927849995511417, 0.09139000623308888, 0.0074294953764863095, 7.213102307268262e-05, 0.0755211811570987, 7.213102307268262e-05, 0.13207190324608187, 0.02452454784471209, 7.213102307268262e-05, 7.213102307268262e-05, 0.005626219799669244, 7.213102307268262e-05, 7.213102307268262e-05, 7.213102307268262e-05, 0.055540887765965614, 7.213102307268262e-05, 0.9197639009763956, 0.9918684639648382, 0.9644404572607782, 0.16056874018771464, 0.8393365964357811, 0.011740926558527345, 0.011740926558527345, 0.09392741246821876, 0.09392741246821876, 0.05870463279263673, 0.5283416951337305, 0.15263204526085547, 0.03522277967558204, 0.011740926558527345, 0.992896322537668, 0.23116796210142337, 0.0007554508565405993, 0.2047271821225024, 0.0015109017130811985, 0.016619918843893185, 0.020397173126596183, 0.003021803426162397, 0.13295935075114548, 0.38452448597916505, 0.0045327051392435955, 0.35297320620599104, 0.0044121650775748875, 0.008824330155149775, 0.6243213584768467, 0.006618247616362332, 0.06675904908854764, 0.7343495399740241, 0.20027714726564294, 0.9853397226840015, 0.9784222084500671, 0.10253533673411001, 0.8886395850289535, 0.961800443153953, 0.004718428598754183, 0.9908700057383784, 0.004718428598754183, 0.9423842163338081, 0.011228511243464492, 0.08982808994771593, 0.1347421349215739, 0.04491404497385797, 0.3705408710343282, 0.08982808994771593, 0.056142556217322455, 0.04491404497385797, 0.08982808994771593, 0.04491404497385797, 0.022457022486928983, 0.9442832780320298, 1.0035845906957934, 0.997674270210341, 0.9972449103378275, 0.01436358360471688, 0.8474514326782959, 0.11490866883773504, 0.01436358360471688, 0.997678953086073, 0.9783837044794824, 0.05397685048728187, 0.06747106310910234, 0.01012065946636535, 0.0033735531554551167, 0.016867765777275584, 0.013494212621820467, 0.10795370097456373, 0.03710908471000628, 0.006747106310910233, 0.03710908471000628, 0.05735040364273698, 0.14843633884002513, 0.11132725413001884, 0.0404826378654614, 0.25301648665913373, 0.0033735531554551167, 0.026988425243640934, 0.6941247319909083, 0.2313749106636361, 0.07712497022121204, 0.23115522915944856, 0.01475458909528395, 0.007377294547641975, 0.0024590981825473248, 0.42050578921559256, 0.007377294547641975, 0.31476456736605757, 8.845537815126176e-05, 0.05417891911764783, 4.422768907563088e-05, 0.00013268306722689262, 4.422768907563088e-05, 0.040689473949580404, 0.0504195655462192, 0.01304716827731111, 0.0008403260924369866, 0.08907456579832058, 0.06421860453781604, 0.008137894789916082, 4.422768907563088e-05, 0.06943747184874048, 0.05669989739495879, 0.09460302693277445, 0.019946687773109525, 0.015214325042017023, 8.845537815126176e-05, 0.17567238100840585, 0.04281240302521069, 0.017779531008403612, 4.422768907563088e-05, 0.03140165924369792, 8.845537815126176e-05, 0.08938415962185, 0.03387840983193325, 4.422768907563088e-05, 4.422768907563088e-05, 0.0023440675210084365, 8.845537815126176e-05, 4.422768907563088e-05, 4.422768907563088e-05, 0.029234502478992012, 4.422768907563088e-05, 0.9692409386309033, 0.028507086430320686, 0.9911900852293416, 0.08319157503502723, 0.02079789375875681, 0.04159578751751362, 0.8735115378677859, 8.826740798049248e-05, 0.10144131862158097, 4.413370399024624e-05, 0.00011033425997561558, 6.620055598536935e-05, 0.12507491710835783, 0.06737009914111088, 0.015071659912669089, 0.0019639498275659576, 0.04717892956557323, 0.019485030311693713, 0.0002648022239414774, 6.620055598536935e-05, 0.05600567036362247, 0.06964298489660856, 0.002184618347517189, 0.01083482432960545, 0.021228311619308438, 6.620055598536935e-05, 0.20862001876189395, 0.06556061727751078, 0.0003530696319219699, 6.620055598536935e-05, 0.09241597615557562, 8.826740798049248e-05, 0.01423311953685441, 0.035020094116260385, 6.620055598536935e-05, 6.620055598536935e-05, 0.00891500820602974, 6.620055598536935e-05, 6.620055598536935e-05, 6.620055598536935e-05, 0.036123436716016546, 8.826740798049248e-05, 8.087215642991695e-05, 0.13869574827730757, 0.00012130823464487543, 8.087215642991695e-05, 0.00012130823464487543, 0.053779984025894775, 0.014476116000955134, 0.01912626499567536, 0.002223984301822716, 0.08265134387137513, 0.05657007342272691, 0.00558017879366427, 8.087215642991695e-05, 0.07436194783730864, 0.05855144125525987, 0.001779187441458173, 0.016376611677058183, 0.014476116000955134, 0.00012130823464487543, 0.05721705067416624, 0.1551127960325807, 0.04512666328789366, 0.00012130823464487543, 0.06849871649613966, 8.087215642991695e-05, 0.08147869760314133, 0.015527454034544055, 8.087215642991695e-05, 8.087215642991695e-05, 0.0027496533186171764, 0.00012130823464487543, 0.00012130823464487543, 8.087215642991695e-05, 0.03433023040449974, 8.087215642991695e-05, 0.0825763453925641, 0.0825763453925641, 0.37159355426653845, 0.45416989965910254, 0.010280884500969104, 0.01256552550118446, 0.1153743705108755, 0.013707846001292137, 0.0022846410002153564, 0.0034269615003230344, 0.014850166501399817, 0.004569282000430713, 0.004569282000430713, 0.5837257755550236, 0.20219072851905903, 0.013707846001292137, 0.010280884500969104, 0.0022846410002153564, 0.006853923000646069, 0.9738475495640473, 0.9706706774185527, 0.9859706318854584, 0.9876403445359738, 0.9723959810911809, 0.968526471655162, 0.9822254644716979], \"Term\": [\"aaib\", \"abatement\", \"abatement\", \"abatement\", \"abatement\", \"abatement\", \"abatement\", \"abbey_wood_ebbsfleet\", \"abbey_wood_ebbsfleet\", \"abbey_wood_ebbsfleet\", \"abbott\", \"abbott\", \"abnormal_indivisible_load\", \"access\", \"access\", \"access\", \"access\", \"access\", \"access\", \"access\", \"access\", \"access\", \"access\", \"access\", \"access\", \"access\", \"access\", \"access\", \"access\", \"access\", \"access\", \"access\", \"access\", \"access\", \"access\", \"access_granting_exclusive\", \"accessibility_punctuality_reliability\", \"accessibility_punctuality_reliability\", \"accident\", \"accident\", \"accident\", \"accident\", \"accident\", \"accident\", \"accident\", \"accident\", \"accident\", \"accident\", \"accident\", \"accident\", \"accident\", \"accident\", \"accident\", \"accident\", \"accident\", \"accident\", \"accident\", \"accident_inquirie\", \"accident_inquirie\", \"accordance\", \"accordance\", \"accordance\", \"accordance\", \"accordance\", \"accordance\", \"accordance\", \"accordance\", \"accordance\", \"accordance\", \"accordance\", \"accordance\", \"accordance\", \"accordance\", \"accordance\", \"accordance\", \"accordance\", \"account\", \"account\", \"account\", \"account\", \"account\", \"account\", \"account\", \"account\", \"account\", \"account\", \"account\", \"account\", \"account\", \"account\", \"account\", \"account\", \"account\", \"account\", \"account\", \"account\", \"accounting\", \"accounting\", \"accounting\", \"accounting\", \"accounting\", \"accounting\", \"accounting\", \"accounting\", \"accounting\", \"accounting\", \"accounting\", \"accounting\", \"accumulative\", \"acoustic_barri\", \"acting_jointly\", \"action\", \"action\", \"action\", \"action\", \"action\", \"action\", \"action\", \"action\", \"action\", \"action\", \"action\", \"action\", \"action\", \"action\", \"action\", \"action\", \"action\", \"action\", \"action\", \"action\", \"action\", \"acton_yard\", \"actuarial_valuation\", \"adelaide\", \"adequately_appropriately\", \"adhesion\", \"adhesion\", \"administrator\", \"administrator\", \"administrator\", \"administrator\", \"administrator\", \"administrator\", \"administrator\", \"administrator\", \"administrator\", \"administrator\", \"administrator\", \"ageing_asset\", \"agency\", \"agency\", \"agency\", \"agency\", \"agency\", \"agency\", \"agency\", \"agency\", \"agency\", \"agency\", \"agency\", \"agency\", \"agency\", \"agency\", \"agency\", \"agency\", \"agency\", \"agency\", \"agency_trading_fund\", \"agree\", \"agree\", \"agree\", \"agree\", \"agree\", \"agree\", \"agree\", \"agree\", \"agree\", \"agree\", \"agree\", \"agree\", \"agree\", \"agree\", \"agree\", \"agree\", \"agree\", \"agree\", \"agree\", \"agree\", \"agree\", \"agree\", \"agree\", \"agree\", \"agree\", \"agree\", \"agree\", \"aice\", \"aircraft\", \"aircraft\", \"aircraft\", \"aircraft\", \"aircraft\", \"aircraft\", \"aircraft\", \"aircraft\", \"aircraft\", \"aircraft\", \"aircraft\", \"airport\", \"airport\", \"airport\", \"airport\", \"airport\", \"airport\", \"airport\", \"airport\", \"airport\", \"airport\", \"airport\", \"airport\", \"airport\", \"airport\", \"airport\", \"alastair\", \"alignment\", \"alignment\", \"alignment\", \"alignment\", \"alignment\", \"alignment\", \"alignment\", \"alignment\", \"alignment\", \"alignment\", \"alignment\", \"alignment\", \"allocation\", \"allocation\", \"allocation\", \"allocation\", \"allocation\", \"allocation\", \"allocation\", \"allocation\", \"allocation\", \"allocation\", \"allocation\", \"allocation\", \"allocation\", \"allocation\", \"allocation\", \"also\", \"also\", \"also\", \"also\", \"also\", \"also\", \"also\", \"also\", \"also\", \"also\", \"also\", \"also\", \"also\", \"also\", \"also\", \"also\", \"also\", \"also\", \"also\", \"also\", \"also\", \"also\", \"also\", \"also\", \"also\", \"also\", \"also\", \"also\", \"also\", \"also\", \"also\", \"also\", \"also\", \"also\", \"also\", \"alternative\", \"alternative\", \"alternative\", \"alternative\", \"alternative\", \"alternative\", \"alternative\", \"alternative\", \"alternative\", \"alternative\", \"alternative\", \"alternative\", \"alternative\", \"alternative\", \"alternative\", \"alternative\", \"alternative\", \"alternative\", \"alternative\", \"alternative\", \"alternative\", \"ambrose\", \"amendment\", \"amendment\", \"amendment\", \"amendment\", \"amendment\", \"amendment\", \"amendment\", \"amendment\", \"amendment\", \"amendment\", \"amendment\", \"amendment\", \"amendment\", \"amendment\", \"amendment\", \"amendment\", \"amount\", \"amount\", \"amount\", \"amount\", \"amount\", \"amount\", \"amount\", \"amount\", \"amount\", \"amount\", \"amount\", \"amount\", \"amount\", \"amount\", \"amount\", \"amount\", \"amount\", \"amount\", \"amount\", \"amount\", \"annual_report\", \"annual_report\", \"annual_report\", \"annual_report\", \"annual_report\", \"annual_report\", \"annual_report__full_version_page\", \"annual_report_account\", \"annual_report_account\", \"annual_report_account\", \"annual_report_account\", \"annual_report_account\", \"annual_report_account\", \"annual_report_statement_account\", \"answer\", \"answer\", \"answer\", \"answer\", \"answer\", \"answer\", \"answer\", \"answer\", \"answer\", \"answer\", \"answer\", \"answer\", \"answer\", \"answer\", \"answer\", \"answer\", \"answer\", \"answer\", \"answer\", \"answer\", \"anti_competitive_practice\", \"antisocial_behaviour_order\", \"anxiously\", \"apparatus\", \"apparatus\", \"apparatus\", \"apparatus\", \"apparatus\", \"appeal_mechanisms_exist\", \"appeared_behalf_petitioner_bircham\", \"appendix_recruitment\", \"apply\", \"apply\", \"apply\", \"apply\", \"apply\", \"apply\", \"apply\", \"apply\", \"apply\", \"apply\", \"apply\", \"apply\", \"apply\", \"apply\", \"apply\", \"apply\", \"apply\", \"apply\", \"apply\", \"apply\", \"apply\", \"appropriate\", \"appropriate\", \"appropriate\", \"appropriate\", \"appropriate\", \"appropriate\", \"appropriate\", \"appropriate\", \"appropriate\", \"appropriate\", \"appropriate\", \"appropriate\", \"appropriate\", \"appropriate\", \"appropriate\", \"appropriate\", \"appropriate\", \"appropriate\", \"appropriate\", \"appropriate\", \"apr\", \"apr\", \"april_appendix_memorandum\", \"apro\", \"arbiter\", \"arbiter\", \"arbiter\", \"arbiter\", \"arbiter\", \"arbiter\", \"arbiter\", \"area\", \"area\", \"area\", \"area\", \"area\", \"area\", \"area\", \"area\", \"area\", \"area\", \"area\", \"area\", \"area\", \"area\", \"area\", \"area\", \"area\", \"area\", \"area\", \"area\", \"area\", \"area\", \"area\", \"area\", \"area\", \"area\", \"area\", \"area\", \"area\", \"area\", \"area\", \"area\", \"area\", \"area\", \"area_unitary_authority\", \"arrangements_ought_modifie\", \"arrest\", \"arrest\", \"arrest\", \"arrest\", \"arrest\", \"arrest\", \"arrest\", \"arrest\", \"arrest\", \"arrest\", \"arrest\", \"arrest\", \"article_directive\", \"article_directive\", \"aspinwall\", \"assault\", \"assault\", \"assault\", \"assault\", \"assault\", \"assault\", \"assault\", \"assault\", \"assault\", \"assault\", \"assault\", \"assault\", \"assessment\", \"assessment\", \"assessment\", \"assessment\", \"assessment\", \"assessment\", \"assessment\", \"assessment\", \"assessment\", \"assessment\", \"assessment\", \"assessment\", \"assessment\", \"assessment\", \"assessment\", \"assessment\", \"assessment\", \"assessment\", \"assessment\", \"assessment\", \"asset\", \"asset\", \"asset\", \"asset\", \"asset\", \"asset\", \"asset\", \"asset\", \"asset\", \"asset\", \"asset\", \"asset\", \"asset\", \"asset\", \"asset\", \"asset\", \"asset\", \"asset\", \"asset\", \"assets_liabilitie\", \"assets_liabilitie\", \"assets_liabilitie\", \"assets_liabilitie\", \"athlete\", \"audited\", \"audited\", \"audited\", \"audited\", \"authorise\", \"authorise\", \"authorise\", \"authorise\", \"authorise\", \"authorise\", \"authorise\", \"authorise\", \"authorise\", \"authorise\", \"authorise\", \"authorise\", \"authorise\", \"authorise\", \"authorise\", \"authorise\", \"authorise\", \"authorise\", \"authority\", \"authority\", \"authority\", \"authority\", \"authority\", \"authority\", \"authority\", \"authority\", \"authority\", \"authority\", \"authority\", \"authority\", \"authority\", \"authority\", \"authority\", \"authority\", \"authority\", \"authority\", \"authority\", \"authority\", \"authority\", \"authority\", \"authority_request_nominate\", \"automatic_fare_collection\", \"automatic_fare_collection\", \"aviation\", \"aviation\", \"aviation\", \"aviation\", \"aviation\", \"aviation\", \"aviation\", \"aviation\", \"aviation\", \"aviation\", \"aviation\", \"back_bencher\", \"back_bencher\", \"bagier\", \"bahn\", \"bahn\", \"bame\", \"ban\", \"ban\", \"ban\", \"ban\", \"ban\", \"ban\", \"ban\", \"ban\", \"ban\", \"ban\", \"ban\", \"ban\", \"ban\", \"ban\", \"ban\", \"barton_humber_branch\", \"bayliss\", \"believe\", \"believe\", \"believe\", \"believe\", \"believe\", \"believe\", \"believe\", \"believe\", \"believe\", \"believe\", \"believe\", \"believe\", \"believe\", \"believe\", \"believe\", \"believe\", \"believe\", \"believe\", \"believe\", \"believe\", \"believe\", \"belly\", \"bench\", \"bench\", \"bench\", \"bench\", \"bench\", \"benefit\", \"benefit\", \"benefit\", \"benefit\", \"benefit\", \"benefit\", \"benefit\", \"benefit\", \"benefit\", \"benefit\", \"benefit\", \"benefit\", \"benefit\", \"benefit\", \"benefit\", \"benefit\", \"benefit\", \"benefit\", \"benefit\", \"benefit\", \"benefit\", \"benefit\", \"benefit\", \"benefit\", \"benefit\", \"benefit\", \"benefit\", \"benefit\", \"benefit\", \"benefit\", \"benefit\", \"benefit\", \"benefited\", \"benefited\", \"beneht\", \"beneht\", \"bene\\ufb01t\", \"bene\\ufb01ts\", \"bengali\", \"benzene\", \"berryman\", \"berryman\", \"berryman\", \"bertram\", \"bicknell\", \"bidder\", \"bidder\", \"bidder\", \"bidder\", \"bidder\", \"bidder\", \"bidder\", \"bidder\", \"bidder\", \"bidder\", \"bidder\", \"bidder\", \"bidwell\", \"bidwell\", \"bidwell\", \"biildocument\", \"bill\", \"bill\", \"bill\", \"bill\", \"bill\", \"bill\", \"bill\", \"bill\", \"bill\", \"bill\", \"bill\", \"bill\", \"bill\", \"bill\", \"bill\", \"bill\", \"bill\", \"bill\", \"bill\", \"black_minority_ethnic\", \"black_minority_ethnic\", \"black_minority_ethnic\", \"blacklist\", \"blaiklock\", \"blaiklock\", \"block_allocation\", \"blockade\", \"blockade\", \"blockade\", \"blockade\", \"boardroom\", \"bond\", \"bond\", \"bond\", \"bond\", \"bond\", \"bond\", \"bond\", \"bond\", \"bond\", \"bond\", \"bond\", \"bond\", \"borough\", \"borough\", \"borough\", \"borough\", \"borough\", \"borough\", \"borough\", \"borough\", \"borough\", \"borough\", \"borough\", \"borough\", \"borough\", \"borough\", \"borough\", \"borough\", \"borough\", \"borough\", \"borrowing\", \"borrowing\", \"borrowing\", \"borrowing\", \"borrowing\", \"borrowing\", \"borrowing\", \"borrowing\", \"borrowing\", \"borrowing\", \"bowi\", \"bowi\", \"bowis\", \"bowis\", \"bowis\", \"bowker\", \"bowker\", \"bowker\", \"bowker\", \"bowker\", \"bray\", \"bridge_carrye\", \"bridge_strengthening\", \"bridgeman\", \"brien\", \"brien\", \"brien\", \"brien\", \"brien\", \"brien\", \"british\", \"british\", \"british\", \"british\", \"british\", \"british\", \"british\", \"british\", \"british\", \"british\", \"british\", \"british\", \"british\", \"british\", \"british\", \"british\", \"british\", \"british\", \"british\", \"british\", \"bruce\", \"bsog\", \"btec\", \"btec\", \"buffer_stop_collision\", \"buggies_luggage\", \"build\", \"build\", \"build\", \"build\", \"build\", \"build\", \"build\", \"build\", \"build\", \"build\", \"build\", \"build\", \"build\", \"build\", \"build\", \"build\", \"build\", \"build\", \"build\", \"build\", \"build\", \"build\", \"building\", \"building\", \"building\", \"building\", \"building\", \"building\", \"building\", \"building\", \"building\", \"building\", \"building\", \"building\", \"building\", \"building\", \"building\", \"building\", \"building\", \"building\", \"building\", \"bundle_exhibit\", \"burkhardt\", \"burrow\", \"bus\", \"bus\", \"bus\", \"bus\", \"bus\", \"bus\", \"bus\", \"bus\", \"bus\", \"bus\", \"bus\", \"bus\", \"bus\", \"bus\", \"bus\", \"bus\", \"bus\", \"bus\", \"bus\", \"bus\", \"bus\", \"business\", \"business\", \"business\", \"business\", \"business\", \"business\", \"business\", \"business\", \"business\", \"business\", \"business\", \"business\", \"business\", \"business\", \"business\", \"business\", \"business\", \"business\", \"business\", \"business\", \"business\", \"business\", \"business\", \"business\", \"business\", \"business\", \"business\", \"business\", \"business\", \"business\", \"busway\", \"busway\", \"busway\", \"caborn\", \"caithness\", \"cameron_continued_quarmby\", \"cantly\", \"capacity\", \"capacity\", \"capacity\", \"capacity\", \"capacity\", \"capacity\", \"capacity\", \"capacity\", \"capacity\", \"capacity\", \"capacity\", \"capacity\", \"capacity\", \"capacity\", \"capacity\", \"capacity\", \"capacity\", \"capacity\", \"capacity\", \"capacity\", \"capacity\", \"capacity\", \"capital\", \"capital\", \"capital\", \"capital\", \"capital\", \"capital\", \"capital\", \"capital\", \"capital\", \"capital\", \"capital\", \"capital\", \"capital\", \"capital\", \"capital\", \"capital\", \"capital\", \"capital\", \"capital\", \"capital\", \"capsule\", \"carbon\", \"carbon\", \"carbon\", \"carbon\", \"carbon\", \"carbon\", \"carbon\", \"carbon\", \"card\", \"card\", \"card\", \"card\", \"card\", \"card\", \"card\", \"card\", \"card\", \"card\", \"card\", \"card\", \"card\", \"card\", \"card\", \"card\", \"cargo\", \"cargo\", \"cargo\", \"cargo\", \"cargo\", \"cargo\", \"cargo\", \"cargo\", \"carpenter\", \"carpenter\", \"carpenter\", \"carpenter\", \"carriage\", \"carriage\", \"carriage\", \"carriage\", \"carriage\", \"carriage\", \"carriage\", \"carriage\", \"carriage\", \"carriage\", \"carriage\", \"carriage\", \"carriage\", \"carriage\", \"carriage\", \"carriage\", \"carriage\", \"carriage\", \"carriage\", \"carriage\", \"carry\", \"carry\", \"carry\", \"carry\", \"carry\", \"carry\", \"carry\", \"carry\", \"carry\", \"carry\", \"carry\", \"carry\", \"carry\", \"carry\", \"carry\", \"carry\", \"carry\", \"carry\", \"carry\", \"carry\", \"carry\", \"cartledge\", \"cartledge\", \"case\", \"case\", \"case\", \"case\", \"case\", \"case\", \"case\", \"case\", \"case\", \"case\", \"case\", \"case\", \"case\", \"case\", \"case\", \"case\", \"case\", \"case\", \"case\", \"case\", \"case\", \"case\", \"case\", \"case\", \"case\", \"case\", \"case\", \"case\", \"case\", \"case\", \"case\", \"case\", \"casebourne\", \"catalytic_converter\", \"causation\", \"causation\", \"causation\", \"cause\", \"cause\", \"cause\", \"cause\", \"cause\", \"cause\", \"cause\", \"cause\", \"cause\", \"cause\", \"cause\", \"cause\", \"cause\", \"cause\", \"cause\", \"cause\", \"cause\", \"cause\", \"cause\", \"cause\", \"cause\", \"ceca\", \"ceca\", \"cent\", \"cent\", \"cent\", \"cent\", \"cent\", \"cent\", \"cent\", \"cent\", \"cent\", \"cent\", \"cent\", \"cent\", \"cent\", \"cent\", \"cent\", \"cent\", \"cent\", \"cent\", \"cent\", \"cent\", \"cent\", \"central\", \"central\", \"central\", \"central\", \"central\", \"central\", \"central\", \"central\", \"central\", \"central\", \"central\", \"central\", \"central\", \"central\", \"central\", \"central\", \"central\", \"central\", \"central\", \"central\", \"central\", \"central\", \"central\", \"central\", \"central\", \"cerne\", \"chairman\", \"chairman\", \"chairman\", \"chairman\", \"chairman\", \"chairman\", \"chairman\", \"chairman\", \"chairman\", \"chairman\", \"chairman\", \"chairman\", \"chairman\", \"chairman\", \"chairman\", \"chairman\", \"chairman\", \"chairman\", \"challenge\", \"challenge\", \"challenge\", \"challenge\", \"challenge\", \"challenge\", \"challenge\", \"challenge\", \"challenge\", \"challenge\", \"challenge\", \"challenge\", \"challenge\", \"challenge\", \"challenge\", \"challenge\", \"challenge\", \"challenge\", \"challenge\", \"challenge\", \"challis\", \"chancery_lane_incident\", \"chapter\", \"chapter\", \"chapter\", \"chapter\", \"chapter\", \"chapter\", \"chapter\", \"chapter\", \"chapter\", \"chapter\", \"chapter_aviation_shippe\", \"chard\", \"chard\", \"charge\", \"charge\", \"charge\", \"charge\", \"charge\", \"charge\", \"charge\", \"charge\", \"charge\", \"charge\", \"charge\", \"charge\", \"charge\", \"charge\", \"charge\", \"charge\", \"charge\", \"charge\", \"charge\", \"charge\", \"charm\", \"charterail\", \"chief_inspector_railway\", \"chief_inspector_railway\", \"chief_inspector_railway\", \"chief_officer\", \"chief_officer\", \"chief_officer\", \"chief_officer\", \"chris_green_euan_cameron\", \"christ_church\", \"christ_church\", \"chronic_overcrowde\", \"chronic_overcrowde\", \"chronic_overcrowde\", \"cil\", \"city\", \"city\", \"city\", \"city\", \"city\", \"city\", \"city\", \"city\", \"city\", \"city\", \"city\", \"city\", \"city\", \"city\", \"city\", \"city\", \"city\", \"city\", \"city\", \"city\", \"clause\", \"clause\", \"clause\", \"clause\", \"clause\", \"clause\", \"clause\", \"clause\", \"clause\", \"clause\", \"clause\", \"clause\", \"clause\", \"cleaning\", \"cleaning\", \"cleaning\", \"cleaning\", \"cleaning\", \"cleaning\", \"cleaning\", \"cleaning\", \"cleaning\", \"clearway\", \"clearway\", \"clearway\", \"clegg\", \"clrl\", \"clrl\", \"clrl\", \"clrl\", \"clrl\", \"clrs\", \"cmnd\", \"coal\", \"coal\", \"coal\", \"coal\", \"coal\", \"coal\", \"coal\", \"coal\", \"coal\", \"coal\", \"coal\", \"coal\", \"coal\", \"coastal_shippe\", \"coastal_shippe\", \"coastguard\", \"cochrane\", \"cocoon\", \"cocoon\", \"coleman\", \"collisions_derailment\", \"come\", \"come\", \"come\", \"come\", \"come\", \"come\", \"come\", \"come\", \"come\", \"come\", \"come\", \"come\", \"come\", \"come\", \"come\", \"come\", \"come\", \"come\", \"come\", \"come\", \"come\", \"come\", \"come\", \"come\", \"come\", \"come\", \"come\", \"come\", \"come\", \"commencing\", \"commencing\", \"commencing\", \"commencing\", \"commencing_junction\", \"commissioner_chief_officer\", \"committee\", \"committee\", \"committee\", \"committee\", \"committee\", \"committee\", \"committee\", \"committee\", \"committee\", \"committee\", \"committee\", \"committee\", \"committee\", \"committee\", \"committee\", \"committee\", \"committee\", \"committee\", \"committee\", \"committee\", \"committee\", \"committee\", \"committee\", \"committee\", \"committee\", \"committee\", \"committee\", \"committee\", \"committee\", \"community\", \"community\", \"community\", \"community\", \"community\", \"community\", \"community\", \"community\", \"community\", \"community\", \"community\", \"community\", \"community\", \"community\", \"community\", \"community\", \"community\", \"community\", \"community\", \"community\", \"community\", \"commuter\", \"commuter\", \"commuter\", \"commuter\", \"commuter\", \"commuter\", \"commuter\", \"commuter\", \"commuter\", \"commuter\", \"commuter\", \"commuter\", \"commuter\", \"commuter\", \"commuter\", \"commuter\", \"commuter\", \"commuter\", \"company\", \"company\", \"company\", \"company\", \"company\", \"company\", \"company\", \"company\", \"company\", \"company\", \"company\", \"company\", \"company\", \"company\", \"company\", \"company\", \"company\", \"company\", \"company\", \"company\", \"company\", \"comparator\", \"comparator\", \"comparator\", \"comparator\", \"comparator\", \"comparator\", \"competence\", \"competence\", \"competence\", \"competence\", \"competence\", \"competence\", \"competence\", \"competence\", \"competence\", \"competence\", \"competence\", \"competence\", \"competition\", \"competition\", \"competition\", \"competition\", \"competition\", \"competition\", \"competition\", \"competition\", \"competition\", \"competition\", \"competition\", \"competition\", \"competition\", \"competition\", \"competition\", \"competition\", \"competition\", \"competition\", \"competition\", \"competition_vertical_integration\", \"compulsorily_purchase\", \"computerisation\", \"concern\", \"concern\", \"concern\", \"concern\", \"concern\", \"concern\", \"concern\", \"concern\", \"concern\", \"concern\", \"concern\", \"concern\", \"concern\", \"concern\", \"concern\", \"concern\", \"concern\", \"concern\", \"concern\", \"concern\", \"concern\", \"concern\", \"concern\", \"concession\", \"concession\", \"concession\", \"concession\", \"concession\", \"concession\", \"concession\", \"concession\", \"concession\", \"concession\", \"concession\", \"concession\", \"concession\", \"concession\", \"concessionary\", \"concessionary\", \"concessionary\", \"concessionary\", \"concessionary\", \"concessionary\", \"concessionary_fare\", \"concessionary_fare\", \"concessionary_fare\", \"concessionary_fare\", \"concessionary_fare\", \"concessionary_fare\", \"concrete_mixer\", \"confidential_incident_reporte\", \"confidential_reporte\", \"congestion\", \"congestion\", \"congestion\", \"congestion\", \"congestion\", \"congestion\", \"congestion\", \"congestion\", \"congestion\", \"congestion\", \"congestion\", \"congestion\", \"congestion\", \"congestion\", \"congestion\", \"congestion\", \"congestion\", \"congestion\", \"congestion\", \"congestion\", \"congestion\", \"congestion_charging_workplace_parking\", \"congestion_charging_workplace_parking\", \"congratulate\", \"congratulate\", \"congratulate\", \"congratulate\", \"congratulate\", \"congratulate\", \"congratulate\", \"congratulate\", \"congratulate\", \"consent\", \"consent\", \"consent\", \"consent\", \"consent\", \"consent\", \"consent\", \"consent\", \"consent\", \"consent\", \"consent\", \"consent\", \"consent\", \"consent\", \"consent\", \"consent\", \"consent\", \"consent\", \"conservative\", \"conservative\", \"conservative\", \"conservative\", \"conservative\", \"conservative\", \"conservative\", \"conservative\", \"conservative\", \"conservative\", \"conservative\", \"conservative\", \"conservative\", \"conservative\", \"conservative\", \"conservative_party\", \"conservative_party\", \"consider\", \"consider\", \"consider\", \"consider\", \"consider\", \"consider\", \"consider\", \"consider\", \"consider\", \"consider\", \"consider\", \"consider\", \"consider\", \"consider\", \"consider\", \"consider\", \"consider\", \"consider\", \"consider\", \"consider\", \"consider\", \"consider\", \"consider\", \"consider\", \"consider\", \"consider\", \"constituency\", \"constituency\", \"constituency\", \"constituency\", \"constituency\", \"constituency\", \"constituency\", \"constituency\", \"constituency\", \"constituency\", \"constituency\", \"constituency\", \"constituent\", \"constituent\", \"constituent\", \"constituent\", \"constituent\", \"constituent\", \"constituent\", \"constituent\", \"constituent\", \"constituent\", \"constituent\", \"constituent\", \"constituent\", \"construction\", \"construction\", \"construction\", \"construction\", \"construction\", \"construction\", \"construction\", \"construction\", \"construction\", \"construction\", \"construction\", \"construction\", \"construction\", \"construction\", \"construction\", \"construction\", \"construction\", \"construction\", \"construction\", \"construction\", \"construction\", \"consumer_representation\", \"container\", \"container\", \"container\", \"container\", \"container\", \"container\", \"container\", \"container\", \"container\", \"container\", \"container\", \"container\", \"container\", \"container\", \"continue\", \"continue\", \"continue\", \"continue\", \"continue\", \"continue\", \"continue\", \"continue\", \"continue\", \"continue\", \"continue\", \"continue\", \"continue\", \"continue\", \"continue\", \"continue\", \"continue\", \"continue\", \"continue\", \"continue\", \"continue\", \"continue\", \"continue\", \"continue\", \"continue\", \"continue\", \"continued_bicknell_mckee_nickson\", \"continued_david_bayliss\", \"continuous_recorde\", \"contract\", \"contract\", \"contract\", \"contract\", \"contract\", \"contract\", \"contract\", \"contract\", \"contract\", \"contract\", \"contract\", \"contract\", \"contract\", \"contract\", \"contract\", \"contract\", \"contract\", \"contract\", \"contract\", \"contractor\", \"contractor\", \"contractor\", \"contractor\", \"contractor\", \"contractor\", \"contractor\", \"contractor\", \"contractor\", \"contractor\", \"contractor\", \"contractor\", \"contractor\", \"contractor\", \"contractor\", \"contractor\", \"contractor\", \"convention_scottish\", \"conventional\", \"conventional\", \"conventional\", \"conventional\", \"conventional\", \"conventional\", \"conventional\", \"conventional\", \"conventional\", \"conventional\", \"conventional\", \"conventional\", \"conventional\", \"conventional\", \"conventional\", \"conventional\", \"conventional\", \"conveyor_belt\", \"conveyor_belt\", \"conveyor_belt_technology\", \"con\\ufb01dence\", \"cooke\", \"cormack\", \"corporate_governance_assurance\", \"corporation\", \"corporation\", \"corporation\", \"corporation\", \"corporation\", \"corporation\", \"corporation\", \"corporation\", \"corporation\", \"corporation\", \"corporation\", \"corporation\", \"corporation\", \"corporation\", \"corporation\", \"corporation_corporation\", \"corporation_single_entity\", \"corrective_action_notice\", \"corridor\", \"corridor\", \"corridor\", \"corridor\", \"corridor\", \"corridor\", \"corridor\", \"corridor\", \"corridor\", \"corridor\", \"corridor\", \"corridor\", \"corridor\", \"corridor\", \"corridor\", \"corridor\", \"corroborate\", \"corte\", \"cosla\", \"cost\", \"cost\", \"cost\", \"cost\", \"cost\", \"cost\", \"cost\", \"cost\", \"cost\", \"cost\", \"cost\", \"cost\", \"cost\", \"cost\", \"cost\", \"cost\", \"cost\", \"cost\", \"cost\", \"cost\", \"cost\", \"cost\", \"cost\", \"cost\", \"cost\", \"cost\", \"cost\", \"cost\", \"cost\", \"cost\", \"cost\", \"cost\", \"cost\", \"cost\", \"cost\", \"couchcr\", \"coucher\", \"coucher\", \"could\", \"could\", \"could\", \"could\", \"could\", \"could\", \"could\", \"could\", \"could\", \"could\", \"could\", \"could\", \"could\", \"could\", \"could\", \"could\", \"could\", \"could\", \"could\", \"could\", \"could\", \"could\", \"could\", \"could\", \"could\", \"could\", \"could\", \"could\", \"could\", \"could\", \"could\", \"could\", \"could\", \"could\", \"coun\", \"councillor_leese\", \"count\", \"count\", \"count\", \"count\", \"count\", \"count\", \"count\", \"count\", \"count\", \"count\", \"count\", \"count\", \"count\", \"count\", \"count\", \"count\", \"count\", \"count\", \"course\", \"course\", \"course\", \"course\", \"course\", \"course\", \"course\", \"course\", \"course\", \"course\", \"course\", \"course\", \"course\", \"course\", \"course\", \"course\", \"course\", \"course\", \"course\", \"course\", \"course\", \"course\", \"course\", \"covering_broad_brush\", \"cowan\", \"creditor\", \"creditor\", \"creditor\", \"creditor\", \"creditor\", \"creditor\", \"cross_validity\", \"crossrail\", \"crossrail\", \"crossrail\", \"crossrail\", \"crossrail\", \"crossrail\", \"crossrail\", \"crossrail\", \"crossrail\", \"crossrail\", \"crossrail\", \"crossrail\", \"crossrail\", \"crossrail\", \"crossrail\", \"crossrail\", \"crossrail\", \"crossrail\", \"crossrail\", \"crossrail\", \"crossrail\", \"crossrail\", \"crossrail\", \"crossrail\", \"crossrail\", \"crossrail\", \"crossrail\", \"crossrail\", \"crossrail\", \"crossrail\", \"crossrail\", \"crossrail\", \"crossrail\", \"crossrail\", \"crossrail\", \"crossrall\", \"crowd\", \"crowd\", \"crowd\", \"crowd\", \"crowd\", \"crowd\", \"crowd\", \"crowd\", \"crowd\", \"crowd\", \"crowd\", \"crowd\", \"crowd\", \"crowd\", \"crowd\", \"crowded\", \"crowded\", \"crowded\", \"crowded\", \"crowded\", \"crowded\", \"crowded\", \"crowded\", \"crowded\", \"crowding\", \"crowding\", \"crowding\", \"crowding\", \"crowding\", \"crowding\", \"crowding\", \"crowding\", \"crowding\", \"crpssrail\", \"crucc\", \"crucc\", \"crucc\", \"crush_loading\", \"curry\", \"curry\", \"curry\", \"dangerous_good\", \"darling_david_rowland\", \"davey\", \"davey\", \"david_price\", \"david_riggs\", \"dawson\", \"dbom\", \"debate\", \"debate\", \"debate\", \"debate\", \"debate\", \"debate\", \"debate\", \"debate\", \"debate\", \"debate\", \"debate\", \"debate\", \"debate\", \"debate\", \"debate\", \"debate\", \"debate\", \"debate\", \"debt\", \"debt\", \"debt\", \"debt\", \"debt\", \"debt\", \"debt\", \"debt\", \"debt\", \"debt\", \"debt\", \"debt\", \"debt\", \"debt\", \"debt\", \"debt\", \"debtor\", \"debtor\", \"debtor\", \"decriminalised_parke\", \"defendant\", \"defendant\", \"deferred_grant\", \"defra\", \"defra\", \"defra\", \"defra\", \"defra\", \"defra\", \"deliver\", \"deliver\", \"deliver\", \"deliver\", \"deliver\", \"deliver\", \"deliver\", \"deliver\", \"deliver\", \"deliver\", \"deliver\", \"deliver\", \"deliver\", \"deliver\", \"deliver\", \"deliver\", \"deliver\", \"deliver\", \"deliver\", \"deliver\", \"deliver\", \"demand\", \"demand\", \"demand\", \"demand\", \"demand\", \"demand\", \"demand\", \"demand\", \"demand\", \"demand\", \"demand\", \"demand\", \"demand\", \"demand\", \"demand\", \"demand\", \"demand\", \"demand\", \"demand\", \"demand\", \"demand\", \"dence\", \"dence\", \"dence\", \"dence\", \"dence\", \"denude\", \"department\", \"department\", \"department\", \"department\", \"department\", \"department\", \"department\", \"department\", \"department\", \"department\", \"department\", \"department\", \"department\", \"department\", \"department\", \"department\", \"department\", \"department\", \"department\", \"department\", \"department\", \"departmental\", \"departmental\", \"departmental\", \"departmental\", \"departmental\", \"departmental\", \"departmental\", \"departmental\", \"departmental\", \"departmental\", \"depledge\", \"depreciation\", \"depreciation\", \"depreciation\", \"depreciation\", \"depreciation\", \"depreciation\", \"depreciation\", \"depreciation\", \"depreciation\", \"depreciation\", \"depreciation\", \"depreciation\", \"depreciation_release_deferred_grant\", \"depreciation_release_deferred_grant\", \"depreciation_renewal\", \"depreciation_renewal\", \"deputy_prime_minister\", \"deputy_prime_minister\", \"deputy_prime_minister\", \"deputy_prime_minister\", \"deputy_prime_minister\", \"deputy_prime_minister\", \"deputy_prime_minister\", \"deputy_prime_minister\", \"deputy_prime_minister\", \"derailment\", \"derailment\", \"derailment\", \"derailment\", \"derailment\", \"derailment\", \"derailment\", \"derailment\", \"derailment\", \"derek\", \"derek\", \"derek\", \"derek_twigg\", \"detention\", \"detention\", \"detrainment\", \"development\", \"development\", \"development\", \"development\", \"development\", \"development\", \"development\", \"development\", \"development\", \"development\", \"development\", \"development\", \"development\", \"development\", \"development\", \"development\", \"development\", \"development\", \"development\", \"development\", \"development\", \"development\", \"development\", \"development\", \"development\", \"devereux\", \"devon_county_council\", \"dial_ride\", \"dial_ride\", \"dial_ride\", \"dial_ride\", \"dial_ride\", \"dial_ride\", \"dice\", \"diesel\", \"diesel\", \"diesel\", \"diesel\", \"diesel\", \"diesel\", \"diesel\", \"diesel\", \"diesel\", \"diesel\", \"diesel\", \"diesel\", \"diesel\", \"diesel\", \"diesel\", \"diesel\", \"diesel_engine\", \"diesel_engine\", \"diesel_engine\", \"diesel_engine\", \"diesel_engine\", \"diesel_engine\", \"diesel_engine\", \"diesel_engine\", \"diesel_engine\", \"diesel_powered\", \"diesel_powered\", \"diesel_powered\", \"diesel_powered\", \"diesel_powered\", \"diesel_traction\", \"diesel_traction\", \"different_geographical\", \"different_geographical\", \"digestive_biscuit\", \"diltcrcnt\", \"director_internal_audit\", \"directorate\", \"directorate\", \"directorate\", \"directorate\", \"directorate\", \"directorate\", \"directorate\", \"directorate\", \"directorate\", \"directorate\", \"directorate\", \"directorate\", \"directorate\", \"directorate\", \"directorate\", \"distressed\", \"distribution_pattern\", \"diverting_utilitie\", \"dividend_payment\", \"dobb\", \"doc\", \"doc\", \"doc\", \"doc\", \"doc\", \"doc\", \"doc\", \"doc\", \"doc\", \"dockland\", \"dockland\", \"dockland\", \"dockland\", \"dockland\", \"dockland\", \"dockland\", \"dockland\", \"dockland\", \"dockland\", \"dockland\", \"dockland\", \"dockland\", \"dockland\", \"dockland\", \"doherty\", \"doherty\", \"donaghey_gerry_doherty_mike\", \"doncaster_cleethorpe\", \"donnelly\", \"donohoe\", \"donohoe\", \"donohoe\", \"donohoe\", \"donohoe\", \"donohoe\", \"donohoe\", \"door\", \"door\", \"door\", \"door\", \"door\", \"door\", \"door\", \"door\", \"door\", \"door\", \"door\", \"door\", \"door\", \"door\", \"door\", \"door\", \"door\", \"double_glaze\", \"dously\", \"drawbar\", \"drawbar_outfit\", \"drink_drive\", \"drink_drive\", \"drink_drive\", \"drink_drive\", \"driver_vehicle_licensing_agency\", \"driver_vehicle_licensing_agency\", \"dust\", \"dust\", \"dust\", \"dust\", \"dust\", \"dust\", \"dust\", \"dust\", \"dust\", \"dvla\", \"dvla\", \"dvla\", \"earl_attlee_lords\", \"earl_caithness_lord\", \"earl_caithness_lord\", \"eastern_portal_option\", \"eastleigh\", \"economic\", \"economic\", \"economic\", \"economic\", \"economic\", \"economic\", \"economic\", \"economic\", \"economic\", \"economic\", \"economic\", \"economic\", \"economic\", \"economic\", \"economic\", \"economic\", \"economic\", \"economic\", \"economic\", \"economic_instrument\", \"economy_efficiency_effectiveness\", \"effluxion\", \"ef\\ufb01ciency\", \"ef\\ufb01cient\", \"eifort\", \"eldon_street_blomfield_street\", \"eleanor_ferguson_gerald_collin\", \"electric\", \"electric\", \"electric\", \"electric\", \"electric\", \"electric\", \"electric\", \"electric\", \"electric\", \"electric\", \"electric\", \"electric\", \"electric\", \"electric\", \"electric\", \"electric_traction\", \"electric_traction\", \"electric_traction\", \"electric_traction\", \"electric_traction\", \"electric_traction\", \"electrically\", \"electrically\", \"electrically\", \"electrically\", \"electrically\", \"electricity\", \"electricity\", \"electricity\", \"electricity\", \"electricity\", \"electricity\", \"electricity\", \"electricity\", \"electricity\", \"electricity\", \"electricity\", \"electricity\", \"electricity\", \"electricity\", \"electricity\", \"electricity\", \"electricity\", \"electricity\", \"electricity\", \"electricity\", \"electrification\", \"electrification\", \"electrification\", \"electrification\", \"electrification\", \"electrification\", \"electrification\", \"electrification\", \"electrification\", \"electrification\", \"electrification\", \"electrification\", \"electrification\", \"electrification\", \"electrification\", \"electrification\", \"electrify\", \"electrify\", \"electrify\", \"electrify\", \"electrify\", \"electrify\", \"electrify\", \"electrify\", \"electrify\", \"electrify\", \"electrify\", \"electrify\", \"emission\", \"emission\", \"emission\", \"emission\", \"emission\", \"emission\", \"emission\", \"emission\", \"emission\", \"emission\", \"emission\", \"emission\", \"emission\", \"emission\", \"emission\", \"enct\", \"endowment\", \"enforcement\", \"enforcement\", \"enforcement\", \"enforcement\", \"enforcement\", \"enforcement\", \"enforcement\", \"enforcement\", \"enforcement\", \"enforcement\", \"enforcement\", \"enforcement\", \"enforcement\", \"enforcement\", \"enforcement\", \"enforcement\", \"enforcement\", \"enforcement\", \"enforcement\", \"enforcement_directorate_tpe\", \"enforcement_directorate_tpe\", \"enforcement_directorate_tpe\", \"enhanceable\", \"entrance\", \"entrance\", \"entrance\", \"entrance\", \"entrance\", \"entrance\", \"entrance\", \"entrance\", \"entrance\", \"entrance\", \"entrance\", \"entrance\", \"entrance\", \"entrance\", \"entrance\", \"entrance\", \"entrance\", \"environmental_statement\", \"environmental_statement\", \"environmental_statement\", \"environmental_statement\", \"eocal\", \"eocal\", \"equality_inclusion\", \"eranchise\", \"ergonomic\", \"eric_martlew_carlisle\", \"european\", \"european\", \"european\", \"european\", \"european\", \"european\", \"european\", \"european\", \"european\", \"european\", \"european\", \"european\", \"european\", \"european\", \"european\", \"european\", \"european\", \"evacuate\", \"evacuate\", \"evacuate\", \"evacuate\", \"evacuate\", \"evacuate\", \"evenness\", \"event\", \"event\", \"event\", \"event\", \"event\", \"event\", \"event\", \"event\", \"event\", \"event\", \"event\", \"event\", \"event\", \"event\", \"event\", \"event\", \"event\", \"event\", \"event\", \"event\", \"evidence\", \"evidence\", \"evidence\", \"evidence\", \"evidence\", \"evidence\", \"evidence\", \"evidence\", \"evidence\", \"evidence\", \"evidence\", \"evidence\", \"evidence\", \"evidence\", \"evidence\", \"evidence\", \"evidence\", \"evidence\", \"evidence\", \"evidence\", \"evidence\", \"evidence\", \"evidence\", \"evidence_november_alistair\", \"exclusive_franchise\", \"exercisable\", \"exercisable\", \"exercisable\", \"exercise_powers_conferre\", \"exhibit\", \"exhibit\", \"exhibit\", \"exhibit\", \"exhibit\", \"exhibit\", \"exhibit\", \"exhibit\", \"expenditure\", \"expenditure\", \"expenditure\", \"expenditure\", \"expenditure\", \"expenditure\", \"expenditure\", \"expenditure\", \"expenditure\", \"expenditure\", \"expenditure\", \"expenditure\", \"expenditure\", \"expenditure\", \"expenditure\", \"expenditure\", \"expenditure\", \"expenditure\", \"expenditure\", \"expenditure\", \"expenditure_core_table\", \"expenditure_core_table\", \"explain\", \"explain\", \"explain\", \"explain\", \"explain\", \"explain\", \"explain\", \"explain\", \"explain\", \"explain\", \"explain\", \"explain\", \"explain\", \"explain\", \"explain\", \"explain\", \"explain\", \"explain\", \"explain\", \"explain\", \"explanatory_foreword_financial\", \"extension\", \"extension\", \"extension\", \"extension\", \"extension\", \"extension\", \"extension\", \"extension\", \"extension\", \"extension\", \"extension\", \"extension\", \"extension\", \"extension\", \"extension\", \"extension\", \"extension\", \"extension\", \"extension\", \"extension\", \"extent_temporary_stoppe\", \"extraordinary_review\", \"facelift\", \"facelift\", \"facelift\", \"facelift\", \"facelift\", \"facil\", \"fact\", \"fact\", \"fact\", \"fact\", \"fact\", \"fact\", \"fact\", \"fact\", \"fact\", \"fact\", \"fact\", \"fact\", \"fact\", \"fact\", \"fact\", \"fact\", \"fact\", \"fact\", \"fact\", \"fact\", \"fact\", \"fagade\", \"fallon\", \"fallon\", \"fare\", \"fare\", \"fare\", \"fare\", \"fare\", \"fare\", \"fare\", \"fare\", \"fare\", \"fare\", \"fare\", \"fare\", \"fare\", \"fare\", \"fare\", \"fare\", \"fare\", \"fare\", \"fare\", \"fare_dodge\", \"fare_evasion\", \"fare_evasion\", \"fare_evasion\", \"fare_evasion\", \"fare_evasion\", \"fatality\", \"fatality\", \"fatality\", \"fatality\", \"fatality\", \"fatality\", \"fatality\", \"fatality\", \"fatality\", \"fatality\", \"fatality\", \"fatality\", \"fatality\", \"fearnley\", \"february_alan_greengross\", \"february_peter_masefield\", \"february_peter_masefield\", \"federal\", \"federal\", \"federal\", \"federal\", \"federal\", \"feedthrough\", \"fidi\", \"fidier\", \"fieet\", \"final\", \"final\", \"final\", \"final\", \"final\", \"final\", \"final\", \"final\", \"final\", \"final\", \"final\", \"final\", \"final\", \"final\", \"final\", \"final\", \"final\", \"final\", \"final\", \"final\", \"finance\", \"finance\", \"finance\", \"finance\", \"finance\", \"finance\", \"finance\", \"finance\", \"finance\", \"finance\", \"finance\", \"finance\", \"finance\", \"finance\", \"finance\", \"finance\", \"finance\", \"finance\", \"finance\", \"financial\", \"financial\", \"financial\", \"financial\", \"financial\", \"financial\", \"financial\", \"financial\", \"financial\", \"financial\", \"financial\", \"financial\", \"financial\", \"financial\", \"financial\", \"financial\", \"financial\", \"financial\", \"financial\", \"financial\", \"financial\", \"financial_instrument\", \"financial_instrument\", \"firanchise\", \"firanchise\", \"first\", \"first\", \"first\", \"first\", \"first\", \"first\", \"first\", \"first\", \"first\", \"first\", \"first\", \"first\", \"first\", \"first\", \"first\", \"first\", \"first\", \"first\", \"first\", \"first\", \"first\", \"first\", \"first\", \"first\", \"first\", \"first\", \"first\", \"first\", \"first\", \"first\", \"first\", \"fitzpatrick\", \"fitzpatrick\", \"fitzpatrick\", \"fixed_asset\", \"fixed_asset\", \"fixed_asset\", \"fixed_asset\", \"fixed_asset\", \"fixed_asset\", \"fixed_asset_restatement\", \"floor_wheelchair_accessible\", \"floor_wheelchair_accessible\", \"floor_wheelchair_accessible\", \"floor_wheelchair_accessible\", \"foreign\", \"foreign\", \"foreign\", \"foreign\", \"foreign\", \"foreign\", \"foreign\", \"foreign\", \"foreign\", \"foreign\", \"foreign\", \"foreign\", \"forest_gate\", \"forming_siding\", \"formulaic_funding\", \"forw\", \"fossil_fuels\", \"fossil_fuels\", \"fossil_fuels\", \"fossil_fuels\", \"foulke\", \"four_weekly\", \"four_weekly\", \"four_weekly\", \"four_weekly\", \"fqps\", \"franchi\", \"franchi\", \"franchise\", \"franchise\", \"franchise\", \"franchise\", \"franchise\", \"franchise\", \"franchise\", \"franchise\", \"franchise\", \"franchise\", \"franchise\", \"franchise\", \"franchise\", \"franchise\", \"franchise\", \"franchise\", \"franchise\", \"franchise\", \"franchise_holders_deliver\", \"franchisee\", \"franchisee\", \"franchisee\", \"franchisee\", \"franchisee\", \"franchisee\", \"franchisee\", \"franchisee\", \"franchisee\", \"franchisee\", \"franchisee\", \"franchisee\", \"franchising\", \"franchising\", \"franchising\", \"franchising\", \"franchising\", \"franchising\", \"franchising\", \"franchising\", \"franchising\", \"franchising\", \"franchising\", \"franchising_director\", \"franchising_director\", \"franchising_director\", \"franchising_director\", \"franchising_director\", \"franci\", \"frank\", \"frank\", \"frank\", \"frank\", \"fray\", \"fray\", \"fray\", \"free\", \"free\", \"free\", \"free\", \"free\", \"free\", \"free\", \"free\", \"free\", \"free\", \"free\", \"free\", \"free\", \"free\", \"free\", \"free\", \"free\", \"free\", \"free\", \"free\", \"free\", \"free_movement_good\", \"free_movement_good\", \"freight\", \"freight\", \"freight\", \"freight\", \"freight\", \"freight\", \"freight\", \"freight\", \"freight\", \"freight\", \"freight\", \"freight\", \"freight\", \"freight\", \"freight\", \"freight\", \"freight\", \"freight\", \"freight\", \"freight\", \"freight\", \"freighter\", \"freighter\", \"frenchman\", \"friel\", \"friend\", \"friend\", \"friend\", \"friend\", \"friend\", \"friend\", \"friend\", \"friend\", \"friend\", \"friend\", \"friend\", \"friend\", \"friend\", \"friend\", \"friend\", \"friend\", \"friend_member_battersea\", \"fte\", \"fte\", \"fte\", \"fuel\", \"fuel\", \"fuel\", \"fuel\", \"fuel\", \"fuel\", \"fuel\", \"fuel\", \"fuel\", \"fuel\", \"fuel\", \"fuel\", \"fuel\", \"fuel\", \"fuel\", \"fuel\", \"fuel\", \"fuel\", \"fuhr\", \"fund\", \"fund\", \"fund\", \"fund\", \"fund\", \"fund\", \"fund\", \"fund\", \"fund\", \"fund\", \"fund\", \"fund\", \"fund\", \"fund\", \"fund\", \"fund\", \"fund\", \"fund\", \"fund\", \"fund_earmarked_reserve\", \"funded_light_due\", \"funding\", \"funding\", \"funding\", \"funding\", \"funding\", \"funding\", \"funding\", \"funding\", \"funding\", \"funding\", \"funding\", \"funding\", \"funding\", \"funding\", \"funding\", \"funding\", \"funding\", \"funding\", \"funding\", \"future\", \"future\", \"future\", \"future\", \"future\", \"future\", \"future\", \"future\", \"future\", \"future\", \"future\", \"future\", \"future\", \"future\", \"future\", \"future\", \"future\", \"future\", \"future\", \"future\", \"fytche\", \"gaap\", \"gaffney\", \"gallery\", \"gallery\", \"gallery\", \"game\", \"game\", \"game\", \"game\", \"game\", \"game\", \"game\", \"game\", \"game\", \"game\", \"game\", \"garni\", \"garratt\", \"garratt\", \"garratt\", \"gateline\", \"gateline\", \"gateline\", \"gateline\", \"gateline\", \"gauge_comer_cracke\", \"general_lighthouse_authoritie\", \"gentleman\", \"gentleman\", \"gentleman\", \"gentleman\", \"gentleman\", \"gentleman\", \"gentleman\", \"gentleman\", \"gentleman\", \"gentleman\", \"gentleman\", \"gentleman\", \"gentleman\", \"gentleman\", \"george_young_philip_wood\", \"geraint_davie\", \"give\", \"give\", \"give\", \"give\", \"give\", \"give\", \"give\", \"give\", \"give\", \"give\", \"give\", \"give\", \"give\", \"give\", \"give\", \"give\", \"give\", \"give\", \"give\", \"give\", \"give\", \"give\", \"give\", \"give\", \"give\", \"give\", \"give\", \"give\", \"give\", \"give\", \"give\", \"give\", \"give\", \"give\", \"give\", \"glazing\", \"gner\", \"gner\", \"gner\", \"gner\", \"gner\", \"gner\", \"gner\", \"gner\", \"go\", \"go\", \"go\", \"go\", \"go\", \"go\", \"go\", \"go\", \"go\", \"go\", \"go\", \"go\", \"go\", \"go\", \"go\", \"go\", \"go\", \"go\", \"go\", \"go\", \"go\", \"go\", \"go\", \"go\", \"go\", \"go\", \"go\", \"go\", \"go\", \"go\", \"go\", \"go\", \"go\", \"godi\", \"godi\", \"godier\", \"godier\", \"gontinental\", \"good\", \"good\", \"good\", \"good\", \"good\", \"good\", \"good\", \"good\", \"good\", \"good\", \"good\", \"good\", \"good\", \"good\", \"good\", \"good\", \"good\", \"good\", \"good\", \"good\", \"good\", \"good\", \"good\", \"good\", \"good\", \"good\", \"good\", \"good\", \"good\", \"good\", \"good\", \"goole\", \"goshchalk\", \"goulcher\", \"government\", \"government\", \"government\", \"government\", \"government\", \"government\", \"government\", \"government\", \"government\", \"government\", \"government\", \"government\", \"government\", \"government\", \"government\", \"government\", \"government\", \"government\", \"government\", \"government\", \"government\", \"government\", \"government\", \"government\", \"government\", \"government\", \"government\", \"government\", \"government\", \"government\", \"government\", \"government\", \"government\", \"government\", \"government\", \"grade\", \"grade\", \"grade\", \"grade\", \"grade\", \"grade\", \"grade\", \"grade\", \"grade\", \"grade\", \"grade\", \"grade\", \"grade\", \"grade\", \"grade\", \"grade_princelet_street\", \"grainger\", \"grant\", \"grant\", \"grant\", \"grant\", \"grant\", \"grant\", \"grant\", \"grant\", \"grant\", \"grant\", \"grant\", \"grant\", \"grant\", \"grant\", \"grant\", \"grant\", \"grant\", \"grant\", \"grant\", \"grant\", \"grateful\", \"grateful\", \"grateful\", \"grateful\", \"grateful\", \"grateful\", \"grateful\", \"grateful\", \"grateful\", \"grateful\", \"grateful\", \"grateful\", \"grateful\", \"grateful\", \"grateful\", \"grateful\", \"grateful\", \"grateful\", \"great\", \"great\", \"great\", \"great\", \"great\", \"great\", \"great\", \"great\", \"great\", \"great\", \"great\", \"great\", \"great\", \"great\", \"great\", \"great\", \"great\", \"great\", \"great\", \"great\", \"great\", \"great\", \"great\", \"great\", \"great\", \"great\", \"great\", \"greengross\", \"greenwich_woolwich_raynsford\", \"gregory\", \"grenoble\", \"grief\", \"grief\", \"grief\", \"group\", \"group\", \"group\", \"group\", \"group\", \"group\", \"group\", \"group\", \"group\", \"group\", \"group\", \"group\", \"group\", \"group\", \"group\", \"group\", \"group\", \"group\", \"group\", \"group\", \"group\", \"growth\", \"growth\", \"growth\", \"growth\", \"growth\", \"growth\", \"growth\", \"growth\", \"growth\", \"growth\", \"growth\", \"growth\", \"growth\", \"growth\", \"growth\", \"growth\", \"growth\", \"growth\", \"growth\", \"growth\", \"guidance\", \"guidance\", \"guidance\", \"guidance\", \"guidance\", \"guidance\", \"guidance\", \"guidance\", \"guidance\", \"guidance\", \"guidance\", \"guidance\", \"guidance\", \"guidance\", \"guidance\", \"guidance\", \"guide\", \"guide\", \"guide\", \"guide\", \"guide\", \"guide\", \"guide\", \"guide\", \"guide\", \"guide\", \"guide\", \"guide\", \"guide\", \"guide\", \"guide\", \"guide\", \"guide\", \"guide\", \"guided_busway\", \"guided_busway\", \"guideway\", \"guideway\", \"guideway\", \"gwyneth_dunwoody_crewe_nantwich\", \"hanbury_street_shaft\", \"hanbury_street_shaft\", \"hanbury_street_shaft\", \"handhold\", \"harassment\", \"hard_shoulder_runne\", \"harrogate_leed\", \"hat\\ufb01eld\", \"haulage\", \"haulage\", \"haulage\", \"haulage\", \"haulage\", \"haulage\", \"haulage\", \"haulage\", \"haulage\", \"haulage\", \"haulage\", \"headcount\", \"headcount\", \"hear\", \"hear\", \"hear\", \"hear\", \"hear\", \"hear\", \"hear\", \"hear\", \"hear\", \"hear\", \"hear\", \"hear\", \"hear\", \"hear\", \"hear\", \"hear\", \"hear\", \"hear\", \"hear\", \"hear\", \"heavy\", \"heavy\", \"heavy\", \"heavy\", \"heavy\", \"heavy\", \"heavy\", \"heavy\", \"heavy\", \"heavy\", \"heavy\", \"heavy\", \"heavy\", \"heavy\", \"heavy\", \"heavy\", \"heavy\", \"heavy\", \"hebride\", \"hebride\", \"helmet\", \"hennelly\", \"high\", \"high\", \"high\", \"high\", \"high\", \"high\", \"high\", \"high\", \"high\", \"high\", \"high\", \"high\", \"high\", \"high\", \"high\", \"high\", \"high\", \"high\", \"high\", \"high\", \"high\", \"high\", \"high\", \"highway\", \"highway\", \"highway\", \"highway\", \"highway\", \"highway\", \"highway\", \"highway\", \"highway\", \"highway\", \"highway\", \"highway\", \"highway\", \"highway\", \"highway\", \"hlo\", \"hlo\", \"hobb\", \"hoggarth\", \"holborn\", \"holborn\", \"holborn\", \"holborn_viaduct\", \"holden\", \"home_affair\", \"home_secretary\", \"home_secretary\", \"home_secretary\", \"home_secretary\", \"homelessness\", \"honourable_friend\", \"hope\", \"hope\", \"hope\", \"hope\", \"hope\", \"hope\", \"hope\", \"hope\", \"hope\", \"hope\", \"hope\", \"hope\", \"hope\", \"hope\", \"hope\", \"hope\", \"hope\", \"hope\", \"hope\", \"horlick_jone\", \"house\", \"house\", \"house\", \"house\", \"house\", \"house\", \"house\", \"house\", \"house\", \"house\", \"house\", \"house\", \"house\", \"house\", \"house\", \"house\", \"house\", \"house\", \"house\", \"house\", \"house\", \"house_commons_parliamentary_paper\", \"house_commons_parliamentary_paper\", \"house_commons_parliamentary_paper\", \"house_commons_parliamentary_paper\", \"house_commons_parliamentary_paper\", \"house_commons_parliamentary_paper\", \"house_commons_parliamentary_paper\", \"house_commons_parliamentary_paper\", \"house_commons_parliamentary_paper\", \"house_commons_parliamentary_paper\", \"house_commons_parliamentary_paper\", \"house_commons_parliamentary_paper\", \"house_commons_parliamentary_paper\", \"house_commons_parliamentary_paper\", \"house_commons_parliamentary_paper\", \"house_commons_parliamentary_paper\", \"houses_multiple_occupation\", \"housing\", \"housing\", \"housing\", \"housing\", \"housing\", \"housing\", \"housing\", \"housing\", \"housing\", \"housing\", \"housing\", \"housing\", \"housing\", \"housing\", \"housing\", \"housing\", \"housing\", \"however\", \"however\", \"however\", \"however\", \"however\", \"however\", \"however\", \"however\", \"however\", \"however\", \"however\", \"however\", \"however\", \"however\", \"however\", \"however\", \"however\", \"however\", \"however\", \"however\", \"however\", \"however\", \"however\", \"however\", \"howi\", \"hucknall\", \"hunter\", \"hunter_avenue\", \"hybrid_bill\", \"identihe\", \"identihe\", \"identihe\", \"illegal_immigrant\", \"illegally_parked_vehicle\", \"illus\", \"immigration\", \"immigration\", \"immigration\", \"immigration\", \"immigration\", \"immigration\", \"impact\", \"impact\", \"impact\", \"impact\", \"impact\", \"impact\", \"impact\", \"impact\", \"impact\", \"impact\", \"impact\", \"impact\", \"impact\", \"impact\", \"impact\", \"impact\", \"impact\", \"impact\", \"impact\", \"impact\", \"impact\", \"impact\", \"important\", \"important\", \"important\", \"important\", \"important\", \"important\", \"important\", \"important\", \"important\", \"important\", \"important\", \"important\", \"important\", \"important\", \"important\", \"important\", \"important\", \"important\", \"important\", \"important\", \"important\", \"important\", \"important\", \"important\", \"important\", \"important\", \"improve\", \"improve\", \"improve\", \"improve\", \"improve\", \"improve\", \"improve\", \"improve\", \"improve\", \"improve\", \"improve\", \"improve\", \"improve\", \"improve\", \"improve\", \"improve\", \"improve\", \"improve\", \"improve\", \"improve\", \"improve\", \"improve\", \"improve\", \"improve\", \"improve\", \"improve\", \"improve\", \"improve\", \"improve\", \"improve\", \"improvement\", \"improvement\", \"improvement\", \"improvement\", \"improvement\", \"improvement\", \"improvement\", \"improvement\", \"improvement\", \"improvement\", \"improvement\", \"improvement\", \"improvement\", \"improvement\", \"improvement\", \"improvement\", \"improvement\", \"improvement\", \"improvement\", \"improvement\", \"improvement\", \"improvement\", \"improvement\", \"improvement\", \"improvement\", \"improvement\", \"impute\", \"incident\", \"incident\", \"incident\", \"incident\", \"incident\", \"incident\", \"incident\", \"incident\", \"incident\", \"incident\", \"incident\", \"incident\", \"incident\", \"incident\", \"incident\", \"incident\", \"incident\", \"include\", \"include\", \"include\", \"include\", \"include\", \"include\", \"include\", \"include\", \"include\", \"include\", \"include\", \"include\", \"include\", \"include\", \"include\", \"include\", \"include\", \"include\", \"include\", \"include\", \"include\", \"include\", \"include\", \"include\", \"include\", \"include\", \"include\", \"include\", \"include\", \"include\", \"income\", \"income\", \"income\", \"income\", \"income\", \"income\", \"income\", \"income\", \"income\", \"income\", \"income\", \"income\", \"income\", \"income\", \"income\", \"income\", \"income\", \"income\", \"incrca\", \"incrca\", \"increase\", \"increase\", \"increase\", \"increase\", \"increase\", \"increase\", \"increase\", \"increase\", \"increase\", \"increase\", \"increase\", \"increase\", \"increase\", \"increase\", \"increase\", \"increase\", \"increase\", \"increase\", \"increase\", \"increase\", \"increase\", \"increase\", \"increase\", \"increase\", \"increase\", \"increase\", \"increase\", \"increase\", \"increase\", \"increase\", \"increase\", \"increase\", \"increase\", \"increase\", \"increase\", \"industrial\", \"industrial\", \"industrial\", \"industrial\", \"industrial\", \"industrial\", \"industrial\", \"industrial\", \"industrial\", \"industrial\", \"industrial\", \"industrial\", \"industrial\", \"industrial\", \"industrial\", \"industrial\", \"industrial\", \"industrial\", \"industry\", \"industry\", \"industry\", \"industry\", \"industry\", \"industry\", \"industry\", \"industry\", \"industry\", \"industry\", \"industry\", \"industry\", \"industry\", \"industry\", \"industry\", \"industry\", \"industry\", \"industry\", \"industry\", \"industry\", \"industry\", \"inessential\", \"inessential\", \"inffaco\", \"informant\", \"information\", \"information\", \"information\", \"information\", \"information\", \"information\", \"information\", \"information\", \"information\", \"information\", \"information\", \"information\", \"information\", \"information\", \"information\", \"information\", \"information\", \"information\", \"information\", \"information_learning_company\", \"information_learning_company\", \"information_learning_company\", \"information_learning_company\", \"information_learning_company\", \"information_learning_company\", \"infraco\", \"infraco\", \"infraco\", \"infracos\", \"infracos\", \"infrastructure\", \"infrastructure\", \"infrastructure\", \"infrastructure\", \"infrastructure\", \"infrastructure\", \"infrastructure\", \"infrastructure\", \"infrastructure\", \"infrastructure\", \"infrastructure\", \"infrastructure\", \"infrastructure\", \"infrastructure\", \"infrastructure\", \"infrastructure\", \"infrastructure\", \"infrastructure\", \"infrastructure\", \"infrastructure\", \"infrastructure\", \"infrastructure\", \"inland\", \"inland\", \"inland\", \"inland\", \"inland\", \"inland_waterway_shippe\", \"inner\", \"inner\", \"inner\", \"inner\", \"inner\", \"inner\", \"inner\", \"inner\", \"inner\", \"inner\", \"inner\", \"inner\", \"inner\", \"inner\", \"inner\", \"inner\", \"innovation\", \"innovation\", \"innovation\", \"innovation\", \"innovation\", \"innovation\", \"innovation\", \"innovation\", \"innovation\", \"innovation\", \"innovation\", \"innovation\", \"innovation\", \"innovation\", \"innovation_fund_productivity_stream\", \"inquiry\", \"inquiry\", \"inquiry\", \"inquiry\", \"inquiry\", \"inquiry\", \"inquiry\", \"inquiry\", \"inquiry\", \"inquiry\", \"inquiry\", \"inquiry\", \"inquiry\", \"inquiry\", \"inquiry\", \"inquiry\", \"inquiry\", \"inquiry\", \"integrate\", \"integrate\", \"integrate\", \"integrate\", \"integrate\", \"integrate\", \"integrate\", \"integrate\", \"integrate\", \"integrate\", \"integrate\", \"integrate\", \"integrate\", \"integrate\", \"integrate\", \"integrate\", \"integrate\", \"integrate\", \"integrate\", \"integrate\", \"integration\", \"integration\", \"integration\", \"integration\", \"integration\", \"integration\", \"integration\", \"integration\", \"integration\", \"integration\", \"integration\", \"integration\", \"integration\", \"integration\", \"integration\", \"integration\", \"integration\", \"inter_urban_trunk_road\", \"intercept\", \"intercept\", \"intercept\", \"interchange\", \"interchange\", \"interchange\", \"interchange\", \"interchange\", \"interchange\", \"interchange\", \"interchange\", \"interchange\", \"interchange\", \"interchange\", \"interchange\", \"interchange\", \"interchange\", \"interchange\", \"interchange\", \"interchange\", \"intercity\", \"intercity\", \"intercity\", \"intercity\", \"intercity\", \"intercity\", \"intercity\", \"intercity\", \"intercity\", \"intercity\", \"intercity\", \"intercity\", \"intercity\", \"intercity\", \"intercity\", \"interest\", \"interest\", \"interest\", \"interest\", \"interest\", \"interest\", \"interest\", \"interest\", \"interest\", \"interest\", \"interest\", \"interest\", \"interest\", \"interest\", \"interest\", \"interest\", \"interest\", \"interest\", \"interest\", \"interest\", \"interest\", \"interim_olympic\", \"international_civil_aviation\", \"international_maritime_organization\", \"interrogate\", \"investment\", \"investment\", \"investment\", \"investment\", \"investment\", \"investment\", \"investment\", \"investment\", \"investment\", \"investment\", \"investment\", \"investment\", \"investment\", \"investment\", \"investment\", \"investment\", \"investment\", \"investment\", \"investment\", \"investment\", \"investment\", \"investment\", \"investment\", \"investment\", \"investment\", \"investment\", \"investment\", \"investment\", \"investment\", \"investment\", \"investment\", \"investment\", \"investment\", \"investment\", \"ipcs\", \"irregularly\", \"isbn_available\", \"isbn_available\", \"issue\", \"issue\", \"issue\", \"issue\", \"issue\", \"issue\", \"issue\", \"issue\", \"issue\", \"issue\", \"issue\", \"issue\", \"issue\", \"issue\", \"issue\", \"issue\", \"issue\", \"issue\", \"issue\", \"issue\", \"issue\", \"issue\", \"issue\", \"issue\", \"issue\", \"issue\", \"issue\", \"issue\", \"issue\", \"issue\", \"issue\", \"itso\", \"itso\", \"itso_compliant\", \"iver\", \"july_isbn_available\", \"keith_ludeman_continue\", \"kemp\", \"kensington_chelsea_portillo\", \"kirkwood\", \"knapp\", \"know\", \"know\", \"know\", \"know\", \"know\", \"know\", \"know\", \"know\", \"know\", \"know\", \"know\", \"know\", \"know\", \"know\", \"know\", \"know\", \"know\", \"know\", \"know\", \"know\", \"know\", \"know\", \"know\", \"know\", \"know\", \"know\", \"know\", \"know\", \"ksis\", \"labour\", \"labour\", \"labour\", \"labour\", \"labour\", \"labour\", \"labour\", \"labour\", \"labour\", \"labour\", \"labour\", \"labour\", \"labour\", \"labour\", \"labour\", \"labour\", \"labour\", \"labour_party\", \"lack_standardisation\", \"lady\", \"lady\", \"lady\", \"lady\", \"lady\", \"lady\", \"lady\", \"lady\", \"ladyman\", \"ladyman\", \"ladyman\", \"lambirth\", \"land\", \"land\", \"land\", \"land\", \"land\", \"land\", \"land\", \"land\", \"land\", \"land\", \"land\", \"land\", \"land\", \"land\", \"land\", \"land\", \"land\", \"land\", \"land\", \"land\", \"land_acquired_use\", \"land_shown_deposite\", \"last\", \"last\", \"last\", \"last\", \"last\", \"last\", \"last\", \"last\", \"last\", \"last\", \"last\", \"last\", \"last\", \"last\", \"last\", \"last\", \"last\", \"last\", \"last\", \"last\", \"last\", \"last\", \"launch\", \"launch\", \"launch\", \"launch\", \"launch\", \"launch\", \"launch\", \"launch\", \"launch\", \"launch\", \"launch\", \"launch\", \"launch\", \"launch\", \"launch\", \"launch\", \"launch\", \"lawfulness\", \"lcb\", \"lcci\", \"lcci\", \"lcci\", \"lease\", \"lease\", \"lease\", \"lease\", \"lease\", \"lease\", \"lease\", \"lease\", \"lease\", \"lease\", \"lease\", \"lease\", \"lease\", \"lease\", \"lease\", \"leasing\", \"leasing\", \"leasing\", \"leasing\", \"leasing\", \"leasing\", \"leasing\", \"leasing\", \"leasing\", \"leave_withdraw_amendment\", \"leeder\", \"leeder\", \"leeds_halifax_blackpool\", \"leeds_south_hampshire\", \"left_hand_corn\", \"legacy\", \"legacy\", \"legacy\", \"legacy\", \"legacy\", \"legacy\", \"legacy\", \"legacy\", \"legacy\", \"legacy\", \"legal_proceeding\", \"legal_proceeding\", \"legal_proceeding\", \"legislation\", \"legislation\", \"legislation\", \"legislation\", \"legislation\", \"legislation\", \"legislation\", \"legislation\", \"legislation\", \"legislation\", \"legislation\", \"legislation\", \"legislation\", \"legislation\", \"legislation\", \"legislation\", \"legislation\", \"legislation\", \"legislation\", \"lender\", \"lender\", \"lender\", \"lender\", \"lender\", \"lender\", \"lessor\", \"lessor\", \"lessor\", \"letter\", \"letter\", \"letter\", \"letter\", \"letter\", \"letter\", \"letter\", \"letter\", \"letter\", \"letter\", \"letter\", \"letter\", \"letter\", \"letter\", \"letter\", \"letter\", \"letter\", \"level\", \"level\", \"level\", \"level\", \"level\", \"level\", \"level\", \"level\", \"level\", \"level\", \"level\", \"level\", \"level\", \"level\", \"level\", \"level\", \"level\", \"level\", \"level\", \"level\", \"level\", \"level\", \"level\", \"level\", \"level\", \"level\", \"level\", \"level\", \"level\", \"level\", \"level\", \"level_output_specification\", \"level_output_specification\", \"level_output_specification\", \"level_output_specification\", \"level_playing_held\", \"level_playing_held\", \"lewisham_extension\", \"lgms\", \"liability\", \"liability\", \"liability\", \"liability\", \"liability\", \"liability\", \"liability\", \"liability\", \"liability\", \"liability\", \"liability\", \"liability\", \"liability\", \"liability\", \"liability\", \"liability\", \"liability\", \"liability\", \"liberal\", \"liberal\", \"liberal\", \"liberal\", \"liberal\", \"liberal\", \"liberal\", \"liberal_democrat\", \"liberal_democrat\", \"liberal_democrat\", \"licence\", \"licence\", \"licence\", \"licence\", \"licence\", \"licence\", \"licence\", \"licence\", \"licence\", \"licence\", \"licence\", \"licence\", \"licence\", \"licence\", \"licence\", \"licence\", \"licence\", \"licence\", \"lieven\", \"lieven\", \"light\", \"light\", \"light\", \"light\", \"light\", \"light\", \"light\", \"light\", \"light\", \"light\", \"light\", \"light\", \"light\", \"light\", \"light\", \"light\", \"light\", \"light\", \"light\", \"light\", \"light\", \"light_rapid_transit\", \"light_rapid_transit\", \"light_rapid_transit\", \"limits_land_acquire\", \"limits_land_acquire\", \"line\", \"line\", \"line\", \"line\", \"line\", \"line\", \"line\", \"line\", \"line\", \"line\", \"line\", \"line\", \"line\", \"line\", \"line\", \"line\", \"line\", \"line\", \"line\", \"line\", \"line\", \"line\", \"line\", \"line\", \"line\", \"line\", \"line\", \"line\", \"line\", \"line\", \"line\", \"line\", \"line\", \"line\", \"line\", \"lineside\", \"lineside\", \"lineside\", \"linewd\", \"linewd\", \"lingard\", \"linington\", \"link\", \"link\", \"link\", \"link\", \"link\", \"link\", \"link\", \"link\", \"link\", \"link\", \"link\", \"link\", \"link\", \"link\", \"link\", \"link\", \"link\", \"link\", \"link\", \"link\", \"link\", \"link\", \"link\", \"link\", \"link\", \"link\", \"link\", \"link_video_tape\", \"liquidity\", \"liquidity\", \"liquidity\", \"load_unload\", \"load_unload\", \"loading\", \"loading\", \"loading\", \"loading\", \"loading\", \"loading\", \"loading\", \"loading\", \"loading\", \"loading\", \"loading\", \"loading\", \"loading\", \"loading\", \"loading\", \"loading\", \"loading_bay\", \"loan_facility\", \"local\", \"local\", \"local\", \"local\", \"local\", \"local\", \"local\", \"local\", \"local\", \"local\", \"local\", \"local\", \"local\", \"local\", \"local\", \"local\", \"local\", \"local\", \"local\", \"local\", \"local\", \"local\", \"local\", \"local\", \"local\", \"local\", \"local\", \"local\", \"local\", \"local\", \"local\", \"local\", \"local\", \"local\", \"locke\", \"logarithmic\", \"logistic\", \"logistic\", \"logistic\", \"logistic\", \"logistic\", \"logistic\", \"logistic\", \"logistic\", \"logistic\", \"logistic\", \"londoner\", \"londoner\", \"londoner\", \"londoner\", \"londoner\", \"londoner\", \"londoner\", \"londoner\", \"londoner\", \"londoner\", \"londoner\", \"londoner\", \"londoner\", \"londoner\", \"londoner\", \"long\", \"long\", \"long\", \"long\", \"long\", \"long\", \"long\", \"long\", \"long\", \"long\", \"long\", \"long\", \"long\", \"long\", \"long\", \"long\", \"long\", \"long\", \"long\", \"long\", \"long\", \"longer_heavi\", \"look\", \"look\", \"look\", \"look\", \"look\", \"look\", \"look\", \"look\", \"look\", \"look\", \"look\", \"look\", \"look\", \"look\", \"look\", \"look\", \"look\", \"look\", \"look\", \"look\", \"look\", \"look\", \"look\", \"look\", \"look\", \"lord\", \"lord\", \"lord\", \"lord\", \"lord\", \"lord\", \"lord\", \"lord\", \"lord\", \"lord\", \"lord\", \"lord\", \"lord\", \"lord\", \"lord\", \"lord\", \"lord\", \"lord_belstead_lord\", \"lord_brabazon_tara_lord\", \"lord_brabazon_tara_lord\", \"lord_clinton_davis_lord\", \"lord_clinton_davis_lord\", \"lord_clinton_davis_lord\", \"lord_davies_oldham\", \"lord_faulkner_worcester_lord\", \"lord_faulkner_worcester_lord\", \"lord_faulkner_worcester_lord\", \"lord_mackay_ardbrecknish_lord\", \"lord_mackay_ardbrecknish_lord\", \"lord_whitty_lord\", \"lord_whitty_lord\", \"lordship\", \"lordship\", \"lordship\", \"lordship\", \"lordship\", \"lorrie\", \"lorrie\", \"lorrie\", \"lorrie\", \"lorrie\", \"lorrie\", \"lorrie\", \"lorrie\", \"lorrie\", \"lorrie\", \"lorrie\", \"lorrie\", \"lorry\", \"lorry\", \"lorry\", \"lorry\", \"lorry\", \"lorry\", \"lorry\", \"lorry\", \"lorry\", \"lorry\", \"lorry\", \"lorry\", \"lorry\", \"lorry\", \"lorry_ban\", \"lorry_ban\", \"lrvs\", \"ltpl\", \"ltps\", \"ltps\", \"ltps\", \"ludeman\", \"ludgate\", \"maib\", \"main_obstacles_implementation\", \"majesty\", \"majesty\", \"majesty\", \"majesty\", \"majesty\", \"majesty\", \"majesty\", \"majesty\", \"majesty\", \"majesty\", \"majesty\", \"majesty\", \"major\", \"major\", \"major\", \"major\", \"major\", \"major\", \"major\", \"major\", \"major\", \"major\", \"major\", \"major\", \"major\", \"major\", \"major\", \"major\", \"major\", \"major\", \"major\", \"major\", \"major\", \"major\", \"major\", \"major\", \"major\", \"major\", \"major\", \"major\", \"major\", \"make\", \"make\", \"make\", \"make\", \"make\", \"make\", \"make\", \"make\", \"make\", \"make\", \"make\", \"make\", \"make\", \"make\", \"make\", \"make\", \"make\", \"make\", \"make\", \"make\", \"make\", \"make\", \"make\", \"make\", \"make\", \"make\", \"make\", \"make\", \"make\", \"make\", \"make\", \"make\", \"make\", \"make\", \"make\", \"making_choices_locally\", \"malicious_act\", \"management\", \"management\", \"management\", \"management\", \"management\", \"management\", \"management\", \"management\", \"management\", \"management\", \"management\", \"management\", \"management\", \"management\", \"management\", \"management\", \"management\", \"management\", \"management\", \"management\", \"management\", \"manager\", \"manager\", \"manager\", \"manager\", \"manager\", \"manager\", \"manager\", \"manager\", \"manager\", \"manager\", \"manager\", \"manager\", \"manager\", \"manager\", \"manager\", \"manager\", \"manager\", \"manchester\", \"manchester\", \"manchester\", \"manchester\", \"manchester\", \"manchester\", \"manchester\", \"manchester\", \"manchester\", \"manchester\", \"manchester\", \"manchester\", \"manchester\", \"manchester\", \"manchester\", \"manchester_ship_canal\", \"manchester_ship_canal\", \"manchester_ship_canal\", \"manslaughter\", \"many\", \"many\", \"many\", \"many\", \"many\", \"many\", \"many\", \"many\", \"many\", \"many\", \"many\", \"many\", \"many\", \"many\", \"many\", \"many\", \"many\", \"many\", \"many\", \"many\", \"many\", \"many\", \"many\", \"many\", \"many\", \"many\", \"many\", \"many\", \"many\", \"many\", \"mapp\", \"march\", \"march\", \"march\", \"march\", \"march\", \"march\", \"march\", \"march\", \"march\", \"march\", \"march\", \"march\", \"march\", \"march\", \"march\", \"march_david_howell\", \"maritime\", \"maritime\", \"maritime\", \"maritime\", \"maritime\", \"maritime\", \"maritime_coastguard_agency\", \"maritime_coastguard_agency\", \"maritime_coastguard_agency\", \"maritime_coastguard_agency\", \"maritime_coastguard_agency\", \"mark_suzanne_lancaster\", \"market\", \"market\", \"market\", \"market\", \"market\", \"market\", \"market\", \"market\", \"market\", \"market\", \"market\", \"market\", \"market\", \"market\", \"market\", \"market\", \"market\", \"market\", \"market\", \"market\", \"matter\", \"matter\", \"matter\", \"matter\", \"matter\", \"matter\", \"matter\", \"matter\", \"matter\", \"matter\", \"matter\", \"matter\", \"matter\", \"matter\", \"matter\", \"matter\", \"matter\", \"matter\", \"matter\", \"matter\", \"matter\", \"matter\", \"matter\", \"matter\", \"matthew\", \"mawhinney\", \"mayor\", \"mayor\", \"mayor\", \"mayor\", \"mayor\", \"mayor\", \"mayor\", \"mayor\", \"mayor\", \"mayor\", \"mayor\", \"mayor\", \"mayor\", \"mayor\", \"mayor\", \"mayor\", \"mayoral_candidate\", \"mcallister\", \"mcintyre\", \"mcnulty\", \"mcnulty\", \"mcnulty\", \"mcnulty\", \"mcnulty\", \"mcnulty\", \"mcnulty\", \"mctavish\", \"measure\", \"measure\", \"measure\", \"measure\", \"measure\", \"measure\", \"measure\", \"measure\", \"measure\", \"measure\", \"measure\", \"measure\", \"measure\", \"measure\", \"measure\", \"measure\", \"measure\", \"measure\", \"measure\", \"measure\", \"measure\", \"melrose\", \"melrose\", \"member\", \"member\", \"member\", \"member\", \"member\", \"member\", \"member\", \"member\", \"member\", \"member\", \"member\", \"member\", \"member\", \"member\", \"member\", \"member\", \"member\", \"member\", \"member\", \"member\", \"member\", \"member\", \"member_bath_foster\", \"member_brent_east\", \"member_chipping_barnet\", \"ment\", \"ment\", \"ment\", \"ment\", \"ment\", \"ment\", \"ment\", \"ment\", \"ment\", \"ment\", \"ment\", \"merchant_shippe\", \"mesmerise\", \"metcalfe\", \"methold\", \"methold\", \"metre\", \"metre\", \"metre\", \"metre\", \"metre\", \"metre\", \"metre\", \"metre\", \"metre\", \"metre\", \"metre\", \"metre\", \"metres_diameter\", \"metro_politan\", \"metrolink\", \"metrolink\", \"metrolink\", \"metrolink\", \"metrolink\", \"metrolink\", \"metrolink\", \"metronef\", \"metronep\", \"metronet\", \"metronet\", \"metronet\", \"metronet\", \"metronet\", \"metropolitan_district\", \"michael_lyon\", \"michael_lyon\", \"michael_lyon\", \"midibuse\", \"midwinter\", \"migrant\", \"migrant\", \"migration\", \"migration\", \"migration\", \"migration\", \"migration\", \"mileage_operate\", \"mileage_operate\", \"mileage_operate\", \"miller\", \"millimetre\", \"millimetre\", \"min\", \"min\", \"min\", \"min\", \"minister\", \"minister\", \"minister\", \"minister\", \"minister\", \"minister\", \"minister\", \"minister\", \"minister\", \"minister\", \"minister\", \"minister\", \"minister\", \"minister\", \"minister\", \"minister\", \"minister\", \"minister\", \"miuion\", \"mode\", \"mode\", \"mode\", \"mode\", \"mode\", \"mode\", \"mode\", \"mode\", \"mode\", \"mode\", \"mode\", \"mode\", \"mode\", \"mode\", \"mode\", \"mode\", \"mode\", \"mode\", \"mode\", \"modern_smartcard_technologie\", \"modern_trams_britain\", \"mondeo\", \"money\", \"money\", \"money\", \"money\", \"money\", \"money\", \"money\", \"money\", \"money\", \"money\", \"money\", \"money\", \"money\", \"money\", \"money\", \"money\", \"money\", \"money\", \"money\", \"money\", \"money\", \"monopoly\", \"monopoly\", \"monopoly\", \"monopoly\", \"monopoly\", \"monopoly\", \"monopoly\", \"monopoly\", \"monopoly\", \"morgan\", \"morgan\", \"motion\", \"motion\", \"motion\", \"motion\", \"motion\", \"motion\", \"motion\", \"motion\", \"motion\", \"motion\", \"motion\", \"motion\", \"motorcyclist\", \"motorcyclist\", \"motorcyclist\", \"motoring\", \"motoring\", \"motoring\", \"motoring\", \"motoring\", \"motoring\", \"motoring\", \"mould\", \"mould\", \"mould\", \"mould_remind\", \"move\", \"move\", \"move\", \"move\", \"move\", \"move\", \"move\", \"move\", \"move\", \"move\", \"move\", \"move\", \"move\", \"move\", \"move\", \"move\", \"move\", \"move\", \"move\", \"move\", \"move\", \"move\", \"move\", \"movement\", \"movement\", \"movement\", \"movement\", \"movement\", \"movement\", \"movement\", \"movement\", \"movement\", \"movement\", \"movement\", \"movement\", \"movement\", \"movement\", \"movement\", \"movement\", \"movement\", \"movement\", \"movement\", \"movement\", \"mowlem\", \"mrbcv\", \"mrssl\", \"mth\", \"much\", \"much\", \"much\", \"much\", \"much\", \"much\", \"much\", \"much\", \"much\", \"much\", \"much\", \"much\", \"much\", \"much\", \"much\", \"much\", \"much\", \"much\", \"much\", \"much\", \"much\", \"much\", \"much\", \"much\", \"much\", \"much\", \"much\", \"much\", \"much\", \"much\", \"muirhead\", \"multi_dimensional\", \"multi_modal_studie\", \"multi_modal_studie\", \"multi_modal_studie\", \"multi_modal_studie\", \"multi_modal_studie\", \"multi_modal_studie\", \"multi_modal_studie\", \"mure\", \"museum\", \"museum\", \"museum\", \"museum\", \"museum\", \"museum\", \"museum\", \"museum\", \"museum\", \"must\", \"must\", \"must\", \"must\", \"must\", \"must\", \"must\", \"must\", \"must\", \"must\", \"must\", \"must\", \"must\", \"must\", \"must\", \"must\", \"must\", \"must\", \"must\", \"must\", \"must\", \"must\", \"must\", \"must\", \"must\", \"must\", \"muting\", \"muttram\", \"myer\", \"nante\", \"national\", \"national\", \"national\", \"national\", \"national\", \"national\", \"national\", \"national\", \"national\", \"national\", \"national\", \"national\", \"national\", \"national\", \"national\", \"national\", \"national\", \"national\", \"national\", \"national_museum_science\", \"nautilus\", \"near_cash_resource\", \"neate\", \"necess\", \"necessary_transparency_rigour\", \"need\", \"need\", \"need\", \"need\", \"need\", \"need\", \"need\", \"need\", \"need\", \"need\", \"need\", \"need\", \"need\", \"need\", \"need\", \"need\", \"need\", \"need\", \"need\", \"need\", \"need\", \"need\", \"need\", \"need\", \"need\", \"need\", \"need\", \"need\", \"need\", \"need\", \"need\", \"need\", \"need\", \"need\", \"need\", \"need_adjust_serve\", \"network\", \"network\", \"network\", \"network\", \"network\", \"network\", \"network\", \"network\", \"network\", \"network\", \"network\", \"network\", \"network\", \"network\", \"network\", \"network\", \"network\", \"network\", \"network\", \"network\", \"network\", \"network\", \"network\", \"network\", \"network\", \"network\", \"network\", \"network\", \"network\", \"network\", \"network\", \"network\", \"network\", \"newd\", \"newly_disclosed_document\", \"next\", \"next\", \"next\", \"next\", \"next\", \"next\", \"next\", \"next\", \"next\", \"next\", \"next\", \"next\", \"next\", \"next\", \"next\", \"next\", \"next\", \"next\", \"next\", \"next\", \"next\", \"next\", \"next\", \"next\", \"next\", \"next\", \"next\", \"next\", \"next\", \"next\", \"ney\", \"night_flight\", \"nmsi\", \"noble_baroness_lady_scott\", \"noble_baroness_lady_thoma\", \"noble_friend\", \"noble_friend\", \"noble_friend\", \"noble_friend_lord_faulkner\", \"noble_friend_lord_faulkner\", \"noble_learne\", \"noble_lord\", \"noble_lord\", \"noble_lord\", \"noble_lord\", \"noble_lord_lord\", \"noble_lord_lord\", \"noble_lord_lord_astor\", \"noble_lord_lord_berkeley\", \"noble_lord_lord_berkeley\", \"noble_lord_lord_berkeley\", \"noble_lord_lord_bradshaw\", \"noble_lord_lord_bradshaw\", \"noble_lord_lord_bradshaw\", \"noble_lord_lord_ewe\", \"noble_lord_lord_ezra\", \"noble_lord_lord_faulkner\", \"noble_lord_lord_faulkner\", \"noble_lord_lord_faulkner\", \"noble_lord_lord_hanningfield\", \"noble_lord_lord_tordoff\", \"noble_viscount_lord_astor\", \"noble_viscount_lord_astor\", \"noise\", \"noise\", \"noise\", \"noise\", \"noise\", \"noise\", \"noise\", \"noise\", \"noise\", \"noise\", \"noise\", \"noise\", \"noise\", \"noise\", \"noise\", \"noise\", \"noise\", \"norgate\", \"north_downs_tunnel\", \"northern\", \"northern\", \"northern\", \"northern\", \"northern\", \"northern\", \"northern\", \"northern\", \"northern\", \"northern\", \"northern\", \"northern\", \"northern\", \"northern\", \"northern\", \"northern\", \"northern\", \"northern\", \"northern\", \"northern\", \"notes_accounts_continue\", \"notice\", \"notice\", \"notice\", \"notice\", \"notice\", \"notice\", \"notice\", \"notice\", \"notice\", \"notice\", \"notice\", \"notice\", \"notice\", \"notice\", \"notice\", \"notice\", \"notice\", \"notice\", \"notifiable\", \"november_ockenden_continue\", \"november_ockenden_continued\", \"november_turvey_continue\", \"nrcg\", \"nsrb\", \"nuclear_pow\", \"nuclear_pow\", \"nuclear_pow\", \"nuclear_pow\", \"nuclear_pow\", \"number\", \"number\", \"number\", \"number\", \"number\", \"number\", \"number\", \"number\", \"number\", \"number\", \"number\", \"number\", \"number\", \"number\", \"number\", \"number\", \"number\", \"number\", \"number\", \"number\", \"number\", \"number\", \"number\", \"number\", \"number\", \"number\", \"number\", \"number\", \"number\", \"nutt\", \"objective\", \"objective\", \"objective\", \"objective\", \"objective\", \"objective\", \"objective\", \"objective\", \"objective\", \"objective\", \"objective\", \"objective\", \"objective\", \"objective\", \"objective\", \"objective\", \"objective\", \"objective\", \"objective\", \"objective\", \"objective\", \"ockenden\", \"odour\", \"odour\", \"offence\", \"offence\", \"offence\", \"offence\", \"offence\", \"offence\", \"offence\", \"offence\", \"offence\", \"offence\", \"offence\", \"offence\", \"offence\", \"offence\", \"official_report\", \"olympic\", \"olympic\", \"olympic\", \"olympic\", \"olympic\", \"olympic\", \"olympic\", \"olympic_family\", \"olympic_park\", \"olympic_venue\", \"olympic_village\", \"online_copyright_proquest\", \"online_copyright_proquest\", \"online_copyright_proquest\", \"online_copyright_proquest\", \"online_copyright_proquest\", \"online_copyright_proquest\", \"online_copyright_proquest\", \"online_copyright_proquest\", \"online_copyright_proquest\", \"online_copyright_proquest\", \"online_copyright_proquest_rights\", \"online_copyright_proquest_rights\", \"online_copyright_proquest_rights\", \"online_copyright_proquest_rights\", \"online_copyright_proquest_rights\", \"online_copyright_proquest_rights\", \"online_copyright_proquest_rights\", \"online_copyright_proquest_rights\", \"online_copyright_proquest_rights\", \"online_copyright_proquest_rights\", \"online_copyright_proquest_rights\", \"opera_tion\", \"operate\", \"operate\", \"operate\", \"operate\", \"operate\", \"operate\", \"operate\", \"operate\", \"operate\", \"operate\", \"operate\", \"operate\", \"operate\", \"operate\", \"operate\", \"operate\", \"operate\", \"operate\", \"operate\", \"operate\", \"operate\", \"operation\", \"operation\", \"operation\", \"operation\", \"operation\", \"operation\", \"operation\", \"operation\", \"operation\", \"operation\", \"operation\", \"operation\", \"operation\", \"operation\", \"operation\", \"operation\", \"operation\", \"operation\", \"operation\", \"operation\", \"operation\", \"operation_stack\", \"operational_command_unit\", \"operational_command_unit\", \"operator\", \"operator\", \"operator\", \"operator\", \"operator\", \"operator\", \"operator\", \"operator\", \"operator\", \"operator\", \"operator\", \"operator\", \"operator\", \"operator\", \"operator\", \"operator\", \"operator\", \"operator\", \"operator\", \"operator\", \"operator\", \"opposition\", \"opposition\", \"opposition\", \"opposition\", \"opposition\", \"opposition\", \"opposition\", \"opposition\", \"opposition\", \"opposition\", \"opposition\", \"opposition\", \"opposition\", \"opposition\", \"opposition_front_bench\", \"opposition_motion\", \"opraf\", \"opraf\", \"opraf\", \"opraf\", \"opraf\", \"opraf\", \"option\", \"option\", \"option\", \"option\", \"option\", \"option\", \"option\", \"option\", \"option\", \"option\", \"option\", \"option\", \"option\", \"option\", \"option\", \"option\", \"option\", \"option\", \"option\", \"option\", \"option\", \"orbital_motorway\", \"orbital_motorway\", \"orcat\", \"order\", \"order\", \"order\", \"order\", \"order\", \"order\", \"order\", \"order\", \"order\", \"order\", \"order\", \"order\", \"order\", \"order\", \"order\", \"order\", \"order\", \"order\", \"order\", \"order\", \"order\", \"order\", \"order\", \"order\", \"order\", \"order\", \"order\", \"order\", \"osmotherly\", \"otoole\", \"otoole\", \"ottaway\", \"ough\", \"outsourcing\", \"outsourcing\", \"outturn_outturn_outturn_outturn\", \"outturn_outturn_outturn_outturn\", \"outturn_outturn_outturn_outturn\", \"overcrowd\", \"overcrowd\", \"overcrowd\", \"overcrowd\", \"overcrowd\", \"overcrowd\", \"overcrowd\", \"overcrowd\", \"overcrowd\", \"overcrowd\", \"overcrowd\", \"overcrowd\", \"overcrowd\", \"overcrowd\", \"overcrowded\", \"overcrowded\", \"overcrowded\", \"overcrowded\", \"overcrowded\", \"overcrowded\", \"overcrowded\", \"overcrowded\", \"overcrowded\", \"overcrowded\", \"overcrowded\", \"overcrowded\", \"overcrowding\", \"overcrowding\", \"overcrowding\", \"overcrowding\", \"overcrowding\", \"overcrowding\", \"overcrowding\", \"overcrowding\", \"overcrowding\", \"overcrowding\", \"overcrowding\", \"overcrowding\", \"overcrowding\", \"overcrowding\", \"overcrowding\", \"overcrowding\", \"overcrowding\", \"overspend\", \"overspend\", \"overspend\", \"overspend\", \"overspend\", \"overspend\", \"oyster\", \"oyster\", \"oyster\", \"oyster_cards\", \"oyster_cards\", \"oyster_cards\", \"oyster_cards\", \"oyster_cards\", \"page\", \"page\", \"page\", \"page\", \"page\", \"page\", \"page\", \"page\", \"page\", \"page\", \"page\", \"page\", \"page\", \"page\", \"page\", \"page\", \"page\", \"page\", \"paragraph\", \"paragraph\", \"paragraph\", \"paragraph\", \"paragraph\", \"paragraph\", \"paragraph\", \"paragraph\", \"paragraph\", \"paragraph\", \"paragraph\", \"paragraph\", \"paragraph\", \"paragraph\", \"paragraph\", \"paragraph\", \"paragraph\", \"paralympic\", \"parkside\", \"parliament\", \"parliament\", \"parliament\", \"parliament\", \"parliament\", \"parliament\", \"parliament\", \"parliament\", \"parliament\", \"parliament\", \"parliament\", \"parliament\", \"parliament\", \"parliament\", \"parliament\", \"parliament\", \"parliament\", \"parliament\", \"parliament\", \"parry\", \"parry\", \"parry\", \"part\", \"part\", \"part\", \"part\", \"part\", \"part\", \"part\", \"part\", \"part\", \"part\", \"part\", \"part\", \"part\", \"part\", \"part\", \"part\", \"part\", \"part\", \"part\", \"part\", \"part\", \"part\", \"part\", \"part\", \"part\", \"part\", \"part\", \"part\", \"part\", \"passenger\", \"passenger\", \"passenger\", \"passenger\", \"passenger\", \"passenger\", \"passenger\", \"passenger\", \"passenger\", \"passenger\", \"passenger\", \"passenger\", \"passenger\", \"passenger\", \"passenger\", \"passenger\", \"passenger\", \"passenger\", \"passenger\", \"passenger\", \"passenger\", \"passenger\", \"passenger\", \"passenger\", \"passenger\", \"passenger\", \"passenger\", \"passenger\", \"passenger\", \"passenger\", \"passenger\", \"passenger\", \"passenger\", \"passenger\", \"passenger\", \"passing_eastwards_terminating_junction\", \"patronage\", \"patronage\", \"patronage\", \"patronage\", \"patronage\", \"patronage\", \"patronage\", \"patronage\", \"patronage\", \"patronage\", \"patronage\", \"patronage\", \"peak\", \"peak\", \"peak\", \"peak\", \"peak\", \"peak\", \"peak\", \"peak\", \"peak\", \"peak\", \"peak\", \"peak\", \"peak\", \"peak\", \"peak\", \"peak\", \"peak\", \"peak\", \"peak\", \"pedley_street_mile\", \"pedroute\", \"pedroute\", \"pedroute\", \"pedroute_modelle\", \"peel_port\", \"pellew\", \"penfold\", \"penfold\", \"pennine\", \"pennine\", \"pennine\", \"pennine\", \"pennine\", \"pennine\", \"pennine\", \"pension\", \"pension\", \"pension\", \"pension\", \"pension\", \"pension\", \"pension\", \"pension\", \"pension\", \"pension\", \"pension\", \"pension\", \"pensions_reserve\", \"people\", \"people\", \"people\", \"people\", \"people\", \"people\", \"people\", \"people\", \"people\", \"people\", \"people\", \"people\", \"people\", \"people\", \"people\", \"people\", \"people\", \"people\", \"people\", \"people\", \"people\", \"people\", \"people\", \"people\", \"people\", \"people\", \"people\", \"people\", \"people\", \"people\", \"people\", \"people\", \"people\", \"people\", \"performance\", \"performance\", \"performance\", \"performance\", \"performance\", \"performance\", \"performance\", \"performance\", \"performance\", \"performance\", \"performance\", \"performance\", \"performance\", \"performance\", \"performance\", \"performance\", \"performance\", \"performance\", \"performance\", \"perhaps\", \"perhaps\", \"perhaps\", \"perhaps\", \"perhaps\", \"perhaps\", \"perhaps\", \"perhaps\", \"perhaps\", \"perhaps\", \"perhaps\", \"perhaps\", \"perhaps\", \"perhaps\", \"perhaps\", \"perhaps\", \"perhaps\", \"perhaps\", \"permanence\", \"person\", \"person\", \"person\", \"person\", \"person\", \"person\", \"person\", \"person\", \"person\", \"person\", \"person\", \"person\", \"person\", \"person\", \"person\", \"person\", \"person\", \"person\", \"person\", \"person\", \"peter_aldridge_paul_franci\", \"peter_baldwin_continued_bridgeman\", \"peter_hendy_managing_director\", \"peter_parker\", \"peter_parker\", \"peter_parker\", \"petition\", \"petition\", \"petition\", \"petition\", \"petition\", \"petition\", \"petition\", \"petition_annetta_pedretti\", \"petitioner\", \"petitioner\", \"petitioner\", \"petitioner\", \"petitioner\", \"petitioner_appeare\", \"pewp\", \"pharoah\", \"phil_starle\", \"phillip\", \"photograph\", \"photograph\", \"photograph\", \"photograph\", \"photograph\", \"photograph\", \"photograph\", \"photograph\", \"photograph\", \"pig\", \"pimtou\", \"pixc\", \"pixc\", \"pixc\", \"place\", \"place\", \"place\", \"place\", \"place\", \"place\", \"place\", \"place\", \"place\", \"place\", \"place\", \"place\", \"place\", \"place\", \"place\", \"place\", \"place\", \"place\", \"place\", \"place\", \"place\", \"place\", \"place\", \"place\", \"place\", \"plan\", \"plan\", \"plan\", \"plan\", \"plan\", \"plan\", \"plan\", \"plan\", \"plan\", \"plan\", \"plan\", \"plan\", \"plan\", \"plan\", \"plan\", \"plan\", \"plan\", \"plan\", \"plan\", \"plan\", \"plan\", \"plan\", \"plan\", \"plan\", \"plan\", \"plan\", \"plan\", \"plan\", \"plan\", \"plan\", \"plan\", \"plan\", \"plan\", \"plan\", \"plan\", \"plans_outturn_cmnd\", \"plaster\", \"platform\", \"platform\", \"platform\", \"platform\", \"platform\", \"platform\", \"platform\", \"platform\", \"platform\", \"platform\", \"platform\", \"platform\", \"platform\", \"platform\", \"platform\", \"platform\", \"platform\", \"platform\", \"platform\", \"plusbus\", \"point\", \"point\", \"point\", \"point\", \"point\", \"point\", \"point\", \"point\", \"point\", \"point\", \"point\", \"point\", \"point\", \"point\", \"point\", \"point\", \"point\", \"point\", \"point\", \"point\", \"point\", \"point\", \"point\", \"point\", \"point\", \"point\", \"point\", \"point\", \"point\", \"point\", \"point\", \"point\", \"point\", \"pole\", \"pole\", \"pole\", \"pole\", \"pole\", \"pole\", \"pole\", \"pole\", \"police\", \"police\", \"police\", \"police\", \"police\", \"police\", \"police\", \"police\", \"police\", \"police\", \"police\", \"police\", \"police\", \"police\", \"police\", \"police\", \"police\", \"police\", \"police\", \"police\", \"policy\", \"policy\", \"policy\", \"policy\", \"policy\", \"policy\", \"policy\", \"policy\", \"policy\", \"policy\", \"policy\", \"policy\", \"policy\", \"policy\", \"policy\", \"policy\", \"policy\", \"policy\", \"policy\", \"policy\", \"policy\", \"pollutant\", \"pollutant\", \"pollutant\", \"pollutant\", \"pollutant\", \"pollutant\", \"pollutant\", \"pollutant\", \"port\", \"port\", \"port\", \"port\", \"port\", \"port\", \"port\", \"port\", \"port\", \"port\", \"port\", \"port\", \"port\", \"port\", \"port\", \"port\", \"port\", \"port_dover\", \"porterbrook\", \"porterbrook\", \"porterbrook\", \"portillo\", \"position\", \"position\", \"position\", \"position\", \"position\", \"position\", \"position\", \"position\", \"position\", \"position\", \"position\", \"position\", \"position\", \"position\", \"position\", \"position\", \"position\", \"position\", \"position\", \"position\", \"power_conferred_section\", \"powering_future_vehicle\", \"powers_sanction\", \"powers_sanctions_available\", \"powers_ticket_inspector\", \"pphpd\", \"ppp\", \"ppp\", \"ppp\", \"ppps\", \"ppps\", \"ppps\", \"practicality_alternatives_light\", \"preamble\", \"preamble\", \"preamble\", \"preamble\", \"preamble\", \"preamble\", \"preamble\", \"preamble\", \"premium_payment\", \"present\", \"present\", \"present\", \"present\", \"present\", \"present\", \"present\", \"present\", \"present\", \"present\", \"present\", \"present\", \"present\", \"present\", \"present\", \"present\", \"present\", \"present\", \"present\", \"present\", \"present\", \"presidency\", \"presidency\", \"preston_blackpool\", \"prev\", \"preventable\", \"preventable\", \"preventable\", \"preventable\", \"pricewaterhouse\", \"priority\", \"priority\", \"priority\", \"priority\", \"priority\", \"priority\", \"priority\", \"priority\", \"priority\", \"priority\", \"priority\", \"priority\", \"priority\", \"priority\", \"priority\", \"priority\", \"priority\", \"priority\", \"priority\", \"priority\", \"prison\", \"prison\", \"prison\", \"prison\", \"prison\", \"prison\", \"prison\", \"prisoner\", \"prisoner\", \"private\", \"private\", \"private\", \"private\", \"private\", \"private\", \"private\", \"private\", \"private\", \"private\", \"private\", \"private\", \"private\", \"private\", \"private\", \"private\", \"private\", \"private\", \"private\", \"private\", \"private\", \"private\", \"privatisation\", \"privatisation\", \"privatisation\", \"privatisation\", \"privatisation\", \"privatisation\", \"privatisation\", \"privatisation\", \"privatisation\", \"privatisation\", \"privatisation\", \"privatisation\", \"privatisation\", \"privatisation\", \"privatisation\", \"privatisation\", \"privatisation\", \"prob_lem\", \"probation\", \"probation\", \"problem\", \"problem\", \"problem\", \"problem\", \"problem\", \"problem\", \"problem\", \"problem\", \"problem\", \"problem\", \"problem\", \"problem\", \"problem\", \"problem\", \"problem\", \"problem\", \"problem\", \"problem\", \"problem\", \"problem\", \"problem\", \"problem\", \"problem\", \"problem\", \"problem\", \"problem\", \"problem\", \"problem\", \"problem\", \"process\", \"process\", \"process\", \"process\", \"process\", \"process\", \"process\", \"process\", \"process\", \"process\", \"process\", \"process\", \"process\", \"process\", \"process\", \"process\", \"process\", \"process\", \"process\", \"process\", \"process_awarding_franchise\", \"procurement\", \"procurement\", \"procurement\", \"procurement\", \"procurement\", \"procurement\", \"procurement\", \"procurement\", \"procurement\", \"procurement\", \"procurement\", \"procurement\", \"procurement\", \"procurement\", \"product\", \"product\", \"product\", \"product\", \"product\", \"product\", \"product\", \"product\", \"product\", \"product\", \"product\", \"product\", \"product\", \"product\", \"product\", \"product\", \"product\", \"professor_davie\", \"professor_glaister\", \"professor_lord_currie\", \"professor_nash\", \"professor_stephen_glaister\", \"professor_stephen_glaister_kirsten\", \"profit\", \"profit\", \"profit\", \"profit\", \"profit\", \"profit\", \"profit\", \"profit\", \"profit\", \"profit\", \"profit\", \"profit\", \"profit\", \"profit\", \"profit\", \"profit\", \"profit\", \"profit\", \"profitable_subsidise\", \"programme\", \"programme\", \"programme\", \"programme\", \"programme\", \"programme\", \"programme\", \"programme\", \"programme\", \"programme\", \"programme\", \"programme\", \"programme\", \"programme\", \"programme\", \"programme\", \"programme\", \"programme\", \"programme\", \"programme\", \"programme\", \"programme\", \"project\", \"project\", \"project\", \"project\", \"project\", \"project\", \"project\", \"project\", \"project\", \"project\", \"project\", \"project\", \"project\", \"project\", \"project\", \"project\", \"project\", \"project\", \"project\", \"project\", \"project\", \"project\", \"project\", \"project\", \"project\", \"project\", \"project\", \"project\", \"project\", \"project\", \"project\", \"project\", \"project\", \"project\", \"promise\", \"promise\", \"promise\", \"promise\", \"promise\", \"promise\", \"promise\", \"promise\", \"promise\", \"promise\", \"promise\", \"promise\", \"promise\", \"promise\", \"promise\", \"promise\", \"promise\", \"promise\", \"promoter\", \"promoter\", \"promoter\", \"promoter\", \"promoter\", \"promoter\", \"promoter\", \"promoter\", \"promoter\", \"promoter\", \"promoter\", \"property\", \"property\", \"property\", \"property\", \"property\", \"property\", \"property\", \"property\", \"property\", \"property\", \"property\", \"property\", \"property\", \"property\", \"property\", \"property\", \"property\", \"proposal\", \"proposal\", \"proposal\", \"proposal\", \"proposal\", \"proposal\", \"proposal\", \"proposal\", \"proposal\", \"proposal\", \"proposal\", \"proposal\", \"proposal\", \"proposal\", \"proposal\", \"proposal\", \"proposal\", \"proposal\", \"proposal\", \"proposal\", \"proposal\", \"proposal\", \"proposal\", \"proposal\", \"proposal\", \"proposal\", \"propose\", \"propose\", \"propose\", \"propose\", \"propose\", \"propose\", \"propose\", \"propose\", \"propose\", \"propose\", \"propose\", \"propose\", \"propose\", \"propose\", \"propose\", \"propose\", \"propose\", \"propose\", \"propose\", \"propose\", \"propose\", \"propose\", \"propose\", \"propose\", \"prosecution\", \"prosecution\", \"prosecution\", \"prosecution\", \"prosecution\", \"prosecution\", \"prosecution\", \"provide\", \"provide\", \"provide\", \"provide\", \"provide\", \"provide\", \"provide\", \"provide\", \"provide\", \"provide\", \"provide\", \"provide\", \"provide\", \"provide\", \"provide\", \"provide\", \"provide\", \"provide\", \"provide\", \"provide\", \"provide\", \"provide\", \"provide\", \"provide\", \"provide\", \"provide\", \"provide\", \"provide\", \"provide\", \"provide\", \"provide\", \"provide\", \"provide\", \"provide\", \"provide\", \"provision\", \"provision\", \"provision\", \"provision\", \"provision\", \"provision\", \"provision\", \"provision\", \"provision\", \"provision\", \"provision\", \"provision\", \"provision\", \"provision\", \"provision\", \"provision\", \"provision\", \"provision\", \"provision\", \"provision\", \"provision\", \"psr\", \"psr\", \"psr\", \"public\", \"public\", \"public\", \"public\", \"public\", \"public\", \"public\", \"public\", \"public\", \"public\", \"public\", \"public\", \"public\", \"public\", \"public\", \"public\", \"public\", \"public\", \"public\", \"public\", \"public\", \"public\", \"public\", \"public\", \"public\", \"public\", \"public\", \"public\", \"public\", \"public\", \"public\", \"public\", \"public\", \"public\", \"public\", \"publish\", \"publish\", \"publish\", \"publish\", \"publish\", \"publish\", \"publish\", \"publish\", \"publish\", \"publish\", \"publish\", \"publish\", \"publish\", \"publish\", \"publish\", \"publish\", \"publish\", \"publish\", \"publish\", \"publish\", \"publish\", \"purple\", \"purple\", \"purpose\", \"purpose\", \"purpose\", \"purpose\", \"purpose\", \"purpose\", \"purpose\", \"purpose\", \"purpose\", \"purpose\", \"purpose\", \"purpose\", \"purpose\", \"purpose\", \"purpose\", \"purpose\", \"purpose\", \"purpose\", \"purpose\", \"purpose\", \"putative\", \"putative\", \"putative\", \"putative\", \"pxwp\", \"qiairman\", \"quality\", \"quality\", \"quality\", \"quality\", \"quality\", \"quality\", \"quality\", \"quality\", \"quality\", \"quality\", \"quality\", \"quality\", \"quality\", \"quality\", \"quality\", \"quality\", \"quality\", \"quality\", \"quality\", \"quality\", \"quant\", \"question\", \"question\", \"question\", \"question\", \"question\", \"question\", \"question\", \"question\", \"question\", \"question\", \"question\", \"question\", \"question\", \"question\", \"question\", \"question\", \"question\", \"question\", \"question\", \"question\", \"question\", \"question\", \"question\", \"question\", \"question\", \"question\", \"question\", \"question\", \"question\", \"question\", \"question\", \"question\", \"question\", \"quinn\", \"raib\", \"raib\", \"raiitrack\", \"raiitrack\", \"rail\", \"rail\", \"rail\", \"rail\", \"rail\", \"rail\", \"rail\", \"rail\", \"rail\", \"rail\", \"rail\", \"rail\", \"rail\", \"rail\", \"rail\", \"rail\", \"rail\", \"rail\", \"rail\", \"rail\", \"rail\", \"rail\", \"rail\", \"rail\", \"rail\", \"rail\", \"rail\", \"rail\", \"rail\", \"rail\", \"rail\", \"rail\", \"rail\", \"rail\", \"rail\", \"railair\", \"railcard\", \"railcard\", \"railcard\", \"railcard\", \"railfreight_distribution\", \"railfuturc\", \"railtrack\", \"railtrack\", \"railtrack\", \"railtrack\", \"railtrack\", \"railtrack\", \"railtrack\", \"railtrack\", \"railtrack\", \"railtrack\", \"railtrack\", \"railtrack\", \"railtrack\", \"railtrack\", \"railtrack\", \"railway\", \"railway\", \"railway\", \"railway\", \"railway\", \"railway\", \"railway\", \"railway\", \"railway\", \"railway\", \"railway\", \"railway\", \"railway\", \"railway\", \"railway\", \"railway\", \"railway\", \"railway\", \"railway\", \"railway\", \"railway\", \"railway\", \"railway\", \"railway\", \"railway\", \"railway\", \"railway\", \"railway\", \"railway\", \"railway\", \"railway\", \"railway\", \"railway\", \"railway\", \"railway\", \"railway_metres_length\", \"railway_regulation_functione\", \"rambler\", \"rayncr\", \"rda\", \"rda\", \"rda\", \"rda\", \"reader\", \"reader\", \"reader\", \"reader\", \"reader\", \"reader\", \"reader\", \"reader\", \"reader\", \"reasons_dismisse\", \"rebodye\", \"receivable\", \"receivable\", \"received_royal_assent\", \"received_royal_assent\", \"received_royal_assent\", \"received_royal_assent\", \"received_royal_assent\", \"received_royal_assent\", \"recognised_gains_losse\", \"recorded_notifiable\", \"reduce\", \"reduce\", \"reduce\", \"reduce\", \"reduce\", \"reduce\", \"reduce\", \"reduce\", \"reduce\", \"reduce\", \"reduce\", \"reduce\", \"reduce\", \"reduce\", \"reduce\", \"reduce\", \"reduce\", \"reduce\", \"reduce\", \"reduce\", \"reduce\", \"redwood\", \"ree\", \"ree\", \"ree\", \"refer\", \"refer\", \"refer\", \"refer\", \"refer\", \"refer\", \"refer\", \"refer\", \"refer\", \"refer\", \"refer\", \"refer\", \"refer\", \"refer\", \"refer\", \"refer\", \"refer\", \"refer\", \"refer\", \"refer\", \"refugee\", \"regeneration\", \"regeneration\", \"regeneration\", \"regeneration\", \"regeneration\", \"regeneration\", \"regeneration\", \"regeneration\", \"regeneration\", \"regeneration\", \"regeneration\", \"regeneration\", \"regeneration\", \"regeneration\", \"regeneration\", \"regeneration\", \"regeneration\", \"regeneration\", \"regeneration\", \"region\", \"region\", \"region\", \"region\", \"region\", \"region\", \"region\", \"region\", \"region\", \"region\", \"region\", \"region\", \"region\", \"region\", \"region\", \"region\", \"region\", \"region\", \"regulator\", \"regulator\", \"regulator\", \"regulator\", \"regulator\", \"regulator\", \"regulator\", \"regulator\", \"regulator\", \"regulator\", \"regulator\", \"regulator\", \"regulator\", \"regulator\", \"regulator\", \"regulator\", \"regulatory\", \"regulatory\", \"regulatory\", \"regulatory\", \"regulatory\", \"regulatory\", \"regulatory\", \"regulatory\", \"regulatory\", \"regulatory\", \"regulatory\", \"regulatory\", \"regulatory\", \"regulatory\", \"regulatory\", \"regulatory\", \"regulatory\", \"relation\", \"relation\", \"relation\", \"relation\", \"relation\", \"relation\", \"relation\", \"relation\", \"relation\", \"relation\", \"relation\", \"relation\", \"relation\", \"relation\", \"relation\", \"relation\", \"relation\", \"relation\", \"relation\", \"relation\", \"remuneration\", \"remuneration\", \"remuneration\", \"remuneration\", \"remuneration\", \"remuneration\", \"remuneration\", \"remuneration\", \"renewable\", \"renewable\", \"renewable\", \"renewable\", \"renewable\", \"renewable\", \"renewable\", \"renewable\", \"renewal\", \"renewal\", \"renewal\", \"renewal\", \"renewal\", \"renewal\", \"renewal\", \"renewal\", \"renewal\", \"renewal\", \"renewal\", \"renewal\", \"renewal\", \"renewal\", \"renewal\", \"renewal\", \"renewal\", \"reoffende\", \"replacement\", \"replacement\", \"replacement\", \"replacement\", \"replacement\", \"replacement\", \"replacement\", \"replacement\", \"replacement\", \"replacement\", \"replacement\", \"replacement\", \"replacement\", \"replacement\", \"replacement\", \"replacement\", \"replacement\", \"replacement\", \"replacement\", \"report\", \"report\", \"report\", \"report\", \"report\", \"report\", \"report\", \"report\", \"report\", \"report\", \"report\", \"report\", \"report\", \"report\", \"report\", \"report\", \"report\", \"report\", \"report\", \"report\", \"report\", \"report\", \"report\", \"report\", \"report\", \"report\", \"report\", \"report\", \"report\", \"report\", \"report\", \"request\", \"request\", \"request\", \"request\", \"request\", \"request\", \"request\", \"request\", \"request\", \"request\", \"request\", \"request\", \"request\", \"request\", \"request\", \"request\", \"request\", \"request\", \"request\", \"require\", \"require\", \"require\", \"require\", \"require\", \"require\", \"require\", \"require\", \"require\", \"require\", \"require\", \"require\", \"require\", \"require\", \"require\", \"require\", \"require\", \"require\", \"require\", \"require\", \"require\", \"require\", \"require\", \"require\", \"require\", \"reserved_appendices_minute\", \"reserved_appendices_minute\", \"reserved_appendices_minute\", \"reserved_appendices_minute\", \"reserved_appendices_minute\", \"reserved_appendices_minute\", \"resilient_base_plate\", \"resource\", \"resource\", \"resource\", \"resource\", \"resource\", \"resource\", \"resource\", \"resource\", \"resource\", \"resource\", \"resource\", \"resource\", \"resource\", \"resource\", \"resource\", \"resource\", \"resource\", \"resource\", \"resource\", \"resource\", \"resource\", \"respectfully_submit\", \"restate\", \"restate\", \"restate\", \"restate\", \"restate\", \"restate\", \"restate\", \"restate\", \"restate\", \"restate\", \"restate\", \"restriction\", \"restriction\", \"restriction\", \"restriction\", \"restriction\", \"restriction\", \"restriction\", \"restriction\", \"restriction\", \"restriction\", \"restriction\", \"restriction\", \"restriction\", \"restriction\", \"restriction\", \"restriction\", \"restriction\", \"restriction\", \"restriction\", \"revenue\", \"revenue\", \"revenue\", \"revenue\", \"revenue\", \"revenue\", \"revenue\", \"revenue\", \"revenue\", \"revenue\", \"revenue\", \"revenue\", \"revenue\", \"revenue\", \"revenue\", \"revenue\", \"revenue\", \"revenue\", \"revenue\", \"revenue\", \"revenue\", \"review\", \"review\", \"review\", \"review\", \"review\", \"review\", \"review\", \"review\", \"review\", \"review\", \"review\", \"review\", \"review\", \"review\", \"review\", \"review\", \"review\", \"review\", \"review\", \"review\", \"review\", \"revised_tunnelle\", \"revised_tunnelle\", \"re\\ufb02ect\", \"re\\ufb02ecte\", \"rfrl\", \"rickett\", \"rifkind\", \"right\", \"right\", \"right\", \"right\", \"right\", \"right\", \"right\", \"right\", \"right\", \"right\", \"right\", \"right\", \"right\", \"right\", \"right\", \"right\", \"right\", \"right\", \"right\", \"right\", \"right\", \"right\", \"right\", \"right\", \"right\", \"right\", \"right\", \"right\", \"right_learned_friend\", \"right_learned_friend\", \"rights_liabilitie\", \"rights_liabilitie\", \"rights_liabilitie\", \"rights_reserved\", \"rights_reserved\", \"rights_reserved\", \"rights_reserved\", \"rights_reserved\", \"rights_reserved\", \"rights_reserved\", \"rights_reserved\", \"rights_reserved\", \"rights_reserved\", \"rights_reserved_minute\", \"rights_reserved_minute\", \"rights_reserved_minute\", \"rights_reserved_minute\", \"rights_reserved_minute\", \"rights_reserved_minute\", \"ringway\", \"ringway\", \"ringway\", \"risk\", \"risk\", \"risk\", \"risk\", \"risk\", \"risk\", \"risk\", \"risk\", \"risk\", \"risk\", \"risk\", \"risk\", \"risk\", \"risk\", \"risk\", \"risk\", \"risk\", \"risk\", \"risk\", \"risk\", \"risks_suitably_apportione\", \"road\", \"road\", \"road\", \"road\", \"road\", \"road\", \"road\", \"road\", \"road\", \"road\", \"road\", \"road\", \"road\", \"road\", \"road\", \"road\", \"road\", \"road\", \"road\", \"road\", \"road\", \"road\", \"road\", \"road\", \"road\", \"road\", \"road\", \"road\", \"road\", \"road\", \"road\", \"road\", \"road\", \"road\", \"roadside\", \"roadside\", \"roadside\", \"roadside\", \"roadside\", \"roadside\", \"roadside\", \"robert_brook_continue\", \"roger_ke\", \"role\", \"role\", \"role\", \"role\", \"role\", \"role\", \"role\", \"role\", \"role\", \"role\", \"role\", \"role\", \"role\", \"role\", \"role\", \"role\", \"role\", \"role\", \"role\", \"role\", \"rolling_stock\", \"rolling_stock\", \"rolling_stock\", \"rolling_stock\", \"rolling_stock\", \"rolling_stock\", \"rolling_stock\", \"rolling_stock\", \"rolling_stock\", \"rolling_stock\", \"rolling_stock\", \"rolling_stock\", \"rolling_stock\", \"rolling_stock\", \"rolling_stock\", \"rolling_stock\", \"rolling_stock\", \"roscos\", \"roscos\", \"roscos\", \"roscos\", \"roscos\", \"roscos\", \"roscos\", \"roscos\", \"roscos\", \"route\", \"route\", \"route\", \"route\", \"route\", \"route\", \"route\", \"route\", \"route\", \"route\", \"route\", \"route\", \"route\", \"route\", \"route\", \"route\", \"route\", \"route\", \"route\", \"route\", \"route\", \"route\", \"route\", \"route\", \"route\", \"route\", \"route\", \"route\", \"route\", \"route\", \"route\", \"rssb\", \"rssb\", \"rssb\", \"rubber_tyre\", \"rubber_tyre\", \"rucc\", \"rucc\", \"ruccs\", \"rugby\", \"rugby\", \"rugby\", \"rugby\", \"rugby\", \"rugby\", \"rural\", \"rural\", \"rural\", \"rural\", \"rural\", \"rural\", \"rural\", \"rural\", \"rural\", \"rural\", \"rural\", \"rural\", \"rural\", \"ruth_kelly_robert_devereux\", \"safe\", \"safe\", \"safe\", \"safe\", \"safe\", \"safe\", \"safe\", \"safe\", \"safe\", \"safe\", \"safe\", \"safe\", \"safe\", \"safe\", \"safe\", \"safe\", \"safe\", \"safe\", \"safe\", \"safe\", \"safety\", \"safety\", \"safety\", \"safety\", \"safety\", \"safety\", \"safety\", \"safety\", \"safety\", \"safety\", \"safety\", \"safety\", \"safety\", \"safety\", \"safety\", \"safety\", \"safety\", \"safety\", \"safety\", \"safety\", \"safety_standards_directorate\", \"safety_standards_directorate\", \"safety_standards_directorate\", \"safety_standards_directorate\", \"sailing_event\", \"sap\", \"say\", \"say\", \"say\", \"say\", \"say\", \"say\", \"say\", \"say\", \"say\", \"say\", \"say\", \"say\", \"say\", \"say\", \"say\", \"say\", \"say\", \"say\", \"say\", \"say\", \"say\", \"say\", \"say\", \"say\", \"say\", \"say\", \"say\", \"say\", \"say\", \"say\", \"say\", \"say\", \"say\", \"say\", \"say\", \"scat\", \"scat\", \"schedule\", \"schedule\", \"schedule\", \"schedule\", \"schedule\", \"schedule\", \"schedule\", \"schedule\", \"schedule\", \"schedule\", \"schedule\", \"schedule\", \"schedule\", \"schedule\", \"schedule\", \"schedule\", \"schedule\", \"schedule\", \"schedule\", \"schedule_heritage_disapplication_modification\", \"schedule_protective_provision\", \"scheme\", \"scheme\", \"scheme\", \"scheme\", \"scheme\", \"scheme\", \"scheme\", \"scheme\", \"scheme\", \"scheme\", \"scheme\", \"scheme\", \"scheme\", \"scheme\", \"scheme\", \"scheme\", \"scheme\", \"scheme\", \"scheme\", \"scheme\", \"scheme\", \"scheme\", \"scheme\", \"scheme\", \"scheme\", \"scheme\", \"scheme\", \"scheme\", \"scheme\", \"scheme\", \"scheme\", \"scheme\", \"scheme\", \"scheme\", \"scheme\", \"scngcr\", \"scnger\", \"scnt\", \"scottish_minister\", \"scottish_minister\", \"scottish_minister\", \"scrabster\", \"screen\", \"screen\", \"screen\", \"screen\", \"screen\", \"screen\", \"screen\", \"screen\", \"screen\", \"screen\", \"screen\", \"screen\", \"screen\", \"screen\", \"seat\", \"seat\", \"seat\", \"seat\", \"seat\", \"seat\", \"seat\", \"seat\", \"seat\", \"seat\", \"seat\", \"seat\", \"seat\", \"seat\", \"seat\", \"seat\", \"seat_reservation\", \"seated\", \"seated\", \"seated\", \"seated\", \"seated_standing\", \"second_reade\", \"second_reade\", \"second_reade\", \"second_reade\", \"second_reade\", \"second_reade\", \"second_reade\", \"second_reade\", \"second_reade\", \"second_reade\", \"section\", \"section\", \"section\", \"section\", \"section\", \"section\", \"section\", \"section\", \"section\", \"section\", \"section\", \"section\", \"section\", \"section\", \"section\", \"section\", \"section\", \"section\", \"section\", \"section\", \"sector\", \"sector\", \"sector\", \"sector\", \"sector\", \"sector\", \"sector\", \"sector\", \"sector\", \"sector\", \"sector\", \"sector\", \"sector\", \"sector\", \"sector\", \"sector\", \"sector\", \"sector\", \"sector\", \"sector\", \"sector_comparator\", \"seeda\", \"segal\", \"segregate\", \"segregate\", \"segregate\", \"segregate\", \"segregate\", \"segregate\", \"segregate\", \"segregate\", \"segregated\", \"segregated\", \"segregated\", \"segregated\", \"segregated\", \"self_evidently\", \"self_evidently\", \"self_evidently\", \"self_evidently\", \"self_evidently\", \"self_evidently\", \"self_evidently\", \"self_evidently\", \"semple\", \"senger\", \"senger\", \"senger\", \"senger\", \"senger\", \"september_appendix_memorandum\", \"service\", \"service\", \"service\", \"service\", \"service\", \"service\", \"service\", \"service\", \"service\", \"service\", \"service\", \"service\", \"service\", \"service\", \"service\", \"service\", \"service\", \"service\", \"service\", \"service\", \"service\", \"service\", \"service\", \"service\", \"service\", \"service\", \"service\", \"service\", \"service\", \"service\", \"service\", \"service\", \"service\", \"service\", \"service\", \"sessional_order\", \"sewer_beneath_point\", \"sewerage_undertaker\", \"shadow_runne\", \"shaft\", \"shaft\", \"shaft\", \"shaft\", \"shaft\", \"shaft\", \"shall\", \"shall\", \"shall\", \"shall\", \"shall\", \"shall\", \"shall\", \"shall\", \"shall\", \"shall\", \"shall\", \"shall\", \"shall\", \"shall\", \"shall\", \"shall\", \"shall\", \"shall\", \"shall\", \"shall_exercisable\", \"shaoul\", \"shared_prioritie\", \"shared_prioritie\", \"shared_prioritie\", \"shareholder\", \"shareholder\", \"shareholder\", \"shareholder\", \"shareholder\", \"shareholder\", \"shareholder\", \"shareholder\", \"shareholder\", \"shareholder\", \"shareholder\", \"shareholder\", \"shareholder\", \"shenfield\", \"shenfield\", \"shenfield\", \"shenfield\", \"shenfield\", \"shenfield\", \"sheppard\", \"sherlock\", \"ship\", \"ship\", \"ship\", \"ship\", \"ship\", \"ship\", \"ship\", \"ship\", \"ship\", \"ship\", \"ship\", \"ship\", \"ship\", \"shipping\", \"shipping\", \"shipping\", \"shipping\", \"shipping\", \"shipping\", \"shipping\", \"short_formation\", \"shortage\", \"shortage\", \"shortage\", \"shortage\", \"shortage\", \"shortage\", \"shortage\", \"shortage\", \"shortage\", \"shortage\", \"shortage\", \"shortage\", \"shortage\", \"shortage\", \"shortage\", \"shortage\", \"shortage\", \"shunter\", \"sighted\", \"sighted\", \"sighted\", \"signihcant\", \"signihcant\", \"signihcant\", \"signi\\ufb01cant\", \"signi\\ufb01cantly\", \"silvertown\", \"silvertown\", \"silvertown\", \"site\", \"site\", \"site\", \"site\", \"site\", \"site\", \"site\", \"site\", \"site\", \"site\", \"site\", \"site\", \"site\", \"site\", \"site\", \"site\", \"site\", \"site\", \"site\", \"site\", \"site\", \"skegness\", \"slade_green_dartford\", \"slide\", \"slide\", \"slide\", \"slide\", \"slide\", \"slide\", \"slide\", \"slinn\", \"slips_trips_fall\", \"sloman\", \"sloman\", \"slrt\", \"smallwood\", \"smallwood\", \"smartcard\", \"smartcard\", \"smartcard\", \"smartcard\", \"smartcard\", \"snape\", \"snape\", \"societal\", \"societal\", \"societal\", \"societal\", \"societal\", \"society_ramblers_association\", \"society_ramblers_association\", \"sociology\", \"sound_insulation\", \"sound_studios_soho\", \"southern_region\", \"southern_region\", \"southern_region\", \"southern_region\", \"southern_region\", \"southern_region\", \"southern_region\", \"southfield\", \"spad\", \"spad\", \"spad\", \"spad\", \"speaker\", \"speaker\", \"speaker\", \"speaker\", \"speaker\", \"speaker\", \"speaker\", \"specification\", \"specification\", \"specification\", \"specification\", \"specification\", \"specification\", \"specification\", \"specification\", \"specification\", \"specification\", \"specification\", \"specification\", \"specification\", \"specification\", \"specification\", \"specification\", \"specify\", \"specify\", \"specify\", \"specify\", \"specify\", \"specify\", \"specify\", \"specify\", \"specify\", \"specify\", \"specify\", \"specify\", \"specify\", \"specify\", \"specify\", \"specify\", \"specify\", \"specify\", \"specihc\", \"specihc\", \"specihc\", \"speci\\ufb01c\", \"speci\\ufb01cation\", \"spectator\", \"spectator\", \"spectator\", \"spectator\", \"spectator\", \"speech\", \"speech\", \"speech\", \"speech\", \"speech\", \"speech\", \"speech\", \"speech\", \"speech\", \"speech\", \"speech\", \"speech\", \"speech\", \"spencer\", \"spencer\", \"spencer\", \"sphalfield\", \"spitalfield\", \"spitalfield\", \"spitalfield\", \"spitalfield\", \"spitalfields\", \"spitalfields\", \"spitalfields\", \"spitalfleld\", \"spokesman\", \"spokesman\", \"spokesman\", \"spokesman\", \"spokesman\", \"spokesman\", \"spot_fine\", \"spring_supplementary_estimate\", \"squire\", \"squire\", \"srail\", \"ssba\", \"ssba\", \"ssra\", \"ssra\", \"ssra\", \"ssra\", \"ssra\", \"staff\", \"staff\", \"staff\", \"staff\", \"staff\", \"staff\", \"staff\", \"staff\", \"staff\", \"staff\", \"staff\", \"staff\", \"staff\", \"staff\", \"staff\", \"staff\", \"staff\", \"staff\", \"staff\", \"stakeholder_equity\", \"stand\", \"stand\", \"stand\", \"stand\", \"stand\", \"stand\", \"stand\", \"stand\", \"stand\", \"stand\", \"stand\", \"stand\", \"stand\", \"stand\", \"stand\", \"stand\", \"stand\", \"stand\", \"stand\", \"stand\", \"standard\", \"standard\", \"standard\", \"standard\", \"standard\", \"standard\", \"standard\", \"standard\", \"standard\", \"standard\", \"standard\", \"standard\", \"standard\", \"standard\", \"standard\", \"standard\", \"standard\", \"standard\", \"standard\", \"standard\", \"standardisation\", \"standardisation\", \"standardisation\", \"standardisation\", \"standardisation\", \"standardisation\", \"standardisation\", \"standardisation\", \"standardisation\", \"standee\", \"statement_account\", \"statement_accounts_notes_account\", \"statement_accounts_notes_accounts\", \"statement_accounts_statement_account\", \"station\", \"station\", \"station\", \"station\", \"station\", \"station\", \"station\", \"station\", \"station\", \"station\", \"station\", \"station\", \"station\", \"station\", \"station\", \"station\", \"station\", \"station\", \"station\", \"station\", \"station\", \"station\", \"station\", \"station\", \"station\", \"station\", \"station\", \"station\", \"station\", \"station\", \"station\", \"station\", \"station\", \"station\", \"station\", \"stealth\", \"stealth\", \"stealth\", \"stealth\", \"stephen_hammond\", \"stonework\", \"stored_value\", \"straken\", \"strategic\", \"strategic\", \"strategic\", \"strategic\", \"strategic\", \"strategic\", \"strategic\", \"strategic\", \"strategic\", \"strategic\", \"strategic\", \"strategic\", \"strategic\", \"strategic\", \"strategic\", \"strategic\", \"strategic\", \"strategic\", \"strategic\", \"strategic\", \"strategic\", \"strategy\", \"strategy\", \"strategy\", \"strategy\", \"strategy\", \"strategy\", \"strategy\", \"strategy\", \"strategy\", \"strategy\", \"strategy\", \"strategy\", \"strategy\", \"strategy\", \"strategy\", \"strategy\", \"strategy\", \"strategy\", \"strategy\", \"strategy\", \"stratford\", \"stratford\", \"stratford\", \"stratford\", \"stratford\", \"stratford\", \"stratford\", \"stratford\", \"stratford\", \"stratford\", \"stratford\", \"stratford\", \"stratford\", \"stratford\", \"stratford\", \"street_grade\", \"strgl\", \"strong_presumption\", \"struck_kille\", \"studio\", \"studio\", \"studio\", \"studio\", \"subsection\", \"subsection\", \"subsection\", \"subsection_applie\", \"subsidiaries_joint_venture\", \"subsidiary\", \"subsidiary\", \"subsidiary\", \"subsidiary\", \"subsidiary\", \"subsidiary\", \"subsidiary\", \"subsidiary\", \"subsidiary\", \"subsidiary\", \"subsidiary\", \"subsidiary\", \"subsidiary\", \"subsidiary\", \"subsidiary\", \"subsidiary\", \"subsidiary\", \"subsidy\", \"subsidy\", \"subsidy\", \"subsidy\", \"subsidy\", \"subsidy\", \"subsidy\", \"subsidy\", \"subsidy\", \"subsidy\", \"subsidy\", \"subsidy\", \"subsidy\", \"suf\\ufb01cient\", \"summarising\", \"supertram\", \"supertram\", \"supertram\", \"supertram\", \"supertram\", \"supplementary_credit_approval\", \"supplementary_license\", \"supplementary_license\", \"supplementary_provision\", \"supply\", \"supply\", \"supply\", \"supply\", \"supply\", \"supply\", \"supply\", \"supply\", \"supply\", \"supply\", \"supply\", \"supply\", \"supply\", \"supply\", \"supply\", \"supply\", \"supply\", \"supply\", \"supply\", \"supply\", \"support\", \"support\", \"support\", \"support\", \"support\", \"support\", \"support\", \"support\", \"support\", \"support\", \"support\", \"support\", \"support\", \"support\", \"support\", \"support\", \"support\", \"support\", \"support\", \"support\", \"support\", \"support\", \"support\", \"support\", \"support\", \"support\", \"support\", \"support\", \"sustainable\", \"sustainable\", \"sustainable\", \"sustainable\", \"sustainable\", \"sustainable\", \"sustainable\", \"sustainable\", \"sustainable\", \"sustainable\", \"sustainable\", \"sustainable\", \"sustainable\", \"sustainable\", \"sustainable\", \"sustainable\", \"switching_immediately_regime\", \"syme\", \"syme\", \"system\", \"system\", \"system\", \"system\", \"system\", \"system\", \"system\", \"system\", \"system\", \"system\", \"system\", \"system\", \"system\", \"system\", \"system\", \"system\", \"system\", \"system\", \"system\", \"system\", \"system\", \"system\", \"system\", \"system\", \"system\", \"system\", \"system\", \"system\", \"system\", \"system\", \"system\", \"system\", \"system\", \"system\", \"system\", \"table\", \"table\", \"table\", \"table\", \"table\", \"table\", \"table\", \"table\", \"table\", \"table\", \"table\", \"table\", \"table\", \"table\", \"table\", \"table\", \"table\", \"table\", \"table\", \"tabling\", \"tabling\", \"tabling\", \"tactile_pave\", \"tactile_pave\", \"tactile_pave\", \"tactile_pave\", \"tainly\", \"take\", \"take\", \"take\", \"take\", \"take\", \"take\", \"take\", \"take\", \"take\", \"take\", \"take\", \"take\", \"take\", \"take\", \"take\", \"take\", \"take\", \"take\", \"take\", \"take\", \"take\", \"take\", \"take\", \"take\", \"take\", \"take\", \"take\", \"take\", \"take\", \"take\", \"take\", \"take\", \"take\", \"take\", \"take\", \"tangible_fixed_asset\", \"tangible_fixed_asset\", \"tannoy\", \"target\", \"target\", \"target\", \"target\", \"target\", \"target\", \"target\", \"target\", \"target\", \"target\", \"target\", \"target\", \"target\", \"target\", \"target\", \"target\", \"target\", \"target\", \"target\", \"tarr\", \"taxation\", \"taxation\", \"taxation\", \"taxation\", \"taxation\", \"taxation\", \"taxation\", \"taxation\", \"taxation\", \"taxation\", \"taxation\", \"taxation\", \"taxation\", \"taxation\", \"taxi_private_hire\", \"taxicard\", \"taylor_witcher\", \"teesport\", \"teesport\", \"terminating_junction\", \"tetley\", \"thames_clipper\", \"thank\", \"thank\", \"thank\", \"thank\", \"thank\", \"thank\", \"thank\", \"thank\", \"thank\", \"thank\", \"thank\", \"thank\", \"thank\", \"thank\", \"thank\", \"thank\", \"thank\", \"thank\", \"thank\", \"thank\", \"thank\", \"thing\", \"thing\", \"thing\", \"thing\", \"thing\", \"thing\", \"thing\", \"thing\", \"thing\", \"thing\", \"thing\", \"thing\", \"thing\", \"thing\", \"thing\", \"thing\", \"thing\", \"thing\", \"thing\", \"thing\", \"think\", \"think\", \"think\", \"think\", \"think\", \"think\", \"think\", \"think\", \"think\", \"think\", \"think\", \"think\", \"think\", \"think\", \"think\", \"think\", \"think\", \"think\", \"think\", \"think\", \"think\", \"think\", \"think\", \"think\", \"think\", \"think\", \"think\", \"think\", \"think\", \"think\", \"third_band_octave\", \"thomas_sparks_susan_goodbody\", \"thornley_taylor\", \"thornley_taylor\", \"three_sidings_she\", \"ticket\", \"ticket\", \"ticket\", \"ticket\", \"ticket\", \"ticket\", \"ticket\", \"ticket\", \"ticket\", \"ticket\", \"ticket\", \"ticket\", \"ticket\", \"ticket\", \"ticket\", \"ticket\", \"ticket\", \"ticket\", \"ticket_inspectors_function\", \"ticketing\", \"ticketing\", \"ticketing\", \"ticketing\", \"ticketing\", \"ticketing\", \"ticketing\", \"ticketing\", \"ticketing\", \"ticketing\", \"ticketing\", \"ticularly\", \"tied_supply_chain\", \"tilley\", \"tilley\", \"time\", \"time\", \"time\", \"time\", \"time\", \"time\", \"time\", \"time\", \"time\", \"time\", \"time\", \"time\", \"time\", \"time\", \"time\", \"time\", \"time\", \"time\", \"time\", \"time\", \"time\", \"time\", \"time\", \"time\", \"time\", \"time\", \"time\", \"time\", \"time\", \"time\", \"time\", \"time\", \"time\", \"time\", \"time\", \"timetabler\", \"tion\", \"tion\", \"tion\", \"tion\", \"tion\", \"tion\", \"tion\", \"tion\", \"tion\", \"tlrn\", \"tlrn\", \"tlrn\", \"tocu\", \"tocu\", \"today\", \"today\", \"today\", \"today\", \"today\", \"today\", \"today\", \"today\", \"today\", \"today\", \"today\", \"today\", \"today\", \"today\", \"today\", \"today\", \"today\", \"today\", \"today\", \"ton\", \"ton\", \"ton\", \"ton\", \"ton\", \"ton\", \"ton\", \"tonight\", \"tonight\", \"tonight\", \"tonight\", \"tonight\", \"tonight\", \"tonne\", \"tonne\", \"tonne\", \"tonne\", \"tonne\", \"tonne\", \"tonne\", \"tonne\", \"tonne\", \"tonne\", \"tonne\", \"tonne\", \"tonne\", \"tonne\", \"tonne\", \"tons_gross_weight\", \"tony_poulter_continue\", \"toole\", \"toole\", \"toole\", \"toot\", \"toot\", \"toot\", \"toot\", \"tory\", \"tory\", \"tory\", \"tory\", \"total\", \"total\", \"total\", \"total\", \"total\", \"total\", \"total\", \"total\", \"total\", \"total\", \"total\", \"total\", \"total\", \"total\", \"total\", \"total\", \"total\", \"total\", \"total\", \"tout\", \"tout\", \"tout\", \"tout\", \"tower_hamlet\", \"tower_hamlet\", \"tower_hamlet\", \"tower_hamlet\", \"tower_hamlet\", \"towhlb\", \"towhlb\", \"tpe\", \"tpe\", \"tpws\", \"tpws\", \"tpws\", \"tpws\", \"tpws\", \"tpws\", \"tpws\", \"tpws\", \"track\", \"track\", \"track\", \"track\", \"track\", \"track\", \"track\", \"track\", \"track\", \"track\", \"track\", \"track\", \"track\", \"track\", \"track\", \"track\", \"track\", \"track\", \"track\", \"track\", \"track\", \"track_share\", \"trackside\", \"trackside\", \"trackside\", \"trackside\", \"trackside\", \"trackwork_speed_restriction\", \"trade\", \"trade\", \"trade\", \"trade\", \"trade\", \"trade\", \"trade\", \"trade\", \"trade\", \"trade\", \"trade\", \"trade\", \"trade\", \"trade\", \"trade\", \"trade\", \"trade\", \"trade\", \"traffic\", \"traffic\", \"traffic\", \"traffic\", \"traffic\", \"traffic\", \"traffic\", \"traffic\", \"traffic\", \"traffic\", \"traffic\", \"traffic\", \"traffic\", \"traffic\", \"traffic\", \"traffic\", \"traffic\", \"traffic\", \"traffic\", \"traffic\", \"traffic\", \"traffic\", \"traffic_commissioner\", \"traffic_commissioner\", \"traffic_commissioner\", \"traffic_commissioner\", \"traffic_commissioner\", \"traffic_commissioner\", \"traf\\ufb01c\", \"tragic_accident\", \"tragic_accident\", \"train\", \"train\", \"train\", \"train\", \"train\", \"train\", \"train\", \"train\", \"train\", \"train\", \"train\", \"train\", \"train\", \"train\", \"train\", \"train\", \"train\", \"train\", \"train\", \"train\", \"train\", \"train\", \"train\", \"train\", \"train\", \"train\", \"train\", \"train\", \"train\", \"train\", \"train\", \"train\", \"train\", \"train\", \"train\", \"train_traf\\ufb01c_intensity\", \"trallic\", \"tram\", \"tram\", \"tram\", \"tram\", \"tram\", \"tram\", \"tram\", \"tram\", \"tram\", \"tram\", \"tram\", \"tramcar\", \"tramlink\", \"tramlink\", \"tramlink\", \"tramlink\", \"tramlink\", \"tramway\", \"tramway\", \"tramway\", \"tramway\", \"tramway\", \"tramway\", \"tramway\", \"tran_sport\", \"tran_sport\", \"tran_sport\", \"tran_sport\", \"transfer\", \"transfer\", \"transfer\", \"transfer\", \"transfer\", \"transfer\", \"transfer\", \"transfer\", \"transfer\", \"transfer\", \"transfer\", \"transfer\", \"transfer\", \"transfer\", \"transfer\", \"transfer\", \"transfer\", \"transfer\", \"transfer\", \"transfer\", \"transfer\", \"transferee\", \"transferor\", \"transit\", \"transit\", \"transit\", \"transit\", \"transit\", \"transit\", \"transit\", \"transit\", \"transit\", \"transit\", \"transit\", \"transit\", \"transit\", \"transit\", \"transit\", \"transpennine_express_franchise\", \"transport\", \"transport\", \"transport\", \"transport\", \"transport\", \"transport\", \"transport\", \"transport\", \"transport\", \"transport\", \"transport\", \"transport\", \"transport\", \"transport\", \"transport\", \"transport\", \"transport\", \"transport\", \"transport\", \"transport\", \"transport\", \"transport\", \"transport\", \"transport\", \"transport\", \"transport\", \"transport\", \"transport\", \"transport\", \"transport\", \"transport\", \"transport\", \"transport\", \"transport\", \"transport\", \"trarisport\", \"trarisport\", \"travel\", \"travel\", \"travel\", \"travel\", \"travel\", \"travel\", \"travel\", \"travel\", \"travel\", \"travel\", \"travel\", \"travel\", \"travel\", \"travel\", \"travel\", \"travel\", \"travel\", \"travel\", \"travel\", \"travel\", \"travel\", \"travel\", \"travel\", \"travel\", \"travel\", \"travel\", \"travelator\", \"travelator\", \"travelcard\", \"travelcard\", \"travelcard\", \"travelcard\", \"travelcard\", \"travelcard\", \"travelcard\", \"travelcard\", \"travelcard\", \"travelcard\", \"travelcard\", \"traver\", \"traver\", \"traver\", \"traver\", \"treman\", \"trespass\", \"trespass\", \"trespass\", \"trespass\", \"trespass\", \"trespass\", \"trespass\", \"trespass\", \"trespass\", \"trespass\", \"trespass\", \"trespass_vandalism\", \"trespasser\", \"trespasser\", \"trespasser\", \"trimmer\", \"trimmer\", \"trolleybus\", \"trolleybus\", \"trolleybuse\", \"trunke\", \"trunke\", \"trunke\", \"tube\", \"tube\", \"tube\", \"tube\", \"tube\", \"tube\", \"tube\", \"tube\", \"tube\", \"tube\", \"tube\", \"tube\", \"tube\", \"tube\", \"tube\", \"tube\", \"tube_line\", \"tube_line\", \"tube_line\", \"tube_line\", \"tube_line\", \"tube_line\", \"tubeline\", \"tucker\", \"tuition_fee\", \"tunnel\", \"tunnel\", \"tunnel\", \"tunnel\", \"tunnel\", \"tunnel\", \"tunnel\", \"tunnel\", \"tunnel\", \"tunnel\", \"tunnel\", \"tunnel\", \"tunnel\", \"tunnel\", \"tunnel\", \"tunnel\", \"tunnel\", \"tunnel\", \"tunnel_boring_machine\", \"tunnel_boring_machine\", \"tunnel_boring_machine\", \"tunnel_boring_machine\", \"tunnelling\", \"tunnelling\", \"tunnelling\", \"tunnelling\", \"tunnelling\", \"tunnelling\", \"tunnelling\", \"tunnelling\", \"tunnelling\", \"tunnelling\", \"turbo\", \"turbo\", \"turbo\", \"turbo\", \"turbostar\", \"turbostar\", \"turbostar\", \"ture\", \"ture\", \"turnock\", \"turvey\", \"twogood\", \"ubiquitous\", \"ubiquitous\", \"ubiquitous\", \"underground\", \"underground\", \"underground\", \"underground\", \"underground\", \"underground\", \"underground\", \"underground\", \"underground\", \"underground\", \"underground\", \"underground\", \"underground\", \"underground\", \"underground\", \"underground\", \"underground\", \"underground\", \"underground\", \"underground\", \"underground\", \"underground\", \"underground\", \"underground\", \"underground\", \"underground\", \"underground\", \"underground\", \"underground\", \"underground\", \"underlying_assets_liabilitie\", \"understand\", \"understand\", \"understand\", \"understand\", \"understand\", \"understand\", \"understand\", \"understand\", \"understand\", \"understand\", \"understand\", \"understand\", \"understand\", \"understand\", \"understand\", \"understand\", \"understand\", \"understand\", \"understand\", \"understand\", \"understand\", \"undertaker\", \"undertaker\", \"undertaker\", \"undertaker\", \"undertakers\", \"undertakers\", \"undertaking\", \"undertaking\", \"undertaking\", \"undertaking\", \"undertaking\", \"undertaking\", \"undertaking\", \"undertaking\", \"undertaking\", \"undertaking\", \"undertaking\", \"undertaking\", \"undertaking\", \"undertaking\", \"undertaking\", \"undertaking\", \"undertaking\", \"undertaking\", \"unewd\", \"unfunded_pension_liabilitie\", \"uniformed\", \"uniformed\", \"uniformed\", \"uniformed\", \"university\", \"university\", \"university\", \"university\", \"university\", \"university\", \"university\", \"university\", \"university\", \"university\", \"unlit\", \"unregulated_fare\", \"unregulated_fare\", \"unregulated_fare\", \"urban\", \"urban\", \"urban\", \"urban\", \"urban\", \"urban\", \"urban\", \"urban\", \"urban\", \"urban\", \"urban\", \"urban\", \"urban\", \"urban\", \"urban\", \"urban\", \"use\", \"use\", \"use\", \"use\", \"use\", \"use\", \"use\", \"use\", \"use\", \"use\", \"use\", \"use\", \"use\", \"use\", \"use\", \"use\", \"use\", \"use\", \"use\", \"use\", \"use\", \"use\", \"use\", \"use\", \"utilities_apparatus_provision\", \"ution\", \"value\", \"value\", \"value\", \"value\", \"value\", \"value\", \"value\", \"value\", \"value\", \"value\", \"value\", \"value\", \"value\", \"value\", \"value\", \"value\", \"value\", \"value\", \"value\", \"value\", \"value_money_test\", \"value_money_test\", \"vandalism\", \"vandalism\", \"vandalism\", \"vandalism\", \"vandalism\", \"vandalism\", \"vandalism\", \"vandalism\", \"vandalism\", \"vandalism\", \"vandalism\", \"vehicle\", \"vehicle\", \"vehicle\", \"vehicle\", \"vehicle\", \"vehicle\", \"vehicle\", \"vehicle\", \"vehicle\", \"vehicle\", \"vehicle\", \"vehicle\", \"vehicle\", \"vehicle\", \"vehicle\", \"vehicle\", \"vehicle\", \"vehicle\", \"vehicle\", \"vehicle\", \"vehicle\", \"vehicular_access\", \"venue\", \"venue\", \"venue\", \"venue\", \"venue\", \"venue\", \"venue\", \"venue\", \"verbund\", \"vertical_integration\", \"vertical_integration\", \"vertical_integration\", \"vestibule\", \"vestibule\", \"vibration\", \"vibration\", \"vibration\", \"vibration\", \"vibration\", \"victoria_coach_station\", \"victoria_coach_station\", \"victoria_coach_station\", \"view\", \"view\", \"view\", \"view\", \"view\", \"view\", \"view\", \"view\", \"view\", \"view\", \"view\", \"view\", \"view\", \"view\", \"view\", \"view\", \"view\", \"view\", \"view\", \"view\", \"view\", \"view\", \"viscount_astor_lord\", \"voice_recorde\", \"voidage\", \"volv\", \"wagon\", \"wagon\", \"wagon\", \"wagon\", \"wagon\", \"wagon\", \"wagon\", \"wagon\", \"wagon\", \"wagon\", \"wagon\", \"wagon\", \"waiver\", \"walter\", \"walworth\", \"walworth\", \"want\", \"want\", \"want\", \"want\", \"want\", \"want\", \"want\", \"want\", \"want\", \"want\", \"want\", \"want\", \"want\", \"want\", \"want\", \"want\", \"want\", \"want\", \"want\", \"want\", \"want\", \"want\", \"water\", \"water\", \"water\", \"water\", \"water\", \"water\", \"water\", \"water\", \"water\", \"water\", \"water\", \"water\", \"water\", \"water\", \"water\", \"water\", \"water\", \"water\", \"waterborne\", \"waterborne\", \"waterborne\", \"waterborne\", \"waterborne\", \"waterway\", \"waterway\", \"waterway\", \"waterway\", \"waterway\", \"waterway\", \"weakening_restrictions\", \"webb\", \"weiss\", \"weiss\", \"well\", \"well\", \"well\", \"well\", \"well\", \"well\", \"well\", \"well\", \"well\", \"well\", \"well\", \"well\", \"well\", \"well\", \"well\", \"well\", \"well\", \"well\", \"well\", \"well\", \"well\", \"well\", \"well\", \"well\", \"well\", \"well\", \"well\", \"well\", \"well\", \"well\", \"well\", \"well\", \"well\", \"well\", \"well\", \"welsh_sharon_davie\", \"west_bridge_carrye\", \"west_mcintyre_cornish\", \"westcc\", \"westcc\", \"wharf\", \"wharf\", \"wharf\", \"wharf\", \"wharf\", \"wharf\", \"wharf\", \"wharf\", \"wharf\", \"whether_powers_sanction\", \"white_paper\", \"white_paper\", \"white_paper\", \"white_paper\", \"white_paper\", \"white_paper\", \"white_paper\", \"white_paper\", \"white_paper\", \"white_paper\", \"whitechapel\", \"whitechapel\", \"whitechapel\", \"whitechapel\", \"whitechapel\", \"whitehead\", \"whitehead\", \"whitehead\", \"wholesale_privatisation\", \"wilkin\", \"winbourne\", \"winbourne\", \"winckworth\", \"winsor\", \"winsor\", \"winsor\", \"winter_supplementary_estimate\", \"wire\", \"wire\", \"wire\", \"wire\", \"wire\", \"wire\", \"wire\", \"wire\", \"wire\", \"wire\", \"wire\", \"witcher\", \"withdraw_amendment\", \"withdrawal_mark_stock\", \"within_limits_deposited\", \"within_limits_deviation\", \"within_limits_deviation\", \"within_limits_deviation\", \"within_limits_deviation\", \"within_relevant_limit\", \"witten\", \"woman\", \"woman\", \"woman\", \"woman\", \"woman\", \"woman\", \"woman\", \"woman\", \"woman\", \"woman\", \"woman\", \"woman\", \"woman\", \"woman\", \"woman\", \"woman\", \"woman\", \"woodseer_hanbury_residents_association\", \"woodseer_hanbury_residents_association\", \"woodseer_hanbury_residents_association\", \"woolwich\", \"woolwich\", \"woolwich\", \"woolwich\", \"woolwich\", \"woolwich\", \"woolwich\", \"work\", \"work\", \"work\", \"work\", \"work\", \"work\", \"work\", \"work\", \"work\", \"work\", \"work\", \"work\", \"work\", \"work\", \"work\", \"work\", \"work\", \"work\", \"work\", \"work\", \"work\", \"work\", \"work\", \"work\", \"work\", \"work\", \"work\", \"work\", \"work\", \"work\", \"work\", \"work\", \"work\", \"work\", \"work\", \"works_authorise\", \"works_authorise\", \"works_land_comprise\", \"workstream\", \"workstream\", \"workstream\", \"workstream\", \"would\", \"would\", \"would\", \"would\", \"would\", \"would\", \"would\", \"would\", \"would\", \"would\", \"would\", \"would\", \"would\", \"would\", \"would\", \"would\", \"would\", \"would\", \"would\", \"would\", \"would\", \"would\", \"would\", \"would\", \"would\", \"would\", \"would\", \"would\", \"would\", \"would\", \"would\", \"would\", \"would\", \"would\", \"would\", \"year\", \"year\", \"year\", \"year\", \"year\", \"year\", \"year\", \"year\", \"year\", \"year\", \"year\", \"year\", \"year\", \"year\", \"year\", \"year\", \"year\", \"year\", \"year\", \"year\", \"year\", \"year\", \"year\", \"year\", \"year\", \"year\", \"year\", \"year\", \"year\", \"year\", \"year\", \"year\", \"year\", \"year\", \"year\", \"year_ended_march\", \"year_ended_march\", \"year_ended_march\", \"year_ended_march\", \"yesterday\", \"yesterday\", \"yesterday\", \"yesterday\", \"yesterday\", \"yesterday\", \"yesterday\", \"yesterday\", \"yesterday\", \"yesterday\", \"yesterday\", \"yesterday\", \"yesterday\", \"yesterday\", \"yesterday\", \"\\ufb01gure\", \"\\ufb01nal\", \"\\ufb01nance\", \"\\ufb01nancial\", \"\\ufb02eet\", \"\\ufb02exibility\", \"\\ufb02ow\"]}, \"R\": 30, \"lambda.step\": 0.01, \"plot.opts\": {\"xlab\": \"PC1\", \"ylab\": \"PC2\"}, \"topic.order\": [1, 2, 3, 4, 5, 6, 7, 8, 9, 10, 11, 12, 13, 14, 15, 16, 17, 18, 19, 20, 21, 22, 23, 24, 25, 26, 27, 28, 29, 30, 31, 32, 33, 34, 35]};\n",
       "\n",
       "function LDAvis_load_lib(url, callback){\n",
       "  var s = document.createElement('script');\n",
       "  s.src = url;\n",
       "  s.async = true;\n",
       "  s.onreadystatechange = s.onload = callback;\n",
       "  s.onerror = function(){console.warn(\"failed to load library \" + url);};\n",
       "  document.getElementsByTagName(\"head\")[0].appendChild(s);\n",
       "}\n",
       "\n",
       "if(typeof(LDAvis) !== \"undefined\"){\n",
       "   // already loaded: just create the visualization\n",
       "   !function(LDAvis){\n",
       "       new LDAvis(\"#\" + \"ldavis_el2097225746010067683522498619\", ldavis_el2097225746010067683522498619_data);\n",
       "   }(LDAvis);\n",
       "}else if(typeof define === \"function\" && define.amd){\n",
       "   // require.js is available: use it to load d3/LDAvis\n",
       "   require.config({paths: {d3: \"https://d3js.org/d3.v5\"}});\n",
       "   require([\"d3\"], function(d3){\n",
       "      window.d3 = d3;\n",
       "      LDAvis_load_lib(\"https://cdn.jsdelivr.net/gh/bmabey/pyLDAvis@3.3.1/pyLDAvis/js/ldavis.v3.0.0.js\", function(){\n",
       "        new LDAvis(\"#\" + \"ldavis_el2097225746010067683522498619\", ldavis_el2097225746010067683522498619_data);\n",
       "      });\n",
       "    });\n",
       "}else{\n",
       "    // require.js not available: dynamically load d3 & LDAvis\n",
       "    LDAvis_load_lib(\"https://d3js.org/d3.v5.js\", function(){\n",
       "         LDAvis_load_lib(\"https://cdn.jsdelivr.net/gh/bmabey/pyLDAvis@3.3.1/pyLDAvis/js/ldavis.v3.0.0.js\", function(){\n",
       "                 new LDAvis(\"#\" + \"ldavis_el2097225746010067683522498619\", ldavis_el2097225746010067683522498619_data);\n",
       "            })\n",
       "         });\n",
       "}\n",
       "</script>"
      ],
      "text/plain": [
       "PreparedData(topic_coordinates=              x         y  topics  cluster       Freq\n",
       "topic                                                \n",
       "0     -0.214989 -0.021796       1        1   0.013838\n",
       "1      0.142500  0.032337       2        1  11.106007\n",
       "2     -0.187080  0.034436       3        1   0.015152\n",
       "3     -0.147078 -0.038750       4        1   0.014848\n",
       "4     -0.206070  0.007263       5        1   0.013905\n",
       "5      0.154150 -0.012362       6        1   5.959935\n",
       "6      0.138632 -0.097518       7        1   3.894825\n",
       "7      0.160753  0.024943       8        1   1.950790\n",
       "8      0.022895 -0.009737       9        1   0.134947\n",
       "9      0.132291  0.043518      10        1   6.864843\n",
       "10     0.160493  0.058847      11        1   4.414204\n",
       "11     0.064256  0.160226      12        1   0.317549\n",
       "12    -0.220577  0.015484      13        1   0.013689\n",
       "13     0.166778  0.001230      14        1   3.931453\n",
       "14     0.144390  0.026799      15        1   9.179039\n",
       "15     0.127614 -0.251457      16        1   1.575809\n",
       "16     0.157218  0.001093      17        1   1.421549\n",
       "17     0.162131  0.029771      18        1   2.215629\n",
       "18    -0.197849  0.009067      19        1   0.013973\n",
       "19     0.146118 -0.096832      20        1  12.326023\n",
       "20     0.136793  0.000748      21        1   7.339839\n",
       "21     0.165663  0.101377      22        1   1.376269\n",
       "22    -0.245305  0.004770      23        1   0.013996\n",
       "23     0.162122 -0.000230      24        1   9.259016\n",
       "24    -0.187987 -0.003435      25        1   0.014023\n",
       "25     0.161157  0.080688      26        1   8.804217\n",
       "26     0.130564 -0.097290      27        1   3.060724\n",
       "27    -0.209286  0.020382      28        1   0.013855\n",
       "28    -0.236547 -0.005897      29        1   0.013581\n",
       "29     0.131227 -0.017402      30        1   0.527182\n",
       "30    -0.192897 -0.008477      31        1   0.014067\n",
       "31    -0.294247 -0.009633      32        1   0.018816\n",
       "32    -0.208923 -0.008115      33        1   0.013932\n",
       "33     0.141174  0.026453      34        1   4.137875\n",
       "34    -0.160084 -0.000499      35        1   0.014599, topic_info=            Term          Freq         Total Category  logprob  loglift\n",
       "269    transport  55158.000000  55158.000000  Default  30.0000  30.0000\n",
       "284        would  45316.000000  45316.000000  Default  29.0000  29.0000\n",
       "59     crossrail  13837.000000  13837.000000  Default  28.0000  28.0000\n",
       "151         make  26960.000000  26960.000000  Default  27.0000  27.0000\n",
       "111   government  24196.000000  24196.000000  Default  26.0000  26.0000\n",
       "...          ...           ...           ...      ...      ...      ...\n",
       "1685        cost      1.441665  20550.364202  Topic35  -6.0467  -0.7329\n",
       "268        train      1.374051  18902.289938  Topic35  -6.0948  -0.6973\n",
       "45     committee      1.179826  13266.006861  Topic35  -6.2471  -0.4956\n",
       "4916   passenger      1.195221  18884.689280  Topic35  -6.2342  -0.8358\n",
       "282         work      1.159177  22610.270193  Topic35  -6.2648  -1.0465\n",
       "\n",
       "[2979 rows x 6 columns], token_table=       Topic      Freq        Term\n",
       "term                              \n",
       "25335     26  0.994323        aaib\n",
       "12871     10  0.024634   abatement\n",
       "12871     11  0.036951   abatement\n",
       "12871     14  0.689760   abatement\n",
       "12871     20  0.061586   abatement\n",
       "...      ...       ...         ...\n",
       "43254     11  0.985971      ﬁnance\n",
       "43256     11  0.987640    ﬁnancial\n",
       "43268     11  0.972396        ﬂeet\n",
       "43269     11  0.968526  ﬂexibility\n",
       "43274     11  0.982225         ﬂow\n",
       "\n",
       "[10007 rows x 3 columns], R=30, lambda_step=0.01, plot_opts={'xlab': 'PC1', 'ylab': 'PC2'}, topic_order=[1, 2, 3, 4, 5, 6, 7, 8, 9, 10, 11, 12, 13, 14, 15, 16, 17, 18, 19, 20, 21, 22, 23, 24, 25, 26, 27, 28, 29, 30, 31, 32, 33, 34, 35])"
      ]
     },
     "execution_count": 121,
     "metadata": {},
     "output_type": "execute_result"
    }
   ],
   "source": [
    "# Visualize the topics\n",
    "pyLDAvis.enable_notebook()\n",
    "vis = pyLDAvis.gensim_models.prepare(lda_model, corpus, id2word, sort_topics = False )\n",
    "vis"
   ]
  },
  {
   "cell_type": "markdown",
   "metadata": {},
   "source": [
    "### Prototypical texts for each topic\n",
    "I followed the method of extraction of prototypical text suggested by PTBI proposed by Marchetti and Puranam (2020). Its heart lies in that for parameter L (probability that a document belongs to a topic), at least 1/L documents with probablity that they belong to the topic >= L are needed to interpret the topics, this method tries to find out the opitimal value of L to maximize the percentage of interpretable topics (Marchetti and Puranam, 2020, p. 20)"
   ]
  },
  {
   "cell_type": "code",
   "execution_count": 122,
   "metadata": {},
   "outputs": [],
   "source": [
    "List_num_doc = [x for x in range(1, 20, 1)] # generate a list of 1/L (minimum number of documents to interpret a topic)\n",
    "list_L = [1/x for x in List_num_doc]        # generate a list of L"
   ]
  },
  {
   "cell_type": "code",
   "execution_count": 123,
   "metadata": {},
   "outputs": [],
   "source": [
    "# create the function for computing the percentage of potentially interpretable topics against parameter L\n",
    "def perc(i, df):\n",
    "    list_num_topics = []\n",
    "    for j in df:                                  \n",
    "        topic_filter = df[j] >= i         \n",
    "        m = df[j][topic_filter].count()           \n",
    "        list_num_topics.append(m)                                             \n",
    "        count1 = sum(map(lambda x : x >= 1/i, list_num_topics))                                     \n",
    "        perc1 = count1 / k\n",
    "    return(perc1)"
   ]
  },
  {
   "cell_type": "markdown",
   "metadata": {},
   "source": [
    "The following chart shows that the percentage of potentially interpretable topics for “high enough” levels of L is not large enough, so the paragraph-based interpretation can be explored. "
   ]
  },
  {
   "cell_type": "code",
   "execution_count": 124,
   "metadata": {},
   "outputs": [
    {
     "data": {
      "application/vnd.plotly.v1+json": {
       "config": {
        "plotlyServerURL": "https://plotly.com"
       },
       "data": [
        {
         "hovertemplate": "Parameter L=%{x}<br>Percentage of interpretable topics=%{y}<extra></extra>",
         "legendgroup": "",
         "line": {
          "color": "#636efa",
          "dash": "solid"
         },
         "mode": "lines+markers",
         "name": "",
         "orientation": "v",
         "showlegend": false,
         "type": "scatter",
         "x": [
          1,
          0.5,
          0.3333333333333333,
          0.25,
          0.2,
          0.16666666666666666,
          0.14285714285714285,
          0.125,
          0.1111111111111111,
          0.1,
          0.09090909090909091,
          0.08333333333333333,
          0.07692307692307693,
          0.07142857142857142,
          0.06666666666666667,
          0.0625,
          0.058823529411764705,
          0.05555555555555555,
          0.05263157894736842
         ],
         "xaxis": "x",
         "y": [
          0,
          0.37142857142857144,
          0.37142857142857144,
          0.34285714285714286,
          0.34285714285714286,
          0.34285714285714286,
          0.34285714285714286,
          0.3142857142857143,
          0.3142857142857143,
          0.3142857142857143,
          0.34285714285714286,
          0.3142857142857143,
          0.3142857142857143,
          0.3142857142857143,
          0.3142857142857143,
          0.34285714285714286,
          0.34285714285714286,
          0.34285714285714286,
          0.34285714285714286
         ],
         "yaxis": "y"
        }
       ],
       "layout": {
        "autosize": false,
        "height": 400,
        "legend": {
         "tracegroupgap": 0
        },
        "template": {
         "data": {
          "bar": [
           {
            "error_x": {
             "color": "#2a3f5f"
            },
            "error_y": {
             "color": "#2a3f5f"
            },
            "marker": {
             "line": {
              "color": "#E5ECF6",
              "width": 0.5
             }
            },
            "type": "bar"
           }
          ],
          "barpolar": [
           {
            "marker": {
             "line": {
              "color": "#E5ECF6",
              "width": 0.5
             }
            },
            "type": "barpolar"
           }
          ],
          "carpet": [
           {
            "aaxis": {
             "endlinecolor": "#2a3f5f",
             "gridcolor": "white",
             "linecolor": "white",
             "minorgridcolor": "white",
             "startlinecolor": "#2a3f5f"
            },
            "baxis": {
             "endlinecolor": "#2a3f5f",
             "gridcolor": "white",
             "linecolor": "white",
             "minorgridcolor": "white",
             "startlinecolor": "#2a3f5f"
            },
            "type": "carpet"
           }
          ],
          "choropleth": [
           {
            "colorbar": {
             "outlinewidth": 0,
             "ticks": ""
            },
            "type": "choropleth"
           }
          ],
          "contour": [
           {
            "colorbar": {
             "outlinewidth": 0,
             "ticks": ""
            },
            "colorscale": [
             [
              0,
              "#0d0887"
             ],
             [
              0.1111111111111111,
              "#46039f"
             ],
             [
              0.2222222222222222,
              "#7201a8"
             ],
             [
              0.3333333333333333,
              "#9c179e"
             ],
             [
              0.4444444444444444,
              "#bd3786"
             ],
             [
              0.5555555555555556,
              "#d8576b"
             ],
             [
              0.6666666666666666,
              "#ed7953"
             ],
             [
              0.7777777777777778,
              "#fb9f3a"
             ],
             [
              0.8888888888888888,
              "#fdca26"
             ],
             [
              1,
              "#f0f921"
             ]
            ],
            "type": "contour"
           }
          ],
          "contourcarpet": [
           {
            "colorbar": {
             "outlinewidth": 0,
             "ticks": ""
            },
            "type": "contourcarpet"
           }
          ],
          "heatmap": [
           {
            "colorbar": {
             "outlinewidth": 0,
             "ticks": ""
            },
            "colorscale": [
             [
              0,
              "#0d0887"
             ],
             [
              0.1111111111111111,
              "#46039f"
             ],
             [
              0.2222222222222222,
              "#7201a8"
             ],
             [
              0.3333333333333333,
              "#9c179e"
             ],
             [
              0.4444444444444444,
              "#bd3786"
             ],
             [
              0.5555555555555556,
              "#d8576b"
             ],
             [
              0.6666666666666666,
              "#ed7953"
             ],
             [
              0.7777777777777778,
              "#fb9f3a"
             ],
             [
              0.8888888888888888,
              "#fdca26"
             ],
             [
              1,
              "#f0f921"
             ]
            ],
            "type": "heatmap"
           }
          ],
          "heatmapgl": [
           {
            "colorbar": {
             "outlinewidth": 0,
             "ticks": ""
            },
            "colorscale": [
             [
              0,
              "#0d0887"
             ],
             [
              0.1111111111111111,
              "#46039f"
             ],
             [
              0.2222222222222222,
              "#7201a8"
             ],
             [
              0.3333333333333333,
              "#9c179e"
             ],
             [
              0.4444444444444444,
              "#bd3786"
             ],
             [
              0.5555555555555556,
              "#d8576b"
             ],
             [
              0.6666666666666666,
              "#ed7953"
             ],
             [
              0.7777777777777778,
              "#fb9f3a"
             ],
             [
              0.8888888888888888,
              "#fdca26"
             ],
             [
              1,
              "#f0f921"
             ]
            ],
            "type": "heatmapgl"
           }
          ],
          "histogram": [
           {
            "marker": {
             "colorbar": {
              "outlinewidth": 0,
              "ticks": ""
             }
            },
            "type": "histogram"
           }
          ],
          "histogram2d": [
           {
            "colorbar": {
             "outlinewidth": 0,
             "ticks": ""
            },
            "colorscale": [
             [
              0,
              "#0d0887"
             ],
             [
              0.1111111111111111,
              "#46039f"
             ],
             [
              0.2222222222222222,
              "#7201a8"
             ],
             [
              0.3333333333333333,
              "#9c179e"
             ],
             [
              0.4444444444444444,
              "#bd3786"
             ],
             [
              0.5555555555555556,
              "#d8576b"
             ],
             [
              0.6666666666666666,
              "#ed7953"
             ],
             [
              0.7777777777777778,
              "#fb9f3a"
             ],
             [
              0.8888888888888888,
              "#fdca26"
             ],
             [
              1,
              "#f0f921"
             ]
            ],
            "type": "histogram2d"
           }
          ],
          "histogram2dcontour": [
           {
            "colorbar": {
             "outlinewidth": 0,
             "ticks": ""
            },
            "colorscale": [
             [
              0,
              "#0d0887"
             ],
             [
              0.1111111111111111,
              "#46039f"
             ],
             [
              0.2222222222222222,
              "#7201a8"
             ],
             [
              0.3333333333333333,
              "#9c179e"
             ],
             [
              0.4444444444444444,
              "#bd3786"
             ],
             [
              0.5555555555555556,
              "#d8576b"
             ],
             [
              0.6666666666666666,
              "#ed7953"
             ],
             [
              0.7777777777777778,
              "#fb9f3a"
             ],
             [
              0.8888888888888888,
              "#fdca26"
             ],
             [
              1,
              "#f0f921"
             ]
            ],
            "type": "histogram2dcontour"
           }
          ],
          "mesh3d": [
           {
            "colorbar": {
             "outlinewidth": 0,
             "ticks": ""
            },
            "type": "mesh3d"
           }
          ],
          "parcoords": [
           {
            "line": {
             "colorbar": {
              "outlinewidth": 0,
              "ticks": ""
             }
            },
            "type": "parcoords"
           }
          ],
          "pie": [
           {
            "automargin": true,
            "type": "pie"
           }
          ],
          "scatter": [
           {
            "marker": {
             "colorbar": {
              "outlinewidth": 0,
              "ticks": ""
             }
            },
            "type": "scatter"
           }
          ],
          "scatter3d": [
           {
            "line": {
             "colorbar": {
              "outlinewidth": 0,
              "ticks": ""
             }
            },
            "marker": {
             "colorbar": {
              "outlinewidth": 0,
              "ticks": ""
             }
            },
            "type": "scatter3d"
           }
          ],
          "scattercarpet": [
           {
            "marker": {
             "colorbar": {
              "outlinewidth": 0,
              "ticks": ""
             }
            },
            "type": "scattercarpet"
           }
          ],
          "scattergeo": [
           {
            "marker": {
             "colorbar": {
              "outlinewidth": 0,
              "ticks": ""
             }
            },
            "type": "scattergeo"
           }
          ],
          "scattergl": [
           {
            "marker": {
             "colorbar": {
              "outlinewidth": 0,
              "ticks": ""
             }
            },
            "type": "scattergl"
           }
          ],
          "scattermapbox": [
           {
            "marker": {
             "colorbar": {
              "outlinewidth": 0,
              "ticks": ""
             }
            },
            "type": "scattermapbox"
           }
          ],
          "scatterpolar": [
           {
            "marker": {
             "colorbar": {
              "outlinewidth": 0,
              "ticks": ""
             }
            },
            "type": "scatterpolar"
           }
          ],
          "scatterpolargl": [
           {
            "marker": {
             "colorbar": {
              "outlinewidth": 0,
              "ticks": ""
             }
            },
            "type": "scatterpolargl"
           }
          ],
          "scatterternary": [
           {
            "marker": {
             "colorbar": {
              "outlinewidth": 0,
              "ticks": ""
             }
            },
            "type": "scatterternary"
           }
          ],
          "surface": [
           {
            "colorbar": {
             "outlinewidth": 0,
             "ticks": ""
            },
            "colorscale": [
             [
              0,
              "#0d0887"
             ],
             [
              0.1111111111111111,
              "#46039f"
             ],
             [
              0.2222222222222222,
              "#7201a8"
             ],
             [
              0.3333333333333333,
              "#9c179e"
             ],
             [
              0.4444444444444444,
              "#bd3786"
             ],
             [
              0.5555555555555556,
              "#d8576b"
             ],
             [
              0.6666666666666666,
              "#ed7953"
             ],
             [
              0.7777777777777778,
              "#fb9f3a"
             ],
             [
              0.8888888888888888,
              "#fdca26"
             ],
             [
              1,
              "#f0f921"
             ]
            ],
            "type": "surface"
           }
          ],
          "table": [
           {
            "cells": {
             "fill": {
              "color": "#EBF0F8"
             },
             "line": {
              "color": "white"
             }
            },
            "header": {
             "fill": {
              "color": "#C8D4E3"
             },
             "line": {
              "color": "white"
             }
            },
            "type": "table"
           }
          ]
         },
         "layout": {
          "annotationdefaults": {
           "arrowcolor": "#2a3f5f",
           "arrowhead": 0,
           "arrowwidth": 1
          },
          "autotypenumbers": "strict",
          "coloraxis": {
           "colorbar": {
            "outlinewidth": 0,
            "ticks": ""
           }
          },
          "colorscale": {
           "diverging": [
            [
             0,
             "#8e0152"
            ],
            [
             0.1,
             "#c51b7d"
            ],
            [
             0.2,
             "#de77ae"
            ],
            [
             0.3,
             "#f1b6da"
            ],
            [
             0.4,
             "#fde0ef"
            ],
            [
             0.5,
             "#f7f7f7"
            ],
            [
             0.6,
             "#e6f5d0"
            ],
            [
             0.7,
             "#b8e186"
            ],
            [
             0.8,
             "#7fbc41"
            ],
            [
             0.9,
             "#4d9221"
            ],
            [
             1,
             "#276419"
            ]
           ],
           "sequential": [
            [
             0,
             "#0d0887"
            ],
            [
             0.1111111111111111,
             "#46039f"
            ],
            [
             0.2222222222222222,
             "#7201a8"
            ],
            [
             0.3333333333333333,
             "#9c179e"
            ],
            [
             0.4444444444444444,
             "#bd3786"
            ],
            [
             0.5555555555555556,
             "#d8576b"
            ],
            [
             0.6666666666666666,
             "#ed7953"
            ],
            [
             0.7777777777777778,
             "#fb9f3a"
            ],
            [
             0.8888888888888888,
             "#fdca26"
            ],
            [
             1,
             "#f0f921"
            ]
           ],
           "sequentialminus": [
            [
             0,
             "#0d0887"
            ],
            [
             0.1111111111111111,
             "#46039f"
            ],
            [
             0.2222222222222222,
             "#7201a8"
            ],
            [
             0.3333333333333333,
             "#9c179e"
            ],
            [
             0.4444444444444444,
             "#bd3786"
            ],
            [
             0.5555555555555556,
             "#d8576b"
            ],
            [
             0.6666666666666666,
             "#ed7953"
            ],
            [
             0.7777777777777778,
             "#fb9f3a"
            ],
            [
             0.8888888888888888,
             "#fdca26"
            ],
            [
             1,
             "#f0f921"
            ]
           ]
          },
          "colorway": [
           "#636efa",
           "#EF553B",
           "#00cc96",
           "#ab63fa",
           "#FFA15A",
           "#19d3f3",
           "#FF6692",
           "#B6E880",
           "#FF97FF",
           "#FECB52"
          ],
          "font": {
           "color": "#2a3f5f"
          },
          "geo": {
           "bgcolor": "white",
           "lakecolor": "white",
           "landcolor": "#E5ECF6",
           "showlakes": true,
           "showland": true,
           "subunitcolor": "white"
          },
          "hoverlabel": {
           "align": "left"
          },
          "hovermode": "closest",
          "mapbox": {
           "style": "light"
          },
          "paper_bgcolor": "white",
          "plot_bgcolor": "#E5ECF6",
          "polar": {
           "angularaxis": {
            "gridcolor": "white",
            "linecolor": "white",
            "ticks": ""
           },
           "bgcolor": "#E5ECF6",
           "radialaxis": {
            "gridcolor": "white",
            "linecolor": "white",
            "ticks": ""
           }
          },
          "scene": {
           "xaxis": {
            "backgroundcolor": "#E5ECF6",
            "gridcolor": "white",
            "gridwidth": 2,
            "linecolor": "white",
            "showbackground": true,
            "ticks": "",
            "zerolinecolor": "white"
           },
           "yaxis": {
            "backgroundcolor": "#E5ECF6",
            "gridcolor": "white",
            "gridwidth": 2,
            "linecolor": "white",
            "showbackground": true,
            "ticks": "",
            "zerolinecolor": "white"
           },
           "zaxis": {
            "backgroundcolor": "#E5ECF6",
            "gridcolor": "white",
            "gridwidth": 2,
            "linecolor": "white",
            "showbackground": true,
            "ticks": "",
            "zerolinecolor": "white"
           }
          },
          "shapedefaults": {
           "line": {
            "color": "#2a3f5f"
           }
          },
          "ternary": {
           "aaxis": {
            "gridcolor": "white",
            "linecolor": "white",
            "ticks": ""
           },
           "baxis": {
            "gridcolor": "white",
            "linecolor": "white",
            "ticks": ""
           },
           "bgcolor": "#E5ECF6",
           "caxis": {
            "gridcolor": "white",
            "linecolor": "white",
            "ticks": ""
           }
          },
          "title": {
           "x": 0.05
          },
          "xaxis": {
           "automargin": true,
           "gridcolor": "white",
           "linecolor": "white",
           "ticks": "",
           "title": {
            "standoff": 15
           },
           "zerolinecolor": "white",
           "zerolinewidth": 2
          },
          "yaxis": {
           "automargin": true,
           "gridcolor": "white",
           "linecolor": "white",
           "ticks": "",
           "title": {
            "standoff": 15
           },
           "zerolinecolor": "white",
           "zerolinewidth": 2
          }
         }
        },
        "title": {
         "text": "Value selection for parameter L (document-based)"
        },
        "width": 1200,
        "xaxis": {
         "anchor": "y",
         "domain": [
          0,
          1
         ],
         "title": {
          "text": "Parameter L"
         }
        },
        "yaxis": {
         "anchor": "x",
         "domain": [
          0,
          1
         ],
         "title": {
          "text": "Percentage of interpretable topics"
         }
        }
       }
      },
      "text/html": [
       "<div>                            <div id=\"780cfe08-7d9e-40a5-bb7b-cd5defe592dc\" class=\"plotly-graph-div\" style=\"height:400px; width:1200px;\"></div>            <script type=\"text/javascript\">                require([\"plotly\"], function(Plotly) {                    window.PLOTLYENV=window.PLOTLYENV || {};                                    if (document.getElementById(\"780cfe08-7d9e-40a5-bb7b-cd5defe592dc\")) {                    Plotly.newPlot(                        \"780cfe08-7d9e-40a5-bb7b-cd5defe592dc\",                        [{\"hovertemplate\": \"Parameter L=%{x}<br>Percentage of interpretable topics=%{y}<extra></extra>\", \"legendgroup\": \"\", \"line\": {\"color\": \"#636efa\", \"dash\": \"solid\"}, \"mode\": \"lines+markers\", \"name\": \"\", \"orientation\": \"v\", \"showlegend\": false, \"type\": \"scatter\", \"x\": [1.0, 0.5, 0.3333333333333333, 0.25, 0.2, 0.16666666666666666, 0.14285714285714285, 0.125, 0.1111111111111111, 0.1, 0.09090909090909091, 0.08333333333333333, 0.07692307692307693, 0.07142857142857142, 0.06666666666666667, 0.0625, 0.058823529411764705, 0.05555555555555555, 0.05263157894736842], \"xaxis\": \"x\", \"y\": [0.0, 0.37142857142857144, 0.37142857142857144, 0.34285714285714286, 0.34285714285714286, 0.34285714285714286, 0.34285714285714286, 0.3142857142857143, 0.3142857142857143, 0.3142857142857143, 0.34285714285714286, 0.3142857142857143, 0.3142857142857143, 0.3142857142857143, 0.3142857142857143, 0.34285714285714286, 0.34285714285714286, 0.34285714285714286, 0.34285714285714286], \"yaxis\": \"y\"}],                        {\"autosize\": false, \"height\": 400, \"legend\": {\"tracegroupgap\": 0}, \"template\": {\"data\": {\"bar\": [{\"error_x\": {\"color\": \"#2a3f5f\"}, \"error_y\": {\"color\": \"#2a3f5f\"}, \"marker\": {\"line\": {\"color\": \"#E5ECF6\", \"width\": 0.5}}, \"type\": \"bar\"}], \"barpolar\": [{\"marker\": {\"line\": {\"color\": \"#E5ECF6\", \"width\": 0.5}}, \"type\": \"barpolar\"}], \"carpet\": [{\"aaxis\": {\"endlinecolor\": \"#2a3f5f\", \"gridcolor\": \"white\", \"linecolor\": \"white\", \"minorgridcolor\": \"white\", \"startlinecolor\": \"#2a3f5f\"}, \"baxis\": {\"endlinecolor\": \"#2a3f5f\", \"gridcolor\": \"white\", \"linecolor\": \"white\", \"minorgridcolor\": \"white\", \"startlinecolor\": \"#2a3f5f\"}, \"type\": \"carpet\"}], \"choropleth\": [{\"colorbar\": {\"outlinewidth\": 0, \"ticks\": \"\"}, \"type\": \"choropleth\"}], \"contour\": [{\"colorbar\": {\"outlinewidth\": 0, \"ticks\": \"\"}, \"colorscale\": [[0.0, \"#0d0887\"], [0.1111111111111111, \"#46039f\"], [0.2222222222222222, \"#7201a8\"], [0.3333333333333333, \"#9c179e\"], [0.4444444444444444, \"#bd3786\"], [0.5555555555555556, \"#d8576b\"], [0.6666666666666666, \"#ed7953\"], [0.7777777777777778, \"#fb9f3a\"], [0.8888888888888888, \"#fdca26\"], [1.0, \"#f0f921\"]], \"type\": \"contour\"}], \"contourcarpet\": [{\"colorbar\": {\"outlinewidth\": 0, \"ticks\": \"\"}, \"type\": \"contourcarpet\"}], \"heatmap\": [{\"colorbar\": {\"outlinewidth\": 0, \"ticks\": \"\"}, \"colorscale\": [[0.0, \"#0d0887\"], [0.1111111111111111, \"#46039f\"], [0.2222222222222222, \"#7201a8\"], [0.3333333333333333, \"#9c179e\"], [0.4444444444444444, \"#bd3786\"], [0.5555555555555556, \"#d8576b\"], [0.6666666666666666, \"#ed7953\"], [0.7777777777777778, \"#fb9f3a\"], [0.8888888888888888, \"#fdca26\"], [1.0, \"#f0f921\"]], \"type\": \"heatmap\"}], \"heatmapgl\": [{\"colorbar\": {\"outlinewidth\": 0, \"ticks\": \"\"}, \"colorscale\": [[0.0, \"#0d0887\"], [0.1111111111111111, \"#46039f\"], [0.2222222222222222, \"#7201a8\"], [0.3333333333333333, \"#9c179e\"], [0.4444444444444444, \"#bd3786\"], [0.5555555555555556, \"#d8576b\"], [0.6666666666666666, \"#ed7953\"], [0.7777777777777778, \"#fb9f3a\"], [0.8888888888888888, \"#fdca26\"], [1.0, \"#f0f921\"]], \"type\": \"heatmapgl\"}], \"histogram\": [{\"marker\": {\"colorbar\": {\"outlinewidth\": 0, \"ticks\": \"\"}}, \"type\": \"histogram\"}], \"histogram2d\": [{\"colorbar\": {\"outlinewidth\": 0, \"ticks\": \"\"}, \"colorscale\": [[0.0, \"#0d0887\"], [0.1111111111111111, \"#46039f\"], [0.2222222222222222, \"#7201a8\"], [0.3333333333333333, \"#9c179e\"], [0.4444444444444444, \"#bd3786\"], [0.5555555555555556, \"#d8576b\"], [0.6666666666666666, \"#ed7953\"], [0.7777777777777778, \"#fb9f3a\"], [0.8888888888888888, \"#fdca26\"], [1.0, \"#f0f921\"]], \"type\": \"histogram2d\"}], \"histogram2dcontour\": [{\"colorbar\": {\"outlinewidth\": 0, \"ticks\": \"\"}, \"colorscale\": [[0.0, \"#0d0887\"], [0.1111111111111111, \"#46039f\"], [0.2222222222222222, \"#7201a8\"], [0.3333333333333333, \"#9c179e\"], [0.4444444444444444, \"#bd3786\"], [0.5555555555555556, \"#d8576b\"], [0.6666666666666666, \"#ed7953\"], [0.7777777777777778, \"#fb9f3a\"], [0.8888888888888888, \"#fdca26\"], [1.0, \"#f0f921\"]], \"type\": \"histogram2dcontour\"}], \"mesh3d\": [{\"colorbar\": {\"outlinewidth\": 0, \"ticks\": \"\"}, \"type\": \"mesh3d\"}], \"parcoords\": [{\"line\": {\"colorbar\": {\"outlinewidth\": 0, \"ticks\": \"\"}}, \"type\": \"parcoords\"}], \"pie\": [{\"automargin\": true, \"type\": \"pie\"}], \"scatter\": [{\"marker\": {\"colorbar\": {\"outlinewidth\": 0, \"ticks\": \"\"}}, \"type\": \"scatter\"}], \"scatter3d\": [{\"line\": {\"colorbar\": {\"outlinewidth\": 0, \"ticks\": \"\"}}, \"marker\": {\"colorbar\": {\"outlinewidth\": 0, \"ticks\": \"\"}}, \"type\": \"scatter3d\"}], \"scattercarpet\": [{\"marker\": {\"colorbar\": {\"outlinewidth\": 0, \"ticks\": \"\"}}, \"type\": \"scattercarpet\"}], \"scattergeo\": [{\"marker\": {\"colorbar\": {\"outlinewidth\": 0, \"ticks\": \"\"}}, \"type\": \"scattergeo\"}], \"scattergl\": [{\"marker\": {\"colorbar\": {\"outlinewidth\": 0, \"ticks\": \"\"}}, \"type\": \"scattergl\"}], \"scattermapbox\": [{\"marker\": {\"colorbar\": {\"outlinewidth\": 0, \"ticks\": \"\"}}, \"type\": \"scattermapbox\"}], \"scatterpolar\": [{\"marker\": {\"colorbar\": {\"outlinewidth\": 0, \"ticks\": \"\"}}, \"type\": \"scatterpolar\"}], \"scatterpolargl\": [{\"marker\": {\"colorbar\": {\"outlinewidth\": 0, \"ticks\": \"\"}}, \"type\": \"scatterpolargl\"}], \"scatterternary\": [{\"marker\": {\"colorbar\": {\"outlinewidth\": 0, \"ticks\": \"\"}}, \"type\": \"scatterternary\"}], \"surface\": [{\"colorbar\": {\"outlinewidth\": 0, \"ticks\": \"\"}, \"colorscale\": [[0.0, \"#0d0887\"], [0.1111111111111111, \"#46039f\"], [0.2222222222222222, \"#7201a8\"], [0.3333333333333333, \"#9c179e\"], [0.4444444444444444, \"#bd3786\"], [0.5555555555555556, \"#d8576b\"], [0.6666666666666666, \"#ed7953\"], [0.7777777777777778, \"#fb9f3a\"], [0.8888888888888888, \"#fdca26\"], [1.0, \"#f0f921\"]], \"type\": \"surface\"}], \"table\": [{\"cells\": {\"fill\": {\"color\": \"#EBF0F8\"}, \"line\": {\"color\": \"white\"}}, \"header\": {\"fill\": {\"color\": \"#C8D4E3\"}, \"line\": {\"color\": \"white\"}}, \"type\": \"table\"}]}, \"layout\": {\"annotationdefaults\": {\"arrowcolor\": \"#2a3f5f\", \"arrowhead\": 0, \"arrowwidth\": 1}, \"autotypenumbers\": \"strict\", \"coloraxis\": {\"colorbar\": {\"outlinewidth\": 0, \"ticks\": \"\"}}, \"colorscale\": {\"diverging\": [[0, \"#8e0152\"], [0.1, \"#c51b7d\"], [0.2, \"#de77ae\"], [0.3, \"#f1b6da\"], [0.4, \"#fde0ef\"], [0.5, \"#f7f7f7\"], [0.6, \"#e6f5d0\"], [0.7, \"#b8e186\"], [0.8, \"#7fbc41\"], [0.9, \"#4d9221\"], [1, \"#276419\"]], \"sequential\": [[0.0, \"#0d0887\"], [0.1111111111111111, \"#46039f\"], [0.2222222222222222, \"#7201a8\"], [0.3333333333333333, \"#9c179e\"], [0.4444444444444444, \"#bd3786\"], [0.5555555555555556, \"#d8576b\"], [0.6666666666666666, \"#ed7953\"], [0.7777777777777778, \"#fb9f3a\"], [0.8888888888888888, \"#fdca26\"], [1.0, \"#f0f921\"]], \"sequentialminus\": [[0.0, \"#0d0887\"], [0.1111111111111111, \"#46039f\"], [0.2222222222222222, \"#7201a8\"], [0.3333333333333333, \"#9c179e\"], [0.4444444444444444, \"#bd3786\"], [0.5555555555555556, \"#d8576b\"], [0.6666666666666666, \"#ed7953\"], [0.7777777777777778, \"#fb9f3a\"], [0.8888888888888888, \"#fdca26\"], [1.0, \"#f0f921\"]]}, \"colorway\": [\"#636efa\", \"#EF553B\", \"#00cc96\", \"#ab63fa\", \"#FFA15A\", \"#19d3f3\", \"#FF6692\", \"#B6E880\", \"#FF97FF\", \"#FECB52\"], \"font\": {\"color\": \"#2a3f5f\"}, \"geo\": {\"bgcolor\": \"white\", \"lakecolor\": \"white\", \"landcolor\": \"#E5ECF6\", \"showlakes\": true, \"showland\": true, \"subunitcolor\": \"white\"}, \"hoverlabel\": {\"align\": \"left\"}, \"hovermode\": \"closest\", \"mapbox\": {\"style\": \"light\"}, \"paper_bgcolor\": \"white\", \"plot_bgcolor\": \"#E5ECF6\", \"polar\": {\"angularaxis\": {\"gridcolor\": \"white\", \"linecolor\": \"white\", \"ticks\": \"\"}, \"bgcolor\": \"#E5ECF6\", \"radialaxis\": {\"gridcolor\": \"white\", \"linecolor\": \"white\", \"ticks\": \"\"}}, \"scene\": {\"xaxis\": {\"backgroundcolor\": \"#E5ECF6\", \"gridcolor\": \"white\", \"gridwidth\": 2, \"linecolor\": \"white\", \"showbackground\": true, \"ticks\": \"\", \"zerolinecolor\": \"white\"}, \"yaxis\": {\"backgroundcolor\": \"#E5ECF6\", \"gridcolor\": \"white\", \"gridwidth\": 2, \"linecolor\": \"white\", \"showbackground\": true, \"ticks\": \"\", \"zerolinecolor\": \"white\"}, \"zaxis\": {\"backgroundcolor\": \"#E5ECF6\", \"gridcolor\": \"white\", \"gridwidth\": 2, \"linecolor\": \"white\", \"showbackground\": true, \"ticks\": \"\", \"zerolinecolor\": \"white\"}}, \"shapedefaults\": {\"line\": {\"color\": \"#2a3f5f\"}}, \"ternary\": {\"aaxis\": {\"gridcolor\": \"white\", \"linecolor\": \"white\", \"ticks\": \"\"}, \"baxis\": {\"gridcolor\": \"white\", \"linecolor\": \"white\", \"ticks\": \"\"}, \"bgcolor\": \"#E5ECF6\", \"caxis\": {\"gridcolor\": \"white\", \"linecolor\": \"white\", \"ticks\": \"\"}}, \"title\": {\"x\": 0.05}, \"xaxis\": {\"automargin\": true, \"gridcolor\": \"white\", \"linecolor\": \"white\", \"ticks\": \"\", \"title\": {\"standoff\": 15}, \"zerolinecolor\": \"white\", \"zerolinewidth\": 2}, \"yaxis\": {\"automargin\": true, \"gridcolor\": \"white\", \"linecolor\": \"white\", \"ticks\": \"\", \"title\": {\"standoff\": 15}, \"zerolinecolor\": \"white\", \"zerolinewidth\": 2}}}, \"title\": {\"text\": \"Value selection for parameter L (document-based)\"}, \"width\": 1200, \"xaxis\": {\"anchor\": \"y\", \"domain\": [0.0, 1.0], \"title\": {\"text\": \"Parameter L\"}}, \"yaxis\": {\"anchor\": \"x\", \"domain\": [0.0, 1.0], \"title\": {\"text\": \"Percentage of interpretable topics\"}}},                        {\"responsive\": true}                    ).then(function(){\n",
       "                            \n",
       "var gd = document.getElementById('780cfe08-7d9e-40a5-bb7b-cd5defe592dc');\n",
       "var x = new MutationObserver(function (mutations, observer) {{\n",
       "        var display = window.getComputedStyle(gd).display;\n",
       "        if (!display || display === 'none') {{\n",
       "            console.log([gd, 'removed!']);\n",
       "            Plotly.purge(gd);\n",
       "            observer.disconnect();\n",
       "        }}\n",
       "}});\n",
       "\n",
       "// Listen for the removal of the full notebook cells\n",
       "var notebookContainer = gd.closest('#notebook-container');\n",
       "if (notebookContainer) {{\n",
       "    x.observe(notebookContainer, {childList: true});\n",
       "}}\n",
       "\n",
       "// Listen for the clearing of the current output cell\n",
       "var outputEl = gd.closest('.output');\n",
       "if (outputEl) {{\n",
       "    x.observe(outputEl, {childList: true});\n",
       "}}\n",
       "\n",
       "                        })                };                });            </script>        </div>"
      ]
     },
     "metadata": {},
     "output_type": "display_data"
    }
   ],
   "source": [
    "list_perc1 = []\n",
    "for i in list_L:\n",
    "    num = perc(i, df_topic_distribution)\n",
    "    list_perc1.append(num)\n",
    "\n",
    "df_L1 = pd.DataFrame({'Parameter L': list_L, 'Percentage of interpretable topics': list_perc1})\n",
    "fig_L1 = px.line(df_L1, x = 'Parameter L', y=\"Percentage of interpretable topics\", title = 'Value selection for parameter L (document-based)')\n",
    "fig_L1.update_layout(autosize=False, width=1200, height=400)\n",
    "fig_L1.update_traces(mode = \"lines + markers\")\n",
    "fig_L1.show()"
   ]
  },
  {
   "cell_type": "markdown",
   "metadata": {},
   "source": [
    "The following chart shows that when L = 0.5, the the percentage of interpretable topics is 100%, so we set L = 0.5 - ie, each topic needs at least 2(1/L) paragraphs to be interpreted."
   ]
  },
  {
   "cell_type": "code",
   "execution_count": 125,
   "metadata": {},
   "outputs": [
    {
     "data": {
      "application/vnd.plotly.v1+json": {
       "config": {
        "plotlyServerURL": "https://plotly.com"
       },
       "data": [
        {
         "hovertemplate": "Parameter L=%{x}<br>Percentage of interpretable topics=%{y}<extra></extra>",
         "legendgroup": "",
         "line": {
          "color": "#636efa",
          "dash": "solid"
         },
         "mode": "lines+markers",
         "name": "",
         "orientation": "v",
         "showlegend": false,
         "type": "scatter",
         "x": [
          1,
          0.5,
          0.3333333333333333,
          0.25,
          0.2,
          0.16666666666666666,
          0.14285714285714285,
          0.125,
          0.1111111111111111,
          0.1,
          0.09090909090909091,
          0.08333333333333333,
          0.07692307692307693,
          0.07142857142857142,
          0.06666666666666667,
          0.0625,
          0.058823529411764705,
          0.05555555555555555,
          0.05263157894736842
         ],
         "xaxis": "x",
         "y": [
          0,
          0.05714285714285714,
          0.11428571428571428,
          0.2571428571428571,
          0.3142857142857143,
          0.34285714285714286,
          0.37142857142857144,
          0.42857142857142855,
          0.42857142857142855,
          0.45714285714285713,
          0.5142857142857142,
          0.5428571428571428,
          0.5428571428571428,
          0.5428571428571428,
          0.5428571428571428,
          0.5428571428571428,
          0.5428571428571428,
          0.5428571428571428,
          0.5428571428571428
         ],
         "yaxis": "y"
        }
       ],
       "layout": {
        "autosize": false,
        "height": 400,
        "legend": {
         "tracegroupgap": 0
        },
        "template": {
         "data": {
          "bar": [
           {
            "error_x": {
             "color": "#2a3f5f"
            },
            "error_y": {
             "color": "#2a3f5f"
            },
            "marker": {
             "line": {
              "color": "#E5ECF6",
              "width": 0.5
             }
            },
            "type": "bar"
           }
          ],
          "barpolar": [
           {
            "marker": {
             "line": {
              "color": "#E5ECF6",
              "width": 0.5
             }
            },
            "type": "barpolar"
           }
          ],
          "carpet": [
           {
            "aaxis": {
             "endlinecolor": "#2a3f5f",
             "gridcolor": "white",
             "linecolor": "white",
             "minorgridcolor": "white",
             "startlinecolor": "#2a3f5f"
            },
            "baxis": {
             "endlinecolor": "#2a3f5f",
             "gridcolor": "white",
             "linecolor": "white",
             "minorgridcolor": "white",
             "startlinecolor": "#2a3f5f"
            },
            "type": "carpet"
           }
          ],
          "choropleth": [
           {
            "colorbar": {
             "outlinewidth": 0,
             "ticks": ""
            },
            "type": "choropleth"
           }
          ],
          "contour": [
           {
            "colorbar": {
             "outlinewidth": 0,
             "ticks": ""
            },
            "colorscale": [
             [
              0,
              "#0d0887"
             ],
             [
              0.1111111111111111,
              "#46039f"
             ],
             [
              0.2222222222222222,
              "#7201a8"
             ],
             [
              0.3333333333333333,
              "#9c179e"
             ],
             [
              0.4444444444444444,
              "#bd3786"
             ],
             [
              0.5555555555555556,
              "#d8576b"
             ],
             [
              0.6666666666666666,
              "#ed7953"
             ],
             [
              0.7777777777777778,
              "#fb9f3a"
             ],
             [
              0.8888888888888888,
              "#fdca26"
             ],
             [
              1,
              "#f0f921"
             ]
            ],
            "type": "contour"
           }
          ],
          "contourcarpet": [
           {
            "colorbar": {
             "outlinewidth": 0,
             "ticks": ""
            },
            "type": "contourcarpet"
           }
          ],
          "heatmap": [
           {
            "colorbar": {
             "outlinewidth": 0,
             "ticks": ""
            },
            "colorscale": [
             [
              0,
              "#0d0887"
             ],
             [
              0.1111111111111111,
              "#46039f"
             ],
             [
              0.2222222222222222,
              "#7201a8"
             ],
             [
              0.3333333333333333,
              "#9c179e"
             ],
             [
              0.4444444444444444,
              "#bd3786"
             ],
             [
              0.5555555555555556,
              "#d8576b"
             ],
             [
              0.6666666666666666,
              "#ed7953"
             ],
             [
              0.7777777777777778,
              "#fb9f3a"
             ],
             [
              0.8888888888888888,
              "#fdca26"
             ],
             [
              1,
              "#f0f921"
             ]
            ],
            "type": "heatmap"
           }
          ],
          "heatmapgl": [
           {
            "colorbar": {
             "outlinewidth": 0,
             "ticks": ""
            },
            "colorscale": [
             [
              0,
              "#0d0887"
             ],
             [
              0.1111111111111111,
              "#46039f"
             ],
             [
              0.2222222222222222,
              "#7201a8"
             ],
             [
              0.3333333333333333,
              "#9c179e"
             ],
             [
              0.4444444444444444,
              "#bd3786"
             ],
             [
              0.5555555555555556,
              "#d8576b"
             ],
             [
              0.6666666666666666,
              "#ed7953"
             ],
             [
              0.7777777777777778,
              "#fb9f3a"
             ],
             [
              0.8888888888888888,
              "#fdca26"
             ],
             [
              1,
              "#f0f921"
             ]
            ],
            "type": "heatmapgl"
           }
          ],
          "histogram": [
           {
            "marker": {
             "colorbar": {
              "outlinewidth": 0,
              "ticks": ""
             }
            },
            "type": "histogram"
           }
          ],
          "histogram2d": [
           {
            "colorbar": {
             "outlinewidth": 0,
             "ticks": ""
            },
            "colorscale": [
             [
              0,
              "#0d0887"
             ],
             [
              0.1111111111111111,
              "#46039f"
             ],
             [
              0.2222222222222222,
              "#7201a8"
             ],
             [
              0.3333333333333333,
              "#9c179e"
             ],
             [
              0.4444444444444444,
              "#bd3786"
             ],
             [
              0.5555555555555556,
              "#d8576b"
             ],
             [
              0.6666666666666666,
              "#ed7953"
             ],
             [
              0.7777777777777778,
              "#fb9f3a"
             ],
             [
              0.8888888888888888,
              "#fdca26"
             ],
             [
              1,
              "#f0f921"
             ]
            ],
            "type": "histogram2d"
           }
          ],
          "histogram2dcontour": [
           {
            "colorbar": {
             "outlinewidth": 0,
             "ticks": ""
            },
            "colorscale": [
             [
              0,
              "#0d0887"
             ],
             [
              0.1111111111111111,
              "#46039f"
             ],
             [
              0.2222222222222222,
              "#7201a8"
             ],
             [
              0.3333333333333333,
              "#9c179e"
             ],
             [
              0.4444444444444444,
              "#bd3786"
             ],
             [
              0.5555555555555556,
              "#d8576b"
             ],
             [
              0.6666666666666666,
              "#ed7953"
             ],
             [
              0.7777777777777778,
              "#fb9f3a"
             ],
             [
              0.8888888888888888,
              "#fdca26"
             ],
             [
              1,
              "#f0f921"
             ]
            ],
            "type": "histogram2dcontour"
           }
          ],
          "mesh3d": [
           {
            "colorbar": {
             "outlinewidth": 0,
             "ticks": ""
            },
            "type": "mesh3d"
           }
          ],
          "parcoords": [
           {
            "line": {
             "colorbar": {
              "outlinewidth": 0,
              "ticks": ""
             }
            },
            "type": "parcoords"
           }
          ],
          "pie": [
           {
            "automargin": true,
            "type": "pie"
           }
          ],
          "scatter": [
           {
            "marker": {
             "colorbar": {
              "outlinewidth": 0,
              "ticks": ""
             }
            },
            "type": "scatter"
           }
          ],
          "scatter3d": [
           {
            "line": {
             "colorbar": {
              "outlinewidth": 0,
              "ticks": ""
             }
            },
            "marker": {
             "colorbar": {
              "outlinewidth": 0,
              "ticks": ""
             }
            },
            "type": "scatter3d"
           }
          ],
          "scattercarpet": [
           {
            "marker": {
             "colorbar": {
              "outlinewidth": 0,
              "ticks": ""
             }
            },
            "type": "scattercarpet"
           }
          ],
          "scattergeo": [
           {
            "marker": {
             "colorbar": {
              "outlinewidth": 0,
              "ticks": ""
             }
            },
            "type": "scattergeo"
           }
          ],
          "scattergl": [
           {
            "marker": {
             "colorbar": {
              "outlinewidth": 0,
              "ticks": ""
             }
            },
            "type": "scattergl"
           }
          ],
          "scattermapbox": [
           {
            "marker": {
             "colorbar": {
              "outlinewidth": 0,
              "ticks": ""
             }
            },
            "type": "scattermapbox"
           }
          ],
          "scatterpolar": [
           {
            "marker": {
             "colorbar": {
              "outlinewidth": 0,
              "ticks": ""
             }
            },
            "type": "scatterpolar"
           }
          ],
          "scatterpolargl": [
           {
            "marker": {
             "colorbar": {
              "outlinewidth": 0,
              "ticks": ""
             }
            },
            "type": "scatterpolargl"
           }
          ],
          "scatterternary": [
           {
            "marker": {
             "colorbar": {
              "outlinewidth": 0,
              "ticks": ""
             }
            },
            "type": "scatterternary"
           }
          ],
          "surface": [
           {
            "colorbar": {
             "outlinewidth": 0,
             "ticks": ""
            },
            "colorscale": [
             [
              0,
              "#0d0887"
             ],
             [
              0.1111111111111111,
              "#46039f"
             ],
             [
              0.2222222222222222,
              "#7201a8"
             ],
             [
              0.3333333333333333,
              "#9c179e"
             ],
             [
              0.4444444444444444,
              "#bd3786"
             ],
             [
              0.5555555555555556,
              "#d8576b"
             ],
             [
              0.6666666666666666,
              "#ed7953"
             ],
             [
              0.7777777777777778,
              "#fb9f3a"
             ],
             [
              0.8888888888888888,
              "#fdca26"
             ],
             [
              1,
              "#f0f921"
             ]
            ],
            "type": "surface"
           }
          ],
          "table": [
           {
            "cells": {
             "fill": {
              "color": "#EBF0F8"
             },
             "line": {
              "color": "white"
             }
            },
            "header": {
             "fill": {
              "color": "#C8D4E3"
             },
             "line": {
              "color": "white"
             }
            },
            "type": "table"
           }
          ]
         },
         "layout": {
          "annotationdefaults": {
           "arrowcolor": "#2a3f5f",
           "arrowhead": 0,
           "arrowwidth": 1
          },
          "autotypenumbers": "strict",
          "coloraxis": {
           "colorbar": {
            "outlinewidth": 0,
            "ticks": ""
           }
          },
          "colorscale": {
           "diverging": [
            [
             0,
             "#8e0152"
            ],
            [
             0.1,
             "#c51b7d"
            ],
            [
             0.2,
             "#de77ae"
            ],
            [
             0.3,
             "#f1b6da"
            ],
            [
             0.4,
             "#fde0ef"
            ],
            [
             0.5,
             "#f7f7f7"
            ],
            [
             0.6,
             "#e6f5d0"
            ],
            [
             0.7,
             "#b8e186"
            ],
            [
             0.8,
             "#7fbc41"
            ],
            [
             0.9,
             "#4d9221"
            ],
            [
             1,
             "#276419"
            ]
           ],
           "sequential": [
            [
             0,
             "#0d0887"
            ],
            [
             0.1111111111111111,
             "#46039f"
            ],
            [
             0.2222222222222222,
             "#7201a8"
            ],
            [
             0.3333333333333333,
             "#9c179e"
            ],
            [
             0.4444444444444444,
             "#bd3786"
            ],
            [
             0.5555555555555556,
             "#d8576b"
            ],
            [
             0.6666666666666666,
             "#ed7953"
            ],
            [
             0.7777777777777778,
             "#fb9f3a"
            ],
            [
             0.8888888888888888,
             "#fdca26"
            ],
            [
             1,
             "#f0f921"
            ]
           ],
           "sequentialminus": [
            [
             0,
             "#0d0887"
            ],
            [
             0.1111111111111111,
             "#46039f"
            ],
            [
             0.2222222222222222,
             "#7201a8"
            ],
            [
             0.3333333333333333,
             "#9c179e"
            ],
            [
             0.4444444444444444,
             "#bd3786"
            ],
            [
             0.5555555555555556,
             "#d8576b"
            ],
            [
             0.6666666666666666,
             "#ed7953"
            ],
            [
             0.7777777777777778,
             "#fb9f3a"
            ],
            [
             0.8888888888888888,
             "#fdca26"
            ],
            [
             1,
             "#f0f921"
            ]
           ]
          },
          "colorway": [
           "#636efa",
           "#EF553B",
           "#00cc96",
           "#ab63fa",
           "#FFA15A",
           "#19d3f3",
           "#FF6692",
           "#B6E880",
           "#FF97FF",
           "#FECB52"
          ],
          "font": {
           "color": "#2a3f5f"
          },
          "geo": {
           "bgcolor": "white",
           "lakecolor": "white",
           "landcolor": "#E5ECF6",
           "showlakes": true,
           "showland": true,
           "subunitcolor": "white"
          },
          "hoverlabel": {
           "align": "left"
          },
          "hovermode": "closest",
          "mapbox": {
           "style": "light"
          },
          "paper_bgcolor": "white",
          "plot_bgcolor": "#E5ECF6",
          "polar": {
           "angularaxis": {
            "gridcolor": "white",
            "linecolor": "white",
            "ticks": ""
           },
           "bgcolor": "#E5ECF6",
           "radialaxis": {
            "gridcolor": "white",
            "linecolor": "white",
            "ticks": ""
           }
          },
          "scene": {
           "xaxis": {
            "backgroundcolor": "#E5ECF6",
            "gridcolor": "white",
            "gridwidth": 2,
            "linecolor": "white",
            "showbackground": true,
            "ticks": "",
            "zerolinecolor": "white"
           },
           "yaxis": {
            "backgroundcolor": "#E5ECF6",
            "gridcolor": "white",
            "gridwidth": 2,
            "linecolor": "white",
            "showbackground": true,
            "ticks": "",
            "zerolinecolor": "white"
           },
           "zaxis": {
            "backgroundcolor": "#E5ECF6",
            "gridcolor": "white",
            "gridwidth": 2,
            "linecolor": "white",
            "showbackground": true,
            "ticks": "",
            "zerolinecolor": "white"
           }
          },
          "shapedefaults": {
           "line": {
            "color": "#2a3f5f"
           }
          },
          "ternary": {
           "aaxis": {
            "gridcolor": "white",
            "linecolor": "white",
            "ticks": ""
           },
           "baxis": {
            "gridcolor": "white",
            "linecolor": "white",
            "ticks": ""
           },
           "bgcolor": "#E5ECF6",
           "caxis": {
            "gridcolor": "white",
            "linecolor": "white",
            "ticks": ""
           }
          },
          "title": {
           "x": 0.05
          },
          "xaxis": {
           "automargin": true,
           "gridcolor": "white",
           "linecolor": "white",
           "ticks": "",
           "title": {
            "standoff": 15
           },
           "zerolinecolor": "white",
           "zerolinewidth": 2
          },
          "yaxis": {
           "automargin": true,
           "gridcolor": "white",
           "linecolor": "white",
           "ticks": "",
           "title": {
            "standoff": 15
           },
           "zerolinecolor": "white",
           "zerolinewidth": 2
          }
         }
        },
        "title": {
         "text": "Value selection for parameter L (paragraph-based )"
        },
        "width": 1200,
        "xaxis": {
         "anchor": "y",
         "domain": [
          0,
          1
         ],
         "title": {
          "text": "Parameter L"
         }
        },
        "yaxis": {
         "anchor": "x",
         "domain": [
          0,
          1
         ],
         "title": {
          "text": "Percentage of interpretable topics"
         }
        }
       }
      },
      "text/html": [
       "<div>                            <div id=\"b8b63ccf-dace-4144-aecd-bc7108943a92\" class=\"plotly-graph-div\" style=\"height:400px; width:1200px;\"></div>            <script type=\"text/javascript\">                require([\"plotly\"], function(Plotly) {                    window.PLOTLYENV=window.PLOTLYENV || {};                                    if (document.getElementById(\"b8b63ccf-dace-4144-aecd-bc7108943a92\")) {                    Plotly.newPlot(                        \"b8b63ccf-dace-4144-aecd-bc7108943a92\",                        [{\"hovertemplate\": \"Parameter L=%{x}<br>Percentage of interpretable topics=%{y}<extra></extra>\", \"legendgroup\": \"\", \"line\": {\"color\": \"#636efa\", \"dash\": \"solid\"}, \"mode\": \"lines+markers\", \"name\": \"\", \"orientation\": \"v\", \"showlegend\": false, \"type\": \"scatter\", \"x\": [1.0, 0.5, 0.3333333333333333, 0.25, 0.2, 0.16666666666666666, 0.14285714285714285, 0.125, 0.1111111111111111, 0.1, 0.09090909090909091, 0.08333333333333333, 0.07692307692307693, 0.07142857142857142, 0.06666666666666667, 0.0625, 0.058823529411764705, 0.05555555555555555, 0.05263157894736842], \"xaxis\": \"x\", \"y\": [0.0, 0.05714285714285714, 0.11428571428571428, 0.2571428571428571, 0.3142857142857143, 0.34285714285714286, 0.37142857142857144, 0.42857142857142855, 0.42857142857142855, 0.45714285714285713, 0.5142857142857142, 0.5428571428571428, 0.5428571428571428, 0.5428571428571428, 0.5428571428571428, 0.5428571428571428, 0.5428571428571428, 0.5428571428571428, 0.5428571428571428], \"yaxis\": \"y\"}],                        {\"autosize\": false, \"height\": 400, \"legend\": {\"tracegroupgap\": 0}, \"template\": {\"data\": {\"bar\": [{\"error_x\": {\"color\": \"#2a3f5f\"}, \"error_y\": {\"color\": \"#2a3f5f\"}, \"marker\": {\"line\": {\"color\": \"#E5ECF6\", \"width\": 0.5}}, \"type\": \"bar\"}], \"barpolar\": [{\"marker\": {\"line\": {\"color\": \"#E5ECF6\", \"width\": 0.5}}, \"type\": \"barpolar\"}], \"carpet\": [{\"aaxis\": {\"endlinecolor\": \"#2a3f5f\", \"gridcolor\": \"white\", \"linecolor\": \"white\", \"minorgridcolor\": \"white\", \"startlinecolor\": \"#2a3f5f\"}, \"baxis\": {\"endlinecolor\": \"#2a3f5f\", \"gridcolor\": \"white\", \"linecolor\": \"white\", \"minorgridcolor\": \"white\", \"startlinecolor\": \"#2a3f5f\"}, \"type\": \"carpet\"}], \"choropleth\": [{\"colorbar\": {\"outlinewidth\": 0, \"ticks\": \"\"}, \"type\": \"choropleth\"}], \"contour\": [{\"colorbar\": {\"outlinewidth\": 0, \"ticks\": \"\"}, \"colorscale\": [[0.0, \"#0d0887\"], [0.1111111111111111, \"#46039f\"], [0.2222222222222222, \"#7201a8\"], [0.3333333333333333, \"#9c179e\"], [0.4444444444444444, \"#bd3786\"], [0.5555555555555556, \"#d8576b\"], [0.6666666666666666, \"#ed7953\"], [0.7777777777777778, \"#fb9f3a\"], [0.8888888888888888, \"#fdca26\"], [1.0, \"#f0f921\"]], \"type\": \"contour\"}], \"contourcarpet\": [{\"colorbar\": {\"outlinewidth\": 0, \"ticks\": \"\"}, \"type\": \"contourcarpet\"}], \"heatmap\": [{\"colorbar\": {\"outlinewidth\": 0, \"ticks\": \"\"}, \"colorscale\": [[0.0, \"#0d0887\"], [0.1111111111111111, \"#46039f\"], [0.2222222222222222, \"#7201a8\"], [0.3333333333333333, \"#9c179e\"], [0.4444444444444444, \"#bd3786\"], [0.5555555555555556, \"#d8576b\"], [0.6666666666666666, \"#ed7953\"], [0.7777777777777778, \"#fb9f3a\"], [0.8888888888888888, \"#fdca26\"], [1.0, \"#f0f921\"]], \"type\": \"heatmap\"}], \"heatmapgl\": [{\"colorbar\": {\"outlinewidth\": 0, \"ticks\": \"\"}, \"colorscale\": [[0.0, \"#0d0887\"], [0.1111111111111111, \"#46039f\"], [0.2222222222222222, \"#7201a8\"], [0.3333333333333333, \"#9c179e\"], [0.4444444444444444, \"#bd3786\"], [0.5555555555555556, \"#d8576b\"], [0.6666666666666666, \"#ed7953\"], [0.7777777777777778, \"#fb9f3a\"], [0.8888888888888888, \"#fdca26\"], [1.0, \"#f0f921\"]], \"type\": \"heatmapgl\"}], \"histogram\": [{\"marker\": {\"colorbar\": {\"outlinewidth\": 0, \"ticks\": \"\"}}, \"type\": \"histogram\"}], \"histogram2d\": [{\"colorbar\": {\"outlinewidth\": 0, \"ticks\": \"\"}, \"colorscale\": [[0.0, \"#0d0887\"], [0.1111111111111111, \"#46039f\"], [0.2222222222222222, \"#7201a8\"], [0.3333333333333333, \"#9c179e\"], [0.4444444444444444, \"#bd3786\"], [0.5555555555555556, \"#d8576b\"], [0.6666666666666666, \"#ed7953\"], [0.7777777777777778, \"#fb9f3a\"], [0.8888888888888888, \"#fdca26\"], [1.0, \"#f0f921\"]], \"type\": \"histogram2d\"}], \"histogram2dcontour\": [{\"colorbar\": {\"outlinewidth\": 0, \"ticks\": \"\"}, \"colorscale\": [[0.0, \"#0d0887\"], [0.1111111111111111, \"#46039f\"], [0.2222222222222222, \"#7201a8\"], [0.3333333333333333, \"#9c179e\"], [0.4444444444444444, \"#bd3786\"], [0.5555555555555556, \"#d8576b\"], [0.6666666666666666, \"#ed7953\"], [0.7777777777777778, \"#fb9f3a\"], [0.8888888888888888, \"#fdca26\"], [1.0, \"#f0f921\"]], \"type\": \"histogram2dcontour\"}], \"mesh3d\": [{\"colorbar\": {\"outlinewidth\": 0, \"ticks\": \"\"}, \"type\": \"mesh3d\"}], \"parcoords\": [{\"line\": {\"colorbar\": {\"outlinewidth\": 0, \"ticks\": \"\"}}, \"type\": \"parcoords\"}], \"pie\": [{\"automargin\": true, \"type\": \"pie\"}], \"scatter\": [{\"marker\": {\"colorbar\": {\"outlinewidth\": 0, \"ticks\": \"\"}}, \"type\": \"scatter\"}], \"scatter3d\": [{\"line\": {\"colorbar\": {\"outlinewidth\": 0, \"ticks\": \"\"}}, \"marker\": {\"colorbar\": {\"outlinewidth\": 0, \"ticks\": \"\"}}, \"type\": \"scatter3d\"}], \"scattercarpet\": [{\"marker\": {\"colorbar\": {\"outlinewidth\": 0, \"ticks\": \"\"}}, \"type\": \"scattercarpet\"}], \"scattergeo\": [{\"marker\": {\"colorbar\": {\"outlinewidth\": 0, \"ticks\": \"\"}}, \"type\": \"scattergeo\"}], \"scattergl\": [{\"marker\": {\"colorbar\": {\"outlinewidth\": 0, \"ticks\": \"\"}}, \"type\": \"scattergl\"}], \"scattermapbox\": [{\"marker\": {\"colorbar\": {\"outlinewidth\": 0, \"ticks\": \"\"}}, \"type\": \"scattermapbox\"}], \"scatterpolar\": [{\"marker\": {\"colorbar\": {\"outlinewidth\": 0, \"ticks\": \"\"}}, \"type\": \"scatterpolar\"}], \"scatterpolargl\": [{\"marker\": {\"colorbar\": {\"outlinewidth\": 0, \"ticks\": \"\"}}, \"type\": \"scatterpolargl\"}], \"scatterternary\": [{\"marker\": {\"colorbar\": {\"outlinewidth\": 0, \"ticks\": \"\"}}, \"type\": \"scatterternary\"}], \"surface\": [{\"colorbar\": {\"outlinewidth\": 0, \"ticks\": \"\"}, \"colorscale\": [[0.0, \"#0d0887\"], [0.1111111111111111, \"#46039f\"], [0.2222222222222222, \"#7201a8\"], [0.3333333333333333, \"#9c179e\"], [0.4444444444444444, \"#bd3786\"], [0.5555555555555556, \"#d8576b\"], [0.6666666666666666, \"#ed7953\"], [0.7777777777777778, \"#fb9f3a\"], [0.8888888888888888, \"#fdca26\"], [1.0, \"#f0f921\"]], \"type\": \"surface\"}], \"table\": [{\"cells\": {\"fill\": {\"color\": \"#EBF0F8\"}, \"line\": {\"color\": \"white\"}}, \"header\": {\"fill\": {\"color\": \"#C8D4E3\"}, \"line\": {\"color\": \"white\"}}, \"type\": \"table\"}]}, \"layout\": {\"annotationdefaults\": {\"arrowcolor\": \"#2a3f5f\", \"arrowhead\": 0, \"arrowwidth\": 1}, \"autotypenumbers\": \"strict\", \"coloraxis\": {\"colorbar\": {\"outlinewidth\": 0, \"ticks\": \"\"}}, \"colorscale\": {\"diverging\": [[0, \"#8e0152\"], [0.1, \"#c51b7d\"], [0.2, \"#de77ae\"], [0.3, \"#f1b6da\"], [0.4, \"#fde0ef\"], [0.5, \"#f7f7f7\"], [0.6, \"#e6f5d0\"], [0.7, \"#b8e186\"], [0.8, \"#7fbc41\"], [0.9, \"#4d9221\"], [1, \"#276419\"]], \"sequential\": [[0.0, \"#0d0887\"], [0.1111111111111111, \"#46039f\"], [0.2222222222222222, \"#7201a8\"], [0.3333333333333333, \"#9c179e\"], [0.4444444444444444, \"#bd3786\"], [0.5555555555555556, \"#d8576b\"], [0.6666666666666666, \"#ed7953\"], [0.7777777777777778, \"#fb9f3a\"], [0.8888888888888888, \"#fdca26\"], [1.0, \"#f0f921\"]], \"sequentialminus\": [[0.0, \"#0d0887\"], [0.1111111111111111, \"#46039f\"], [0.2222222222222222, \"#7201a8\"], [0.3333333333333333, \"#9c179e\"], [0.4444444444444444, \"#bd3786\"], [0.5555555555555556, \"#d8576b\"], [0.6666666666666666, \"#ed7953\"], [0.7777777777777778, \"#fb9f3a\"], [0.8888888888888888, \"#fdca26\"], [1.0, \"#f0f921\"]]}, \"colorway\": [\"#636efa\", \"#EF553B\", \"#00cc96\", \"#ab63fa\", \"#FFA15A\", \"#19d3f3\", \"#FF6692\", \"#B6E880\", \"#FF97FF\", \"#FECB52\"], \"font\": {\"color\": \"#2a3f5f\"}, \"geo\": {\"bgcolor\": \"white\", \"lakecolor\": \"white\", \"landcolor\": \"#E5ECF6\", \"showlakes\": true, \"showland\": true, \"subunitcolor\": \"white\"}, \"hoverlabel\": {\"align\": \"left\"}, \"hovermode\": \"closest\", \"mapbox\": {\"style\": \"light\"}, \"paper_bgcolor\": \"white\", \"plot_bgcolor\": \"#E5ECF6\", \"polar\": {\"angularaxis\": {\"gridcolor\": \"white\", \"linecolor\": \"white\", \"ticks\": \"\"}, \"bgcolor\": \"#E5ECF6\", \"radialaxis\": {\"gridcolor\": \"white\", \"linecolor\": \"white\", \"ticks\": \"\"}}, \"scene\": {\"xaxis\": {\"backgroundcolor\": \"#E5ECF6\", \"gridcolor\": \"white\", \"gridwidth\": 2, \"linecolor\": \"white\", \"showbackground\": true, \"ticks\": \"\", \"zerolinecolor\": \"white\"}, \"yaxis\": {\"backgroundcolor\": \"#E5ECF6\", \"gridcolor\": \"white\", \"gridwidth\": 2, \"linecolor\": \"white\", \"showbackground\": true, \"ticks\": \"\", \"zerolinecolor\": \"white\"}, \"zaxis\": {\"backgroundcolor\": \"#E5ECF6\", \"gridcolor\": \"white\", \"gridwidth\": 2, \"linecolor\": \"white\", \"showbackground\": true, \"ticks\": \"\", \"zerolinecolor\": \"white\"}}, \"shapedefaults\": {\"line\": {\"color\": \"#2a3f5f\"}}, \"ternary\": {\"aaxis\": {\"gridcolor\": \"white\", \"linecolor\": \"white\", \"ticks\": \"\"}, \"baxis\": {\"gridcolor\": \"white\", \"linecolor\": \"white\", \"ticks\": \"\"}, \"bgcolor\": \"#E5ECF6\", \"caxis\": {\"gridcolor\": \"white\", \"linecolor\": \"white\", \"ticks\": \"\"}}, \"title\": {\"x\": 0.05}, \"xaxis\": {\"automargin\": true, \"gridcolor\": \"white\", \"linecolor\": \"white\", \"ticks\": \"\", \"title\": {\"standoff\": 15}, \"zerolinecolor\": \"white\", \"zerolinewidth\": 2}, \"yaxis\": {\"automargin\": true, \"gridcolor\": \"white\", \"linecolor\": \"white\", \"ticks\": \"\", \"title\": {\"standoff\": 15}, \"zerolinecolor\": \"white\", \"zerolinewidth\": 2}}}, \"title\": {\"text\": \"Value selection for parameter L (paragraph-based )\"}, \"width\": 1200, \"xaxis\": {\"anchor\": \"y\", \"domain\": [0.0, 1.0], \"title\": {\"text\": \"Parameter L\"}}, \"yaxis\": {\"anchor\": \"x\", \"domain\": [0.0, 1.0], \"title\": {\"text\": \"Percentage of interpretable topics\"}}},                        {\"responsive\": true}                    ).then(function(){\n",
       "                            \n",
       "var gd = document.getElementById('b8b63ccf-dace-4144-aecd-bc7108943a92');\n",
       "var x = new MutationObserver(function (mutations, observer) {{\n",
       "        var display = window.getComputedStyle(gd).display;\n",
       "        if (!display || display === 'none') {{\n",
       "            console.log([gd, 'removed!']);\n",
       "            Plotly.purge(gd);\n",
       "            observer.disconnect();\n",
       "        }}\n",
       "}});\n",
       "\n",
       "// Listen for the removal of the full notebook cells\n",
       "var notebookContainer = gd.closest('#notebook-container');\n",
       "if (notebookContainer) {{\n",
       "    x.observe(notebookContainer, {childList: true});\n",
       "}}\n",
       "\n",
       "// Listen for the clearing of the current output cell\n",
       "var outputEl = gd.closest('.output');\n",
       "if (outputEl) {{\n",
       "    x.observe(outputEl, {childList: true});\n",
       "}}\n",
       "\n",
       "                        })                };                });            </script>        </div>"
      ]
     },
     "metadata": {},
     "output_type": "display_data"
    }
   ],
   "source": [
    "df_topic_para2 = df_topic_para1.drop(['document_id', 'paragraphs'], axis = 1)\n",
    "list_perc2 = []\n",
    "for i in list_L:\n",
    "    num = perc(i, df_topic_para2)\n",
    "    list_perc2.append(num)\n",
    "\n",
    "df_L2 = pd.DataFrame({'Parameter L': list_L, 'Percentage of interpretable topics': list_perc2})\n",
    "fig_L2 = px.line(df_L2, x = 'Parameter L', y=\"Percentage of interpretable topics\", title = 'Value selection for parameter L (paragraph-based )')\n",
    "fig_L2.update_layout(autosize=False, width=1200, height=400)\n",
    "fig_L2.update_traces(mode = \"lines + markers\")\n",
    "fig_L2.show()"
   ]
  },
  {
   "cell_type": "markdown",
   "metadata": {},
   "source": [
    "### Prototypical paragraphs of each topic\n",
    "As we analysed shown above, for each topic we need to find 2 prototypical paragraphs with the highest probablity that they belong to the topic to interpret the topic. \n",
    "Then we could combine the prototypical paragraphs with the word frequncy demonstrated by pyLDAvis to interpret the topics."
   ]
  },
  {
   "cell_type": "code",
   "execution_count": 126,
   "metadata": {},
   "outputs": [
    {
     "data": {
      "text/html": [
       "<div>\n",
       "<style scoped>\n",
       "    .dataframe tbody tr th:only-of-type {\n",
       "        vertical-align: middle;\n",
       "    }\n",
       "\n",
       "    .dataframe tbody tr th {\n",
       "        vertical-align: top;\n",
       "    }\n",
       "\n",
       "    .dataframe thead th {\n",
       "        text-align: right;\n",
       "    }\n",
       "</style>\n",
       "<table border=\"1\" class=\"dataframe\">\n",
       "  <thead>\n",
       "    <tr style=\"text-align: right;\">\n",
       "      <th></th>\n",
       "      <th>topic_id</th>\n",
       "      <th>prototypical_para</th>\n",
       "    </tr>\n",
       "  </thead>\n",
       "  <tbody>\n",
       "    <tr>\n",
       "      <th>0</th>\n",
       "      <td>0</td>\n",
       "      <td>0    10-Year Transport Plan \n",
       "1                ...</td>\n",
       "    </tr>\n",
       "    <tr>\n",
       "      <th>1</th>\n",
       "      <td>1</td>\n",
       "      <td>4789    House of Commons Transport Committee L...</td>\n",
       "    </tr>\n",
       "    <tr>\n",
       "      <th>2</th>\n",
       "      <td>2</td>\n",
       "      <td>0    10-Year Transport Plan \n",
       "1                ...</td>\n",
       "    </tr>\n",
       "    <tr>\n",
       "      <th>3</th>\n",
       "      <td>3</td>\n",
       "      <td>11272    Mr. Townend: The right hon. Gentleman...</td>\n",
       "    </tr>\n",
       "    <tr>\n",
       "      <th>4</th>\n",
       "      <td>4</td>\n",
       "      <td>0    10-Year Transport Plan \n",
       "1                ...</td>\n",
       "    </tr>\n",
       "    <tr>\n",
       "      <th>5</th>\n",
       "      <td>5</td>\n",
       "      <td>4242    186 MINUTES OF EVIDENCE TAKEN BEFORE T...</td>\n",
       "    </tr>\n",
       "    <tr>\n",
       "      <th>6</th>\n",
       "      <td>6</td>\n",
       "      <td>798     Government Overview of the Case for Cr...</td>\n",
       "    </tr>\n",
       "    <tr>\n",
       "      <th>7</th>\n",
       "      <td>7</td>\n",
       "      <td>4195    Ev 84 Transport Committee: Written Evi...</td>\n",
       "    </tr>\n",
       "    <tr>\n",
       "      <th>8</th>\n",
       "      <td>8</td>\n",
       "      <td>7707    The Earl of Mar and Kellie My Lords, I...</td>\n",
       "    </tr>\n",
       "    <tr>\n",
       "      <th>9</th>\n",
       "      <td>9</td>\n",
       "      <td>10608    House of Commons Transport Committee ...</td>\n",
       "    </tr>\n",
       "    <tr>\n",
       "      <th>10</th>\n",
       "      <td>10</td>\n",
       "      <td>6427    FIGURE 4 Percentage chance of peak cro...</td>\n",
       "    </tr>\n",
       "    <tr>\n",
       "      <th>11</th>\n",
       "      <td>11</td>\n",
       "      <td>8744    TfL Annual Report 2003 - 20040340MAYOR...</td>\n",
       "    </tr>\n",
       "    <tr>\n",
       "      <th>12</th>\n",
       "      <td>12</td>\n",
       "      <td>0    10-Year Transport Plan \n",
       "1                ...</td>\n",
       "    </tr>\n",
       "    <tr>\n",
       "      <th>13</th>\n",
       "      <td>13</td>\n",
       "      <td>6077     House of Commons Transport Committee ...</td>\n",
       "    </tr>\n",
       "    <tr>\n",
       "      <th>14</th>\n",
       "      <td>14</td>\n",
       "      <td>10622    Ev 204 Transport Committee: Evidence ...</td>\n",
       "    </tr>\n",
       "    <tr>\n",
       "      <th>15</th>\n",
       "      <td>15</td>\n",
       "      <td>797     406372_Ch 18_Crossrail_TEXTCrossrail A...</td>\n",
       "    </tr>\n",
       "    <tr>\n",
       "      <th>16</th>\n",
       "      <td>16</td>\n",
       "      <td>7682    THE TRANSPORT SUB-COMMITTEE 59 Rail to...</td>\n",
       "    </tr>\n",
       "    <tr>\n",
       "      <th>17</th>\n",
       "      <td>17</td>\n",
       "      <td>3485    House of Commons Transport Committee F...</td>\n",
       "    </tr>\n",
       "    <tr>\n",
       "      <th>18</th>\n",
       "      <td>18</td>\n",
       "      <td>0    10-Year Transport Plan \n",
       "1                ...</td>\n",
       "    </tr>\n",
       "    <tr>\n",
       "      <th>19</th>\n",
       "      <td>19</td>\n",
       "      <td>2658    House of Commons Select Committee on t...</td>\n",
       "    </tr>\n",
       "    <tr>\n",
       "      <th>20</th>\n",
       "      <td>20</td>\n",
       "      <td>6296    Mr. Livingstone: If Londoners vote to ...</td>\n",
       "    </tr>\n",
       "    <tr>\n",
       "      <th>21</th>\n",
       "      <td>21</td>\n",
       "      <td>8768    Transport for London &gt; Annual Report a...</td>\n",
       "    </tr>\n",
       "    <tr>\n",
       "      <th>22</th>\n",
       "      <td>22</td>\n",
       "      <td>6792    The Chairman of Committees (Lord Braba...</td>\n",
       "    </tr>\n",
       "    <tr>\n",
       "      <th>23</th>\n",
       "      <td>23</td>\n",
       "      <td>6537    THE PRlVATlSATlON OF BRITISH RAIL Pres...</td>\n",
       "    </tr>\n",
       "    <tr>\n",
       "      <th>24</th>\n",
       "      <td>24</td>\n",
       "      <td>0    10-Year Transport Plan \n",
       "1                ...</td>\n",
       "    </tr>\n",
       "    <tr>\n",
       "      <th>25</th>\n",
       "      <td>25</td>\n",
       "      <td>42    Making connections: using the Park &amp; Rid...</td>\n",
       "    </tr>\n",
       "    <tr>\n",
       "      <th>26</th>\n",
       "      <td>26</td>\n",
       "      <td>5551    Lord Mountevans My Lords, perhaps I ma...</td>\n",
       "    </tr>\n",
       "    <tr>\n",
       "      <th>27</th>\n",
       "      <td>27</td>\n",
       "      <td>6792    The Chairman of Committees (Lord Braba...</td>\n",
       "    </tr>\n",
       "    <tr>\n",
       "      <th>28</th>\n",
       "      <td>28</td>\n",
       "      <td>0    10-Year Transport Plan \n",
       "1                ...</td>\n",
       "    </tr>\n",
       "    <tr>\n",
       "      <th>29</th>\n",
       "      <td>29</td>\n",
       "      <td>4237    HOUSE OF COMMONS TRANSPORT COMMITTEE '...</td>\n",
       "    </tr>\n",
       "    <tr>\n",
       "      <th>30</th>\n",
       "      <td>30</td>\n",
       "      <td>0    10-Year Transport Plan \n",
       "1                ...</td>\n",
       "    </tr>\n",
       "    <tr>\n",
       "      <th>31</th>\n",
       "      <td>31</td>\n",
       "      <td>4063    In my constituency of Leeds, North-Eas...</td>\n",
       "    </tr>\n",
       "    <tr>\n",
       "      <th>32</th>\n",
       "      <td>32</td>\n",
       "      <td>3167    Mr. Mike Gapes  (Ilford, South) What r...</td>\n",
       "    </tr>\n",
       "    <tr>\n",
       "      <th>33</th>\n",
       "      <td>33</td>\n",
       "      <td>8833    House of Commons Transport Committee T...</td>\n",
       "    </tr>\n",
       "    <tr>\n",
       "      <th>34</th>\n",
       "      <td>34</td>\n",
       "      <td>1428    Motion made, That the Crossrail Bill b...</td>\n",
       "    </tr>\n",
       "  </tbody>\n",
       "</table>\n",
       "</div>"
      ],
      "text/plain": [
       "    topic_id                                  prototypical_para\n",
       "0          0  0    10-Year Transport Plan \n",
       "1                ...\n",
       "1          1  4789    House of Commons Transport Committee L...\n",
       "2          2  0    10-Year Transport Plan \n",
       "1                ...\n",
       "3          3  11272    Mr. Townend: The right hon. Gentleman...\n",
       "4          4  0    10-Year Transport Plan \n",
       "1                ...\n",
       "5          5  4242    186 MINUTES OF EVIDENCE TAKEN BEFORE T...\n",
       "6          6  798     Government Overview of the Case for Cr...\n",
       "7          7  4195    Ev 84 Transport Committee: Written Evi...\n",
       "8          8  7707    The Earl of Mar and Kellie My Lords, I...\n",
       "9          9  10608    House of Commons Transport Committee ...\n",
       "10        10  6427    FIGURE 4 Percentage chance of peak cro...\n",
       "11        11  8744    TfL Annual Report 2003 - 20040340MAYOR...\n",
       "12        12  0    10-Year Transport Plan \n",
       "1                ...\n",
       "13        13  6077     House of Commons Transport Committee ...\n",
       "14        14  10622    Ev 204 Transport Committee: Evidence ...\n",
       "15        15  797     406372_Ch 18_Crossrail_TEXTCrossrail A...\n",
       "16        16  7682    THE TRANSPORT SUB-COMMITTEE 59 Rail to...\n",
       "17        17  3485    House of Commons Transport Committee F...\n",
       "18        18  0    10-Year Transport Plan \n",
       "1                ...\n",
       "19        19  2658    House of Commons Select Committee on t...\n",
       "20        20  6296    Mr. Livingstone: If Londoners vote to ...\n",
       "21        21  8768    Transport for London > Annual Report a...\n",
       "22        22  6792    The Chairman of Committees (Lord Braba...\n",
       "23        23  6537    THE PRlVATlSATlON OF BRITISH RAIL Pres...\n",
       "24        24  0    10-Year Transport Plan \n",
       "1                ...\n",
       "25        25  42    Making connections: using the Park & Rid...\n",
       "26        26  5551    Lord Mountevans My Lords, perhaps I ma...\n",
       "27        27  6792    The Chairman of Committees (Lord Braba...\n",
       "28        28  0    10-Year Transport Plan \n",
       "1                ...\n",
       "29        29  4237    HOUSE OF COMMONS TRANSPORT COMMITTEE '...\n",
       "30        30  0    10-Year Transport Plan \n",
       "1                ...\n",
       "31        31  4063    In my constituency of Leeds, North-Eas...\n",
       "32        32  3167    Mr. Mike Gapes  (Ilford, South) What r...\n",
       "33        33  8833    House of Commons Transport Committee T...\n",
       "34        34  1428    Motion made, That the Crossrail Bill b..."
      ]
     },
     "execution_count": 126,
     "metadata": {},
     "output_type": "execute_result"
    }
   ],
   "source": [
    "list_text = []\n",
    "df_topic_para3 = df_topic_para1.iloc[:, 2:]\n",
    "for i in range(0, k):\n",
    "    dict_text = {}\n",
    "    dict_text['topic_id'] = df_topic_para1.columns[i + 2]\n",
    "    dict_text['prototypical_para'] = df_topic_para1.nlargest(2, [i])['paragraphs']\n",
    "    list_text.append(dict_text)\n",
    "df_proto = pd.DataFrame(list_text)\n",
    "df_proto"
   ]
  },
  {
   "cell_type": "markdown",
   "metadata": {},
   "source": [
    "# Build topic model on paragraphs"
   ]
  },
  {
   "cell_type": "code",
   "execution_count": 128,
   "metadata": {},
   "outputs": [],
   "source": [
    "# tokenization\n",
    "data2 = df_para.paragraphs.values.tolist()\n",
    "data_words2_2 = list(sent_to_words(data2))"
   ]
  },
  {
   "cell_type": "code",
   "execution_count": 129,
   "metadata": {},
   "outputs": [],
   "source": [
    "# set the length of word threshold for removing the words less than the threshold\n",
    "minimum_len = 4 \n",
    "data_words2 = []\n",
    "for i in data_words2_2:\n",
    "    new_element = [x for x in i if len(x) >= minimum_len]\n",
    "    data_words2.append(new_element)"
   ]
  },
  {
   "cell_type": "code",
   "execution_count": 130,
   "metadata": {},
   "outputs": [],
   "source": [
    "# Bigram & Trigram\n",
    "bigram2 = gensim.models.Phrases(data_words2, min_count=5, threshold=100) # higher threshold fewer phrases.\n",
    "trigram2 = gensim.models.Phrases(bigram2[data_words2], threshold=100)  \n",
    "bigram_mod2 = gensim.models.phrases.Phraser(bigram2)\n",
    "trigram_mod2 = gensim.models.phrases.Phraser(trigram2)"
   ]
  },
  {
   "cell_type": "code",
   "execution_count": null,
   "metadata": {},
   "outputs": [],
   "source": [
    "# Remove Stop Words\n",
    "data_words_nostops2 = remove_stopwords(data_words2)\n",
    "\n",
    "# Form Trigrams\n",
    "data_words_trigrams2 = make_trigrams(data_words_nostops2)\n",
    "\n",
    "# Do lemmatization keeping only noun, adj, vb, adv\n",
    "data_lemmatized2 = lemmatization(data_words_trigrams2, allowed_postags=['NOUN', 'ADJ', 'VERB', 'ADV'])"
   ]
  },
  {
   "cell_type": "code",
   "execution_count": null,
   "metadata": {},
   "outputs": [],
   "source": [
    "# Create Dictionary\n",
    "id2word2 = corpora.Dictionary(data_lemmatized2)\n",
    "\n",
    "# Create Corpus\n",
    "texts2 = data_lemmatized2\n",
    "\n",
    "# Term Document Frequency\n",
    "corpus2 = [id2word2.doc2bow(text) for text in texts]"
   ]
  },
  {
   "cell_type": "code",
   "execution_count": null,
   "metadata": {},
   "outputs": [],
   "source": [
    "lda_model2 = gensim.models.LdaModel(\n",
    "    corpus=corpus2,\n",
    "    id2word=id2word2,\n",
    "    alpha=alpha,\n",
    "    eta=eta,\n",
    "    iterations=iterations,\n",
    "    num_topics=k,\n",
    "    passes=passes)"
   ]
  },
  {
   "cell_type": "code",
   "execution_count": null,
   "metadata": {},
   "outputs": [],
   "source": [
    "# Compute Coherence Score\n",
    "coherence_model_lda2 = CoherenceModel(model=lda_model2, texts=data_lemmatized2, dictionary=id2word2, coherence='c_v')\n",
    "coherence_lda2 = coherence_model_lda2.get_coherence()\n",
    "print('\\nCoherence Score: ', coherence_lda2)"
   ]
  },
  {
   "cell_type": "code",
   "execution_count": null,
   "metadata": {},
   "outputs": [],
   "source": [
    "# Visualize the topics\n",
    "vis2 = pyLDAvis.gensim_models.prepare(lda_model2, corpus2, id2word2, sort_topics = False)\n",
    "vis2"
   ]
  },
  {
   "cell_type": "code",
   "execution_count": null,
   "metadata": {},
   "outputs": [],
   "source": []
  }
 ],
 "metadata": {
  "kernelspec": {
   "display_name": "Python 3",
   "language": "python",
   "name": "python3"
  },
  "language_info": {
   "codemirror_mode": {
    "name": "ipython",
    "version": 3
   },
   "file_extension": ".py",
   "mimetype": "text/x-python",
   "name": "python",
   "nbconvert_exporter": "python",
   "pygments_lexer": "ipython3",
   "version": "3.8.3"
  }
 },
 "nbformat": 4,
 "nbformat_minor": 4
}
